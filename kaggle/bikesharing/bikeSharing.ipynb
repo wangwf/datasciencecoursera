{
 "metadata": {
  "name": "",
  "signature": "sha256:c010ed059d67ed35d2ba6188ee43ea3c65dc6021544f8e42fbfd31090e2a7b7c"
 },
 "nbformat": 3,
 "nbformat_minor": 0,
 "worksheets": [
  {
   "cells": [
    {
     "cell_type": "code",
     "collapsed": false,
     "input": [
      "import graphlab as gl\n",
      "\n",
      "# load training data\n",
      "training_column_types = [str,int,int,int,int,float,float,int,float,int,int,int]\n",
      "training_sframe = gl.SFrame.read_csv('train.csv', column_type_hints=training_column_types)\n",
      "\n",
      "# load test data\n",
      "test_column_types = [str,int,int,int,int,float,float,int,float]\n",
      "test_sframe = gl.SFrame.read_csv('test.csv', column_type_hints=test_column_types)\n",
      "\n"
     ],
     "language": "python",
     "metadata": {},
     "outputs": [
      {
       "output_type": "stream",
       "stream": "stderr",
       "text": [
        "[INFO] Start server at: ipc:///tmp/graphlab_server-24296 - Server binary: /usr/local/lib/python2.7/dist-packages/graphlab/unity_server - Server log: /tmp/graphlab_server_1411409561.log\n"
       ]
      },
      {
       "output_type": "stream",
       "stream": "stderr",
       "text": [
        "[INFO] GraphLab Server Version: 0.9.1\n"
       ]
      },
      {
       "html": [
        "<pre>PROGRESS: Finished parsing file /home/wenfeng/work/datasciencecoursera/kaggle/bikesharing/train.csv</pre>"
       ],
       "metadata": {},
       "output_type": "display_data",
       "text": [
        "PROGRESS: Finished parsing file /home/wenfeng/work/datasciencecoursera/kaggle/bikesharing/train.csv"
       ]
      },
      {
       "html": [
        "<pre>PROGRESS: Parsing completed. Parsed 10886 lines in 0.050189 secs.</pre>"
       ],
       "metadata": {},
       "output_type": "display_data",
       "text": [
        "PROGRESS: Parsing completed. Parsed 10886 lines in 0.050189 secs."
       ]
      },
      {
       "html": [
        "<pre>PROGRESS: Finished parsing file /home/wenfeng/work/datasciencecoursera/kaggle/bikesharing/test.csv</pre>"
       ],
       "metadata": {},
       "output_type": "display_data",
       "text": [
        "PROGRESS: Finished parsing file /home/wenfeng/work/datasciencecoursera/kaggle/bikesharing/test.csv"
       ]
      },
      {
       "html": [
        "<pre>PROGRESS: Parsing completed. Parsed 6493 lines in 0.008805 secs.</pre>"
       ],
       "metadata": {},
       "output_type": "display_data",
       "text": [
        "PROGRESS: Parsing completed. Parsed 6493 lines in 0.008805 secs."
       ]
      }
     ],
     "prompt_number": 1
    },
    {
     "cell_type": "code",
     "collapsed": false,
     "input": [
      "# train a model 1\n",
      "features = ['datetime', 'season', 'holiday', 'workingday', 'weather',\n",
      "            'temp', 'atemp', 'humidity', 'windspeed']\n",
      "m = gl.boosted_trees.create(training_sframe,\n",
      "                            features=features, \n",
      "                            target='count', objective='regression',\n",
      "                            num_iterations=100)\n"
     ],
     "language": "python",
     "metadata": {},
     "outputs": [
      {
       "html": [
        "<pre>PROGRESS: [0]\ttrain-rmse:212.349731</pre>"
       ],
       "metadata": {},
       "output_type": "display_data",
       "text": [
        "PROGRESS: [0]\ttrain-rmse:212.349731"
       ]
      },
      {
       "html": [
        "<pre>PROGRESS: [1]\ttrain-rmse:181.626587</pre>"
       ],
       "metadata": {},
       "output_type": "display_data",
       "text": [
        "PROGRESS: [1]\ttrain-rmse:181.626587"
       ]
      },
      {
       "html": [
        "<pre>PROGRESS: [2]\ttrain-rmse:163.595764</pre>"
       ],
       "metadata": {},
       "output_type": "display_data",
       "text": [
        "PROGRESS: [2]\ttrain-rmse:163.595764"
       ]
      },
      {
       "html": [
        "<pre>PROGRESS: [3]\ttrain-rmse:153.628387</pre>"
       ],
       "metadata": {},
       "output_type": "display_data",
       "text": [
        "PROGRESS: [3]\ttrain-rmse:153.628387"
       ]
      },
      {
       "html": [
        "<pre>PROGRESS: [4]\ttrain-rmse:147.573715</pre>"
       ],
       "metadata": {},
       "output_type": "display_data",
       "text": [
        "PROGRESS: [4]\ttrain-rmse:147.573715"
       ]
      },
      {
       "html": [
        "<pre>PROGRESS: [5]\ttrain-rmse:144.053741</pre>"
       ],
       "metadata": {},
       "output_type": "display_data",
       "text": [
        "PROGRESS: [5]\ttrain-rmse:144.053741"
       ]
      },
      {
       "html": [
        "<pre>PROGRESS: [6]\ttrain-rmse:142.214325</pre>"
       ],
       "metadata": {},
       "output_type": "display_data",
       "text": [
        "PROGRESS: [6]\ttrain-rmse:142.214325"
       ]
      },
      {
       "html": [
        "<pre>PROGRESS: [7]\ttrain-rmse:140.709198</pre>"
       ],
       "metadata": {},
       "output_type": "display_data",
       "text": [
        "PROGRESS: [7]\ttrain-rmse:140.709198"
       ]
      },
      {
       "html": [
        "<pre>PROGRESS: [8]\ttrain-rmse:140.023819</pre>"
       ],
       "metadata": {},
       "output_type": "display_data",
       "text": [
        "PROGRESS: [8]\ttrain-rmse:140.023819"
       ]
      },
      {
       "html": [
        "<pre>PROGRESS: [9]\ttrain-rmse:139.626572</pre>"
       ],
       "metadata": {},
       "output_type": "display_data",
       "text": [
        "PROGRESS: [9]\ttrain-rmse:139.626572"
       ]
      },
      {
       "html": [
        "<pre>PROGRESS: [10]\ttrain-rmse:139.302444</pre>"
       ],
       "metadata": {},
       "output_type": "display_data",
       "text": [
        "PROGRESS: [10]\ttrain-rmse:139.302444"
       ]
      },
      {
       "html": [
        "<pre>PROGRESS: [11]\ttrain-rmse:139.116257</pre>"
       ],
       "metadata": {},
       "output_type": "display_data",
       "text": [
        "PROGRESS: [11]\ttrain-rmse:139.116257"
       ]
      },
      {
       "html": [
        "<pre>PROGRESS: [12]\ttrain-rmse:138.948883</pre>"
       ],
       "metadata": {},
       "output_type": "display_data",
       "text": [
        "PROGRESS: [12]\ttrain-rmse:138.948883"
       ]
      },
      {
       "html": [
        "<pre>PROGRESS: [13]\ttrain-rmse:138.769745</pre>"
       ],
       "metadata": {},
       "output_type": "display_data",
       "text": [
        "PROGRESS: [13]\ttrain-rmse:138.769745"
       ]
      },
      {
       "html": [
        "<pre>PROGRESS: [14]\ttrain-rmse:138.617233</pre>"
       ],
       "metadata": {},
       "output_type": "display_data",
       "text": [
        "PROGRESS: [14]\ttrain-rmse:138.617233"
       ]
      },
      {
       "html": [
        "<pre>PROGRESS: [15]\ttrain-rmse:138.469757</pre>"
       ],
       "metadata": {},
       "output_type": "display_data",
       "text": [
        "PROGRESS: [15]\ttrain-rmse:138.469757"
       ]
      },
      {
       "html": [
        "<pre>PROGRESS: [16]\ttrain-rmse:138.327667</pre>"
       ],
       "metadata": {},
       "output_type": "display_data",
       "text": [
        "PROGRESS: [16]\ttrain-rmse:138.327667"
       ]
      },
      {
       "html": [
        "<pre>PROGRESS: [17]\ttrain-rmse:138.188110</pre>"
       ],
       "metadata": {},
       "output_type": "display_data",
       "text": [
        "PROGRESS: [17]\ttrain-rmse:138.188110"
       ]
      },
      {
       "html": [
        "<pre>PROGRESS: [18]\ttrain-rmse:138.051270</pre>"
       ],
       "metadata": {},
       "output_type": "display_data",
       "text": [
        "PROGRESS: [18]\ttrain-rmse:138.051270"
       ]
      },
      {
       "html": [
        "<pre>PROGRESS: [19]\ttrain-rmse:137.917130</pre>"
       ],
       "metadata": {},
       "output_type": "display_data",
       "text": [
        "PROGRESS: [19]\ttrain-rmse:137.917130"
       ]
      },
      {
       "html": [
        "<pre>PROGRESS: [20]\ttrain-rmse:137.784241</pre>"
       ],
       "metadata": {},
       "output_type": "display_data",
       "text": [
        "PROGRESS: [20]\ttrain-rmse:137.784241"
       ]
      },
      {
       "html": [
        "<pre>PROGRESS: [21]\ttrain-rmse:137.652512</pre>"
       ],
       "metadata": {},
       "output_type": "display_data",
       "text": [
        "PROGRESS: [21]\ttrain-rmse:137.652512"
       ]
      },
      {
       "html": [
        "<pre>PROGRESS: [22]\ttrain-rmse:137.522186</pre>"
       ],
       "metadata": {},
       "output_type": "display_data",
       "text": [
        "PROGRESS: [22]\ttrain-rmse:137.522186"
       ]
      },
      {
       "html": [
        "<pre>PROGRESS: [23]\ttrain-rmse:137.394012</pre>"
       ],
       "metadata": {},
       "output_type": "display_data",
       "text": [
        "PROGRESS: [23]\ttrain-rmse:137.394012"
       ]
      },
      {
       "html": [
        "<pre>PROGRESS: [24]\ttrain-rmse:137.267288</pre>"
       ],
       "metadata": {},
       "output_type": "display_data",
       "text": [
        "PROGRESS: [24]\ttrain-rmse:137.267288"
       ]
      },
      {
       "html": [
        "<pre>PROGRESS: [25]\ttrain-rmse:137.141876</pre>"
       ],
       "metadata": {},
       "output_type": "display_data",
       "text": [
        "PROGRESS: [25]\ttrain-rmse:137.141876"
       ]
      },
      {
       "html": [
        "<pre>PROGRESS: [26]\ttrain-rmse:137.017502</pre>"
       ],
       "metadata": {},
       "output_type": "display_data",
       "text": [
        "PROGRESS: [26]\ttrain-rmse:137.017502"
       ]
      },
      {
       "html": [
        "<pre>PROGRESS: [27]\ttrain-rmse:136.894470</pre>"
       ],
       "metadata": {},
       "output_type": "display_data",
       "text": [
        "PROGRESS: [27]\ttrain-rmse:136.894470"
       ]
      },
      {
       "html": [
        "<pre>PROGRESS: [28]\ttrain-rmse:136.772583</pre>"
       ],
       "metadata": {},
       "output_type": "display_data",
       "text": [
        "PROGRESS: [28]\ttrain-rmse:136.772583"
       ]
      },
      {
       "html": [
        "<pre>PROGRESS: [29]\ttrain-rmse:136.651489</pre>"
       ],
       "metadata": {},
       "output_type": "display_data",
       "text": [
        "PROGRESS: [29]\ttrain-rmse:136.651489"
       ]
      },
      {
       "html": [
        "<pre>PROGRESS: [30]\ttrain-rmse:136.531616</pre>"
       ],
       "metadata": {},
       "output_type": "display_data",
       "text": [
        "PROGRESS: [30]\ttrain-rmse:136.531616"
       ]
      },
      {
       "html": [
        "<pre>PROGRESS: [31]\ttrain-rmse:136.335663</pre>"
       ],
       "metadata": {},
       "output_type": "display_data",
       "text": [
        "PROGRESS: [31]\ttrain-rmse:136.335663"
       ]
      },
      {
       "html": [
        "<pre>PROGRESS: [32]\ttrain-rmse:136.217453</pre>"
       ],
       "metadata": {},
       "output_type": "display_data",
       "text": [
        "PROGRESS: [32]\ttrain-rmse:136.217453"
       ]
      },
      {
       "html": [
        "<pre>PROGRESS: [33]\ttrain-rmse:136.100601</pre>"
       ],
       "metadata": {},
       "output_type": "display_data",
       "text": [
        "PROGRESS: [33]\ttrain-rmse:136.100601"
       ]
      },
      {
       "html": [
        "<pre>PROGRESS: [34]\ttrain-rmse:135.984238</pre>"
       ],
       "metadata": {},
       "output_type": "display_data",
       "text": [
        "PROGRESS: [34]\ttrain-rmse:135.984238"
       ]
      },
      {
       "html": [
        "<pre>PROGRESS: [35]\ttrain-rmse:135.868286</pre>"
       ],
       "metadata": {},
       "output_type": "display_data",
       "text": [
        "PROGRESS: [35]\ttrain-rmse:135.868286"
       ]
      },
      {
       "html": [
        "<pre>PROGRESS: [36]\ttrain-rmse:135.753250</pre>"
       ],
       "metadata": {},
       "output_type": "display_data",
       "text": [
        "PROGRESS: [36]\ttrain-rmse:135.753250"
       ]
      },
      {
       "html": [
        "<pre>PROGRESS: [37]\ttrain-rmse:135.640198</pre>"
       ],
       "metadata": {},
       "output_type": "display_data",
       "text": [
        "PROGRESS: [37]\ttrain-rmse:135.640198"
       ]
      },
      {
       "html": [
        "<pre>PROGRESS: [38]\ttrain-rmse:135.525879</pre>"
       ],
       "metadata": {},
       "output_type": "display_data",
       "text": [
        "PROGRESS: [38]\ttrain-rmse:135.525879"
       ]
      },
      {
       "html": [
        "<pre>PROGRESS: [39]\ttrain-rmse:135.412384</pre>"
       ],
       "metadata": {},
       "output_type": "display_data",
       "text": [
        "PROGRESS: [39]\ttrain-rmse:135.412384"
       ]
      },
      {
       "html": [
        "<pre>PROGRESS: [40]\ttrain-rmse:135.299713</pre>"
       ],
       "metadata": {},
       "output_type": "display_data",
       "text": [
        "PROGRESS: [40]\ttrain-rmse:135.299713"
       ]
      },
      {
       "html": [
        "<pre>PROGRESS: [41]\ttrain-rmse:135.187500</pre>"
       ],
       "metadata": {},
       "output_type": "display_data",
       "text": [
        "PROGRESS: [41]\ttrain-rmse:135.187500"
       ]
      },
      {
       "html": [
        "<pre>PROGRESS: [42]\ttrain-rmse:135.076096</pre>"
       ],
       "metadata": {},
       "output_type": "display_data",
       "text": [
        "PROGRESS: [42]\ttrain-rmse:135.076096"
       ]
      },
      {
       "html": [
        "<pre>PROGRESS: [43]\ttrain-rmse:134.965042</pre>"
       ],
       "metadata": {},
       "output_type": "display_data",
       "text": [
        "PROGRESS: [43]\ttrain-rmse:134.965042"
       ]
      },
      {
       "html": [
        "<pre>PROGRESS: [44]\ttrain-rmse:134.854477</pre>"
       ],
       "metadata": {},
       "output_type": "display_data",
       "text": [
        "PROGRESS: [44]\ttrain-rmse:134.854477"
       ]
      },
      {
       "html": [
        "<pre>PROGRESS: [45]\ttrain-rmse:134.744812</pre>"
       ],
       "metadata": {},
       "output_type": "display_data",
       "text": [
        "PROGRESS: [45]\ttrain-rmse:134.744812"
       ]
      },
      {
       "html": [
        "<pre>PROGRESS: [46]\ttrain-rmse:134.636063</pre>"
       ],
       "metadata": {},
       "output_type": "display_data",
       "text": [
        "PROGRESS: [46]\ttrain-rmse:134.636063"
       ]
      },
      {
       "html": [
        "<pre>PROGRESS: [47]\ttrain-rmse:134.529160</pre>"
       ],
       "metadata": {},
       "output_type": "display_data",
       "text": [
        "PROGRESS: [47]\ttrain-rmse:134.529160"
       ]
      },
      {
       "html": [
        "<pre>PROGRESS: [48]\ttrain-rmse:134.423325</pre>"
       ],
       "metadata": {},
       "output_type": "display_data",
       "text": [
        "PROGRESS: [48]\ttrain-rmse:134.423325"
       ]
      },
      {
       "html": [
        "<pre>PROGRESS: [49]\ttrain-rmse:134.318695</pre>"
       ],
       "metadata": {},
       "output_type": "display_data",
       "text": [
        "PROGRESS: [49]\ttrain-rmse:134.318695"
       ]
      },
      {
       "html": [
        "<pre>PROGRESS: [50]\ttrain-rmse:134.214569</pre>"
       ],
       "metadata": {},
       "output_type": "display_data",
       "text": [
        "PROGRESS: [50]\ttrain-rmse:134.214569"
       ]
      },
      {
       "html": [
        "<pre>PROGRESS: [51]\ttrain-rmse:134.110931</pre>"
       ],
       "metadata": {},
       "output_type": "display_data",
       "text": [
        "PROGRESS: [51]\ttrain-rmse:134.110931"
       ]
      },
      {
       "html": [
        "<pre>PROGRESS: [52]\ttrain-rmse:134.008179</pre>"
       ],
       "metadata": {},
       "output_type": "display_data",
       "text": [
        "PROGRESS: [52]\ttrain-rmse:134.008179"
       ]
      },
      {
       "html": [
        "<pre>PROGRESS: [53]\ttrain-rmse:133.906326</pre>"
       ],
       "metadata": {},
       "output_type": "display_data",
       "text": [
        "PROGRESS: [53]\ttrain-rmse:133.906326"
       ]
      },
      {
       "html": [
        "<pre>PROGRESS: [54]\ttrain-rmse:133.805603</pre>"
       ],
       "metadata": {},
       "output_type": "display_data",
       "text": [
        "PROGRESS: [54]\ttrain-rmse:133.805603"
       ]
      },
      {
       "html": [
        "<pre>PROGRESS: [55]\ttrain-rmse:133.705765</pre>"
       ],
       "metadata": {},
       "output_type": "display_data",
       "text": [
        "PROGRESS: [55]\ttrain-rmse:133.705765"
       ]
      },
      {
       "html": [
        "<pre>PROGRESS: [56]\ttrain-rmse:133.606247</pre>"
       ],
       "metadata": {},
       "output_type": "display_data",
       "text": [
        "PROGRESS: [56]\ttrain-rmse:133.606247"
       ]
      },
      {
       "html": [
        "<pre>PROGRESS: [57]\ttrain-rmse:133.507141</pre>"
       ],
       "metadata": {},
       "output_type": "display_data",
       "text": [
        "PROGRESS: [57]\ttrain-rmse:133.507141"
       ]
      },
      {
       "html": [
        "<pre>PROGRESS: [58]\ttrain-rmse:133.408508</pre>"
       ],
       "metadata": {},
       "output_type": "display_data",
       "text": [
        "PROGRESS: [58]\ttrain-rmse:133.408508"
       ]
      },
      {
       "html": [
        "<pre>PROGRESS: [59]\ttrain-rmse:133.310379</pre>"
       ],
       "metadata": {},
       "output_type": "display_data",
       "text": [
        "PROGRESS: [59]\ttrain-rmse:133.310379"
       ]
      },
      {
       "html": [
        "<pre>PROGRESS: [60]\ttrain-rmse:133.212967</pre>"
       ],
       "metadata": {},
       "output_type": "display_data",
       "text": [
        "PROGRESS: [60]\ttrain-rmse:133.212967"
       ]
      },
      {
       "html": [
        "<pre>PROGRESS: [61]\ttrain-rmse:133.115967</pre>"
       ],
       "metadata": {},
       "output_type": "display_data",
       "text": [
        "PROGRESS: [61]\ttrain-rmse:133.115967"
       ]
      },
      {
       "html": [
        "<pre>PROGRESS: [62]\ttrain-rmse:133.016708</pre>"
       ],
       "metadata": {},
       "output_type": "display_data",
       "text": [
        "PROGRESS: [62]\ttrain-rmse:133.016708"
       ]
      },
      {
       "html": [
        "<pre>PROGRESS: [63]\ttrain-rmse:132.920868</pre>"
       ],
       "metadata": {},
       "output_type": "display_data",
       "text": [
        "PROGRESS: [63]\ttrain-rmse:132.920868"
       ]
      },
      {
       "html": [
        "<pre>PROGRESS: [64]\ttrain-rmse:132.825516</pre>"
       ],
       "metadata": {},
       "output_type": "display_data",
       "text": [
        "PROGRESS: [64]\ttrain-rmse:132.825516"
       ]
      },
      {
       "html": [
        "<pre>PROGRESS: [65]\ttrain-rmse:132.730865</pre>"
       ],
       "metadata": {},
       "output_type": "display_data",
       "text": [
        "PROGRESS: [65]\ttrain-rmse:132.730865"
       ]
      },
      {
       "html": [
        "<pre>PROGRESS: [66]\ttrain-rmse:132.636597</pre>"
       ],
       "metadata": {},
       "output_type": "display_data",
       "text": [
        "PROGRESS: [66]\ttrain-rmse:132.636597"
       ]
      },
      {
       "html": [
        "<pre>PROGRESS: [67]\ttrain-rmse:132.542679</pre>"
       ],
       "metadata": {},
       "output_type": "display_data",
       "text": [
        "PROGRESS: [67]\ttrain-rmse:132.542679"
       ]
      },
      {
       "html": [
        "<pre>PROGRESS: [68]\ttrain-rmse:132.449524</pre>"
       ],
       "metadata": {},
       "output_type": "display_data",
       "text": [
        "PROGRESS: [68]\ttrain-rmse:132.449524"
       ]
      },
      {
       "html": [
        "<pre>PROGRESS: [69]\ttrain-rmse:132.356400</pre>"
       ],
       "metadata": {},
       "output_type": "display_data",
       "text": [
        "PROGRESS: [69]\ttrain-rmse:132.356400"
       ]
      },
      {
       "html": [
        "<pre>PROGRESS: [70]\ttrain-rmse:132.263672</pre>"
       ],
       "metadata": {},
       "output_type": "display_data",
       "text": [
        "PROGRESS: [70]\ttrain-rmse:132.263672"
       ]
      },
      {
       "html": [
        "<pre>PROGRESS: [71]\ttrain-rmse:132.171371</pre>"
       ],
       "metadata": {},
       "output_type": "display_data",
       "text": [
        "PROGRESS: [71]\ttrain-rmse:132.171371"
       ]
      },
      {
       "html": [
        "<pre>PROGRESS: [72]\ttrain-rmse:132.079544</pre>"
       ],
       "metadata": {},
       "output_type": "display_data",
       "text": [
        "PROGRESS: [72]\ttrain-rmse:132.079544"
       ]
      },
      {
       "html": [
        "<pre>PROGRESS: [73]\ttrain-rmse:131.988342</pre>"
       ],
       "metadata": {},
       "output_type": "display_data",
       "text": [
        "PROGRESS: [73]\ttrain-rmse:131.988342"
       ]
      },
      {
       "html": [
        "<pre>PROGRESS: [74]\ttrain-rmse:131.897278</pre>"
       ],
       "metadata": {},
       "output_type": "display_data",
       "text": [
        "PROGRESS: [74]\ttrain-rmse:131.897278"
       ]
      },
      {
       "html": [
        "<pre>PROGRESS: [75]\ttrain-rmse:131.806534</pre>"
       ],
       "metadata": {},
       "output_type": "display_data",
       "text": [
        "PROGRESS: [75]\ttrain-rmse:131.806534"
       ]
      },
      {
       "html": [
        "<pre>PROGRESS: [76]\ttrain-rmse:131.716156</pre>"
       ],
       "metadata": {},
       "output_type": "display_data",
       "text": [
        "PROGRESS: [76]\ttrain-rmse:131.716156"
       ]
      },
      {
       "html": [
        "<pre>PROGRESS: [77]\ttrain-rmse:131.570984</pre>"
       ],
       "metadata": {},
       "output_type": "display_data",
       "text": [
        "PROGRESS: [77]\ttrain-rmse:131.570984"
       ]
      },
      {
       "html": [
        "<pre>PROGRESS: [78]\ttrain-rmse:131.481262</pre>"
       ],
       "metadata": {},
       "output_type": "display_data",
       "text": [
        "PROGRESS: [78]\ttrain-rmse:131.481262"
       ]
      },
      {
       "html": [
        "<pre>PROGRESS: [79]\ttrain-rmse:131.391922</pre>"
       ],
       "metadata": {},
       "output_type": "display_data",
       "text": [
        "PROGRESS: [79]\ttrain-rmse:131.391922"
       ]
      },
      {
       "html": [
        "<pre>PROGRESS: [80]\ttrain-rmse:131.302826</pre>"
       ],
       "metadata": {},
       "output_type": "display_data",
       "text": [
        "PROGRESS: [80]\ttrain-rmse:131.302826"
       ]
      },
      {
       "html": [
        "<pre>PROGRESS: [81]\ttrain-rmse:131.214218</pre>"
       ],
       "metadata": {},
       "output_type": "display_data",
       "text": [
        "PROGRESS: [81]\ttrain-rmse:131.214218"
       ]
      },
      {
       "html": [
        "<pre>PROGRESS: [82]\ttrain-rmse:131.125946</pre>"
       ],
       "metadata": {},
       "output_type": "display_data",
       "text": [
        "PROGRESS: [82]\ttrain-rmse:131.125946"
       ]
      },
      {
       "html": [
        "<pre>PROGRESS: [83]\ttrain-rmse:131.037964</pre>"
       ],
       "metadata": {},
       "output_type": "display_data",
       "text": [
        "PROGRESS: [83]\ttrain-rmse:131.037964"
       ]
      },
      {
       "html": [
        "<pre>PROGRESS: [84]\ttrain-rmse:130.951294</pre>"
       ],
       "metadata": {},
       "output_type": "display_data",
       "text": [
        "PROGRESS: [84]\ttrain-rmse:130.951294"
       ]
      },
      {
       "html": [
        "<pre>PROGRESS: [85]\ttrain-rmse:130.863586</pre>"
       ],
       "metadata": {},
       "output_type": "display_data",
       "text": [
        "PROGRESS: [85]\ttrain-rmse:130.863586"
       ]
      },
      {
       "html": [
        "<pre>PROGRESS: [86]\ttrain-rmse:130.776749</pre>"
       ],
       "metadata": {},
       "output_type": "display_data",
       "text": [
        "PROGRESS: [86]\ttrain-rmse:130.776749"
       ]
      },
      {
       "html": [
        "<pre>PROGRESS: [87]\ttrain-rmse:130.690155</pre>"
       ],
       "metadata": {},
       "output_type": "display_data",
       "text": [
        "PROGRESS: [87]\ttrain-rmse:130.690155"
       ]
      },
      {
       "html": [
        "<pre>PROGRESS: [88]\ttrain-rmse:130.603790</pre>"
       ],
       "metadata": {},
       "output_type": "display_data",
       "text": [
        "PROGRESS: [88]\ttrain-rmse:130.603790"
       ]
      },
      {
       "html": [
        "<pre>PROGRESS: [89]\ttrain-rmse:130.517914</pre>"
       ],
       "metadata": {},
       "output_type": "display_data",
       "text": [
        "PROGRESS: [89]\ttrain-rmse:130.517914"
       ]
      },
      {
       "html": [
        "<pre>PROGRESS: [90]\ttrain-rmse:130.432648</pre>"
       ],
       "metadata": {},
       "output_type": "display_data",
       "text": [
        "PROGRESS: [90]\ttrain-rmse:130.432648"
       ]
      },
      {
       "html": [
        "<pre>PROGRESS: [91]\ttrain-rmse:130.347687</pre>"
       ],
       "metadata": {},
       "output_type": "display_data",
       "text": [
        "PROGRESS: [91]\ttrain-rmse:130.347687"
       ]
      },
      {
       "html": [
        "<pre>PROGRESS: [92]\ttrain-rmse:130.263016</pre>"
       ],
       "metadata": {},
       "output_type": "display_data",
       "text": [
        "PROGRESS: [92]\ttrain-rmse:130.263016"
       ]
      },
      {
       "html": [
        "<pre>PROGRESS: [93]\ttrain-rmse:130.178909</pre>"
       ],
       "metadata": {},
       "output_type": "display_data",
       "text": [
        "PROGRESS: [93]\ttrain-rmse:130.178909"
       ]
      },
      {
       "html": [
        "<pre>PROGRESS: [94]\ttrain-rmse:130.094925</pre>"
       ],
       "metadata": {},
       "output_type": "display_data",
       "text": [
        "PROGRESS: [94]\ttrain-rmse:130.094925"
       ]
      },
      {
       "html": [
        "<pre>PROGRESS: [95]\ttrain-rmse:130.011276</pre>"
       ],
       "metadata": {},
       "output_type": "display_data",
       "text": [
        "PROGRESS: [95]\ttrain-rmse:130.011276"
       ]
      },
      {
       "html": [
        "<pre>PROGRESS: [96]\ttrain-rmse:129.928207</pre>"
       ],
       "metadata": {},
       "output_type": "display_data",
       "text": [
        "PROGRESS: [96]\ttrain-rmse:129.928207"
       ]
      },
      {
       "html": [
        "<pre>PROGRESS: [97]\ttrain-rmse:129.845490</pre>"
       ],
       "metadata": {},
       "output_type": "display_data",
       "text": [
        "PROGRESS: [97]\ttrain-rmse:129.845490"
       ]
      },
      {
       "html": [
        "<pre>PROGRESS: [98]\ttrain-rmse:129.763535</pre>"
       ],
       "metadata": {},
       "output_type": "display_data",
       "text": [
        "PROGRESS: [98]\ttrain-rmse:129.763535"
       ]
      },
      {
       "html": [
        "<pre>PROGRESS: [99]\ttrain-rmse:129.682388</pre>"
       ],
       "metadata": {},
       "output_type": "display_data",
       "text": [
        "PROGRESS: [99]\ttrain-rmse:129.682388"
       ]
      }
     ],
     "prompt_number": 2
    },
    {
     "cell_type": "code",
     "collapsed": false,
     "input": [
      "import numpy as np\n",
      "def rmse(predictions, targets):\n",
      "    return np.sqrt( ((predictions - targets) *(predictions - targets)).mean())\n",
      "pred1 = m.predict(training_sframe)\n",
      "rmse(training_sframe['count']+1, pred1)\n"
     ],
     "language": "python",
     "metadata": {},
     "outputs": [
      {
       "metadata": {},
       "output_type": "pyout",
       "prompt_number": 4,
       "text": [
        "129.68705126325904"
       ]
      }
     ],
     "prompt_number": 4
    },
    {
     "cell_type": "code",
     "collapsed": false,
     "input": [
      "# predict on test data\n",
      "prediction = m.predict(test_sframe)\n",
      "prediction = prediction.astype(int)\n"
     ],
     "language": "python",
     "metadata": {},
     "outputs": [],
     "prompt_number": 5
    },
    {
     "cell_type": "code",
     "collapsed": false,
     "input": [
      "## Parse the datetime column\n",
      "from datetime import datetime\n",
      "date_format_str = '%Y-%m-%d %H:%M:%S'\n",
      "\n",
      "def parse_date(date_str):\n",
      "    \"\"\" parse datetime tuple \"\"\"\n",
      "    d = datetime.strptime(date_str, date_format_str)\n",
      "    return {'year':d.year, 'month':d.month, 'day':d.day,\n",
      "            'hour':d.hour, 'weekday':d.weekday()}\n",
      "\n",
      "def process_date_column(data_sframe):\n",
      "    \"\"\"Split the 'datetime' column of a given sframe\"\"\"\n",
      "    parsed_date = data_sframe['datetime'].apply(parse_date).unpack(column_name_prefix='')\n",
      "    for col in ['year', 'month', 'day', 'hour', 'weekday']:\n",
      "        data_sframe[col] = parsed_date[col]\n",
      "\n",
      "process_date_column(training_sframe)\n",
      "process_date_column(test_sframe)\n",
      "training_sframe.head()"
     ],
     "language": "python",
     "metadata": {},
     "outputs": [
      {
       "html": [
        "<div style=\"max-height:1000px;max-width:1500px;overflow:auto;\"><table frame=\"box\" rules=\"cols\">\n",
        "    <tr>\n",
        "        <th style=\"padding-left: 1em; padding-right: 1em; text-align: center\">datetime</th>\n",
        "        <th style=\"padding-left: 1em; padding-right: 1em; text-align: center\">season</th>\n",
        "        <th style=\"padding-left: 1em; padding-right: 1em; text-align: center\">holiday</th>\n",
        "        <th style=\"padding-left: 1em; padding-right: 1em; text-align: center\">workingday</th>\n",
        "        <th style=\"padding-left: 1em; padding-right: 1em; text-align: center\">weather</th>\n",
        "        <th style=\"padding-left: 1em; padding-right: 1em; text-align: center\">temp</th>\n",
        "        <th style=\"padding-left: 1em; padding-right: 1em; text-align: center\">atemp</th>\n",
        "        <th style=\"padding-left: 1em; padding-right: 1em; text-align: center\">humidity</th>\n",
        "        <th style=\"padding-left: 1em; padding-right: 1em; text-align: center\">windspeed</th>\n",
        "        <th style=\"padding-left: 1em; padding-right: 1em; text-align: center\">casual</th>\n",
        "        <th style=\"padding-left: 1em; padding-right: 1em; text-align: center\">registered</th>\n",
        "    </tr>\n",
        "    <tr>\n",
        "        <td style=\"padding-left: 1em; padding-right: 1em; text-align: center; vertical-align: top\">2011-01-01 00:00:00</td>\n",
        "        <td style=\"padding-left: 1em; padding-right: 1em; text-align: center; vertical-align: top\">1</td>\n",
        "        <td style=\"padding-left: 1em; padding-right: 1em; text-align: center; vertical-align: top\">0</td>\n",
        "        <td style=\"padding-left: 1em; padding-right: 1em; text-align: center; vertical-align: top\">0</td>\n",
        "        <td style=\"padding-left: 1em; padding-right: 1em; text-align: center; vertical-align: top\">1</td>\n",
        "        <td style=\"padding-left: 1em; padding-right: 1em; text-align: center; vertical-align: top\">9.84</td>\n",
        "        <td style=\"padding-left: 1em; padding-right: 1em; text-align: center; vertical-align: top\">14.395</td>\n",
        "        <td style=\"padding-left: 1em; padding-right: 1em; text-align: center; vertical-align: top\">81</td>\n",
        "        <td style=\"padding-left: 1em; padding-right: 1em; text-align: center; vertical-align: top\">0.0</td>\n",
        "        <td style=\"padding-left: 1em; padding-right: 1em; text-align: center; vertical-align: top\">3</td>\n",
        "        <td style=\"padding-left: 1em; padding-right: 1em; text-align: center; vertical-align: top\">13</td>\n",
        "    </tr>\n",
        "    <tr>\n",
        "        <td style=\"padding-left: 1em; padding-right: 1em; text-align: center; vertical-align: top\">2011-01-01 01:00:00</td>\n",
        "        <td style=\"padding-left: 1em; padding-right: 1em; text-align: center; vertical-align: top\">1</td>\n",
        "        <td style=\"padding-left: 1em; padding-right: 1em; text-align: center; vertical-align: top\">0</td>\n",
        "        <td style=\"padding-left: 1em; padding-right: 1em; text-align: center; vertical-align: top\">0</td>\n",
        "        <td style=\"padding-left: 1em; padding-right: 1em; text-align: center; vertical-align: top\">1</td>\n",
        "        <td style=\"padding-left: 1em; padding-right: 1em; text-align: center; vertical-align: top\">9.02</td>\n",
        "        <td style=\"padding-left: 1em; padding-right: 1em; text-align: center; vertical-align: top\">13.635</td>\n",
        "        <td style=\"padding-left: 1em; padding-right: 1em; text-align: center; vertical-align: top\">80</td>\n",
        "        <td style=\"padding-left: 1em; padding-right: 1em; text-align: center; vertical-align: top\">0.0</td>\n",
        "        <td style=\"padding-left: 1em; padding-right: 1em; text-align: center; vertical-align: top\">8</td>\n",
        "        <td style=\"padding-left: 1em; padding-right: 1em; text-align: center; vertical-align: top\">32</td>\n",
        "    </tr>\n",
        "    <tr>\n",
        "        <td style=\"padding-left: 1em; padding-right: 1em; text-align: center; vertical-align: top\">2011-01-01 02:00:00</td>\n",
        "        <td style=\"padding-left: 1em; padding-right: 1em; text-align: center; vertical-align: top\">1</td>\n",
        "        <td style=\"padding-left: 1em; padding-right: 1em; text-align: center; vertical-align: top\">0</td>\n",
        "        <td style=\"padding-left: 1em; padding-right: 1em; text-align: center; vertical-align: top\">0</td>\n",
        "        <td style=\"padding-left: 1em; padding-right: 1em; text-align: center; vertical-align: top\">1</td>\n",
        "        <td style=\"padding-left: 1em; padding-right: 1em; text-align: center; vertical-align: top\">9.02</td>\n",
        "        <td style=\"padding-left: 1em; padding-right: 1em; text-align: center; vertical-align: top\">13.635</td>\n",
        "        <td style=\"padding-left: 1em; padding-right: 1em; text-align: center; vertical-align: top\">80</td>\n",
        "        <td style=\"padding-left: 1em; padding-right: 1em; text-align: center; vertical-align: top\">0.0</td>\n",
        "        <td style=\"padding-left: 1em; padding-right: 1em; text-align: center; vertical-align: top\">5</td>\n",
        "        <td style=\"padding-left: 1em; padding-right: 1em; text-align: center; vertical-align: top\">27</td>\n",
        "    </tr>\n",
        "    <tr>\n",
        "        <td style=\"padding-left: 1em; padding-right: 1em; text-align: center; vertical-align: top\">2011-01-01 03:00:00</td>\n",
        "        <td style=\"padding-left: 1em; padding-right: 1em; text-align: center; vertical-align: top\">1</td>\n",
        "        <td style=\"padding-left: 1em; padding-right: 1em; text-align: center; vertical-align: top\">0</td>\n",
        "        <td style=\"padding-left: 1em; padding-right: 1em; text-align: center; vertical-align: top\">0</td>\n",
        "        <td style=\"padding-left: 1em; padding-right: 1em; text-align: center; vertical-align: top\">1</td>\n",
        "        <td style=\"padding-left: 1em; padding-right: 1em; text-align: center; vertical-align: top\">9.84</td>\n",
        "        <td style=\"padding-left: 1em; padding-right: 1em; text-align: center; vertical-align: top\">14.395</td>\n",
        "        <td style=\"padding-left: 1em; padding-right: 1em; text-align: center; vertical-align: top\">75</td>\n",
        "        <td style=\"padding-left: 1em; padding-right: 1em; text-align: center; vertical-align: top\">0.0</td>\n",
        "        <td style=\"padding-left: 1em; padding-right: 1em; text-align: center; vertical-align: top\">3</td>\n",
        "        <td style=\"padding-left: 1em; padding-right: 1em; text-align: center; vertical-align: top\">10</td>\n",
        "    </tr>\n",
        "    <tr>\n",
        "        <td style=\"padding-left: 1em; padding-right: 1em; text-align: center; vertical-align: top\">2011-01-01 04:00:00</td>\n",
        "        <td style=\"padding-left: 1em; padding-right: 1em; text-align: center; vertical-align: top\">1</td>\n",
        "        <td style=\"padding-left: 1em; padding-right: 1em; text-align: center; vertical-align: top\">0</td>\n",
        "        <td style=\"padding-left: 1em; padding-right: 1em; text-align: center; vertical-align: top\">0</td>\n",
        "        <td style=\"padding-left: 1em; padding-right: 1em; text-align: center; vertical-align: top\">1</td>\n",
        "        <td style=\"padding-left: 1em; padding-right: 1em; text-align: center; vertical-align: top\">9.84</td>\n",
        "        <td style=\"padding-left: 1em; padding-right: 1em; text-align: center; vertical-align: top\">14.395</td>\n",
        "        <td style=\"padding-left: 1em; padding-right: 1em; text-align: center; vertical-align: top\">75</td>\n",
        "        <td style=\"padding-left: 1em; padding-right: 1em; text-align: center; vertical-align: top\">0.0</td>\n",
        "        <td style=\"padding-left: 1em; padding-right: 1em; text-align: center; vertical-align: top\">0</td>\n",
        "        <td style=\"padding-left: 1em; padding-right: 1em; text-align: center; vertical-align: top\">1</td>\n",
        "    </tr>\n",
        "    <tr>\n",
        "        <td style=\"padding-left: 1em; padding-right: 1em; text-align: center; vertical-align: top\">2011-01-01 05:00:00</td>\n",
        "        <td style=\"padding-left: 1em; padding-right: 1em; text-align: center; vertical-align: top\">1</td>\n",
        "        <td style=\"padding-left: 1em; padding-right: 1em; text-align: center; vertical-align: top\">0</td>\n",
        "        <td style=\"padding-left: 1em; padding-right: 1em; text-align: center; vertical-align: top\">0</td>\n",
        "        <td style=\"padding-left: 1em; padding-right: 1em; text-align: center; vertical-align: top\">2</td>\n",
        "        <td style=\"padding-left: 1em; padding-right: 1em; text-align: center; vertical-align: top\">9.84</td>\n",
        "        <td style=\"padding-left: 1em; padding-right: 1em; text-align: center; vertical-align: top\">12.88</td>\n",
        "        <td style=\"padding-left: 1em; padding-right: 1em; text-align: center; vertical-align: top\">75</td>\n",
        "        <td style=\"padding-left: 1em; padding-right: 1em; text-align: center; vertical-align: top\">6.0032</td>\n",
        "        <td style=\"padding-left: 1em; padding-right: 1em; text-align: center; vertical-align: top\">0</td>\n",
        "        <td style=\"padding-left: 1em; padding-right: 1em; text-align: center; vertical-align: top\">1</td>\n",
        "    </tr>\n",
        "    <tr>\n",
        "        <td style=\"padding-left: 1em; padding-right: 1em; text-align: center; vertical-align: top\">2011-01-01 06:00:00</td>\n",
        "        <td style=\"padding-left: 1em; padding-right: 1em; text-align: center; vertical-align: top\">1</td>\n",
        "        <td style=\"padding-left: 1em; padding-right: 1em; text-align: center; vertical-align: top\">0</td>\n",
        "        <td style=\"padding-left: 1em; padding-right: 1em; text-align: center; vertical-align: top\">0</td>\n",
        "        <td style=\"padding-left: 1em; padding-right: 1em; text-align: center; vertical-align: top\">1</td>\n",
        "        <td style=\"padding-left: 1em; padding-right: 1em; text-align: center; vertical-align: top\">9.02</td>\n",
        "        <td style=\"padding-left: 1em; padding-right: 1em; text-align: center; vertical-align: top\">13.635</td>\n",
        "        <td style=\"padding-left: 1em; padding-right: 1em; text-align: center; vertical-align: top\">80</td>\n",
        "        <td style=\"padding-left: 1em; padding-right: 1em; text-align: center; vertical-align: top\">0.0</td>\n",
        "        <td style=\"padding-left: 1em; padding-right: 1em; text-align: center; vertical-align: top\">2</td>\n",
        "        <td style=\"padding-left: 1em; padding-right: 1em; text-align: center; vertical-align: top\">0</td>\n",
        "    </tr>\n",
        "    <tr>\n",
        "        <td style=\"padding-left: 1em; padding-right: 1em; text-align: center; vertical-align: top\">2011-01-01 07:00:00</td>\n",
        "        <td style=\"padding-left: 1em; padding-right: 1em; text-align: center; vertical-align: top\">1</td>\n",
        "        <td style=\"padding-left: 1em; padding-right: 1em; text-align: center; vertical-align: top\">0</td>\n",
        "        <td style=\"padding-left: 1em; padding-right: 1em; text-align: center; vertical-align: top\">0</td>\n",
        "        <td style=\"padding-left: 1em; padding-right: 1em; text-align: center; vertical-align: top\">1</td>\n",
        "        <td style=\"padding-left: 1em; padding-right: 1em; text-align: center; vertical-align: top\">8.2</td>\n",
        "        <td style=\"padding-left: 1em; padding-right: 1em; text-align: center; vertical-align: top\">12.88</td>\n",
        "        <td style=\"padding-left: 1em; padding-right: 1em; text-align: center; vertical-align: top\">86</td>\n",
        "        <td style=\"padding-left: 1em; padding-right: 1em; text-align: center; vertical-align: top\">0.0</td>\n",
        "        <td style=\"padding-left: 1em; padding-right: 1em; text-align: center; vertical-align: top\">1</td>\n",
        "        <td style=\"padding-left: 1em; padding-right: 1em; text-align: center; vertical-align: top\">2</td>\n",
        "    </tr>\n",
        "    <tr>\n",
        "        <td style=\"padding-left: 1em; padding-right: 1em; text-align: center; vertical-align: top\">2011-01-01 08:00:00</td>\n",
        "        <td style=\"padding-left: 1em; padding-right: 1em; text-align: center; vertical-align: top\">1</td>\n",
        "        <td style=\"padding-left: 1em; padding-right: 1em; text-align: center; vertical-align: top\">0</td>\n",
        "        <td style=\"padding-left: 1em; padding-right: 1em; text-align: center; vertical-align: top\">0</td>\n",
        "        <td style=\"padding-left: 1em; padding-right: 1em; text-align: center; vertical-align: top\">1</td>\n",
        "        <td style=\"padding-left: 1em; padding-right: 1em; text-align: center; vertical-align: top\">9.84</td>\n",
        "        <td style=\"padding-left: 1em; padding-right: 1em; text-align: center; vertical-align: top\">14.395</td>\n",
        "        <td style=\"padding-left: 1em; padding-right: 1em; text-align: center; vertical-align: top\">75</td>\n",
        "        <td style=\"padding-left: 1em; padding-right: 1em; text-align: center; vertical-align: top\">0.0</td>\n",
        "        <td style=\"padding-left: 1em; padding-right: 1em; text-align: center; vertical-align: top\">1</td>\n",
        "        <td style=\"padding-left: 1em; padding-right: 1em; text-align: center; vertical-align: top\">7</td>\n",
        "    </tr>\n",
        "    <tr>\n",
        "        <td style=\"padding-left: 1em; padding-right: 1em; text-align: center; vertical-align: top\">2011-01-01 09:00:00</td>\n",
        "        <td style=\"padding-left: 1em; padding-right: 1em; text-align: center; vertical-align: top\">1</td>\n",
        "        <td style=\"padding-left: 1em; padding-right: 1em; text-align: center; vertical-align: top\">0</td>\n",
        "        <td style=\"padding-left: 1em; padding-right: 1em; text-align: center; vertical-align: top\">0</td>\n",
        "        <td style=\"padding-left: 1em; padding-right: 1em; text-align: center; vertical-align: top\">1</td>\n",
        "        <td style=\"padding-left: 1em; padding-right: 1em; text-align: center; vertical-align: top\">13.12</td>\n",
        "        <td style=\"padding-left: 1em; padding-right: 1em; text-align: center; vertical-align: top\">17.425</td>\n",
        "        <td style=\"padding-left: 1em; padding-right: 1em; text-align: center; vertical-align: top\">76</td>\n",
        "        <td style=\"padding-left: 1em; padding-right: 1em; text-align: center; vertical-align: top\">0.0</td>\n",
        "        <td style=\"padding-left: 1em; padding-right: 1em; text-align: center; vertical-align: top\">8</td>\n",
        "        <td style=\"padding-left: 1em; padding-right: 1em; text-align: center; vertical-align: top\">6</td>\n",
        "    </tr>\n",
        "</table>\n",
        "<table frame=\"box\" rules=\"cols\">\n",
        "    <tr>\n",
        "        <th style=\"padding-left: 1em; padding-right: 1em; text-align: center\">count</th>\n",
        "        <th style=\"padding-left: 1em; padding-right: 1em; text-align: center\">year</th>\n",
        "        <th style=\"padding-left: 1em; padding-right: 1em; text-align: center\">month</th>\n",
        "        <th style=\"padding-left: 1em; padding-right: 1em; text-align: center\">day</th>\n",
        "        <th style=\"padding-left: 1em; padding-right: 1em; text-align: center\">hour</th>\n",
        "        <th style=\"padding-left: 1em; padding-right: 1em; text-align: center\">weekday</th>\n",
        "    </tr>\n",
        "    <tr>\n",
        "        <td style=\"padding-left: 1em; padding-right: 1em; text-align: center; vertical-align: top\">16</td>\n",
        "        <td style=\"padding-left: 1em; padding-right: 1em; text-align: center; vertical-align: top\">2011</td>\n",
        "        <td style=\"padding-left: 1em; padding-right: 1em; text-align: center; vertical-align: top\">1</td>\n",
        "        <td style=\"padding-left: 1em; padding-right: 1em; text-align: center; vertical-align: top\">1</td>\n",
        "        <td style=\"padding-left: 1em; padding-right: 1em; text-align: center; vertical-align: top\">0</td>\n",
        "        <td style=\"padding-left: 1em; padding-right: 1em; text-align: center; vertical-align: top\">5</td>\n",
        "    </tr>\n",
        "    <tr>\n",
        "        <td style=\"padding-left: 1em; padding-right: 1em; text-align: center; vertical-align: top\">40</td>\n",
        "        <td style=\"padding-left: 1em; padding-right: 1em; text-align: center; vertical-align: top\">2011</td>\n",
        "        <td style=\"padding-left: 1em; padding-right: 1em; text-align: center; vertical-align: top\">1</td>\n",
        "        <td style=\"padding-left: 1em; padding-right: 1em; text-align: center; vertical-align: top\">1</td>\n",
        "        <td style=\"padding-left: 1em; padding-right: 1em; text-align: center; vertical-align: top\">1</td>\n",
        "        <td style=\"padding-left: 1em; padding-right: 1em; text-align: center; vertical-align: top\">5</td>\n",
        "    </tr>\n",
        "    <tr>\n",
        "        <td style=\"padding-left: 1em; padding-right: 1em; text-align: center; vertical-align: top\">32</td>\n",
        "        <td style=\"padding-left: 1em; padding-right: 1em; text-align: center; vertical-align: top\">2011</td>\n",
        "        <td style=\"padding-left: 1em; padding-right: 1em; text-align: center; vertical-align: top\">1</td>\n",
        "        <td style=\"padding-left: 1em; padding-right: 1em; text-align: center; vertical-align: top\">1</td>\n",
        "        <td style=\"padding-left: 1em; padding-right: 1em; text-align: center; vertical-align: top\">2</td>\n",
        "        <td style=\"padding-left: 1em; padding-right: 1em; text-align: center; vertical-align: top\">5</td>\n",
        "    </tr>\n",
        "    <tr>\n",
        "        <td style=\"padding-left: 1em; padding-right: 1em; text-align: center; vertical-align: top\">13</td>\n",
        "        <td style=\"padding-left: 1em; padding-right: 1em; text-align: center; vertical-align: top\">2011</td>\n",
        "        <td style=\"padding-left: 1em; padding-right: 1em; text-align: center; vertical-align: top\">1</td>\n",
        "        <td style=\"padding-left: 1em; padding-right: 1em; text-align: center; vertical-align: top\">1</td>\n",
        "        <td style=\"padding-left: 1em; padding-right: 1em; text-align: center; vertical-align: top\">3</td>\n",
        "        <td style=\"padding-left: 1em; padding-right: 1em; text-align: center; vertical-align: top\">5</td>\n",
        "    </tr>\n",
        "    <tr>\n",
        "        <td style=\"padding-left: 1em; padding-right: 1em; text-align: center; vertical-align: top\">1</td>\n",
        "        <td style=\"padding-left: 1em; padding-right: 1em; text-align: center; vertical-align: top\">2011</td>\n",
        "        <td style=\"padding-left: 1em; padding-right: 1em; text-align: center; vertical-align: top\">1</td>\n",
        "        <td style=\"padding-left: 1em; padding-right: 1em; text-align: center; vertical-align: top\">1</td>\n",
        "        <td style=\"padding-left: 1em; padding-right: 1em; text-align: center; vertical-align: top\">4</td>\n",
        "        <td style=\"padding-left: 1em; padding-right: 1em; text-align: center; vertical-align: top\">5</td>\n",
        "    </tr>\n",
        "    <tr>\n",
        "        <td style=\"padding-left: 1em; padding-right: 1em; text-align: center; vertical-align: top\">1</td>\n",
        "        <td style=\"padding-left: 1em; padding-right: 1em; text-align: center; vertical-align: top\">2011</td>\n",
        "        <td style=\"padding-left: 1em; padding-right: 1em; text-align: center; vertical-align: top\">1</td>\n",
        "        <td style=\"padding-left: 1em; padding-right: 1em; text-align: center; vertical-align: top\">1</td>\n",
        "        <td style=\"padding-left: 1em; padding-right: 1em; text-align: center; vertical-align: top\">5</td>\n",
        "        <td style=\"padding-left: 1em; padding-right: 1em; text-align: center; vertical-align: top\">5</td>\n",
        "    </tr>\n",
        "    <tr>\n",
        "        <td style=\"padding-left: 1em; padding-right: 1em; text-align: center; vertical-align: top\">2</td>\n",
        "        <td style=\"padding-left: 1em; padding-right: 1em; text-align: center; vertical-align: top\">2011</td>\n",
        "        <td style=\"padding-left: 1em; padding-right: 1em; text-align: center; vertical-align: top\">1</td>\n",
        "        <td style=\"padding-left: 1em; padding-right: 1em; text-align: center; vertical-align: top\">1</td>\n",
        "        <td style=\"padding-left: 1em; padding-right: 1em; text-align: center; vertical-align: top\">6</td>\n",
        "        <td style=\"padding-left: 1em; padding-right: 1em; text-align: center; vertical-align: top\">5</td>\n",
        "    </tr>\n",
        "    <tr>\n",
        "        <td style=\"padding-left: 1em; padding-right: 1em; text-align: center; vertical-align: top\">3</td>\n",
        "        <td style=\"padding-left: 1em; padding-right: 1em; text-align: center; vertical-align: top\">2011</td>\n",
        "        <td style=\"padding-left: 1em; padding-right: 1em; text-align: center; vertical-align: top\">1</td>\n",
        "        <td style=\"padding-left: 1em; padding-right: 1em; text-align: center; vertical-align: top\">1</td>\n",
        "        <td style=\"padding-left: 1em; padding-right: 1em; text-align: center; vertical-align: top\">7</td>\n",
        "        <td style=\"padding-left: 1em; padding-right: 1em; text-align: center; vertical-align: top\">5</td>\n",
        "    </tr>\n",
        "    <tr>\n",
        "        <td style=\"padding-left: 1em; padding-right: 1em; text-align: center; vertical-align: top\">8</td>\n",
        "        <td style=\"padding-left: 1em; padding-right: 1em; text-align: center; vertical-align: top\">2011</td>\n",
        "        <td style=\"padding-left: 1em; padding-right: 1em; text-align: center; vertical-align: top\">1</td>\n",
        "        <td style=\"padding-left: 1em; padding-right: 1em; text-align: center; vertical-align: top\">1</td>\n",
        "        <td style=\"padding-left: 1em; padding-right: 1em; text-align: center; vertical-align: top\">8</td>\n",
        "        <td style=\"padding-left: 1em; padding-right: 1em; text-align: center; vertical-align: top\">5</td>\n",
        "    </tr>\n",
        "    <tr>\n",
        "        <td style=\"padding-left: 1em; padding-right: 1em; text-align: center; vertical-align: top\">14</td>\n",
        "        <td style=\"padding-left: 1em; padding-right: 1em; text-align: center; vertical-align: top\">2011</td>\n",
        "        <td style=\"padding-left: 1em; padding-right: 1em; text-align: center; vertical-align: top\">1</td>\n",
        "        <td style=\"padding-left: 1em; padding-right: 1em; text-align: center; vertical-align: top\">1</td>\n",
        "        <td style=\"padding-left: 1em; padding-right: 1em; text-align: center; vertical-align: top\">9</td>\n",
        "        <td style=\"padding-left: 1em; padding-right: 1em; text-align: center; vertical-align: top\">5</td>\n",
        "    </tr>\n",
        "</table>\n",
        "[10 rows x 17 columns]<br/>\n",
        "</div>"
       ],
       "metadata": {},
       "output_type": "pyout",
       "prompt_number": 6,
       "text": [
        "Columns:\n",
        "\tdatetime\tstr\n",
        "\tseason\tint\n",
        "\tholiday\tint\n",
        "\tworkingday\tint\n",
        "\tweather\tint\n",
        "\ttemp\tfloat\n",
        "\tatemp\tfloat\n",
        "\thumidity\tint\n",
        "\twindspeed\tfloat\n",
        "\tcasual\tint\n",
        "\tregistered\tint\n",
        "\tcount\tint\n",
        "\tyear\tint\n",
        "\tmonth\tint\n",
        "\tday\tint\n",
        "\thour\tint\n",
        "\tweekday\tint\n",
        "\n",
        "Rows: 10\n",
        "\n",
        "Data:\n",
        "+---------------------+--------+---------+------------+---------+-------+--------+\n",
        "|       datetime      | season | holiday | workingday | weather |  temp | atemp  |\n",
        "+---------------------+--------+---------+------------+---------+-------+--------+\n",
        "| 2011-01-01 00:00:00 |   1    |    0    |     0      |    1    |  9.84 | 14.395 |\n",
        "| 2011-01-01 01:00:00 |   1    |    0    |     0      |    1    |  9.02 | 13.635 |\n",
        "| 2011-01-01 02:00:00 |   1    |    0    |     0      |    1    |  9.02 | 13.635 |\n",
        "| 2011-01-01 03:00:00 |   1    |    0    |     0      |    1    |  9.84 | 14.395 |\n",
        "| 2011-01-01 04:00:00 |   1    |    0    |     0      |    1    |  9.84 | 14.395 |\n",
        "| 2011-01-01 05:00:00 |   1    |    0    |     0      |    2    |  9.84 | 12.88  |\n",
        "| 2011-01-01 06:00:00 |   1    |    0    |     0      |    1    |  9.02 | 13.635 |\n",
        "| 2011-01-01 07:00:00 |   1    |    0    |     0      |    1    |  8.2  | 12.88  |\n",
        "| 2011-01-01 08:00:00 |   1    |    0    |     0      |    1    |  9.84 | 14.395 |\n",
        "| 2011-01-01 09:00:00 |   1    |    0    |     0      |    1    | 13.12 | 17.425 |\n",
        "+---------------------+--------+---------+------------+---------+-------+--------+\n",
        "+----------+-----------+--------+------------+-------+------+-------+-----+------+\n",
        "| humidity | windspeed | casual | registered | count | year | month | day | hour |\n",
        "+----------+-----------+--------+------------+-------+------+-------+-----+------+\n",
        "|    81    |    0.0    |   3    |     13     |   16  | 2011 |   1   |  1  |  0   |\n",
        "|    80    |    0.0    |   8    |     32     |   40  | 2011 |   1   |  1  |  1   |\n",
        "|    80    |    0.0    |   5    |     27     |   32  | 2011 |   1   |  1  |  2   |\n",
        "|    75    |    0.0    |   3    |     10     |   13  | 2011 |   1   |  1  |  3   |\n",
        "|    75    |    0.0    |   0    |     1      |   1   | 2011 |   1   |  1  |  4   |\n",
        "|    75    |   6.0032  |   0    |     1      |   1   | 2011 |   1   |  1  |  5   |\n",
        "|    80    |    0.0    |   2    |     0      |   2   | 2011 |   1   |  1  |  6   |\n",
        "|    86    |    0.0    |   1    |     2      |   3   | 2011 |   1   |  1  |  7   |\n",
        "|    75    |    0.0    |   1    |     7      |   8   | 2011 |   1   |  1  |  8   |\n",
        "|    76    |    0.0    |   8    |     6      |   14  | 2011 |   1   |  1  |  9   |\n",
        "+----------+-----------+--------+------------+-------+------+-------+-----+------+\n",
        "+---------+\n",
        "| weekday |\n",
        "+---------+\n",
        "|    5    |\n",
        "|    5    |\n",
        "|    5    |\n",
        "|    5    |\n",
        "|    5    |\n",
        "|    5    |\n",
        "|    5    |\n",
        "|    5    |\n",
        "|    5    |\n",
        "|    5    |\n",
        "+---------+\n",
        "[10 rows x 17 columns]"
       ]
      }
     ],
     "prompt_number": 6
    },
    {
     "cell_type": "code",
     "collapsed": false,
     "input": [
      "## transform target counts into log domain\n",
      "import math\n",
      "# create three new columns: log-casual, log-registered, and log-count\n",
      "for col in ['casual', 'registered', 'count']:\n",
      "    training_sframe['log-'+col] = training_sframe[col].apply(lambda x: math.log(x+1))"
     ],
     "language": "python",
     "metadata": {},
     "outputs": [],
     "prompt_number": 7
    },
    {
     "cell_type": "code",
     "collapsed": false,
     "input": [
      "training_sframe.head()"
     ],
     "language": "python",
     "metadata": {},
     "outputs": [
      {
       "html": [
        "<div style=\"max-height:1000px;max-width:1500px;overflow:auto;\"><table frame=\"box\" rules=\"cols\">\n",
        "    <tr>\n",
        "        <th style=\"padding-left: 1em; padding-right: 1em; text-align: center\">datetime</th>\n",
        "        <th style=\"padding-left: 1em; padding-right: 1em; text-align: center\">season</th>\n",
        "        <th style=\"padding-left: 1em; padding-right: 1em; text-align: center\">holiday</th>\n",
        "        <th style=\"padding-left: 1em; padding-right: 1em; text-align: center\">workingday</th>\n",
        "        <th style=\"padding-left: 1em; padding-right: 1em; text-align: center\">weather</th>\n",
        "        <th style=\"padding-left: 1em; padding-right: 1em; text-align: center\">temp</th>\n",
        "        <th style=\"padding-left: 1em; padding-right: 1em; text-align: center\">atemp</th>\n",
        "        <th style=\"padding-left: 1em; padding-right: 1em; text-align: center\">humidity</th>\n",
        "        <th style=\"padding-left: 1em; padding-right: 1em; text-align: center\">windspeed</th>\n",
        "        <th style=\"padding-left: 1em; padding-right: 1em; text-align: center\">casual</th>\n",
        "        <th style=\"padding-left: 1em; padding-right: 1em; text-align: center\">registered</th>\n",
        "    </tr>\n",
        "    <tr>\n",
        "        <td style=\"padding-left: 1em; padding-right: 1em; text-align: center; vertical-align: top\">2011-01-01 00:00:00</td>\n",
        "        <td style=\"padding-left: 1em; padding-right: 1em; text-align: center; vertical-align: top\">1</td>\n",
        "        <td style=\"padding-left: 1em; padding-right: 1em; text-align: center; vertical-align: top\">0</td>\n",
        "        <td style=\"padding-left: 1em; padding-right: 1em; text-align: center; vertical-align: top\">0</td>\n",
        "        <td style=\"padding-left: 1em; padding-right: 1em; text-align: center; vertical-align: top\">1</td>\n",
        "        <td style=\"padding-left: 1em; padding-right: 1em; text-align: center; vertical-align: top\">9.84</td>\n",
        "        <td style=\"padding-left: 1em; padding-right: 1em; text-align: center; vertical-align: top\">14.395</td>\n",
        "        <td style=\"padding-left: 1em; padding-right: 1em; text-align: center; vertical-align: top\">81</td>\n",
        "        <td style=\"padding-left: 1em; padding-right: 1em; text-align: center; vertical-align: top\">0.0</td>\n",
        "        <td style=\"padding-left: 1em; padding-right: 1em; text-align: center; vertical-align: top\">3</td>\n",
        "        <td style=\"padding-left: 1em; padding-right: 1em; text-align: center; vertical-align: top\">13</td>\n",
        "    </tr>\n",
        "    <tr>\n",
        "        <td style=\"padding-left: 1em; padding-right: 1em; text-align: center; vertical-align: top\">2011-01-01 01:00:00</td>\n",
        "        <td style=\"padding-left: 1em; padding-right: 1em; text-align: center; vertical-align: top\">1</td>\n",
        "        <td style=\"padding-left: 1em; padding-right: 1em; text-align: center; vertical-align: top\">0</td>\n",
        "        <td style=\"padding-left: 1em; padding-right: 1em; text-align: center; vertical-align: top\">0</td>\n",
        "        <td style=\"padding-left: 1em; padding-right: 1em; text-align: center; vertical-align: top\">1</td>\n",
        "        <td style=\"padding-left: 1em; padding-right: 1em; text-align: center; vertical-align: top\">9.02</td>\n",
        "        <td style=\"padding-left: 1em; padding-right: 1em; text-align: center; vertical-align: top\">13.635</td>\n",
        "        <td style=\"padding-left: 1em; padding-right: 1em; text-align: center; vertical-align: top\">80</td>\n",
        "        <td style=\"padding-left: 1em; padding-right: 1em; text-align: center; vertical-align: top\">0.0</td>\n",
        "        <td style=\"padding-left: 1em; padding-right: 1em; text-align: center; vertical-align: top\">8</td>\n",
        "        <td style=\"padding-left: 1em; padding-right: 1em; text-align: center; vertical-align: top\">32</td>\n",
        "    </tr>\n",
        "    <tr>\n",
        "        <td style=\"padding-left: 1em; padding-right: 1em; text-align: center; vertical-align: top\">2011-01-01 02:00:00</td>\n",
        "        <td style=\"padding-left: 1em; padding-right: 1em; text-align: center; vertical-align: top\">1</td>\n",
        "        <td style=\"padding-left: 1em; padding-right: 1em; text-align: center; vertical-align: top\">0</td>\n",
        "        <td style=\"padding-left: 1em; padding-right: 1em; text-align: center; vertical-align: top\">0</td>\n",
        "        <td style=\"padding-left: 1em; padding-right: 1em; text-align: center; vertical-align: top\">1</td>\n",
        "        <td style=\"padding-left: 1em; padding-right: 1em; text-align: center; vertical-align: top\">9.02</td>\n",
        "        <td style=\"padding-left: 1em; padding-right: 1em; text-align: center; vertical-align: top\">13.635</td>\n",
        "        <td style=\"padding-left: 1em; padding-right: 1em; text-align: center; vertical-align: top\">80</td>\n",
        "        <td style=\"padding-left: 1em; padding-right: 1em; text-align: center; vertical-align: top\">0.0</td>\n",
        "        <td style=\"padding-left: 1em; padding-right: 1em; text-align: center; vertical-align: top\">5</td>\n",
        "        <td style=\"padding-left: 1em; padding-right: 1em; text-align: center; vertical-align: top\">27</td>\n",
        "    </tr>\n",
        "    <tr>\n",
        "        <td style=\"padding-left: 1em; padding-right: 1em; text-align: center; vertical-align: top\">2011-01-01 03:00:00</td>\n",
        "        <td style=\"padding-left: 1em; padding-right: 1em; text-align: center; vertical-align: top\">1</td>\n",
        "        <td style=\"padding-left: 1em; padding-right: 1em; text-align: center; vertical-align: top\">0</td>\n",
        "        <td style=\"padding-left: 1em; padding-right: 1em; text-align: center; vertical-align: top\">0</td>\n",
        "        <td style=\"padding-left: 1em; padding-right: 1em; text-align: center; vertical-align: top\">1</td>\n",
        "        <td style=\"padding-left: 1em; padding-right: 1em; text-align: center; vertical-align: top\">9.84</td>\n",
        "        <td style=\"padding-left: 1em; padding-right: 1em; text-align: center; vertical-align: top\">14.395</td>\n",
        "        <td style=\"padding-left: 1em; padding-right: 1em; text-align: center; vertical-align: top\">75</td>\n",
        "        <td style=\"padding-left: 1em; padding-right: 1em; text-align: center; vertical-align: top\">0.0</td>\n",
        "        <td style=\"padding-left: 1em; padding-right: 1em; text-align: center; vertical-align: top\">3</td>\n",
        "        <td style=\"padding-left: 1em; padding-right: 1em; text-align: center; vertical-align: top\">10</td>\n",
        "    </tr>\n",
        "    <tr>\n",
        "        <td style=\"padding-left: 1em; padding-right: 1em; text-align: center; vertical-align: top\">2011-01-01 04:00:00</td>\n",
        "        <td style=\"padding-left: 1em; padding-right: 1em; text-align: center; vertical-align: top\">1</td>\n",
        "        <td style=\"padding-left: 1em; padding-right: 1em; text-align: center; vertical-align: top\">0</td>\n",
        "        <td style=\"padding-left: 1em; padding-right: 1em; text-align: center; vertical-align: top\">0</td>\n",
        "        <td style=\"padding-left: 1em; padding-right: 1em; text-align: center; vertical-align: top\">1</td>\n",
        "        <td style=\"padding-left: 1em; padding-right: 1em; text-align: center; vertical-align: top\">9.84</td>\n",
        "        <td style=\"padding-left: 1em; padding-right: 1em; text-align: center; vertical-align: top\">14.395</td>\n",
        "        <td style=\"padding-left: 1em; padding-right: 1em; text-align: center; vertical-align: top\">75</td>\n",
        "        <td style=\"padding-left: 1em; padding-right: 1em; text-align: center; vertical-align: top\">0.0</td>\n",
        "        <td style=\"padding-left: 1em; padding-right: 1em; text-align: center; vertical-align: top\">0</td>\n",
        "        <td style=\"padding-left: 1em; padding-right: 1em; text-align: center; vertical-align: top\">1</td>\n",
        "    </tr>\n",
        "    <tr>\n",
        "        <td style=\"padding-left: 1em; padding-right: 1em; text-align: center; vertical-align: top\">2011-01-01 05:00:00</td>\n",
        "        <td style=\"padding-left: 1em; padding-right: 1em; text-align: center; vertical-align: top\">1</td>\n",
        "        <td style=\"padding-left: 1em; padding-right: 1em; text-align: center; vertical-align: top\">0</td>\n",
        "        <td style=\"padding-left: 1em; padding-right: 1em; text-align: center; vertical-align: top\">0</td>\n",
        "        <td style=\"padding-left: 1em; padding-right: 1em; text-align: center; vertical-align: top\">2</td>\n",
        "        <td style=\"padding-left: 1em; padding-right: 1em; text-align: center; vertical-align: top\">9.84</td>\n",
        "        <td style=\"padding-left: 1em; padding-right: 1em; text-align: center; vertical-align: top\">12.88</td>\n",
        "        <td style=\"padding-left: 1em; padding-right: 1em; text-align: center; vertical-align: top\">75</td>\n",
        "        <td style=\"padding-left: 1em; padding-right: 1em; text-align: center; vertical-align: top\">6.0032</td>\n",
        "        <td style=\"padding-left: 1em; padding-right: 1em; text-align: center; vertical-align: top\">0</td>\n",
        "        <td style=\"padding-left: 1em; padding-right: 1em; text-align: center; vertical-align: top\">1</td>\n",
        "    </tr>\n",
        "    <tr>\n",
        "        <td style=\"padding-left: 1em; padding-right: 1em; text-align: center; vertical-align: top\">2011-01-01 06:00:00</td>\n",
        "        <td style=\"padding-left: 1em; padding-right: 1em; text-align: center; vertical-align: top\">1</td>\n",
        "        <td style=\"padding-left: 1em; padding-right: 1em; text-align: center; vertical-align: top\">0</td>\n",
        "        <td style=\"padding-left: 1em; padding-right: 1em; text-align: center; vertical-align: top\">0</td>\n",
        "        <td style=\"padding-left: 1em; padding-right: 1em; text-align: center; vertical-align: top\">1</td>\n",
        "        <td style=\"padding-left: 1em; padding-right: 1em; text-align: center; vertical-align: top\">9.02</td>\n",
        "        <td style=\"padding-left: 1em; padding-right: 1em; text-align: center; vertical-align: top\">13.635</td>\n",
        "        <td style=\"padding-left: 1em; padding-right: 1em; text-align: center; vertical-align: top\">80</td>\n",
        "        <td style=\"padding-left: 1em; padding-right: 1em; text-align: center; vertical-align: top\">0.0</td>\n",
        "        <td style=\"padding-left: 1em; padding-right: 1em; text-align: center; vertical-align: top\">2</td>\n",
        "        <td style=\"padding-left: 1em; padding-right: 1em; text-align: center; vertical-align: top\">0</td>\n",
        "    </tr>\n",
        "    <tr>\n",
        "        <td style=\"padding-left: 1em; padding-right: 1em; text-align: center; vertical-align: top\">2011-01-01 07:00:00</td>\n",
        "        <td style=\"padding-left: 1em; padding-right: 1em; text-align: center; vertical-align: top\">1</td>\n",
        "        <td style=\"padding-left: 1em; padding-right: 1em; text-align: center; vertical-align: top\">0</td>\n",
        "        <td style=\"padding-left: 1em; padding-right: 1em; text-align: center; vertical-align: top\">0</td>\n",
        "        <td style=\"padding-left: 1em; padding-right: 1em; text-align: center; vertical-align: top\">1</td>\n",
        "        <td style=\"padding-left: 1em; padding-right: 1em; text-align: center; vertical-align: top\">8.2</td>\n",
        "        <td style=\"padding-left: 1em; padding-right: 1em; text-align: center; vertical-align: top\">12.88</td>\n",
        "        <td style=\"padding-left: 1em; padding-right: 1em; text-align: center; vertical-align: top\">86</td>\n",
        "        <td style=\"padding-left: 1em; padding-right: 1em; text-align: center; vertical-align: top\">0.0</td>\n",
        "        <td style=\"padding-left: 1em; padding-right: 1em; text-align: center; vertical-align: top\">1</td>\n",
        "        <td style=\"padding-left: 1em; padding-right: 1em; text-align: center; vertical-align: top\">2</td>\n",
        "    </tr>\n",
        "    <tr>\n",
        "        <td style=\"padding-left: 1em; padding-right: 1em; text-align: center; vertical-align: top\">2011-01-01 08:00:00</td>\n",
        "        <td style=\"padding-left: 1em; padding-right: 1em; text-align: center; vertical-align: top\">1</td>\n",
        "        <td style=\"padding-left: 1em; padding-right: 1em; text-align: center; vertical-align: top\">0</td>\n",
        "        <td style=\"padding-left: 1em; padding-right: 1em; text-align: center; vertical-align: top\">0</td>\n",
        "        <td style=\"padding-left: 1em; padding-right: 1em; text-align: center; vertical-align: top\">1</td>\n",
        "        <td style=\"padding-left: 1em; padding-right: 1em; text-align: center; vertical-align: top\">9.84</td>\n",
        "        <td style=\"padding-left: 1em; padding-right: 1em; text-align: center; vertical-align: top\">14.395</td>\n",
        "        <td style=\"padding-left: 1em; padding-right: 1em; text-align: center; vertical-align: top\">75</td>\n",
        "        <td style=\"padding-left: 1em; padding-right: 1em; text-align: center; vertical-align: top\">0.0</td>\n",
        "        <td style=\"padding-left: 1em; padding-right: 1em; text-align: center; vertical-align: top\">1</td>\n",
        "        <td style=\"padding-left: 1em; padding-right: 1em; text-align: center; vertical-align: top\">7</td>\n",
        "    </tr>\n",
        "    <tr>\n",
        "        <td style=\"padding-left: 1em; padding-right: 1em; text-align: center; vertical-align: top\">2011-01-01 09:00:00</td>\n",
        "        <td style=\"padding-left: 1em; padding-right: 1em; text-align: center; vertical-align: top\">1</td>\n",
        "        <td style=\"padding-left: 1em; padding-right: 1em; text-align: center; vertical-align: top\">0</td>\n",
        "        <td style=\"padding-left: 1em; padding-right: 1em; text-align: center; vertical-align: top\">0</td>\n",
        "        <td style=\"padding-left: 1em; padding-right: 1em; text-align: center; vertical-align: top\">1</td>\n",
        "        <td style=\"padding-left: 1em; padding-right: 1em; text-align: center; vertical-align: top\">13.12</td>\n",
        "        <td style=\"padding-left: 1em; padding-right: 1em; text-align: center; vertical-align: top\">17.425</td>\n",
        "        <td style=\"padding-left: 1em; padding-right: 1em; text-align: center; vertical-align: top\">76</td>\n",
        "        <td style=\"padding-left: 1em; padding-right: 1em; text-align: center; vertical-align: top\">0.0</td>\n",
        "        <td style=\"padding-left: 1em; padding-right: 1em; text-align: center; vertical-align: top\">8</td>\n",
        "        <td style=\"padding-left: 1em; padding-right: 1em; text-align: center; vertical-align: top\">6</td>\n",
        "    </tr>\n",
        "</table>\n",
        "<table frame=\"box\" rules=\"cols\">\n",
        "    <tr>\n",
        "        <th style=\"padding-left: 1em; padding-right: 1em; text-align: center\">count</th>\n",
        "        <th style=\"padding-left: 1em; padding-right: 1em; text-align: center\">year</th>\n",
        "        <th style=\"padding-left: 1em; padding-right: 1em; text-align: center\">month</th>\n",
        "        <th style=\"padding-left: 1em; padding-right: 1em; text-align: center\">day</th>\n",
        "        <th style=\"padding-left: 1em; padding-right: 1em; text-align: center\">hour</th>\n",
        "        <th style=\"padding-left: 1em; padding-right: 1em; text-align: center\">weekday</th>\n",
        "        <th style=\"padding-left: 1em; padding-right: 1em; text-align: center\">log-casual</th>\n",
        "        <th style=\"padding-left: 1em; padding-right: 1em; text-align: center\">log-registered</th>\n",
        "        <th style=\"padding-left: 1em; padding-right: 1em; text-align: center\">log-count</th>\n",
        "    </tr>\n",
        "    <tr>\n",
        "        <td style=\"padding-left: 1em; padding-right: 1em; text-align: center; vertical-align: top\">16</td>\n",
        "        <td style=\"padding-left: 1em; padding-right: 1em; text-align: center; vertical-align: top\">2011</td>\n",
        "        <td style=\"padding-left: 1em; padding-right: 1em; text-align: center; vertical-align: top\">1</td>\n",
        "        <td style=\"padding-left: 1em; padding-right: 1em; text-align: center; vertical-align: top\">1</td>\n",
        "        <td style=\"padding-left: 1em; padding-right: 1em; text-align: center; vertical-align: top\">0</td>\n",
        "        <td style=\"padding-left: 1em; padding-right: 1em; text-align: center; vertical-align: top\">5</td>\n",
        "        <td style=\"padding-left: 1em; padding-right: 1em; text-align: center; vertical-align: top\">1.38629436112</td>\n",
        "        <td style=\"padding-left: 1em; padding-right: 1em; text-align: center; vertical-align: top\">2.63905732962</td>\n",
        "        <td style=\"padding-left: 1em; padding-right: 1em; text-align: center; vertical-align: top\">2.83321334406</td>\n",
        "    </tr>\n",
        "    <tr>\n",
        "        <td style=\"padding-left: 1em; padding-right: 1em; text-align: center; vertical-align: top\">40</td>\n",
        "        <td style=\"padding-left: 1em; padding-right: 1em; text-align: center; vertical-align: top\">2011</td>\n",
        "        <td style=\"padding-left: 1em; padding-right: 1em; text-align: center; vertical-align: top\">1</td>\n",
        "        <td style=\"padding-left: 1em; padding-right: 1em; text-align: center; vertical-align: top\">1</td>\n",
        "        <td style=\"padding-left: 1em; padding-right: 1em; text-align: center; vertical-align: top\">1</td>\n",
        "        <td style=\"padding-left: 1em; padding-right: 1em; text-align: center; vertical-align: top\">5</td>\n",
        "        <td style=\"padding-left: 1em; padding-right: 1em; text-align: center; vertical-align: top\">2.19722457734</td>\n",
        "        <td style=\"padding-left: 1em; padding-right: 1em; text-align: center; vertical-align: top\">3.49650756147</td>\n",
        "        <td style=\"padding-left: 1em; padding-right: 1em; text-align: center; vertical-align: top\">3.7135720667</td>\n",
        "    </tr>\n",
        "    <tr>\n",
        "        <td style=\"padding-left: 1em; padding-right: 1em; text-align: center; vertical-align: top\">32</td>\n",
        "        <td style=\"padding-left: 1em; padding-right: 1em; text-align: center; vertical-align: top\">2011</td>\n",
        "        <td style=\"padding-left: 1em; padding-right: 1em; text-align: center; vertical-align: top\">1</td>\n",
        "        <td style=\"padding-left: 1em; padding-right: 1em; text-align: center; vertical-align: top\">1</td>\n",
        "        <td style=\"padding-left: 1em; padding-right: 1em; text-align: center; vertical-align: top\">2</td>\n",
        "        <td style=\"padding-left: 1em; padding-right: 1em; text-align: center; vertical-align: top\">5</td>\n",
        "        <td style=\"padding-left: 1em; padding-right: 1em; text-align: center; vertical-align: top\">1.79175946923</td>\n",
        "        <td style=\"padding-left: 1em; padding-right: 1em; text-align: center; vertical-align: top\">3.33220451018</td>\n",
        "        <td style=\"padding-left: 1em; padding-right: 1em; text-align: center; vertical-align: top\">3.49650756147</td>\n",
        "    </tr>\n",
        "    <tr>\n",
        "        <td style=\"padding-left: 1em; padding-right: 1em; text-align: center; vertical-align: top\">13</td>\n",
        "        <td style=\"padding-left: 1em; padding-right: 1em; text-align: center; vertical-align: top\">2011</td>\n",
        "        <td style=\"padding-left: 1em; padding-right: 1em; text-align: center; vertical-align: top\">1</td>\n",
        "        <td style=\"padding-left: 1em; padding-right: 1em; text-align: center; vertical-align: top\">1</td>\n",
        "        <td style=\"padding-left: 1em; padding-right: 1em; text-align: center; vertical-align: top\">3</td>\n",
        "        <td style=\"padding-left: 1em; padding-right: 1em; text-align: center; vertical-align: top\">5</td>\n",
        "        <td style=\"padding-left: 1em; padding-right: 1em; text-align: center; vertical-align: top\">1.38629436112</td>\n",
        "        <td style=\"padding-left: 1em; padding-right: 1em; text-align: center; vertical-align: top\">2.3978952728</td>\n",
        "        <td style=\"padding-left: 1em; padding-right: 1em; text-align: center; vertical-align: top\">2.63905732962</td>\n",
        "    </tr>\n",
        "    <tr>\n",
        "        <td style=\"padding-left: 1em; padding-right: 1em; text-align: center; vertical-align: top\">1</td>\n",
        "        <td style=\"padding-left: 1em; padding-right: 1em; text-align: center; vertical-align: top\">2011</td>\n",
        "        <td style=\"padding-left: 1em; padding-right: 1em; text-align: center; vertical-align: top\">1</td>\n",
        "        <td style=\"padding-left: 1em; padding-right: 1em; text-align: center; vertical-align: top\">1</td>\n",
        "        <td style=\"padding-left: 1em; padding-right: 1em; text-align: center; vertical-align: top\">4</td>\n",
        "        <td style=\"padding-left: 1em; padding-right: 1em; text-align: center; vertical-align: top\">5</td>\n",
        "        <td style=\"padding-left: 1em; padding-right: 1em; text-align: center; vertical-align: top\">0.0</td>\n",
        "        <td style=\"padding-left: 1em; padding-right: 1em; text-align: center; vertical-align: top\">0.69314718056</td>\n",
        "        <td style=\"padding-left: 1em; padding-right: 1em; text-align: center; vertical-align: top\">0.69314718056</td>\n",
        "    </tr>\n",
        "    <tr>\n",
        "        <td style=\"padding-left: 1em; padding-right: 1em; text-align: center; vertical-align: top\">1</td>\n",
        "        <td style=\"padding-left: 1em; padding-right: 1em; text-align: center; vertical-align: top\">2011</td>\n",
        "        <td style=\"padding-left: 1em; padding-right: 1em; text-align: center; vertical-align: top\">1</td>\n",
        "        <td style=\"padding-left: 1em; padding-right: 1em; text-align: center; vertical-align: top\">1</td>\n",
        "        <td style=\"padding-left: 1em; padding-right: 1em; text-align: center; vertical-align: top\">5</td>\n",
        "        <td style=\"padding-left: 1em; padding-right: 1em; text-align: center; vertical-align: top\">5</td>\n",
        "        <td style=\"padding-left: 1em; padding-right: 1em; text-align: center; vertical-align: top\">0.0</td>\n",
        "        <td style=\"padding-left: 1em; padding-right: 1em; text-align: center; vertical-align: top\">0.69314718056</td>\n",
        "        <td style=\"padding-left: 1em; padding-right: 1em; text-align: center; vertical-align: top\">0.69314718056</td>\n",
        "    </tr>\n",
        "    <tr>\n",
        "        <td style=\"padding-left: 1em; padding-right: 1em; text-align: center; vertical-align: top\">2</td>\n",
        "        <td style=\"padding-left: 1em; padding-right: 1em; text-align: center; vertical-align: top\">2011</td>\n",
        "        <td style=\"padding-left: 1em; padding-right: 1em; text-align: center; vertical-align: top\">1</td>\n",
        "        <td style=\"padding-left: 1em; padding-right: 1em; text-align: center; vertical-align: top\">1</td>\n",
        "        <td style=\"padding-left: 1em; padding-right: 1em; text-align: center; vertical-align: top\">6</td>\n",
        "        <td style=\"padding-left: 1em; padding-right: 1em; text-align: center; vertical-align: top\">5</td>\n",
        "        <td style=\"padding-left: 1em; padding-right: 1em; text-align: center; vertical-align: top\">1.09861228867</td>\n",
        "        <td style=\"padding-left: 1em; padding-right: 1em; text-align: center; vertical-align: top\">0.0</td>\n",
        "        <td style=\"padding-left: 1em; padding-right: 1em; text-align: center; vertical-align: top\">1.09861228867</td>\n",
        "    </tr>\n",
        "    <tr>\n",
        "        <td style=\"padding-left: 1em; padding-right: 1em; text-align: center; vertical-align: top\">3</td>\n",
        "        <td style=\"padding-left: 1em; padding-right: 1em; text-align: center; vertical-align: top\">2011</td>\n",
        "        <td style=\"padding-left: 1em; padding-right: 1em; text-align: center; vertical-align: top\">1</td>\n",
        "        <td style=\"padding-left: 1em; padding-right: 1em; text-align: center; vertical-align: top\">1</td>\n",
        "        <td style=\"padding-left: 1em; padding-right: 1em; text-align: center; vertical-align: top\">7</td>\n",
        "        <td style=\"padding-left: 1em; padding-right: 1em; text-align: center; vertical-align: top\">5</td>\n",
        "        <td style=\"padding-left: 1em; padding-right: 1em; text-align: center; vertical-align: top\">0.69314718056</td>\n",
        "        <td style=\"padding-left: 1em; padding-right: 1em; text-align: center; vertical-align: top\">1.09861228867</td>\n",
        "        <td style=\"padding-left: 1em; padding-right: 1em; text-align: center; vertical-align: top\">1.38629436112</td>\n",
        "    </tr>\n",
        "    <tr>\n",
        "        <td style=\"padding-left: 1em; padding-right: 1em; text-align: center; vertical-align: top\">8</td>\n",
        "        <td style=\"padding-left: 1em; padding-right: 1em; text-align: center; vertical-align: top\">2011</td>\n",
        "        <td style=\"padding-left: 1em; padding-right: 1em; text-align: center; vertical-align: top\">1</td>\n",
        "        <td style=\"padding-left: 1em; padding-right: 1em; text-align: center; vertical-align: top\">1</td>\n",
        "        <td style=\"padding-left: 1em; padding-right: 1em; text-align: center; vertical-align: top\">8</td>\n",
        "        <td style=\"padding-left: 1em; padding-right: 1em; text-align: center; vertical-align: top\">5</td>\n",
        "        <td style=\"padding-left: 1em; padding-right: 1em; text-align: center; vertical-align: top\">0.69314718056</td>\n",
        "        <td style=\"padding-left: 1em; padding-right: 1em; text-align: center; vertical-align: top\">2.07944154168</td>\n",
        "        <td style=\"padding-left: 1em; padding-right: 1em; text-align: center; vertical-align: top\">2.19722457734</td>\n",
        "    </tr>\n",
        "    <tr>\n",
        "        <td style=\"padding-left: 1em; padding-right: 1em; text-align: center; vertical-align: top\">14</td>\n",
        "        <td style=\"padding-left: 1em; padding-right: 1em; text-align: center; vertical-align: top\">2011</td>\n",
        "        <td style=\"padding-left: 1em; padding-right: 1em; text-align: center; vertical-align: top\">1</td>\n",
        "        <td style=\"padding-left: 1em; padding-right: 1em; text-align: center; vertical-align: top\">1</td>\n",
        "        <td style=\"padding-left: 1em; padding-right: 1em; text-align: center; vertical-align: top\">9</td>\n",
        "        <td style=\"padding-left: 1em; padding-right: 1em; text-align: center; vertical-align: top\">5</td>\n",
        "        <td style=\"padding-left: 1em; padding-right: 1em; text-align: center; vertical-align: top\">2.19722457734</td>\n",
        "        <td style=\"padding-left: 1em; padding-right: 1em; text-align: center; vertical-align: top\">1.94591014906</td>\n",
        "        <td style=\"padding-left: 1em; padding-right: 1em; text-align: center; vertical-align: top\">2.7080502011</td>\n",
        "    </tr>\n",
        "</table>\n",
        "[10 rows x 20 columns]<br/>\n",
        "</div>"
       ],
       "metadata": {},
       "output_type": "pyout",
       "prompt_number": 8,
       "text": [
        "Columns:\n",
        "\tdatetime\tstr\n",
        "\tseason\tint\n",
        "\tholiday\tint\n",
        "\tworkingday\tint\n",
        "\tweather\tint\n",
        "\ttemp\tfloat\n",
        "\tatemp\tfloat\n",
        "\thumidity\tint\n",
        "\twindspeed\tfloat\n",
        "\tcasual\tint\n",
        "\tregistered\tint\n",
        "\tcount\tint\n",
        "\tyear\tint\n",
        "\tmonth\tint\n",
        "\tday\tint\n",
        "\thour\tint\n",
        "\tweekday\tint\n",
        "\tlog-casual\tfloat\n",
        "\tlog-registered\tfloat\n",
        "\tlog-count\tfloat\n",
        "\n",
        "Rows: 10\n",
        "\n",
        "Data:\n",
        "+---------------------+--------+---------+------------+---------+-------+--------+\n",
        "|       datetime      | season | holiday | workingday | weather |  temp | atemp  |\n",
        "+---------------------+--------+---------+------------+---------+-------+--------+\n",
        "| 2011-01-01 00:00:00 |   1    |    0    |     0      |    1    |  9.84 | 14.395 |\n",
        "| 2011-01-01 01:00:00 |   1    |    0    |     0      |    1    |  9.02 | 13.635 |\n",
        "| 2011-01-01 02:00:00 |   1    |    0    |     0      |    1    |  9.02 | 13.635 |\n",
        "| 2011-01-01 03:00:00 |   1    |    0    |     0      |    1    |  9.84 | 14.395 |\n",
        "| 2011-01-01 04:00:00 |   1    |    0    |     0      |    1    |  9.84 | 14.395 |\n",
        "| 2011-01-01 05:00:00 |   1    |    0    |     0      |    2    |  9.84 | 12.88  |\n",
        "| 2011-01-01 06:00:00 |   1    |    0    |     0      |    1    |  9.02 | 13.635 |\n",
        "| 2011-01-01 07:00:00 |   1    |    0    |     0      |    1    |  8.2  | 12.88  |\n",
        "| 2011-01-01 08:00:00 |   1    |    0    |     0      |    1    |  9.84 | 14.395 |\n",
        "| 2011-01-01 09:00:00 |   1    |    0    |     0      |    1    | 13.12 | 17.425 |\n",
        "+---------------------+--------+---------+------------+---------+-------+--------+\n",
        "+----------+-----------+--------+------------+-------+------+-------+-----+------+\n",
        "| humidity | windspeed | casual | registered | count | year | month | day | hour |\n",
        "+----------+-----------+--------+------------+-------+------+-------+-----+------+\n",
        "|    81    |    0.0    |   3    |     13     |   16  | 2011 |   1   |  1  |  0   |\n",
        "|    80    |    0.0    |   8    |     32     |   40  | 2011 |   1   |  1  |  1   |\n",
        "|    80    |    0.0    |   5    |     27     |   32  | 2011 |   1   |  1  |  2   |\n",
        "|    75    |    0.0    |   3    |     10     |   13  | 2011 |   1   |  1  |  3   |\n",
        "|    75    |    0.0    |   0    |     1      |   1   | 2011 |   1   |  1  |  4   |\n",
        "|    75    |   6.0032  |   0    |     1      |   1   | 2011 |   1   |  1  |  5   |\n",
        "|    80    |    0.0    |   2    |     0      |   2   | 2011 |   1   |  1  |  6   |\n",
        "|    86    |    0.0    |   1    |     2      |   3   | 2011 |   1   |  1  |  7   |\n",
        "|    75    |    0.0    |   1    |     7      |   8   | 2011 |   1   |  1  |  8   |\n",
        "|    76    |    0.0    |   8    |     6      |   14  | 2011 |   1   |  1  |  9   |\n",
        "+----------+-----------+--------+------------+-------+------+-------+-----+------+\n",
        "+---------+---------------+----------------+---------------+\n",
        "| weekday |   log-casual  | log-registered |   log-count   |\n",
        "+---------+---------------+----------------+---------------+\n",
        "|    5    | 1.38629436112 | 2.63905732962  | 2.83321334406 |\n",
        "|    5    | 2.19722457734 | 3.49650756147  |  3.7135720667 |\n",
        "|    5    | 1.79175946923 | 3.33220451018  | 3.49650756147 |\n",
        "|    5    | 1.38629436112 |  2.3978952728  | 2.63905732962 |\n",
        "|    5    |      0.0      | 0.69314718056  | 0.69314718056 |\n",
        "|    5    |      0.0      | 0.69314718056  | 0.69314718056 |\n",
        "|    5    | 1.09861228867 |      0.0       | 1.09861228867 |\n",
        "|    5    | 0.69314718056 | 1.09861228867  | 1.38629436112 |\n",
        "|    5    | 0.69314718056 | 2.07944154168  | 2.19722457734 |\n",
        "|    5    | 2.19722457734 | 1.94591014906  |  2.7080502011 |\n",
        "+---------+---------------+----------------+---------------+\n",
        "[10 rows x 20 columns]"
       ]
      }
     ],
     "prompt_number": 8
    },
    {
     "cell_type": "code",
     "collapsed": false,
     "input": [
      "## combine the predictions of separtely trained models\n",
      "new_features = features + ['year', 'month', 'weekday', 'hour']\n",
      "new_features.remove('datetime')\n",
      "\n",
      "m1 = gl.boosted_trees.create(training_sframe,\n",
      "                             features = new_features,\n",
      "                             target='log-casual')\n",
      "m2 = gl.boosted_trees.create(training_sframe,\n",
      "                             features = new_features,\n",
      "                             target='log-registered')\n",
      "\n",
      "def fused_predict(m1, m2, test_sframe):\n",
      "    \"\"\"\n",
      "    Fused the prediction of two separately trained models.\n",
      "    The input models are trained in the log domain.\n",
      "    Return the combine predictions in the origianl domain.\n",
      "    \"\"\"\n",
      "    p1 = m1.predict(test_sframe).apply(lambda x: math.exp(x)-1)\n",
      "    p2 = m2.predict(test_sframe).apply(lambda x: math.exp(x)-1)\n",
      "    return (p1+p2).apply(lambda x: x if x>0 else 0)\n",
      "\n",
      "pred1 =fused_predict(m1, m2, training_sframe)\n",
      "#rmse(training_sframe['count'], pred1)\n"
     ],
     "language": "python",
     "metadata": {},
     "outputs": [
      {
       "html": [
        "<pre>PROGRESS: [0]\ttrain-rmse:1.922306</pre>"
       ],
       "metadata": {},
       "output_type": "display_data",
       "text": [
        "PROGRESS: [0]\ttrain-rmse:1.922306"
       ]
      },
      {
       "html": [
        "<pre>PROGRESS: [1]\ttrain-rmse:1.408886</pre>"
       ],
       "metadata": {},
       "output_type": "display_data",
       "text": [
        "PROGRESS: [1]\ttrain-rmse:1.408886"
       ]
      },
      {
       "html": [
        "<pre>PROGRESS: [2]\ttrain-rmse:1.062463</pre>"
       ],
       "metadata": {},
       "output_type": "display_data",
       "text": [
        "PROGRESS: [2]\ttrain-rmse:1.062463"
       ]
      },
      {
       "html": [
        "<pre>PROGRESS: [3]\ttrain-rmse:0.834986</pre>"
       ],
       "metadata": {},
       "output_type": "display_data",
       "text": [
        "PROGRESS: [3]\ttrain-rmse:0.834986"
       ]
      },
      {
       "html": [
        "<pre>PROGRESS: [4]\ttrain-rmse:0.688719</pre>"
       ],
       "metadata": {},
       "output_type": "display_data",
       "text": [
        "PROGRESS: [4]\ttrain-rmse:0.688719"
       ]
      },
      {
       "html": [
        "<pre>PROGRESS: [5]\ttrain-rmse:0.596883</pre>"
       ],
       "metadata": {},
       "output_type": "display_data",
       "text": [
        "PROGRESS: [5]\ttrain-rmse:0.596883"
       ]
      },
      {
       "html": [
        "<pre>PROGRESS: [6]\ttrain-rmse:0.541409</pre>"
       ],
       "metadata": {},
       "output_type": "display_data",
       "text": [
        "PROGRESS: [6]\ttrain-rmse:0.541409"
       ]
      },
      {
       "html": [
        "<pre>PROGRESS: [7]\ttrain-rmse:0.507974</pre>"
       ],
       "metadata": {},
       "output_type": "display_data",
       "text": [
        "PROGRESS: [7]\ttrain-rmse:0.507974"
       ]
      },
      {
       "html": [
        "<pre>PROGRESS: [8]\ttrain-rmse:0.487113</pre>"
       ],
       "metadata": {},
       "output_type": "display_data",
       "text": [
        "PROGRESS: [8]\ttrain-rmse:0.487113"
       ]
      },
      {
       "html": [
        "<pre>PROGRESS: [9]\ttrain-rmse:0.472926</pre>"
       ],
       "metadata": {},
       "output_type": "display_data",
       "text": [
        "PROGRESS: [9]\ttrain-rmse:0.472926"
       ]
      },
      {
       "html": [
        "<pre>PROGRESS: [0]\ttrain-rmse:2.927814</pre>"
       ],
       "metadata": {},
       "output_type": "display_data",
       "text": [
        "PROGRESS: [0]\ttrain-rmse:2.927814"
       ]
      },
      {
       "html": [
        "<pre>PROGRESS: [1]\ttrain-rmse:2.082446</pre>"
       ],
       "metadata": {},
       "output_type": "display_data",
       "text": [
        "PROGRESS: [1]\ttrain-rmse:2.082446"
       ]
      },
      {
       "html": [
        "<pre>PROGRESS: [2]\ttrain-rmse:1.497414</pre>"
       ],
       "metadata": {},
       "output_type": "display_data",
       "text": [
        "PROGRESS: [2]\ttrain-rmse:1.497414"
       ]
      },
      {
       "html": [
        "<pre>PROGRESS: [3]\ttrain-rmse:1.093250</pre>"
       ],
       "metadata": {},
       "output_type": "display_data",
       "text": [
        "PROGRESS: [3]\ttrain-rmse:1.093250"
       ]
      },
      {
       "html": [
        "<pre>PROGRESS: [4]\ttrain-rmse:0.815694</pre>"
       ],
       "metadata": {},
       "output_type": "display_data",
       "text": [
        "PROGRESS: [4]\ttrain-rmse:0.815694"
       ]
      },
      {
       "html": [
        "<pre>PROGRESS: [5]\ttrain-rmse:0.636315</pre>"
       ],
       "metadata": {},
       "output_type": "display_data",
       "text": [
        "PROGRESS: [5]\ttrain-rmse:0.636315"
       ]
      },
      {
       "html": [
        "<pre>PROGRESS: [6]\ttrain-rmse:0.508433</pre>"
       ],
       "metadata": {},
       "output_type": "display_data",
       "text": [
        "PROGRESS: [6]\ttrain-rmse:0.508433"
       ]
      },
      {
       "html": [
        "<pre>PROGRESS: [7]\ttrain-rmse:0.425193</pre>"
       ],
       "metadata": {},
       "output_type": "display_data",
       "text": [
        "PROGRESS: [7]\ttrain-rmse:0.425193"
       ]
      },
      {
       "html": [
        "<pre>PROGRESS: [8]\ttrain-rmse:0.378707</pre>"
       ],
       "metadata": {},
       "output_type": "display_data",
       "text": [
        "PROGRESS: [8]\ttrain-rmse:0.378707"
       ]
      },
      {
       "html": [
        "<pre>PROGRESS: [9]\ttrain-rmse:0.337367</pre>"
       ],
       "metadata": {},
       "output_type": "display_data",
       "text": [
        "PROGRESS: [9]\ttrain-rmse:0.337367"
       ]
      }
     ],
     "prompt_number": 9
    },
    {
     "cell_type": "code",
     "collapsed": false,
     "input": [
      "prediction =fused_predict(m1, m2, test_sframe)\n",
      "prediction = prediction.astype(int)\n",
      "\n",
      "##submission\n",
      "def make_submission(prediction, filename='submission.txt'):\n",
      "    with open(filename, 'w') as f:\n",
      "        f.write('datetime,count\\n')\n",
      "        submission_strings = test_sframe['datetime'] + ',' + prediction.astype(str)\n",
      "        for row in submission_strings:\n",
      "            f.write(row + '\\n')\n",
      "\n",
      "make_submission(prediction, 'submission1.txt')\n"
     ],
     "language": "python",
     "metadata": {},
     "outputs": [],
     "prompt_number": 10
    },
    {
     "cell_type": "code",
     "collapsed": false,
     "input": [
      "#\n",
      "# parameter search\n",
      "#\n",
      "\n",
      "env = gl.deploy.environment.Local('hyperparam_search')\n",
      "training = training_sframe[training_sframe['day'] <= 16]\n",
      "validation = training_sframe[training_sframe['day'] > 16]\n",
      "training.save('/tmp/training')\n",
      "validation.save('/tmp/validation')"
     ],
     "language": "python",
     "metadata": {},
     "outputs": [],
     "prompt_number": 11
    },
    {
     "cell_type": "code",
     "collapsed": false,
     "input": [
      "#Define the search space\n",
      "ntrees = 500\n",
      "search_space = {\n",
      "    'params': {\n",
      "        'max_depth': [10, 15, 20],\n",
      "        'min_child_weight': [5, 10, 20],\n",
      "        'step_size': 0.05,\n",
      "    },\n",
      "    'num_iterations': [ntrees]\n",
      "}\n",
      "\n",
      "def parameter_search(training_url, validation_url, default_params):\n",
      "    \"\"\"\n",
      "    Return the optimal parameters in the given search space.\n",
      "    The parameter returned has the lowest validation rmse.\n",
      "    \"\"\"\n",
      "    job = gl.toolkits.model_parameter_search(env, gl.boosted_trees.create,\n",
      "                                             train_set_path=training_url,\n",
      "                                             save_path='/tmp/job_output',\n",
      "                                             standard_model_params=default_params,\n",
      "                                             hyper_params=search_space,\n",
      "                                             test_set_path=validation_url)\n",
      "\n",
      "\n",
      "    # When the job is done, the result is stored in an SFrame\n",
      "    # The result contains attributes of the models in the search space\n",
      "    # and the validation error in RMSE. \n",
      "    result = gl.SFrame('/tmp/job_output').sort('rmse', ascending=True)\n",
      "\n",
      "    # Return the parameters with the lowest validation error. \n",
      "    optimal_params = result[['max_depth', 'min_child_weight']][0]\n",
      "    optimal_rmse = result['rmse'][0]\n",
      "    print 'Optimal parameters: %s' % str(optimal_params)\n",
      "    print 'RMSE: %s' % str(optimal_rmse)\n",
      "    return optimal_params\n"
     ],
     "language": "python",
     "metadata": {},
     "outputs": [],
     "prompt_number": 12
    },
    {
     "cell_type": "code",
     "collapsed": false,
     "input": [
      "gl.version\n",
      "#Perform hyperparameter search for both models\n",
      "fixed_params = {'features': new_features,\n",
      "                'verbose': False}\n",
      "\n",
      "fixed_params['target'] = 'log-casual'\n",
      "params_log_casual = parameter_search('/tmp/training',\n",
      "                                     '/tmp/validation',\n",
      "                                     fixed_params)\n"
     ],
     "language": "python",
     "metadata": {},
     "outputs": [
      {
       "output_type": "stream",
       "stream": "stderr",
       "text": [
        "[INFO] Preparing using environment: hyperparam_search\n"
       ]
      },
      {
       "output_type": "stream",
       "stream": "stderr",
       "text": [
        "[INFO] Validating job: 'Model-Parameter-Search-1411409810.39'\n"
       ]
      },
      {
       "output_type": "stream",
       "stream": "stderr",
       "text": [
        "[INFO] Validation complete. Job: 'Model-Parameter-Search-1411409810.39' ready for execution\n"
       ]
      },
      {
       "output_type": "stream",
       "stream": "stderr",
       "text": [
        "[INFO] Execution started: Model-Parameter-Search-1411409810.39\n"
       ]
      },
      {
       "output_type": "stream",
       "stream": "stderr",
       "text": [
        "[INFO] Execution path: /tmp/job-exec-eHBdhp\n"
       ]
      },
      {
       "output_type": "stream",
       "stream": "stderr",
       "text": [
        "[INFO] Task started: Model-Parameter-Search-1411409810.39-Task-   0\n"
       ]
      },
      {
       "output_type": "stream",
       "stream": "stderr",
       "text": [
        "[INFO] Task completed: Model-Parameter-Search-1411409810.39-Task-   0\n"
       ]
      },
      {
       "output_type": "stream",
       "stream": "stderr",
       "text": [
        "[INFO] Execution completed: Model-Parameter-Search-1411409810.39\n"
       ]
      },
      {
       "output_type": "stream",
       "stream": "stderr",
       "text": [
        "[INFO] Job saved successfully.\n"
       ]
      },
      {
       "output_type": "stream",
       "stream": "stdout",
       "text": [
        "Optimal parameters: {'max_depth': 10, 'min_child_weight': 20}\n",
        "RMSE: 0.52224779129\n"
       ]
      }
     ],
     "prompt_number": 13
    },
    {
     "cell_type": "code",
     "collapsed": false,
     "input": [
      "params_log_casual"
     ],
     "language": "python",
     "metadata": {},
     "outputs": [
      {
       "metadata": {},
       "output_type": "pyout",
       "prompt_number": 14,
       "text": [
        "{'max_depth': 10, 'min_child_weight': 20}"
       ]
      }
     ],
     "prompt_number": 14
    },
    {
     "cell_type": "code",
     "collapsed": false,
     "input": [
      "\n",
      "fixed_params['target'] = 'log-registered'\n",
      "params_log_registered = parameter_search('/tmp/training',\n",
      "                                         '/tmp/validation',\n",
      "                                         fixed_params)"
     ],
     "language": "python",
     "metadata": {},
     "outputs": [
      {
       "output_type": "stream",
       "stream": "stderr",
       "text": [
        "[INFO] Preparing using environment: hyperparam_search\n"
       ]
      },
      {
       "output_type": "stream",
       "stream": "stderr",
       "text": [
        "[INFO] Validating job: 'Model-Parameter-Search-1411411000.42'\n"
       ]
      },
      {
       "output_type": "stream",
       "stream": "stderr",
       "text": [
        "[INFO] Validation complete. Job: 'Model-Parameter-Search-1411411000.42' ready for execution\n"
       ]
      },
      {
       "output_type": "stream",
       "stream": "stderr",
       "text": [
        "[INFO] Execution started: Model-Parameter-Search-1411411000.42\n"
       ]
      },
      {
       "output_type": "stream",
       "stream": "stderr",
       "text": [
        "[INFO] Execution path: /tmp/job-exec-e9OHKR\n"
       ]
      },
      {
       "output_type": "stream",
       "stream": "stderr",
       "text": [
        "[INFO] Task started: Model-Parameter-Search-1411411000.42-Task-   0\n"
       ]
      },
      {
       "output_type": "stream",
       "stream": "stderr",
       "text": [
        "[INFO] Task completed: Model-Parameter-Search-1411411000.42-Task-   0\n"
       ]
      },
      {
       "output_type": "stream",
       "stream": "stderr",
       "text": [
        "[INFO] Execution completed: Model-Parameter-Search-1411411000.42\n"
       ]
      },
      {
       "output_type": "stream",
       "stream": "stderr",
       "text": [
        "[INFO] Job saved successfully.\n"
       ]
      },
      {
       "output_type": "stream",
       "stream": "stdout",
       "text": [
        "Optimal parameters: {'max_depth': 10, 'min_child_weight': 20}\n",
        "RMSE: 0.295190781355\n"
       ]
      }
     ],
     "prompt_number": 15
    },
    {
     "cell_type": "code",
     "collapsed": false,
     "input": [
      "#Train models with the tuned hyperparameters\n",
      "#Doing hyperparameter search requires us to hold out a validation set from the original training data. In the final submission, we want to train models that take full advantages of the provided training data.\n",
      "\n",
      "m_log_registered = gl.boosted_trees.create(training_sframe,\n",
      "                                           features=new_features,\n",
      "                                           target='log-registered',\n",
      "                                           num_iterations=ntrees,\n",
      "                                           params=params_log_registered,\n",
      "                                           verbose=False)\n",
      "\n",
      "m_log_casual = gl.boosted_trees.create(training_sframe,\n",
      "                                       features=new_features,\n",
      "                                       target='log-casual',\n",
      "                                       num_iterations=ntrees,\n",
      "                                       params=params_log_casual,\n",
      "                                       verbose=False)\n",
      "\n",
      "final_prediction = fused_predict(m_log_registered, m_log_casual, test_sframe)\n",
      "\n",
      "make_submission(final_prediction, 'submission2.txt')"
     ],
     "language": "python",
     "metadata": {},
     "outputs": [],
     "prompt_number": 16
    },
    {
     "cell_type": "code",
     "collapsed": false,
     "input": [],
     "language": "python",
     "metadata": {},
     "outputs": []
    }
   ],
   "metadata": {}
  }
 ]
}