{
 "metadata": {
  "name": "",
  "signature": "sha256:940aaf5edb788cad1289e64cb5f6f1b1b43cd3a8a85380f77d1cf20385204eb3"
 },
 "nbformat": 3,
 "nbformat_minor": 0,
 "worksheets": [
  {
   "cells": [
    {
     "cell_type": "code",
     "collapsed": false,
     "input": [
      "import graphlab as gl\n",
      "\n",
      "# load training data\n",
      "training_column_types = [str,int,int,int,int,float,float,int,float,int,int,int]\n",
      "training_sframe = gl.SFrame.read_csv('train.csv', column_type_hints=training_column_types)\n",
      "\n",
      "# load test data\n",
      "test_column_types = [str,int,int,int,int,float,float,int,float]\n",
      "test_sframe = gl.SFrame.read_csv('test.csv', column_type_hints=test_column_types)\n",
      "\n"
     ],
     "language": "python",
     "metadata": {},
     "outputs": [
      {
       "html": [
        "<pre>PROGRESS: Finished parsing file /Users/wangwf/work/datasciencecoursera/kaggle/bikesharing/train.csv</pre>"
       ],
       "metadata": {},
       "output_type": "display_data",
       "text": [
        "PROGRESS: Finished parsing file /Users/wangwf/work/datasciencecoursera/kaggle/bikesharing/train.csv"
       ]
      },
      {
       "html": [
        "<pre>PROGRESS: Parsing completed. Parsed 10886 lines in 0.045525 secs.</pre>"
       ],
       "metadata": {},
       "output_type": "display_data",
       "text": [
        "PROGRESS: Parsing completed. Parsed 10886 lines in 0.045525 secs."
       ]
      },
      {
       "html": [
        "<pre>PROGRESS: Finished parsing file /Users/wangwf/work/datasciencecoursera/kaggle/bikesharing/test.csv</pre>"
       ],
       "metadata": {},
       "output_type": "display_data",
       "text": [
        "PROGRESS: Finished parsing file /Users/wangwf/work/datasciencecoursera/kaggle/bikesharing/test.csv"
       ]
      },
      {
       "html": [
        "<pre>PROGRESS: Parsing completed. Parsed 6493 lines in 0.011034 secs.</pre>"
       ],
       "metadata": {},
       "output_type": "display_data",
       "text": [
        "PROGRESS: Parsing completed. Parsed 6493 lines in 0.011034 secs."
       ]
      }
     ],
     "prompt_number": 20
    },
    {
     "cell_type": "code",
     "collapsed": false,
     "input": [
      "# train a model\n",
      "features = ['datetime', 'season', 'holiday', 'workingday', 'weather',\n",
      "            'temp', 'atemp', 'humidity', 'windspeed']\n",
      "m = gl.boosted_trees.create(training_sframe,\n",
      "                            features=features, \n",
      "                            target='count', objective='regression',\n",
      "                            num_iterations=100)\n"
     ],
     "language": "python",
     "metadata": {},
     "outputs": [
      {
       "html": [
        "<pre>PROGRESS: [0]\ttrain-rmse:254.087296</pre>"
       ],
       "metadata": {},
       "output_type": "display_data",
       "text": [
        "PROGRESS: [0]\ttrain-rmse:254.087296"
       ]
      },
      {
       "html": [
        "<pre>PROGRESS: [1]\ttrain-rmse:245.453781</pre>"
       ],
       "metadata": {},
       "output_type": "display_data",
       "text": [
        "PROGRESS: [1]\ttrain-rmse:245.453781"
       ]
      },
      {
       "html": [
        "<pre>PROGRESS: [2]\ttrain-rmse:237.378922</pre>"
       ],
       "metadata": {},
       "output_type": "display_data",
       "text": [
        "PROGRESS: [2]\ttrain-rmse:237.378922"
       ]
      },
      {
       "html": [
        "<pre>PROGRESS: [3]\ttrain-rmse:229.815582</pre>"
       ],
       "metadata": {},
       "output_type": "display_data",
       "text": [
        "PROGRESS: [3]\ttrain-rmse:229.815582"
       ]
      },
      {
       "html": [
        "<pre>PROGRESS: [4]\ttrain-rmse:222.750656</pre>"
       ],
       "metadata": {},
       "output_type": "display_data",
       "text": [
        "PROGRESS: [4]\ttrain-rmse:222.750656"
       ]
      },
      {
       "html": [
        "<pre>PROGRESS: [5]\ttrain-rmse:216.157257</pre>"
       ],
       "metadata": {},
       "output_type": "display_data",
       "text": [
        "PROGRESS: [5]\ttrain-rmse:216.157257"
       ]
      },
      {
       "html": [
        "<pre>PROGRESS: [6]\ttrain-rmse:209.994827</pre>"
       ],
       "metadata": {},
       "output_type": "display_data",
       "text": [
        "PROGRESS: [6]\ttrain-rmse:209.994827"
       ]
      },
      {
       "html": [
        "<pre>PROGRESS: [7]\ttrain-rmse:204.244537</pre>"
       ],
       "metadata": {},
       "output_type": "display_data",
       "text": [
        "PROGRESS: [7]\ttrain-rmse:204.244537"
       ]
      },
      {
       "html": [
        "<pre>PROGRESS: [8]\ttrain-rmse:198.867508</pre>"
       ],
       "metadata": {},
       "output_type": "display_data",
       "text": [
        "PROGRESS: [8]\ttrain-rmse:198.867508"
       ]
      },
      {
       "html": [
        "<pre>PROGRESS: [9]\ttrain-rmse:193.850662</pre>"
       ],
       "metadata": {},
       "output_type": "display_data",
       "text": [
        "PROGRESS: [9]\ttrain-rmse:193.850662"
       ]
      },
      {
       "html": [
        "<pre>PROGRESS: [10]\ttrain-rmse:189.165070</pre>"
       ],
       "metadata": {},
       "output_type": "display_data",
       "text": [
        "PROGRESS: [10]\ttrain-rmse:189.165070"
       ]
      },
      {
       "html": [
        "<pre>PROGRESS: [11]\ttrain-rmse:184.817978</pre>"
       ],
       "metadata": {},
       "output_type": "display_data",
       "text": [
        "PROGRESS: [11]\ttrain-rmse:184.817978"
       ]
      },
      {
       "html": [
        "<pre>PROGRESS: [12]\ttrain-rmse:180.783463</pre>"
       ],
       "metadata": {},
       "output_type": "display_data",
       "text": [
        "PROGRESS: [12]\ttrain-rmse:180.783463"
       ]
      },
      {
       "html": [
        "<pre>PROGRESS: [13]\ttrain-rmse:177.030441</pre>"
       ],
       "metadata": {},
       "output_type": "display_data",
       "text": [
        "PROGRESS: [13]\ttrain-rmse:177.030441"
       ]
      },
      {
       "html": [
        "<pre>PROGRESS: [14]\ttrain-rmse:173.574646</pre>"
       ],
       "metadata": {},
       "output_type": "display_data",
       "text": [
        "PROGRESS: [14]\ttrain-rmse:173.574646"
       ]
      },
      {
       "html": [
        "<pre>PROGRESS: [15]\ttrain-rmse:170.328796</pre>"
       ],
       "metadata": {},
       "output_type": "display_data",
       "text": [
        "PROGRESS: [15]\ttrain-rmse:170.328796"
       ]
      },
      {
       "html": [
        "<pre>PROGRESS: [16]\ttrain-rmse:167.325317</pre>"
       ],
       "metadata": {},
       "output_type": "display_data",
       "text": [
        "PROGRESS: [16]\ttrain-rmse:167.325317"
       ]
      },
      {
       "html": [
        "<pre>PROGRESS: [17]\ttrain-rmse:164.542648</pre>"
       ],
       "metadata": {},
       "output_type": "display_data",
       "text": [
        "PROGRESS: [17]\ttrain-rmse:164.542648"
       ]
      },
      {
       "html": [
        "<pre>PROGRESS: [18]\ttrain-rmse:161.955017</pre>"
       ],
       "metadata": {},
       "output_type": "display_data",
       "text": [
        "PROGRESS: [18]\ttrain-rmse:161.955017"
       ]
      },
      {
       "html": [
        "<pre>PROGRESS: [19]\ttrain-rmse:159.545700</pre>"
       ],
       "metadata": {},
       "output_type": "display_data",
       "text": [
        "PROGRESS: [19]\ttrain-rmse:159.545700"
       ]
      },
      {
       "html": [
        "<pre>PROGRESS: [20]\ttrain-rmse:157.345688</pre>"
       ],
       "metadata": {},
       "output_type": "display_data",
       "text": [
        "PROGRESS: [20]\ttrain-rmse:157.345688"
       ]
      },
      {
       "html": [
        "<pre>PROGRESS: [21]\ttrain-rmse:155.282394</pre>"
       ],
       "metadata": {},
       "output_type": "display_data",
       "text": [
        "PROGRESS: [21]\ttrain-rmse:155.282394"
       ]
      },
      {
       "html": [
        "<pre>PROGRESS: [22]\ttrain-rmse:153.380005</pre>"
       ],
       "metadata": {},
       "output_type": "display_data",
       "text": [
        "PROGRESS: [22]\ttrain-rmse:153.380005"
       ]
      },
      {
       "html": [
        "<pre>PROGRESS: [23]\ttrain-rmse:151.612183</pre>"
       ],
       "metadata": {},
       "output_type": "display_data",
       "text": [
        "PROGRESS: [23]\ttrain-rmse:151.612183"
       ]
      },
      {
       "html": [
        "<pre>PROGRESS: [24]\ttrain-rmse:149.971588</pre>"
       ],
       "metadata": {},
       "output_type": "display_data",
       "text": [
        "PROGRESS: [24]\ttrain-rmse:149.971588"
       ]
      },
      {
       "html": [
        "<pre>PROGRESS: [25]\ttrain-rmse:148.485947</pre>"
       ],
       "metadata": {},
       "output_type": "display_data",
       "text": [
        "PROGRESS: [25]\ttrain-rmse:148.485947"
       ]
      },
      {
       "html": [
        "<pre>PROGRESS: [26]\ttrain-rmse:147.092453</pre>"
       ],
       "metadata": {},
       "output_type": "display_data",
       "text": [
        "PROGRESS: [26]\ttrain-rmse:147.092453"
       ]
      },
      {
       "html": [
        "<pre>PROGRESS: [27]\ttrain-rmse:145.814178</pre>"
       ],
       "metadata": {},
       "output_type": "display_data",
       "text": [
        "PROGRESS: [27]\ttrain-rmse:145.814178"
       ]
      },
      {
       "html": [
        "<pre>PROGRESS: [28]\ttrain-rmse:144.617279</pre>"
       ],
       "metadata": {},
       "output_type": "display_data",
       "text": [
        "PROGRESS: [28]\ttrain-rmse:144.617279"
       ]
      },
      {
       "html": [
        "<pre>PROGRESS: [29]\ttrain-rmse:143.487213</pre>"
       ],
       "metadata": {},
       "output_type": "display_data",
       "text": [
        "PROGRESS: [29]\ttrain-rmse:143.487213"
       ]
      },
      {
       "html": [
        "<pre>PROGRESS: [30]\ttrain-rmse:142.477936</pre>"
       ],
       "metadata": {},
       "output_type": "display_data",
       "text": [
        "PROGRESS: [30]\ttrain-rmse:142.477936"
       ]
      },
      {
       "html": [
        "<pre>PROGRESS: [31]\ttrain-rmse:141.507797</pre>"
       ],
       "metadata": {},
       "output_type": "display_data",
       "text": [
        "PROGRESS: [31]\ttrain-rmse:141.507797"
       ]
      },
      {
       "html": [
        "<pre>PROGRESS: [32]\ttrain-rmse:140.594742</pre>"
       ],
       "metadata": {},
       "output_type": "display_data",
       "text": [
        "PROGRESS: [32]\ttrain-rmse:140.594742"
       ]
      },
      {
       "html": [
        "<pre>PROGRESS: [33]\ttrain-rmse:139.786469</pre>"
       ],
       "metadata": {},
       "output_type": "display_data",
       "text": [
        "PROGRESS: [33]\ttrain-rmse:139.786469"
       ]
      },
      {
       "html": [
        "<pre>PROGRESS: [34]\ttrain-rmse:138.961563</pre>"
       ],
       "metadata": {},
       "output_type": "display_data",
       "text": [
        "PROGRESS: [34]\ttrain-rmse:138.961563"
       ]
      },
      {
       "html": [
        "<pre>PROGRESS: [35]\ttrain-rmse:138.227829</pre>"
       ],
       "metadata": {},
       "output_type": "display_data",
       "text": [
        "PROGRESS: [35]\ttrain-rmse:138.227829"
       ]
      },
      {
       "html": [
        "<pre>PROGRESS: [36]\ttrain-rmse:137.555817</pre>"
       ],
       "metadata": {},
       "output_type": "display_data",
       "text": [
        "PROGRESS: [36]\ttrain-rmse:137.555817"
       ]
      },
      {
       "html": [
        "<pre>PROGRESS: [37]\ttrain-rmse:136.888474</pre>"
       ],
       "metadata": {},
       "output_type": "display_data",
       "text": [
        "PROGRESS: [37]\ttrain-rmse:136.888474"
       ]
      },
      {
       "html": [
        "<pre>PROGRESS: [38]\ttrain-rmse:136.298386</pre>"
       ],
       "metadata": {},
       "output_type": "display_data",
       "text": [
        "PROGRESS: [38]\ttrain-rmse:136.298386"
       ]
      },
      {
       "html": [
        "<pre>PROGRESS: [39]\ttrain-rmse:135.700928</pre>"
       ],
       "metadata": {},
       "output_type": "display_data",
       "text": [
        "PROGRESS: [39]\ttrain-rmse:135.700928"
       ]
      },
      {
       "html": [
        "<pre>PROGRESS: [40]\ttrain-rmse:135.156082</pre>"
       ],
       "metadata": {},
       "output_type": "display_data",
       "text": [
        "PROGRESS: [40]\ttrain-rmse:135.156082"
       ]
      },
      {
       "html": [
        "<pre>PROGRESS: [41]\ttrain-rmse:134.620956</pre>"
       ],
       "metadata": {},
       "output_type": "display_data",
       "text": [
        "PROGRESS: [41]\ttrain-rmse:134.620956"
       ]
      },
      {
       "html": [
        "<pre>PROGRESS: [42]\ttrain-rmse:134.140289</pre>"
       ],
       "metadata": {},
       "output_type": "display_data",
       "text": [
        "PROGRESS: [42]\ttrain-rmse:134.140289"
       ]
      },
      {
       "html": [
        "<pre>PROGRESS: [43]\ttrain-rmse:133.678375</pre>"
       ],
       "metadata": {},
       "output_type": "display_data",
       "text": [
        "PROGRESS: [43]\ttrain-rmse:133.678375"
       ]
      },
      {
       "html": [
        "<pre>PROGRESS: [44]\ttrain-rmse:133.235306</pre>"
       ],
       "metadata": {},
       "output_type": "display_data",
       "text": [
        "PROGRESS: [44]\ttrain-rmse:133.235306"
       ]
      },
      {
       "html": [
        "<pre>PROGRESS: [45]\ttrain-rmse:132.834000</pre>"
       ],
       "metadata": {},
       "output_type": "display_data",
       "text": [
        "PROGRESS: [45]\ttrain-rmse:132.834000"
       ]
      },
      {
       "html": [
        "<pre>PROGRESS: [46]\ttrain-rmse:132.469788</pre>"
       ],
       "metadata": {},
       "output_type": "display_data",
       "text": [
        "PROGRESS: [46]\ttrain-rmse:132.469788"
       ]
      },
      {
       "html": [
        "<pre>PROGRESS: [47]\ttrain-rmse:132.112564</pre>"
       ],
       "metadata": {},
       "output_type": "display_data",
       "text": [
        "PROGRESS: [47]\ttrain-rmse:132.112564"
       ]
      },
      {
       "html": [
        "<pre>PROGRESS: [48]\ttrain-rmse:131.737610</pre>"
       ],
       "metadata": {},
       "output_type": "display_data",
       "text": [
        "PROGRESS: [48]\ttrain-rmse:131.737610"
       ]
      },
      {
       "html": [
        "<pre>PROGRESS: [49]\ttrain-rmse:131.396103</pre>"
       ],
       "metadata": {},
       "output_type": "display_data",
       "text": [
        "PROGRESS: [49]\ttrain-rmse:131.396103"
       ]
      },
      {
       "html": [
        "<pre>PROGRESS: [50]\ttrain-rmse:131.093384</pre>"
       ],
       "metadata": {},
       "output_type": "display_data",
       "text": [
        "PROGRESS: [50]\ttrain-rmse:131.093384"
       ]
      },
      {
       "html": [
        "<pre>PROGRESS: [51]\ttrain-rmse:130.842422</pre>"
       ],
       "metadata": {},
       "output_type": "display_data",
       "text": [
        "PROGRESS: [51]\ttrain-rmse:130.842422"
       ]
      },
      {
       "html": [
        "<pre>PROGRESS: [52]\ttrain-rmse:130.571747</pre>"
       ],
       "metadata": {},
       "output_type": "display_data",
       "text": [
        "PROGRESS: [52]\ttrain-rmse:130.571747"
       ]
      },
      {
       "html": [
        "<pre>PROGRESS: [53]\ttrain-rmse:130.317749</pre>"
       ],
       "metadata": {},
       "output_type": "display_data",
       "text": [
        "PROGRESS: [53]\ttrain-rmse:130.317749"
       ]
      },
      {
       "html": [
        "<pre>PROGRESS: [54]\ttrain-rmse:130.064545</pre>"
       ],
       "metadata": {},
       "output_type": "display_data",
       "text": [
        "PROGRESS: [54]\ttrain-rmse:130.064545"
       ]
      },
      {
       "html": [
        "<pre>PROGRESS: [55]\ttrain-rmse:129.828934</pre>"
       ],
       "metadata": {},
       "output_type": "display_data",
       "text": [
        "PROGRESS: [55]\ttrain-rmse:129.828934"
       ]
      },
      {
       "html": [
        "<pre>PROGRESS: [56]\ttrain-rmse:129.626511</pre>"
       ],
       "metadata": {},
       "output_type": "display_data",
       "text": [
        "PROGRESS: [56]\ttrain-rmse:129.626511"
       ]
      },
      {
       "html": [
        "<pre>PROGRESS: [57]\ttrain-rmse:129.387451</pre>"
       ],
       "metadata": {},
       "output_type": "display_data",
       "text": [
        "PROGRESS: [57]\ttrain-rmse:129.387451"
       ]
      },
      {
       "html": [
        "<pre>PROGRESS: [58]\ttrain-rmse:129.171982</pre>"
       ],
       "metadata": {},
       "output_type": "display_data",
       "text": [
        "PROGRESS: [58]\ttrain-rmse:129.171982"
       ]
      },
      {
       "html": [
        "<pre>PROGRESS: [59]\ttrain-rmse:128.956039</pre>"
       ],
       "metadata": {},
       "output_type": "display_data",
       "text": [
        "PROGRESS: [59]\ttrain-rmse:128.956039"
       ]
      },
      {
       "html": [
        "<pre>PROGRESS: [60]\ttrain-rmse:128.744339</pre>"
       ],
       "metadata": {},
       "output_type": "display_data",
       "text": [
        "PROGRESS: [60]\ttrain-rmse:128.744339"
       ]
      },
      {
       "html": [
        "<pre>PROGRESS: [61]\ttrain-rmse:128.555298</pre>"
       ],
       "metadata": {},
       "output_type": "display_data",
       "text": [
        "PROGRESS: [61]\ttrain-rmse:128.555298"
       ]
      },
      {
       "html": [
        "<pre>PROGRESS: [62]\ttrain-rmse:128.369873</pre>"
       ],
       "metadata": {},
       "output_type": "display_data",
       "text": [
        "PROGRESS: [62]\ttrain-rmse:128.369873"
       ]
      },
      {
       "html": [
        "<pre>PROGRESS: [63]\ttrain-rmse:128.191940</pre>"
       ],
       "metadata": {},
       "output_type": "display_data",
       "text": [
        "PROGRESS: [63]\ttrain-rmse:128.191940"
       ]
      },
      {
       "html": [
        "<pre>PROGRESS: [64]\ttrain-rmse:128.013138</pre>"
       ],
       "metadata": {},
       "output_type": "display_data",
       "text": [
        "PROGRESS: [64]\ttrain-rmse:128.013138"
       ]
      },
      {
       "html": [
        "<pre>PROGRESS: [65]\ttrain-rmse:127.850723</pre>"
       ],
       "metadata": {},
       "output_type": "display_data",
       "text": [
        "PROGRESS: [65]\ttrain-rmse:127.850723"
       ]
      },
      {
       "html": [
        "<pre>PROGRESS: [66]\ttrain-rmse:127.643707</pre>"
       ],
       "metadata": {},
       "output_type": "display_data",
       "text": [
        "PROGRESS: [66]\ttrain-rmse:127.643707"
       ]
      },
      {
       "html": [
        "<pre>PROGRESS: [67]\ttrain-rmse:127.529533</pre>"
       ],
       "metadata": {},
       "output_type": "display_data",
       "text": [
        "PROGRESS: [67]\ttrain-rmse:127.529533"
       ]
      },
      {
       "html": [
        "<pre>PROGRESS: [68]\ttrain-rmse:127.367538</pre>"
       ],
       "metadata": {},
       "output_type": "display_data",
       "text": [
        "PROGRESS: [68]\ttrain-rmse:127.367538"
       ]
      },
      {
       "html": [
        "<pre>PROGRESS: [69]\ttrain-rmse:127.220871</pre>"
       ],
       "metadata": {},
       "output_type": "display_data",
       "text": [
        "PROGRESS: [69]\ttrain-rmse:127.220871"
       ]
      },
      {
       "html": [
        "<pre>PROGRESS: [70]\ttrain-rmse:127.056320</pre>"
       ],
       "metadata": {},
       "output_type": "display_data",
       "text": [
        "PROGRESS: [70]\ttrain-rmse:127.056320"
       ]
      },
      {
       "html": [
        "<pre>PROGRESS: [71]\ttrain-rmse:126.938904</pre>"
       ],
       "metadata": {},
       "output_type": "display_data",
       "text": [
        "PROGRESS: [71]\ttrain-rmse:126.938904"
       ]
      },
      {
       "html": [
        "<pre>PROGRESS: [72]\ttrain-rmse:126.812927</pre>"
       ],
       "metadata": {},
       "output_type": "display_data",
       "text": [
        "PROGRESS: [72]\ttrain-rmse:126.812927"
       ]
      },
      {
       "html": [
        "<pre>PROGRESS: [73]\ttrain-rmse:126.709770</pre>"
       ],
       "metadata": {},
       "output_type": "display_data",
       "text": [
        "PROGRESS: [73]\ttrain-rmse:126.709770"
       ]
      },
      {
       "html": [
        "<pre>PROGRESS: [74]\ttrain-rmse:126.603737</pre>"
       ],
       "metadata": {},
       "output_type": "display_data",
       "text": [
        "PROGRESS: [74]\ttrain-rmse:126.603737"
       ]
      },
      {
       "html": [
        "<pre>PROGRESS: [75]\ttrain-rmse:126.541183</pre>"
       ],
       "metadata": {},
       "output_type": "display_data",
       "text": [
        "PROGRESS: [75]\ttrain-rmse:126.541183"
       ]
      },
      {
       "html": [
        "<pre>PROGRESS: [76]\ttrain-rmse:126.409950</pre>"
       ],
       "metadata": {},
       "output_type": "display_data",
       "text": [
        "PROGRESS: [76]\ttrain-rmse:126.409950"
       ]
      },
      {
       "html": [
        "<pre>PROGRESS: [77]\ttrain-rmse:126.280220</pre>"
       ],
       "metadata": {},
       "output_type": "display_data",
       "text": [
        "PROGRESS: [77]\ttrain-rmse:126.280220"
       ]
      },
      {
       "html": [
        "<pre>PROGRESS: [78]\ttrain-rmse:126.181664</pre>"
       ],
       "metadata": {},
       "output_type": "display_data",
       "text": [
        "PROGRESS: [78]\ttrain-rmse:126.181664"
       ]
      },
      {
       "html": [
        "<pre>PROGRESS: [79]\ttrain-rmse:126.130241</pre>"
       ],
       "metadata": {},
       "output_type": "display_data",
       "text": [
        "PROGRESS: [79]\ttrain-rmse:126.130241"
       ]
      },
      {
       "html": [
        "<pre>PROGRESS: [80]\ttrain-rmse:126.065536</pre>"
       ],
       "metadata": {},
       "output_type": "display_data",
       "text": [
        "PROGRESS: [80]\ttrain-rmse:126.065536"
       ]
      },
      {
       "html": [
        "<pre>PROGRESS: [81]\ttrain-rmse:126.003052</pre>"
       ],
       "metadata": {},
       "output_type": "display_data",
       "text": [
        "PROGRESS: [81]\ttrain-rmse:126.003052"
       ]
      },
      {
       "html": [
        "<pre>PROGRESS: [82]\ttrain-rmse:125.941353</pre>"
       ],
       "metadata": {},
       "output_type": "display_data",
       "text": [
        "PROGRESS: [82]\ttrain-rmse:125.941353"
       ]
      },
      {
       "html": [
        "<pre>PROGRESS: [83]\ttrain-rmse:125.877792</pre>"
       ],
       "metadata": {},
       "output_type": "display_data",
       "text": [
        "PROGRESS: [83]\ttrain-rmse:125.877792"
       ]
      },
      {
       "html": [
        "<pre>PROGRESS: [84]\ttrain-rmse:125.824196</pre>"
       ],
       "metadata": {},
       "output_type": "display_data",
       "text": [
        "PROGRESS: [84]\ttrain-rmse:125.824196"
       ]
      },
      {
       "html": [
        "<pre>PROGRESS: [85]\ttrain-rmse:125.777618</pre>"
       ],
       "metadata": {},
       "output_type": "display_data",
       "text": [
        "PROGRESS: [85]\ttrain-rmse:125.777618"
       ]
      },
      {
       "html": [
        "<pre>PROGRESS: [86]\ttrain-rmse:125.735725</pre>"
       ],
       "metadata": {},
       "output_type": "display_data",
       "text": [
        "PROGRESS: [86]\ttrain-rmse:125.735725"
       ]
      },
      {
       "html": [
        "<pre>PROGRESS: [87]\ttrain-rmse:125.688461</pre>"
       ],
       "metadata": {},
       "output_type": "display_data",
       "text": [
        "PROGRESS: [87]\ttrain-rmse:125.688461"
       ]
      },
      {
       "html": [
        "<pre>PROGRESS: [88]\ttrain-rmse:125.644714</pre>"
       ],
       "metadata": {},
       "output_type": "display_data",
       "text": [
        "PROGRESS: [88]\ttrain-rmse:125.644714"
       ]
      },
      {
       "html": [
        "<pre>PROGRESS: [89]\ttrain-rmse:125.602310</pre>"
       ],
       "metadata": {},
       "output_type": "display_data",
       "text": [
        "PROGRESS: [89]\ttrain-rmse:125.602310"
       ]
      },
      {
       "html": [
        "<pre>PROGRESS: [90]\ttrain-rmse:125.508705</pre>"
       ],
       "metadata": {},
       "output_type": "display_data",
       "text": [
        "PROGRESS: [90]\ttrain-rmse:125.508705"
       ]
      },
      {
       "html": [
        "<pre>PROGRESS: [91]\ttrain-rmse:125.482300</pre>"
       ],
       "metadata": {},
       "output_type": "display_data",
       "text": [
        "PROGRESS: [91]\ttrain-rmse:125.482300"
       ]
      },
      {
       "html": [
        "<pre>PROGRESS: [92]\ttrain-rmse:125.393585</pre>"
       ],
       "metadata": {},
       "output_type": "display_data",
       "text": [
        "PROGRESS: [92]\ttrain-rmse:125.393585"
       ]
      },
      {
       "html": [
        "<pre>PROGRESS: [93]\ttrain-rmse:125.340981</pre>"
       ],
       "metadata": {},
       "output_type": "display_data",
       "text": [
        "PROGRESS: [93]\ttrain-rmse:125.340981"
       ]
      },
      {
       "html": [
        "<pre>PROGRESS: [94]\ttrain-rmse:125.210632</pre>"
       ],
       "metadata": {},
       "output_type": "display_data",
       "text": [
        "PROGRESS: [94]\ttrain-rmse:125.210632"
       ]
      },
      {
       "html": [
        "<pre>PROGRESS: [95]\ttrain-rmse:125.100456</pre>"
       ],
       "metadata": {},
       "output_type": "display_data",
       "text": [
        "PROGRESS: [95]\ttrain-rmse:125.100456"
       ]
      },
      {
       "html": [
        "<pre>PROGRESS: [96]\ttrain-rmse:125.065582</pre>"
       ],
       "metadata": {},
       "output_type": "display_data",
       "text": [
        "PROGRESS: [96]\ttrain-rmse:125.065582"
       ]
      },
      {
       "html": [
        "<pre>PROGRESS: [97]\ttrain-rmse:125.031219</pre>"
       ],
       "metadata": {},
       "output_type": "display_data",
       "text": [
        "PROGRESS: [97]\ttrain-rmse:125.031219"
       ]
      },
      {
       "html": [
        "<pre>PROGRESS: [98]\ttrain-rmse:124.930779</pre>"
       ],
       "metadata": {},
       "output_type": "display_data",
       "text": [
        "PROGRESS: [98]\ttrain-rmse:124.930779"
       ]
      },
      {
       "html": [
        "<pre>PROGRESS: [99]\ttrain-rmse:124.838943</pre>"
       ],
       "metadata": {},
       "output_type": "display_data",
       "text": [
        "PROGRESS: [99]\ttrain-rmse:124.838943"
       ]
      }
     ],
     "prompt_number": 21
    },
    {
     "cell_type": "code",
     "collapsed": false,
     "input": [
      "import numpy as np\n",
      "def rmse(predictions, targets):\n",
      "    return np.sqrt( ((predictions - targets) *(predictions - targets)).mean())\n",
      "pred1 = m.predict(training_sframe)\n",
      "rmse(training_sframe['count']+1, pred1)\n"
     ],
     "language": "python",
     "metadata": {},
     "outputs": [
      {
       "metadata": {},
       "output_type": "pyout",
       "prompt_number": 22,
       "text": [
        "124.8528497048909"
       ]
      }
     ],
     "prompt_number": 22
    },
    {
     "cell_type": "code",
     "collapsed": false,
     "input": [
      "# predict on test data\n",
      "prediction = m.predict(test_sframe)\n",
      "prediction = prediction.astype(int)\n"
     ],
     "language": "python",
     "metadata": {},
     "outputs": [],
     "prompt_number": 23
    },
    {
     "cell_type": "code",
     "collapsed": false,
     "input": [
      "## Parse the datetime column\n",
      "from datetime import datetime\n",
      "date_format_str = '%Y-%m-%d %H:%M:%S'\n",
      "\n",
      "def parse_date(date_str):\n",
      "    \"\"\" parse datetime tuple \"\"\"\n",
      "    d = datetime.strptime(date_str, date_format_str)\n",
      "    return {'year':d.year, 'month':d.month, 'day':d.day,\n",
      "            'hour':d.hour, 'weekday':d.weekday()}\n",
      "\n",
      "def process_date_column(data_sframe):\n",
      "    \"\"\"Split the 'datetime' column of a given sframe\"\"\"\n",
      "    parsed_date = data_sframe['datetime'].apply(parse_date).unpack(column_name_prefix='')\n",
      "    for col in ['year', 'month', 'day', 'hour', 'weekday']:\n",
      "        data_sframe[col] = parsed_date[col]\n",
      "\n",
      "process_date_column(training_sframe)\n",
      "process_date_column(test_sframe)\n",
      "training_sframe.head()"
     ],
     "language": "python",
     "metadata": {},
     "outputs": [
      {
       "html": [
        "<div style=\"max-height:1000px;max-width:1500px;overflow:auto;\"><table frame=\"box\" rules=\"cols\">\n",
        "    <tr>\n",
        "        <th style=\"padding-left: 1em; padding-right: 1em; text-align: center\">datetime</th>\n",
        "        <th style=\"padding-left: 1em; padding-right: 1em; text-align: center\">season</th>\n",
        "        <th style=\"padding-left: 1em; padding-right: 1em; text-align: center\">holiday</th>\n",
        "        <th style=\"padding-left: 1em; padding-right: 1em; text-align: center\">workingday</th>\n",
        "        <th style=\"padding-left: 1em; padding-right: 1em; text-align: center\">weather</th>\n",
        "        <th style=\"padding-left: 1em; padding-right: 1em; text-align: center\">temp</th>\n",
        "        <th style=\"padding-left: 1em; padding-right: 1em; text-align: center\">atemp</th>\n",
        "        <th style=\"padding-left: 1em; padding-right: 1em; text-align: center\">humidity</th>\n",
        "        <th style=\"padding-left: 1em; padding-right: 1em; text-align: center\">windspeed</th>\n",
        "        <th style=\"padding-left: 1em; padding-right: 1em; text-align: center\">casual</th>\n",
        "        <th style=\"padding-left: 1em; padding-right: 1em; text-align: center\">registered</th>\n",
        "    </tr>\n",
        "    <tr>\n",
        "        <td style=\"padding-left: 1em; padding-right: 1em; text-align: center; vertical-align: top\">2011-01-01 00:00:00</td>\n",
        "        <td style=\"padding-left: 1em; padding-right: 1em; text-align: center; vertical-align: top\">1</td>\n",
        "        <td style=\"padding-left: 1em; padding-right: 1em; text-align: center; vertical-align: top\">0</td>\n",
        "        <td style=\"padding-left: 1em; padding-right: 1em; text-align: center; vertical-align: top\">0</td>\n",
        "        <td style=\"padding-left: 1em; padding-right: 1em; text-align: center; vertical-align: top\">1</td>\n",
        "        <td style=\"padding-left: 1em; padding-right: 1em; text-align: center; vertical-align: top\">9.84</td>\n",
        "        <td style=\"padding-left: 1em; padding-right: 1em; text-align: center; vertical-align: top\">14.395</td>\n",
        "        <td style=\"padding-left: 1em; padding-right: 1em; text-align: center; vertical-align: top\">81</td>\n",
        "        <td style=\"padding-left: 1em; padding-right: 1em; text-align: center; vertical-align: top\">0.0</td>\n",
        "        <td style=\"padding-left: 1em; padding-right: 1em; text-align: center; vertical-align: top\">3</td>\n",
        "        <td style=\"padding-left: 1em; padding-right: 1em; text-align: center; vertical-align: top\">13</td>\n",
        "    </tr>\n",
        "    <tr>\n",
        "        <td style=\"padding-left: 1em; padding-right: 1em; text-align: center; vertical-align: top\">2011-01-01 01:00:00</td>\n",
        "        <td style=\"padding-left: 1em; padding-right: 1em; text-align: center; vertical-align: top\">1</td>\n",
        "        <td style=\"padding-left: 1em; padding-right: 1em; text-align: center; vertical-align: top\">0</td>\n",
        "        <td style=\"padding-left: 1em; padding-right: 1em; text-align: center; vertical-align: top\">0</td>\n",
        "        <td style=\"padding-left: 1em; padding-right: 1em; text-align: center; vertical-align: top\">1</td>\n",
        "        <td style=\"padding-left: 1em; padding-right: 1em; text-align: center; vertical-align: top\">9.02</td>\n",
        "        <td style=\"padding-left: 1em; padding-right: 1em; text-align: center; vertical-align: top\">13.635</td>\n",
        "        <td style=\"padding-left: 1em; padding-right: 1em; text-align: center; vertical-align: top\">80</td>\n",
        "        <td style=\"padding-left: 1em; padding-right: 1em; text-align: center; vertical-align: top\">0.0</td>\n",
        "        <td style=\"padding-left: 1em; padding-right: 1em; text-align: center; vertical-align: top\">8</td>\n",
        "        <td style=\"padding-left: 1em; padding-right: 1em; text-align: center; vertical-align: top\">32</td>\n",
        "    </tr>\n",
        "    <tr>\n",
        "        <td style=\"padding-left: 1em; padding-right: 1em; text-align: center; vertical-align: top\">2011-01-01 02:00:00</td>\n",
        "        <td style=\"padding-left: 1em; padding-right: 1em; text-align: center; vertical-align: top\">1</td>\n",
        "        <td style=\"padding-left: 1em; padding-right: 1em; text-align: center; vertical-align: top\">0</td>\n",
        "        <td style=\"padding-left: 1em; padding-right: 1em; text-align: center; vertical-align: top\">0</td>\n",
        "        <td style=\"padding-left: 1em; padding-right: 1em; text-align: center; vertical-align: top\">1</td>\n",
        "        <td style=\"padding-left: 1em; padding-right: 1em; text-align: center; vertical-align: top\">9.02</td>\n",
        "        <td style=\"padding-left: 1em; padding-right: 1em; text-align: center; vertical-align: top\">13.635</td>\n",
        "        <td style=\"padding-left: 1em; padding-right: 1em; text-align: center; vertical-align: top\">80</td>\n",
        "        <td style=\"padding-left: 1em; padding-right: 1em; text-align: center; vertical-align: top\">0.0</td>\n",
        "        <td style=\"padding-left: 1em; padding-right: 1em; text-align: center; vertical-align: top\">5</td>\n",
        "        <td style=\"padding-left: 1em; padding-right: 1em; text-align: center; vertical-align: top\">27</td>\n",
        "    </tr>\n",
        "    <tr>\n",
        "        <td style=\"padding-left: 1em; padding-right: 1em; text-align: center; vertical-align: top\">2011-01-01 03:00:00</td>\n",
        "        <td style=\"padding-left: 1em; padding-right: 1em; text-align: center; vertical-align: top\">1</td>\n",
        "        <td style=\"padding-left: 1em; padding-right: 1em; text-align: center; vertical-align: top\">0</td>\n",
        "        <td style=\"padding-left: 1em; padding-right: 1em; text-align: center; vertical-align: top\">0</td>\n",
        "        <td style=\"padding-left: 1em; padding-right: 1em; text-align: center; vertical-align: top\">1</td>\n",
        "        <td style=\"padding-left: 1em; padding-right: 1em; text-align: center; vertical-align: top\">9.84</td>\n",
        "        <td style=\"padding-left: 1em; padding-right: 1em; text-align: center; vertical-align: top\">14.395</td>\n",
        "        <td style=\"padding-left: 1em; padding-right: 1em; text-align: center; vertical-align: top\">75</td>\n",
        "        <td style=\"padding-left: 1em; padding-right: 1em; text-align: center; vertical-align: top\">0.0</td>\n",
        "        <td style=\"padding-left: 1em; padding-right: 1em; text-align: center; vertical-align: top\">3</td>\n",
        "        <td style=\"padding-left: 1em; padding-right: 1em; text-align: center; vertical-align: top\">10</td>\n",
        "    </tr>\n",
        "    <tr>\n",
        "        <td style=\"padding-left: 1em; padding-right: 1em; text-align: center; vertical-align: top\">2011-01-01 04:00:00</td>\n",
        "        <td style=\"padding-left: 1em; padding-right: 1em; text-align: center; vertical-align: top\">1</td>\n",
        "        <td style=\"padding-left: 1em; padding-right: 1em; text-align: center; vertical-align: top\">0</td>\n",
        "        <td style=\"padding-left: 1em; padding-right: 1em; text-align: center; vertical-align: top\">0</td>\n",
        "        <td style=\"padding-left: 1em; padding-right: 1em; text-align: center; vertical-align: top\">1</td>\n",
        "        <td style=\"padding-left: 1em; padding-right: 1em; text-align: center; vertical-align: top\">9.84</td>\n",
        "        <td style=\"padding-left: 1em; padding-right: 1em; text-align: center; vertical-align: top\">14.395</td>\n",
        "        <td style=\"padding-left: 1em; padding-right: 1em; text-align: center; vertical-align: top\">75</td>\n",
        "        <td style=\"padding-left: 1em; padding-right: 1em; text-align: center; vertical-align: top\">0.0</td>\n",
        "        <td style=\"padding-left: 1em; padding-right: 1em; text-align: center; vertical-align: top\">0</td>\n",
        "        <td style=\"padding-left: 1em; padding-right: 1em; text-align: center; vertical-align: top\">1</td>\n",
        "    </tr>\n",
        "    <tr>\n",
        "        <td style=\"padding-left: 1em; padding-right: 1em; text-align: center; vertical-align: top\">2011-01-01 05:00:00</td>\n",
        "        <td style=\"padding-left: 1em; padding-right: 1em; text-align: center; vertical-align: top\">1</td>\n",
        "        <td style=\"padding-left: 1em; padding-right: 1em; text-align: center; vertical-align: top\">0</td>\n",
        "        <td style=\"padding-left: 1em; padding-right: 1em; text-align: center; vertical-align: top\">0</td>\n",
        "        <td style=\"padding-left: 1em; padding-right: 1em; text-align: center; vertical-align: top\">2</td>\n",
        "        <td style=\"padding-left: 1em; padding-right: 1em; text-align: center; vertical-align: top\">9.84</td>\n",
        "        <td style=\"padding-left: 1em; padding-right: 1em; text-align: center; vertical-align: top\">12.88</td>\n",
        "        <td style=\"padding-left: 1em; padding-right: 1em; text-align: center; vertical-align: top\">75</td>\n",
        "        <td style=\"padding-left: 1em; padding-right: 1em; text-align: center; vertical-align: top\">6.0032</td>\n",
        "        <td style=\"padding-left: 1em; padding-right: 1em; text-align: center; vertical-align: top\">0</td>\n",
        "        <td style=\"padding-left: 1em; padding-right: 1em; text-align: center; vertical-align: top\">1</td>\n",
        "    </tr>\n",
        "    <tr>\n",
        "        <td style=\"padding-left: 1em; padding-right: 1em; text-align: center; vertical-align: top\">2011-01-01 06:00:00</td>\n",
        "        <td style=\"padding-left: 1em; padding-right: 1em; text-align: center; vertical-align: top\">1</td>\n",
        "        <td style=\"padding-left: 1em; padding-right: 1em; text-align: center; vertical-align: top\">0</td>\n",
        "        <td style=\"padding-left: 1em; padding-right: 1em; text-align: center; vertical-align: top\">0</td>\n",
        "        <td style=\"padding-left: 1em; padding-right: 1em; text-align: center; vertical-align: top\">1</td>\n",
        "        <td style=\"padding-left: 1em; padding-right: 1em; text-align: center; vertical-align: top\">9.02</td>\n",
        "        <td style=\"padding-left: 1em; padding-right: 1em; text-align: center; vertical-align: top\">13.635</td>\n",
        "        <td style=\"padding-left: 1em; padding-right: 1em; text-align: center; vertical-align: top\">80</td>\n",
        "        <td style=\"padding-left: 1em; padding-right: 1em; text-align: center; vertical-align: top\">0.0</td>\n",
        "        <td style=\"padding-left: 1em; padding-right: 1em; text-align: center; vertical-align: top\">2</td>\n",
        "        <td style=\"padding-left: 1em; padding-right: 1em; text-align: center; vertical-align: top\">0</td>\n",
        "    </tr>\n",
        "    <tr>\n",
        "        <td style=\"padding-left: 1em; padding-right: 1em; text-align: center; vertical-align: top\">2011-01-01 07:00:00</td>\n",
        "        <td style=\"padding-left: 1em; padding-right: 1em; text-align: center; vertical-align: top\">1</td>\n",
        "        <td style=\"padding-left: 1em; padding-right: 1em; text-align: center; vertical-align: top\">0</td>\n",
        "        <td style=\"padding-left: 1em; padding-right: 1em; text-align: center; vertical-align: top\">0</td>\n",
        "        <td style=\"padding-left: 1em; padding-right: 1em; text-align: center; vertical-align: top\">1</td>\n",
        "        <td style=\"padding-left: 1em; padding-right: 1em; text-align: center; vertical-align: top\">8.2</td>\n",
        "        <td style=\"padding-left: 1em; padding-right: 1em; text-align: center; vertical-align: top\">12.88</td>\n",
        "        <td style=\"padding-left: 1em; padding-right: 1em; text-align: center; vertical-align: top\">86</td>\n",
        "        <td style=\"padding-left: 1em; padding-right: 1em; text-align: center; vertical-align: top\">0.0</td>\n",
        "        <td style=\"padding-left: 1em; padding-right: 1em; text-align: center; vertical-align: top\">1</td>\n",
        "        <td style=\"padding-left: 1em; padding-right: 1em; text-align: center; vertical-align: top\">2</td>\n",
        "    </tr>\n",
        "    <tr>\n",
        "        <td style=\"padding-left: 1em; padding-right: 1em; text-align: center; vertical-align: top\">2011-01-01 08:00:00</td>\n",
        "        <td style=\"padding-left: 1em; padding-right: 1em; text-align: center; vertical-align: top\">1</td>\n",
        "        <td style=\"padding-left: 1em; padding-right: 1em; text-align: center; vertical-align: top\">0</td>\n",
        "        <td style=\"padding-left: 1em; padding-right: 1em; text-align: center; vertical-align: top\">0</td>\n",
        "        <td style=\"padding-left: 1em; padding-right: 1em; text-align: center; vertical-align: top\">1</td>\n",
        "        <td style=\"padding-left: 1em; padding-right: 1em; text-align: center; vertical-align: top\">9.84</td>\n",
        "        <td style=\"padding-left: 1em; padding-right: 1em; text-align: center; vertical-align: top\">14.395</td>\n",
        "        <td style=\"padding-left: 1em; padding-right: 1em; text-align: center; vertical-align: top\">75</td>\n",
        "        <td style=\"padding-left: 1em; padding-right: 1em; text-align: center; vertical-align: top\">0.0</td>\n",
        "        <td style=\"padding-left: 1em; padding-right: 1em; text-align: center; vertical-align: top\">1</td>\n",
        "        <td style=\"padding-left: 1em; padding-right: 1em; text-align: center; vertical-align: top\">7</td>\n",
        "    </tr>\n",
        "    <tr>\n",
        "        <td style=\"padding-left: 1em; padding-right: 1em; text-align: center; vertical-align: top\">2011-01-01 09:00:00</td>\n",
        "        <td style=\"padding-left: 1em; padding-right: 1em; text-align: center; vertical-align: top\">1</td>\n",
        "        <td style=\"padding-left: 1em; padding-right: 1em; text-align: center; vertical-align: top\">0</td>\n",
        "        <td style=\"padding-left: 1em; padding-right: 1em; text-align: center; vertical-align: top\">0</td>\n",
        "        <td style=\"padding-left: 1em; padding-right: 1em; text-align: center; vertical-align: top\">1</td>\n",
        "        <td style=\"padding-left: 1em; padding-right: 1em; text-align: center; vertical-align: top\">13.12</td>\n",
        "        <td style=\"padding-left: 1em; padding-right: 1em; text-align: center; vertical-align: top\">17.425</td>\n",
        "        <td style=\"padding-left: 1em; padding-right: 1em; text-align: center; vertical-align: top\">76</td>\n",
        "        <td style=\"padding-left: 1em; padding-right: 1em; text-align: center; vertical-align: top\">0.0</td>\n",
        "        <td style=\"padding-left: 1em; padding-right: 1em; text-align: center; vertical-align: top\">8</td>\n",
        "        <td style=\"padding-left: 1em; padding-right: 1em; text-align: center; vertical-align: top\">6</td>\n",
        "    </tr>\n",
        "</table>\n",
        "<table frame=\"box\" rules=\"cols\">\n",
        "    <tr>\n",
        "        <th style=\"padding-left: 1em; padding-right: 1em; text-align: center\">count</th>\n",
        "        <th style=\"padding-left: 1em; padding-right: 1em; text-align: center\">year</th>\n",
        "        <th style=\"padding-left: 1em; padding-right: 1em; text-align: center\">month</th>\n",
        "        <th style=\"padding-left: 1em; padding-right: 1em; text-align: center\">day</th>\n",
        "        <th style=\"padding-left: 1em; padding-right: 1em; text-align: center\">hour</th>\n",
        "        <th style=\"padding-left: 1em; padding-right: 1em; text-align: center\">weekday</th>\n",
        "    </tr>\n",
        "    <tr>\n",
        "        <td style=\"padding-left: 1em; padding-right: 1em; text-align: center; vertical-align: top\">16</td>\n",
        "        <td style=\"padding-left: 1em; padding-right: 1em; text-align: center; vertical-align: top\">2011</td>\n",
        "        <td style=\"padding-left: 1em; padding-right: 1em; text-align: center; vertical-align: top\">1</td>\n",
        "        <td style=\"padding-left: 1em; padding-right: 1em; text-align: center; vertical-align: top\">1</td>\n",
        "        <td style=\"padding-left: 1em; padding-right: 1em; text-align: center; vertical-align: top\">0</td>\n",
        "        <td style=\"padding-left: 1em; padding-right: 1em; text-align: center; vertical-align: top\">5</td>\n",
        "    </tr>\n",
        "    <tr>\n",
        "        <td style=\"padding-left: 1em; padding-right: 1em; text-align: center; vertical-align: top\">40</td>\n",
        "        <td style=\"padding-left: 1em; padding-right: 1em; text-align: center; vertical-align: top\">2011</td>\n",
        "        <td style=\"padding-left: 1em; padding-right: 1em; text-align: center; vertical-align: top\">1</td>\n",
        "        <td style=\"padding-left: 1em; padding-right: 1em; text-align: center; vertical-align: top\">1</td>\n",
        "        <td style=\"padding-left: 1em; padding-right: 1em; text-align: center; vertical-align: top\">1</td>\n",
        "        <td style=\"padding-left: 1em; padding-right: 1em; text-align: center; vertical-align: top\">5</td>\n",
        "    </tr>\n",
        "    <tr>\n",
        "        <td style=\"padding-left: 1em; padding-right: 1em; text-align: center; vertical-align: top\">32</td>\n",
        "        <td style=\"padding-left: 1em; padding-right: 1em; text-align: center; vertical-align: top\">2011</td>\n",
        "        <td style=\"padding-left: 1em; padding-right: 1em; text-align: center; vertical-align: top\">1</td>\n",
        "        <td style=\"padding-left: 1em; padding-right: 1em; text-align: center; vertical-align: top\">1</td>\n",
        "        <td style=\"padding-left: 1em; padding-right: 1em; text-align: center; vertical-align: top\">2</td>\n",
        "        <td style=\"padding-left: 1em; padding-right: 1em; text-align: center; vertical-align: top\">5</td>\n",
        "    </tr>\n",
        "    <tr>\n",
        "        <td style=\"padding-left: 1em; padding-right: 1em; text-align: center; vertical-align: top\">13</td>\n",
        "        <td style=\"padding-left: 1em; padding-right: 1em; text-align: center; vertical-align: top\">2011</td>\n",
        "        <td style=\"padding-left: 1em; padding-right: 1em; text-align: center; vertical-align: top\">1</td>\n",
        "        <td style=\"padding-left: 1em; padding-right: 1em; text-align: center; vertical-align: top\">1</td>\n",
        "        <td style=\"padding-left: 1em; padding-right: 1em; text-align: center; vertical-align: top\">3</td>\n",
        "        <td style=\"padding-left: 1em; padding-right: 1em; text-align: center; vertical-align: top\">5</td>\n",
        "    </tr>\n",
        "    <tr>\n",
        "        <td style=\"padding-left: 1em; padding-right: 1em; text-align: center; vertical-align: top\">1</td>\n",
        "        <td style=\"padding-left: 1em; padding-right: 1em; text-align: center; vertical-align: top\">2011</td>\n",
        "        <td style=\"padding-left: 1em; padding-right: 1em; text-align: center; vertical-align: top\">1</td>\n",
        "        <td style=\"padding-left: 1em; padding-right: 1em; text-align: center; vertical-align: top\">1</td>\n",
        "        <td style=\"padding-left: 1em; padding-right: 1em; text-align: center; vertical-align: top\">4</td>\n",
        "        <td style=\"padding-left: 1em; padding-right: 1em; text-align: center; vertical-align: top\">5</td>\n",
        "    </tr>\n",
        "    <tr>\n",
        "        <td style=\"padding-left: 1em; padding-right: 1em; text-align: center; vertical-align: top\">1</td>\n",
        "        <td style=\"padding-left: 1em; padding-right: 1em; text-align: center; vertical-align: top\">2011</td>\n",
        "        <td style=\"padding-left: 1em; padding-right: 1em; text-align: center; vertical-align: top\">1</td>\n",
        "        <td style=\"padding-left: 1em; padding-right: 1em; text-align: center; vertical-align: top\">1</td>\n",
        "        <td style=\"padding-left: 1em; padding-right: 1em; text-align: center; vertical-align: top\">5</td>\n",
        "        <td style=\"padding-left: 1em; padding-right: 1em; text-align: center; vertical-align: top\">5</td>\n",
        "    </tr>\n",
        "    <tr>\n",
        "        <td style=\"padding-left: 1em; padding-right: 1em; text-align: center; vertical-align: top\">2</td>\n",
        "        <td style=\"padding-left: 1em; padding-right: 1em; text-align: center; vertical-align: top\">2011</td>\n",
        "        <td style=\"padding-left: 1em; padding-right: 1em; text-align: center; vertical-align: top\">1</td>\n",
        "        <td style=\"padding-left: 1em; padding-right: 1em; text-align: center; vertical-align: top\">1</td>\n",
        "        <td style=\"padding-left: 1em; padding-right: 1em; text-align: center; vertical-align: top\">6</td>\n",
        "        <td style=\"padding-left: 1em; padding-right: 1em; text-align: center; vertical-align: top\">5</td>\n",
        "    </tr>\n",
        "    <tr>\n",
        "        <td style=\"padding-left: 1em; padding-right: 1em; text-align: center; vertical-align: top\">3</td>\n",
        "        <td style=\"padding-left: 1em; padding-right: 1em; text-align: center; vertical-align: top\">2011</td>\n",
        "        <td style=\"padding-left: 1em; padding-right: 1em; text-align: center; vertical-align: top\">1</td>\n",
        "        <td style=\"padding-left: 1em; padding-right: 1em; text-align: center; vertical-align: top\">1</td>\n",
        "        <td style=\"padding-left: 1em; padding-right: 1em; text-align: center; vertical-align: top\">7</td>\n",
        "        <td style=\"padding-left: 1em; padding-right: 1em; text-align: center; vertical-align: top\">5</td>\n",
        "    </tr>\n",
        "    <tr>\n",
        "        <td style=\"padding-left: 1em; padding-right: 1em; text-align: center; vertical-align: top\">8</td>\n",
        "        <td style=\"padding-left: 1em; padding-right: 1em; text-align: center; vertical-align: top\">2011</td>\n",
        "        <td style=\"padding-left: 1em; padding-right: 1em; text-align: center; vertical-align: top\">1</td>\n",
        "        <td style=\"padding-left: 1em; padding-right: 1em; text-align: center; vertical-align: top\">1</td>\n",
        "        <td style=\"padding-left: 1em; padding-right: 1em; text-align: center; vertical-align: top\">8</td>\n",
        "        <td style=\"padding-left: 1em; padding-right: 1em; text-align: center; vertical-align: top\">5</td>\n",
        "    </tr>\n",
        "    <tr>\n",
        "        <td style=\"padding-left: 1em; padding-right: 1em; text-align: center; vertical-align: top\">14</td>\n",
        "        <td style=\"padding-left: 1em; padding-right: 1em; text-align: center; vertical-align: top\">2011</td>\n",
        "        <td style=\"padding-left: 1em; padding-right: 1em; text-align: center; vertical-align: top\">1</td>\n",
        "        <td style=\"padding-left: 1em; padding-right: 1em; text-align: center; vertical-align: top\">1</td>\n",
        "        <td style=\"padding-left: 1em; padding-right: 1em; text-align: center; vertical-align: top\">9</td>\n",
        "        <td style=\"padding-left: 1em; padding-right: 1em; text-align: center; vertical-align: top\">5</td>\n",
        "    </tr>\n",
        "</table>\n",
        "[10 rows x 17 columns]<br/>\n",
        "</div>"
       ],
       "metadata": {},
       "output_type": "pyout",
       "prompt_number": 24,
       "text": [
        "Columns:\n",
        "\tdatetime\tstr\n",
        "\tseason\tint\n",
        "\tholiday\tint\n",
        "\tworkingday\tint\n",
        "\tweather\tint\n",
        "\ttemp\tfloat\n",
        "\tatemp\tfloat\n",
        "\thumidity\tint\n",
        "\twindspeed\tfloat\n",
        "\tcasual\tint\n",
        "\tregistered\tint\n",
        "\tcount\tint\n",
        "\tyear\tint\n",
        "\tmonth\tint\n",
        "\tday\tint\n",
        "\thour\tint\n",
        "\tweekday\tint\n",
        "\n",
        "Rows: 10\n",
        "\n",
        "Data:\n",
        "+---------------------+--------+---------+------------+---------+-------+--------+\n",
        "|       datetime      | season | holiday | workingday | weather |  temp | atemp  |\n",
        "+---------------------+--------+---------+------------+---------+-------+--------+\n",
        "| 2011-01-01 00:00:00 |   1    |    0    |     0      |    1    |  9.84 | 14.395 |\n",
        "| 2011-01-01 01:00:00 |   1    |    0    |     0      |    1    |  9.02 | 13.635 |\n",
        "| 2011-01-01 02:00:00 |   1    |    0    |     0      |    1    |  9.02 | 13.635 |\n",
        "| 2011-01-01 03:00:00 |   1    |    0    |     0      |    1    |  9.84 | 14.395 |\n",
        "| 2011-01-01 04:00:00 |   1    |    0    |     0      |    1    |  9.84 | 14.395 |\n",
        "| 2011-01-01 05:00:00 |   1    |    0    |     0      |    2    |  9.84 | 12.88  |\n",
        "| 2011-01-01 06:00:00 |   1    |    0    |     0      |    1    |  9.02 | 13.635 |\n",
        "| 2011-01-01 07:00:00 |   1    |    0    |     0      |    1    |  8.2  | 12.88  |\n",
        "| 2011-01-01 08:00:00 |   1    |    0    |     0      |    1    |  9.84 | 14.395 |\n",
        "| 2011-01-01 09:00:00 |   1    |    0    |     0      |    1    | 13.12 | 17.425 |\n",
        "+---------------------+--------+---------+------------+---------+-------+--------+\n",
        "+----------+-----------+--------+------------+-------+------+-------+-----+------+\n",
        "| humidity | windspeed | casual | registered | count | year | month | day | hour |\n",
        "+----------+-----------+--------+------------+-------+------+-------+-----+------+\n",
        "|    81    |    0.0    |   3    |     13     |   16  | 2011 |   1   |  1  |  0   |\n",
        "|    80    |    0.0    |   8    |     32     |   40  | 2011 |   1   |  1  |  1   |\n",
        "|    80    |    0.0    |   5    |     27     |   32  | 2011 |   1   |  1  |  2   |\n",
        "|    75    |    0.0    |   3    |     10     |   13  | 2011 |   1   |  1  |  3   |\n",
        "|    75    |    0.0    |   0    |     1      |   1   | 2011 |   1   |  1  |  4   |\n",
        "|    75    |   6.0032  |   0    |     1      |   1   | 2011 |   1   |  1  |  5   |\n",
        "|    80    |    0.0    |   2    |     0      |   2   | 2011 |   1   |  1  |  6   |\n",
        "|    86    |    0.0    |   1    |     2      |   3   | 2011 |   1   |  1  |  7   |\n",
        "|    75    |    0.0    |   1    |     7      |   8   | 2011 |   1   |  1  |  8   |\n",
        "|    76    |    0.0    |   8    |     6      |   14  | 2011 |   1   |  1  |  9   |\n",
        "+----------+-----------+--------+------------+-------+------+-------+-----+------+\n",
        "+---------+\n",
        "| weekday |\n",
        "+---------+\n",
        "|    5    |\n",
        "|    5    |\n",
        "|    5    |\n",
        "|    5    |\n",
        "|    5    |\n",
        "|    5    |\n",
        "|    5    |\n",
        "|    5    |\n",
        "|    5    |\n",
        "|    5    |\n",
        "+---------+\n",
        "[10 rows x 17 columns]"
       ]
      }
     ],
     "prompt_number": 24
    },
    {
     "cell_type": "code",
     "collapsed": false,
     "input": [
      "## transform target counts into log domain\n",
      "import math\n",
      "# create three new columns: log-casual, log-registered, and log-count\n",
      "for col in ['casual', 'registered', 'count']:\n",
      "    training_sframe['log-'+col] = training_sframe[col].apply(lambda x: math.log(x+1))"
     ],
     "language": "python",
     "metadata": {},
     "outputs": [],
     "prompt_number": 25
    },
    {
     "cell_type": "code",
     "collapsed": false,
     "input": [
      "training_sframe.head()"
     ],
     "language": "python",
     "metadata": {},
     "outputs": [
      {
       "html": [
        "<div style=\"max-height:1000px;max-width:1500px;overflow:auto;\"><table frame=\"box\" rules=\"cols\">\n",
        "    <tr>\n",
        "        <th style=\"padding-left: 1em; padding-right: 1em; text-align: center\">datetime</th>\n",
        "        <th style=\"padding-left: 1em; padding-right: 1em; text-align: center\">season</th>\n",
        "        <th style=\"padding-left: 1em; padding-right: 1em; text-align: center\">holiday</th>\n",
        "        <th style=\"padding-left: 1em; padding-right: 1em; text-align: center\">workingday</th>\n",
        "        <th style=\"padding-left: 1em; padding-right: 1em; text-align: center\">weather</th>\n",
        "        <th style=\"padding-left: 1em; padding-right: 1em; text-align: center\">temp</th>\n",
        "        <th style=\"padding-left: 1em; padding-right: 1em; text-align: center\">atemp</th>\n",
        "        <th style=\"padding-left: 1em; padding-right: 1em; text-align: center\">humidity</th>\n",
        "        <th style=\"padding-left: 1em; padding-right: 1em; text-align: center\">windspeed</th>\n",
        "        <th style=\"padding-left: 1em; padding-right: 1em; text-align: center\">casual</th>\n",
        "        <th style=\"padding-left: 1em; padding-right: 1em; text-align: center\">registered</th>\n",
        "    </tr>\n",
        "    <tr>\n",
        "        <td style=\"padding-left: 1em; padding-right: 1em; text-align: center; vertical-align: top\">2011-01-01 00:00:00</td>\n",
        "        <td style=\"padding-left: 1em; padding-right: 1em; text-align: center; vertical-align: top\">1</td>\n",
        "        <td style=\"padding-left: 1em; padding-right: 1em; text-align: center; vertical-align: top\">0</td>\n",
        "        <td style=\"padding-left: 1em; padding-right: 1em; text-align: center; vertical-align: top\">0</td>\n",
        "        <td style=\"padding-left: 1em; padding-right: 1em; text-align: center; vertical-align: top\">1</td>\n",
        "        <td style=\"padding-left: 1em; padding-right: 1em; text-align: center; vertical-align: top\">9.84</td>\n",
        "        <td style=\"padding-left: 1em; padding-right: 1em; text-align: center; vertical-align: top\">14.395</td>\n",
        "        <td style=\"padding-left: 1em; padding-right: 1em; text-align: center; vertical-align: top\">81</td>\n",
        "        <td style=\"padding-left: 1em; padding-right: 1em; text-align: center; vertical-align: top\">0.0</td>\n",
        "        <td style=\"padding-left: 1em; padding-right: 1em; text-align: center; vertical-align: top\">3</td>\n",
        "        <td style=\"padding-left: 1em; padding-right: 1em; text-align: center; vertical-align: top\">13</td>\n",
        "    </tr>\n",
        "    <tr>\n",
        "        <td style=\"padding-left: 1em; padding-right: 1em; text-align: center; vertical-align: top\">2011-01-01 01:00:00</td>\n",
        "        <td style=\"padding-left: 1em; padding-right: 1em; text-align: center; vertical-align: top\">1</td>\n",
        "        <td style=\"padding-left: 1em; padding-right: 1em; text-align: center; vertical-align: top\">0</td>\n",
        "        <td style=\"padding-left: 1em; padding-right: 1em; text-align: center; vertical-align: top\">0</td>\n",
        "        <td style=\"padding-left: 1em; padding-right: 1em; text-align: center; vertical-align: top\">1</td>\n",
        "        <td style=\"padding-left: 1em; padding-right: 1em; text-align: center; vertical-align: top\">9.02</td>\n",
        "        <td style=\"padding-left: 1em; padding-right: 1em; text-align: center; vertical-align: top\">13.635</td>\n",
        "        <td style=\"padding-left: 1em; padding-right: 1em; text-align: center; vertical-align: top\">80</td>\n",
        "        <td style=\"padding-left: 1em; padding-right: 1em; text-align: center; vertical-align: top\">0.0</td>\n",
        "        <td style=\"padding-left: 1em; padding-right: 1em; text-align: center; vertical-align: top\">8</td>\n",
        "        <td style=\"padding-left: 1em; padding-right: 1em; text-align: center; vertical-align: top\">32</td>\n",
        "    </tr>\n",
        "    <tr>\n",
        "        <td style=\"padding-left: 1em; padding-right: 1em; text-align: center; vertical-align: top\">2011-01-01 02:00:00</td>\n",
        "        <td style=\"padding-left: 1em; padding-right: 1em; text-align: center; vertical-align: top\">1</td>\n",
        "        <td style=\"padding-left: 1em; padding-right: 1em; text-align: center; vertical-align: top\">0</td>\n",
        "        <td style=\"padding-left: 1em; padding-right: 1em; text-align: center; vertical-align: top\">0</td>\n",
        "        <td style=\"padding-left: 1em; padding-right: 1em; text-align: center; vertical-align: top\">1</td>\n",
        "        <td style=\"padding-left: 1em; padding-right: 1em; text-align: center; vertical-align: top\">9.02</td>\n",
        "        <td style=\"padding-left: 1em; padding-right: 1em; text-align: center; vertical-align: top\">13.635</td>\n",
        "        <td style=\"padding-left: 1em; padding-right: 1em; text-align: center; vertical-align: top\">80</td>\n",
        "        <td style=\"padding-left: 1em; padding-right: 1em; text-align: center; vertical-align: top\">0.0</td>\n",
        "        <td style=\"padding-left: 1em; padding-right: 1em; text-align: center; vertical-align: top\">5</td>\n",
        "        <td style=\"padding-left: 1em; padding-right: 1em; text-align: center; vertical-align: top\">27</td>\n",
        "    </tr>\n",
        "    <tr>\n",
        "        <td style=\"padding-left: 1em; padding-right: 1em; text-align: center; vertical-align: top\">2011-01-01 03:00:00</td>\n",
        "        <td style=\"padding-left: 1em; padding-right: 1em; text-align: center; vertical-align: top\">1</td>\n",
        "        <td style=\"padding-left: 1em; padding-right: 1em; text-align: center; vertical-align: top\">0</td>\n",
        "        <td style=\"padding-left: 1em; padding-right: 1em; text-align: center; vertical-align: top\">0</td>\n",
        "        <td style=\"padding-left: 1em; padding-right: 1em; text-align: center; vertical-align: top\">1</td>\n",
        "        <td style=\"padding-left: 1em; padding-right: 1em; text-align: center; vertical-align: top\">9.84</td>\n",
        "        <td style=\"padding-left: 1em; padding-right: 1em; text-align: center; vertical-align: top\">14.395</td>\n",
        "        <td style=\"padding-left: 1em; padding-right: 1em; text-align: center; vertical-align: top\">75</td>\n",
        "        <td style=\"padding-left: 1em; padding-right: 1em; text-align: center; vertical-align: top\">0.0</td>\n",
        "        <td style=\"padding-left: 1em; padding-right: 1em; text-align: center; vertical-align: top\">3</td>\n",
        "        <td style=\"padding-left: 1em; padding-right: 1em; text-align: center; vertical-align: top\">10</td>\n",
        "    </tr>\n",
        "    <tr>\n",
        "        <td style=\"padding-left: 1em; padding-right: 1em; text-align: center; vertical-align: top\">2011-01-01 04:00:00</td>\n",
        "        <td style=\"padding-left: 1em; padding-right: 1em; text-align: center; vertical-align: top\">1</td>\n",
        "        <td style=\"padding-left: 1em; padding-right: 1em; text-align: center; vertical-align: top\">0</td>\n",
        "        <td style=\"padding-left: 1em; padding-right: 1em; text-align: center; vertical-align: top\">0</td>\n",
        "        <td style=\"padding-left: 1em; padding-right: 1em; text-align: center; vertical-align: top\">1</td>\n",
        "        <td style=\"padding-left: 1em; padding-right: 1em; text-align: center; vertical-align: top\">9.84</td>\n",
        "        <td style=\"padding-left: 1em; padding-right: 1em; text-align: center; vertical-align: top\">14.395</td>\n",
        "        <td style=\"padding-left: 1em; padding-right: 1em; text-align: center; vertical-align: top\">75</td>\n",
        "        <td style=\"padding-left: 1em; padding-right: 1em; text-align: center; vertical-align: top\">0.0</td>\n",
        "        <td style=\"padding-left: 1em; padding-right: 1em; text-align: center; vertical-align: top\">0</td>\n",
        "        <td style=\"padding-left: 1em; padding-right: 1em; text-align: center; vertical-align: top\">1</td>\n",
        "    </tr>\n",
        "    <tr>\n",
        "        <td style=\"padding-left: 1em; padding-right: 1em; text-align: center; vertical-align: top\">2011-01-01 05:00:00</td>\n",
        "        <td style=\"padding-left: 1em; padding-right: 1em; text-align: center; vertical-align: top\">1</td>\n",
        "        <td style=\"padding-left: 1em; padding-right: 1em; text-align: center; vertical-align: top\">0</td>\n",
        "        <td style=\"padding-left: 1em; padding-right: 1em; text-align: center; vertical-align: top\">0</td>\n",
        "        <td style=\"padding-left: 1em; padding-right: 1em; text-align: center; vertical-align: top\">2</td>\n",
        "        <td style=\"padding-left: 1em; padding-right: 1em; text-align: center; vertical-align: top\">9.84</td>\n",
        "        <td style=\"padding-left: 1em; padding-right: 1em; text-align: center; vertical-align: top\">12.88</td>\n",
        "        <td style=\"padding-left: 1em; padding-right: 1em; text-align: center; vertical-align: top\">75</td>\n",
        "        <td style=\"padding-left: 1em; padding-right: 1em; text-align: center; vertical-align: top\">6.0032</td>\n",
        "        <td style=\"padding-left: 1em; padding-right: 1em; text-align: center; vertical-align: top\">0</td>\n",
        "        <td style=\"padding-left: 1em; padding-right: 1em; text-align: center; vertical-align: top\">1</td>\n",
        "    </tr>\n",
        "    <tr>\n",
        "        <td style=\"padding-left: 1em; padding-right: 1em; text-align: center; vertical-align: top\">2011-01-01 06:00:00</td>\n",
        "        <td style=\"padding-left: 1em; padding-right: 1em; text-align: center; vertical-align: top\">1</td>\n",
        "        <td style=\"padding-left: 1em; padding-right: 1em; text-align: center; vertical-align: top\">0</td>\n",
        "        <td style=\"padding-left: 1em; padding-right: 1em; text-align: center; vertical-align: top\">0</td>\n",
        "        <td style=\"padding-left: 1em; padding-right: 1em; text-align: center; vertical-align: top\">1</td>\n",
        "        <td style=\"padding-left: 1em; padding-right: 1em; text-align: center; vertical-align: top\">9.02</td>\n",
        "        <td style=\"padding-left: 1em; padding-right: 1em; text-align: center; vertical-align: top\">13.635</td>\n",
        "        <td style=\"padding-left: 1em; padding-right: 1em; text-align: center; vertical-align: top\">80</td>\n",
        "        <td style=\"padding-left: 1em; padding-right: 1em; text-align: center; vertical-align: top\">0.0</td>\n",
        "        <td style=\"padding-left: 1em; padding-right: 1em; text-align: center; vertical-align: top\">2</td>\n",
        "        <td style=\"padding-left: 1em; padding-right: 1em; text-align: center; vertical-align: top\">0</td>\n",
        "    </tr>\n",
        "    <tr>\n",
        "        <td style=\"padding-left: 1em; padding-right: 1em; text-align: center; vertical-align: top\">2011-01-01 07:00:00</td>\n",
        "        <td style=\"padding-left: 1em; padding-right: 1em; text-align: center; vertical-align: top\">1</td>\n",
        "        <td style=\"padding-left: 1em; padding-right: 1em; text-align: center; vertical-align: top\">0</td>\n",
        "        <td style=\"padding-left: 1em; padding-right: 1em; text-align: center; vertical-align: top\">0</td>\n",
        "        <td style=\"padding-left: 1em; padding-right: 1em; text-align: center; vertical-align: top\">1</td>\n",
        "        <td style=\"padding-left: 1em; padding-right: 1em; text-align: center; vertical-align: top\">8.2</td>\n",
        "        <td style=\"padding-left: 1em; padding-right: 1em; text-align: center; vertical-align: top\">12.88</td>\n",
        "        <td style=\"padding-left: 1em; padding-right: 1em; text-align: center; vertical-align: top\">86</td>\n",
        "        <td style=\"padding-left: 1em; padding-right: 1em; text-align: center; vertical-align: top\">0.0</td>\n",
        "        <td style=\"padding-left: 1em; padding-right: 1em; text-align: center; vertical-align: top\">1</td>\n",
        "        <td style=\"padding-left: 1em; padding-right: 1em; text-align: center; vertical-align: top\">2</td>\n",
        "    </tr>\n",
        "    <tr>\n",
        "        <td style=\"padding-left: 1em; padding-right: 1em; text-align: center; vertical-align: top\">2011-01-01 08:00:00</td>\n",
        "        <td style=\"padding-left: 1em; padding-right: 1em; text-align: center; vertical-align: top\">1</td>\n",
        "        <td style=\"padding-left: 1em; padding-right: 1em; text-align: center; vertical-align: top\">0</td>\n",
        "        <td style=\"padding-left: 1em; padding-right: 1em; text-align: center; vertical-align: top\">0</td>\n",
        "        <td style=\"padding-left: 1em; padding-right: 1em; text-align: center; vertical-align: top\">1</td>\n",
        "        <td style=\"padding-left: 1em; padding-right: 1em; text-align: center; vertical-align: top\">9.84</td>\n",
        "        <td style=\"padding-left: 1em; padding-right: 1em; text-align: center; vertical-align: top\">14.395</td>\n",
        "        <td style=\"padding-left: 1em; padding-right: 1em; text-align: center; vertical-align: top\">75</td>\n",
        "        <td style=\"padding-left: 1em; padding-right: 1em; text-align: center; vertical-align: top\">0.0</td>\n",
        "        <td style=\"padding-left: 1em; padding-right: 1em; text-align: center; vertical-align: top\">1</td>\n",
        "        <td style=\"padding-left: 1em; padding-right: 1em; text-align: center; vertical-align: top\">7</td>\n",
        "    </tr>\n",
        "    <tr>\n",
        "        <td style=\"padding-left: 1em; padding-right: 1em; text-align: center; vertical-align: top\">2011-01-01 09:00:00</td>\n",
        "        <td style=\"padding-left: 1em; padding-right: 1em; text-align: center; vertical-align: top\">1</td>\n",
        "        <td style=\"padding-left: 1em; padding-right: 1em; text-align: center; vertical-align: top\">0</td>\n",
        "        <td style=\"padding-left: 1em; padding-right: 1em; text-align: center; vertical-align: top\">0</td>\n",
        "        <td style=\"padding-left: 1em; padding-right: 1em; text-align: center; vertical-align: top\">1</td>\n",
        "        <td style=\"padding-left: 1em; padding-right: 1em; text-align: center; vertical-align: top\">13.12</td>\n",
        "        <td style=\"padding-left: 1em; padding-right: 1em; text-align: center; vertical-align: top\">17.425</td>\n",
        "        <td style=\"padding-left: 1em; padding-right: 1em; text-align: center; vertical-align: top\">76</td>\n",
        "        <td style=\"padding-left: 1em; padding-right: 1em; text-align: center; vertical-align: top\">0.0</td>\n",
        "        <td style=\"padding-left: 1em; padding-right: 1em; text-align: center; vertical-align: top\">8</td>\n",
        "        <td style=\"padding-left: 1em; padding-right: 1em; text-align: center; vertical-align: top\">6</td>\n",
        "    </tr>\n",
        "</table>\n",
        "<table frame=\"box\" rules=\"cols\">\n",
        "    <tr>\n",
        "        <th style=\"padding-left: 1em; padding-right: 1em; text-align: center\">count</th>\n",
        "        <th style=\"padding-left: 1em; padding-right: 1em; text-align: center\">year</th>\n",
        "        <th style=\"padding-left: 1em; padding-right: 1em; text-align: center\">month</th>\n",
        "        <th style=\"padding-left: 1em; padding-right: 1em; text-align: center\">day</th>\n",
        "        <th style=\"padding-left: 1em; padding-right: 1em; text-align: center\">hour</th>\n",
        "        <th style=\"padding-left: 1em; padding-right: 1em; text-align: center\">weekday</th>\n",
        "        <th style=\"padding-left: 1em; padding-right: 1em; text-align: center\">log-casual</th>\n",
        "        <th style=\"padding-left: 1em; padding-right: 1em; text-align: center\">log-registered</th>\n",
        "        <th style=\"padding-left: 1em; padding-right: 1em; text-align: center\">log-count</th>\n",
        "    </tr>\n",
        "    <tr>\n",
        "        <td style=\"padding-left: 1em; padding-right: 1em; text-align: center; vertical-align: top\">16</td>\n",
        "        <td style=\"padding-left: 1em; padding-right: 1em; text-align: center; vertical-align: top\">2011</td>\n",
        "        <td style=\"padding-left: 1em; padding-right: 1em; text-align: center; vertical-align: top\">1</td>\n",
        "        <td style=\"padding-left: 1em; padding-right: 1em; text-align: center; vertical-align: top\">1</td>\n",
        "        <td style=\"padding-left: 1em; padding-right: 1em; text-align: center; vertical-align: top\">0</td>\n",
        "        <td style=\"padding-left: 1em; padding-right: 1em; text-align: center; vertical-align: top\">5</td>\n",
        "        <td style=\"padding-left: 1em; padding-right: 1em; text-align: center; vertical-align: top\">1.38629436112</td>\n",
        "        <td style=\"padding-left: 1em; padding-right: 1em; text-align: center; vertical-align: top\">2.63905732962</td>\n",
        "        <td style=\"padding-left: 1em; padding-right: 1em; text-align: center; vertical-align: top\">2.83321334406</td>\n",
        "    </tr>\n",
        "    <tr>\n",
        "        <td style=\"padding-left: 1em; padding-right: 1em; text-align: center; vertical-align: top\">40</td>\n",
        "        <td style=\"padding-left: 1em; padding-right: 1em; text-align: center; vertical-align: top\">2011</td>\n",
        "        <td style=\"padding-left: 1em; padding-right: 1em; text-align: center; vertical-align: top\">1</td>\n",
        "        <td style=\"padding-left: 1em; padding-right: 1em; text-align: center; vertical-align: top\">1</td>\n",
        "        <td style=\"padding-left: 1em; padding-right: 1em; text-align: center; vertical-align: top\">1</td>\n",
        "        <td style=\"padding-left: 1em; padding-right: 1em; text-align: center; vertical-align: top\">5</td>\n",
        "        <td style=\"padding-left: 1em; padding-right: 1em; text-align: center; vertical-align: top\">2.19722457734</td>\n",
        "        <td style=\"padding-left: 1em; padding-right: 1em; text-align: center; vertical-align: top\">3.49650756147</td>\n",
        "        <td style=\"padding-left: 1em; padding-right: 1em; text-align: center; vertical-align: top\">3.7135720667</td>\n",
        "    </tr>\n",
        "    <tr>\n",
        "        <td style=\"padding-left: 1em; padding-right: 1em; text-align: center; vertical-align: top\">32</td>\n",
        "        <td style=\"padding-left: 1em; padding-right: 1em; text-align: center; vertical-align: top\">2011</td>\n",
        "        <td style=\"padding-left: 1em; padding-right: 1em; text-align: center; vertical-align: top\">1</td>\n",
        "        <td style=\"padding-left: 1em; padding-right: 1em; text-align: center; vertical-align: top\">1</td>\n",
        "        <td style=\"padding-left: 1em; padding-right: 1em; text-align: center; vertical-align: top\">2</td>\n",
        "        <td style=\"padding-left: 1em; padding-right: 1em; text-align: center; vertical-align: top\">5</td>\n",
        "        <td style=\"padding-left: 1em; padding-right: 1em; text-align: center; vertical-align: top\">1.79175946923</td>\n",
        "        <td style=\"padding-left: 1em; padding-right: 1em; text-align: center; vertical-align: top\">3.33220451018</td>\n",
        "        <td style=\"padding-left: 1em; padding-right: 1em; text-align: center; vertical-align: top\">3.49650756147</td>\n",
        "    </tr>\n",
        "    <tr>\n",
        "        <td style=\"padding-left: 1em; padding-right: 1em; text-align: center; vertical-align: top\">13</td>\n",
        "        <td style=\"padding-left: 1em; padding-right: 1em; text-align: center; vertical-align: top\">2011</td>\n",
        "        <td style=\"padding-left: 1em; padding-right: 1em; text-align: center; vertical-align: top\">1</td>\n",
        "        <td style=\"padding-left: 1em; padding-right: 1em; text-align: center; vertical-align: top\">1</td>\n",
        "        <td style=\"padding-left: 1em; padding-right: 1em; text-align: center; vertical-align: top\">3</td>\n",
        "        <td style=\"padding-left: 1em; padding-right: 1em; text-align: center; vertical-align: top\">5</td>\n",
        "        <td style=\"padding-left: 1em; padding-right: 1em; text-align: center; vertical-align: top\">1.38629436112</td>\n",
        "        <td style=\"padding-left: 1em; padding-right: 1em; text-align: center; vertical-align: top\">2.3978952728</td>\n",
        "        <td style=\"padding-left: 1em; padding-right: 1em; text-align: center; vertical-align: top\">2.63905732962</td>\n",
        "    </tr>\n",
        "    <tr>\n",
        "        <td style=\"padding-left: 1em; padding-right: 1em; text-align: center; vertical-align: top\">1</td>\n",
        "        <td style=\"padding-left: 1em; padding-right: 1em; text-align: center; vertical-align: top\">2011</td>\n",
        "        <td style=\"padding-left: 1em; padding-right: 1em; text-align: center; vertical-align: top\">1</td>\n",
        "        <td style=\"padding-left: 1em; padding-right: 1em; text-align: center; vertical-align: top\">1</td>\n",
        "        <td style=\"padding-left: 1em; padding-right: 1em; text-align: center; vertical-align: top\">4</td>\n",
        "        <td style=\"padding-left: 1em; padding-right: 1em; text-align: center; vertical-align: top\">5</td>\n",
        "        <td style=\"padding-left: 1em; padding-right: 1em; text-align: center; vertical-align: top\">0.0</td>\n",
        "        <td style=\"padding-left: 1em; padding-right: 1em; text-align: center; vertical-align: top\">0.69314718056</td>\n",
        "        <td style=\"padding-left: 1em; padding-right: 1em; text-align: center; vertical-align: top\">0.69314718056</td>\n",
        "    </tr>\n",
        "    <tr>\n",
        "        <td style=\"padding-left: 1em; padding-right: 1em; text-align: center; vertical-align: top\">1</td>\n",
        "        <td style=\"padding-left: 1em; padding-right: 1em; text-align: center; vertical-align: top\">2011</td>\n",
        "        <td style=\"padding-left: 1em; padding-right: 1em; text-align: center; vertical-align: top\">1</td>\n",
        "        <td style=\"padding-left: 1em; padding-right: 1em; text-align: center; vertical-align: top\">1</td>\n",
        "        <td style=\"padding-left: 1em; padding-right: 1em; text-align: center; vertical-align: top\">5</td>\n",
        "        <td style=\"padding-left: 1em; padding-right: 1em; text-align: center; vertical-align: top\">5</td>\n",
        "        <td style=\"padding-left: 1em; padding-right: 1em; text-align: center; vertical-align: top\">0.0</td>\n",
        "        <td style=\"padding-left: 1em; padding-right: 1em; text-align: center; vertical-align: top\">0.69314718056</td>\n",
        "        <td style=\"padding-left: 1em; padding-right: 1em; text-align: center; vertical-align: top\">0.69314718056</td>\n",
        "    </tr>\n",
        "    <tr>\n",
        "        <td style=\"padding-left: 1em; padding-right: 1em; text-align: center; vertical-align: top\">2</td>\n",
        "        <td style=\"padding-left: 1em; padding-right: 1em; text-align: center; vertical-align: top\">2011</td>\n",
        "        <td style=\"padding-left: 1em; padding-right: 1em; text-align: center; vertical-align: top\">1</td>\n",
        "        <td style=\"padding-left: 1em; padding-right: 1em; text-align: center; vertical-align: top\">1</td>\n",
        "        <td style=\"padding-left: 1em; padding-right: 1em; text-align: center; vertical-align: top\">6</td>\n",
        "        <td style=\"padding-left: 1em; padding-right: 1em; text-align: center; vertical-align: top\">5</td>\n",
        "        <td style=\"padding-left: 1em; padding-right: 1em; text-align: center; vertical-align: top\">1.09861228867</td>\n",
        "        <td style=\"padding-left: 1em; padding-right: 1em; text-align: center; vertical-align: top\">0.0</td>\n",
        "        <td style=\"padding-left: 1em; padding-right: 1em; text-align: center; vertical-align: top\">1.09861228867</td>\n",
        "    </tr>\n",
        "    <tr>\n",
        "        <td style=\"padding-left: 1em; padding-right: 1em; text-align: center; vertical-align: top\">3</td>\n",
        "        <td style=\"padding-left: 1em; padding-right: 1em; text-align: center; vertical-align: top\">2011</td>\n",
        "        <td style=\"padding-left: 1em; padding-right: 1em; text-align: center; vertical-align: top\">1</td>\n",
        "        <td style=\"padding-left: 1em; padding-right: 1em; text-align: center; vertical-align: top\">1</td>\n",
        "        <td style=\"padding-left: 1em; padding-right: 1em; text-align: center; vertical-align: top\">7</td>\n",
        "        <td style=\"padding-left: 1em; padding-right: 1em; text-align: center; vertical-align: top\">5</td>\n",
        "        <td style=\"padding-left: 1em; padding-right: 1em; text-align: center; vertical-align: top\">0.69314718056</td>\n",
        "        <td style=\"padding-left: 1em; padding-right: 1em; text-align: center; vertical-align: top\">1.09861228867</td>\n",
        "        <td style=\"padding-left: 1em; padding-right: 1em; text-align: center; vertical-align: top\">1.38629436112</td>\n",
        "    </tr>\n",
        "    <tr>\n",
        "        <td style=\"padding-left: 1em; padding-right: 1em; text-align: center; vertical-align: top\">8</td>\n",
        "        <td style=\"padding-left: 1em; padding-right: 1em; text-align: center; vertical-align: top\">2011</td>\n",
        "        <td style=\"padding-left: 1em; padding-right: 1em; text-align: center; vertical-align: top\">1</td>\n",
        "        <td style=\"padding-left: 1em; padding-right: 1em; text-align: center; vertical-align: top\">1</td>\n",
        "        <td style=\"padding-left: 1em; padding-right: 1em; text-align: center; vertical-align: top\">8</td>\n",
        "        <td style=\"padding-left: 1em; padding-right: 1em; text-align: center; vertical-align: top\">5</td>\n",
        "        <td style=\"padding-left: 1em; padding-right: 1em; text-align: center; vertical-align: top\">0.69314718056</td>\n",
        "        <td style=\"padding-left: 1em; padding-right: 1em; text-align: center; vertical-align: top\">2.07944154168</td>\n",
        "        <td style=\"padding-left: 1em; padding-right: 1em; text-align: center; vertical-align: top\">2.19722457734</td>\n",
        "    </tr>\n",
        "    <tr>\n",
        "        <td style=\"padding-left: 1em; padding-right: 1em; text-align: center; vertical-align: top\">14</td>\n",
        "        <td style=\"padding-left: 1em; padding-right: 1em; text-align: center; vertical-align: top\">2011</td>\n",
        "        <td style=\"padding-left: 1em; padding-right: 1em; text-align: center; vertical-align: top\">1</td>\n",
        "        <td style=\"padding-left: 1em; padding-right: 1em; text-align: center; vertical-align: top\">1</td>\n",
        "        <td style=\"padding-left: 1em; padding-right: 1em; text-align: center; vertical-align: top\">9</td>\n",
        "        <td style=\"padding-left: 1em; padding-right: 1em; text-align: center; vertical-align: top\">5</td>\n",
        "        <td style=\"padding-left: 1em; padding-right: 1em; text-align: center; vertical-align: top\">2.19722457734</td>\n",
        "        <td style=\"padding-left: 1em; padding-right: 1em; text-align: center; vertical-align: top\">1.94591014906</td>\n",
        "        <td style=\"padding-left: 1em; padding-right: 1em; text-align: center; vertical-align: top\">2.7080502011</td>\n",
        "    </tr>\n",
        "</table>\n",
        "[10 rows x 20 columns]<br/>\n",
        "</div>"
       ],
       "metadata": {},
       "output_type": "pyout",
       "prompt_number": 26,
       "text": [
        "Columns:\n",
        "\tdatetime\tstr\n",
        "\tseason\tint\n",
        "\tholiday\tint\n",
        "\tworkingday\tint\n",
        "\tweather\tint\n",
        "\ttemp\tfloat\n",
        "\tatemp\tfloat\n",
        "\thumidity\tint\n",
        "\twindspeed\tfloat\n",
        "\tcasual\tint\n",
        "\tregistered\tint\n",
        "\tcount\tint\n",
        "\tyear\tint\n",
        "\tmonth\tint\n",
        "\tday\tint\n",
        "\thour\tint\n",
        "\tweekday\tint\n",
        "\tlog-casual\tfloat\n",
        "\tlog-registered\tfloat\n",
        "\tlog-count\tfloat\n",
        "\n",
        "Rows: 10\n",
        "\n",
        "Data:\n",
        "+---------------------+--------+---------+------------+---------+-------+--------+\n",
        "|       datetime      | season | holiday | workingday | weather |  temp | atemp  |\n",
        "+---------------------+--------+---------+------------+---------+-------+--------+\n",
        "| 2011-01-01 00:00:00 |   1    |    0    |     0      |    1    |  9.84 | 14.395 |\n",
        "| 2011-01-01 01:00:00 |   1    |    0    |     0      |    1    |  9.02 | 13.635 |\n",
        "| 2011-01-01 02:00:00 |   1    |    0    |     0      |    1    |  9.02 | 13.635 |\n",
        "| 2011-01-01 03:00:00 |   1    |    0    |     0      |    1    |  9.84 | 14.395 |\n",
        "| 2011-01-01 04:00:00 |   1    |    0    |     0      |    1    |  9.84 | 14.395 |\n",
        "| 2011-01-01 05:00:00 |   1    |    0    |     0      |    2    |  9.84 | 12.88  |\n",
        "| 2011-01-01 06:00:00 |   1    |    0    |     0      |    1    |  9.02 | 13.635 |\n",
        "| 2011-01-01 07:00:00 |   1    |    0    |     0      |    1    |  8.2  | 12.88  |\n",
        "| 2011-01-01 08:00:00 |   1    |    0    |     0      |    1    |  9.84 | 14.395 |\n",
        "| 2011-01-01 09:00:00 |   1    |    0    |     0      |    1    | 13.12 | 17.425 |\n",
        "+---------------------+--------+---------+------------+---------+-------+--------+\n",
        "+----------+-----------+--------+------------+-------+------+-------+-----+------+\n",
        "| humidity | windspeed | casual | registered | count | year | month | day | hour |\n",
        "+----------+-----------+--------+------------+-------+------+-------+-----+------+\n",
        "|    81    |    0.0    |   3    |     13     |   16  | 2011 |   1   |  1  |  0   |\n",
        "|    80    |    0.0    |   8    |     32     |   40  | 2011 |   1   |  1  |  1   |\n",
        "|    80    |    0.0    |   5    |     27     |   32  | 2011 |   1   |  1  |  2   |\n",
        "|    75    |    0.0    |   3    |     10     |   13  | 2011 |   1   |  1  |  3   |\n",
        "|    75    |    0.0    |   0    |     1      |   1   | 2011 |   1   |  1  |  4   |\n",
        "|    75    |   6.0032  |   0    |     1      |   1   | 2011 |   1   |  1  |  5   |\n",
        "|    80    |    0.0    |   2    |     0      |   2   | 2011 |   1   |  1  |  6   |\n",
        "|    86    |    0.0    |   1    |     2      |   3   | 2011 |   1   |  1  |  7   |\n",
        "|    75    |    0.0    |   1    |     7      |   8   | 2011 |   1   |  1  |  8   |\n",
        "|    76    |    0.0    |   8    |     6      |   14  | 2011 |   1   |  1  |  9   |\n",
        "+----------+-----------+--------+------------+-------+------+-------+-----+------+\n",
        "+---------+---------------+----------------+---------------+\n",
        "| weekday |   log-casual  | log-registered |   log-count   |\n",
        "+---------+---------------+----------------+---------------+\n",
        "|    5    | 1.38629436112 | 2.63905732962  | 2.83321334406 |\n",
        "|    5    | 2.19722457734 | 3.49650756147  |  3.7135720667 |\n",
        "|    5    | 1.79175946923 | 3.33220451018  | 3.49650756147 |\n",
        "|    5    | 1.38629436112 |  2.3978952728  | 2.63905732962 |\n",
        "|    5    |      0.0      | 0.69314718056  | 0.69314718056 |\n",
        "|    5    |      0.0      | 0.69314718056  | 0.69314718056 |\n",
        "|    5    | 1.09861228867 |      0.0       | 1.09861228867 |\n",
        "|    5    | 0.69314718056 | 1.09861228867  | 1.38629436112 |\n",
        "|    5    | 0.69314718056 | 2.07944154168  | 2.19722457734 |\n",
        "|    5    | 2.19722457734 | 1.94591014906  |  2.7080502011 |\n",
        "+---------+---------------+----------------+---------------+\n",
        "[10 rows x 20 columns]"
       ]
      }
     ],
     "prompt_number": 26
    },
    {
     "cell_type": "code",
     "collapsed": false,
     "input": [
      "## combine the predictions of separtely trained models\n",
      "new_features = features + ['year', 'month', 'weekday', 'hour']\n",
      "new_features.remove('datetime')\n",
      "\n",
      "m1 = gl.boosted_trees.create(training_sframe,\n",
      "                             features = new_features,\n",
      "                             target='log-casual')\n",
      "m2 = gl.boosted_trees.create(training_sframe,\n",
      "                             features = new_features,\n",
      "                             target='log-registered')\n",
      "\n",
      "def fused_predict(m1, m2, test_sframe):\n",
      "    \"\"\"\n",
      "    Fused the prediction of two separately trained models.\n",
      "    The input models are trained in the log domain.\n",
      "    Return the combine predictions in the origianl domain.\n",
      "    \"\"\"\n",
      "    p1 = m1.predict(test_sframe).apply(lambda x: math.exp(x)-1)\n",
      "    p2 = m2.predict(test_sframe).apply(lambda x: math.exp(x)-1)\n",
      "    return (p1+p2).apply(lambda x: x if x>0 else 0)\n",
      "\n",
      "pred1 =fused_predict(m1, m2, training_sframe)\n",
      "#rmse(training_sframe['count'], pred1)\n"
     ],
     "language": "python",
     "metadata": {},
     "outputs": [
      {
       "html": [
        "<pre>PROGRESS: [0]\ttrain-rmse:2.541011</pre>"
       ],
       "metadata": {},
       "output_type": "display_data",
       "text": [
        "PROGRESS: [0]\ttrain-rmse:2.541011"
       ]
      },
      {
       "html": [
        "<pre>PROGRESS: [1]\ttrain-rmse:2.420588</pre>"
       ],
       "metadata": {},
       "output_type": "display_data",
       "text": [
        "PROGRESS: [1]\ttrain-rmse:2.420588"
       ]
      },
      {
       "html": [
        "<pre>PROGRESS: [2]\ttrain-rmse:2.306340</pre>"
       ],
       "metadata": {},
       "output_type": "display_data",
       "text": [
        "PROGRESS: [2]\ttrain-rmse:2.306340"
       ]
      },
      {
       "html": [
        "<pre>PROGRESS: [3]\ttrain-rmse:2.198025</pre>"
       ],
       "metadata": {},
       "output_type": "display_data",
       "text": [
        "PROGRESS: [3]\ttrain-rmse:2.198025"
       ]
      },
      {
       "html": [
        "<pre>PROGRESS: [4]\ttrain-rmse:2.095294</pre>"
       ],
       "metadata": {},
       "output_type": "display_data",
       "text": [
        "PROGRESS: [4]\ttrain-rmse:2.095294"
       ]
      },
      {
       "html": [
        "<pre>PROGRESS: [5]\ttrain-rmse:1.997746</pre>"
       ],
       "metadata": {},
       "output_type": "display_data",
       "text": [
        "PROGRESS: [5]\ttrain-rmse:1.997746"
       ]
      },
      {
       "html": [
        "<pre>PROGRESS: [6]\ttrain-rmse:1.905273</pre>"
       ],
       "metadata": {},
       "output_type": "display_data",
       "text": [
        "PROGRESS: [6]\ttrain-rmse:1.905273"
       ]
      },
      {
       "html": [
        "<pre>PROGRESS: [7]\ttrain-rmse:1.817682</pre>"
       ],
       "metadata": {},
       "output_type": "display_data",
       "text": [
        "PROGRESS: [7]\ttrain-rmse:1.817682"
       ]
      },
      {
       "html": [
        "<pre>PROGRESS: [8]\ttrain-rmse:1.734551</pre>"
       ],
       "metadata": {},
       "output_type": "display_data",
       "text": [
        "PROGRESS: [8]\ttrain-rmse:1.734551"
       ]
      },
      {
       "html": [
        "<pre>PROGRESS: [9]\ttrain-rmse:1.655609</pre>"
       ],
       "metadata": {},
       "output_type": "display_data",
       "text": [
        "PROGRESS: [9]\ttrain-rmse:1.655609"
       ]
      },
      {
       "html": [
        "<pre>PROGRESS: [0]\ttrain-rmse:3.936249</pre>"
       ],
       "metadata": {},
       "output_type": "display_data",
       "text": [
        "PROGRESS: [0]\ttrain-rmse:3.936249"
       ]
      },
      {
       "html": [
        "<pre>PROGRESS: [1]\ttrain-rmse:3.743274</pre>"
       ],
       "metadata": {},
       "output_type": "display_data",
       "text": [
        "PROGRESS: [1]\ttrain-rmse:3.743274"
       ]
      },
      {
       "html": [
        "<pre>PROGRESS: [2]\ttrain-rmse:3.559972</pre>"
       ],
       "metadata": {},
       "output_type": "display_data",
       "text": [
        "PROGRESS: [2]\ttrain-rmse:3.559972"
       ]
      },
      {
       "html": [
        "<pre>PROGRESS: [3]\ttrain-rmse:3.385651</pre>"
       ],
       "metadata": {},
       "output_type": "display_data",
       "text": [
        "PROGRESS: [3]\ttrain-rmse:3.385651"
       ]
      },
      {
       "html": [
        "<pre>PROGRESS: [4]\ttrain-rmse:3.220286</pre>"
       ],
       "metadata": {},
       "output_type": "display_data",
       "text": [
        "PROGRESS: [4]\ttrain-rmse:3.220286"
       ]
      },
      {
       "html": [
        "<pre>PROGRESS: [5]\ttrain-rmse:3.063119</pre>"
       ],
       "metadata": {},
       "output_type": "display_data",
       "text": [
        "PROGRESS: [5]\ttrain-rmse:3.063119"
       ]
      },
      {
       "html": [
        "<pre>PROGRESS: [6]\ttrain-rmse:2.914028</pre>"
       ],
       "metadata": {},
       "output_type": "display_data",
       "text": [
        "PROGRESS: [6]\ttrain-rmse:2.914028"
       ]
      },
      {
       "html": [
        "<pre>PROGRESS: [7]\ttrain-rmse:2.772055</pre>"
       ],
       "metadata": {},
       "output_type": "display_data",
       "text": [
        "PROGRESS: [7]\ttrain-rmse:2.772055"
       ]
      },
      {
       "html": [
        "<pre>PROGRESS: [8]\ttrain-rmse:2.636889</pre>"
       ],
       "metadata": {},
       "output_type": "display_data",
       "text": [
        "PROGRESS: [8]\ttrain-rmse:2.636889"
       ]
      },
      {
       "html": [
        "<pre>PROGRESS: [9]\ttrain-rmse:2.509118</pre>"
       ],
       "metadata": {},
       "output_type": "display_data",
       "text": [
        "PROGRESS: [9]\ttrain-rmse:2.509118"
       ]
      }
     ],
     "prompt_number": 27
    },
    {
     "cell_type": "code",
     "collapsed": false,
     "input": [
      "prediction =fused_predict(m1, m2, test_sframe)\n",
      "prediction = prediction.astype(int)\n",
      "\n",
      "##submission\n",
      "def make_submission(prediction, filename='submission.txt'):\n",
      "    with open(filename, 'w') as f:\n",
      "        f.write('datetime,count\\n')\n",
      "        submission_strings = test_sframe['datetime'] + ',' + prediction.astype(str)\n",
      "        for row in submission_strings:\n",
      "            f.write(row + '\\n')\n",
      "\n",
      "make_submission(prediction, 'submission1.txt')\n"
     ],
     "language": "python",
     "metadata": {},
     "outputs": [],
     "prompt_number": 28
    },
    {
     "cell_type": "code",
     "collapsed": false,
     "input": [
      "env = gl.deploy.environment.Local('hyperparam_search')\n",
      "training = training_sframe[training_sframe['day'] <= 16]\n",
      "validation = training_sframe[training_sframe['day'] > 16]\n",
      "training.save('/tmp/training')\n",
      "validation.save('/tmp/validation')"
     ],
     "language": "python",
     "metadata": {},
     "outputs": [
      {
       "ename": "NameError",
       "evalue": "An item with the name 'hyperparam_search' already exists, please rename.",
       "output_type": "pyerr",
       "traceback": [
        "\u001b[0;31m---------------------------------------------------------------------------\u001b[0m\n\u001b[0;31mNameError\u001b[0m                                 Traceback (most recent call last)",
        "\u001b[0;32m<ipython-input-29-84f7f0bc1a8a>\u001b[0m in \u001b[0;36m<module>\u001b[0;34m()\u001b[0m\n\u001b[0;32m----> 1\u001b[0;31m \u001b[0menv\u001b[0m \u001b[0;34m=\u001b[0m \u001b[0mgl\u001b[0m\u001b[0;34m.\u001b[0m\u001b[0mdeploy\u001b[0m\u001b[0;34m.\u001b[0m\u001b[0menvironment\u001b[0m\u001b[0;34m.\u001b[0m\u001b[0mLocal\u001b[0m\u001b[0;34m(\u001b[0m\u001b[0;34m'hyperparam_search'\u001b[0m\u001b[0;34m)\u001b[0m\u001b[0;34m\u001b[0m\u001b[0m\n\u001b[0m\u001b[1;32m      2\u001b[0m \u001b[0mtraining\u001b[0m \u001b[0;34m=\u001b[0m \u001b[0mtraining_sframe\u001b[0m\u001b[0;34m[\u001b[0m\u001b[0mtraining_sframe\u001b[0m\u001b[0;34m[\u001b[0m\u001b[0;34m'day'\u001b[0m\u001b[0;34m]\u001b[0m \u001b[0;34m<=\u001b[0m \u001b[0;36m16\u001b[0m\u001b[0;34m]\u001b[0m\u001b[0;34m\u001b[0m\u001b[0m\n\u001b[1;32m      3\u001b[0m \u001b[0mvalidation\u001b[0m \u001b[0;34m=\u001b[0m \u001b[0mtraining_sframe\u001b[0m\u001b[0;34m[\u001b[0m\u001b[0mtraining_sframe\u001b[0m\u001b[0;34m[\u001b[0m\u001b[0;34m'day'\u001b[0m\u001b[0;34m]\u001b[0m \u001b[0;34m>\u001b[0m \u001b[0;36m16\u001b[0m\u001b[0;34m]\u001b[0m\u001b[0;34m\u001b[0m\u001b[0m\n\u001b[1;32m      4\u001b[0m \u001b[0mtraining\u001b[0m\u001b[0;34m.\u001b[0m\u001b[0msave\u001b[0m\u001b[0;34m(\u001b[0m\u001b[0;34m'/tmp/training'\u001b[0m\u001b[0;34m)\u001b[0m\u001b[0;34m\u001b[0m\u001b[0m\n\u001b[1;32m      5\u001b[0m \u001b[0mvalidation\u001b[0m\u001b[0;34m.\u001b[0m\u001b[0msave\u001b[0m\u001b[0;34m(\u001b[0m\u001b[0;34m'/tmp/validation'\u001b[0m\u001b[0;34m)\u001b[0m\u001b[0;34m\u001b[0m\u001b[0m\n",
        "\u001b[0;32m/Users/wangwf/graphlab/lib/python2.7/site-packages/graphlab/deploy/environment.pyc\u001b[0m in \u001b[0;36m__init__\u001b[0;34m(self, name)\u001b[0m\n\u001b[1;32m    147\u001b[0m \u001b[0;34m\u001b[0m\u001b[0m\n\u001b[1;32m    148\u001b[0m     \u001b[0;32mdef\u001b[0m \u001b[0m__init__\u001b[0m\u001b[0;34m(\u001b[0m\u001b[0mself\u001b[0m\u001b[0;34m,\u001b[0m \u001b[0mname\u001b[0m\u001b[0;34m)\u001b[0m\u001b[0;34m:\u001b[0m\u001b[0;34m\u001b[0m\u001b[0m\n\u001b[0;32m--> 149\u001b[0;31m         \u001b[0msuper\u001b[0m\u001b[0;34m(\u001b[0m\u001b[0mLocal\u001b[0m\u001b[0;34m,\u001b[0m \u001b[0mself\u001b[0m\u001b[0;34m)\u001b[0m\u001b[0;34m.\u001b[0m\u001b[0m__init__\u001b[0m\u001b[0;34m(\u001b[0m\u001b[0mname\u001b[0m\u001b[0;34m,\u001b[0m \u001b[0m_ENVIRONMENT\u001b[0m\u001b[0;34m.\u001b[0m\u001b[0mLocal\u001b[0m\u001b[0;34m)\u001b[0m\u001b[0;34m\u001b[0m\u001b[0m\n\u001b[0m\u001b[1;32m    150\u001b[0m \u001b[0;34m\u001b[0m\u001b[0m\n\u001b[1;32m    151\u001b[0m     \u001b[0;32mdef\u001b[0m \u001b[0m__str__\u001b[0m\u001b[0;34m(\u001b[0m\u001b[0mself\u001b[0m\u001b[0;34m)\u001b[0m\u001b[0;34m:\u001b[0m\u001b[0;34m\u001b[0m\u001b[0m\n",
        "\u001b[0;32m/Users/wangwf/graphlab/lib/python2.7/site-packages/graphlab/deploy/environment.pyc\u001b[0m in \u001b[0;36m__init__\u001b[0;34m(self, name, env)\u001b[0m\n\u001b[1;32m     38\u001b[0m         \u001b[0mself\u001b[0m\u001b[0;34m.\u001b[0m\u001b[0m_typename\u001b[0m \u001b[0;34m=\u001b[0m \u001b[0mEnvironment\u001b[0m\u001b[0;34m.\u001b[0m\u001b[0m__name__\u001b[0m\u001b[0;34m\u001b[0m\u001b[0m\n\u001b[1;32m     39\u001b[0m \u001b[0;34m\u001b[0m\u001b[0m\n\u001b[0;32m---> 40\u001b[0;31m         \u001b[0mself\u001b[0m\u001b[0;34m.\u001b[0m\u001b[0m_session\u001b[0m\u001b[0;34m.\u001b[0m\u001b[0mregister\u001b[0m\u001b[0;34m(\u001b[0m\u001b[0mself\u001b[0m\u001b[0;34m)\u001b[0m\u001b[0;34m\u001b[0m\u001b[0m\n\u001b[0m\u001b[1;32m     41\u001b[0m \u001b[0;34m\u001b[0m\u001b[0m\n\u001b[1;32m     42\u001b[0m     \u001b[0;32mdef\u001b[0m \u001b[0mget_max_degree_of_parallelism\u001b[0m\u001b[0;34m(\u001b[0m\u001b[0mself\u001b[0m\u001b[0;34m)\u001b[0m\u001b[0;34m:\u001b[0m\u001b[0;34m\u001b[0m\u001b[0m\n",
        "\u001b[0;32m/Users/wangwf/graphlab/lib/python2.7/site-packages/graphlab/deploy/_session.pyc\u001b[0m in \u001b[0;36mregister\u001b[0;34m(self, artifact)\u001b[0m\n\u001b[1;32m     82\u001b[0m \u001b[0;34m\u001b[0m\u001b[0m\n\u001b[1;32m     83\u001b[0m         \u001b[0;32mif\u001b[0m \u001b[0martifact\u001b[0m\u001b[0;34m.\u001b[0m\u001b[0mname\u001b[0m \u001b[0;32min\u001b[0m \u001b[0mself\u001b[0m\u001b[0;34m.\u001b[0m\u001b[0m_objects\u001b[0m \u001b[0;32mor\u001b[0m \u001b[0martifact\u001b[0m\u001b[0;34m.\u001b[0m\u001b[0mname\u001b[0m \u001b[0;32min\u001b[0m \u001b[0mself\u001b[0m\u001b[0;34m.\u001b[0m\u001b[0m_cache\u001b[0m\u001b[0;34m:\u001b[0m\u001b[0;34m\u001b[0m\u001b[0m\n\u001b[0;32m---> 84\u001b[0;31m             \u001b[0;32mraise\u001b[0m \u001b[0mNameError\u001b[0m\u001b[0;34m(\u001b[0m\u001b[0;34m\"An item with the name '%s' already exists, please rename.\"\u001b[0m \u001b[0;34m%\u001b[0m \u001b[0martifact\u001b[0m\u001b[0;34m.\u001b[0m\u001b[0mname\u001b[0m\u001b[0;34m)\u001b[0m\u001b[0;34m\u001b[0m\u001b[0m\n\u001b[0m\u001b[1;32m     85\u001b[0m \u001b[0;34m\u001b[0m\u001b[0m\n\u001b[1;32m     86\u001b[0m         \u001b[0mself\u001b[0m\u001b[0;34m.\u001b[0m\u001b[0m_objects\u001b[0m\u001b[0;34m[\u001b[0m\u001b[0martifact\u001b[0m\u001b[0;34m.\u001b[0m\u001b[0mname\u001b[0m\u001b[0;34m]\u001b[0m \u001b[0;34m=\u001b[0m \u001b[0martifact\u001b[0m\u001b[0;34m\u001b[0m\u001b[0m\n",
        "\u001b[0;31mNameError\u001b[0m: An item with the name 'hyperparam_search' already exists, please rename."
       ]
      }
     ],
     "prompt_number": 29
    },
    {
     "cell_type": "code",
     "collapsed": false,
     "input": [
      "#Define the search space\n",
      "ntrees = 500\n",
      "search_space = {\n",
      "    'params': {\n",
      "        'max_depth': [10, 15, 20],\n",
      "        'min_child_weight': [5, 10, 20],\n",
      "        'step_size': 0.05,\n",
      "    },\n",
      "    'num_iterations': [ntrees]\n",
      "}\n",
      "\n",
      "def parameter_search(training_url, validation_url, default_params):\n",
      "    \"\"\"\n",
      "    Return the optimal parameters in the given search space.\n",
      "    The parameter returned has the lowest validation rmse.\n",
      "    \"\"\"\n",
      "    job = gl.toolkits.model_parameter_search(env, gl.boosted_trees.create,\n",
      "                                             train_set_path=training_url,\n",
      "                                             save_path='/tmp/job_output',\n",
      "                                             standard_model_params=default_params,\n",
      "                                             hyper_params=search_space,\n",
      "                                             test_set_path=validation_url)\n",
      "\n",
      "\n",
      "    # When the job is done, the result is stored in an SFrame\n",
      "    # The result contains attributes of the models in the search space\n",
      "    # and the validation error in RMSE. \n",
      "    result = gl.SFrame('/tmp/job_output').sort('rmse', ascending=True)\n",
      "\n",
      "    # Return the parameters with the lowest validation error. \n",
      "    optimal_params = result[['max_depth', 'min_child_weight']][0]\n",
      "    optimal_rmse = result['rmse'][0]\n",
      "    print 'Optimal parameters: %s' % str(optimal_params)\n",
      "    print 'RMSE: %s' % str(optimal_rmse)\n",
      "    return optimal_params\n"
     ],
     "language": "python",
     "metadata": {},
     "outputs": []
    },
    {
     "cell_type": "code",
     "collapsed": false,
     "input": [
      "gl.version\n",
      "#Perform hyperparameter search for both models\n",
      "fixed_params = {'features': new_features,\n",
      "                'verbose': False}\n",
      "\n",
      "fixed_params['target'] = 'log-casual'\n",
      "params_log_casual = parameter_search('/tmp/training',\n",
      "                                     '/tmp/validation',\n",
      "                                     fixed_params)\n"
     ],
     "language": "python",
     "metadata": {},
     "outputs": []
    },
    {
     "cell_type": "code",
     "collapsed": false,
     "input": [
      "params_log_casual"
     ],
     "language": "python",
     "metadata": {},
     "outputs": []
    },
    {
     "cell_type": "code",
     "collapsed": false,
     "input": [
      "\n",
      "fixed_params['target'] = 'log-registered'\n",
      "params_log_registered = parameter_search('/tmp/training',\n",
      "                                         '/tmp/validation',\n",
      "                                         fixed_params)"
     ],
     "language": "python",
     "metadata": {},
     "outputs": []
    },
    {
     "cell_type": "code",
     "collapsed": false,
     "input": [
      "#env= gl.deploy.environment.Local('hyperparam_search1')\n",
      "fixed_params = {'features': new_features,\n",
      "                'verbose': False}\n",
      "\n",
      "fixed_params['target'] = 'log-casual'\n",
      "fixed_params\n",
      "ntrees = 500\n",
      "\n",
      "\n",
      "\n"
     ],
     "language": "python",
     "metadata": {},
     "outputs": []
    },
    {
     "cell_type": "code",
     "collapsed": false,
     "input": [
      "standard_model_params = {'features': new_features,\n",
      "                        'target':'log-casual'}\n",
      "\n",
      "search_space = {\n",
      "    'params': {        'max_depth': [10, 15, 20],        'min_child_weight': [5, 10, 20]    },\n",
      "    'num_iterations': [ntrees]\n",
      "}\n",
      "    \n",
      "job = gl.toolkits.model_parameter_search(env,\n",
      "                                         gl.boosted_trees.create,\n",
      "                                         train_set_path='/tmp/training',\n",
      "                                         save_path='/tmp/job_output1',\n",
      "                                         test_set_path='/tmp/validation',\n",
      "                                         standard_model_params=standard_model_params,\n",
      "                                         hyper_params=search_space\n",
      "                                        )"
     ],
     "language": "python",
     "metadata": {},
     "outputs": []
    },
    {
     "cell_type": "code",
     "collapsed": false,
     "input": [
      "result = gl.SFrame('/tmp/job_output1').sort('rmse', ascending=True)\n",
      "result"
     ],
     "language": "python",
     "metadata": {},
     "outputs": []
    },
    {
     "cell_type": "code",
     "collapsed": false,
     "input": [
      "#Train models with the tuned hyperparameters\n",
      "#Doing hyperparameter search requires us to hold out a validation set from the original training data. In the final submission, we want to train models that take full advantages of the provided training data.\n",
      "\n",
      "m_log_registered = gl.boosted_trees.create(training_sframe,\n",
      "                                           features=new_features,\n",
      "                                           target='log-registered',\n",
      "                                           num_iterations=ntrees,\n",
      "                                           params=params_log_registered,\n",
      "                                           verbose=False)\n",
      "\n",
      "m_log_casual = gl.boosted_trees.create(training_sframe,\n",
      "                                       features=new_features,\n",
      "                                       target='log-casual',\n",
      "                                       num_iterations=ntrees,\n",
      "                                       params=params_log_casual,\n",
      "                                       verbose=False)\n",
      "\n",
      "final_prediction = fused_predict(m_log_registered, m_log_casual, test_sframe)\n",
      "\n",
      "make_submission(final_prediction, 'submission2.txt')"
     ],
     "language": "python",
     "metadata": {},
     "outputs": []
    },
    {
     "cell_type": "code",
     "collapsed": false,
     "input": [],
     "language": "python",
     "metadata": {},
     "outputs": []
    }
   ],
   "metadata": {}
  }
 ]
}