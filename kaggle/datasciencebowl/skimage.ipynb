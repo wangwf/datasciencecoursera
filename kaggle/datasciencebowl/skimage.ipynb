{
 "metadata": {
  "name": "",
  "signature": "sha256:21bfba4db4c48bfba6dad5607feba93ebdb529467890052c3fec464c6058ed50"
 },
 "nbformat": 3,
 "nbformat_minor": 0,
 "worksheets": [
  {
   "cells": [
    {
     "cell_type": "code",
     "collapsed": false,
     "input": [
      "import os\n",
      "import numpy as np"
     ],
     "language": "python",
     "metadata": {},
     "outputs": [],
     "prompt_number": 2
    },
    {
     "cell_type": "code",
     "collapsed": false,
     "input": [
      "\n",
      "train_dir =\"train/\"\n",
      "\n",
      "all_classes = np.array(os.listdir(train_dir))\n",
      "n_classes = len(all_classes)\n",
      "print \"\\n Number of classes: \", n_classes"
     ],
     "language": "python",
     "metadata": {},
     "outputs": [
      {
       "output_type": "stream",
       "stream": "stdout",
       "text": [
        "\n",
        " Number of classes:  121\n"
       ]
      }
     ],
     "prompt_number": 4
    },
    {
     "cell_type": "code",
     "collapsed": false,
     "input": [
      "#count the number of images in each class\n",
      "nimg_per_class = np.zeros(n_classes, dtype='int')\n",
      "for i,cls in enumerate(all_classes):\n",
      "    nimg_per_class[i] = len(os.listdir(train_dir +\"/\"+cls))\n",
      "\n",
      "# sort\n",
      "\n",
      "indx = np.argsort(-nimg_per_class)\n",
      "all_classes = all_classes[indx]\n",
      "nimg_per_class = nimg_per_class[indx]\n",
      "\n",
      "\n",
      "# \n"
     ],
     "language": "python",
     "metadata": {},
     "outputs": [],
     "prompt_number": 7
    },
    {
     "cell_type": "code",
     "collapsed": false,
     "input": [
      "(nimg_per_class)"
     ],
     "language": "python",
     "metadata": {},
     "outputs": [
      {
       "metadata": {},
       "output_type": "pyout",
       "prompt_number": 10,
       "text": [
        "array([1979, 1934, 1189, 1172,  914,  899,  889,  815,  708,  703,  696,\n",
        "        694,  681,  678,  625,  536,  532,  519,  511,  500,  483,  439,\n",
        "        425,  417,  412,  394,  393,  385,  372,  363,  352,  336,  317,\n",
        "        287,  286,  274,  247,  242,  236,  229,  212,  201,  190,  179,\n",
        "        178,  175,  174,  173,  170,  158,  153,  150,  141,  136,  135,\n",
        "        132,  131,  128,  127,  123,  114,  113,  113,  108,  108,  106,\n",
        "         96,   96,   92,   88,   87,   85,   80,   77,   76,   75,   73,\n",
        "         71,   65,   64,   63,   61,   57,   56,   55,   54,   53,   52,\n",
        "         49,   49,   49,   43,   42,   38,   38,   38,   36,   35,   31,\n",
        "         30,   30,   29,   29,   27,   24,   24,   24,   23,   21,   19,\n",
        "         16,   16,   14,   14,   14,   13,   13,   12,   10,   10,    9])"
       ]
      }
     ],
     "prompt_number": 10
    },
    {
     "cell_type": "code",
     "collapsed": false,
     "input": [
      "%pylab inline\n",
      "import matplotlib.pyplot as plt\n",
      "plt.hist(nimg_per_class, bins=np.linspace(1, 2000, 200))\n",
      "plt.xlabel(\"number of images\")\n",
      "plt.ylabel(\"number of classes\")\n",
      "#plt.savefig(\"images_per_class.png\")"
     ],
     "language": "python",
     "metadata": {},
     "outputs": [
      {
       "output_type": "stream",
       "stream": "stdout",
       "text": [
        "Populating the interactive namespace from numpy and matplotlib\n"
       ]
      },
      {
       "metadata": {},
       "output_type": "pyout",
       "prompt_number": 13,
       "text": [
        "<matplotlib.text.Text at 0x5501f90>"
       ]
      },
      {
       "metadata": {},
       "output_type": "display_data",
       "png": "[encoded data removed]",
       "text": [
        "<matplotlib.figure.Figure at 0x51a8810>"
       ]
      }
     ],
     "prompt_number": 13
    },
    {
     "cell_type": "code",
     "collapsed": false,
     "input": [
      "# print some stats\n",
      "#===========================================\n",
      "print\n",
      "print \"ten classes with fewest images ...\"\n",
      "for i in range(10):\n",
      "    print nimg_per_class[-(i+1)], all_classes[-(i+1)]\n",
      "\n",
      "print\n",
      "print \"ten classes with most images ...\"\n",
      "for i in range(10):\n",
      "    print nimg_per_class[i], all_classes[i]\n",
      "\n",
      "\n",
      "# write out classes in reverse order\n",
      "#===========================================\n",
      "with open(\"class_list.txt\", \"w\") as f:\n",
      "    for i in range(n_classes):\n",
      "        f.write(\"{} {}\\n\".format(all_classes[i], nimg_per_class[i]))\n"
     ],
     "language": "python",
     "metadata": {},
     "outputs": [
      {
       "output_type": "stream",
       "stream": "stdout",
       "text": [
        "\n",
        "ten classes with fewest images ...\n",
        "9 hydromedusae_haliscera_small_sideview\n",
        "10 heteropod\n",
        "10 fish_larvae_deep_body\n",
        "12 hydromedusae_other\n",
        "13 acantharia_protist_big_center\n",
        "13 pteropod_theco_dev_seq\n",
        "14 ephyra\n",
        "14 hydromedusae_typeE\n",
        "14 invertebrate_larvae_other_A\n",
        "16 appendicularian_fritillaridae\n",
        "\n",
        "ten classes with most images ...\n",
        "1979 trichodesmium_puff\n",
        "1934 chaetognath_other\n",
        "1189 copepod_cyclopoid_oithona_eggs\n",
        "1172 protist_other\n",
        "914 detritus_other\n",
        "899 copepod_cyclopoid_oithona\n",
        "889 acantharia_protist\n",
        "815 chaetognath_non_sagitta\n",
        "708 trichodesmium_bowtie\n",
        "703 hydromedusae_solmaris\n"
       ]
      }
     ],
     "prompt_number": 14
    },
    {
     "cell_type": "code",
     "collapsed": false,
     "input": [],
     "language": "python",
     "metadata": {},
     "outputs": [],
     "prompt_number": 14
    },
    {
     "cell_type": "code",
     "collapsed": false,
     "input": [],
     "language": "python",
     "metadata": {},
     "outputs": [],
     "prompt_number": 14
    },
    {
     "cell_type": "code",
     "collapsed": false,
     "input": [],
     "language": "python",
     "metadata": {},
     "outputs": [],
     "prompt_number": 14
    },
    {
     "cell_type": "code",
     "collapsed": false,
     "input": [
      "import os\n",
      "import sys\n",
      "import numpy as np\n",
      "\n",
      "from skimage.io import imread\n",
      "from skimage import morphology\n",
      "from skimage import measure\n",
      "\n",
      "from sklearn.ensemble import RandomForestClassifier as RF\n",
      "from sklearn import cross_validation\n",
      "from sklearn.cross_validation import StratifiedKFold as KFold\n",
      "from sklearn.metrics import classification_report\n",
      "\n",
      "from matplotlib import pyplot as plt\n",
      "from matplotlib import cm\n",
      "\n",
      "#import const \n",
      "\n",
      "\n",
      "\n",
      "plt.ion() # turns on interactive plotting "
     ],
     "language": "python",
     "metadata": {},
     "outputs": [],
     "prompt_number": 1
    },
    {
     "cell_type": "code",
     "collapsed": false,
     "input": [
      "\n",
      "# set the path to the training images\n",
      "TRAIN_BASE=\"competition_data/train\"\n",
      "\n",
      "# get the class names from the directory names\n",
      "CLASS_NAMES = os.listdir(TRAIN_BASE)\n",
      "\n",
      "# this just adds the prefix path to the class names\n",
      "DIRECTORY_NAMES = [os.path.join(TRAIN_BASE, cn) for cn in CLASS_NAMES]\n",
      "\n",
      "# a list of the path to all training images\n",
      "TRAIN_IMAGE_PATHS = []\n",
      "for dn in DIRECTORY_NAMES:\n",
      "    for fn in os.listdir(dn):\n",
      "        image_path = os.path.join(dn,fn)\n",
      "        TRAIN_IMAGE_PATHS.append(image_path)\n",
      "\n",
      "# number of training images\n",
      "NTRAIN = len(TRAIN_IMAGE_PATHS)\n",
      "\n",
      "# set a default training image\n",
      "DEFAULT_IMAGE_FILE = os.path.join(TRAIN_BASE, \"acantharia_protist/101574.jpg\")\n",
      "\n",
      "#const =const()"
     ],
     "language": "python",
     "metadata": {},
     "outputs": [],
     "prompt_number": 5
    },
    {
     "cell_type": "code",
     "collapsed": false,
     "input": [
      "#\n",
      "#  rescale_train_images\n",
      "#\n",
      "import subprocess\n",
      "\n",
      "\n",
      "\n",
      "npx = 25 #int(sys.argv[1])\n",
      "output_dir = \"competition_data/train_{0}x{0}\".format(npx)\n",
      "if not os.path.isdir(output_dir):\n",
      "    os.mkdir(output_dir)\n",
      "\n",
      "print 'output_dir=', output_dir\n",
      "print 'npx=', npx\n",
      "\n",
      "convert = \"convert -resize {0}x{0}! \".format(npx)\n",
      "print 'convert=', convert\n",
      "\n",
      "classes = os.listdir(TRAIN_BASE)\n",
      "print 'classes=', classes\n",
      "\n",
      "for c in classes:\n",
      "    class_dir = os.path.join(output_dir,c)\n",
      "    if not os.path.isdir(class_dir):\n",
      "        os.mkdir(class_dir)\n",
      "    imgs = os.listdir(os.path.join(TRAIN_BASE,c))\n",
      "    for img in imgs:\n",
      "        cmnd = os.path.join(convert + TRAIN_BASE, c, img)\n",
      "        cmnd += os.path.join(' ' + output_dir, c, img)\n",
      "        print cmnd\n",
      "        subprocess.call(cmnd.split())\n"
     ],
     "language": "python",
     "metadata": {},
     "outputs": [
      {
       "output_type": "stream",
       "stream": "stdout",
       "text": [
        "output_dir= competition_data/train_25x25\n",
        "npx= 25\n",
        "convert= convert -resize 25x25! \n",
        "classes= ['echinoderm_larva_pluteus_urchin', 'acantharia_protist_big_center', 'trichodesmium_puff', 'hydromedusae_typeE', 'hydromedusae_typeF', 'echinopluteus', 'appendicularian_fritillaridae', 'hydromedusae_narco_dark', 'shrimp-like_other', 'shrimp_caridean', 'echinoderm_larva_seastar_bipinnaria', 'chordate_type1', 'detritus_blob', 'copepod_cyclopoid_oithona', 'diatom_chain_string', 'hydromedusae_narcomedusae', 'invertebrate_larvae_other_B', 'decapods', 'siphonophore_calycophoran_abylidae', 'siphonophore_calycophoran_sphaeronectes', 'echinoderm_larva_seastar_brachiolaria', 'shrimp_sergestidae', 'radiolarian_chain', 'ctenophore_cestid', 'hydromedusae_aglaura', 'hydromedusae_solmaris', 'ctenophore_lobate', 'detritus_filamentous', 'siphonophore_calycophoran_sphaeronectes_young', 'hydromedusae_h15', 'tunicate_doliolid', 'copepod_calanoid_eggs', 'siphonophore_physonect_young', 'fish_larvae_myctophids', 'trochophore_larvae', 'unknown_sticks', 'hydromedusae_bell_and_tentacles', 'shrimp_zoea', 'fish_larvae_very_thin_body', 'copepod_calanoid_frillyAntennae', 'chaetognath_sagitta', 'unknown_unclassified', 'crustacean_other', 'radiolarian_colony', 'fish_larvae_thin_body', 'invertebrate_larvae_other_A', 'diatom_chain_tube', 'tunicate_doliolid_nurse', 'hydromedusae_shapeA', 'siphonophore_calycophoran_rocketship_adult', 'copepod_calanoid_eucalanus', 'protist_dark_center', 'fish_larvae_leptocephali', 'copepod_calanoid_flatheads', 'hydromedusae_solmundella', 'siphonophore_other_parts', 'copepod_calanoid_octomoms', 'heteropod', 'ctenophore_cydippid_tentacles', 'artifacts_edge', 'siphonophore_calycophoran_rocketship_young', 'fish_larvae_medium_body', 'copepod_calanoid', 'echinoderm_larva_pluteus_brittlestar', 'appendicularian_s_shape', 'hydromedusae_typeD_bell_and_tentacles', 'tunicate_salp', 'copepod_calanoid_small_longantennae', 'euphausiids', 'tornaria_acorn_worm_larvae', 'echinoderm_larva_pluteus_typeC', 'amphipods', 'copepod_cyclopoid_oithona_eggs', 'protist_other', 'stomatopod', 'tunicate_salp_chains', 'hydromedusae_shapeB', 'artifacts', 'fecal_pellet', 'protist_star', 'trichodesmium_multiple', 'acantharia_protist_halo', 'chaetognath_other', 'hydromedusae_sideview_big', 'echinoderm_seacucumber_auricularia_larva', 'copepod_other', 'ephyra', 'hydromedusae_haliscera_small_sideview', 'hydromedusae_other', 'pteropod_triangle', 'unknown_blobs_and_smudges', 'siphonophore_physonect', 'polychaete', 'chaetognath_non_sagitta', 'detritus_other', 'hydromedusae_liriope', 'fish_larvae_deep_body', 'hydromedusae_typeD', 'ctenophore_cydippid_no_tentacles', 'trichodesmium_tuft', 'copepod_calanoid_large', 'appendicularian_straight', 'acantharia_protist', 'pteropod_butterfly', 'euphausiids_young', 'hydromedusae_narco_young', 'hydromedusae_shapeA_sideview_small', 'hydromedusae_partial_dark', 'protist_noctiluca', 'siphonophore_partial', 'echinoderm_larva_pluteus_early', 'hydromedusae_haliscera', 'copepod_calanoid_large_side_antennatucked', 'appendicularian_slight_curve', 'jellies_tentacles', 'protist_fuzzy_olive', 'trichodesmium_bowtie', 'siphonophore_calycophoran_sphaeronectes_stem', 'copepod_cyclopoid_copilia', 'tunicate_partial', 'pteropod_theco_dev_seq']\n",
        "convert -resize 25x25! competition_data/train/echinoderm_larva_pluteus_urchin/96751.jpg competition_data/train_25x25/echinoderm_larva_pluteus_urchin/96751.jpg\n",
        "convert -resize 25x25! competition_data/train/echinoderm_larva_pluteus_urchin/53589.jpg competition_data/train_25x25/echinoderm_larva_pluteus_urchin/53589.jpg"
       ]
      },
      {
       "output_type": "stream",
       "stream": "stdout",
       "text": [
        "\n",
        "convert -resize 25x25! competition_data/train/echinoderm_larva_pluteus_urchin/148991.jpg competition_data/train_25x25/echinoderm_larva_pluteus_urchin/148991.jpg"
       ]
      },
      {
       "output_type": "stream",
       "stream": "stdout",
       "text": [
        "\n",
        "convert -resize 25x25! competition_data/train/echinoderm_larva_pluteus_urchin/116920.jpg competition_data/train_25x25/echinoderm_larva_pluteus_urchin/116920.jpg"
       ]
      },
      {
       "output_type": "stream",
       "stream": "stdout",
       "text": [
        "\n",
        "convert -resize 25x25! competition_data/train/echinoderm_larva_pluteus_urchin/3512.jpg competition_data/train_25x25/echinoderm_larva_pluteus_urchin/3512.jpg"
       ]
      },
      {
       "output_type": "stream",
       "stream": "stdout",
       "text": [
        "\n",
        "convert -resize 25x25! competition_data/train/echinoderm_larva_pluteus_urchin/133814.jpg competition_data/train_25x25/echinoderm_larva_pluteus_urchin/133814.jpg"
       ]
      },
      {
       "output_type": "stream",
       "stream": "stdout",
       "text": [
        "\n",
        "convert -resize 25x25! competition_data/train/echinoderm_larva_pluteus_urchin/147722.jpg competition_data/train_25x25/echinoderm_larva_pluteus_urchin/147722.jpg"
       ]
      },
      {
       "output_type": "stream",
       "stream": "stdout",
       "text": [
        "\n",
        "convert -resize 25x25! competition_data/train/echinoderm_larva_pluteus_urchin/80453.jpg competition_data/train_25x25/echinoderm_larva_pluteus_urchin/80453.jpg"
       ]
      },
      {
       "output_type": "stream",
       "stream": "stdout",
       "text": [
        "\n",
        "convert -resize 25x25! competition_data/train/echinoderm_larva_pluteus_urchin/1600.jpg competition_data/train_25x25/echinoderm_larva_pluteus_urchin/1600.jpg"
       ]
      },
      {
       "output_type": "stream",
       "stream": "stdout",
       "text": [
        "\n",
        "convert -resize 25x25! competition_data/train/echinoderm_larva_pluteus_urchin/7467.jpg competition_data/train_25x25/echinoderm_larva_pluteus_urchin/7467.jpg"
       ]
      },
      {
       "output_type": "stream",
       "stream": "stdout",
       "text": [
        "\n",
        "convert -resize 25x25! competition_data/train/echinoderm_larva_pluteus_urchin/157615.jpg competition_data/train_25x25/echinoderm_larva_pluteus_urchin/157615.jpg"
       ]
      },
      {
       "output_type": "stream",
       "stream": "stdout",
       "text": [
        "\n",
        "convert -resize 25x25! competition_data/train/echinoderm_larva_pluteus_urchin/36392.jpg competition_data/train_25x25/echinoderm_larva_pluteus_urchin/36392.jpg"
       ]
      },
      {
       "output_type": "stream",
       "stream": "stdout",
       "text": [
        "\n",
        "convert -resize 25x25! competition_data/train/echinoderm_larva_pluteus_urchin/28870.jpg competition_data/train_25x25/echinoderm_larva_pluteus_urchin/28870.jpg"
       ]
      },
      {
       "output_type": "stream",
       "stream": "stdout",
       "text": [
        "\n",
        "convert -resize 25x25! competition_data/train/echinoderm_larva_pluteus_urchin/36019.jpg competition_data/train_25x25/echinoderm_larva_pluteus_urchin/36019.jpg"
       ]
      },
      {
       "output_type": "stream",
       "stream": "stdout",
       "text": [
        "\n",
        "convert -resize 25x25! competition_data/train/echinoderm_larva_pluteus_urchin/99608.jpg competition_data/train_25x25/echinoderm_larva_pluteus_urchin/99608.jpg"
       ]
      },
      {
       "output_type": "stream",
       "stream": "stdout",
       "text": [
        "\n",
        "convert -resize 25x25! competition_data/train/echinoderm_larva_pluteus_urchin/86715.jpg competition_data/train_25x25/echinoderm_larva_pluteus_urchin/86715.jpg"
       ]
      },
      {
       "output_type": "stream",
       "stream": "stdout",
       "text": [
        "\n",
        "convert -resize 25x25! competition_data/train/echinoderm_larva_pluteus_urchin/52110.jpg competition_data/train_25x25/echinoderm_larva_pluteus_urchin/52110.jpg"
       ]
      },
      {
       "output_type": "stream",
       "stream": "stdout",
       "text": [
        "\n",
        "convert -resize 25x25! competition_data/train/echinoderm_larva_pluteus_urchin/80642.jpg competition_data/train_25x25/echinoderm_larva_pluteus_urchin/80642.jpg"
       ]
      },
      {
       "output_type": "stream",
       "stream": "stdout",
       "text": [
        "\n",
        "convert -resize 25x25! competition_data/train/echinoderm_larva_pluteus_urchin/30169.jpg competition_data/train_25x25/echinoderm_larva_pluteus_urchin/30169.jpg"
       ]
      },
      {
       "output_type": "stream",
       "stream": "stdout",
       "text": [
        "\n",
        "convert -resize 25x25! competition_data/train/echinoderm_larva_pluteus_urchin/96960.jpg competition_data/train_25x25/echinoderm_larva_pluteus_urchin/96960.jpg"
       ]
      },
      {
       "output_type": "stream",
       "stream": "stdout",
       "text": [
        "\n",
        "convert -resize 25x25! competition_data/train/echinoderm_larva_pluteus_urchin/39376.jpg competition_data/train_25x25/echinoderm_larva_pluteus_urchin/39376.jpg"
       ]
      },
      {
       "output_type": "stream",
       "stream": "stdout",
       "text": [
        "\n",
        "convert -resize 25x25! competition_data/train/echinoderm_larva_pluteus_urchin/79870.jpg competition_data/train_25x25/echinoderm_larva_pluteus_urchin/79870.jpg"
       ]
      },
      {
       "output_type": "stream",
       "stream": "stdout",
       "text": [
        "\n",
        "convert -resize 25x25! competition_data/train/echinoderm_larva_pluteus_urchin/66411.jpg competition_data/train_25x25/echinoderm_larva_pluteus_urchin/66411.jpg"
       ]
      },
      {
       "output_type": "stream",
       "stream": "stdout",
       "text": [
        "\n",
        "convert -resize 25x25! competition_data/train/echinoderm_larva_pluteus_urchin/108490.jpg competition_data/train_25x25/echinoderm_larva_pluteus_urchin/108490.jpg"
       ]
      },
      {
       "output_type": "stream",
       "stream": "stdout",
       "text": [
        "\n",
        "convert -resize 25x25! competition_data/train/echinoderm_larva_pluteus_urchin/131674.jpg competition_data/train_25x25/echinoderm_larva_pluteus_urchin/131674.jpg"
       ]
      },
      {
       "output_type": "stream",
       "stream": "stdout",
       "text": [
        "\n",
        "convert -resize 25x25! competition_data/train/echinoderm_larva_pluteus_urchin/152770.jpg competition_data/train_25x25/echinoderm_larva_pluteus_urchin/152770.jpg"
       ]
      },
      {
       "output_type": "stream",
       "stream": "stdout",
       "text": [
        "\n",
        "convert -resize 25x25! competition_data/train/echinoderm_larva_pluteus_urchin/142176.jpg competition_data/train_25x25/echinoderm_larva_pluteus_urchin/142176.jpg"
       ]
      },
      {
       "output_type": "stream",
       "stream": "stdout",
       "text": [
        "\n",
        "convert -resize 25x25! competition_data/train/echinoderm_larva_pluteus_urchin/67099.jpg competition_data/train_25x25/echinoderm_larva_pluteus_urchin/67099.jpg"
       ]
      },
      {
       "output_type": "stream",
       "stream": "stdout",
       "text": [
        "\n",
        "convert -resize 25x25! competition_data/train/echinoderm_larva_pluteus_urchin/98218.jpg competition_data/train_25x25/echinoderm_larva_pluteus_urchin/98218.jpg"
       ]
      },
      {
       "output_type": "stream",
       "stream": "stdout",
       "text": [
        "\n",
        "convert -resize 25x25! competition_data/train/echinoderm_larva_pluteus_urchin/87572.jpg competition_data/train_25x25/echinoderm_larva_pluteus_urchin/87572.jpg"
       ]
      },
      {
       "output_type": "stream",
       "stream": "stdout",
       "text": [
        "\n",
        "convert -resize 25x25! competition_data/train/echinoderm_larva_pluteus_urchin/131199.jpg competition_data/train_25x25/echinoderm_larva_pluteus_urchin/131199.jpg"
       ]
      },
      {
       "output_type": "stream",
       "stream": "stdout",
       "text": [
        "\n",
        "convert -resize 25x25! competition_data/train/echinoderm_larva_pluteus_urchin/159498.jpg competition_data/train_25x25/echinoderm_larva_pluteus_urchin/159498.jpg"
       ]
      },
      {
       "output_type": "stream",
       "stream": "stdout",
       "text": [
        "\n",
        "convert -resize 25x25! competition_data/train/echinoderm_larva_pluteus_urchin/151258.jpg competition_data/train_25x25/echinoderm_larva_pluteus_urchin/151258.jpg"
       ]
      },
      {
       "output_type": "stream",
       "stream": "stdout",
       "text": [
        "\n",
        "convert -resize 25x25! competition_data/train/echinoderm_larva_pluteus_urchin/32598.jpg competition_data/train_25x25/echinoderm_larva_pluteus_urchin/32598.jpg"
       ]
      },
      {
       "output_type": "stream",
       "stream": "stdout",
       "text": [
        "\n",
        "convert -resize 25x25! competition_data/train/echinoderm_larva_pluteus_urchin/21526.jpg competition_data/train_25x25/echinoderm_larva_pluteus_urchin/21526.jpg"
       ]
      },
      {
       "output_type": "stream",
       "stream": "stdout",
       "text": [
        "\n",
        "convert -resize 25x25! competition_data/train/echinoderm_larva_pluteus_urchin/139020.jpg competition_data/train_25x25/echinoderm_larva_pluteus_urchin/139020.jpg"
       ]
      },
      {
       "output_type": "stream",
       "stream": "stdout",
       "text": [
        "\n",
        "convert -resize 25x25! competition_data/train/echinoderm_larva_pluteus_urchin/116142.jpg competition_data/train_25x25/echinoderm_larva_pluteus_urchin/116142.jpg"
       ]
      },
      {
       "output_type": "stream",
       "stream": "stdout",
       "text": [
        "\n",
        "convert -resize 25x25! competition_data/train/echinoderm_larva_pluteus_urchin/13504.jpg competition_data/train_25x25/echinoderm_larva_pluteus_urchin/13504.jpg"
       ]
      },
      {
       "output_type": "stream",
       "stream": "stdout",
       "text": [
        "\n",
        "convert -resize 25x25! competition_data/train/echinoderm_larva_pluteus_urchin/3978.jpg competition_data/train_25x25/echinoderm_larva_pluteus_urchin/3978.jpg"
       ]
      },
      {
       "output_type": "stream",
       "stream": "stdout",
       "text": [
        "\n",
        "convert -resize 25x25! competition_data/train/echinoderm_larva_pluteus_urchin/34762.jpg competition_data/train_25x25/echinoderm_larva_pluteus_urchin/34762.jpg"
       ]
      },
      {
       "output_type": "stream",
       "stream": "stdout",
       "text": [
        "\n",
        "convert -resize 25x25! competition_data/train/echinoderm_larva_pluteus_urchin/49793.jpg competition_data/train_25x25/echinoderm_larva_pluteus_urchin/49793.jpg"
       ]
      },
      {
       "output_type": "stream",
       "stream": "stdout",
       "text": [
        "\n",
        "convert -resize 25x25! competition_data/train/echinoderm_larva_pluteus_urchin/58947.jpg competition_data/train_25x25/echinoderm_larva_pluteus_urchin/58947.jpg"
       ]
      },
      {
       "output_type": "stream",
       "stream": "stdout",
       "text": [
        "\n",
        "convert -resize 25x25! competition_data/train/echinoderm_larva_pluteus_urchin/80643.jpg competition_data/train_25x25/echinoderm_larva_pluteus_urchin/80643.jpg"
       ]
      },
      {
       "output_type": "stream",
       "stream": "stdout",
       "text": [
        "\n",
        "convert -resize 25x25! competition_data/train/echinoderm_larva_pluteus_urchin/59921.jpg competition_data/train_25x25/echinoderm_larva_pluteus_urchin/59921.jpg"
       ]
      },
      {
       "output_type": "stream",
       "stream": "stdout",
       "text": [
        "\n",
        "convert -resize 25x25! competition_data/train/echinoderm_larva_pluteus_urchin/112728.jpg competition_data/train_25x25/echinoderm_larva_pluteus_urchin/112728.jpg"
       ]
      },
      {
       "output_type": "stream",
       "stream": "stdout",
       "text": [
        "\n",
        "convert -resize 25x25! competition_data/train/echinoderm_larva_pluteus_urchin/23611.jpg competition_data/train_25x25/echinoderm_larva_pluteus_urchin/23611.jpg"
       ]
      },
      {
       "output_type": "stream",
       "stream": "stdout",
       "text": [
        "\n",
        "convert -resize 25x25! competition_data/train/echinoderm_larva_pluteus_urchin/116889.jpg competition_data/train_25x25/echinoderm_larva_pluteus_urchin/116889.jpg"
       ]
      },
      {
       "output_type": "stream",
       "stream": "stdout",
       "text": [
        "\n",
        "convert -resize 25x25! competition_data/train/echinoderm_larva_pluteus_urchin/103990.jpg competition_data/train_25x25/echinoderm_larva_pluteus_urchin/103990.jpg"
       ]
      },
      {
       "output_type": "stream",
       "stream": "stdout",
       "text": [
        "\n",
        "convert -resize 25x25! competition_data/train/echinoderm_larva_pluteus_urchin/23468.jpg competition_data/train_25x25/echinoderm_larva_pluteus_urchin/23468.jpg"
       ]
      },
      {
       "output_type": "stream",
       "stream": "stdout",
       "text": [
        "\n",
        "convert -resize 25x25! competition_data/train/echinoderm_larva_pluteus_urchin/37939.jpg competition_data/train_25x25/echinoderm_larva_pluteus_urchin/37939.jpg"
       ]
      },
      {
       "output_type": "stream",
       "stream": "stdout",
       "text": [
        "\n",
        "convert -resize 25x25! competition_data/train/echinoderm_larva_pluteus_urchin/53694.jpg competition_data/train_25x25/echinoderm_larva_pluteus_urchin/53694.jpg"
       ]
      },
      {
       "output_type": "stream",
       "stream": "stdout",
       "text": [
        "\n",
        "convert -resize 25x25! competition_data/train/echinoderm_larva_pluteus_urchin/70788.jpg competition_data/train_25x25/echinoderm_larva_pluteus_urchin/70788.jpg"
       ]
      },
      {
       "output_type": "stream",
       "stream": "stdout",
       "text": [
        "\n",
        "convert -resize 25x25! competition_data/train/echinoderm_larva_pluteus_urchin/91408.jpg competition_data/train_25x25/echinoderm_larva_pluteus_urchin/91408.jpg"
       ]
      },
      {
       "output_type": "stream",
       "stream": "stdout",
       "text": [
        "\n",
        "convert -resize 25x25! competition_data/train/echinoderm_larva_pluteus_urchin/134654.jpg competition_data/train_25x25/echinoderm_larva_pluteus_urchin/134654.jpg"
       ]
      },
      {
       "output_type": "stream",
       "stream": "stdout",
       "text": [
        "\n",
        "convert -resize 25x25! competition_data/train/echinoderm_larva_pluteus_urchin/127217.jpg competition_data/train_25x25/echinoderm_larva_pluteus_urchin/127217.jpg"
       ]
      },
      {
       "output_type": "stream",
       "stream": "stdout",
       "text": [
        "\n",
        "convert -resize 25x25! competition_data/train/echinoderm_larva_pluteus_urchin/148875.jpg competition_data/train_25x25/echinoderm_larva_pluteus_urchin/148875.jpg"
       ]
      },
      {
       "output_type": "stream",
       "stream": "stdout",
       "text": [
        "\n",
        "convert -resize 25x25! competition_data/train/echinoderm_larva_pluteus_urchin/125636.jpg competition_data/train_25x25/echinoderm_larva_pluteus_urchin/125636.jpg\n",
        "convert -resize 25x25! competition_data/train/echinoderm_larva_pluteus_urchin/38122.jpg competition_data/train_25x25/echinoderm_larva_pluteus_urchin/38122.jpg"
       ]
      },
      {
       "output_type": "stream",
       "stream": "stdout",
       "text": [
        "\n",
        "convert -resize 25x25! competition_data/train/echinoderm_larva_pluteus_urchin/84961.jpg competition_data/train_25x25/echinoderm_larva_pluteus_urchin/84961.jpg\n",
        "convert -resize 25x25! competition_data/train/echinoderm_larva_pluteus_urchin/138047.jpg competition_data/train_25x25/echinoderm_larva_pluteus_urchin/138047.jpg"
       ]
      },
      {
       "output_type": "stream",
       "stream": "stdout",
       "text": [
        "\n",
        "convert -resize 25x25! competition_data/train/echinoderm_larva_pluteus_urchin/13505.jpg competition_data/train_25x25/echinoderm_larva_pluteus_urchin/13505.jpg"
       ]
      },
      {
       "output_type": "stream",
       "stream": "stdout",
       "text": [
        "\n",
        "convert -resize 25x25! competition_data/train/echinoderm_larva_pluteus_urchin/119667.jpg competition_data/train_25x25/echinoderm_larva_pluteus_urchin/119667.jpg"
       ]
      },
      {
       "output_type": "stream",
       "stream": "stdout",
       "text": [
        "\n",
        "convert -resize 25x25! competition_data/train/echinoderm_larva_pluteus_urchin/11014.jpg competition_data/train_25x25/echinoderm_larva_pluteus_urchin/11014.jpg"
       ]
      },
      {
       "output_type": "stream",
       "stream": "stdout",
       "text": [
        "\n",
        "convert -resize 25x25! competition_data/train/echinoderm_larva_pluteus_urchin/54558.jpg competition_data/train_25x25/echinoderm_larva_pluteus_urchin/54558.jpg\n",
        "convert -resize 25x25! competition_data/train/echinoderm_larva_pluteus_urchin/51544.jpg competition_data/train_25x25/echinoderm_larva_pluteus_urchin/51544.jpg"
       ]
      },
      {
       "output_type": "stream",
       "stream": "stdout",
       "text": [
        "\n",
        "convert -resize 25x25! competition_data/train/echinoderm_larva_pluteus_urchin/51079.jpg competition_data/train_25x25/echinoderm_larva_pluteus_urchin/51079.jpg"
       ]
      },
      {
       "output_type": "stream",
       "stream": "stdout",
       "text": [
        "\n",
        "convert -resize 25x25! competition_data/train/echinoderm_larva_pluteus_urchin/59779.jpg competition_data/train_25x25/echinoderm_larva_pluteus_urchin/59779.jpg"
       ]
      },
      {
       "output_type": "stream",
       "stream": "stdout",
       "text": [
        "\n",
        "convert -resize 25x25! competition_data/train/echinoderm_larva_pluteus_urchin/122612.jpg competition_data/train_25x25/echinoderm_larva_pluteus_urchin/122612.jpg"
       ]
      },
      {
       "output_type": "stream",
       "stream": "stdout",
       "text": [
        "\n",
        "convert -resize 25x25! competition_data/train/echinoderm_larva_pluteus_urchin/127450.jpg competition_data/train_25x25/echinoderm_larva_pluteus_urchin/127450.jpg"
       ]
      },
      {
       "output_type": "stream",
       "stream": "stdout",
       "text": [
        "\n",
        "convert -resize 25x25! competition_data/train/echinoderm_larva_pluteus_urchin/66553.jpg competition_data/train_25x25/echinoderm_larva_pluteus_urchin/66553.jpg"
       ]
      },
      {
       "output_type": "stream",
       "stream": "stdout",
       "text": [
        "\n",
        "convert -resize 25x25! competition_data/train/echinoderm_larva_pluteus_urchin/153153.jpg competition_data/train_25x25/echinoderm_larva_pluteus_urchin/153153.jpg"
       ]
      },
      {
       "output_type": "stream",
       "stream": "stdout",
       "text": [
        "\n",
        "convert -resize 25x25! competition_data/train/echinoderm_larva_pluteus_urchin/130429.jpg competition_data/train_25x25/echinoderm_larva_pluteus_urchin/130429.jpg"
       ]
      },
      {
       "output_type": "stream",
       "stream": "stdout",
       "text": [
        "\n",
        "convert -resize 25x25! competition_data/train/echinoderm_larva_pluteus_urchin/53217.jpg competition_data/train_25x25/echinoderm_larva_pluteus_urchin/53217.jpg"
       ]
      },
      {
       "output_type": "stream",
       "stream": "stdout",
       "text": [
        "\n",
        "convert -resize 25x25! competition_data/train/echinoderm_larva_pluteus_urchin/7107.jpg competition_data/train_25x25/echinoderm_larva_pluteus_urchin/7107.jpg"
       ]
      },
      {
       "output_type": "stream",
       "stream": "stdout",
       "text": [
        "\n",
        "convert -resize 25x25! competition_data/train/echinoderm_larva_pluteus_urchin/13114.jpg competition_data/train_25x25/echinoderm_larva_pluteus_urchin/13114.jpg"
       ]
      },
      {
       "output_type": "stream",
       "stream": "stdout",
       "text": [
        "\n",
        "convert -resize 25x25! competition_data/train/echinoderm_larva_pluteus_urchin/146769.jpg competition_data/train_25x25/echinoderm_larva_pluteus_urchin/146769.jpg"
       ]
      },
      {
       "output_type": "stream",
       "stream": "stdout",
       "text": [
        "\n",
        "convert -resize 25x25! competition_data/train/echinoderm_larva_pluteus_urchin/132509.jpg competition_data/train_25x25/echinoderm_larva_pluteus_urchin/132509.jpg"
       ]
      },
      {
       "output_type": "stream",
       "stream": "stdout",
       "text": [
        "\n",
        "convert -resize 25x25! competition_data/train/echinoderm_larva_pluteus_urchin/136263.jpg competition_data/train_25x25/echinoderm_larva_pluteus_urchin/136263.jpg"
       ]
      },
      {
       "output_type": "stream",
       "stream": "stdout",
       "text": [
        "\n",
        "convert -resize 25x25! competition_data/train/echinoderm_larva_pluteus_urchin/4235.jpg competition_data/train_25x25/echinoderm_larva_pluteus_urchin/4235.jpg"
       ]
      },
      {
       "output_type": "stream",
       "stream": "stdout",
       "text": [
        "\n",
        "convert -resize 25x25! competition_data/train/echinoderm_larva_pluteus_urchin/151146.jpg competition_data/train_25x25/echinoderm_larva_pluteus_urchin/151146.jpg"
       ]
      },
      {
       "output_type": "stream",
       "stream": "stdout",
       "text": [
        "\n",
        "convert -resize 25x25! competition_data/train/echinoderm_larva_pluteus_urchin/16458.jpg competition_data/train_25x25/echinoderm_larva_pluteus_urchin/16458.jpg"
       ]
      },
      {
       "output_type": "stream",
       "stream": "stdout",
       "text": [
        "\n",
        "convert -resize 25x25! competition_data/train/echinoderm_larva_pluteus_urchin/16637.jpg competition_data/train_25x25/echinoderm_larva_pluteus_urchin/16637.jpg"
       ]
      },
      {
       "output_type": "stream",
       "stream": "stdout",
       "text": [
        "\n",
        "convert -resize 25x25! competition_data/train/echinoderm_larva_pluteus_urchin/101226.jpg competition_data/train_25x25/echinoderm_larva_pluteus_urchin/101226.jpg"
       ]
      },
      {
       "output_type": "stream",
       "stream": "stdout",
       "text": [
        "\n",
        "convert -resize 25x25! competition_data/train/echinoderm_larva_pluteus_urchin/88070.jpg competition_data/train_25x25/echinoderm_larva_pluteus_urchin/88070.jpg"
       ]
      },
      {
       "output_type": "stream",
       "stream": "stdout",
       "text": [
        "\n",
        "convert -resize 25x25! competition_data/train/echinoderm_larva_pluteus_urchin/5464.jpg competition_data/train_25x25/echinoderm_larva_pluteus_urchin/5464.jpg"
       ]
      },
      {
       "output_type": "stream",
       "stream": "stdout",
       "text": [
        "\n",
        "convert -resize 25x25! competition_data/train/echinoderm_larva_pluteus_urchin/141419.jpg competition_data/train_25x25/echinoderm_larva_pluteus_urchin/141419.jpg"
       ]
      },
      {
       "output_type": "stream",
       "stream": "stdout",
       "text": [
        "\n",
        "convert -resize 25x25! competition_data/train/echinoderm_larva_pluteus_urchin/62161.jpg competition_data/train_25x25/echinoderm_larva_pluteus_urchin/62161.jpg"
       ]
      },
      {
       "output_type": "stream",
       "stream": "stdout",
       "text": [
        "\n",
        "convert -resize 25x25! competition_data/train/echinoderm_larva_pluteus_urchin/20628.jpg competition_data/train_25x25/echinoderm_larva_pluteus_urchin/20628.jpg"
       ]
      },
      {
       "output_type": "stream",
       "stream": "stdout",
       "text": [
        "\n",
        "convert -resize 25x25! competition_data/train/acantharia_protist_big_center/111204.jpg competition_data/train_25x25/acantharia_protist_big_center/111204.jpg"
       ]
      },
      {
       "output_type": "stream",
       "stream": "stdout",
       "text": [
        "\n",
        "convert -resize 25x25! competition_data/train/acantharia_protist_big_center/128686.jpg competition_data/train_25x25/acantharia_protist_big_center/128686.jpg"
       ]
      },
      {
       "output_type": "stream",
       "stream": "stdout",
       "text": [
        "\n",
        "convert -resize 25x25! competition_data/train/acantharia_protist_big_center/13857.jpg competition_data/train_25x25/acantharia_protist_big_center/13857.jpg"
       ]
      },
      {
       "output_type": "stream",
       "stream": "stdout",
       "text": [
        "\n",
        "convert -resize 25x25! competition_data/train/acantharia_protist_big_center/159427.jpg competition_data/train_25x25/acantharia_protist_big_center/159427.jpg"
       ]
      },
      {
       "output_type": "stream",
       "stream": "stdout",
       "text": [
        "\n",
        "convert -resize 25x25! competition_data/train/acantharia_protist_big_center/29759.jpg competition_data/train_25x25/acantharia_protist_big_center/29759.jpg"
       ]
      },
      {
       "output_type": "stream",
       "stream": "stdout",
       "text": [
        "\n",
        "convert -resize 25x25! competition_data/train/acantharia_protist_big_center/16803.jpg competition_data/train_25x25/acantharia_protist_big_center/16803.jpg"
       ]
      },
      {
       "output_type": "stream",
       "stream": "stdout",
       "text": [
        "\n",
        "convert -resize 25x25! competition_data/train/acantharia_protist_big_center/55072.jpg competition_data/train_25x25/acantharia_protist_big_center/55072.jpg"
       ]
      },
      {
       "output_type": "stream",
       "stream": "stdout",
       "text": [
        "\n",
        "convert -resize 25x25! competition_data/train/acantharia_protist_big_center/141853.jpg competition_data/train_25x25/acantharia_protist_big_center/141853.jpg"
       ]
      },
      {
       "output_type": "stream",
       "stream": "stdout",
       "text": [
        "\n",
        "convert -resize 25x25! competition_data/train/acantharia_protist_big_center/34340.jpg competition_data/train_25x25/acantharia_protist_big_center/34340.jpg\n",
        "convert -resize 25x25! competition_data/train/acantharia_protist_big_center/120576.jpg competition_data/train_25x25/acantharia_protist_big_center/120576.jpg"
       ]
      },
      {
       "output_type": "stream",
       "stream": "stdout",
       "text": [
        "\n",
        "convert -resize 25x25! competition_data/train/acantharia_protist_big_center/36700.jpg competition_data/train_25x25/acantharia_protist_big_center/36700.jpg"
       ]
      },
      {
       "output_type": "stream",
       "stream": "stdout",
       "text": [
        "\n",
        "convert -resize 25x25! competition_data/train/acantharia_protist_big_center/105690.jpg competition_data/train_25x25/acantharia_protist_big_center/105690.jpg"
       ]
      },
      {
       "output_type": "stream",
       "stream": "stdout",
       "text": [
        "\n",
        "convert -resize 25x25! competition_data/train/acantharia_protist_big_center/48916.jpg competition_data/train_25x25/acantharia_protist_big_center/48916.jpg\n",
        "convert -resize 25x25! competition_data/train/trichodesmium_puff/32659.jpg competition_data/train_25x25/trichodesmium_puff/32659.jpg"
       ]
      },
      {
       "output_type": "stream",
       "stream": "stdout",
       "text": [
        "\n",
        "convert -resize 25x25! competition_data/train/trichodesmium_puff/87721.jpg competition_data/train_25x25/trichodesmium_puff/87721.jpg"
       ]
      },
      {
       "output_type": "stream",
       "stream": "stdout",
       "text": [
        "\n",
        "convert -resize 25x25! competition_data/train/trichodesmium_puff/56935.jpg competition_data/train_25x25/trichodesmium_puff/56935.jpg"
       ]
      },
      {
       "output_type": "stream",
       "stream": "stdout",
       "text": [
        "\n",
        "convert -resize 25x25! competition_data/train/trichodesmium_puff/93127.jpg competition_data/train_25x25/trichodesmium_puff/93127.jpg"
       ]
      },
      {
       "output_type": "stream",
       "stream": "stdout",
       "text": [
        "\n",
        "convert -resize 25x25! competition_data/train/trichodesmium_puff/11157.jpg competition_data/train_25x25/trichodesmium_puff/11157.jpg\n",
        "convert -resize 25x25! competition_data/train/trichodesmium_puff/25054.jpg competition_data/train_25x25/trichodesmium_puff/25054.jpg"
       ]
      },
      {
       "output_type": "stream",
       "stream": "stdout",
       "text": [
        "\n",
        "convert -resize 25x25! competition_data/train/trichodesmium_puff/41915.jpg competition_data/train_25x25/trichodesmium_puff/41915.jpg"
       ]
      },
      {
       "output_type": "stream",
       "stream": "stdout",
       "text": [
        "\n",
        "convert -resize 25x25! competition_data/train/trichodesmium_puff/39433.jpg competition_data/train_25x25/trichodesmium_puff/39433.jpg"
       ]
      },
      {
       "output_type": "stream",
       "stream": "stdout",
       "text": [
        "\n",
        "convert -resize 25x25! competition_data/train/trichodesmium_puff/105093.jpg competition_data/train_25x25/trichodesmium_puff/105093.jpg"
       ]
      },
      {
       "output_type": "stream",
       "stream": "stdout",
       "text": [
        "\n",
        "convert -resize 25x25! competition_data/train/trichodesmium_puff/66151.jpg competition_data/train_25x25/trichodesmium_puff/66151.jpg"
       ]
      },
      {
       "output_type": "stream",
       "stream": "stdout",
       "text": [
        "\n",
        "convert -resize 25x25! competition_data/train/trichodesmium_puff/8956.jpg competition_data/train_25x25/trichodesmium_puff/8956.jpg"
       ]
      },
      {
       "output_type": "stream",
       "stream": "stdout",
       "text": [
        "\n",
        "convert -resize 25x25! competition_data/train/trichodesmium_puff/129160.jpg competition_data/train_25x25/trichodesmium_puff/129160.jpg"
       ]
      },
      {
       "output_type": "stream",
       "stream": "stdout",
       "text": [
        "\n",
        "convert -resize 25x25! competition_data/train/trichodesmium_puff/51917.jpg competition_data/train_25x25/trichodesmium_puff/51917.jpg"
       ]
      },
      {
       "output_type": "stream",
       "stream": "stdout",
       "text": [
        "\n",
        "convert -resize 25x25! competition_data/train/trichodesmium_puff/101450.jpg competition_data/train_25x25/trichodesmium_puff/101450.jpg"
       ]
      },
      {
       "output_type": "stream",
       "stream": "stdout",
       "text": [
        "\n",
        "convert -resize 25x25! competition_data/train/trichodesmium_puff/135844.jpg competition_data/train_25x25/trichodesmium_puff/135844.jpg"
       ]
      },
      {
       "output_type": "stream",
       "stream": "stdout",
       "text": [
        "\n",
        "convert -resize 25x25! competition_data/train/trichodesmium_puff/4473.jpg competition_data/train_25x25/trichodesmium_puff/4473.jpg"
       ]
      },
      {
       "output_type": "stream",
       "stream": "stdout",
       "text": [
        "\n",
        "convert -resize 25x25! competition_data/train/trichodesmium_puff/54809.jpg competition_data/train_25x25/trichodesmium_puff/54809.jpg"
       ]
      },
      {
       "output_type": "stream",
       "stream": "stdout",
       "text": [
        "\n",
        "convert -resize 25x25! competition_data/train/trichodesmium_puff/43190.jpg competition_data/train_25x25/trichodesmium_puff/43190.jpg"
       ]
      },
      {
       "output_type": "stream",
       "stream": "stdout",
       "text": [
        "\n",
        "convert -resize 25x25! competition_data/train/trichodesmium_puff/36350.jpg competition_data/train_25x25/trichodesmium_puff/36350.jpg"
       ]
      },
      {
       "output_type": "stream",
       "stream": "stdout",
       "text": [
        "\n",
        "convert -resize 25x25! competition_data/train/trichodesmium_puff/11826.jpg competition_data/train_25x25/trichodesmium_puff/11826.jpg"
       ]
      },
      {
       "output_type": "stream",
       "stream": "stdout",
       "text": [
        "\n",
        "convert -resize 25x25! competition_data/train/trichodesmium_puff/139158.jpg competition_data/train_25x25/trichodesmium_puff/139158.jpg"
       ]
      },
      {
       "output_type": "stream",
       "stream": "stdout",
       "text": [
        "\n",
        "convert -resize 25x25! competition_data/train/trichodesmium_puff/18547.jpg competition_data/train_25x25/trichodesmium_puff/18547.jpg"
       ]
      },
      {
       "output_type": "stream",
       "stream": "stdout",
       "text": [
        "\n",
        "convert -resize 25x25! competition_data/train/trichodesmium_puff/32841.jpg competition_data/train_25x25/trichodesmium_puff/32841.jpg"
       ]
      },
      {
       "output_type": "stream",
       "stream": "stdout",
       "text": [
        "\n",
        "convert -resize 25x25! competition_data/train/trichodesmium_puff/106751.jpg competition_data/train_25x25/trichodesmium_puff/106751.jpg"
       ]
      },
      {
       "output_type": "stream",
       "stream": "stdout",
       "text": [
        "\n",
        "convert -resize 25x25! competition_data/train/trichodesmium_puff/60193.jpg competition_data/train_25x25/trichodesmium_puff/60193.jpg"
       ]
      },
      {
       "output_type": "stream",
       "stream": "stdout",
       "text": [
        "\n",
        "convert -resize 25x25! competition_data/train/trichodesmium_puff/44350.jpg competition_data/train_25x25/trichodesmium_puff/44350.jpg"
       ]
      },
      {
       "output_type": "stream",
       "stream": "stdout",
       "text": [
        "\n",
        "convert -resize 25x25! competition_data/train/trichodesmium_puff/31007.jpg competition_data/train_25x25/trichodesmium_puff/31007.jpg"
       ]
      },
      {
       "output_type": "stream",
       "stream": "stdout",
       "text": [
        "\n",
        "convert -resize 25x25! competition_data/train/trichodesmium_puff/31356.jpg competition_data/train_25x25/trichodesmium_puff/31356.jpg"
       ]
      },
      {
       "output_type": "stream",
       "stream": "stdout",
       "text": [
        "\n",
        "convert -resize 25x25! competition_data/train/trichodesmium_puff/92646.jpg competition_data/train_25x25/trichodesmium_puff/92646.jpg"
       ]
      },
      {
       "output_type": "stream",
       "stream": "stdout",
       "text": [
        "\n",
        "convert -resize 25x25! competition_data/train/trichodesmium_puff/37568.jpg competition_data/train_25x25/trichodesmium_puff/37568.jpg"
       ]
      },
      {
       "output_type": "stream",
       "stream": "stdout",
       "text": [
        "\n",
        "convert -resize 25x25! competition_data/train/trichodesmium_puff/29189.jpg competition_data/train_25x25/trichodesmium_puff/29189.jpg"
       ]
      },
      {
       "output_type": "stream",
       "stream": "stdout",
       "text": [
        "\n",
        "convert -resize 25x25! competition_data/train/trichodesmium_puff/28521.jpg competition_data/train_25x25/trichodesmium_puff/28521.jpg"
       ]
      },
      {
       "output_type": "stream",
       "stream": "stdout",
       "text": [
        "\n",
        "convert -resize 25x25! competition_data/train/trichodesmium_puff/42158.jpg competition_data/train_25x25/trichodesmium_puff/42158.jpg"
       ]
      },
      {
       "output_type": "stream",
       "stream": "stdout",
       "text": [
        "\n",
        "convert -resize 25x25! competition_data/train/trichodesmium_puff/93762.jpg competition_data/train_25x25/trichodesmium_puff/93762.jpg"
       ]
      },
      {
       "output_type": "stream",
       "stream": "stdout",
       "text": [
        "\n",
        "convert -resize 25x25! competition_data/train/trichodesmium_puff/120174.jpg competition_data/train_25x25/trichodesmium_puff/120174.jpg"
       ]
      },
      {
       "output_type": "stream",
       "stream": "stdout",
       "text": [
        "\n",
        "convert -resize 25x25! competition_data/train/trichodesmium_puff/44899.jpg competition_data/train_25x25/trichodesmium_puff/44899.jpg"
       ]
      },
      {
       "output_type": "stream",
       "stream": "stdout",
       "text": [
        "\n",
        "convert -resize 25x25! competition_data/train/trichodesmium_puff/126526.jpg competition_data/train_25x25/trichodesmium_puff/126526.jpg"
       ]
      },
      {
       "output_type": "stream",
       "stream": "stdout",
       "text": [
        "\n",
        "convert -resize 25x25! competition_data/train/trichodesmium_puff/52665.jpg competition_data/train_25x25/trichodesmium_puff/52665.jpg"
       ]
      },
      {
       "output_type": "stream",
       "stream": "stdout",
       "text": [
        "\n",
        "convert -resize 25x25! competition_data/train/trichodesmium_puff/78309.jpg competition_data/train_25x25/trichodesmium_puff/78309.jpg"
       ]
      },
      {
       "output_type": "stream",
       "stream": "stdout",
       "text": [
        "\n",
        "convert -resize 25x25! competition_data/train/trichodesmium_puff/88498.jpg competition_data/train_25x25/trichodesmium_puff/88498.jpg"
       ]
      },
      {
       "output_type": "stream",
       "stream": "stdout",
       "text": [
        "\n",
        "convert -resize 25x25! competition_data/train/trichodesmium_puff/32730.jpg competition_data/train_25x25/trichodesmium_puff/32730.jpg"
       ]
      },
      {
       "output_type": "stream",
       "stream": "stdout",
       "text": [
        "\n",
        "convert -resize 25x25! competition_data/train/trichodesmium_puff/83964.jpg competition_data/train_25x25/trichodesmium_puff/83964.jpg"
       ]
      },
      {
       "output_type": "stream",
       "stream": "stdout",
       "text": [
        "\n",
        "convert -resize 25x25! competition_data/train/trichodesmium_puff/91204.jpg competition_data/train_25x25/trichodesmium_puff/91204.jpg"
       ]
      },
      {
       "output_type": "stream",
       "stream": "stdout",
       "text": [
        "\n",
        "convert -resize 25x25! competition_data/train/trichodesmium_puff/85667.jpg competition_data/train_25x25/trichodesmium_puff/85667.jpg\n",
        "convert -resize 25x25! competition_data/train/trichodesmium_puff/140736.jpg competition_data/train_25x25/trichodesmium_puff/140736.jpg"
       ]
      },
      {
       "output_type": "stream",
       "stream": "stdout",
       "text": [
        "\n",
        "convert -resize 25x25! competition_data/train/trichodesmium_puff/119359.jpg competition_data/train_25x25/trichodesmium_puff/119359.jpg"
       ]
      },
      {
       "output_type": "stream",
       "stream": "stdout",
       "text": [
        "\n",
        "convert -resize 25x25! competition_data/train/trichodesmium_puff/25556.jpg competition_data/train_25x25/trichodesmium_puff/25556.jpg"
       ]
      },
      {
       "output_type": "stream",
       "stream": "stdout",
       "text": [
        "\n",
        "convert -resize 25x25! competition_data/train/trichodesmium_puff/126332.jpg competition_data/train_25x25/trichodesmium_puff/126332.jpg"
       ]
      },
      {
       "output_type": "stream",
       "stream": "stdout",
       "text": [
        "\n",
        "convert -resize 25x25! competition_data/train/trichodesmium_puff/57182.jpg competition_data/train_25x25/trichodesmium_puff/57182.jpg"
       ]
      },
      {
       "output_type": "stream",
       "stream": "stdout",
       "text": [
        "\n",
        "convert -resize 25x25! competition_data/train/trichodesmium_puff/108572.jpg competition_data/train_25x25/trichodesmium_puff/108572.jpg"
       ]
      },
      {
       "output_type": "stream",
       "stream": "stdout",
       "text": [
        "\n",
        "convert -resize 25x25! competition_data/train/trichodesmium_puff/3346.jpg competition_data/train_25x25/trichodesmium_puff/3346.jpg"
       ]
      },
      {
       "output_type": "stream",
       "stream": "stdout",
       "text": [
        "\n",
        "convert -resize 25x25! competition_data/train/trichodesmium_puff/84216.jpg competition_data/train_25x25/trichodesmium_puff/84216.jpg"
       ]
      },
      {
       "output_type": "stream",
       "stream": "stdout",
       "text": [
        "\n",
        "convert -resize 25x25! competition_data/train/trichodesmium_puff/62357.jpg competition_data/train_25x25/trichodesmium_puff/62357.jpg"
       ]
      },
      {
       "output_type": "stream",
       "stream": "stdout",
       "text": [
        "\n",
        "convert -resize 25x25! competition_data/train/trichodesmium_puff/30087.jpg competition_data/train_25x25/trichodesmium_puff/30087.jpg"
       ]
      },
      {
       "output_type": "stream",
       "stream": "stdout",
       "text": [
        "\n",
        "convert -resize 25x25! competition_data/train/trichodesmium_puff/71220.jpg competition_data/train_25x25/trichodesmium_puff/71220.jpg"
       ]
      },
      {
       "output_type": "stream",
       "stream": "stdout",
       "text": [
        "\n",
        "convert -resize 25x25! competition_data/train/trichodesmium_puff/116631.jpg competition_data/train_25x25/trichodesmium_puff/116631.jpg"
       ]
      },
      {
       "output_type": "stream",
       "stream": "stdout",
       "text": [
        "\n",
        "convert -resize 25x25! competition_data/train/trichodesmium_puff/42266.jpg competition_data/train_25x25/trichodesmium_puff/42266.jpg"
       ]
      },
      {
       "output_type": "stream",
       "stream": "stdout",
       "text": [
        "\n",
        "convert -resize 25x25! competition_data/train/trichodesmium_puff/51300.jpg competition_data/train_25x25/trichodesmium_puff/51300.jpg"
       ]
      },
      {
       "output_type": "stream",
       "stream": "stdout",
       "text": [
        "\n",
        "convert -resize 25x25! competition_data/train/trichodesmium_puff/144348.jpg competition_data/train_25x25/trichodesmium_puff/144348.jpg"
       ]
      },
      {
       "output_type": "stream",
       "stream": "stdout",
       "text": [
        "\n",
        "convert -resize 25x25! competition_data/train/trichodesmium_puff/68067.jpg competition_data/train_25x25/trichodesmium_puff/68067.jpg"
       ]
      },
      {
       "output_type": "stream",
       "stream": "stdout",
       "text": [
        "\n",
        "convert -resize 25x25! competition_data/train/trichodesmium_puff/9311.jpg competition_data/train_25x25/trichodesmium_puff/9311.jpg"
       ]
      },
      {
       "output_type": "stream",
       "stream": "stdout",
       "text": [
        "\n",
        "convert -resize 25x25! competition_data/train/trichodesmium_puff/64541.jpg competition_data/train_25x25/trichodesmium_puff/64541.jpg"
       ]
      },
      {
       "output_type": "stream",
       "stream": "stdout",
       "text": [
        "\n",
        "convert -resize 25x25! competition_data/train/trichodesmium_puff/18790.jpg competition_data/train_25x25/trichodesmium_puff/18790.jpg"
       ]
      },
      {
       "output_type": "stream",
       "stream": "stdout",
       "text": [
        "\n",
        "convert -resize 25x25! competition_data/train/trichodesmium_puff/49677.jpg competition_data/train_25x25/trichodesmium_puff/49677.jpg"
       ]
      },
      {
       "output_type": "stream",
       "stream": "stdout",
       "text": [
        "\n",
        "convert -resize 25x25! competition_data/train/trichodesmium_puff/142104.jpg competition_data/train_25x25/trichodesmium_puff/142104.jpg"
       ]
      },
      {
       "output_type": "stream",
       "stream": "stdout",
       "text": [
        "\n",
        "convert -resize 25x25! competition_data/train/trichodesmium_puff/106166.jpg competition_data/train_25x25/trichodesmium_puff/106166.jpg"
       ]
      },
      {
       "output_type": "stream",
       "stream": "stdout",
       "text": [
        "\n",
        "convert -resize 25x25! competition_data/train/trichodesmium_puff/36677.jpg competition_data/train_25x25/trichodesmium_puff/36677.jpg"
       ]
      },
      {
       "output_type": "stream",
       "stream": "stdout",
       "text": [
        "\n",
        "convert -resize 25x25! competition_data/train/trichodesmium_puff/122464.jpg competition_data/train_25x25/trichodesmium_puff/122464.jpg"
       ]
      },
      {
       "output_type": "stream",
       "stream": "stdout",
       "text": [
        "\n",
        "convert -resize 25x25! competition_data/train/trichodesmium_puff/130400.jpg competition_data/train_25x25/trichodesmium_puff/130400.jpg\n",
        "convert -resize 25x25! competition_data/train/trichodesmium_puff/104411.jpg competition_data/train_25x25/trichodesmium_puff/104411.jpg"
       ]
      },
      {
       "output_type": "stream",
       "stream": "stdout",
       "text": [
        "\n",
        "convert -resize 25x25! competition_data/train/trichodesmium_puff/56452.jpg competition_data/train_25x25/trichodesmium_puff/56452.jpg"
       ]
      },
      {
       "output_type": "stream",
       "stream": "stdout",
       "text": [
        "\n",
        "convert -resize 25x25! competition_data/train/trichodesmium_puff/97236.jpg competition_data/train_25x25/trichodesmium_puff/97236.jpg"
       ]
      },
      {
       "output_type": "stream",
       "stream": "stdout",
       "text": [
        "\n",
        "convert -resize 25x25! competition_data/train/trichodesmium_puff/27590.jpg competition_data/train_25x25/trichodesmium_puff/27590.jpg"
       ]
      },
      {
       "output_type": "stream",
       "stream": "stdout",
       "text": [
        "\n",
        "convert -resize 25x25! competition_data/train/trichodesmium_puff/95340.jpg competition_data/train_25x25/trichodesmium_puff/95340.jpg"
       ]
      },
      {
       "output_type": "stream",
       "stream": "stdout",
       "text": [
        "\n",
        "convert -resize 25x25! competition_data/train/trichodesmium_puff/21943.jpg competition_data/train_25x25/trichodesmium_puff/21943.jpg"
       ]
      },
      {
       "output_type": "stream",
       "stream": "stdout",
       "text": [
        "\n",
        "convert -resize 25x25! competition_data/train/trichodesmium_puff/56291.jpg competition_data/train_25x25/trichodesmium_puff/56291.jpg"
       ]
      },
      {
       "output_type": "stream",
       "stream": "stdout",
       "text": [
        "\n",
        "convert -resize 25x25! competition_data/train/trichodesmium_puff/50873.jpg competition_data/train_25x25/trichodesmium_puff/50873.jpg"
       ]
      },
      {
       "output_type": "stream",
       "stream": "stdout",
       "text": [
        "\n",
        "convert -resize 25x25! competition_data/train/trichodesmium_puff/79339.jpg competition_data/train_25x25/trichodesmium_puff/79339.jpg"
       ]
      },
      {
       "output_type": "stream",
       "stream": "stdout",
       "text": [
        "\n",
        "convert -resize 25x25! competition_data/train/trichodesmium_puff/149854.jpg competition_data/train_25x25/trichodesmium_puff/149854.jpg"
       ]
      },
      {
       "output_type": "stream",
       "stream": "stdout",
       "text": [
        "\n",
        "convert -resize 25x25! competition_data/train/trichodesmium_puff/135461.jpg competition_data/train_25x25/trichodesmium_puff/135461.jpg"
       ]
      },
      {
       "output_type": "stream",
       "stream": "stdout",
       "text": [
        "\n",
        "convert -resize 25x25! competition_data/train/trichodesmium_puff/82991.jpg competition_data/train_25x25/trichodesmium_puff/82991.jpg"
       ]
      },
      {
       "output_type": "stream",
       "stream": "stdout",
       "text": [
        "\n",
        "convert -resize 25x25! competition_data/train/trichodesmium_puff/73170.jpg competition_data/train_25x25/trichodesmium_puff/73170.jpg\n",
        "convert -resize 25x25! competition_data/train/trichodesmium_puff/24412.jpg competition_data/train_25x25/trichodesmium_puff/24412.jpg"
       ]
      },
      {
       "output_type": "stream",
       "stream": "stdout",
       "text": [
        "\n",
        "convert -resize 25x25! competition_data/train/trichodesmium_puff/3552.jpg competition_data/train_25x25/trichodesmium_puff/3552.jpg"
       ]
      },
      {
       "output_type": "stream",
       "stream": "stdout",
       "text": [
        "\n",
        "convert -resize 25x25! competition_data/train/trichodesmium_puff/35479.jpg competition_data/train_25x25/trichodesmium_puff/35479.jpg"
       ]
      },
      {
       "output_type": "stream",
       "stream": "stdout",
       "text": [
        "\n",
        "convert -resize 25x25! competition_data/train/trichodesmium_puff/49534.jpg competition_data/train_25x25/trichodesmium_puff/49534.jpg"
       ]
      },
      {
       "output_type": "stream",
       "stream": "stdout",
       "text": [
        "\n",
        "convert -resize 25x25! competition_data/train/trichodesmium_puff/152622.jpg competition_data/train_25x25/trichodesmium_puff/152622.jpg"
       ]
      },
      {
       "output_type": "stream",
       "stream": "stdout",
       "text": [
        "\n",
        "convert -resize 25x25! competition_data/train/trichodesmium_puff/59189.jpg competition_data/train_25x25/trichodesmium_puff/59189.jpg"
       ]
      },
      {
       "output_type": "stream",
       "stream": "stdout",
       "text": [
        "\n",
        "convert -resize 25x25! competition_data/train/trichodesmium_puff/138840.jpg competition_data/train_25x25/trichodesmium_puff/138840.jpg"
       ]
      },
      {
       "output_type": "stream",
       "stream": "stdout",
       "text": [
        "\n",
        "convert -resize 25x25! competition_data/train/trichodesmium_puff/32786.jpg competition_data/train_25x25/trichodesmium_puff/32786.jpg"
       ]
      },
      {
       "output_type": "stream",
       "stream": "stdout",
       "text": [
        "\n",
        "convert -resize 25x25! competition_data/train/trichodesmium_puff/92298.jpg competition_data/train_25x25/trichodesmium_puff/92298.jpg"
       ]
      },
      {
       "output_type": "stream",
       "stream": "stdout",
       "text": [
        "\n",
        "convert -resize 25x25! competition_data/train/trichodesmium_puff/111638.jpg competition_data/train_25x25/trichodesmium_puff/111638.jpg"
       ]
      },
      {
       "output_type": "stream",
       "stream": "stdout",
       "text": [
        "\n",
        "convert -resize 25x25! competition_data/train/trichodesmium_puff/37851.jpg competition_data/train_25x25/trichodesmium_puff/37851.jpg"
       ]
      },
      {
       "output_type": "stream",
       "stream": "stdout",
       "text": [
        "\n",
        "convert -resize 25x25! competition_data/train/trichodesmium_puff/57275.jpg competition_data/train_25x25/trichodesmium_puff/57275.jpg"
       ]
      },
      {
       "output_type": "stream",
       "stream": "stdout",
       "text": [
        "\n",
        "convert -resize 25x25! competition_data/train/trichodesmium_puff/75890.jpg competition_data/train_25x25/trichodesmium_puff/75890.jpg"
       ]
      },
      {
       "output_type": "stream",
       "stream": "stdout",
       "text": [
        "\n",
        "convert -resize 25x25! competition_data/train/trichodesmium_puff/72749.jpg competition_data/train_25x25/trichodesmium_puff/72749.jpg"
       ]
      },
      {
       "output_type": "stream",
       "stream": "stdout",
       "text": [
        "\n",
        "convert -resize 25x25! competition_data/train/trichodesmium_puff/150532.jpg competition_data/train_25x25/trichodesmium_puff/150532.jpg"
       ]
      },
      {
       "output_type": "stream",
       "stream": "stdout",
       "text": [
        "\n",
        "convert -resize 25x25! competition_data/train/trichodesmium_puff/65697.jpg competition_data/train_25x25/trichodesmium_puff/65697.jpg"
       ]
      },
      {
       "output_type": "stream",
       "stream": "stdout",
       "text": [
        "\n",
        "convert -resize 25x25! competition_data/train/trichodesmium_puff/154933.jpg competition_data/train_25x25/trichodesmium_puff/154933.jpg"
       ]
      },
      {
       "output_type": "stream",
       "stream": "stdout",
       "text": [
        "\n",
        "convert -resize 25x25! competition_data/train/trichodesmium_puff/110037.jpg competition_data/train_25x25/trichodesmium_puff/110037.jpg"
       ]
      },
      {
       "output_type": "stream",
       "stream": "stdout",
       "text": [
        "\n",
        "convert -resize 25x25! competition_data/train/trichodesmium_puff/141245.jpg competition_data/train_25x25/trichodesmium_puff/141245.jpg"
       ]
      },
      {
       "output_type": "stream",
       "stream": "stdout",
       "text": [
        "\n",
        "convert -resize 25x25! competition_data/train/trichodesmium_puff/25965.jpg competition_data/train_25x25/trichodesmium_puff/25965.jpg"
       ]
      },
      {
       "output_type": "stream",
       "stream": "stdout",
       "text": [
        "\n",
        "convert -resize 25x25! competition_data/train/trichodesmium_puff/93050.jpg competition_data/train_25x25/trichodesmium_puff/93050.jpg"
       ]
      },
      {
       "output_type": "stream",
       "stream": "stdout",
       "text": [
        "\n",
        "convert -resize 25x25! competition_data/train/trichodesmium_puff/75322.jpg competition_data/train_25x25/trichodesmium_puff/75322.jpg"
       ]
      },
      {
       "output_type": "stream",
       "stream": "stdout",
       "text": [
        "\n",
        "convert -resize 25x25! competition_data/train/trichodesmium_puff/68795.jpg competition_data/train_25x25/trichodesmium_puff/68795.jpg"
       ]
      },
      {
       "output_type": "stream",
       "stream": "stdout",
       "text": [
        "\n",
        "convert -resize 25x25! competition_data/train/trichodesmium_puff/115333.jpg competition_data/train_25x25/trichodesmium_puff/115333.jpg"
       ]
      },
      {
       "output_type": "stream",
       "stream": "stdout",
       "text": [
        "\n",
        "convert -resize 25x25! competition_data/train/trichodesmium_puff/7267.jpg competition_data/train_25x25/trichodesmium_puff/7267.jpg"
       ]
      },
      {
       "output_type": "stream",
       "stream": "stdout",
       "text": [
        "\n",
        "convert -resize 25x25! competition_data/train/trichodesmium_puff/74737.jpg competition_data/train_25x25/trichodesmium_puff/74737.jpg"
       ]
      },
      {
       "output_type": "stream",
       "stream": "stdout",
       "text": [
        "\n",
        "convert -resize 25x25! competition_data/train/trichodesmium_puff/89848.jpg competition_data/train_25x25/trichodesmium_puff/89848.jpg"
       ]
      },
      {
       "output_type": "stream",
       "stream": "stdout",
       "text": [
        "\n",
        "convert -resize 25x25! competition_data/train/trichodesmium_puff/156137.jpg competition_data/train_25x25/trichodesmium_puff/156137.jpg"
       ]
      },
      {
       "output_type": "stream",
       "stream": "stdout",
       "text": [
        "\n",
        "convert -resize 25x25! competition_data/train/trichodesmium_puff/146526.jpg competition_data/train_25x25/trichodesmium_puff/146526.jpg"
       ]
      },
      {
       "output_type": "stream",
       "stream": "stdout",
       "text": [
        "\n",
        "convert -resize 25x25! competition_data/train/trichodesmium_puff/40824.jpg competition_data/train_25x25/trichodesmium_puff/40824.jpg"
       ]
      },
      {
       "output_type": "stream",
       "stream": "stdout",
       "text": [
        "\n",
        "convert -resize 25x25! competition_data/train/trichodesmium_puff/26135.jpg competition_data/train_25x25/trichodesmium_puff/26135.jpg"
       ]
      },
      {
       "output_type": "stream",
       "stream": "stdout",
       "text": [
        "\n",
        "convert -resize 25x25! competition_data/train/trichodesmium_puff/156562.jpg competition_data/train_25x25/trichodesmium_puff/156562.jpg"
       ]
      },
      {
       "output_type": "stream",
       "stream": "stdout",
       "text": [
        "\n",
        "convert -resize 25x25! competition_data/train/trichodesmium_puff/124301.jpg competition_data/train_25x25/trichodesmium_puff/124301.jpg"
       ]
      },
      {
       "output_type": "stream",
       "stream": "stdout",
       "text": [
        "\n",
        "convert -resize 25x25! competition_data/train/trichodesmium_puff/80188.jpg competition_data/train_25x25/trichodesmium_puff/80188.jpg\n",
        "convert -resize 25x25! competition_data/train/trichodesmium_puff/14863.jpg competition_data/train_25x25/trichodesmium_puff/14863.jpg"
       ]
      },
      {
       "output_type": "stream",
       "stream": "stdout",
       "text": [
        "\n",
        "convert -resize 25x25! competition_data/train/trichodesmium_puff/32693.jpg competition_data/train_25x25/trichodesmium_puff/32693.jpg"
       ]
      },
      {
       "output_type": "stream",
       "stream": "stdout",
       "text": [
        "\n",
        "convert -resize 25x25! competition_data/train/trichodesmium_puff/112847.jpg competition_data/train_25x25/trichodesmium_puff/112847.jpg"
       ]
      },
      {
       "output_type": "stream",
       "stream": "stdout",
       "text": [
        "\n",
        "convert -resize 25x25! competition_data/train/trichodesmium_puff/149176.jpg competition_data/train_25x25/trichodesmium_puff/149176.jpg"
       ]
      },
      {
       "output_type": "stream",
       "stream": "stdout",
       "text": [
        "\n",
        "convert -resize 25x25! competition_data/train/trichodesmium_puff/23690.jpg competition_data/train_25x25/trichodesmium_puff/23690.jpg"
       ]
      },
      {
       "output_type": "stream",
       "stream": "stdout",
       "text": [
        "\n",
        "convert -resize 25x25! competition_data/train/trichodesmium_puff/53994.jpg competition_data/train_25x25/trichodesmium_puff/53994.jpg"
       ]
      },
      {
       "output_type": "stream",
       "stream": "stdout",
       "text": [
        "\n",
        "convert -resize 25x25! competition_data/train/trichodesmium_puff/85602.jpg competition_data/train_25x25/trichodesmium_puff/85602.jpg"
       ]
      },
      {
       "output_type": "stream",
       "stream": "stdout",
       "text": [
        "\n",
        "convert -resize 25x25! competition_data/train/trichodesmium_puff/120369.jpg competition_data/train_25x25/trichodesmium_puff/120369.jpg"
       ]
      },
      {
       "output_type": "stream",
       "stream": "stdout",
       "text": [
        "\n",
        "convert -resize 25x25! competition_data/train/trichodesmium_puff/44613.jpg competition_data/train_25x25/trichodesmium_puff/44613.jpg"
       ]
      },
      {
       "output_type": "stream",
       "stream": "stdout",
       "text": [
        "\n",
        "convert -resize 25x25! competition_data/train/trichodesmium_puff/27393.jpg competition_data/train_25x25/trichodesmium_puff/27393.jpg"
       ]
      },
      {
       "output_type": "stream",
       "stream": "stdout",
       "text": [
        "\n",
        "convert -resize 25x25! competition_data/train/trichodesmium_puff/127701.jpg competition_data/train_25x25/trichodesmium_puff/127701.jpg"
       ]
      },
      {
       "output_type": "stream",
       "stream": "stdout",
       "text": [
        "\n",
        "convert -resize 25x25! competition_data/train/trichodesmium_puff/1505.jpg competition_data/train_25x25/trichodesmium_puff/1505.jpg"
       ]
      },
      {
       "output_type": "stream",
       "stream": "stdout",
       "text": [
        "\n",
        "convert -resize 25x25! competition_data/train/trichodesmium_puff/12165.jpg competition_data/train_25x25/trichodesmium_puff/12165.jpg"
       ]
      },
      {
       "output_type": "stream",
       "stream": "stdout",
       "text": [
        "\n",
        "convert -resize 25x25! competition_data/train/trichodesmium_puff/126682.jpg competition_data/train_25x25/trichodesmium_puff/126682.jpg"
       ]
      },
      {
       "output_type": "stream",
       "stream": "stdout",
       "text": [
        "\n",
        "convert -resize 25x25! competition_data/train/trichodesmium_puff/81551.jpg competition_data/train_25x25/trichodesmium_puff/81551.jpg"
       ]
      },
      {
       "output_type": "stream",
       "stream": "stdout",
       "text": [
        "\n",
        "convert -resize 25x25! competition_data/train/trichodesmium_puff/22029.jpg competition_data/train_25x25/trichodesmium_puff/22029.jpg"
       ]
      },
      {
       "output_type": "stream",
       "stream": "stdout",
       "text": [
        "\n",
        "convert -resize 25x25! competition_data/train/trichodesmium_puff/106430.jpg competition_data/train_25x25/trichodesmium_puff/106430.jpg"
       ]
      },
      {
       "output_type": "stream",
       "stream": "stdout",
       "text": [
        "\n",
        "convert -resize 25x25! competition_data/train/trichodesmium_puff/45741.jpg competition_data/train_25x25/trichodesmium_puff/45741.jpg"
       ]
      },
      {
       "output_type": "stream",
       "stream": "stdout",
       "text": [
        "\n",
        "convert -resize 25x25! competition_data/train/trichodesmium_puff/105586.jpg competition_data/train_25x25/trichodesmium_puff/105586.jpg"
       ]
      },
      {
       "output_type": "stream",
       "stream": "stdout",
       "text": [
        "\n",
        "convert -resize 25x25! competition_data/train/trichodesmium_puff/57849.jpg competition_data/train_25x25/trichodesmium_puff/57849.jpg"
       ]
      },
      {
       "output_type": "stream",
       "stream": "stdout",
       "text": [
        "\n",
        "convert -resize 25x25! competition_data/train/trichodesmium_puff/132395.jpg competition_data/train_25x25/trichodesmium_puff/132395.jpg"
       ]
      },
      {
       "output_type": "stream",
       "stream": "stdout",
       "text": [
        "\n",
        "convert -resize 25x25! competition_data/train/trichodesmium_puff/113123.jpg competition_data/train_25x25/trichodesmium_puff/113123.jpg"
       ]
      },
      {
       "output_type": "stream",
       "stream": "stdout",
       "text": [
        "\n",
        "convert -resize 25x25! competition_data/train/trichodesmium_puff/10174.jpg competition_data/train_25x25/trichodesmium_puff/10174.jpg"
       ]
      },
      {
       "output_type": "stream",
       "stream": "stdout",
       "text": [
        "\n",
        "convert -resize 25x25! competition_data/train/trichodesmium_puff/55142.jpg competition_data/train_25x25/trichodesmium_puff/55142.jpg"
       ]
      },
      {
       "output_type": "stream",
       "stream": "stdout",
       "text": [
        "\n",
        "convert -resize 25x25! competition_data/train/trichodesmium_puff/65149.jpg competition_data/train_25x25/trichodesmium_puff/65149.jpg"
       ]
      },
      {
       "output_type": "stream",
       "stream": "stdout",
       "text": [
        "\n",
        "convert -resize 25x25! competition_data/train/trichodesmium_puff/147589.jpg competition_data/train_25x25/trichodesmium_puff/147589.jpg"
       ]
      },
      {
       "output_type": "stream",
       "stream": "stdout",
       "text": [
        "\n",
        "convert -resize 25x25! competition_data/train/trichodesmium_puff/145098.jpg competition_data/train_25x25/trichodesmium_puff/145098.jpg"
       ]
      },
      {
       "output_type": "stream",
       "stream": "stdout",
       "text": [
        "\n",
        "convert -resize 25x25! competition_data/train/trichodesmium_puff/11620.jpg competition_data/train_25x25/trichodesmium_puff/11620.jpg"
       ]
      },
      {
       "output_type": "stream",
       "stream": "stdout",
       "text": [
        "\n",
        "convert -resize 25x25! competition_data/train/trichodesmium_puff/58093.jpg competition_data/train_25x25/trichodesmium_puff/58093.jpg"
       ]
      },
      {
       "output_type": "stream",
       "stream": "stdout",
       "text": [
        "\n",
        "convert -resize 25x25! competition_data/train/trichodesmium_puff/13131.jpg competition_data/train_25x25/trichodesmium_puff/13131.jpg"
       ]
      },
      {
       "output_type": "stream",
       "stream": "stdout",
       "text": [
        "\n",
        "convert -resize 25x25! competition_data/train/trichodesmium_puff/59512.jpg competition_data/train_25x25/trichodesmium_puff/59512.jpg"
       ]
      },
      {
       "output_type": "stream",
       "stream": "stdout",
       "text": [
        "\n",
        "convert -resize 25x25! competition_data/train/trichodesmium_puff/43961.jpg competition_data/train_25x25/trichodesmium_puff/43961.jpg"
       ]
      },
      {
       "output_type": "stream",
       "stream": "stdout",
       "text": [
        "\n",
        "convert -resize 25x25! competition_data/train/trichodesmium_puff/130350.jpg competition_data/train_25x25/trichodesmium_puff/130350.jpg\n",
        "convert -resize 25x25! competition_data/train/trichodesmium_puff/123162.jpg competition_data/train_25x25/trichodesmium_puff/123162.jpg"
       ]
      },
      {
       "output_type": "stream",
       "stream": "stdout",
       "text": [
        "\n",
        "convert -resize 25x25! competition_data/train/trichodesmium_puff/45347.jpg competition_data/train_25x25/trichodesmium_puff/45347.jpg"
       ]
      },
      {
       "output_type": "stream",
       "stream": "stdout",
       "text": [
        "\n",
        "convert -resize 25x25! competition_data/train/trichodesmium_puff/60274.jpg competition_data/train_25x25/trichodesmium_puff/60274.jpg\n",
        "convert -resize 25x25! competition_data/train/trichodesmium_puff/52288.jpg competition_data/train_25x25/trichodesmium_puff/52288.jpg"
       ]
      },
      {
       "output_type": "stream",
       "stream": "stdout",
       "text": [
        "\n",
        "convert -resize 25x25! competition_data/train/trichodesmium_puff/61006.jpg competition_data/train_25x25/trichodesmium_puff/61006.jpg"
       ]
      },
      {
       "output_type": "stream",
       "stream": "stdout",
       "text": [
        "\n",
        "convert -resize 25x25! competition_data/train/trichodesmium_puff/30239.jpg competition_data/train_25x25/trichodesmium_puff/30239.jpg"
       ]
      },
      {
       "output_type": "stream",
       "stream": "stdout",
       "text": [
        "\n",
        "convert -resize 25x25! competition_data/train/trichodesmium_puff/106283.jpg competition_data/train_25x25/trichodesmium_puff/106283.jpg"
       ]
      },
      {
       "output_type": "stream",
       "stream": "stdout",
       "text": [
        "\n",
        "convert -resize 25x25! competition_data/train/trichodesmium_puff/51489.jpg competition_data/train_25x25/trichodesmium_puff/51489.jpg"
       ]
      },
      {
       "output_type": "stream",
       "stream": "stdout",
       "text": [
        "\n",
        "convert -resize 25x25! competition_data/train/trichodesmium_puff/115717.jpg competition_data/train_25x25/trichodesmium_puff/115717.jpg"
       ]
      },
      {
       "output_type": "stream",
       "stream": "stdout",
       "text": [
        "\n",
        "convert -resize 25x25! competition_data/train/trichodesmium_puff/99519.jpg competition_data/train_25x25/trichodesmium_puff/99519.jpg"
       ]
      },
      {
       "output_type": "stream",
       "stream": "stdout",
       "text": [
        "\n",
        "convert -resize 25x25! competition_data/train/trichodesmium_puff/9527.jpg competition_data/train_25x25/trichodesmium_puff/9527.jpg"
       ]
      },
      {
       "output_type": "stream",
       "stream": "stdout",
       "text": [
        "\n",
        "convert -resize 25x25! competition_data/train/trichodesmium_puff/41650.jpg competition_data/train_25x25/trichodesmium_puff/41650.jpg"
       ]
      },
      {
       "output_type": "stream",
       "stream": "stdout",
       "text": [
        "\n",
        "convert -resize 25x25! competition_data/train/trichodesmium_puff/94507.jpg competition_data/train_25x25/trichodesmium_puff/94507.jpg"
       ]
      },
      {
       "output_type": "stream",
       "stream": "stdout",
       "text": [
        "\n",
        "convert -resize 25x25! competition_data/train/trichodesmium_puff/67728.jpg competition_data/train_25x25/trichodesmium_puff/67728.jpg"
       ]
      },
      {
       "output_type": "stream",
       "stream": "stdout",
       "text": [
        "\n",
        "convert -resize 25x25! competition_data/train/trichodesmium_puff/52097.jpg competition_data/train_25x25/trichodesmium_puff/52097.jpg"
       ]
      },
      {
       "output_type": "stream",
       "stream": "stdout",
       "text": [
        "\n",
        "convert -resize 25x25! competition_data/train/trichodesmium_puff/109519.jpg competition_data/train_25x25/trichodesmium_puff/109519.jpg"
       ]
      },
      {
       "output_type": "stream",
       "stream": "stdout",
       "text": [
        "\n",
        "convert -resize 25x25! competition_data/train/trichodesmium_puff/102433.jpg competition_data/train_25x25/trichodesmium_puff/102433.jpg"
       ]
      },
      {
       "output_type": "stream",
       "stream": "stdout",
       "text": [
        "\n",
        "convert -resize 25x25! competition_data/train/trichodesmium_puff/152901.jpg competition_data/train_25x25/trichodesmium_puff/152901.jpg"
       ]
      },
      {
       "output_type": "stream",
       "stream": "stdout",
       "text": [
        "\n",
        "convert -resize 25x25! competition_data/train/trichodesmium_puff/28794.jpg competition_data/train_25x25/trichodesmium_puff/28794.jpg"
       ]
      },
      {
       "output_type": "stream",
       "stream": "stdout",
       "text": [
        "\n",
        "convert -resize 25x25! competition_data/train/trichodesmium_puff/12476.jpg competition_data/train_25x25/trichodesmium_puff/12476.jpg"
       ]
      },
      {
       "output_type": "stream",
       "stream": "stdout",
       "text": [
        "\n",
        "convert -resize 25x25! competition_data/train/trichodesmium_puff/78199.jpg competition_data/train_25x25/trichodesmium_puff/78199.jpg"
       ]
      },
      {
       "output_type": "stream",
       "stream": "stdout",
       "text": [
        "\n",
        "convert -resize 25x25! competition_data/train/trichodesmium_puff/94039.jpg competition_data/train_25x25/trichodesmium_puff/94039.jpg"
       ]
      },
      {
       "output_type": "stream",
       "stream": "stdout",
       "text": [
        "\n",
        "convert -resize 25x25! competition_data/train/trichodesmium_puff/71671.jpg competition_data/train_25x25/trichodesmium_puff/71671.jpg"
       ]
      },
      {
       "output_type": "stream",
       "stream": "stdout",
       "text": [
        "\n",
        "convert -resize 25x25! competition_data/train/trichodesmium_puff/37409.jpg competition_data/train_25x25/trichodesmium_puff/37409.jpg"
       ]
      },
      {
       "output_type": "stream",
       "stream": "stdout",
       "text": [
        "\n",
        "convert -resize 25x25! competition_data/train/trichodesmium_puff/20722.jpg competition_data/train_25x25/trichodesmium_puff/20722.jpg"
       ]
      },
      {
       "output_type": "stream",
       "stream": "stdout",
       "text": [
        "\n",
        "convert -resize 25x25! competition_data/train/trichodesmium_puff/4466.jpg competition_data/train_25x25/trichodesmium_puff/4466.jpg"
       ]
      },
      {
       "output_type": "stream",
       "stream": "stdout",
       "text": [
        "\n",
        "convert -resize 25x25! competition_data/train/trichodesmium_puff/133013.jpg competition_data/train_25x25/trichodesmium_puff/133013.jpg"
       ]
      },
      {
       "output_type": "stream",
       "stream": "stdout",
       "text": [
        "\n",
        "convert -resize 25x25! competition_data/train/trichodesmium_puff/12139.jpg competition_data/train_25x25/trichodesmium_puff/12139.jpg"
       ]
      },
      {
       "output_type": "stream",
       "stream": "stdout",
       "text": [
        "\n",
        "convert -resize 25x25! competition_data/train/trichodesmium_puff/39827.jpg competition_data/train_25x25/trichodesmium_puff/39827.jpg"
       ]
      },
      {
       "output_type": "stream",
       "stream": "stdout",
       "text": [
        "\n",
        "convert -resize 25x25! competition_data/train/trichodesmium_puff/7636.jpg competition_data/train_25x25/trichodesmium_puff/7636.jpg"
       ]
      },
      {
       "output_type": "stream",
       "stream": "stdout",
       "text": [
        "\n",
        "convert -resize 25x25! competition_data/train/trichodesmium_puff/62273.jpg competition_data/train_25x25/trichodesmium_puff/62273.jpg"
       ]
      },
      {
       "output_type": "stream",
       "stream": "stdout",
       "text": [
        "\n",
        "convert -resize 25x25! competition_data/train/trichodesmium_puff/32959.jpg competition_data/train_25x25/trichodesmium_puff/32959.jpg\n",
        "convert -resize 25x25! competition_data/train/trichodesmium_puff/66009.jpg competition_data/train_25x25/trichodesmium_puff/66009.jpg"
       ]
      },
      {
       "output_type": "stream",
       "stream": "stdout",
       "text": [
        "\n",
        "convert -resize 25x25! competition_data/train/trichodesmium_puff/43045.jpg competition_data/train_25x25/trichodesmium_puff/43045.jpg"
       ]
      },
      {
       "output_type": "stream",
       "stream": "stdout",
       "text": [
        "\n",
        "convert -resize 25x25! competition_data/train/trichodesmium_puff/62091.jpg competition_data/train_25x25/trichodesmium_puff/62091.jpg"
       ]
      },
      {
       "output_type": "stream",
       "stream": "stdout",
       "text": [
        "\n",
        "convert -resize 25x25! competition_data/train/trichodesmium_puff/31956.jpg competition_data/train_25x25/trichodesmium_puff/31956.jpg"
       ]
      },
      {
       "output_type": "stream",
       "stream": "stdout",
       "text": [
        "\n",
        "convert -resize 25x25! competition_data/train/trichodesmium_puff/34053.jpg competition_data/train_25x25/trichodesmium_puff/34053.jpg\n",
        "convert -resize 25x25! competition_data/train/trichodesmium_puff/40940.jpg competition_data/train_25x25/trichodesmium_puff/40940.jpg"
       ]
      },
      {
       "output_type": "stream",
       "stream": "stdout",
       "text": [
        "\n",
        "convert -resize 25x25! competition_data/train/trichodesmium_puff/13260.jpg competition_data/train_25x25/trichodesmium_puff/13260.jpg"
       ]
      },
      {
       "output_type": "stream",
       "stream": "stdout",
       "text": [
        "\n",
        "convert -resize 25x25! competition_data/train/trichodesmium_puff/89867.jpg competition_data/train_25x25/trichodesmium_puff/89867.jpg"
       ]
      },
      {
       "output_type": "stream",
       "stream": "stdout",
       "text": [
        "\n",
        "convert -resize 25x25! competition_data/train/trichodesmium_puff/118218.jpg competition_data/train_25x25/trichodesmium_puff/118218.jpg"
       ]
      },
      {
       "output_type": "stream",
       "stream": "stdout",
       "text": [
        "\n",
        "convert -resize 25x25! competition_data/train/trichodesmium_puff/28052.jpg competition_data/train_25x25/trichodesmium_puff/28052.jpg"
       ]
      },
      {
       "output_type": "stream",
       "stream": "stdout",
       "text": [
        "\n",
        "convert -resize 25x25! competition_data/train/trichodesmium_puff/114397.jpg competition_data/train_25x25/trichodesmium_puff/114397.jpg"
       ]
      },
      {
       "output_type": "stream",
       "stream": "stdout",
       "text": [
        "\n",
        "convert -resize 25x25! competition_data/train/trichodesmium_puff/46567.jpg competition_data/train_25x25/trichodesmium_puff/46567.jpg"
       ]
      },
      {
       "output_type": "stream",
       "stream": "stdout",
       "text": [
        "\n",
        "convert -resize 25x25! competition_data/train/trichodesmium_puff/97650.jpg competition_data/train_25x25/trichodesmium_puff/97650.jpg"
       ]
      },
      {
       "output_type": "stream",
       "stream": "stdout",
       "text": [
        "\n",
        "convert -resize 25x25! competition_data/train/trichodesmium_puff/99982.jpg competition_data/train_25x25/trichodesmium_puff/99982.jpg"
       ]
      },
      {
       "output_type": "stream",
       "stream": "stdout",
       "text": [
        "\n",
        "convert -resize 25x25! competition_data/train/trichodesmium_puff/100756.jpg competition_data/train_25x25/trichodesmium_puff/100756.jpg"
       ]
      },
      {
       "output_type": "stream",
       "stream": "stdout",
       "text": [
        "\n",
        "convert -resize 25x25! competition_data/train/trichodesmium_puff/146644.jpg competition_data/train_25x25/trichodesmium_puff/146644.jpg"
       ]
      },
      {
       "output_type": "stream",
       "stream": "stdout",
       "text": [
        "\n",
        "convert -resize 25x25! competition_data/train/trichodesmium_puff/38000.jpg competition_data/train_25x25/trichodesmium_puff/38000.jpg"
       ]
      },
      {
       "output_type": "stream",
       "stream": "stdout",
       "text": [
        "\n",
        "convert -resize 25x25! competition_data/train/trichodesmium_puff/157783.jpg competition_data/train_25x25/trichodesmium_puff/157783.jpg"
       ]
      },
      {
       "output_type": "stream",
       "stream": "stdout",
       "text": [
        "\n",
        "convert -resize 25x25! competition_data/train/trichodesmium_puff/115905.jpg competition_data/train_25x25/trichodesmium_puff/115905.jpg"
       ]
      },
      {
       "output_type": "stream",
       "stream": "stdout",
       "text": [
        "\n",
        "convert -resize 25x25! competition_data/train/trichodesmium_puff/76893.jpg competition_data/train_25x25/trichodesmium_puff/76893.jpg"
       ]
      },
      {
       "output_type": "stream",
       "stream": "stdout",
       "text": [
        "\n",
        "convert -resize 25x25! competition_data/train/trichodesmium_puff/92673.jpg competition_data/train_25x25/trichodesmium_puff/92673.jpg"
       ]
      },
      {
       "output_type": "stream",
       "stream": "stdout",
       "text": [
        "\n",
        "convert -resize 25x25! competition_data/train/trichodesmium_puff/25118.jpg competition_data/train_25x25/trichodesmium_puff/25118.jpg"
       ]
      },
      {
       "output_type": "stream",
       "stream": "stdout",
       "text": [
        "\n",
        "convert -resize 25x25! competition_data/train/trichodesmium_puff/28724.jpg competition_data/train_25x25/trichodesmium_puff/28724.jpg"
       ]
      },
      {
       "output_type": "stream",
       "stream": "stdout",
       "text": [
        "\n",
        "convert -resize 25x25! competition_data/train/trichodesmium_puff/87128.jpg competition_data/train_25x25/trichodesmium_puff/87128.jpg"
       ]
      },
      {
       "output_type": "stream",
       "stream": "stdout",
       "text": [
        "\n",
        "convert -resize 25x25! competition_data/train/trichodesmium_puff/87065.jpg competition_data/train_25x25/trichodesmium_puff/87065.jpg"
       ]
      },
      {
       "output_type": "stream",
       "stream": "stdout",
       "text": [
        "\n",
        "convert -resize 25x25! competition_data/train/trichodesmium_puff/18745.jpg competition_data/train_25x25/trichodesmium_puff/18745.jpg"
       ]
      },
      {
       "output_type": "stream",
       "stream": "stdout",
       "text": [
        "\n",
        "convert -resize 25x25! competition_data/train/trichodesmium_puff/158915.jpg competition_data/train_25x25/trichodesmium_puff/158915.jpg"
       ]
      },
      {
       "output_type": "stream",
       "stream": "stdout",
       "text": [
        "\n",
        "convert -resize 25x25! competition_data/train/trichodesmium_puff/21274.jpg competition_data/train_25x25/trichodesmium_puff/21274.jpg"
       ]
      },
      {
       "output_type": "stream",
       "stream": "stdout",
       "text": [
        "\n",
        "convert -resize 25x25! competition_data/train/trichodesmium_puff/155710.jpg competition_data/train_25x25/trichodesmium_puff/155710.jpg"
       ]
      },
      {
       "output_type": "stream",
       "stream": "stdout",
       "text": [
        "\n",
        "convert -resize 25x25! competition_data/train/trichodesmium_puff/33395.jpg competition_data/train_25x25/trichodesmium_puff/33395.jpg"
       ]
      },
      {
       "output_type": "stream",
       "stream": "stdout",
       "text": [
        "\n",
        "convert -resize 25x25! competition_data/train/trichodesmium_puff/33366.jpg competition_data/train_25x25/trichodesmium_puff/33366.jpg"
       ]
      },
      {
       "output_type": "stream",
       "stream": "stdout",
       "text": [
        "\n",
        "convert -resize 25x25! competition_data/train/trichodesmium_puff/129715.jpg competition_data/train_25x25/trichodesmium_puff/129715.jpg"
       ]
      },
      {
       "output_type": "stream",
       "stream": "stdout",
       "text": [
        "\n",
        "convert -resize 25x25! competition_data/train/trichodesmium_puff/45759.jpg competition_data/train_25x25/trichodesmium_puff/45759.jpg"
       ]
      },
      {
       "output_type": "stream",
       "stream": "stdout",
       "text": [
        "\n",
        "convert -resize 25x25! competition_data/train/trichodesmium_puff/113007.jpg competition_data/train_25x25/trichodesmium_puff/113007.jpg"
       ]
      },
      {
       "output_type": "stream",
       "stream": "stdout",
       "text": [
        "\n",
        "convert -resize 25x25! competition_data/train/trichodesmium_puff/65917.jpg competition_data/train_25x25/trichodesmium_puff/65917.jpg"
       ]
      },
      {
       "output_type": "stream",
       "stream": "stdout",
       "text": [
        "\n",
        "convert -resize 25x25! competition_data/train/trichodesmium_puff/10499.jpg competition_data/train_25x25/trichodesmium_puff/10499.jpg"
       ]
      },
      {
       "output_type": "stream",
       "stream": "stdout",
       "text": [
        "\n",
        "convert -resize 25x25! competition_data/train/trichodesmium_puff/55459.jpg competition_data/train_25x25/trichodesmium_puff/55459.jpg"
       ]
      },
      {
       "output_type": "stream",
       "stream": "stdout",
       "text": [
        "\n",
        "convert -resize 25x25! competition_data/train/trichodesmium_puff/39764.jpg competition_data/train_25x25/trichodesmium_puff/39764.jpg\n",
        "convert -resize 25x25! competition_data/train/trichodesmium_puff/17571.jpg competition_data/train_25x25/trichodesmium_puff/17571.jpg"
       ]
      },
      {
       "output_type": "stream",
       "stream": "stdout",
       "text": [
        "\n",
        "convert -resize 25x25! competition_data/train/trichodesmium_puff/131001.jpg competition_data/train_25x25/trichodesmium_puff/131001.jpg"
       ]
      },
      {
       "output_type": "stream",
       "stream": "stdout",
       "text": [
        "\n",
        "convert -resize 25x25! competition_data/train/trichodesmium_puff/14418.jpg competition_data/train_25x25/trichodesmium_puff/14418.jpg"
       ]
      },
      {
       "output_type": "stream",
       "stream": "stdout",
       "text": [
        "\n",
        "convert -resize 25x25! competition_data/train/trichodesmium_puff/7958.jpg competition_data/train_25x25/trichodesmium_puff/7958.jpg"
       ]
      },
      {
       "output_type": "stream",
       "stream": "stdout",
       "text": [
        "\n",
        "convert -resize 25x25! competition_data/train/trichodesmium_puff/57823.jpg competition_data/train_25x25/trichodesmium_puff/57823.jpg"
       ]
      },
      {
       "output_type": "stream",
       "stream": "stdout",
       "text": [
        "\n",
        "convert -resize 25x25! competition_data/train/trichodesmium_puff/96310.jpg competition_data/train_25x25/trichodesmium_puff/96310.jpg"
       ]
      },
      {
       "output_type": "stream",
       "stream": "stdout",
       "text": [
        "\n",
        "convert -resize 25x25! competition_data/train/trichodesmium_puff/5687.jpg competition_data/train_25x25/trichodesmium_puff/5687.jpg"
       ]
      },
      {
       "output_type": "stream",
       "stream": "stdout",
       "text": [
        "\n",
        "convert -resize 25x25! competition_data/train/trichodesmium_puff/75810.jpg competition_data/train_25x25/trichodesmium_puff/75810.jpg"
       ]
      },
      {
       "output_type": "stream",
       "stream": "stdout",
       "text": [
        "\n",
        "convert -resize 25x25! competition_data/train/trichodesmium_puff/66604.jpg competition_data/train_25x25/trichodesmium_puff/66604.jpg"
       ]
      },
      {
       "output_type": "stream",
       "stream": "stdout",
       "text": [
        "\n",
        "convert -resize 25x25! competition_data/train/trichodesmium_puff/85630.jpg competition_data/train_25x25/trichodesmium_puff/85630.jpg"
       ]
      },
      {
       "output_type": "stream",
       "stream": "stdout",
       "text": [
        "\n",
        "convert -resize 25x25! competition_data/train/trichodesmium_puff/56553.jpg competition_data/train_25x25/trichodesmium_puff/56553.jpg"
       ]
      },
      {
       "output_type": "stream",
       "stream": "stdout",
       "text": [
        "\n",
        "convert -resize 25x25! competition_data/train/trichodesmium_puff/57967.jpg competition_data/train_25x25/trichodesmium_puff/57967.jpg"
       ]
      },
      {
       "output_type": "stream",
       "stream": "stdout",
       "text": [
        "\n",
        "convert -resize 25x25! competition_data/train/trichodesmium_puff/136525.jpg competition_data/train_25x25/trichodesmium_puff/136525.jpg"
       ]
      },
      {
       "output_type": "stream",
       "stream": "stdout",
       "text": [
        "\n",
        "convert -resize 25x25! competition_data/train/trichodesmium_puff/78314.jpg competition_data/train_25x25/trichodesmium_puff/78314.jpg"
       ]
      },
      {
       "output_type": "stream",
       "stream": "stdout",
       "text": [
        "\n",
        "convert -resize 25x25! competition_data/train/trichodesmium_puff/156937.jpg competition_data/train_25x25/trichodesmium_puff/156937.jpg"
       ]
      },
      {
       "output_type": "stream",
       "stream": "stdout",
       "text": [
        "\n",
        "convert -resize 25x25! competition_data/train/trichodesmium_puff/45691.jpg competition_data/train_25x25/trichodesmium_puff/45691.jpg"
       ]
      },
      {
       "output_type": "stream",
       "stream": "stdout",
       "text": [
        "\n",
        "convert -resize 25x25! competition_data/train/trichodesmium_puff/25217.jpg competition_data/train_25x25/trichodesmium_puff/25217.jpg"
       ]
      },
      {
       "output_type": "stream",
       "stream": "stdout",
       "text": [
        "\n",
        "convert -resize 25x25! competition_data/train/trichodesmium_puff/64358.jpg competition_data/train_25x25/trichodesmium_puff/64358.jpg"
       ]
      },
      {
       "output_type": "stream",
       "stream": "stdout",
       "text": [
        "\n",
        "convert -resize 25x25! competition_data/train/trichodesmium_puff/3278.jpg competition_data/train_25x25/trichodesmium_puff/3278.jpg"
       ]
      },
      {
       "output_type": "stream",
       "stream": "stdout",
       "text": [
        "\n",
        "convert -resize 25x25! competition_data/train/trichodesmium_puff/80960.jpg competition_data/train_25x25/trichodesmium_puff/80960.jpg"
       ]
      },
      {
       "output_type": "stream",
       "stream": "stdout",
       "text": [
        "\n",
        "convert -resize 25x25! competition_data/train/trichodesmium_puff/156340.jpg competition_data/train_25x25/trichodesmium_puff/156340.jpg"
       ]
      },
      {
       "output_type": "stream",
       "stream": "stdout",
       "text": [
        "\n",
        "convert -resize 25x25! competition_data/train/trichodesmium_puff/147657.jpg competition_data/train_25x25/trichodesmium_puff/147657.jpg"
       ]
      },
      {
       "output_type": "stream",
       "stream": "stdout",
       "text": [
        "\n",
        "convert -resize 25x25! competition_data/train/trichodesmium_puff/151327.jpg competition_data/train_25x25/trichodesmium_puff/151327.jpg"
       ]
      },
      {
       "output_type": "stream",
       "stream": "stdout",
       "text": [
        "\n",
        "convert -resize 25x25! competition_data/train/trichodesmium_puff/158827.jpg competition_data/train_25x25/trichodesmium_puff/158827.jpg"
       ]
      },
      {
       "output_type": "stream",
       "stream": "stdout",
       "text": [
        "\n",
        "convert -resize 25x25! competition_data/train/trichodesmium_puff/33319.jpg competition_data/train_25x25/trichodesmium_puff/33319.jpg"
       ]
      },
      {
       "output_type": "stream",
       "stream": "stdout",
       "text": [
        "\n",
        "convert -resize 25x25! competition_data/train/trichodesmium_puff/96653.jpg competition_data/train_25x25/trichodesmium_puff/96653.jpg\n",
        "convert -resize 25x25! competition_data/train/trichodesmium_puff/69251.jpg competition_data/train_25x25/trichodesmium_puff/69251.jpg"
       ]
      },
      {
       "output_type": "stream",
       "stream": "stdout",
       "text": [
        "\n",
        "convert -resize 25x25! competition_data/train/trichodesmium_puff/985.jpg competition_data/train_25x25/trichodesmium_puff/985.jpg"
       ]
      },
      {
       "output_type": "stream",
       "stream": "stdout",
       "text": [
        "\n",
        "convert -resize 25x25! competition_data/train/trichodesmium_puff/39351.jpg competition_data/train_25x25/trichodesmium_puff/39351.jpg"
       ]
      },
      {
       "output_type": "stream",
       "stream": "stdout",
       "text": [
        "\n",
        "convert -resize 25x25! competition_data/train/trichodesmium_puff/122346.jpg competition_data/train_25x25/trichodesmium_puff/122346.jpg"
       ]
      },
      {
       "output_type": "stream",
       "stream": "stdout",
       "text": [
        "\n",
        "convert -resize 25x25! competition_data/train/trichodesmium_puff/99537.jpg competition_data/train_25x25/trichodesmium_puff/99537.jpg"
       ]
      },
      {
       "output_type": "stream",
       "stream": "stdout",
       "text": [
        "\n",
        "convert -resize 25x25! competition_data/train/trichodesmium_puff/130974.jpg competition_data/train_25x25/trichodesmium_puff/130974.jpg"
       ]
      },
      {
       "output_type": "stream",
       "stream": "stdout",
       "text": [
        "\n",
        "convert -resize 25x25! competition_data/train/trichodesmium_puff/6413.jpg competition_data/train_25x25/trichodesmium_puff/6413.jpg"
       ]
      },
      {
       "output_type": "stream",
       "stream": "stdout",
       "text": [
        "\n",
        "convert -resize 25x25! competition_data/train/trichodesmium_puff/66610.jpg competition_data/train_25x25/trichodesmium_puff/66610.jpg"
       ]
      },
      {
       "output_type": "stream",
       "stream": "stdout",
       "text": [
        "\n",
        "convert -resize 25x25! competition_data/train/trichodesmium_puff/125131.jpg competition_data/train_25x25/trichodesmium_puff/125131.jpg\n",
        "convert -resize 25x25! competition_data/train/trichodesmium_puff/123422.jpg competition_data/train_25x25/trichodesmium_puff/123422.jpg"
       ]
      },
      {
       "output_type": "stream",
       "stream": "stdout",
       "text": [
        "\n",
        "convert -resize 25x25! competition_data/train/trichodesmium_puff/137217.jpg competition_data/train_25x25/trichodesmium_puff/137217.jpg"
       ]
      },
      {
       "output_type": "stream",
       "stream": "stdout",
       "text": [
        "\n",
        "convert -resize 25x25! competition_data/train/trichodesmium_puff/156445.jpg competition_data/train_25x25/trichodesmium_puff/156445.jpg"
       ]
      },
      {
       "output_type": "stream",
       "stream": "stdout",
       "text": [
        "\n",
        "convert -resize 25x25! competition_data/train/trichodesmium_puff/10703.jpg competition_data/train_25x25/trichodesmium_puff/10703.jpg"
       ]
      },
      {
       "output_type": "stream",
       "stream": "stdout",
       "text": [
        "\n",
        "convert -resize 25x25! competition_data/train/trichodesmium_puff/47909.jpg competition_data/train_25x25/trichodesmium_puff/47909.jpg"
       ]
      },
      {
       "output_type": "stream",
       "stream": "stdout",
       "text": [
        "\n",
        "convert -resize 25x25! competition_data/train/trichodesmium_puff/128559.jpg competition_data/train_25x25/trichodesmium_puff/128559.jpg"
       ]
      },
      {
       "output_type": "stream",
       "stream": "stdout",
       "text": [
        "\n",
        "convert -resize 25x25! competition_data/train/trichodesmium_puff/66446.jpg competition_data/train_25x25/trichodesmium_puff/66446.jpg"
       ]
      },
      {
       "output_type": "stream",
       "stream": "stdout",
       "text": [
        "\n",
        "convert -resize 25x25! competition_data/train/trichodesmium_puff/64405.jpg competition_data/train_25x25/trichodesmium_puff/64405.jpg"
       ]
      },
      {
       "output_type": "stream",
       "stream": "stdout",
       "text": [
        "\n",
        "convert -resize 25x25! competition_data/train/trichodesmium_puff/45106.jpg competition_data/train_25x25/trichodesmium_puff/45106.jpg"
       ]
      },
      {
       "output_type": "stream",
       "stream": "stdout",
       "text": [
        "\n",
        "convert -resize 25x25! competition_data/train/trichodesmium_puff/79204.jpg competition_data/train_25x25/trichodesmium_puff/79204.jpg"
       ]
      },
      {
       "output_type": "stream",
       "stream": "stdout",
       "text": [
        "\n",
        "convert -resize 25x25! competition_data/train/trichodesmium_puff/147806.jpg competition_data/train_25x25/trichodesmium_puff/147806.jpg"
       ]
      },
      {
       "output_type": "stream",
       "stream": "stdout",
       "text": [
        "\n",
        "convert -resize 25x25! competition_data/train/trichodesmium_puff/46107.jpg competition_data/train_25x25/trichodesmium_puff/46107.jpg"
       ]
      },
      {
       "output_type": "stream",
       "stream": "stdout",
       "text": [
        "\n",
        "convert -resize 25x25! competition_data/train/trichodesmium_puff/52406.jpg competition_data/train_25x25/trichodesmium_puff/52406.jpg"
       ]
      },
      {
       "output_type": "stream",
       "stream": "stdout",
       "text": [
        "\n",
        "convert -resize 25x25! competition_data/train/trichodesmium_puff/39367.jpg competition_data/train_25x25/trichodesmium_puff/39367.jpg"
       ]
      },
      {
       "output_type": "stream",
       "stream": "stdout",
       "text": [
        "\n",
        "convert -resize 25x25! competition_data/train/trichodesmium_puff/10521.jpg competition_data/train_25x25/trichodesmium_puff/10521.jpg"
       ]
      },
      {
       "output_type": "stream",
       "stream": "stdout",
       "text": [
        "\n",
        "convert -resize 25x25! competition_data/train/trichodesmium_puff/158499.jpg competition_data/train_25x25/trichodesmium_puff/158499.jpg"
       ]
      },
      {
       "output_type": "stream",
       "stream": "stdout",
       "text": [
        "\n",
        "convert -resize 25x25! competition_data/train/trichodesmium_puff/57842.jpg competition_data/train_25x25/trichodesmium_puff/57842.jpg"
       ]
      },
      {
       "output_type": "stream",
       "stream": "stdout",
       "text": [
        "\n",
        "convert -resize 25x25! competition_data/train/trichodesmium_puff/5304.jpg competition_data/train_25x25/trichodesmium_puff/5304.jpg"
       ]
      },
      {
       "output_type": "stream",
       "stream": "stdout",
       "text": [
        "\n",
        "convert -resize 25x25! competition_data/train/trichodesmium_puff/35090.jpg competition_data/train_25x25/trichodesmium_puff/35090.jpg"
       ]
      },
      {
       "output_type": "stream",
       "stream": "stdout",
       "text": [
        "\n",
        "convert -resize 25x25! competition_data/train/trichodesmium_puff/36297.jpg competition_data/train_25x25/trichodesmium_puff/36297.jpg"
       ]
      },
      {
       "output_type": "stream",
       "stream": "stdout",
       "text": [
        "\n",
        "convert -resize 25x25! competition_data/train/trichodesmium_puff/133227.jpg competition_data/train_25x25/trichodesmium_puff/133227.jpg"
       ]
      },
      {
       "output_type": "stream",
       "stream": "stdout",
       "text": [
        "\n",
        "convert -resize 25x25! competition_data/train/trichodesmium_puff/41890.jpg competition_data/train_25x25/trichodesmium_puff/41890.jpg"
       ]
      },
      {
       "output_type": "stream",
       "stream": "stdout",
       "text": [
        "\n",
        "convert -resize 25x25! competition_data/train/trichodesmium_puff/149018.jpg competition_data/train_25x25/trichodesmium_puff/149018.jpg"
       ]
      },
      {
       "output_type": "stream",
       "stream": "stdout",
       "text": [
        "\n",
        "convert -resize 25x25! competition_data/train/trichodesmium_puff/157715.jpg competition_data/train_25x25/trichodesmium_puff/157715.jpg"
       ]
      },
      {
       "output_type": "stream",
       "stream": "stdout",
       "text": [
        "\n",
        "convert -resize 25x25! competition_data/train/trichodesmium_puff/115169.jpg competition_data/train_25x25/trichodesmium_puff/115169.jpg"
       ]
      },
      {
       "output_type": "stream",
       "stream": "stdout",
       "text": [
        "\n",
        "convert -resize 25x25! competition_data/train/trichodesmium_puff/16503.jpg competition_data/train_25x25/trichodesmium_puff/16503.jpg"
       ]
      },
      {
       "output_type": "stream",
       "stream": "stdout",
       "text": [
        "\n",
        "convert -resize 25x25! competition_data/train/trichodesmium_puff/16362.jpg competition_data/train_25x25/trichodesmium_puff/16362.jpg"
       ]
      },
      {
       "output_type": "stream",
       "stream": "stdout",
       "text": [
        "\n",
        "convert -resize 25x25! competition_data/train/trichodesmium_puff/109718.jpg competition_data/train_25x25/trichodesmium_puff/109718.jpg"
       ]
      },
      {
       "output_type": "stream",
       "stream": "stdout",
       "text": [
        "\n",
        "convert -resize 25x25! competition_data/train/trichodesmium_puff/106595.jpg competition_data/train_25x25/trichodesmium_puff/106595.jpg"
       ]
      },
      {
       "output_type": "stream",
       "stream": "stdout",
       "text": [
        "\n",
        "convert -resize 25x25! competition_data/train/trichodesmium_puff/38134.jpg competition_data/train_25x25/trichodesmium_puff/38134.jpg"
       ]
      },
      {
       "output_type": "stream",
       "stream": "stdout",
       "text": [
        "\n",
        "convert -resize 25x25! competition_data/train/trichodesmium_puff/110212.jpg competition_data/train_25x25/trichodesmium_puff/110212.jpg"
       ]
      },
      {
       "output_type": "stream",
       "stream": "stdout",
       "text": [
        "\n",
        "convert -resize 25x25! competition_data/train/trichodesmium_puff/119254.jpg competition_data/train_25x25/trichodesmium_puff/119254.jpg"
       ]
      },
      {
       "output_type": "stream",
       "stream": "stdout",
       "text": [
        "\n",
        "convert -resize 25x25! competition_data/train/trichodesmium_puff/82956.jpg competition_data/train_25x25/trichodesmium_puff/82956.jpg"
       ]
      },
      {
       "output_type": "stream",
       "stream": "stdout",
       "text": [
        "\n",
        "convert -resize 25x25! competition_data/train/trichodesmium_puff/75000.jpg competition_data/train_25x25/trichodesmium_puff/75000.jpg"
       ]
      },
      {
       "output_type": "stream",
       "stream": "stdout",
       "text": [
        "\n",
        "convert -resize 25x25! competition_data/train/trichodesmium_puff/23599.jpg competition_data/train_25x25/trichodesmium_puff/23599.jpg"
       ]
      },
      {
       "output_type": "stream",
       "stream": "stdout",
       "text": [
        "\n",
        "convert -resize 25x25! competition_data/train/trichodesmium_puff/41028.jpg competition_data/train_25x25/trichodesmium_puff/41028.jpg"
       ]
      },
      {
       "output_type": "stream",
       "stream": "stdout",
       "text": [
        "\n",
        "convert -resize 25x25! competition_data/train/trichodesmium_puff/124488.jpg competition_data/train_25x25/trichodesmium_puff/124488.jpg"
       ]
      },
      {
       "output_type": "stream",
       "stream": "stdout",
       "text": [
        "\n",
        "convert -resize 25x25! competition_data/train/trichodesmium_puff/130237.jpg competition_data/train_25x25/trichodesmium_puff/130237.jpg"
       ]
      },
      {
       "output_type": "stream",
       "stream": "stdout",
       "text": [
        "\n",
        "convert -resize 25x25! competition_data/train/trichodesmium_puff/55536.jpg competition_data/train_25x25/trichodesmium_puff/55536.jpg"
       ]
      },
      {
       "output_type": "stream",
       "stream": "stdout",
       "text": [
        "\n",
        "convert -resize 25x25! competition_data/train/trichodesmium_puff/22355.jpg competition_data/train_25x25/trichodesmium_puff/22355.jpg"
       ]
      },
      {
       "output_type": "stream",
       "stream": "stdout",
       "text": [
        "\n",
        "convert -resize 25x25! competition_data/train/trichodesmium_puff/86375.jpg competition_data/train_25x25/trichodesmium_puff/86375.jpg"
       ]
      },
      {
       "output_type": "stream",
       "stream": "stdout",
       "text": [
        "\n",
        "convert -resize 25x25! competition_data/train/trichodesmium_puff/112933.jpg competition_data/train_25x25/trichodesmium_puff/112933.jpg"
       ]
      },
      {
       "output_type": "stream",
       "stream": "stdout",
       "text": [
        "\n",
        "convert -resize 25x25! competition_data/train/trichodesmium_puff/46604.jpg competition_data/train_25x25/trichodesmium_puff/46604.jpg"
       ]
      },
      {
       "output_type": "stream",
       "stream": "stdout",
       "text": [
        "\n",
        "convert -resize 25x25! competition_data/train/trichodesmium_puff/111994.jpg competition_data/train_25x25/trichodesmium_puff/111994.jpg"
       ]
      },
      {
       "output_type": "stream",
       "stream": "stdout",
       "text": [
        "\n",
        "convert -resize 25x25! competition_data/train/trichodesmium_puff/126637.jpg competition_data/train_25x25/trichodesmium_puff/126637.jpg"
       ]
      },
      {
       "output_type": "stream",
       "stream": "stdout",
       "text": [
        "\n",
        "convert -resize 25x25! competition_data/train/trichodesmium_puff/99228.jpg competition_data/train_25x25/trichodesmium_puff/99228.jpg"
       ]
      },
      {
       "output_type": "stream",
       "stream": "stdout",
       "text": [
        "\n",
        "convert -resize 25x25! competition_data/train/trichodesmium_puff/28524.jpg competition_data/train_25x25/trichodesmium_puff/28524.jpg"
       ]
      },
      {
       "output_type": "stream",
       "stream": "stdout",
       "text": [
        "\n",
        "convert -resize 25x25! competition_data/train/trichodesmium_puff/4365.jpg competition_data/train_25x25/trichodesmium_puff/4365.jpg"
       ]
      },
      {
       "output_type": "stream",
       "stream": "stdout",
       "text": [
        "\n",
        "convert -resize 25x25! competition_data/train/trichodesmium_puff/4280.jpg competition_data/train_25x25/trichodesmium_puff/4280.jpg"
       ]
      },
      {
       "output_type": "stream",
       "stream": "stdout",
       "text": [
        "\n",
        "convert -resize 25x25! competition_data/train/trichodesmium_puff/57198.jpg competition_data/train_25x25/trichodesmium_puff/57198.jpg"
       ]
      },
      {
       "output_type": "stream",
       "stream": "stdout",
       "text": [
        "\n",
        "convert -resize 25x25! competition_data/train/trichodesmium_puff/131979.jpg competition_data/train_25x25/trichodesmium_puff/131979.jpg"
       ]
      },
      {
       "output_type": "stream",
       "stream": "stdout",
       "text": [
        "\n",
        "convert -resize 25x25! competition_data/train/trichodesmium_puff/114986.jpg competition_data/train_25x25/trichodesmium_puff/114986.jpg"
       ]
      },
      {
       "output_type": "stream",
       "stream": "stdout",
       "text": [
        "\n",
        "convert -resize 25x25! competition_data/train/trichodesmium_puff/97027.jpg competition_data/train_25x25/trichodesmium_puff/97027.jpg"
       ]
      },
      {
       "output_type": "stream",
       "stream": "stdout",
       "text": [
        "\n",
        "convert -resize 25x25! competition_data/train/trichodesmium_puff/152747.jpg competition_data/train_25x25/trichodesmium_puff/152747.jpg"
       ]
      },
      {
       "output_type": "stream",
       "stream": "stdout",
       "text": [
        "\n",
        "convert -resize 25x25! competition_data/train/trichodesmium_puff/59544.jpg competition_data/train_25x25/trichodesmium_puff/59544.jpg"
       ]
      },
      {
       "output_type": "stream",
       "stream": "stdout",
       "text": [
        "\n",
        "convert -resize 25x25! competition_data/train/trichodesmium_puff/119836.jpg competition_data/train_25x25/trichodesmium_puff/119836.jpg"
       ]
      },
      {
       "output_type": "stream",
       "stream": "stdout",
       "text": [
        "\n",
        "convert -resize 25x25! competition_data/train/trichodesmium_puff/96471.jpg competition_data/train_25x25/trichodesmium_puff/96471.jpg"
       ]
      },
      {
       "output_type": "stream",
       "stream": "stdout",
       "text": [
        "\n",
        "convert -resize 25x25! competition_data/train/trichodesmium_puff/40142.jpg competition_data/train_25x25/trichodesmium_puff/40142.jpg"
       ]
      },
      {
       "output_type": "stream",
       "stream": "stdout",
       "text": [
        "\n",
        "convert -resize 25x25! competition_data/train/trichodesmium_puff/139282.jpg competition_data/train_25x25/trichodesmium_puff/139282.jpg"
       ]
      },
      {
       "output_type": "stream",
       "stream": "stdout",
       "text": [
        "\n",
        "convert -resize 25x25! competition_data/train/trichodesmium_puff/138645.jpg competition_data/train_25x25/trichodesmium_puff/138645.jpg"
       ]
      },
      {
       "output_type": "stream",
       "stream": "stdout",
       "text": [
        "\n",
        "convert -resize 25x25! competition_data/train/trichodesmium_puff/21782.jpg competition_data/train_25x25/trichodesmium_puff/21782.jpg"
       ]
      },
      {
       "output_type": "stream",
       "stream": "stdout",
       "text": [
        "\n",
        "convert -resize 25x25! competition_data/train/trichodesmium_puff/146457.jpg competition_data/train_25x25/trichodesmium_puff/146457.jpg"
       ]
      },
      {
       "output_type": "stream",
       "stream": "stdout",
       "text": [
        "\n",
        "convert -resize 25x25! competition_data/train/trichodesmium_puff/108982.jpg competition_data/train_25x25/trichodesmium_puff/108982.jpg"
       ]
      },
      {
       "output_type": "stream",
       "stream": "stdout",
       "text": [
        "\n",
        "convert -resize 25x25! competition_data/train/trichodesmium_puff/128446.jpg competition_data/train_25x25/trichodesmium_puff/128446.jpg"
       ]
      },
      {
       "output_type": "stream",
       "stream": "stdout",
       "text": [
        "\n",
        "convert -resize 25x25! competition_data/train/trichodesmium_puff/125188.jpg competition_data/train_25x25/trichodesmium_puff/125188.jpg"
       ]
      },
      {
       "output_type": "stream",
       "stream": "stdout",
       "text": [
        "\n",
        "convert -resize 25x25! competition_data/train/trichodesmium_puff/47148.jpg competition_data/train_25x25/trichodesmium_puff/47148.jpg"
       ]
      },
      {
       "output_type": "stream",
       "stream": "stdout",
       "text": [
        "\n",
        "convert -resize 25x25! competition_data/train/trichodesmium_puff/54332.jpg competition_data/train_25x25/trichodesmium_puff/54332.jpg"
       ]
      },
      {
       "output_type": "stream",
       "stream": "stdout",
       "text": [
        "\n",
        "convert -resize 25x25! competition_data/train/trichodesmium_puff/74391.jpg competition_data/train_25x25/trichodesmium_puff/74391.jpg"
       ]
      },
      {
       "output_type": "stream",
       "stream": "stdout",
       "text": [
        "\n",
        "convert -resize 25x25! competition_data/train/trichodesmium_puff/45561.jpg competition_data/train_25x25/trichodesmium_puff/45561.jpg"
       ]
      },
      {
       "output_type": "stream",
       "stream": "stdout",
       "text": [
        "\n",
        "convert -resize 25x25! competition_data/train/trichodesmium_puff/95424.jpg competition_data/train_25x25/trichodesmium_puff/95424.jpg"
       ]
      },
      {
       "output_type": "stream",
       "stream": "stdout",
       "text": [
        "\n",
        "convert -resize 25x25! competition_data/train/trichodesmium_puff/39551.jpg competition_data/train_25x25/trichodesmium_puff/39551.jpg"
       ]
      },
      {
       "output_type": "stream",
       "stream": "stdout",
       "text": [
        "\n",
        "convert -resize 25x25! competition_data/train/trichodesmium_puff/153794.jpg competition_data/train_25x25/trichodesmium_puff/153794.jpg"
       ]
      },
      {
       "output_type": "stream",
       "stream": "stdout",
       "text": [
        "\n",
        "convert -resize 25x25! competition_data/train/trichodesmium_puff/139279.jpg competition_data/train_25x25/trichodesmium_puff/139279.jpg"
       ]
      },
      {
       "output_type": "stream",
       "stream": "stdout",
       "text": [
        "\n",
        "convert -resize 25x25! competition_data/train/trichodesmium_puff/61673.jpg competition_data/train_25x25/trichodesmium_puff/61673.jpg"
       ]
      },
      {
       "output_type": "stream",
       "stream": "stdout",
       "text": [
        "\n",
        "convert -resize 25x25! competition_data/train/trichodesmium_puff/38143.jpg competition_data/train_25x25/trichodesmium_puff/38143.jpg"
       ]
      },
      {
       "output_type": "stream",
       "stream": "stdout",
       "text": [
        "\n",
        "convert -resize 25x25! competition_data/train/trichodesmium_puff/49603.jpg competition_data/train_25x25/trichodesmium_puff/49603.jpg"
       ]
      },
      {
       "output_type": "stream",
       "stream": "stdout",
       "text": [
        "\n",
        "convert -resize 25x25! competition_data/train/trichodesmium_puff/12892.jpg competition_data/train_25x25/trichodesmium_puff/12892.jpg"
       ]
      },
      {
       "output_type": "stream",
       "stream": "stdout",
       "text": [
        "\n",
        "convert -resize 25x25! competition_data/train/trichodesmium_puff/45386.jpg competition_data/train_25x25/trichodesmium_puff/45386.jpg"
       ]
      },
      {
       "output_type": "stream",
       "stream": "stdout",
       "text": [
        "\n",
        "convert -resize 25x25! competition_data/train/trichodesmium_puff/87334.jpg competition_data/train_25x25/trichodesmium_puff/87334.jpg"
       ]
      },
      {
       "output_type": "stream",
       "stream": "stdout",
       "text": [
        "\n",
        "convert -resize 25x25! competition_data/train/trichodesmium_puff/13567.jpg competition_data/train_25x25/trichodesmium_puff/13567.jpg"
       ]
      },
      {
       "output_type": "stream",
       "stream": "stdout",
       "text": [
        "\n",
        "convert -resize 25x25! competition_data/train/trichodesmium_puff/120342.jpg competition_data/train_25x25/trichodesmium_puff/120342.jpg"
       ]
      },
      {
       "output_type": "stream",
       "stream": "stdout",
       "text": [
        "\n",
        "convert -resize 25x25! competition_data/train/trichodesmium_puff/98502.jpg competition_data/train_25x25/trichodesmium_puff/98502.jpg"
       ]
      },
      {
       "output_type": "stream",
       "stream": "stdout",
       "text": [
        "\n",
        "convert -resize 25x25! competition_data/train/trichodesmium_puff/131719.jpg competition_data/train_25x25/trichodesmium_puff/131719.jpg"
       ]
      },
      {
       "output_type": "stream",
       "stream": "stdout",
       "text": [
        "\n",
        "convert -resize 25x25! competition_data/train/trichodesmium_puff/88108.jpg competition_data/train_25x25/trichodesmium_puff/88108.jpg"
       ]
      },
      {
       "output_type": "stream",
       "stream": "stdout",
       "text": [
        "\n",
        "convert -resize 25x25! competition_data/train/trichodesmium_puff/149340.jpg competition_data/train_25x25/trichodesmium_puff/149340.jpg"
       ]
      },
      {
       "output_type": "stream",
       "stream": "stdout",
       "text": [
        "\n",
        "convert -resize 25x25! competition_data/train/trichodesmium_puff/37044.jpg competition_data/train_25x25/trichodesmium_puff/37044.jpg"
       ]
      },
      {
       "output_type": "stream",
       "stream": "stdout",
       "text": [
        "\n",
        "convert -resize 25x25! competition_data/train/trichodesmium_puff/153025.jpg competition_data/train_25x25/trichodesmium_puff/153025.jpg"
       ]
      },
      {
       "output_type": "stream",
       "stream": "stdout",
       "text": [
        "\n",
        "convert -resize 25x25! competition_data/train/trichodesmium_puff/56706.jpg competition_data/train_25x25/trichodesmium_puff/56706.jpg"
       ]
      },
      {
       "output_type": "stream",
       "stream": "stdout",
       "text": [
        "\n",
        "convert -resize 25x25! competition_data/train/trichodesmium_puff/147188.jpg competition_data/train_25x25/trichodesmium_puff/147188.jpg"
       ]
      },
      {
       "output_type": "stream",
       "stream": "stdout",
       "text": [
        "\n",
        "convert -resize 25x25! competition_data/train/trichodesmium_puff/14562.jpg competition_data/train_25x25/trichodesmium_puff/14562.jpg"
       ]
      },
      {
       "output_type": "stream",
       "stream": "stdout",
       "text": [
        "\n",
        "convert -resize 25x25! competition_data/train/trichodesmium_puff/125532.jpg competition_data/train_25x25/trichodesmium_puff/125532.jpg"
       ]
      },
      {
       "output_type": "stream",
       "stream": "stdout",
       "text": [
        "\n",
        "convert -resize 25x25! competition_data/train/trichodesmium_puff/16097.jpg competition_data/train_25x25/trichodesmium_puff/16097.jpg"
       ]
      },
      {
       "output_type": "stream",
       "stream": "stdout",
       "text": [
        "\n",
        "convert -resize 25x25! competition_data/train/trichodesmium_puff/112165.jpg competition_data/train_25x25/trichodesmium_puff/112165.jpg"
       ]
      },
      {
       "output_type": "stream",
       "stream": "stdout",
       "text": [
        "\n",
        "convert -resize 25x25! competition_data/train/trichodesmium_puff/129356.jpg competition_data/train_25x25/trichodesmium_puff/129356.jpg"
       ]
      },
      {
       "output_type": "stream",
       "stream": "stdout",
       "text": [
        "\n",
        "convert -resize 25x25! competition_data/train/trichodesmium_puff/28452.jpg competition_data/train_25x25/trichodesmium_puff/28452.jpg"
       ]
      },
      {
       "output_type": "stream",
       "stream": "stdout",
       "text": [
        "\n",
        "convert -resize 25x25! competition_data/train/trichodesmium_puff/60142.jpg competition_data/train_25x25/trichodesmium_puff/60142.jpg"
       ]
      },
      {
       "output_type": "stream",
       "stream": "stdout",
       "text": [
        "\n",
        "convert -resize 25x25! competition_data/train/trichodesmium_puff/80232.jpg competition_data/train_25x25/trichodesmium_puff/80232.jpg"
       ]
      },
      {
       "output_type": "stream",
       "stream": "stdout",
       "text": [
        "\n",
        "convert -resize 25x25! competition_data/train/trichodesmium_puff/62003.jpg competition_data/train_25x25/trichodesmium_puff/62003.jpg"
       ]
      },
      {
       "output_type": "stream",
       "stream": "stdout",
       "text": [
        "\n",
        "convert -resize 25x25! competition_data/train/trichodesmium_puff/61965.jpg competition_data/train_25x25/trichodesmium_puff/61965.jpg"
       ]
      },
      {
       "output_type": "stream",
       "stream": "stdout",
       "text": [
        "\n",
        "convert -resize 25x25! competition_data/train/trichodesmium_puff/87790.jpg competition_data/train_25x25/trichodesmium_puff/87790.jpg"
       ]
      },
      {
       "output_type": "stream",
       "stream": "stdout",
       "text": [
        "\n",
        "convert -resize 25x25! competition_data/train/trichodesmium_puff/134408.jpg competition_data/train_25x25/trichodesmium_puff/134408.jpg"
       ]
      },
      {
       "output_type": "stream",
       "stream": "stdout",
       "text": [
        "\n",
        "convert -resize 25x25! competition_data/train/trichodesmium_puff/136329.jpg competition_data/train_25x25/trichodesmium_puff/136329.jpg"
       ]
      },
      {
       "output_type": "stream",
       "stream": "stdout",
       "text": [
        "\n",
        "convert -resize 25x25! competition_data/train/trichodesmium_puff/103593.jpg competition_data/train_25x25/trichodesmium_puff/103593.jpg"
       ]
      },
      {
       "output_type": "stream",
       "stream": "stdout",
       "text": [
        "\n",
        "convert -resize 25x25! competition_data/train/trichodesmium_puff/116700.jpg competition_data/train_25x25/trichodesmium_puff/116700.jpg"
       ]
      },
      {
       "output_type": "stream",
       "stream": "stdout",
       "text": [
        "\n",
        "convert -resize 25x25! competition_data/train/trichodesmium_puff/153070.jpg competition_data/train_25x25/trichodesmium_puff/153070.jpg"
       ]
      },
      {
       "output_type": "stream",
       "stream": "stdout",
       "text": [
        "\n",
        "convert -resize 25x25! competition_data/train/trichodesmium_puff/135160.jpg competition_data/train_25x25/trichodesmium_puff/135160.jpg"
       ]
      },
      {
       "output_type": "stream",
       "stream": "stdout",
       "text": [
        "\n",
        "convert -resize 25x25! competition_data/train/trichodesmium_puff/147232.jpg competition_data/train_25x25/trichodesmium_puff/147232.jpg"
       ]
      },
      {
       "output_type": "stream",
       "stream": "stdout",
       "text": [
        "\n",
        "convert -resize 25x25! competition_data/train/trichodesmium_puff/111743.jpg competition_data/train_25x25/trichodesmium_puff/111743.jpg"
       ]
      },
      {
       "output_type": "stream",
       "stream": "stdout",
       "text": [
        "\n",
        "convert -resize 25x25! competition_data/train/trichodesmium_puff/34016.jpg competition_data/train_25x25/trichodesmium_puff/34016.jpg"
       ]
      },
      {
       "output_type": "stream",
       "stream": "stdout",
       "text": [
        "\n",
        "convert -resize 25x25! competition_data/train/trichodesmium_puff/8415.jpg competition_data/train_25x25/trichodesmium_puff/8415.jpg"
       ]
      },
      {
       "output_type": "stream",
       "stream": "stdout",
       "text": [
        "\n",
        "convert -resize 25x25! competition_data/train/trichodesmium_puff/17495.jpg competition_data/train_25x25/trichodesmium_puff/17495.jpg"
       ]
      },
      {
       "output_type": "stream",
       "stream": "stdout",
       "text": [
        "\n",
        "convert -resize 25x25! competition_data/train/trichodesmium_puff/110463.jpg competition_data/train_25x25/trichodesmium_puff/110463.jpg"
       ]
      },
      {
       "output_type": "stream",
       "stream": "stdout",
       "text": [
        "\n",
        "convert -resize 25x25! competition_data/train/trichodesmium_puff/157565.jpg competition_data/train_25x25/trichodesmium_puff/157565.jpg"
       ]
      },
      {
       "output_type": "stream",
       "stream": "stdout",
       "text": [
        "\n",
        "convert -resize 25x25! competition_data/train/trichodesmium_puff/128498.jpg competition_data/train_25x25/trichodesmium_puff/128498.jpg"
       ]
      },
      {
       "output_type": "stream",
       "stream": "stdout",
       "text": [
        "\n",
        "convert -resize 25x25! competition_data/train/trichodesmium_puff/17572.jpg competition_data/train_25x25/trichodesmium_puff/17572.jpg"
       ]
      },
      {
       "output_type": "stream",
       "stream": "stdout",
       "text": [
        "\n",
        "convert -resize 25x25! competition_data/train/trichodesmium_puff/70630.jpg competition_data/train_25x25/trichodesmium_puff/70630.jpg"
       ]
      },
      {
       "output_type": "stream",
       "stream": "stdout",
       "text": [
        "\n",
        "convert -resize 25x25! competition_data/train/trichodesmium_puff/92025.jpg competition_data/train_25x25/trichodesmium_puff/92025.jpg\n",
        "convert -resize 25x25! competition_data/train/trichodesmium_puff/115735.jpg competition_data/train_25x25/trichodesmium_puff/115735.jpg"
       ]
      },
      {
       "output_type": "stream",
       "stream": "stdout",
       "text": [
        "\n",
        "convert -resize 25x25! competition_data/train/trichodesmium_puff/123922.jpg competition_data/train_25x25/trichodesmium_puff/123922.jpg"
       ]
      },
      {
       "output_type": "stream",
       "stream": "stdout",
       "text": [
        "\n",
        "convert -resize 25x25! competition_data/train/trichodesmium_puff/156123.jpg competition_data/train_25x25/trichodesmium_puff/156123.jpg"
       ]
      },
      {
       "output_type": "stream",
       "stream": "stdout",
       "text": [
        "\n",
        "convert -resize 25x25! competition_data/train/trichodesmium_puff/149396.jpg competition_data/train_25x25/trichodesmium_puff/149396.jpg"
       ]
      },
      {
       "output_type": "stream",
       "stream": "stdout",
       "text": [
        "\n",
        "convert -resize 25x25! competition_data/train/trichodesmium_puff/32810.jpg competition_data/train_25x25/trichodesmium_puff/32810.jpg"
       ]
      },
      {
       "output_type": "stream",
       "stream": "stdout",
       "text": [
        "\n",
        "convert -resize 25x25! competition_data/train/trichodesmium_puff/29213.jpg competition_data/train_25x25/trichodesmium_puff/29213.jpg"
       ]
      },
      {
       "output_type": "stream",
       "stream": "stdout",
       "text": [
        "\n",
        "convert -resize 25x25! competition_data/train/trichodesmium_puff/83889.jpg competition_data/train_25x25/trichodesmium_puff/83889.jpg"
       ]
      },
      {
       "output_type": "stream",
       "stream": "stdout",
       "text": [
        "\n",
        "convert -resize 25x25! competition_data/train/trichodesmium_puff/133008.jpg competition_data/train_25x25/trichodesmium_puff/133008.jpg"
       ]
      },
      {
       "output_type": "stream",
       "stream": "stdout",
       "text": [
        "\n",
        "convert -resize 25x25! competition_data/train/trichodesmium_puff/121833.jpg competition_data/train_25x25/trichodesmium_puff/121833.jpg"
       ]
      },
      {
       "output_type": "stream",
       "stream": "stdout",
       "text": [
        "\n",
        "convert -resize 25x25! competition_data/train/trichodesmium_puff/108209.jpg competition_data/train_25x25/trichodesmium_puff/108209.jpg"
       ]
      },
      {
       "output_type": "stream",
       "stream": "stdout",
       "text": [
        "\n",
        "convert -resize 25x25! competition_data/train/trichodesmium_puff/115573.jpg competition_data/train_25x25/trichodesmium_puff/115573.jpg"
       ]
      },
      {
       "output_type": "stream",
       "stream": "stdout",
       "text": [
        "\n",
        "convert -resize 25x25! competition_data/train/trichodesmium_puff/78877.jpg competition_data/train_25x25/trichodesmium_puff/78877.jpg"
       ]
      },
      {
       "output_type": "stream",
       "stream": "stdout",
       "text": [
        "\n",
        "convert -resize 25x25! competition_data/train/trichodesmium_puff/59225.jpg competition_data/train_25x25/trichodesmium_puff/59225.jpg"
       ]
      },
      {
       "output_type": "stream",
       "stream": "stdout",
       "text": [
        "\n",
        "convert -resize 25x25! competition_data/train/trichodesmium_puff/14278.jpg competition_data/train_25x25/trichodesmium_puff/14278.jpg"
       ]
      },
      {
       "output_type": "stream",
       "stream": "stdout",
       "text": [
        "\n",
        "convert -resize 25x25! competition_data/train/trichodesmium_puff/81134.jpg competition_data/train_25x25/trichodesmium_puff/81134.jpg"
       ]
      },
      {
       "output_type": "stream",
       "stream": "stdout",
       "text": [
        "\n",
        "convert -resize 25x25! competition_data/train/trichodesmium_puff/32767.jpg competition_data/train_25x25/trichodesmium_puff/32767.jpg"
       ]
      },
      {
       "output_type": "stream",
       "stream": "stdout",
       "text": [
        "\n",
        "convert -resize 25x25! competition_data/train/trichodesmium_puff/50388.jpg competition_data/train_25x25/trichodesmium_puff/50388.jpg"
       ]
      },
      {
       "output_type": "stream",
       "stream": "stdout",
       "text": [
        "\n",
        "convert -resize 25x25! competition_data/train/trichodesmium_puff/126242.jpg competition_data/train_25x25/trichodesmium_puff/126242.jpg"
       ]
      },
      {
       "output_type": "stream",
       "stream": "stdout",
       "text": [
        "\n",
        "convert -resize 25x25! competition_data/train/trichodesmium_puff/43028.jpg competition_data/train_25x25/trichodesmium_puff/43028.jpg"
       ]
      },
      {
       "output_type": "stream",
       "stream": "stdout",
       "text": [
        "\n",
        "convert -resize 25x25! competition_data/train/trichodesmium_puff/83422.jpg competition_data/train_25x25/trichodesmium_puff/83422.jpg"
       ]
      },
      {
       "output_type": "stream",
       "stream": "stdout",
       "text": [
        "\n",
        "convert -resize 25x25! competition_data/train/trichodesmium_puff/22974.jpg competition_data/train_25x25/trichodesmium_puff/22974.jpg"
       ]
      },
      {
       "output_type": "stream",
       "stream": "stdout",
       "text": [
        "\n",
        "convert -resize 25x25! competition_data/train/trichodesmium_puff/104399.jpg competition_data/train_25x25/trichodesmium_puff/104399.jpg"
       ]
      },
      {
       "output_type": "stream",
       "stream": "stdout",
       "text": [
        "\n",
        "convert -resize 25x25! competition_data/train/trichodesmium_puff/141522.jpg competition_data/train_25x25/trichodesmium_puff/141522.jpg"
       ]
      },
      {
       "output_type": "stream",
       "stream": "stdout",
       "text": [
        "\n",
        "convert -resize 25x25! competition_data/train/trichodesmium_puff/113013.jpg competition_data/train_25x25/trichodesmium_puff/113013.jpg"
       ]
      },
      {
       "output_type": "stream",
       "stream": "stdout",
       "text": [
        "\n",
        "convert -resize 25x25! competition_data/train/trichodesmium_puff/27958.jpg competition_data/train_25x25/trichodesmium_puff/27958.jpg"
       ]
      },
      {
       "output_type": "stream",
       "stream": "stdout",
       "text": [
        "\n",
        "convert -resize 25x25! competition_data/train/trichodesmium_puff/73080.jpg competition_data/train_25x25/trichodesmium_puff/73080.jpg"
       ]
      },
      {
       "output_type": "stream",
       "stream": "stdout",
       "text": [
        "\n",
        "convert -resize 25x25! competition_data/train/trichodesmium_puff/47238.jpg competition_data/train_25x25/trichodesmium_puff/47238.jpg"
       ]
      },
      {
       "output_type": "stream",
       "stream": "stdout",
       "text": [
        "\n",
        "convert -resize 25x25! competition_data/train/trichodesmium_puff/45086.jpg competition_data/train_25x25/trichodesmium_puff/45086.jpg"
       ]
      },
      {
       "output_type": "stream",
       "stream": "stdout",
       "text": [
        "\n",
        "convert -resize 25x25! competition_data/train/trichodesmium_puff/38882.jpg competition_data/train_25x25/trichodesmium_puff/38882.jpg"
       ]
      },
      {
       "output_type": "stream",
       "stream": "stdout",
       "text": [
        "\n",
        "convert -resize 25x25! competition_data/train/trichodesmium_puff/7576.jpg competition_data/train_25x25/trichodesmium_puff/7576.jpg"
       ]
      },
      {
       "output_type": "stream",
       "stream": "stdout",
       "text": [
        "\n",
        "convert -resize 25x25! competition_data/train/trichodesmium_puff/55716.jpg competition_data/train_25x25/trichodesmium_puff/55716.jpg"
       ]
      },
      {
       "output_type": "stream",
       "stream": "stdout",
       "text": [
        "\n",
        "convert -resize 25x25! competition_data/train/trichodesmium_puff/19664.jpg competition_data/train_25x25/trichodesmium_puff/19664.jpg"
       ]
      },
      {
       "output_type": "stream",
       "stream": "stdout",
       "text": [
        "\n",
        "convert -resize 25x25! competition_data/train/trichodesmium_puff/3072.jpg competition_data/train_25x25/trichodesmium_puff/3072.jpg"
       ]
      },
      {
       "output_type": "stream",
       "stream": "stdout",
       "text": [
        "\n",
        "convert -resize 25x25! competition_data/train/trichodesmium_puff/43795.jpg competition_data/train_25x25/trichodesmium_puff/43795.jpg"
       ]
      },
      {
       "output_type": "stream",
       "stream": "stdout",
       "text": [
        "\n",
        "convert -resize 25x25! competition_data/train/trichodesmium_puff/153813.jpg competition_data/train_25x25/trichodesmium_puff/153813.jpg"
       ]
      },
      {
       "output_type": "stream",
       "stream": "stdout",
       "text": [
        "\n",
        "convert -resize 25x25! competition_data/train/trichodesmium_puff/66179.jpg competition_data/train_25x25/trichodesmium_puff/66179.jpg"
       ]
      },
      {
       "output_type": "stream",
       "stream": "stdout",
       "text": [
        "\n",
        "convert -resize 25x25! competition_data/train/trichodesmium_puff/114030.jpg competition_data/train_25x25/trichodesmium_puff/114030.jpg"
       ]
      },
      {
       "output_type": "stream",
       "stream": "stdout",
       "text": [
        "\n",
        "convert -resize 25x25! competition_data/train/trichodesmium_puff/75808.jpg competition_data/train_25x25/trichodesmium_puff/75808.jpg"
       ]
      },
      {
       "output_type": "stream",
       "stream": "stdout",
       "text": [
        "\n",
        "convert -resize 25x25! competition_data/train/trichodesmium_puff/4792.jpg competition_data/train_25x25/trichodesmium_puff/4792.jpg"
       ]
      },
      {
       "output_type": "stream",
       "stream": "stdout",
       "text": [
        "\n",
        "convert -resize 25x25! competition_data/train/trichodesmium_puff/41616.jpg competition_data/train_25x25/trichodesmium_puff/41616.jpg\n",
        "convert -resize 25x25! competition_data/train/trichodesmium_puff/50315.jpg competition_data/train_25x25/trichodesmium_puff/50315.jpg"
       ]
      },
      {
       "output_type": "stream",
       "stream": "stdout",
       "text": [
        "\n",
        "convert -resize 25x25! competition_data/train/trichodesmium_puff/24948.jpg competition_data/train_25x25/trichodesmium_puff/24948.jpg"
       ]
      },
      {
       "output_type": "stream",
       "stream": "stdout",
       "text": [
        "\n",
        "convert -resize 25x25! competition_data/train/trichodesmium_puff/60316.jpg competition_data/train_25x25/trichodesmium_puff/60316.jpg"
       ]
      },
      {
       "output_type": "stream",
       "stream": "stdout",
       "text": [
        "\n",
        "convert -resize 25x25! competition_data/train/trichodesmium_puff/76248.jpg competition_data/train_25x25/trichodesmium_puff/76248.jpg"
       ]
      },
      {
       "output_type": "stream",
       "stream": "stdout",
       "text": [
        "\n",
        "convert -resize 25x25! competition_data/train/trichodesmium_puff/46559.jpg competition_data/train_25x25/trichodesmium_puff/46559.jpg"
       ]
      },
      {
       "output_type": "stream",
       "stream": "stdout",
       "text": [
        "\n",
        "convert -resize 25x25! competition_data/train/trichodesmium_puff/3783.jpg competition_data/train_25x25/trichodesmium_puff/3783.jpg"
       ]
      },
      {
       "output_type": "stream",
       "stream": "stdout",
       "text": [
        "\n",
        "convert -resize 25x25! competition_data/train/trichodesmium_puff/22790.jpg competition_data/train_25x25/trichodesmium_puff/22790.jpg"
       ]
      },
      {
       "output_type": "stream",
       "stream": "stdout",
       "text": [
        "\n",
        "convert -resize 25x25! competition_data/train/trichodesmium_puff/90947.jpg competition_data/train_25x25/trichodesmium_puff/90947.jpg"
       ]
      },
      {
       "output_type": "stream",
       "stream": "stdout",
       "text": [
        "\n",
        "convert -resize 25x25! competition_data/train/trichodesmium_puff/44386.jpg competition_data/train_25x25/trichodesmium_puff/44386.jpg"
       ]
      },
      {
       "output_type": "stream",
       "stream": "stdout",
       "text": [
        "\n",
        "convert -resize 25x25! competition_data/train/trichodesmium_puff/7318.jpg competition_data/train_25x25/trichodesmium_puff/7318.jpg"
       ]
      },
      {
       "output_type": "stream",
       "stream": "stdout",
       "text": [
        "\n",
        "convert -resize 25x25! competition_data/train/trichodesmium_puff/98720.jpg competition_data/train_25x25/trichodesmium_puff/98720.jpg"
       ]
      },
      {
       "output_type": "stream",
       "stream": "stdout",
       "text": [
        "\n",
        "convert -resize 25x25! competition_data/train/trichodesmium_puff/91103.jpg competition_data/train_25x25/trichodesmium_puff/91103.jpg"
       ]
      },
      {
       "output_type": "stream",
       "stream": "stdout",
       "text": [
        "\n",
        "convert -resize 25x25! competition_data/train/trichodesmium_puff/34030.jpg competition_data/train_25x25/trichodesmium_puff/34030.jpg"
       ]
      },
      {
       "output_type": "stream",
       "stream": "stdout",
       "text": [
        "\n",
        "convert -resize 25x25! competition_data/train/trichodesmium_puff/143775.jpg competition_data/train_25x25/trichodesmium_puff/143775.jpg"
       ]
      },
      {
       "output_type": "stream",
       "stream": "stdout",
       "text": [
        "\n",
        "convert -resize 25x25! competition_data/train/trichodesmium_puff/57169.jpg competition_data/train_25x25/trichodesmium_puff/57169.jpg"
       ]
      },
      {
       "output_type": "stream",
       "stream": "stdout",
       "text": [
        "\n",
        "convert -resize 25x25! competition_data/train/trichodesmium_puff/10417.jpg competition_data/train_25x25/trichodesmium_puff/10417.jpg"
       ]
      },
      {
       "output_type": "stream",
       "stream": "stdout",
       "text": [
        "\n",
        "convert -resize 25x25! competition_data/train/trichodesmium_puff/32505.jpg competition_data/train_25x25/trichodesmium_puff/32505.jpg"
       ]
      },
      {
       "output_type": "stream",
       "stream": "stdout",
       "text": [
        "\n",
        "convert -resize 25x25! competition_data/train/trichodesmium_puff/1031.jpg competition_data/train_25x25/trichodesmium_puff/1031.jpg"
       ]
      },
      {
       "output_type": "stream",
       "stream": "stdout",
       "text": [
        "\n",
        "convert -resize 25x25! competition_data/train/trichodesmium_puff/159671.jpg competition_data/train_25x25/trichodesmium_puff/159671.jpg"
       ]
      },
      {
       "output_type": "stream",
       "stream": "stdout",
       "text": [
        "\n",
        "convert -resize 25x25! competition_data/train/trichodesmium_puff/6276.jpg competition_data/train_25x25/trichodesmium_puff/6276.jpg"
       ]
      },
      {
       "output_type": "stream",
       "stream": "stdout",
       "text": [
        "\n",
        "convert -resize 25x25! competition_data/train/trichodesmium_puff/131667.jpg competition_data/train_25x25/trichodesmium_puff/131667.jpg"
       ]
      },
      {
       "output_type": "stream",
       "stream": "stdout",
       "text": [
        "\n",
        "convert -resize 25x25! competition_data/train/trichodesmium_puff/114449.jpg competition_data/train_25x25/trichodesmium_puff/114449.jpg"
       ]
      },
      {
       "output_type": "stream",
       "stream": "stdout",
       "text": [
        "\n",
        "convert -resize 25x25! competition_data/train/trichodesmium_puff/113787.jpg competition_data/train_25x25/trichodesmium_puff/113787.jpg"
       ]
      },
      {
       "output_type": "stream",
       "stream": "stdout",
       "text": [
        "\n",
        "convert -resize 25x25! competition_data/train/trichodesmium_puff/38406.jpg competition_data/train_25x25/trichodesmium_puff/38406.jpg"
       ]
      },
      {
       "output_type": "stream",
       "stream": "stdout",
       "text": [
        "\n",
        "convert -resize 25x25! competition_data/train/trichodesmium_puff/154004.jpg competition_data/train_25x25/trichodesmium_puff/154004.jpg"
       ]
      },
      {
       "output_type": "stream",
       "stream": "stdout",
       "text": [
        "\n",
        "convert -resize 25x25! competition_data/train/trichodesmium_puff/22893.jpg competition_data/train_25x25/trichodesmium_puff/22893.jpg"
       ]
      },
      {
       "output_type": "stream",
       "stream": "stdout",
       "text": [
        "\n",
        "convert -resize 25x25! competition_data/train/trichodesmium_puff/148358.jpg competition_data/train_25x25/trichodesmium_puff/148358.jpg"
       ]
      },
      {
       "output_type": "stream",
       "stream": "stdout",
       "text": [
        "\n",
        "convert -resize 25x25! competition_data/train/trichodesmium_puff/153190.jpg competition_data/train_25x25/trichodesmium_puff/153190.jpg"
       ]
      },
      {
       "output_type": "stream",
       "stream": "stdout",
       "text": [
        "\n",
        "convert -resize 25x25! competition_data/train/trichodesmium_puff/8693.jpg competition_data/train_25x25/trichodesmium_puff/8693.jpg"
       ]
      },
      {
       "output_type": "stream",
       "stream": "stdout",
       "text": [
        "\n",
        "convert -resize 25x25! competition_data/train/trichodesmium_puff/124921.jpg competition_data/train_25x25/trichodesmium_puff/124921.jpg"
       ]
      },
      {
       "output_type": "stream",
       "stream": "stdout",
       "text": [
        "\n",
        "convert -resize 25x25! competition_data/train/trichodesmium_puff/2199.jpg competition_data/train_25x25/trichodesmium_puff/2199.jpg\n",
        "convert -resize 25x25! competition_data/train/trichodesmium_puff/112866.jpg competition_data/train_25x25/trichodesmium_puff/112866.jpg"
       ]
      },
      {
       "output_type": "stream",
       "stream": "stdout",
       "text": [
        "\n",
        "convert -resize 25x25! competition_data/train/trichodesmium_puff/113439.jpg competition_data/train_25x25/trichodesmium_puff/113439.jpg"
       ]
      },
      {
       "output_type": "stream",
       "stream": "stdout",
       "text": [
        "\n",
        "convert -resize 25x25! competition_data/train/trichodesmium_puff/88839.jpg competition_data/train_25x25/trichodesmium_puff/88839.jpg"
       ]
      },
      {
       "output_type": "stream",
       "stream": "stdout",
       "text": [
        "\n",
        "convert -resize 25x25! competition_data/train/trichodesmium_puff/156351.jpg competition_data/train_25x25/trichodesmium_puff/156351.jpg"
       ]
      },
      {
       "output_type": "stream",
       "stream": "stdout",
       "text": [
        "\n",
        "convert -resize 25x25! competition_data/train/trichodesmium_puff/73292.jpg competition_data/train_25x25/trichodesmium_puff/73292.jpg"
       ]
      },
      {
       "output_type": "stream",
       "stream": "stdout",
       "text": [
        "\n",
        "convert -resize 25x25! competition_data/train/trichodesmium_puff/28728.jpg competition_data/train_25x25/trichodesmium_puff/28728.jpg"
       ]
      },
      {
       "output_type": "stream",
       "stream": "stdout",
       "text": [
        "\n",
        "convert -resize 25x25! competition_data/train/trichodesmium_puff/47809.jpg competition_data/train_25x25/trichodesmium_puff/47809.jpg"
       ]
      },
      {
       "output_type": "stream",
       "stream": "stdout",
       "text": [
        "\n",
        "convert -resize 25x25! competition_data/train/trichodesmium_puff/79812.jpg competition_data/train_25x25/trichodesmium_puff/79812.jpg"
       ]
      },
      {
       "output_type": "stream",
       "stream": "stdout",
       "text": [
        "\n",
        "convert -resize 25x25! competition_data/train/trichodesmium_puff/12594.jpg competition_data/train_25x25/trichodesmium_puff/12594.jpg"
       ]
      },
      {
       "output_type": "stream",
       "stream": "stdout",
       "text": [
        "\n",
        "convert -resize 25x25! competition_data/train/trichodesmium_puff/5818.jpg competition_data/train_25x25/trichodesmium_puff/5818.jpg"
       ]
      },
      {
       "output_type": "stream",
       "stream": "stdout",
       "text": [
        "\n",
        "convert -resize 25x25! competition_data/train/trichodesmium_puff/160545.jpg competition_data/train_25x25/trichodesmium_puff/160545.jpg"
       ]
      },
      {
       "output_type": "stream",
       "stream": "stdout",
       "text": [
        "\n",
        "convert -resize 25x25! competition_data/train/trichodesmium_puff/121255.jpg competition_data/train_25x25/trichodesmium_puff/121255.jpg"
       ]
      },
      {
       "output_type": "stream",
       "stream": "stdout",
       "text": [
        "\n",
        "convert -resize 25x25! competition_data/train/trichodesmium_puff/40737.jpg competition_data/train_25x25/trichodesmium_puff/40737.jpg"
       ]
      },
      {
       "output_type": "stream",
       "stream": "stdout",
       "text": [
        "\n",
        "convert -resize 25x25! competition_data/train/trichodesmium_puff/15505.jpg competition_data/train_25x25/trichodesmium_puff/15505.jpg"
       ]
      },
      {
       "output_type": "stream",
       "stream": "stdout",
       "text": [
        "\n",
        "convert -resize 25x25! competition_data/train/trichodesmium_puff/90504.jpg competition_data/train_25x25/trichodesmium_puff/90504.jpg"
       ]
      },
      {
       "output_type": "stream",
       "stream": "stdout",
       "text": [
        "\n",
        "convert -resize 25x25! competition_data/train/trichodesmium_puff/143985.jpg competition_data/train_25x25/trichodesmium_puff/143985.jpg"
       ]
      },
      {
       "output_type": "stream",
       "stream": "stdout",
       "text": [
        "\n",
        "convert -resize 25x25! competition_data/train/trichodesmium_puff/79419.jpg competition_data/train_25x25/trichodesmium_puff/79419.jpg"
       ]
      },
      {
       "output_type": "stream",
       "stream": "stdout",
       "text": [
        "\n",
        "convert -resize 25x25! competition_data/train/trichodesmium_puff/58854.jpg competition_data/train_25x25/trichodesmium_puff/58854.jpg"
       ]
      },
      {
       "output_type": "stream",
       "stream": "stdout",
       "text": [
        "\n",
        "convert -resize 25x25! competition_data/train/trichodesmium_puff/44143.jpg competition_data/train_25x25/trichodesmium_puff/44143.jpg"
       ]
      },
      {
       "output_type": "stream",
       "stream": "stdout",
       "text": [
        "\n",
        "convert -resize 25x25! competition_data/train/trichodesmium_puff/52222.jpg competition_data/train_25x25/trichodesmium_puff/52222.jpg"
       ]
      },
      {
       "output_type": "stream",
       "stream": "stdout",
       "text": [
        "\n",
        "convert -resize 25x25! competition_data/train/trichodesmium_puff/51738.jpg competition_data/train_25x25/trichodesmium_puff/51738.jpg"
       ]
      },
      {
       "output_type": "stream",
       "stream": "stdout",
       "text": [
        "\n",
        "convert -resize 25x25! competition_data/train/trichodesmium_puff/74872.jpg competition_data/train_25x25/trichodesmium_puff/74872.jpg"
       ]
      },
      {
       "output_type": "stream",
       "stream": "stdout",
       "text": [
        "\n",
        "convert -resize 25x25! competition_data/train/trichodesmium_puff/159330.jpg competition_data/train_25x25/trichodesmium_puff/159330.jpg"
       ]
      },
      {
       "output_type": "stream",
       "stream": "stdout",
       "text": [
        "\n",
        "convert -resize 25x25! competition_data/train/trichodesmium_puff/36058.jpg competition_data/train_25x25/trichodesmium_puff/36058.jpg"
       ]
      },
      {
       "output_type": "stream",
       "stream": "stdout",
       "text": [
        "\n",
        "convert -resize 25x25! competition_data/train/trichodesmium_puff/57265.jpg competition_data/train_25x25/trichodesmium_puff/57265.jpg"
       ]
      },
      {
       "output_type": "stream",
       "stream": "stdout",
       "text": [
        "\n",
        "convert -resize 25x25! competition_data/train/trichodesmium_puff/157022.jpg competition_data/train_25x25/trichodesmium_puff/157022.jpg"
       ]
      },
      {
       "output_type": "stream",
       "stream": "stdout",
       "text": [
        "\n",
        "convert -resize 25x25! competition_data/train/trichodesmium_puff/63731.jpg competition_data/train_25x25/trichodesmium_puff/63731.jpg"
       ]
      },
      {
       "output_type": "stream",
       "stream": "stdout",
       "text": [
        "\n",
        "convert -resize 25x25! competition_data/train/trichodesmium_puff/5375.jpg competition_data/train_25x25/trichodesmium_puff/5375.jpg"
       ]
      },
      {
       "output_type": "stream",
       "stream": "stdout",
       "text": [
        "\n",
        "convert -resize 25x25! competition_data/train/trichodesmium_puff/109003.jpg competition_data/train_25x25/trichodesmium_puff/109003.jpg"
       ]
      },
      {
       "output_type": "stream",
       "stream": "stdout",
       "text": [
        "\n",
        "convert -resize 25x25! competition_data/train/trichodesmium_puff/107379.jpg competition_data/train_25x25/trichodesmium_puff/107379.jpg"
       ]
      },
      {
       "output_type": "stream",
       "stream": "stdout",
       "text": [
        "\n",
        "convert -resize 25x25! competition_data/train/trichodesmium_puff/16201.jpg competition_data/train_25x25/trichodesmium_puff/16201.jpg"
       ]
      },
      {
       "output_type": "stream",
       "stream": "stdout",
       "text": [
        "\n",
        "convert -resize 25x25! competition_data/train/trichodesmium_puff/133527.jpg competition_data/train_25x25/trichodesmium_puff/133527.jpg"
       ]
      },
      {
       "output_type": "stream",
       "stream": "stdout",
       "text": [
        "\n",
        "convert -resize 25x25! competition_data/train/trichodesmium_puff/38960.jpg competition_data/train_25x25/trichodesmium_puff/38960.jpg"
       ]
      },
      {
       "output_type": "stream",
       "stream": "stdout",
       "text": [
        "\n",
        "convert -resize 25x25! competition_data/train/trichodesmium_puff/65435.jpg competition_data/train_25x25/trichodesmium_puff/65435.jpg"
       ]
      },
      {
       "output_type": "stream",
       "stream": "stdout",
       "text": [
        "\n",
        "convert -resize 25x25! competition_data/train/trichodesmium_puff/68330.jpg competition_data/train_25x25/trichodesmium_puff/68330.jpg"
       ]
      },
      {
       "output_type": "stream",
       "stream": "stdout",
       "text": [
        "\n",
        "convert -resize 25x25! competition_data/train/trichodesmium_puff/117991.jpg competition_data/train_25x25/trichodesmium_puff/117991.jpg"
       ]
      },
      {
       "output_type": "stream",
       "stream": "stdout",
       "text": [
        "\n",
        "convert -resize 25x25! competition_data/train/trichodesmium_puff/58213.jpg competition_data/train_25x25/trichodesmium_puff/58213.jpg"
       ]
      },
      {
       "output_type": "stream",
       "stream": "stdout",
       "text": [
        "\n",
        "convert -resize 25x25! competition_data/train/trichodesmium_puff/151905.jpg competition_data/train_25x25/trichodesmium_puff/151905.jpg"
       ]
      },
      {
       "output_type": "stream",
       "stream": "stdout",
       "text": [
        "\n",
        "convert -resize 25x25! competition_data/train/trichodesmium_puff/150369.jpg competition_data/train_25x25/trichodesmium_puff/150369.jpg"
       ]
      },
      {
       "output_type": "stream",
       "stream": "stdout",
       "text": [
        "\n",
        "convert -resize 25x25! competition_data/train/trichodesmium_puff/45302.jpg competition_data/train_25x25/trichodesmium_puff/45302.jpg"
       ]
      },
      {
       "output_type": "stream",
       "stream": "stdout",
       "text": [
        "\n",
        "convert -resize 25x25! competition_data/train/trichodesmium_puff/14009.jpg competition_data/train_25x25/trichodesmium_puff/14009.jpg"
       ]
      },
      {
       "output_type": "stream",
       "stream": "stdout",
       "text": [
        "\n",
        "convert -resize 25x25! competition_data/train/trichodesmium_puff/73384.jpg competition_data/train_25x25/trichodesmium_puff/73384.jpg"
       ]
      },
      {
       "output_type": "stream",
       "stream": "stdout",
       "text": [
        "\n",
        "convert -resize 25x25! competition_data/train/trichodesmium_puff/136846.jpg competition_data/train_25x25/trichodesmium_puff/136846.jpg"
       ]
      },
      {
       "output_type": "stream",
       "stream": "stdout",
       "text": [
        "\n",
        "convert -resize 25x25! competition_data/train/trichodesmium_puff/114170.jpg competition_data/train_25x25/trichodesmium_puff/114170.jpg"
       ]
      },
      {
       "output_type": "stream",
       "stream": "stdout",
       "text": [
        "\n",
        "convert -resize 25x25! competition_data/train/trichodesmium_puff/40666.jpg competition_data/train_25x25/trichodesmium_puff/40666.jpg"
       ]
      },
      {
       "output_type": "stream",
       "stream": "stdout",
       "text": [
        "\n",
        "convert -resize 25x25! competition_data/train/trichodesmium_puff/42810.jpg competition_data/train_25x25/trichodesmium_puff/42810.jpg"
       ]
      },
      {
       "output_type": "stream",
       "stream": "stdout",
       "text": [
        "\n",
        "convert -resize 25x25! competition_data/train/trichodesmium_puff/67925.jpg competition_data/train_25x25/trichodesmium_puff/67925.jpg"
       ]
      },
      {
       "output_type": "stream",
       "stream": "stdout",
       "text": [
        "\n",
        "convert -resize 25x25! competition_data/train/trichodesmium_puff/141775.jpg competition_data/train_25x25/trichodesmium_puff/141775.jpg"
       ]
      },
      {
       "output_type": "stream",
       "stream": "stdout",
       "text": [
        "\n",
        "convert -resize 25x25! competition_data/train/trichodesmium_puff/137018.jpg competition_data/train_25x25/trichodesmium_puff/137018.jpg"
       ]
      },
      {
       "output_type": "stream",
       "stream": "stdout",
       "text": [
        "\n",
        "convert -resize 25x25! competition_data/train/trichodesmium_puff/126399.jpg competition_data/train_25x25/trichodesmium_puff/126399.jpg"
       ]
      },
      {
       "output_type": "stream",
       "stream": "stdout",
       "text": [
        "\n",
        "convert -resize 25x25! competition_data/train/trichodesmium_puff/26367.jpg competition_data/train_25x25/trichodesmium_puff/26367.jpg"
       ]
      },
      {
       "output_type": "stream",
       "stream": "stdout",
       "text": [
        "\n",
        "convert -resize 25x25! competition_data/train/trichodesmium_puff/16435.jpg competition_data/train_25x25/trichodesmium_puff/16435.jpg"
       ]
      },
      {
       "output_type": "stream",
       "stream": "stdout",
       "text": [
        "\n",
        "convert -resize 25x25! competition_data/train/trichodesmium_puff/111043.jpg competition_data/train_25x25/trichodesmium_puff/111043.jpg"
       ]
      },
      {
       "output_type": "stream",
       "stream": "stdout",
       "text": [
        "\n",
        "convert -resize 25x25! competition_data/train/trichodesmium_puff/149330.jpg competition_data/train_25x25/trichodesmium_puff/149330.jpg"
       ]
      },
      {
       "output_type": "stream",
       "stream": "stdout",
       "text": [
        "\n",
        "convert -resize 25x25! competition_data/train/trichodesmium_puff/106890.jpg competition_data/train_25x25/trichodesmium_puff/106890.jpg"
       ]
      },
      {
       "output_type": "stream",
       "stream": "stdout",
       "text": [
        "\n",
        "convert -resize 25x25! competition_data/train/trichodesmium_puff/20972.jpg competition_data/train_25x25/trichodesmium_puff/20972.jpg"
       ]
      },
      {
       "output_type": "stream",
       "stream": "stdout",
       "text": [
        "\n",
        "convert -resize 25x25! competition_data/train/trichodesmium_puff/49404.jpg competition_data/train_25x25/trichodesmium_puff/49404.jpg"
       ]
      },
      {
       "output_type": "stream",
       "stream": "stdout",
       "text": [
        "\n",
        "convert -resize 25x25! competition_data/train/trichodesmium_puff/8962.jpg competition_data/train_25x25/trichodesmium_puff/8962.jpg"
       ]
      },
      {
       "output_type": "stream",
       "stream": "stdout",
       "text": [
        "\n",
        "convert -resize 25x25! competition_data/train/trichodesmium_puff/112726.jpg competition_data/train_25x25/trichodesmium_puff/112726.jpg"
       ]
      },
      {
       "output_type": "stream",
       "stream": "stdout",
       "text": [
        "\n",
        "convert -resize 25x25! competition_data/train/trichodesmium_puff/111852.jpg competition_data/train_25x25/trichodesmium_puff/111852.jpg"
       ]
      },
      {
       "output_type": "stream",
       "stream": "stdout",
       "text": [
        "\n",
        "convert -resize 25x25! competition_data/train/trichodesmium_puff/55556.jpg competition_data/train_25x25/trichodesmium_puff/55556.jpg"
       ]
      },
      {
       "output_type": "stream",
       "stream": "stdout",
       "text": [
        "\n",
        "convert -resize 25x25! competition_data/train/trichodesmium_puff/54934.jpg competition_data/train_25x25/trichodesmium_puff/54934.jpg"
       ]
      },
      {
       "output_type": "stream",
       "stream": "stdout",
       "text": [
        "\n",
        "convert -resize 25x25! competition_data/train/trichodesmium_puff/131654.jpg competition_data/train_25x25/trichodesmium_puff/131654.jpg"
       ]
      },
      {
       "output_type": "stream",
       "stream": "stdout",
       "text": [
        "\n",
        "convert -resize 25x25! competition_data/train/trichodesmium_puff/45765.jpg competition_data/train_25x25/trichodesmium_puff/45765.jpg"
       ]
      },
      {
       "output_type": "stream",
       "stream": "stdout",
       "text": [
        "\n",
        "convert -resize 25x25! competition_data/train/trichodesmium_puff/90897.jpg competition_data/train_25x25/trichodesmium_puff/90897.jpg"
       ]
      },
      {
       "output_type": "stream",
       "stream": "stdout",
       "text": [
        "\n",
        "convert -resize 25x25! competition_data/train/trichodesmium_puff/33147.jpg competition_data/train_25x25/trichodesmium_puff/33147.jpg"
       ]
      },
      {
       "output_type": "stream",
       "stream": "stdout",
       "text": [
        "\n",
        "convert -resize 25x25! competition_data/train/trichodesmium_puff/27855.jpg competition_data/train_25x25/trichodesmium_puff/27855.jpg"
       ]
      },
      {
       "output_type": "stream",
       "stream": "stdout",
       "text": [
        "\n",
        "convert -resize 25x25! competition_data/train/trichodesmium_puff/143256.jpg competition_data/train_25x25/trichodesmium_puff/143256.jpg"
       ]
      },
      {
       "output_type": "stream",
       "stream": "stdout",
       "text": [
        "\n",
        "convert -resize 25x25! competition_data/train/trichodesmium_puff/79642.jpg competition_data/train_25x25/trichodesmium_puff/79642.jpg"
       ]
      },
      {
       "output_type": "stream",
       "stream": "stdout",
       "text": [
        "\n",
        "convert -resize 25x25! competition_data/train/trichodesmium_puff/88841.jpg competition_data/train_25x25/trichodesmium_puff/88841.jpg"
       ]
      },
      {
       "output_type": "stream",
       "stream": "stdout",
       "text": [
        "\n",
        "convert -resize 25x25! competition_data/train/trichodesmium_puff/69258.jpg competition_data/train_25x25/trichodesmium_puff/69258.jpg"
       ]
      },
      {
       "output_type": "stream",
       "stream": "stdout",
       "text": [
        "\n",
        "convert -resize 25x25! competition_data/train/trichodesmium_puff/89449.jpg competition_data/train_25x25/trichodesmium_puff/89449.jpg"
       ]
      },
      {
       "output_type": "stream",
       "stream": "stdout",
       "text": [
        "\n",
        "convert -resize 25x25! competition_data/train/trichodesmium_puff/137202.jpg competition_data/train_25x25/trichodesmium_puff/137202.jpg"
       ]
      },
      {
       "output_type": "stream",
       "stream": "stdout",
       "text": [
        "\n",
        "convert -resize 25x25! competition_data/train/trichodesmium_puff/75670.jpg competition_data/train_25x25/trichodesmium_puff/75670.jpg"
       ]
      },
      {
       "output_type": "stream",
       "stream": "stdout",
       "text": [
        "\n",
        "convert -resize 25x25! competition_data/train/trichodesmium_puff/53747.jpg competition_data/train_25x25/trichodesmium_puff/53747.jpg"
       ]
      },
      {
       "output_type": "stream",
       "stream": "stdout",
       "text": [
        "\n",
        "convert -resize 25x25! competition_data/train/trichodesmium_puff/75567.jpg competition_data/train_25x25/trichodesmium_puff/75567.jpg"
       ]
      },
      {
       "output_type": "stream",
       "stream": "stdout",
       "text": [
        "\n",
        "convert -resize 25x25! competition_data/train/trichodesmium_puff/68885.jpg competition_data/train_25x25/trichodesmium_puff/68885.jpg"
       ]
      },
      {
       "output_type": "stream",
       "stream": "stdout",
       "text": [
        "\n",
        "convert -resize 25x25! competition_data/train/trichodesmium_puff/153810.jpg competition_data/train_25x25/trichodesmium_puff/153810.jpg"
       ]
      },
      {
       "output_type": "stream",
       "stream": "stdout",
       "text": [
        "\n",
        "convert -resize 25x25! competition_data/train/trichodesmium_puff/94364.jpg competition_data/train_25x25/trichodesmium_puff/94364.jpg"
       ]
      },
      {
       "output_type": "stream",
       "stream": "stdout",
       "text": [
        "\n",
        "convert -resize 25x25! competition_data/train/trichodesmium_puff/142244.jpg competition_data/train_25x25/trichodesmium_puff/142244.jpg"
       ]
      },
      {
       "output_type": "stream",
       "stream": "stdout",
       "text": [
        "\n",
        "convert -resize 25x25! competition_data/train/trichodesmium_puff/151690.jpg competition_data/train_25x25/trichodesmium_puff/151690.jpg"
       ]
      },
      {
       "output_type": "stream",
       "stream": "stdout",
       "text": [
        "\n",
        "convert -resize 25x25! competition_data/train/trichodesmium_puff/4541.jpg competition_data/train_25x25/trichodesmium_puff/4541.jpg"
       ]
      },
      {
       "output_type": "stream",
       "stream": "stdout",
       "text": [
        "\n",
        "convert -resize 25x25! competition_data/train/trichodesmium_puff/44946.jpg competition_data/train_25x25/trichodesmium_puff/44946.jpg"
       ]
      },
      {
       "output_type": "stream",
       "stream": "stdout",
       "text": [
        "\n",
        "convert -resize 25x25! competition_data/train/trichodesmium_puff/155027.jpg competition_data/train_25x25/trichodesmium_puff/155027.jpg"
       ]
      },
      {
       "output_type": "stream",
       "stream": "stdout",
       "text": [
        "\n",
        "convert -resize 25x25! competition_data/train/trichodesmium_puff/47497.jpg competition_data/train_25x25/trichodesmium_puff/47497.jpg"
       ]
      },
      {
       "output_type": "stream",
       "stream": "stdout",
       "text": [
        "\n",
        "convert -resize 25x25! competition_data/train/trichodesmium_puff/8060.jpg competition_data/train_25x25/trichodesmium_puff/8060.jpg"
       ]
      },
      {
       "output_type": "stream",
       "stream": "stdout",
       "text": [
        "\n",
        "convert -resize 25x25! competition_data/train/trichodesmium_puff/61087.jpg competition_data/train_25x25/trichodesmium_puff/61087.jpg"
       ]
      },
      {
       "output_type": "stream",
       "stream": "stdout",
       "text": [
        "\n",
        "convert -resize 25x25! competition_data/train/trichodesmium_puff/19811.jpg competition_data/train_25x25/trichodesmium_puff/19811.jpg"
       ]
      },
      {
       "output_type": "stream",
       "stream": "stdout",
       "text": [
        "\n",
        "convert -resize 25x25! competition_data/train/trichodesmium_puff/124984.jpg competition_data/train_25x25/trichodesmium_puff/124984.jpg"
       ]
      },
      {
       "output_type": "stream",
       "stream": "stdout",
       "text": [
        "\n",
        "convert -resize 25x25! competition_data/train/trichodesmium_puff/124014.jpg competition_data/train_25x25/trichodesmium_puff/124014.jpg"
       ]
      },
      {
       "output_type": "stream",
       "stream": "stdout",
       "text": [
        "\n",
        "convert -resize 25x25! competition_data/train/trichodesmium_puff/46566.jpg competition_data/train_25x25/trichodesmium_puff/46566.jpg"
       ]
      },
      {
       "output_type": "stream",
       "stream": "stdout",
       "text": [
        "\n",
        "convert -resize 25x25! competition_data/train/trichodesmium_puff/99843.jpg competition_data/train_25x25/trichodesmium_puff/99843.jpg"
       ]
      },
      {
       "output_type": "stream",
       "stream": "stdout",
       "text": [
        "\n",
        "convert -resize 25x25! competition_data/train/trichodesmium_puff/41456.jpg competition_data/train_25x25/trichodesmium_puff/41456.jpg"
       ]
      },
      {
       "output_type": "stream",
       "stream": "stdout",
       "text": [
        "\n",
        "convert -resize 25x25! competition_data/train/trichodesmium_puff/122494.jpg competition_data/train_25x25/trichodesmium_puff/122494.jpg"
       ]
      },
      {
       "output_type": "stream",
       "stream": "stdout",
       "text": [
        "\n",
        "convert -resize 25x25! competition_data/train/trichodesmium_puff/28482.jpg competition_data/train_25x25/trichodesmium_puff/28482.jpg"
       ]
      },
      {
       "output_type": "stream",
       "stream": "stdout",
       "text": [
        "\n",
        "convert -resize 25x25! competition_data/train/trichodesmium_puff/86293.jpg competition_data/train_25x25/trichodesmium_puff/86293.jpg"
       ]
      },
      {
       "output_type": "stream",
       "stream": "stdout",
       "text": [
        "\n",
        "convert -resize 25x25! competition_data/train/trichodesmium_puff/138614.jpg competition_data/train_25x25/trichodesmium_puff/138614.jpg"
       ]
      },
      {
       "output_type": "stream",
       "stream": "stdout",
       "text": [
        "\n",
        "convert -resize 25x25! competition_data/train/trichodesmium_puff/3289.jpg competition_data/train_25x25/trichodesmium_puff/3289.jpg"
       ]
      },
      {
       "output_type": "stream",
       "stream": "stdout",
       "text": [
        "\n",
        "convert -resize 25x25! competition_data/train/trichodesmium_puff/10904.jpg competition_data/train_25x25/trichodesmium_puff/10904.jpg"
       ]
      },
      {
       "output_type": "stream",
       "stream": "stdout",
       "text": [
        "\n",
        "convert -resize 25x25! competition_data/train/trichodesmium_puff/27452.jpg competition_data/train_25x25/trichodesmium_puff/27452.jpg"
       ]
      },
      {
       "output_type": "stream",
       "stream": "stdout",
       "text": [
        "\n",
        "convert -resize 25x25! competition_data/train/trichodesmium_puff/84205.jpg competition_data/train_25x25/trichodesmium_puff/84205.jpg"
       ]
      },
      {
       "output_type": "stream",
       "stream": "stdout",
       "text": [
        "\n",
        "convert -resize 25x25! competition_data/train/trichodesmium_puff/138990.jpg competition_data/train_25x25/trichodesmium_puff/138990.jpg"
       ]
      },
      {
       "output_type": "stream",
       "stream": "stdout",
       "text": [
        "\n",
        "convert -resize 25x25! competition_data/train/trichodesmium_puff/87345.jpg competition_data/train_25x25/trichodesmium_puff/87345.jpg"
       ]
      },
      {
       "output_type": "stream",
       "stream": "stdout",
       "text": [
        "\n",
        "convert -resize 25x25! competition_data/train/trichodesmium_puff/5554.jpg competition_data/train_25x25/trichodesmium_puff/5554.jpg"
       ]
      },
      {
       "output_type": "stream",
       "stream": "stdout",
       "text": [
        "\n",
        "convert -resize 25x25! competition_data/train/trichodesmium_puff/117728.jpg competition_data/train_25x25/trichodesmium_puff/117728.jpg"
       ]
      },
      {
       "output_type": "stream",
       "stream": "stdout",
       "text": [
        "\n",
        "convert -resize 25x25! competition_data/train/trichodesmium_puff/151793.jpg competition_data/train_25x25/trichodesmium_puff/151793.jpg\n",
        "convert -resize 25x25! competition_data/train/trichodesmium_puff/43574.jpg competition_data/train_25x25/trichodesmium_puff/43574.jpg"
       ]
      },
      {
       "output_type": "stream",
       "stream": "stdout",
       "text": [
        "\n",
        "convert -resize 25x25! competition_data/train/trichodesmium_puff/133100.jpg competition_data/train_25x25/trichodesmium_puff/133100.jpg"
       ]
      },
      {
       "output_type": "stream",
       "stream": "stdout",
       "text": [
        "\n",
        "convert -resize 25x25! competition_data/train/trichodesmium_puff/120990.jpg competition_data/train_25x25/trichodesmium_puff/120990.jpg"
       ]
      },
      {
       "output_type": "stream",
       "stream": "stdout",
       "text": [
        "\n",
        "convert -resize 25x25! competition_data/train/trichodesmium_puff/145728.jpg competition_data/train_25x25/trichodesmium_puff/145728.jpg"
       ]
      },
      {
       "output_type": "stream",
       "stream": "stdout",
       "text": [
        "\n",
        "convert -resize 25x25! competition_data/train/trichodesmium_puff/145513.jpg competition_data/train_25x25/trichodesmium_puff/145513.jpg"
       ]
      },
      {
       "output_type": "stream",
       "stream": "stdout",
       "text": [
        "\n",
        "convert -resize 25x25! competition_data/train/trichodesmium_puff/125383.jpg competition_data/train_25x25/trichodesmium_puff/125383.jpg"
       ]
      },
      {
       "output_type": "stream",
       "stream": "stdout",
       "text": [
        "\n",
        "convert -resize 25x25! competition_data/train/trichodesmium_puff/117701.jpg competition_data/train_25x25/trichodesmium_puff/117701.jpg\n",
        "convert -resize 25x25! competition_data/train/trichodesmium_puff/66398.jpg competition_data/train_25x25/trichodesmium_puff/66398.jpg"
       ]
      },
      {
       "output_type": "stream",
       "stream": "stdout",
       "text": [
        "\n",
        "convert -resize 25x25! competition_data/train/trichodesmium_puff/42521.jpg competition_data/train_25x25/trichodesmium_puff/42521.jpg"
       ]
      },
      {
       "output_type": "stream",
       "stream": "stdout",
       "text": [
        "\n",
        "convert -resize 25x25! competition_data/train/trichodesmium_puff/106968.jpg competition_data/train_25x25/trichodesmium_puff/106968.jpg"
       ]
      },
      {
       "output_type": "stream",
       "stream": "stdout",
       "text": [
        "\n",
        "convert -resize 25x25! competition_data/train/trichodesmium_puff/73612.jpg competition_data/train_25x25/trichodesmium_puff/73612.jpg"
       ]
      },
      {
       "output_type": "stream",
       "stream": "stdout",
       "text": [
        "\n",
        "convert -resize 25x25! competition_data/train/trichodesmium_puff/94622.jpg competition_data/train_25x25/trichodesmium_puff/94622.jpg"
       ]
      },
      {
       "output_type": "stream",
       "stream": "stdout",
       "text": [
        "\n",
        "convert -resize 25x25! competition_data/train/trichodesmium_puff/140398.jpg competition_data/train_25x25/trichodesmium_puff/140398.jpg"
       ]
      },
      {
       "output_type": "stream",
       "stream": "stdout",
       "text": [
        "\n",
        "convert -resize 25x25! competition_data/train/trichodesmium_puff/64735.jpg competition_data/train_25x25/trichodesmium_puff/64735.jpg"
       ]
      },
      {
       "output_type": "stream",
       "stream": "stdout",
       "text": [
        "\n",
        "convert -resize 25x25! competition_data/train/trichodesmium_puff/17279.jpg competition_data/train_25x25/trichodesmium_puff/17279.jpg"
       ]
      },
      {
       "output_type": "stream",
       "stream": "stdout",
       "text": [
        "\n",
        "convert -resize 25x25! competition_data/train/trichodesmium_puff/101730.jpg competition_data/train_25x25/trichodesmium_puff/101730.jpg"
       ]
      },
      {
       "output_type": "stream",
       "stream": "stdout",
       "text": [
        "\n",
        "convert -resize 25x25! competition_data/train/trichodesmium_puff/19945.jpg competition_data/train_25x25/trichodesmium_puff/19945.jpg"
       ]
      },
      {
       "output_type": "stream",
       "stream": "stdout",
       "text": [
        "\n",
        "convert -resize 25x25! competition_data/train/trichodesmium_puff/11889.jpg competition_data/train_25x25/trichodesmium_puff/11889.jpg"
       ]
      },
      {
       "output_type": "stream",
       "stream": "stdout",
       "text": [
        "\n",
        "convert -resize 25x25! competition_data/train/trichodesmium_puff/2649.jpg competition_data/train_25x25/trichodesmium_puff/2649.jpg"
       ]
      },
      {
       "output_type": "stream",
       "stream": "stdout",
       "text": [
        "\n",
        "convert -resize 25x25! competition_data/train/trichodesmium_puff/146232.jpg competition_data/train_25x25/trichodesmium_puff/146232.jpg"
       ]
      },
      {
       "output_type": "stream",
       "stream": "stdout",
       "text": [
        "\n",
        "convert -resize 25x25! competition_data/train/trichodesmium_puff/149060.jpg competition_data/train_25x25/trichodesmium_puff/149060.jpg"
       ]
      },
      {
       "output_type": "stream",
       "stream": "stdout",
       "text": [
        "\n",
        "convert -resize 25x25! competition_data/train/trichodesmium_puff/150844.jpg competition_data/train_25x25/trichodesmium_puff/150844.jpg"
       ]
      },
      {
       "output_type": "stream",
       "stream": "stdout",
       "text": [
        "\n",
        "convert -resize 25x25! competition_data/train/trichodesmium_puff/13869.jpg competition_data/train_25x25/trichodesmium_puff/13869.jpg"
       ]
      },
      {
       "output_type": "stream",
       "stream": "stdout",
       "text": [
        "\n",
        "convert -resize 25x25! competition_data/train/trichodesmium_puff/96881.jpg competition_data/train_25x25/trichodesmium_puff/96881.jpg"
       ]
      },
      {
       "output_type": "stream",
       "stream": "stdout",
       "text": [
        "\n",
        "convert -resize 25x25! competition_data/train/trichodesmium_puff/112497.jpg competition_data/train_25x25/trichodesmium_puff/112497.jpg"
       ]
      },
      {
       "output_type": "stream",
       "stream": "stdout",
       "text": [
        "\n",
        "convert -resize 25x25! competition_data/train/trichodesmium_puff/126405.jpg competition_data/train_25x25/trichodesmium_puff/126405.jpg"
       ]
      },
      {
       "output_type": "stream",
       "stream": "stdout",
       "text": [
        "\n",
        "convert -resize 25x25! competition_data/train/trichodesmium_puff/127257.jpg competition_data/train_25x25/trichodesmium_puff/127257.jpg"
       ]
      },
      {
       "output_type": "stream",
       "stream": "stdout",
       "text": [
        "\n",
        "convert -resize 25x25! competition_data/train/trichodesmium_puff/28647.jpg competition_data/train_25x25/trichodesmium_puff/28647.jpg"
       ]
      },
      {
       "output_type": "stream",
       "stream": "stdout",
       "text": [
        "\n",
        "convert -resize 25x25! competition_data/train/trichodesmium_puff/116348.jpg competition_data/train_25x25/trichodesmium_puff/116348.jpg"
       ]
      },
      {
       "output_type": "stream",
       "stream": "stdout",
       "text": [
        "\n",
        "convert -resize 25x25! competition_data/train/trichodesmium_puff/56054.jpg competition_data/train_25x25/trichodesmium_puff/56054.jpg"
       ]
      },
      {
       "output_type": "stream",
       "stream": "stdout",
       "text": [
        "\n",
        "convert -resize 25x25! competition_data/train/trichodesmium_puff/103949.jpg competition_data/train_25x25/trichodesmium_puff/103949.jpg"
       ]
      },
      {
       "output_type": "stream",
       "stream": "stdout",
       "text": [
        "\n",
        "convert -resize 25x25! competition_data/train/trichodesmium_puff/95599.jpg competition_data/train_25x25/trichodesmium_puff/95599.jpg"
       ]
      },
      {
       "output_type": "stream",
       "stream": "stdout",
       "text": [
        "\n",
        "convert -resize 25x25! competition_data/train/trichodesmium_puff/24109.jpg competition_data/train_25x25/trichodesmium_puff/24109.jpg"
       ]
      },
      {
       "output_type": "stream",
       "stream": "stdout",
       "text": [
        "\n",
        "convert -resize 25x25! competition_data/train/trichodesmium_puff/112917.jpg competition_data/train_25x25/trichodesmium_puff/112917.jpg"
       ]
      },
      {
       "output_type": "stream",
       "stream": "stdout",
       "text": [
        "\n",
        "convert -resize 25x25! competition_data/train/trichodesmium_puff/107981.jpg competition_data/train_25x25/trichodesmium_puff/107981.jpg"
       ]
      },
      {
       "output_type": "stream",
       "stream": "stdout",
       "text": [
        "\n",
        "convert -resize 25x25! competition_data/train/trichodesmium_puff/38504.jpg competition_data/train_25x25/trichodesmium_puff/38504.jpg\n",
        "convert -resize 25x25! competition_data/train/trichodesmium_puff/111740.jpg competition_data/train_25x25/trichodesmium_puff/111740.jpg"
       ]
      },
      {
       "output_type": "stream",
       "stream": "stdout",
       "text": [
        "\n",
        "convert -resize 25x25! competition_data/train/trichodesmium_puff/139860.jpg competition_data/train_25x25/trichodesmium_puff/139860.jpg"
       ]
      },
      {
       "output_type": "stream",
       "stream": "stdout",
       "text": [
        "\n",
        "convert -resize 25x25! competition_data/train/trichodesmium_puff/82552.jpg competition_data/train_25x25/trichodesmium_puff/82552.jpg"
       ]
      },
      {
       "output_type": "stream",
       "stream": "stdout",
       "text": [
        "\n",
        "convert -resize 25x25! competition_data/train/trichodesmium_puff/89428.jpg competition_data/train_25x25/trichodesmium_puff/89428.jpg"
       ]
      },
      {
       "output_type": "stream",
       "stream": "stdout",
       "text": [
        "\n",
        "convert -resize 25x25! competition_data/train/trichodesmium_puff/39911.jpg competition_data/train_25x25/trichodesmium_puff/39911.jpg"
       ]
      },
      {
       "output_type": "stream",
       "stream": "stdout",
       "text": [
        "\n",
        "convert -resize 25x25! competition_data/train/trichodesmium_puff/11544.jpg competition_data/train_25x25/trichodesmium_puff/11544.jpg"
       ]
      },
      {
       "output_type": "stream",
       "stream": "stdout",
       "text": [
        "\n",
        "convert -resize 25x25! competition_data/train/trichodesmium_puff/77488.jpg competition_data/train_25x25/trichodesmium_puff/77488.jpg"
       ]
      },
      {
       "output_type": "stream",
       "stream": "stdout",
       "text": [
        "\n",
        "convert -resize 25x25! competition_data/train/trichodesmium_puff/132859.jpg competition_data/train_25x25/trichodesmium_puff/132859.jpg"
       ]
      },
      {
       "output_type": "stream",
       "stream": "stdout",
       "text": [
        "\n",
        "convert -resize 25x25! competition_data/train/trichodesmium_puff/44129.jpg competition_data/train_25x25/trichodesmium_puff/44129.jpg"
       ]
      },
      {
       "output_type": "stream",
       "stream": "stdout",
       "text": [
        "\n",
        "convert -resize 25x25! competition_data/train/trichodesmium_puff/105124.jpg competition_data/train_25x25/trichodesmium_puff/105124.jpg"
       ]
      },
      {
       "output_type": "stream",
       "stream": "stdout",
       "text": [
        "\n",
        "convert -resize 25x25! competition_data/train/trichodesmium_puff/77524.jpg competition_data/train_25x25/trichodesmium_puff/77524.jpg"
       ]
      },
      {
       "output_type": "stream",
       "stream": "stdout",
       "text": [
        "\n",
        "convert -resize 25x25! competition_data/train/trichodesmium_puff/78794.jpg competition_data/train_25x25/trichodesmium_puff/78794.jpg"
       ]
      },
      {
       "output_type": "stream",
       "stream": "stdout",
       "text": [
        "\n",
        "convert -resize 25x25! competition_data/train/trichodesmium_puff/147190.jpg competition_data/train_25x25/trichodesmium_puff/147190.jpg"
       ]
      },
      {
       "output_type": "stream",
       "stream": "stdout",
       "text": [
        "\n",
        "convert -resize 25x25! competition_data/train/trichodesmium_puff/98491.jpg competition_data/train_25x25/trichodesmium_puff/98491.jpg"
       ]
      },
      {
       "output_type": "stream",
       "stream": "stdout",
       "text": [
        "\n",
        "convert -resize 25x25! competition_data/train/trichodesmium_puff/95820.jpg competition_data/train_25x25/trichodesmium_puff/95820.jpg"
       ]
      },
      {
       "output_type": "stream",
       "stream": "stdout",
       "text": [
        "\n",
        "convert -resize 25x25! competition_data/train/trichodesmium_puff/112405.jpg competition_data/train_25x25/trichodesmium_puff/112405.jpg"
       ]
      },
      {
       "output_type": "stream",
       "stream": "stdout",
       "text": [
        "\n",
        "convert -resize 25x25! competition_data/train/trichodesmium_puff/114408.jpg competition_data/train_25x25/trichodesmium_puff/114408.jpg"
       ]
      },
      {
       "output_type": "stream",
       "stream": "stdout",
       "text": [
        "\n",
        "convert -resize 25x25! competition_data/train/trichodesmium_puff/80990.jpg competition_data/train_25x25/trichodesmium_puff/80990.jpg"
       ]
      },
      {
       "output_type": "stream",
       "stream": "stdout",
       "text": [
        "\n",
        "convert -resize 25x25! competition_data/train/trichodesmium_puff/119010.jpg competition_data/train_25x25/trichodesmium_puff/119010.jpg"
       ]
      },
      {
       "output_type": "stream",
       "stream": "stdout",
       "text": [
        "\n",
        "convert -resize 25x25! competition_data/train/trichodesmium_puff/94311.jpg competition_data/train_25x25/trichodesmium_puff/94311.jpg"
       ]
      },
      {
       "output_type": "stream",
       "stream": "stdout",
       "text": [
        "\n",
        "convert -resize 25x25! competition_data/train/trichodesmium_puff/143026.jpg competition_data/train_25x25/trichodesmium_puff/143026.jpg"
       ]
      },
      {
       "output_type": "stream",
       "stream": "stdout",
       "text": [
        "\n",
        "convert -resize 25x25! competition_data/train/trichodesmium_puff/123476.jpg competition_data/train_25x25/trichodesmium_puff/123476.jpg"
       ]
      },
      {
       "output_type": "stream",
       "stream": "stdout",
       "text": [
        "\n",
        "convert -resize 25x25! competition_data/train/trichodesmium_puff/27678.jpg competition_data/train_25x25/trichodesmium_puff/27678.jpg"
       ]
      },
      {
       "output_type": "stream",
       "stream": "stdout",
       "text": [
        "\n",
        "convert -resize 25x25! competition_data/train/trichodesmium_puff/83503.jpg competition_data/train_25x25/trichodesmium_puff/83503.jpg"
       ]
      },
      {
       "output_type": "stream",
       "stream": "stdout",
       "text": [
        "\n",
        "convert -resize 25x25! competition_data/train/trichodesmium_puff/140219.jpg competition_data/train_25x25/trichodesmium_puff/140219.jpg"
       ]
      },
      {
       "output_type": "stream",
       "stream": "stdout",
       "text": [
        "\n",
        "convert -resize 25x25! competition_data/train/trichodesmium_puff/87283.jpg competition_data/train_25x25/trichodesmium_puff/87283.jpg"
       ]
      },
      {
       "output_type": "stream",
       "stream": "stdout",
       "text": [
        "\n",
        "convert -resize 25x25! competition_data/train/trichodesmium_puff/62001.jpg competition_data/train_25x25/trichodesmium_puff/62001.jpg"
       ]
      },
      {
       "output_type": "stream",
       "stream": "stdout",
       "text": [
        "\n",
        "convert -resize 25x25! competition_data/train/trichodesmium_puff/99991.jpg competition_data/train_25x25/trichodesmium_puff/99991.jpg"
       ]
      },
      {
       "output_type": "stream",
       "stream": "stdout",
       "text": [
        "\n",
        "convert -resize 25x25! competition_data/train/trichodesmium_puff/58279.jpg competition_data/train_25x25/trichodesmium_puff/58279.jpg"
       ]
      },
      {
       "output_type": "stream",
       "stream": "stdout",
       "text": [
        "\n",
        "convert -resize 25x25! competition_data/train/trichodesmium_puff/147958.jpg competition_data/train_25x25/trichodesmium_puff/147958.jpg"
       ]
      },
      {
       "output_type": "stream",
       "stream": "stdout",
       "text": [
        "\n",
        "convert -resize 25x25! competition_data/train/trichodesmium_puff/78542.jpg competition_data/train_25x25/trichodesmium_puff/78542.jpg"
       ]
      },
      {
       "output_type": "stream",
       "stream": "stdout",
       "text": [
        "\n",
        "convert -resize 25x25! competition_data/train/trichodesmium_puff/7311.jpg competition_data/train_25x25/trichodesmium_puff/7311.jpg"
       ]
      },
      {
       "output_type": "stream",
       "stream": "stdout",
       "text": [
        "\n",
        "convert -resize 25x25! competition_data/train/trichodesmium_puff/133132.jpg competition_data/train_25x25/trichodesmium_puff/133132.jpg"
       ]
      },
      {
       "output_type": "stream",
       "stream": "stdout",
       "text": [
        "\n",
        "convert -resize 25x25! competition_data/train/trichodesmium_puff/58031.jpg competition_data/train_25x25/trichodesmium_puff/58031.jpg"
       ]
      },
      {
       "output_type": "stream",
       "stream": "stdout",
       "text": [
        "\n",
        "convert -resize 25x25! competition_data/train/trichodesmium_puff/108380.jpg competition_data/train_25x25/trichodesmium_puff/108380.jpg"
       ]
      },
      {
       "output_type": "stream",
       "stream": "stdout",
       "text": [
        "\n",
        "convert -resize 25x25! competition_data/train/trichodesmium_puff/154604.jpg competition_data/train_25x25/trichodesmium_puff/154604.jpg"
       ]
      },
      {
       "output_type": "stream",
       "stream": "stdout",
       "text": [
        "\n",
        "convert -resize 25x25! competition_data/train/trichodesmium_puff/102984.jpg competition_data/train_25x25/trichodesmium_puff/102984.jpg"
       ]
      },
      {
       "output_type": "stream",
       "stream": "stdout",
       "text": [
        "\n",
        "convert -resize 25x25! competition_data/train/trichodesmium_puff/52132.jpg competition_data/train_25x25/trichodesmium_puff/52132.jpg\n",
        "convert -resize 25x25! competition_data/train/trichodesmium_puff/134674.jpg competition_data/train_25x25/trichodesmium_puff/134674.jpg"
       ]
      },
      {
       "output_type": "stream",
       "stream": "stdout",
       "text": [
        "\n",
        "convert -resize 25x25! competition_data/train/trichodesmium_puff/51928.jpg competition_data/train_25x25/trichodesmium_puff/51928.jpg"
       ]
      },
      {
       "output_type": "stream",
       "stream": "stdout",
       "text": [
        "\n",
        "convert -resize 25x25! competition_data/train/trichodesmium_puff/13471.jpg competition_data/train_25x25/trichodesmium_puff/13471.jpg\n",
        "convert -resize 25x25! competition_data/train/trichodesmium_puff/31067.jpg competition_data/train_25x25/trichodesmium_puff/31067.jpg"
       ]
      },
      {
       "output_type": "stream",
       "stream": "stdout",
       "text": [
        "\n",
        "convert -resize 25x25! competition_data/train/trichodesmium_puff/136914.jpg competition_data/train_25x25/trichodesmium_puff/136914.jpg"
       ]
      },
      {
       "output_type": "stream",
       "stream": "stdout",
       "text": [
        "\n",
        "convert -resize 25x25! competition_data/train/trichodesmium_puff/26333.jpg competition_data/train_25x25/trichodesmium_puff/26333.jpg"
       ]
      },
      {
       "output_type": "stream",
       "stream": "stdout",
       "text": [
        "\n",
        "convert -resize 25x25! competition_data/train/trichodesmium_puff/29289.jpg competition_data/train_25x25/trichodesmium_puff/29289.jpg"
       ]
      },
      {
       "output_type": "stream",
       "stream": "stdout",
       "text": [
        "\n",
        "convert -resize 25x25! competition_data/train/trichodesmium_puff/116118.jpg competition_data/train_25x25/trichodesmium_puff/116118.jpg"
       ]
      },
      {
       "output_type": "stream",
       "stream": "stdout",
       "text": [
        "\n",
        "convert -resize 25x25! competition_data/train/trichodesmium_puff/45141.jpg competition_data/train_25x25/trichodesmium_puff/45141.jpg"
       ]
      },
      {
       "output_type": "stream",
       "stream": "stdout",
       "text": [
        "\n",
        "convert -resize 25x25! competition_data/train/trichodesmium_puff/97334.jpg competition_data/train_25x25/trichodesmium_puff/97334.jpg"
       ]
      },
      {
       "output_type": "stream",
       "stream": "stdout",
       "text": [
        "\n",
        "convert -resize 25x25! competition_data/train/trichodesmium_puff/144442.jpg competition_data/train_25x25/trichodesmium_puff/144442.jpg"
       ]
      },
      {
       "output_type": "stream",
       "stream": "stdout",
       "text": [
        "\n",
        "convert -resize 25x25! competition_data/train/trichodesmium_puff/31545.jpg competition_data/train_25x25/trichodesmium_puff/31545.jpg"
       ]
      },
      {
       "output_type": "stream",
       "stream": "stdout",
       "text": [
        "\n",
        "convert -resize 25x25! competition_data/train/trichodesmium_puff/26783.jpg competition_data/train_25x25/trichodesmium_puff/26783.jpg"
       ]
      },
      {
       "output_type": "stream",
       "stream": "stdout",
       "text": [
        "\n",
        "convert -resize 25x25! competition_data/train/trichodesmium_puff/16923.jpg competition_data/train_25x25/trichodesmium_puff/16923.jpg"
       ]
      },
      {
       "output_type": "stream",
       "stream": "stdout",
       "text": [
        "\n",
        "convert -resize 25x25! competition_data/train/trichodesmium_puff/90360.jpg competition_data/train_25x25/trichodesmium_puff/90360.jpg"
       ]
      },
      {
       "output_type": "stream",
       "stream": "stdout",
       "text": [
        "\n",
        "convert -resize 25x25! competition_data/train/trichodesmium_puff/36224.jpg competition_data/train_25x25/trichodesmium_puff/36224.jpg"
       ]
      },
      {
       "output_type": "stream",
       "stream": "stdout",
       "text": [
        "\n",
        "convert -resize 25x25! competition_data/train/trichodesmium_puff/9090.jpg competition_data/train_25x25/trichodesmium_puff/9090.jpg"
       ]
      },
      {
       "output_type": "stream",
       "stream": "stdout",
       "text": [
        "\n",
        "convert -resize 25x25! competition_data/train/trichodesmium_puff/124251.jpg competition_data/train_25x25/trichodesmium_puff/124251.jpg"
       ]
      },
      {
       "output_type": "stream",
       "stream": "stdout",
       "text": [
        "\n",
        "convert -resize 25x25! competition_data/train/trichodesmium_puff/20814.jpg competition_data/train_25x25/trichodesmium_puff/20814.jpg"
       ]
      },
      {
       "output_type": "stream",
       "stream": "stdout",
       "text": [
        "\n",
        "convert -resize 25x25! competition_data/train/trichodesmium_puff/92699.jpg competition_data/train_25x25/trichodesmium_puff/92699.jpg"
       ]
      },
      {
       "output_type": "stream",
       "stream": "stdout",
       "text": [
        "\n",
        "convert -resize 25x25! competition_data/train/trichodesmium_puff/57357.jpg competition_data/train_25x25/trichodesmium_puff/57357.jpg"
       ]
      },
      {
       "output_type": "stream",
       "stream": "stdout",
       "text": [
        "\n",
        "convert -resize 25x25! competition_data/train/trichodesmium_puff/134884.jpg competition_data/train_25x25/trichodesmium_puff/134884.jpg"
       ]
      },
      {
       "output_type": "stream",
       "stream": "stdout",
       "text": [
        "\n",
        "convert -resize 25x25! competition_data/train/trichodesmium_puff/51105.jpg competition_data/train_25x25/trichodesmium_puff/51105.jpg"
       ]
      },
      {
       "output_type": "stream",
       "stream": "stdout",
       "text": [
        "\n",
        "convert -resize 25x25! competition_data/train/trichodesmium_puff/18838.jpg competition_data/train_25x25/trichodesmium_puff/18838.jpg"
       ]
      },
      {
       "output_type": "stream",
       "stream": "stdout",
       "text": [
        "\n",
        "convert -resize 25x25! competition_data/train/trichodesmium_puff/48914.jpg competition_data/train_25x25/trichodesmium_puff/48914.jpg"
       ]
      },
      {
       "output_type": "stream",
       "stream": "stdout",
       "text": [
        "\n",
        "convert -resize 25x25! competition_data/train/trichodesmium_puff/63434.jpg competition_data/train_25x25/trichodesmium_puff/63434.jpg"
       ]
      },
      {
       "output_type": "stream",
       "stream": "stdout",
       "text": [
        "\n",
        "convert -resize 25x25! competition_data/train/trichodesmium_puff/61698.jpg competition_data/train_25x25/trichodesmium_puff/61698.jpg"
       ]
      },
      {
       "output_type": "stream",
       "stream": "stdout",
       "text": [
        "\n",
        "convert -resize 25x25! competition_data/train/trichodesmium_puff/131.jpg competition_data/train_25x25/trichodesmium_puff/131.jpg"
       ]
      },
      {
       "output_type": "stream",
       "stream": "stdout",
       "text": [
        "\n",
        "convert -resize 25x25! competition_data/train/trichodesmium_puff/138233.jpg competition_data/train_25x25/trichodesmium_puff/138233.jpg"
       ]
      },
      {
       "output_type": "stream",
       "stream": "stdout",
       "text": [
        "\n",
        "convert -resize 25x25! competition_data/train/trichodesmium_puff/111435.jpg competition_data/train_25x25/trichodesmium_puff/111435.jpg"
       ]
      },
      {
       "output_type": "stream",
       "stream": "stdout",
       "text": [
        "\n",
        "convert -resize 25x25! competition_data/train/trichodesmium_puff/45537.jpg competition_data/train_25x25/trichodesmium_puff/45537.jpg"
       ]
      },
      {
       "output_type": "stream",
       "stream": "stdout",
       "text": [
        "\n",
        "convert -resize 25x25! competition_data/train/trichodesmium_puff/22609.jpg competition_data/train_25x25/trichodesmium_puff/22609.jpg"
       ]
      },
      {
       "output_type": "stream",
       "stream": "stdout",
       "text": [
        "\n",
        "convert -resize 25x25! competition_data/train/trichodesmium_puff/16329.jpg competition_data/train_25x25/trichodesmium_puff/16329.jpg"
       ]
      },
      {
       "output_type": "stream",
       "stream": "stdout",
       "text": [
        "\n",
        "convert -resize 25x25! competition_data/train/trichodesmium_puff/53881.jpg competition_data/train_25x25/trichodesmium_puff/53881.jpg"
       ]
      },
      {
       "output_type": "stream",
       "stream": "stdout",
       "text": [
        "\n",
        "convert -resize 25x25! competition_data/train/trichodesmium_puff/153169.jpg competition_data/train_25x25/trichodesmium_puff/153169.jpg"
       ]
      },
      {
       "output_type": "stream",
       "stream": "stdout",
       "text": [
        "\n",
        "convert -resize 25x25! competition_data/train/trichodesmium_puff/6707.jpg competition_data/train_25x25/trichodesmium_puff/6707.jpg"
       ]
      },
      {
       "output_type": "stream",
       "stream": "stdout",
       "text": [
        "\n",
        "convert -resize 25x25! competition_data/train/trichodesmium_puff/37093.jpg competition_data/train_25x25/trichodesmium_puff/37093.jpg"
       ]
      },
      {
       "output_type": "stream",
       "stream": "stdout",
       "text": [
        "\n",
        "convert -resize 25x25! competition_data/train/trichodesmium_puff/63956.jpg competition_data/train_25x25/trichodesmium_puff/63956.jpg"
       ]
      },
      {
       "output_type": "stream",
       "stream": "stdout",
       "text": [
        "\n",
        "convert -resize 25x25! competition_data/train/trichodesmium_puff/140301.jpg competition_data/train_25x25/trichodesmium_puff/140301.jpg"
       ]
      },
      {
       "output_type": "stream",
       "stream": "stdout",
       "text": [
        "\n",
        "convert -resize 25x25! competition_data/train/trichodesmium_puff/70543.jpg competition_data/train_25x25/trichodesmium_puff/70543.jpg"
       ]
      },
      {
       "output_type": "stream",
       "stream": "stdout",
       "text": [
        "\n",
        "convert -resize 25x25! competition_data/train/trichodesmium_puff/29430.jpg competition_data/train_25x25/trichodesmium_puff/29430.jpg"
       ]
      },
      {
       "output_type": "stream",
       "stream": "stdout",
       "text": [
        "\n",
        "convert -resize 25x25! competition_data/train/trichodesmium_puff/30391.jpg competition_data/train_25x25/trichodesmium_puff/30391.jpg\n",
        "convert -resize 25x25! competition_data/train/trichodesmium_puff/105150.jpg competition_data/train_25x25/trichodesmium_puff/105150.jpg"
       ]
      },
      {
       "output_type": "stream",
       "stream": "stdout",
       "text": [
        "\n",
        "convert -resize 25x25! competition_data/train/trichodesmium_puff/8114.jpg competition_data/train_25x25/trichodesmium_puff/8114.jpg"
       ]
      },
      {
       "output_type": "stream",
       "stream": "stdout",
       "text": [
        "\n",
        "convert -resize 25x25! competition_data/train/trichodesmium_puff/122554.jpg competition_data/train_25x25/trichodesmium_puff/122554.jpg"
       ]
      },
      {
       "output_type": "stream",
       "stream": "stdout",
       "text": [
        "\n",
        "convert -resize 25x25! competition_data/train/trichodesmium_puff/29952.jpg competition_data/train_25x25/trichodesmium_puff/29952.jpg"
       ]
      },
      {
       "output_type": "stream",
       "stream": "stdout",
       "text": [
        "\n",
        "convert -resize 25x25! competition_data/train/trichodesmium_puff/84879.jpg competition_data/train_25x25/trichodesmium_puff/84879.jpg"
       ]
      },
      {
       "output_type": "stream",
       "stream": "stdout",
       "text": [
        "\n",
        "convert -resize 25x25! competition_data/train/trichodesmium_puff/122788.jpg competition_data/train_25x25/trichodesmium_puff/122788.jpg"
       ]
      },
      {
       "output_type": "stream",
       "stream": "stdout",
       "text": [
        "\n",
        "convert -resize 25x25! competition_data/train/trichodesmium_puff/40364.jpg competition_data/train_25x25/trichodesmium_puff/40364.jpg"
       ]
      },
      {
       "output_type": "stream",
       "stream": "stdout",
       "text": [
        "\n",
        "convert -resize 25x25! competition_data/train/trichodesmium_puff/63371.jpg competition_data/train_25x25/trichodesmium_puff/63371.jpg"
       ]
      },
      {
       "output_type": "stream",
       "stream": "stdout",
       "text": [
        "\n",
        "convert -resize 25x25! competition_data/train/trichodesmium_puff/158354.jpg competition_data/train_25x25/trichodesmium_puff/158354.jpg"
       ]
      },
      {
       "output_type": "stream",
       "stream": "stdout",
       "text": [
        "\n",
        "convert -resize 25x25! competition_data/train/trichodesmium_puff/104279.jpg competition_data/train_25x25/trichodesmium_puff/104279.jpg"
       ]
      },
      {
       "output_type": "stream",
       "stream": "stdout",
       "text": [
        "\n",
        "convert -resize 25x25! competition_data/train/trichodesmium_puff/17299.jpg competition_data/train_25x25/trichodesmium_puff/17299.jpg"
       ]
      },
      {
       "output_type": "stream",
       "stream": "stdout",
       "text": [
        "\n",
        "convert -resize 25x25! competition_data/train/trichodesmium_puff/138094.jpg competition_data/train_25x25/trichodesmium_puff/138094.jpg"
       ]
      },
      {
       "output_type": "stream",
       "stream": "stdout",
       "text": [
        "\n",
        "convert -resize 25x25! competition_data/train/trichodesmium_puff/45283.jpg competition_data/train_25x25/trichodesmium_puff/45283.jpg"
       ]
      },
      {
       "output_type": "stream",
       "stream": "stdout",
       "text": [
        "\n",
        "convert -resize 25x25! competition_data/train/trichodesmium_puff/117324.jpg competition_data/train_25x25/trichodesmium_puff/117324.jpg"
       ]
      },
      {
       "output_type": "stream",
       "stream": "stdout",
       "text": [
        "\n",
        "convert -resize 25x25! competition_data/train/trichodesmium_puff/60738.jpg competition_data/train_25x25/trichodesmium_puff/60738.jpg"
       ]
      },
      {
       "output_type": "stream",
       "stream": "stdout",
       "text": [
        "\n",
        "convert -resize 25x25! competition_data/train/trichodesmium_puff/125603.jpg competition_data/train_25x25/trichodesmium_puff/125603.jpg"
       ]
      },
      {
       "output_type": "stream",
       "stream": "stdout",
       "text": [
        "\n",
        "convert -resize 25x25! competition_data/train/trichodesmium_puff/22237.jpg competition_data/train_25x25/trichodesmium_puff/22237.jpg"
       ]
      },
      {
       "output_type": "stream",
       "stream": "stdout",
       "text": [
        "\n",
        "convert -resize 25x25! competition_data/train/trichodesmium_puff/54629.jpg competition_data/train_25x25/trichodesmium_puff/54629.jpg"
       ]
      },
      {
       "output_type": "stream",
       "stream": "stdout",
       "text": [
        "\n",
        "convert -resize 25x25! competition_data/train/trichodesmium_puff/51687.jpg competition_data/train_25x25/trichodesmium_puff/51687.jpg"
       ]
      },
      {
       "output_type": "stream",
       "stream": "stdout",
       "text": [
        "\n",
        "convert -resize 25x25! competition_data/train/trichodesmium_puff/158843.jpg competition_data/train_25x25/trichodesmium_puff/158843.jpg"
       ]
      },
      {
       "output_type": "stream",
       "stream": "stdout",
       "text": [
        "\n",
        "convert -resize 25x25! competition_data/train/trichodesmium_puff/3153.jpg competition_data/train_25x25/trichodesmium_puff/3153.jpg"
       ]
      },
      {
       "output_type": "stream",
       "stream": "stdout",
       "text": [
        "\n",
        "convert -resize 25x25! competition_data/train/trichodesmium_puff/127812.jpg competition_data/train_25x25/trichodesmium_puff/127812.jpg"
       ]
      },
      {
       "output_type": "stream",
       "stream": "stdout",
       "text": [
        "\n",
        "convert -resize 25x25! competition_data/train/trichodesmium_puff/74365.jpg competition_data/train_25x25/trichodesmium_puff/74365.jpg"
       ]
      },
      {
       "output_type": "stream",
       "stream": "stdout",
       "text": [
        "\n",
        "convert -resize 25x25! competition_data/train/trichodesmium_puff/58329.jpg competition_data/train_25x25/trichodesmium_puff/58329.jpg"
       ]
      },
      {
       "output_type": "stream",
       "stream": "stdout",
       "text": [
        "\n",
        "convert -resize 25x25! competition_data/train/trichodesmium_puff/78497.jpg competition_data/train_25x25/trichodesmium_puff/78497.jpg"
       ]
      },
      {
       "output_type": "stream",
       "stream": "stdout",
       "text": [
        "\n",
        "convert -resize 25x25! competition_data/train/trichodesmium_puff/102696.jpg competition_data/train_25x25/trichodesmium_puff/102696.jpg"
       ]
      },
      {
       "output_type": "stream",
       "stream": "stdout",
       "text": [
        "\n",
        "convert -resize 25x25! competition_data/train/trichodesmium_puff/142768.jpg competition_data/train_25x25/trichodesmium_puff/142768.jpg\n",
        "convert -resize 25x25! competition_data/train/trichodesmium_puff/81938.jpg competition_data/train_25x25/trichodesmium_puff/81938.jpg"
       ]
      },
      {
       "output_type": "stream",
       "stream": "stdout",
       "text": [
        "\n",
        "convert -resize 25x25! competition_data/train/trichodesmium_puff/145531.jpg competition_data/train_25x25/trichodesmium_puff/145531.jpg"
       ]
      },
      {
       "output_type": "stream",
       "stream": "stdout",
       "text": [
        "\n",
        "convert -resize 25x25! competition_data/train/trichodesmium_puff/85716.jpg competition_data/train_25x25/trichodesmium_puff/85716.jpg"
       ]
      },
      {
       "output_type": "stream",
       "stream": "stdout",
       "text": [
        "\n",
        "convert -resize 25x25! competition_data/train/trichodesmium_puff/148600.jpg competition_data/train_25x25/trichodesmium_puff/148600.jpg"
       ]
      },
      {
       "output_type": "stream",
       "stream": "stdout",
       "text": [
        "\n",
        "convert -resize 25x25! competition_data/train/trichodesmium_puff/105600.jpg competition_data/train_25x25/trichodesmium_puff/105600.jpg"
       ]
      },
      {
       "output_type": "stream",
       "stream": "stdout",
       "text": [
        "\n",
        "convert -resize 25x25! competition_data/train/trichodesmium_puff/110180.jpg competition_data/train_25x25/trichodesmium_puff/110180.jpg\n",
        "convert -resize 25x25! competition_data/train/trichodesmium_puff/124723.jpg competition_data/train_25x25/trichodesmium_puff/124723.jpg"
       ]
      },
      {
       "output_type": "stream",
       "stream": "stdout",
       "text": [
        "\n",
        "convert -resize 25x25! competition_data/train/trichodesmium_puff/69036.jpg competition_data/train_25x25/trichodesmium_puff/69036.jpg"
       ]
      },
      {
       "output_type": "stream",
       "stream": "stdout",
       "text": [
        "\n",
        "convert -resize 25x25! competition_data/train/trichodesmium_puff/6439.jpg competition_data/train_25x25/trichodesmium_puff/6439.jpg"
       ]
      },
      {
       "output_type": "stream",
       "stream": "stdout",
       "text": [
        "\n",
        "convert -resize 25x25! competition_data/train/trichodesmium_puff/27935.jpg competition_data/train_25x25/trichodesmium_puff/27935.jpg"
       ]
      },
      {
       "output_type": "stream",
       "stream": "stdout",
       "text": [
        "\n",
        "convert -resize 25x25! competition_data/train/trichodesmium_puff/1288.jpg competition_data/train_25x25/trichodesmium_puff/1288.jpg"
       ]
      },
      {
       "output_type": "stream",
       "stream": "stdout",
       "text": [
        "\n",
        "convert -resize 25x25! competition_data/train/trichodesmium_puff/71396.jpg competition_data/train_25x25/trichodesmium_puff/71396.jpg\n",
        "convert -resize 25x25! competition_data/train/trichodesmium_puff/84965.jpg competition_data/train_25x25/trichodesmium_puff/84965.jpg"
       ]
      },
      {
       "output_type": "stream",
       "stream": "stdout",
       "text": [
        "\n",
        "convert -resize 25x25! competition_data/train/trichodesmium_puff/75031.jpg competition_data/train_25x25/trichodesmium_puff/75031.jpg"
       ]
      },
      {
       "output_type": "stream",
       "stream": "stdout",
       "text": [
        "\n",
        "convert -resize 25x25! competition_data/train/trichodesmium_puff/93577.jpg competition_data/train_25x25/trichodesmium_puff/93577.jpg"
       ]
      },
      {
       "output_type": "stream",
       "stream": "stdout",
       "text": [
        "\n",
        "convert -resize 25x25! competition_data/train/trichodesmium_puff/86364.jpg competition_data/train_25x25/trichodesmium_puff/86364.jpg"
       ]
      },
      {
       "output_type": "stream",
       "stream": "stdout",
       "text": [
        "\n",
        "convert -resize 25x25! competition_data/train/trichodesmium_puff/19395.jpg competition_data/train_25x25/trichodesmium_puff/19395.jpg"
       ]
      },
      {
       "output_type": "stream",
       "stream": "stdout",
       "text": [
        "\n",
        "convert -resize 25x25! competition_data/train/trichodesmium_puff/29135.jpg competition_data/train_25x25/trichodesmium_puff/29135.jpg"
       ]
      },
      {
       "output_type": "stream",
       "stream": "stdout",
       "text": [
        "\n",
        "convert -resize 25x25! competition_data/train/trichodesmium_puff/111289.jpg competition_data/train_25x25/trichodesmium_puff/111289.jpg"
       ]
      },
      {
       "output_type": "stream",
       "stream": "stdout",
       "text": [
        "\n",
        "convert -resize 25x25! competition_data/train/trichodesmium_puff/142596.jpg competition_data/train_25x25/trichodesmium_puff/142596.jpg"
       ]
      },
      {
       "output_type": "stream",
       "stream": "stdout",
       "text": [
        "\n",
        "convert -resize 25x25! competition_data/train/trichodesmium_puff/117672.jpg competition_data/train_25x25/trichodesmium_puff/117672.jpg"
       ]
      },
      {
       "output_type": "stream",
       "stream": "stdout",
       "text": [
        "\n",
        "convert -resize 25x25! competition_data/train/trichodesmium_puff/56041.jpg competition_data/train_25x25/trichodesmium_puff/56041.jpg"
       ]
      },
      {
       "output_type": "stream",
       "stream": "stdout",
       "text": [
        "\n",
        "convert -resize 25x25! competition_data/train/trichodesmium_puff/50643.jpg competition_data/train_25x25/trichodesmium_puff/50643.jpg"
       ]
      },
      {
       "output_type": "stream",
       "stream": "stdout",
       "text": [
        "\n",
        "convert -resize 25x25! competition_data/train/trichodesmium_puff/10631.jpg competition_data/train_25x25/trichodesmium_puff/10631.jpg"
       ]
      },
      {
       "output_type": "stream",
       "stream": "stdout",
       "text": [
        "\n",
        "convert -resize 25x25! competition_data/train/trichodesmium_puff/53290.jpg competition_data/train_25x25/trichodesmium_puff/53290.jpg"
       ]
      },
      {
       "output_type": "stream",
       "stream": "stdout",
       "text": [
        "\n",
        "convert -resize 25x25! competition_data/train/trichodesmium_puff/112394.jpg competition_data/train_25x25/trichodesmium_puff/112394.jpg"
       ]
      },
      {
       "output_type": "stream",
       "stream": "stdout",
       "text": [
        "\n",
        "convert -resize 25x25! competition_data/train/trichodesmium_puff/748.jpg competition_data/train_25x25/trichodesmium_puff/748.jpg"
       ]
      },
      {
       "output_type": "stream",
       "stream": "stdout",
       "text": [
        "\n",
        "convert -resize 25x25! competition_data/train/trichodesmium_puff/34469.jpg competition_data/train_25x25/trichodesmium_puff/34469.jpg"
       ]
      },
      {
       "output_type": "stream",
       "stream": "stdout",
       "text": [
        "\n",
        "convert -resize 25x25! competition_data/train/trichodesmium_puff/106103.jpg competition_data/train_25x25/trichodesmium_puff/106103.jpg"
       ]
      },
      {
       "output_type": "stream",
       "stream": "stdout",
       "text": [
        "\n",
        "convert -resize 25x25! competition_data/train/trichodesmium_puff/18980.jpg competition_data/train_25x25/trichodesmium_puff/18980.jpg"
       ]
      },
      {
       "output_type": "stream",
       "stream": "stdout",
       "text": [
        "\n",
        "convert -resize 25x25! competition_data/train/trichodesmium_puff/9033.jpg competition_data/train_25x25/trichodesmium_puff/9033.jpg"
       ]
      },
      {
       "output_type": "stream",
       "stream": "stdout",
       "text": [
        "\n",
        "convert -resize 25x25! competition_data/train/trichodesmium_puff/44040.jpg competition_data/train_25x25/trichodesmium_puff/44040.jpg"
       ]
      },
      {
       "output_type": "stream",
       "stream": "stdout",
       "text": [
        "\n",
        "convert -resize 25x25! competition_data/train/trichodesmium_puff/99642.jpg competition_data/train_25x25/trichodesmium_puff/99642.jpg"
       ]
      },
      {
       "output_type": "stream",
       "stream": "stdout",
       "text": [
        "\n",
        "convert -resize 25x25! competition_data/train/trichodesmium_puff/153424.jpg competition_data/train_25x25/trichodesmium_puff/153424.jpg"
       ]
      },
      {
       "output_type": "stream",
       "stream": "stdout",
       "text": [
        "\n",
        "convert -resize 25x25! competition_data/train/trichodesmium_puff/17423.jpg competition_data/train_25x25/trichodesmium_puff/17423.jpg"
       ]
      },
      {
       "output_type": "stream",
       "stream": "stdout",
       "text": [
        "\n",
        "convert -resize 25x25! competition_data/train/trichodesmium_puff/95877.jpg competition_data/train_25x25/trichodesmium_puff/95877.jpg"
       ]
      },
      {
       "output_type": "stream",
       "stream": "stdout",
       "text": [
        "\n",
        "convert -resize 25x25! competition_data/train/trichodesmium_puff/82173.jpg competition_data/train_25x25/trichodesmium_puff/82173.jpg"
       ]
      },
      {
       "output_type": "stream",
       "stream": "stdout",
       "text": [
        "\n",
        "convert -resize 25x25! competition_data/train/trichodesmium_puff/19747.jpg competition_data/train_25x25/trichodesmium_puff/19747.jpg"
       ]
      },
      {
       "output_type": "stream",
       "stream": "stdout",
       "text": [
        "\n",
        "convert -resize 25x25! competition_data/train/trichodesmium_puff/157384.jpg competition_data/train_25x25/trichodesmium_puff/157384.jpg"
       ]
      },
      {
       "output_type": "stream",
       "stream": "stdout",
       "text": [
        "\n",
        "convert -resize 25x25! competition_data/train/trichodesmium_puff/90864.jpg competition_data/train_25x25/trichodesmium_puff/90864.jpg"
       ]
      },
      {
       "output_type": "stream",
       "stream": "stdout",
       "text": [
        "\n",
        "convert -resize 25x25! competition_data/train/trichodesmium_puff/136453.jpg competition_data/train_25x25/trichodesmium_puff/136453.jpg"
       ]
      },
      {
       "output_type": "stream",
       "stream": "stdout",
       "text": [
        "\n",
        "convert -resize 25x25! competition_data/train/trichodesmium_puff/36203.jpg competition_data/train_25x25/trichodesmium_puff/36203.jpg"
       ]
      },
      {
       "output_type": "stream",
       "stream": "stdout",
       "text": [
        "\n",
        "convert -resize 25x25! competition_data/train/trichodesmium_puff/85096.jpg competition_data/train_25x25/trichodesmium_puff/85096.jpg"
       ]
      },
      {
       "output_type": "stream",
       "stream": "stdout",
       "text": [
        "\n",
        "convert -resize 25x25! competition_data/train/trichodesmium_puff/35720.jpg competition_data/train_25x25/trichodesmium_puff/35720.jpg\n",
        "convert -resize 25x25! competition_data/train/trichodesmium_puff/84345.jpg competition_data/train_25x25/trichodesmium_puff/84345.jpg"
       ]
      },
      {
       "output_type": "stream",
       "stream": "stdout",
       "text": [
        "\n",
        "convert -resize 25x25! competition_data/train/trichodesmium_puff/147434.jpg competition_data/train_25x25/trichodesmium_puff/147434.jpg"
       ]
      },
      {
       "output_type": "stream",
       "stream": "stdout",
       "text": [
        "\n",
        "convert -resize 25x25! competition_data/train/trichodesmium_puff/56397.jpg competition_data/train_25x25/trichodesmium_puff/56397.jpg"
       ]
      },
      {
       "output_type": "stream",
       "stream": "stdout",
       "text": [
        "\n",
        "convert -resize 25x25! competition_data/train/trichodesmium_puff/136249.jpg competition_data/train_25x25/trichodesmium_puff/136249.jpg"
       ]
      },
      {
       "output_type": "stream",
       "stream": "stdout",
       "text": [
        "\n",
        "convert -resize 25x25! competition_data/train/trichodesmium_puff/151509.jpg competition_data/train_25x25/trichodesmium_puff/151509.jpg"
       ]
      },
      {
       "output_type": "stream",
       "stream": "stdout",
       "text": [
        "\n",
        "convert -resize 25x25! competition_data/train/trichodesmium_puff/46872.jpg competition_data/train_25x25/trichodesmium_puff/46872.jpg"
       ]
      },
      {
       "output_type": "stream",
       "stream": "stdout",
       "text": [
        "\n",
        "convert -resize 25x25! competition_data/train/trichodesmium_puff/48523.jpg competition_data/train_25x25/trichodesmium_puff/48523.jpg"
       ]
      },
      {
       "output_type": "stream",
       "stream": "stdout",
       "text": [
        "\n",
        "convert -resize 25x25! competition_data/train/trichodesmium_puff/87394.jpg competition_data/train_25x25/trichodesmium_puff/87394.jpg"
       ]
      },
      {
       "output_type": "stream",
       "stream": "stdout",
       "text": [
        "\n",
        "convert -resize 25x25! competition_data/train/trichodesmium_puff/51942.jpg competition_data/train_25x25/trichodesmium_puff/51942.jpg"
       ]
      },
      {
       "output_type": "stream",
       "stream": "stdout",
       "text": [
        "\n",
        "convert -resize 25x25! competition_data/train/trichodesmium_puff/59147.jpg competition_data/train_25x25/trichodesmium_puff/59147.jpg"
       ]
      },
      {
       "output_type": "stream",
       "stream": "stdout",
       "text": [
        "\n",
        "convert -resize 25x25! competition_data/train/trichodesmium_puff/106361.jpg competition_data/train_25x25/trichodesmium_puff/106361.jpg"
       ]
      },
      {
       "output_type": "stream",
       "stream": "stdout",
       "text": [
        "\n",
        "convert -resize 25x25! competition_data/train/trichodesmium_puff/111417.jpg competition_data/train_25x25/trichodesmium_puff/111417.jpg"
       ]
      },
      {
       "output_type": "stream",
       "stream": "stdout",
       "text": [
        "\n",
        "convert -resize 25x25! competition_data/train/trichodesmium_puff/83059.jpg competition_data/train_25x25/trichodesmium_puff/83059.jpg"
       ]
      },
      {
       "output_type": "stream",
       "stream": "stdout",
       "text": [
        "\n",
        "convert -resize 25x25! competition_data/train/trichodesmium_puff/1580.jpg competition_data/train_25x25/trichodesmium_puff/1580.jpg"
       ]
      },
      {
       "output_type": "stream",
       "stream": "stdout",
       "text": [
        "\n",
        "convert -resize 25x25! competition_data/train/trichodesmium_puff/20403.jpg competition_data/train_25x25/trichodesmium_puff/20403.jpg"
       ]
      },
      {
       "output_type": "stream",
       "stream": "stdout",
       "text": [
        "\n",
        "convert -resize 25x25! competition_data/train/trichodesmium_puff/83361.jpg competition_data/train_25x25/trichodesmium_puff/83361.jpg"
       ]
      },
      {
       "output_type": "stream",
       "stream": "stdout",
       "text": [
        "\n",
        "convert -resize 25x25! competition_data/train/trichodesmium_puff/126411.jpg competition_data/train_25x25/trichodesmium_puff/126411.jpg"
       ]
      },
      {
       "output_type": "stream",
       "stream": "stdout",
       "text": [
        "\n",
        "convert -resize 25x25! competition_data/train/trichodesmium_puff/20506.jpg competition_data/train_25x25/trichodesmium_puff/20506.jpg"
       ]
      },
      {
       "output_type": "stream",
       "stream": "stdout",
       "text": [
        "\n",
        "convert -resize 25x25! competition_data/train/trichodesmium_puff/75073.jpg competition_data/train_25x25/trichodesmium_puff/75073.jpg"
       ]
      },
      {
       "output_type": "stream",
       "stream": "stdout",
       "text": [
        "\n",
        "convert -resize 25x25! competition_data/train/trichodesmium_puff/95154.jpg competition_data/train_25x25/trichodesmium_puff/95154.jpg"
       ]
      },
      {
       "output_type": "stream",
       "stream": "stdout",
       "text": [
        "\n",
        "convert -resize 25x25! competition_data/train/trichodesmium_puff/36085.jpg competition_data/train_25x25/trichodesmium_puff/36085.jpg"
       ]
      },
      {
       "output_type": "stream",
       "stream": "stdout",
       "text": [
        "\n",
        "convert -resize 25x25! competition_data/train/trichodesmium_puff/157026.jpg competition_data/train_25x25/trichodesmium_puff/157026.jpg"
       ]
      },
      {
       "output_type": "stream",
       "stream": "stdout",
       "text": [
        "\n",
        "convert -resize 25x25! competition_data/train/trichodesmium_puff/25868.jpg competition_data/train_25x25/trichodesmium_puff/25868.jpg"
       ]
      },
      {
       "output_type": "stream",
       "stream": "stdout",
       "text": [
        "\n",
        "convert -resize 25x25! competition_data/train/trichodesmium_puff/6682.jpg competition_data/train_25x25/trichodesmium_puff/6682.jpg"
       ]
      },
      {
       "output_type": "stream",
       "stream": "stdout",
       "text": [
        "\n",
        "convert -resize 25x25! competition_data/train/trichodesmium_puff/69160.jpg competition_data/train_25x25/trichodesmium_puff/69160.jpg"
       ]
      },
      {
       "output_type": "stream",
       "stream": "stdout",
       "text": [
        "\n",
        "convert -resize 25x25! competition_data/train/trichodesmium_puff/112402.jpg competition_data/train_25x25/trichodesmium_puff/112402.jpg"
       ]
      },
      {
       "output_type": "stream",
       "stream": "stdout",
       "text": [
        "\n",
        "convert -resize 25x25! competition_data/train/trichodesmium_puff/31775.jpg competition_data/train_25x25/trichodesmium_puff/31775.jpg"
       ]
      },
      {
       "output_type": "stream",
       "stream": "stdout",
       "text": [
        "\n",
        "convert -resize 25x25! competition_data/train/trichodesmium_puff/136201.jpg competition_data/train_25x25/trichodesmium_puff/136201.jpg"
       ]
      },
      {
       "output_type": "stream",
       "stream": "stdout",
       "text": [
        "\n",
        "convert -resize 25x25! competition_data/train/trichodesmium_puff/155423.jpg competition_data/train_25x25/trichodesmium_puff/155423.jpg"
       ]
      },
      {
       "output_type": "stream",
       "stream": "stdout",
       "text": [
        "\n",
        "convert -resize 25x25! competition_data/train/trichodesmium_puff/72403.jpg competition_data/train_25x25/trichodesmium_puff/72403.jpg"
       ]
      },
      {
       "output_type": "stream",
       "stream": "stdout",
       "text": [
        "\n",
        "convert -resize 25x25! competition_data/train/trichodesmium_puff/90110.jpg competition_data/train_25x25/trichodesmium_puff/90110.jpg"
       ]
      },
      {
       "output_type": "stream",
       "stream": "stdout",
       "text": [
        "\n",
        "convert -resize 25x25! competition_data/train/trichodesmium_puff/133578.jpg competition_data/train_25x25/trichodesmium_puff/133578.jpg"
       ]
      },
      {
       "output_type": "stream",
       "stream": "stdout",
       "text": [
        "\n",
        "convert -resize 25x25! competition_data/train/trichodesmium_puff/29032.jpg competition_data/train_25x25/trichodesmium_puff/29032.jpg"
       ]
      },
      {
       "output_type": "stream",
       "stream": "stdout",
       "text": [
        "\n",
        "convert -resize 25x25! competition_data/train/trichodesmium_puff/29280.jpg competition_data/train_25x25/trichodesmium_puff/29280.jpg"
       ]
      },
      {
       "output_type": "stream",
       "stream": "stdout",
       "text": [
        "\n",
        "convert -resize 25x25! competition_data/train/trichodesmium_puff/19275.jpg competition_data/train_25x25/trichodesmium_puff/19275.jpg"
       ]
      },
      {
       "output_type": "stream",
       "stream": "stdout",
       "text": [
        "\n",
        "convert -resize 25x25! competition_data/train/trichodesmium_puff/30552.jpg competition_data/train_25x25/trichodesmium_puff/30552.jpg"
       ]
      },
      {
       "output_type": "stream",
       "stream": "stdout",
       "text": [
        "\n",
        "convert -resize 25x25! competition_data/train/trichodesmium_puff/146241.jpg competition_data/train_25x25/trichodesmium_puff/146241.jpg"
       ]
      },
      {
       "output_type": "stream",
       "stream": "stdout",
       "text": [
        "\n",
        "convert -resize 25x25! competition_data/train/trichodesmium_puff/70395.jpg competition_data/train_25x25/trichodesmium_puff/70395.jpg"
       ]
      },
      {
       "output_type": "stream",
       "stream": "stdout",
       "text": [
        "\n",
        "convert -resize 25x25! competition_data/train/trichodesmium_puff/50565.jpg competition_data/train_25x25/trichodesmium_puff/50565.jpg"
       ]
      },
      {
       "output_type": "stream",
       "stream": "stdout",
       "text": [
        "\n",
        "convert -resize 25x25! competition_data/train/trichodesmium_puff/19124.jpg competition_data/train_25x25/trichodesmium_puff/19124.jpg"
       ]
      },
      {
       "output_type": "stream",
       "stream": "stdout",
       "text": [
        "\n",
        "convert -resize 25x25! competition_data/train/trichodesmium_puff/38128.jpg competition_data/train_25x25/trichodesmium_puff/38128.jpg"
       ]
      },
      {
       "output_type": "stream",
       "stream": "stdout",
       "text": [
        "\n",
        "convert -resize 25x25! competition_data/train/trichodesmium_puff/28674.jpg competition_data/train_25x25/trichodesmium_puff/28674.jpg"
       ]
      },
      {
       "output_type": "stream",
       "stream": "stdout",
       "text": [
        "\n",
        "convert -resize 25x25! competition_data/train/trichodesmium_puff/1037.jpg competition_data/train_25x25/trichodesmium_puff/1037.jpg"
       ]
      },
      {
       "output_type": "stream",
       "stream": "stdout",
       "text": [
        "\n",
        "convert -resize 25x25! competition_data/train/trichodesmium_puff/149177.jpg competition_data/train_25x25/trichodesmium_puff/149177.jpg"
       ]
      },
      {
       "output_type": "stream",
       "stream": "stdout",
       "text": [
        "\n",
        "convert -resize 25x25! competition_data/train/trichodesmium_puff/142364.jpg competition_data/train_25x25/trichodesmium_puff/142364.jpg"
       ]
      },
      {
       "output_type": "stream",
       "stream": "stdout",
       "text": [
        "\n",
        "convert -resize 25x25! competition_data/train/trichodesmium_puff/53657.jpg competition_data/train_25x25/trichodesmium_puff/53657.jpg"
       ]
      },
      {
       "output_type": "stream",
       "stream": "stdout",
       "text": [
        "\n",
        "convert -resize 25x25! competition_data/train/trichodesmium_puff/97493.jpg competition_data/train_25x25/trichodesmium_puff/97493.jpg"
       ]
      },
      {
       "output_type": "stream",
       "stream": "stdout",
       "text": [
        "\n",
        "convert -resize 25x25! competition_data/train/trichodesmium_puff/141021.jpg competition_data/train_25x25/trichodesmium_puff/141021.jpg"
       ]
      },
      {
       "output_type": "stream",
       "stream": "stdout",
       "text": [
        "\n",
        "convert -resize 25x25! competition_data/train/trichodesmium_puff/47247.jpg competition_data/train_25x25/trichodesmium_puff/47247.jpg"
       ]
      },
      {
       "output_type": "stream",
       "stream": "stdout",
       "text": [
        "\n",
        "convert -resize 25x25! competition_data/train/trichodesmium_puff/72369.jpg competition_data/train_25x25/trichodesmium_puff/72369.jpg"
       ]
      },
      {
       "output_type": "stream",
       "stream": "stdout",
       "text": [
        "\n",
        "convert -resize 25x25! competition_data/train/trichodesmium_puff/38764.jpg competition_data/train_25x25/trichodesmium_puff/38764.jpg"
       ]
      },
      {
       "output_type": "stream",
       "stream": "stdout",
       "text": [
        "\n",
        "convert -resize 25x25! competition_data/train/trichodesmium_puff/84191.jpg competition_data/train_25x25/trichodesmium_puff/84191.jpg"
       ]
      },
      {
       "output_type": "stream",
       "stream": "stdout",
       "text": [
        "\n",
        "convert -resize 25x25! competition_data/train/trichodesmium_puff/6045.jpg competition_data/train_25x25/trichodesmium_puff/6045.jpg"
       ]
      },
      {
       "output_type": "stream",
       "stream": "stdout",
       "text": [
        "\n",
        "convert -resize 25x25! competition_data/train/trichodesmium_puff/109126.jpg competition_data/train_25x25/trichodesmium_puff/109126.jpg"
       ]
      },
      {
       "output_type": "stream",
       "stream": "stdout",
       "text": [
        "\n",
        "convert -resize 25x25! competition_data/train/trichodesmium_puff/154178.jpg competition_data/train_25x25/trichodesmium_puff/154178.jpg"
       ]
      },
      {
       "output_type": "stream",
       "stream": "stdout",
       "text": [
        "\n",
        "convert -resize 25x25! competition_data/train/trichodesmium_puff/153821.jpg competition_data/train_25x25/trichodesmium_puff/153821.jpg"
       ]
      },
      {
       "output_type": "stream",
       "stream": "stdout",
       "text": [
        "\n",
        "convert -resize 25x25! competition_data/train/trichodesmium_puff/112959.jpg competition_data/train_25x25/trichodesmium_puff/112959.jpg"
       ]
      },
      {
       "output_type": "stream",
       "stream": "stdout",
       "text": [
        "\n",
        "convert -resize 25x25! competition_data/train/trichodesmium_puff/119538.jpg competition_data/train_25x25/trichodesmium_puff/119538.jpg"
       ]
      },
      {
       "output_type": "stream",
       "stream": "stdout",
       "text": [
        "\n",
        "convert -resize 25x25! competition_data/train/trichodesmium_puff/29745.jpg competition_data/train_25x25/trichodesmium_puff/29745.jpg"
       ]
      },
      {
       "output_type": "stream",
       "stream": "stdout",
       "text": [
        "\n",
        "convert -resize 25x25! competition_data/train/trichodesmium_puff/28022.jpg competition_data/train_25x25/trichodesmium_puff/28022.jpg"
       ]
      },
      {
       "output_type": "stream",
       "stream": "stdout",
       "text": [
        "\n",
        "convert -resize 25x25! competition_data/train/trichodesmium_puff/6812.jpg competition_data/train_25x25/trichodesmium_puff/6812.jpg"
       ]
      },
      {
       "output_type": "stream",
       "stream": "stdout",
       "text": [
        "\n",
        "convert -resize 25x25! competition_data/train/trichodesmium_puff/92572.jpg competition_data/train_25x25/trichodesmium_puff/92572.jpg\n",
        "convert -resize 25x25! competition_data/train/trichodesmium_puff/131978.jpg competition_data/train_25x25/trichodesmium_puff/131978.jpg"
       ]
      },
      {
       "output_type": "stream",
       "stream": "stdout",
       "text": [
        "\n",
        "convert -resize 25x25! competition_data/train/trichodesmium_puff/11830.jpg competition_data/train_25x25/trichodesmium_puff/11830.jpg"
       ]
      },
      {
       "output_type": "stream",
       "stream": "stdout",
       "text": [
        "\n",
        "convert -resize 25x25! competition_data/train/trichodesmium_puff/115149.jpg competition_data/train_25x25/trichodesmium_puff/115149.jpg"
       ]
      },
      {
       "output_type": "stream",
       "stream": "stdout",
       "text": [
        "\n",
        "convert -resize 25x25! competition_data/train/trichodesmium_puff/159073.jpg competition_data/train_25x25/trichodesmium_puff/159073.jpg"
       ]
      },
      {
       "output_type": "stream",
       "stream": "stdout",
       "text": [
        "\n",
        "convert -resize 25x25! competition_data/train/trichodesmium_puff/145051.jpg competition_data/train_25x25/trichodesmium_puff/145051.jpg"
       ]
      },
      {
       "output_type": "stream",
       "stream": "stdout",
       "text": [
        "\n",
        "convert -resize 25x25! competition_data/train/trichodesmium_puff/160339.jpg competition_data/train_25x25/trichodesmium_puff/160339.jpg"
       ]
      },
      {
       "output_type": "stream",
       "stream": "stdout",
       "text": [
        "\n",
        "convert -resize 25x25! competition_data/train/trichodesmium_puff/113033.jpg competition_data/train_25x25/trichodesmium_puff/113033.jpg"
       ]
      },
      {
       "output_type": "stream",
       "stream": "stdout",
       "text": [
        "\n",
        "convert -resize 25x25! competition_data/train/trichodesmium_puff/84036.jpg competition_data/train_25x25/trichodesmium_puff/84036.jpg\n",
        "convert -resize 25x25! competition_data/train/trichodesmium_puff/111781.jpg competition_data/train_25x25/trichodesmium_puff/111781.jpg"
       ]
      },
      {
       "output_type": "stream",
       "stream": "stdout",
       "text": [
        "\n",
        "convert -resize 25x25! competition_data/train/trichodesmium_puff/78480.jpg competition_data/train_25x25/trichodesmium_puff/78480.jpg"
       ]
      },
      {
       "output_type": "stream",
       "stream": "stdout",
       "text": [
        "\n",
        "convert -resize 25x25! competition_data/train/trichodesmium_puff/11887.jpg competition_data/train_25x25/trichodesmium_puff/11887.jpg"
       ]
      },
      {
       "output_type": "stream",
       "stream": "stdout",
       "text": [
        "\n",
        "convert -resize 25x25! competition_data/train/trichodesmium_puff/12030.jpg competition_data/train_25x25/trichodesmium_puff/12030.jpg"
       ]
      },
      {
       "output_type": "stream",
       "stream": "stdout",
       "text": [
        "\n",
        "convert -resize 25x25! competition_data/train/trichodesmium_puff/34879.jpg competition_data/train_25x25/trichodesmium_puff/34879.jpg"
       ]
      },
      {
       "output_type": "stream",
       "stream": "stdout",
       "text": [
        "\n",
        "convert -resize 25x25! competition_data/train/trichodesmium_puff/149600.jpg competition_data/train_25x25/trichodesmium_puff/149600.jpg"
       ]
      },
      {
       "output_type": "stream",
       "stream": "stdout",
       "text": [
        "\n",
        "convert -resize 25x25! competition_data/train/trichodesmium_puff/110182.jpg competition_data/train_25x25/trichodesmium_puff/110182.jpg"
       ]
      },
      {
       "output_type": "stream",
       "stream": "stdout",
       "text": [
        "\n",
        "convert -resize 25x25! competition_data/train/trichodesmium_puff/154651.jpg competition_data/train_25x25/trichodesmium_puff/154651.jpg"
       ]
      },
      {
       "output_type": "stream",
       "stream": "stdout",
       "text": [
        "\n",
        "convert -resize 25x25! competition_data/train/trichodesmium_puff/55603.jpg competition_data/train_25x25/trichodesmium_puff/55603.jpg"
       ]
      },
      {
       "output_type": "stream",
       "stream": "stdout",
       "text": [
        "\n",
        "convert -resize 25x25! competition_data/train/trichodesmium_puff/73570.jpg competition_data/train_25x25/trichodesmium_puff/73570.jpg"
       ]
      },
      {
       "output_type": "stream",
       "stream": "stdout",
       "text": [
        "\n",
        "convert -resize 25x25! competition_data/train/trichodesmium_puff/43352.jpg competition_data/train_25x25/trichodesmium_puff/43352.jpg"
       ]
      },
      {
       "output_type": "stream",
       "stream": "stdout",
       "text": [
        "\n",
        "convert -resize 25x25! competition_data/train/trichodesmium_puff/71362.jpg competition_data/train_25x25/trichodesmium_puff/71362.jpg"
       ]
      },
      {
       "output_type": "stream",
       "stream": "stdout",
       "text": [
        "\n",
        "convert -resize 25x25! competition_data/train/trichodesmium_puff/105913.jpg competition_data/train_25x25/trichodesmium_puff/105913.jpg"
       ]
      },
      {
       "output_type": "stream",
       "stream": "stdout",
       "text": [
        "\n",
        "convert -resize 25x25! competition_data/train/trichodesmium_puff/150232.jpg competition_data/train_25x25/trichodesmium_puff/150232.jpg"
       ]
      },
      {
       "output_type": "stream",
       "stream": "stdout",
       "text": [
        "\n",
        "convert -resize 25x25! competition_data/train/trichodesmium_puff/112168.jpg competition_data/train_25x25/trichodesmium_puff/112168.jpg"
       ]
      },
      {
       "output_type": "stream",
       "stream": "stdout",
       "text": [
        "\n",
        "convert -resize 25x25! competition_data/train/trichodesmium_puff/32177.jpg competition_data/train_25x25/trichodesmium_puff/32177.jpg"
       ]
      },
      {
       "output_type": "stream",
       "stream": "stdout",
       "text": [
        "\n",
        "convert -resize 25x25! competition_data/train/trichodesmium_puff/38886.jpg competition_data/train_25x25/trichodesmium_puff/38886.jpg"
       ]
      },
      {
       "output_type": "stream",
       "stream": "stdout",
       "text": [
        "\n",
        "convert -resize 25x25! competition_data/train/trichodesmium_puff/61424.jpg competition_data/train_25x25/trichodesmium_puff/61424.jpg"
       ]
      },
      {
       "output_type": "stream",
       "stream": "stdout",
       "text": [
        "\n",
        "convert -resize 25x25! competition_data/train/trichodesmium_puff/9207.jpg competition_data/train_25x25/trichodesmium_puff/9207.jpg"
       ]
      },
      {
       "output_type": "stream",
       "stream": "stdout",
       "text": [
        "\n",
        "convert -resize 25x25! competition_data/train/trichodesmium_puff/14374.jpg competition_data/train_25x25/trichodesmium_puff/14374.jpg"
       ]
      },
      {
       "output_type": "stream",
       "stream": "stdout",
       "text": [
        "\n",
        "convert -resize 25x25! competition_data/train/trichodesmium_puff/151086.jpg competition_data/train_25x25/trichodesmium_puff/151086.jpg"
       ]
      },
      {
       "output_type": "stream",
       "stream": "stdout",
       "text": [
        "\n",
        "convert -resize 25x25! competition_data/train/trichodesmium_puff/119994.jpg competition_data/train_25x25/trichodesmium_puff/119994.jpg"
       ]
      },
      {
       "output_type": "stream",
       "stream": "stdout",
       "text": [
        "\n",
        "convert -resize 25x25! competition_data/train/trichodesmium_puff/21172.jpg competition_data/train_25x25/trichodesmium_puff/21172.jpg"
       ]
      },
      {
       "output_type": "stream",
       "stream": "stdout",
       "text": [
        "\n",
        "convert -resize 25x25! competition_data/train/trichodesmium_puff/12915.jpg competition_data/train_25x25/trichodesmium_puff/12915.jpg"
       ]
      },
      {
       "output_type": "stream",
       "stream": "stdout",
       "text": [
        "\n",
        "convert -resize 25x25! competition_data/train/trichodesmium_puff/100985.jpg competition_data/train_25x25/trichodesmium_puff/100985.jpg"
       ]
      },
      {
       "output_type": "stream",
       "stream": "stdout",
       "text": [
        "\n",
        "convert -resize 25x25! competition_data/train/trichodesmium_puff/91442.jpg competition_data/train_25x25/trichodesmium_puff/91442.jpg"
       ]
      },
      {
       "output_type": "stream",
       "stream": "stdout",
       "text": [
        "\n",
        "convert -resize 25x25! competition_data/train/trichodesmium_puff/42261.jpg competition_data/train_25x25/trichodesmium_puff/42261.jpg"
       ]
      },
      {
       "output_type": "stream",
       "stream": "stdout",
       "text": [
        "\n",
        "convert -resize 25x25! competition_data/train/trichodesmium_puff/84718.jpg competition_data/train_25x25/trichodesmium_puff/84718.jpg"
       ]
      },
      {
       "output_type": "stream",
       "stream": "stdout",
       "text": [
        "\n",
        "convert -resize 25x25! competition_data/train/trichodesmium_puff/159017.jpg competition_data/train_25x25/trichodesmium_puff/159017.jpg"
       ]
      },
      {
       "output_type": "stream",
       "stream": "stdout",
       "text": [
        "\n",
        "convert -resize 25x25! competition_data/train/trichodesmium_puff/34726.jpg competition_data/train_25x25/trichodesmium_puff/34726.jpg"
       ]
      },
      {
       "output_type": "stream",
       "stream": "stdout",
       "text": [
        "\n",
        "convert -resize 25x25! competition_data/train/trichodesmium_puff/93077.jpg competition_data/train_25x25/trichodesmium_puff/93077.jpg"
       ]
      },
      {
       "output_type": "stream",
       "stream": "stdout",
       "text": [
        "\n",
        "convert -resize 25x25! competition_data/train/trichodesmium_puff/72087.jpg competition_data/train_25x25/trichodesmium_puff/72087.jpg"
       ]
      },
      {
       "output_type": "stream",
       "stream": "stdout",
       "text": [
        "\n",
        "convert -resize 25x25! competition_data/train/trichodesmium_puff/89481.jpg competition_data/train_25x25/trichodesmium_puff/89481.jpg"
       ]
      },
      {
       "output_type": "stream",
       "stream": "stdout",
       "text": [
        "\n",
        "convert -resize 25x25! competition_data/train/trichodesmium_puff/100508.jpg competition_data/train_25x25/trichodesmium_puff/100508.jpg"
       ]
      },
      {
       "output_type": "stream",
       "stream": "stdout",
       "text": [
        "\n",
        "convert -resize 25x25! competition_data/train/trichodesmium_puff/123780.jpg competition_data/train_25x25/trichodesmium_puff/123780.jpg"
       ]
      },
      {
       "output_type": "stream",
       "stream": "stdout",
       "text": [
        "\n",
        "convert -resize 25x25! competition_data/train/trichodesmium_puff/59069.jpg competition_data/train_25x25/trichodesmium_puff/59069.jpg"
       ]
      },
      {
       "output_type": "stream",
       "stream": "stdout",
       "text": [
        "\n",
        "convert -resize 25x25! competition_data/train/trichodesmium_puff/100466.jpg competition_data/train_25x25/trichodesmium_puff/100466.jpg"
       ]
      },
      {
       "output_type": "stream",
       "stream": "stdout",
       "text": [
        "\n",
        "convert -resize 25x25! competition_data/train/trichodesmium_puff/56443.jpg competition_data/train_25x25/trichodesmium_puff/56443.jpg"
       ]
      },
      {
       "output_type": "stream",
       "stream": "stdout",
       "text": [
        "\n",
        "convert -resize 25x25! competition_data/train/trichodesmium_puff/136368.jpg competition_data/train_25x25/trichodesmium_puff/136368.jpg"
       ]
      },
      {
       "output_type": "stream",
       "stream": "stdout",
       "text": [
        "\n",
        "convert -resize 25x25! competition_data/train/trichodesmium_puff/8423.jpg competition_data/train_25x25/trichodesmium_puff/8423.jpg"
       ]
      },
      {
       "output_type": "stream",
       "stream": "stdout",
       "text": [
        "\n",
        "convert -resize 25x25! competition_data/train/trichodesmium_puff/149061.jpg competition_data/train_25x25/trichodesmium_puff/149061.jpg"
       ]
      },
      {
       "output_type": "stream",
       "stream": "stdout",
       "text": [
        "\n",
        "convert -resize 25x25! competition_data/train/trichodesmium_puff/58473.jpg competition_data/train_25x25/trichodesmium_puff/58473.jpg"
       ]
      },
      {
       "output_type": "stream",
       "stream": "stdout",
       "text": [
        "\n",
        "convert -resize 25x25! competition_data/train/trichodesmium_puff/40536.jpg competition_data/train_25x25/trichodesmium_puff/40536.jpg"
       ]
      },
      {
       "output_type": "stream",
       "stream": "stdout",
       "text": [
        "\n",
        "convert -resize 25x25! competition_data/train/trichodesmium_puff/75852.jpg competition_data/train_25x25/trichodesmium_puff/75852.jpg"
       ]
      },
      {
       "output_type": "stream",
       "stream": "stdout",
       "text": [
        "\n",
        "convert -resize 25x25! competition_data/train/trichodesmium_puff/132753.jpg competition_data/train_25x25/trichodesmium_puff/132753.jpg"
       ]
      },
      {
       "output_type": "stream",
       "stream": "stdout",
       "text": [
        "\n",
        "convert -resize 25x25! competition_data/train/trichodesmium_puff/65456.jpg competition_data/train_25x25/trichodesmium_puff/65456.jpg"
       ]
      },
      {
       "output_type": "stream",
       "stream": "stdout",
       "text": [
        "\n",
        "convert -resize 25x25! competition_data/train/trichodesmium_puff/23585.jpg competition_data/train_25x25/trichodesmium_puff/23585.jpg"
       ]
      },
      {
       "output_type": "stream",
       "stream": "stdout",
       "text": [
        "\n",
        "convert -resize 25x25! competition_data/train/trichodesmium_puff/16035.jpg competition_data/train_25x25/trichodesmium_puff/16035.jpg"
       ]
      },
      {
       "output_type": "stream",
       "stream": "stdout",
       "text": [
        "\n",
        "convert -resize 25x25! competition_data/train/trichodesmium_puff/32390.jpg competition_data/train_25x25/trichodesmium_puff/32390.jpg"
       ]
      },
      {
       "output_type": "stream",
       "stream": "stdout",
       "text": [
        "\n",
        "convert -resize 25x25! competition_data/train/trichodesmium_puff/4122.jpg competition_data/train_25x25/trichodesmium_puff/4122.jpg"
       ]
      },
      {
       "output_type": "stream",
       "stream": "stdout",
       "text": [
        "\n",
        "convert -resize 25x25! competition_data/train/trichodesmium_puff/70110.jpg competition_data/train_25x25/trichodesmium_puff/70110.jpg"
       ]
      },
      {
       "output_type": "stream",
       "stream": "stdout",
       "text": [
        "\n",
        "convert -resize 25x25! competition_data/train/trichodesmium_puff/72183.jpg competition_data/train_25x25/trichodesmium_puff/72183.jpg"
       ]
      },
      {
       "output_type": "stream",
       "stream": "stdout",
       "text": [
        "\n",
        "convert -resize 25x25! competition_data/train/trichodesmium_puff/13357.jpg competition_data/train_25x25/trichodesmium_puff/13357.jpg"
       ]
      },
      {
       "output_type": "stream",
       "stream": "stdout",
       "text": [
        "\n",
        "convert -resize 25x25! competition_data/train/trichodesmium_puff/4947.jpg competition_data/train_25x25/trichodesmium_puff/4947.jpg"
       ]
      },
      {
       "output_type": "stream",
       "stream": "stdout",
       "text": [
        "\n",
        "convert -resize 25x25! competition_data/train/trichodesmium_puff/20003.jpg competition_data/train_25x25/trichodesmium_puff/20003.jpg"
       ]
      },
      {
       "output_type": "stream",
       "stream": "stdout",
       "text": [
        "\n",
        "convert -resize 25x25! competition_data/train/trichodesmium_puff/28964.jpg competition_data/train_25x25/trichodesmium_puff/28964.jpg"
       ]
      },
      {
       "output_type": "stream",
       "stream": "stdout",
       "text": [
        "\n",
        "convert -resize 25x25! competition_data/train/trichodesmium_puff/73961.jpg competition_data/train_25x25/trichodesmium_puff/73961.jpg"
       ]
      },
      {
       "output_type": "stream",
       "stream": "stdout",
       "text": [
        "\n",
        "convert -resize 25x25! competition_data/train/trichodesmium_puff/29187.jpg competition_data/train_25x25/trichodesmium_puff/29187.jpg"
       ]
      },
      {
       "output_type": "stream",
       "stream": "stdout",
       "text": [
        "\n",
        "convert -resize 25x25! competition_data/train/trichodesmium_puff/78505.jpg competition_data/train_25x25/trichodesmium_puff/78505.jpg"
       ]
      },
      {
       "output_type": "stream",
       "stream": "stdout",
       "text": [
        "\n",
        "convert -resize 25x25! competition_data/train/trichodesmium_puff/107904.jpg competition_data/train_25x25/trichodesmium_puff/107904.jpg"
       ]
      },
      {
       "output_type": "stream",
       "stream": "stdout",
       "text": [
        "\n",
        "convert -resize 25x25! competition_data/train/trichodesmium_puff/107138.jpg competition_data/train_25x25/trichodesmium_puff/107138.jpg\n",
        "convert -resize 25x25! competition_data/train/trichodesmium_puff/47901.jpg competition_data/train_25x25/trichodesmium_puff/47901.jpg"
       ]
      },
      {
       "output_type": "stream",
       "stream": "stdout",
       "text": [
        "\n",
        "convert -resize 25x25! competition_data/train/trichodesmium_puff/109033.jpg competition_data/train_25x25/trichodesmium_puff/109033.jpg"
       ]
      },
      {
       "output_type": "stream",
       "stream": "stdout",
       "text": [
        "\n",
        "convert -resize 25x25! competition_data/train/trichodesmium_puff/132526.jpg competition_data/train_25x25/trichodesmium_puff/132526.jpg"
       ]
      },
      {
       "output_type": "stream",
       "stream": "stdout",
       "text": [
        "\n",
        "convert -resize 25x25! competition_data/train/trichodesmium_puff/71059.jpg competition_data/train_25x25/trichodesmium_puff/71059.jpg"
       ]
      },
      {
       "output_type": "stream",
       "stream": "stdout",
       "text": [
        "\n",
        "convert -resize 25x25! competition_data/train/trichodesmium_puff/137604.jpg competition_data/train_25x25/trichodesmium_puff/137604.jpg"
       ]
      },
      {
       "output_type": "stream",
       "stream": "stdout",
       "text": [
        "\n",
        "convert -resize 25x25! competition_data/train/trichodesmium_puff/48160.jpg competition_data/train_25x25/trichodesmium_puff/48160.jpg"
       ]
      },
      {
       "output_type": "stream",
       "stream": "stdout",
       "text": [
        "\n",
        "convert -resize 25x25! competition_data/train/trichodesmium_puff/117740.jpg competition_data/train_25x25/trichodesmium_puff/117740.jpg"
       ]
      },
      {
       "output_type": "stream",
       "stream": "stdout",
       "text": [
        "\n",
        "convert -resize 25x25! competition_data/train/trichodesmium_puff/65969.jpg competition_data/train_25x25/trichodesmium_puff/65969.jpg"
       ]
      },
      {
       "output_type": "stream",
       "stream": "stdout",
       "text": [
        "\n",
        "convert -resize 25x25! competition_data/train/trichodesmium_puff/124953.jpg competition_data/train_25x25/trichodesmium_puff/124953.jpg"
       ]
      },
      {
       "output_type": "stream",
       "stream": "stdout",
       "text": [
        "\n",
        "convert -resize 25x25! competition_data/train/trichodesmium_puff/50948.jpg competition_data/train_25x25/trichodesmium_puff/50948.jpg"
       ]
      },
      {
       "output_type": "stream",
       "stream": "stdout",
       "text": [
        "\n",
        "convert -resize 25x25! competition_data/train/trichodesmium_puff/129029.jpg competition_data/train_25x25/trichodesmium_puff/129029.jpg"
       ]
      },
      {
       "output_type": "stream",
       "stream": "stdout",
       "text": [
        "\n",
        "convert -resize 25x25! competition_data/train/trichodesmium_puff/5088.jpg competition_data/train_25x25/trichodesmium_puff/5088.jpg"
       ]
      },
      {
       "output_type": "stream",
       "stream": "stdout",
       "text": [
        "\n",
        "convert -resize 25x25! competition_data/train/trichodesmium_puff/13736.jpg competition_data/train_25x25/trichodesmium_puff/13736.jpg"
       ]
      },
      {
       "output_type": "stream",
       "stream": "stdout",
       "text": [
        "\n",
        "convert -resize 25x25! competition_data/train/trichodesmium_puff/130955.jpg competition_data/train_25x25/trichodesmium_puff/130955.jpg"
       ]
      },
      {
       "output_type": "stream",
       "stream": "stdout",
       "text": [
        "\n",
        "convert -resize 25x25! competition_data/train/trichodesmium_puff/3349.jpg competition_data/train_25x25/trichodesmium_puff/3349.jpg"
       ]
      },
      {
       "output_type": "stream",
       "stream": "stdout",
       "text": [
        "\n",
        "convert -resize 25x25! competition_data/train/trichodesmium_puff/97268.jpg competition_data/train_25x25/trichodesmium_puff/97268.jpg"
       ]
      },
      {
       "output_type": "stream",
       "stream": "stdout",
       "text": [
        "\n",
        "convert -resize 25x25! competition_data/train/trichodesmium_puff/35351.jpg competition_data/train_25x25/trichodesmium_puff/35351.jpg"
       ]
      },
      {
       "output_type": "stream",
       "stream": "stdout",
       "text": [
        "\n",
        "convert -resize 25x25! competition_data/train/trichodesmium_puff/2410.jpg competition_data/train_25x25/trichodesmium_puff/2410.jpg"
       ]
      },
      {
       "output_type": "stream",
       "stream": "stdout",
       "text": [
        "\n",
        "convert -resize 25x25! competition_data/train/trichodesmium_puff/128654.jpg competition_data/train_25x25/trichodesmium_puff/128654.jpg"
       ]
      },
      {
       "output_type": "stream",
       "stream": "stdout",
       "text": [
        "\n",
        "convert -resize 25x25! competition_data/train/trichodesmium_puff/34771.jpg competition_data/train_25x25/trichodesmium_puff/34771.jpg"
       ]
      },
      {
       "output_type": "stream",
       "stream": "stdout",
       "text": [
        "\n",
        "convert -resize 25x25! competition_data/train/trichodesmium_puff/101698.jpg competition_data/train_25x25/trichodesmium_puff/101698.jpg"
       ]
      },
      {
       "output_type": "stream",
       "stream": "stdout",
       "text": [
        "\n",
        "convert -resize 25x25! competition_data/train/trichodesmium_puff/136332.jpg competition_data/train_25x25/trichodesmium_puff/136332.jpg"
       ]
      },
      {
       "output_type": "stream",
       "stream": "stdout",
       "text": [
        "\n",
        "convert -resize 25x25! competition_data/train/trichodesmium_puff/79264.jpg competition_data/train_25x25/trichodesmium_puff/79264.jpg"
       ]
      },
      {
       "output_type": "stream",
       "stream": "stdout",
       "text": [
        "\n",
        "convert -resize 25x25! competition_data/train/trichodesmium_puff/110777.jpg competition_data/train_25x25/trichodesmium_puff/110777.jpg"
       ]
      },
      {
       "output_type": "stream",
       "stream": "stdout",
       "text": [
        "\n",
        "convert -resize 25x25! competition_data/train/trichodesmium_puff/65624.jpg competition_data/train_25x25/trichodesmium_puff/65624.jpg"
       ]
      },
      {
       "output_type": "stream",
       "stream": "stdout",
       "text": [
        "\n",
        "convert -resize 25x25! competition_data/train/trichodesmium_puff/94299.jpg competition_data/train_25x25/trichodesmium_puff/94299.jpg"
       ]
      },
      {
       "output_type": "stream",
       "stream": "stdout",
       "text": [
        "\n",
        "convert -resize 25x25! competition_data/train/trichodesmium_puff/48447.jpg competition_data/train_25x25/trichodesmium_puff/48447.jpg"
       ]
      },
      {
       "output_type": "stream",
       "stream": "stdout",
       "text": [
        "\n",
        "convert -resize 25x25! competition_data/train/trichodesmium_puff/135514.jpg competition_data/train_25x25/trichodesmium_puff/135514.jpg"
       ]
      },
      {
       "output_type": "stream",
       "stream": "stdout",
       "text": [
        "\n",
        "convert -resize 25x25! competition_data/train/trichodesmium_puff/36875.jpg competition_data/train_25x25/trichodesmium_puff/36875.jpg"
       ]
      },
      {
       "output_type": "stream",
       "stream": "stdout",
       "text": [
        "\n",
        "convert -resize 25x25! competition_data/train/trichodesmium_puff/21599.jpg competition_data/train_25x25/trichodesmium_puff/21599.jpg"
       ]
      },
      {
       "output_type": "stream",
       "stream": "stdout",
       "text": [
        "\n",
        "convert -resize 25x25! competition_data/train/trichodesmium_puff/113614.jpg competition_data/train_25x25/trichodesmium_puff/113614.jpg"
       ]
      },
      {
       "output_type": "stream",
       "stream": "stdout",
       "text": [
        "\n",
        "convert -resize 25x25! competition_data/train/trichodesmium_puff/24360.jpg competition_data/train_25x25/trichodesmium_puff/24360.jpg"
       ]
      },
      {
       "output_type": "stream",
       "stream": "stdout",
       "text": [
        "\n",
        "convert -resize 25x25! competition_data/train/trichodesmium_puff/155382.jpg competition_data/train_25x25/trichodesmium_puff/155382.jpg"
       ]
      },
      {
       "output_type": "stream",
       "stream": "stdout",
       "text": [
        "\n",
        "convert -resize 25x25! competition_data/train/trichodesmium_puff/57884.jpg competition_data/train_25x25/trichodesmium_puff/57884.jpg"
       ]
      },
      {
       "output_type": "stream",
       "stream": "stdout",
       "text": [
        "\n",
        "convert -resize 25x25! competition_data/train/trichodesmium_puff/20702.jpg competition_data/train_25x25/trichodesmium_puff/20702.jpg"
       ]
      },
      {
       "output_type": "stream",
       "stream": "stdout",
       "text": [
        "\n",
        "convert -resize 25x25! competition_data/train/trichodesmium_puff/97755.jpg competition_data/train_25x25/trichodesmium_puff/97755.jpg"
       ]
      },
      {
       "output_type": "stream",
       "stream": "stdout",
       "text": [
        "\n",
        "convert -resize 25x25! competition_data/train/trichodesmium_puff/7288.jpg competition_data/train_25x25/trichodesmium_puff/7288.jpg"
       ]
      },
      {
       "output_type": "stream",
       "stream": "stdout",
       "text": [
        "\n",
        "convert -resize 25x25! competition_data/train/trichodesmium_puff/31611.jpg competition_data/train_25x25/trichodesmium_puff/31611.jpg"
       ]
      },
      {
       "output_type": "stream",
       "stream": "stdout",
       "text": [
        "\n",
        "convert -resize 25x25! competition_data/train/trichodesmium_puff/29691.jpg competition_data/train_25x25/trichodesmium_puff/29691.jpg"
       ]
      },
      {
       "output_type": "stream",
       "stream": "stdout",
       "text": [
        "\n",
        "convert -resize 25x25! competition_data/train/trichodesmium_puff/50137.jpg competition_data/train_25x25/trichodesmium_puff/50137.jpg"
       ]
      },
      {
       "output_type": "stream",
       "stream": "stdout",
       "text": [
        "\n",
        "convert -resize 25x25! competition_data/train/trichodesmium_puff/60084.jpg competition_data/train_25x25/trichodesmium_puff/60084.jpg"
       ]
      },
      {
       "output_type": "stream",
       "stream": "stdout",
       "text": [
        "\n",
        "convert -resize 25x25! competition_data/train/trichodesmium_puff/102126.jpg competition_data/train_25x25/trichodesmium_puff/102126.jpg"
       ]
      },
      {
       "output_type": "stream",
       "stream": "stdout",
       "text": [
        "\n",
        "convert -resize 25x25! competition_data/train/trichodesmium_puff/146304.jpg competition_data/train_25x25/trichodesmium_puff/146304.jpg"
       ]
      },
      {
       "output_type": "stream",
       "stream": "stdout",
       "text": [
        "\n",
        "convert -resize 25x25! competition_data/train/trichodesmium_puff/118880.jpg competition_data/train_25x25/trichodesmium_puff/118880.jpg"
       ]
      },
      {
       "output_type": "stream",
       "stream": "stdout",
       "text": [
        "\n",
        "convert -resize 25x25! competition_data/train/trichodesmium_puff/55288.jpg competition_data/train_25x25/trichodesmium_puff/55288.jpg"
       ]
      },
      {
       "output_type": "stream",
       "stream": "stdout",
       "text": [
        "\n",
        "convert -resize 25x25! competition_data/train/trichodesmium_puff/159925.jpg competition_data/train_25x25/trichodesmium_puff/159925.jpg"
       ]
      },
      {
       "output_type": "stream",
       "stream": "stdout",
       "text": [
        "\n",
        "convert -resize 25x25! competition_data/train/trichodesmium_puff/140404.jpg competition_data/train_25x25/trichodesmium_puff/140404.jpg"
       ]
      },
      {
       "output_type": "stream",
       "stream": "stdout",
       "text": [
        "\n",
        "convert -resize 25x25! competition_data/train/trichodesmium_puff/119.jpg competition_data/train_25x25/trichodesmium_puff/119.jpg"
       ]
      },
      {
       "output_type": "stream",
       "stream": "stdout",
       "text": [
        "\n",
        "convert -resize 25x25! competition_data/train/trichodesmium_puff/129775.jpg competition_data/train_25x25/trichodesmium_puff/129775.jpg"
       ]
      },
      {
       "output_type": "stream",
       "stream": "stdout",
       "text": [
        "\n",
        "convert -resize 25x25! competition_data/train/trichodesmium_puff/2252.jpg competition_data/train_25x25/trichodesmium_puff/2252.jpg"
       ]
      },
      {
       "output_type": "stream",
       "stream": "stdout",
       "text": [
        "\n",
        "convert -resize 25x25! competition_data/train/trichodesmium_puff/60215.jpg competition_data/train_25x25/trichodesmium_puff/60215.jpg"
       ]
      },
      {
       "output_type": "stream",
       "stream": "stdout",
       "text": [
        "\n",
        "convert -resize 25x25! competition_data/train/trichodesmium_puff/16510.jpg competition_data/train_25x25/trichodesmium_puff/16510.jpg"
       ]
      },
      {
       "output_type": "stream",
       "stream": "stdout",
       "text": [
        "\n",
        "convert -resize 25x25! competition_data/train/trichodesmium_puff/92727.jpg competition_data/train_25x25/trichodesmium_puff/92727.jpg"
       ]
      },
      {
       "output_type": "stream",
       "stream": "stdout",
       "text": [
        "\n",
        "convert -resize 25x25! competition_data/train/trichodesmium_puff/72586.jpg competition_data/train_25x25/trichodesmium_puff/72586.jpg"
       ]
      },
      {
       "output_type": "stream",
       "stream": "stdout",
       "text": [
        "\n",
        "convert -resize 25x25! competition_data/train/trichodesmium_puff/42662.jpg competition_data/train_25x25/trichodesmium_puff/42662.jpg"
       ]
      },
      {
       "output_type": "stream",
       "stream": "stdout",
       "text": [
        "\n",
        "convert -resize 25x25! competition_data/train/trichodesmium_puff/13843.jpg competition_data/train_25x25/trichodesmium_puff/13843.jpg"
       ]
      },
      {
       "output_type": "stream",
       "stream": "stdout",
       "text": [
        "\n",
        "convert -resize 25x25! competition_data/train/trichodesmium_puff/903.jpg competition_data/train_25x25/trichodesmium_puff/903.jpg"
       ]
      },
      {
       "output_type": "stream",
       "stream": "stdout",
       "text": [
        "\n",
        "convert -resize 25x25! competition_data/train/trichodesmium_puff/136334.jpg competition_data/train_25x25/trichodesmium_puff/136334.jpg"
       ]
      },
      {
       "output_type": "stream",
       "stream": "stdout",
       "text": [
        "\n",
        "convert -resize 25x25! competition_data/train/trichodesmium_puff/82210.jpg competition_data/train_25x25/trichodesmium_puff/82210.jpg"
       ]
      },
      {
       "output_type": "stream",
       "stream": "stdout",
       "text": [
        "\n",
        "convert -resize 25x25! competition_data/train/trichodesmium_puff/72557.jpg competition_data/train_25x25/trichodesmium_puff/72557.jpg"
       ]
      },
      {
       "output_type": "stream",
       "stream": "stdout",
       "text": [
        "\n",
        "convert -resize 25x25! competition_data/train/trichodesmium_puff/82461.jpg competition_data/train_25x25/trichodesmium_puff/82461.jpg"
       ]
      },
      {
       "output_type": "stream",
       "stream": "stdout",
       "text": [
        "\n",
        "convert -resize 25x25! competition_data/train/trichodesmium_puff/21233.jpg competition_data/train_25x25/trichodesmium_puff/21233.jpg"
       ]
      },
      {
       "output_type": "stream",
       "stream": "stdout",
       "text": [
        "\n",
        "convert -resize 25x25! competition_data/train/trichodesmium_puff/143178.jpg competition_data/train_25x25/trichodesmium_puff/143178.jpg"
       ]
      },
      {
       "output_type": "stream",
       "stream": "stdout",
       "text": [
        "\n",
        "convert -resize 25x25! competition_data/train/trichodesmium_puff/98874.jpg competition_data/train_25x25/trichodesmium_puff/98874.jpg"
       ]
      },
      {
       "output_type": "stream",
       "stream": "stdout",
       "text": [
        "\n",
        "convert -resize 25x25! competition_data/train/trichodesmium_puff/86584.jpg competition_data/train_25x25/trichodesmium_puff/86584.jpg"
       ]
      },
      {
       "output_type": "stream",
       "stream": "stdout",
       "text": [
        "\n",
        "convert -resize 25x25! competition_data/train/trichodesmium_puff/147542.jpg competition_data/train_25x25/trichodesmium_puff/147542.jpg"
       ]
      },
      {
       "output_type": "stream",
       "stream": "stdout",
       "text": [
        "\n",
        "convert -resize 25x25! competition_data/train/trichodesmium_puff/39152.jpg competition_data/train_25x25/trichodesmium_puff/39152.jpg"
       ]
      },
      {
       "output_type": "stream",
       "stream": "stdout",
       "text": [
        "\n",
        "convert -resize 25x25! competition_data/train/trichodesmium_puff/101716.jpg competition_data/train_25x25/trichodesmium_puff/101716.jpg"
       ]
      },
      {
       "output_type": "stream",
       "stream": "stdout",
       "text": [
        "\n",
        "convert -resize 25x25! competition_data/train/trichodesmium_puff/28331.jpg competition_data/train_25x25/trichodesmium_puff/28331.jpg"
       ]
      },
      {
       "output_type": "stream",
       "stream": "stdout",
       "text": [
        "\n",
        "convert -resize 25x25! competition_data/train/trichodesmium_puff/62104.jpg competition_data/train_25x25/trichodesmium_puff/62104.jpg"
       ]
      },
      {
       "output_type": "stream",
       "stream": "stdout",
       "text": [
        "\n",
        "convert -resize 25x25! competition_data/train/trichodesmium_puff/126033.jpg competition_data/train_25x25/trichodesmium_puff/126033.jpg"
       ]
      },
      {
       "output_type": "stream",
       "stream": "stdout",
       "text": [
        "\n",
        "convert -resize 25x25! competition_data/train/trichodesmium_puff/100633.jpg competition_data/train_25x25/trichodesmium_puff/100633.jpg"
       ]
      },
      {
       "output_type": "stream",
       "stream": "stdout",
       "text": [
        "\n",
        "convert -resize 25x25! competition_data/train/trichodesmium_puff/15280.jpg competition_data/train_25x25/trichodesmium_puff/15280.jpg"
       ]
      },
      {
       "output_type": "stream",
       "stream": "stdout",
       "text": [
        "\n",
        "convert -resize 25x25! competition_data/train/trichodesmium_puff/135769.jpg competition_data/train_25x25/trichodesmium_puff/135769.jpg"
       ]
      },
      {
       "output_type": "stream",
       "stream": "stdout",
       "text": [
        "\n",
        "convert -resize 25x25! competition_data/train/trichodesmium_puff/44080.jpg competition_data/train_25x25/trichodesmium_puff/44080.jpg"
       ]
      },
      {
       "output_type": "stream",
       "stream": "stdout",
       "text": [
        "\n",
        "convert -resize 25x25! competition_data/train/trichodesmium_puff/128783.jpg competition_data/train_25x25/trichodesmium_puff/128783.jpg"
       ]
      },
      {
       "output_type": "stream",
       "stream": "stdout",
       "text": [
        "\n",
        "convert -resize 25x25! competition_data/train/trichodesmium_puff/84006.jpg competition_data/train_25x25/trichodesmium_puff/84006.jpg"
       ]
      },
      {
       "output_type": "stream",
       "stream": "stdout",
       "text": [
        "\n",
        "convert -resize 25x25! competition_data/train/trichodesmium_puff/131662.jpg competition_data/train_25x25/trichodesmium_puff/131662.jpg"
       ]
      },
      {
       "output_type": "stream",
       "stream": "stdout",
       "text": [
        "\n",
        "convert -resize 25x25! competition_data/train/trichodesmium_puff/129387.jpg competition_data/train_25x25/trichodesmium_puff/129387.jpg"
       ]
      },
      {
       "output_type": "stream",
       "stream": "stdout",
       "text": [
        "\n",
        "convert -resize 25x25! competition_data/train/trichodesmium_puff/120672.jpg competition_data/train_25x25/trichodesmium_puff/120672.jpg"
       ]
      },
      {
       "output_type": "stream",
       "stream": "stdout",
       "text": [
        "\n",
        "convert -resize 25x25! competition_data/train/trichodesmium_puff/128810.jpg competition_data/train_25x25/trichodesmium_puff/128810.jpg"
       ]
      },
      {
       "output_type": "stream",
       "stream": "stdout",
       "text": [
        "\n",
        "convert -resize 25x25! competition_data/train/trichodesmium_puff/107340.jpg competition_data/train_25x25/trichodesmium_puff/107340.jpg"
       ]
      },
      {
       "output_type": "stream",
       "stream": "stdout",
       "text": [
        "\n",
        "convert -resize 25x25! competition_data/train/trichodesmium_puff/104919.jpg competition_data/train_25x25/trichodesmium_puff/104919.jpg"
       ]
      },
      {
       "output_type": "stream",
       "stream": "stdout",
       "text": [
        "\n",
        "convert -resize 25x25! competition_data/train/trichodesmium_puff/143973.jpg competition_data/train_25x25/trichodesmium_puff/143973.jpg"
       ]
      },
      {
       "output_type": "stream",
       "stream": "stdout",
       "text": [
        "\n",
        "convert -resize 25x25! competition_data/train/trichodesmium_puff/88237.jpg competition_data/train_25x25/trichodesmium_puff/88237.jpg"
       ]
      },
      {
       "output_type": "stream",
       "stream": "stdout",
       "text": [
        "\n",
        "convert -resize 25x25! competition_data/train/trichodesmium_puff/31187.jpg competition_data/train_25x25/trichodesmium_puff/31187.jpg"
       ]
      },
      {
       "output_type": "stream",
       "stream": "stdout",
       "text": [
        "\n",
        "convert -resize 25x25! competition_data/train/trichodesmium_puff/59297.jpg competition_data/train_25x25/trichodesmium_puff/59297.jpg"
       ]
      },
      {
       "output_type": "stream",
       "stream": "stdout",
       "text": [
        "\n",
        "convert -resize 25x25! competition_data/train/trichodesmium_puff/110101.jpg competition_data/train_25x25/trichodesmium_puff/110101.jpg"
       ]
      },
      {
       "output_type": "stream",
       "stream": "stdout",
       "text": [
        "\n",
        "convert -resize 25x25! competition_data/train/trichodesmium_puff/65339.jpg competition_data/train_25x25/trichodesmium_puff/65339.jpg"
       ]
      },
      {
       "output_type": "stream",
       "stream": "stdout",
       "text": [
        "\n",
        "convert -resize 25x25! competition_data/train/trichodesmium_puff/153589.jpg competition_data/train_25x25/trichodesmium_puff/153589.jpg"
       ]
      },
      {
       "output_type": "stream",
       "stream": "stdout",
       "text": [
        "\n",
        "convert -resize 25x25! competition_data/train/trichodesmium_puff/89548.jpg competition_data/train_25x25/trichodesmium_puff/89548.jpg"
       ]
      },
      {
       "output_type": "stream",
       "stream": "stdout",
       "text": [
        "\n",
        "convert -resize 25x25! competition_data/train/trichodesmium_puff/98954.jpg competition_data/train_25x25/trichodesmium_puff/98954.jpg"
       ]
      },
      {
       "output_type": "stream",
       "stream": "stdout",
       "text": [
        "\n",
        "convert -resize 25x25! competition_data/train/trichodesmium_puff/127165.jpg competition_data/train_25x25/trichodesmium_puff/127165.jpg"
       ]
      },
      {
       "output_type": "stream",
       "stream": "stdout",
       "text": [
        "\n",
        "convert -resize 25x25! competition_data/train/trichodesmium_puff/74143.jpg competition_data/train_25x25/trichodesmium_puff/74143.jpg"
       ]
      },
      {
       "output_type": "stream",
       "stream": "stdout",
       "text": [
        "\n",
        "convert -resize 25x25! competition_data/train/trichodesmium_puff/32756.jpg competition_data/train_25x25/trichodesmium_puff/32756.jpg"
       ]
      },
      {
       "output_type": "stream",
       "stream": "stdout",
       "text": [
        "\n",
        "convert -resize 25x25! competition_data/train/trichodesmium_puff/13384.jpg competition_data/train_25x25/trichodesmium_puff/13384.jpg"
       ]
      },
      {
       "output_type": "stream",
       "stream": "stdout",
       "text": [
        "\n",
        "convert -resize 25x25! competition_data/train/trichodesmium_puff/100202.jpg competition_data/train_25x25/trichodesmium_puff/100202.jpg"
       ]
      },
      {
       "output_type": "stream",
       "stream": "stdout",
       "text": [
        "\n",
        "convert -resize 25x25! competition_data/train/trichodesmium_puff/84578.jpg competition_data/train_25x25/trichodesmium_puff/84578.jpg"
       ]
      },
      {
       "output_type": "stream",
       "stream": "stdout",
       "text": [
        "\n",
        "convert -resize 25x25! competition_data/train/trichodesmium_puff/48529.jpg competition_data/train_25x25/trichodesmium_puff/48529.jpg"
       ]
      },
      {
       "output_type": "stream",
       "stream": "stdout",
       "text": [
        "\n",
        "convert -resize 25x25! competition_data/train/trichodesmium_puff/120485.jpg competition_data/train_25x25/trichodesmium_puff/120485.jpg"
       ]
      },
      {
       "output_type": "stream",
       "stream": "stdout",
       "text": [
        "\n",
        "convert -resize 25x25! competition_data/train/trichodesmium_puff/74306.jpg competition_data/train_25x25/trichodesmium_puff/74306.jpg"
       ]
      },
      {
       "output_type": "stream",
       "stream": "stdout",
       "text": [
        "\n",
        "convert -resize 25x25! competition_data/train/trichodesmium_puff/48860.jpg competition_data/train_25x25/trichodesmium_puff/48860.jpg"
       ]
      },
      {
       "output_type": "stream",
       "stream": "stdout",
       "text": [
        "\n",
        "convert -resize 25x25! competition_data/train/trichodesmium_puff/105410.jpg competition_data/train_25x25/trichodesmium_puff/105410.jpg"
       ]
      },
      {
       "output_type": "stream",
       "stream": "stdout",
       "text": [
        "\n",
        "convert -resize 25x25! competition_data/train/trichodesmium_puff/26822.jpg competition_data/train_25x25/trichodesmium_puff/26822.jpg"
       ]
      },
      {
       "output_type": "stream",
       "stream": "stdout",
       "text": [
        "\n",
        "convert -resize 25x25! competition_data/train/trichodesmium_puff/76872.jpg competition_data/train_25x25/trichodesmium_puff/76872.jpg"
       ]
      },
      {
       "output_type": "stream",
       "stream": "stdout",
       "text": [
        "\n",
        "convert -resize 25x25! competition_data/train/trichodesmium_puff/44986.jpg competition_data/train_25x25/trichodesmium_puff/44986.jpg\n",
        "convert -resize 25x25! competition_data/train/trichodesmium_puff/1724.jpg competition_data/train_25x25/trichodesmium_puff/1724.jpg"
       ]
      },
      {
       "output_type": "stream",
       "stream": "stdout",
       "text": [
        "\n",
        "convert -resize 25x25! competition_data/train/trichodesmium_puff/11868.jpg competition_data/train_25x25/trichodesmium_puff/11868.jpg"
       ]
      },
      {
       "output_type": "stream",
       "stream": "stdout",
       "text": [
        "\n",
        "convert -resize 25x25! competition_data/train/trichodesmium_puff/71232.jpg competition_data/train_25x25/trichodesmium_puff/71232.jpg\n",
        "convert -resize 25x25! competition_data/train/trichodesmium_puff/150100.jpg competition_data/train_25x25/trichodesmium_puff/150100.jpg"
       ]
      },
      {
       "output_type": "stream",
       "stream": "stdout",
       "text": [
        "\n",
        "convert -resize 25x25! competition_data/train/trichodesmium_puff/42663.jpg competition_data/train_25x25/trichodesmium_puff/42663.jpg\n",
        "convert -resize 25x25! competition_data/train/trichodesmium_puff/67293.jpg competition_data/train_25x25/trichodesmium_puff/67293.jpg"
       ]
      },
      {
       "output_type": "stream",
       "stream": "stdout",
       "text": [
        "\n",
        "convert -resize 25x25! competition_data/train/trichodesmium_puff/111345.jpg competition_data/train_25x25/trichodesmium_puff/111345.jpg"
       ]
      },
      {
       "output_type": "stream",
       "stream": "stdout",
       "text": [
        "\n",
        "convert -resize 25x25! competition_data/train/trichodesmium_puff/22870.jpg competition_data/train_25x25/trichodesmium_puff/22870.jpg\n",
        "convert -resize 25x25! competition_data/train/trichodesmium_puff/159483.jpg competition_data/train_25x25/trichodesmium_puff/159483.jpg"
       ]
      },
      {
       "output_type": "stream",
       "stream": "stdout",
       "text": [
        "\n",
        "convert -resize 25x25! competition_data/train/trichodesmium_puff/24006.jpg competition_data/train_25x25/trichodesmium_puff/24006.jpg"
       ]
      },
      {
       "output_type": "stream",
       "stream": "stdout",
       "text": [
        "\n",
        "convert -resize 25x25! competition_data/train/trichodesmium_puff/117837.jpg competition_data/train_25x25/trichodesmium_puff/117837.jpg"
       ]
      },
      {
       "output_type": "stream",
       "stream": "stdout",
       "text": [
        "\n",
        "convert -resize 25x25! competition_data/train/trichodesmium_puff/87153.jpg competition_data/train_25x25/trichodesmium_puff/87153.jpg"
       ]
      },
      {
       "output_type": "stream",
       "stream": "stdout",
       "text": [
        "\n",
        "convert -resize 25x25! competition_data/train/trichodesmium_puff/64002.jpg competition_data/train_25x25/trichodesmium_puff/64002.jpg"
       ]
      },
      {
       "output_type": "stream",
       "stream": "stdout",
       "text": [
        "\n",
        "convert -resize 25x25! competition_data/train/trichodesmium_puff/56402.jpg competition_data/train_25x25/trichodesmium_puff/56402.jpg"
       ]
      },
      {
       "output_type": "stream",
       "stream": "stdout",
       "text": [
        "\n",
        "convert -resize 25x25! competition_data/train/trichodesmium_puff/126669.jpg competition_data/train_25x25/trichodesmium_puff/126669.jpg"
       ]
      },
      {
       "output_type": "stream",
       "stream": "stdout",
       "text": [
        "\n",
        "convert -resize 25x25! competition_data/train/trichodesmium_puff/44227.jpg competition_data/train_25x25/trichodesmium_puff/44227.jpg"
       ]
      },
      {
       "output_type": "stream",
       "stream": "stdout",
       "text": [
        "\n",
        "convert -resize 25x25! competition_data/train/trichodesmium_puff/72423.jpg competition_data/train_25x25/trichodesmium_puff/72423.jpg"
       ]
      },
      {
       "output_type": "stream",
       "stream": "stdout",
       "text": [
        "\n",
        "convert -resize 25x25! competition_data/train/trichodesmium_puff/113069.jpg competition_data/train_25x25/trichodesmium_puff/113069.jpg"
       ]
      },
      {
       "output_type": "stream",
       "stream": "stdout",
       "text": [
        "\n",
        "convert -resize 25x25! competition_data/train/trichodesmium_puff/76731.jpg competition_data/train_25x25/trichodesmium_puff/76731.jpg"
       ]
      },
      {
       "output_type": "stream",
       "stream": "stdout",
       "text": [
        "\n",
        "convert -resize 25x25! competition_data/train/trichodesmium_puff/46543.jpg competition_data/train_25x25/trichodesmium_puff/46543.jpg"
       ]
      },
      {
       "output_type": "stream",
       "stream": "stdout",
       "text": [
        "\n",
        "convert -resize 25x25! competition_data/train/trichodesmium_puff/75496.jpg competition_data/train_25x25/trichodesmium_puff/75496.jpg"
       ]
      },
      {
       "output_type": "stream",
       "stream": "stdout",
       "text": [
        "\n",
        "convert -resize 25x25! competition_data/train/trichodesmium_puff/8180.jpg competition_data/train_25x25/trichodesmium_puff/8180.jpg"
       ]
      },
      {
       "output_type": "stream",
       "stream": "stdout",
       "text": [
        "\n",
        "convert -resize 25x25! competition_data/train/trichodesmium_puff/97104.jpg competition_data/train_25x25/trichodesmium_puff/97104.jpg"
       ]
      },
      {
       "output_type": "stream",
       "stream": "stdout",
       "text": [
        "\n",
        "convert -resize 25x25! competition_data/train/trichodesmium_puff/137120.jpg competition_data/train_25x25/trichodesmium_puff/137120.jpg"
       ]
      },
      {
       "output_type": "stream",
       "stream": "stdout",
       "text": [
        "\n",
        "convert -resize 25x25! competition_data/train/trichodesmium_puff/100323.jpg competition_data/train_25x25/trichodesmium_puff/100323.jpg"
       ]
      },
      {
       "output_type": "stream",
       "stream": "stdout",
       "text": [
        "\n",
        "convert -resize 25x25! competition_data/train/trichodesmium_puff/144650.jpg competition_data/train_25x25/trichodesmium_puff/144650.jpg"
       ]
      },
      {
       "output_type": "stream",
       "stream": "stdout",
       "text": [
        "\n",
        "convert -resize 25x25! competition_data/train/trichodesmium_puff/99730.jpg competition_data/train_25x25/trichodesmium_puff/99730.jpg"
       ]
      },
      {
       "output_type": "stream",
       "stream": "stdout",
       "text": [
        "\n",
        "convert -resize 25x25! competition_data/train/trichodesmium_puff/36601.jpg competition_data/train_25x25/trichodesmium_puff/36601.jpg"
       ]
      },
      {
       "output_type": "stream",
       "stream": "stdout",
       "text": [
        "\n",
        "convert -resize 25x25! competition_data/train/trichodesmium_puff/147807.jpg competition_data/train_25x25/trichodesmium_puff/147807.jpg"
       ]
      },
      {
       "output_type": "stream",
       "stream": "stdout",
       "text": [
        "\n",
        "convert -resize 25x25! competition_data/train/trichodesmium_puff/67463.jpg competition_data/train_25x25/trichodesmium_puff/67463.jpg"
       ]
      },
      {
       "output_type": "stream",
       "stream": "stdout",
       "text": [
        "\n",
        "convert -resize 25x25! competition_data/train/trichodesmium_puff/59598.jpg competition_data/train_25x25/trichodesmium_puff/59598.jpg"
       ]
      },
      {
       "output_type": "stream",
       "stream": "stdout",
       "text": [
        "\n",
        "convert -resize 25x25! competition_data/train/trichodesmium_puff/1253.jpg competition_data/train_25x25/trichodesmium_puff/1253.jpg"
       ]
      },
      {
       "output_type": "stream",
       "stream": "stdout",
       "text": [
        "\n",
        "convert -resize 25x25! competition_data/train/trichodesmium_puff/101027.jpg competition_data/train_25x25/trichodesmium_puff/101027.jpg"
       ]
      },
      {
       "output_type": "stream",
       "stream": "stdout",
       "text": [
        "\n",
        "convert -resize 25x25! competition_data/train/trichodesmium_puff/29733.jpg competition_data/train_25x25/trichodesmium_puff/29733.jpg"
       ]
      },
      {
       "output_type": "stream",
       "stream": "stdout",
       "text": [
        "\n",
        "convert -resize 25x25! competition_data/train/trichodesmium_puff/7314.jpg competition_data/train_25x25/trichodesmium_puff/7314.jpg"
       ]
      },
      {
       "output_type": "stream",
       "stream": "stdout",
       "text": [
        "\n",
        "convert -resize 25x25! competition_data/train/trichodesmium_puff/108853.jpg competition_data/train_25x25/trichodesmium_puff/108853.jpg"
       ]
      },
      {
       "output_type": "stream",
       "stream": "stdout",
       "text": [
        "\n",
        "convert -resize 25x25! competition_data/train/trichodesmium_puff/147871.jpg competition_data/train_25x25/trichodesmium_puff/147871.jpg"
       ]
      },
      {
       "output_type": "stream",
       "stream": "stdout",
       "text": [
        "\n",
        "convert -resize 25x25! competition_data/train/trichodesmium_puff/4691.jpg competition_data/train_25x25/trichodesmium_puff/4691.jpg"
       ]
      },
      {
       "output_type": "stream",
       "stream": "stdout",
       "text": [
        "\n",
        "convert -resize 25x25! competition_data/train/trichodesmium_puff/85880.jpg competition_data/train_25x25/trichodesmium_puff/85880.jpg"
       ]
      },
      {
       "output_type": "stream",
       "stream": "stdout",
       "text": [
        "\n",
        "convert -resize 25x25! competition_data/train/trichodesmium_puff/85559.jpg competition_data/train_25x25/trichodesmium_puff/85559.jpg"
       ]
      },
      {
       "output_type": "stream",
       "stream": "stdout",
       "text": [
        "\n",
        "convert -resize 25x25! competition_data/train/trichodesmium_puff/104960.jpg competition_data/train_25x25/trichodesmium_puff/104960.jpg"
       ]
      },
      {
       "output_type": "stream",
       "stream": "stdout",
       "text": [
        "\n",
        "convert -resize 25x25! competition_data/train/trichodesmium_puff/64806.jpg competition_data/train_25x25/trichodesmium_puff/64806.jpg"
       ]
      },
      {
       "output_type": "stream",
       "stream": "stdout",
       "text": [
        "\n",
        "convert -resize 25x25! competition_data/train/trichodesmium_puff/41762.jpg competition_data/train_25x25/trichodesmium_puff/41762.jpg"
       ]
      },
      {
       "output_type": "stream",
       "stream": "stdout",
       "text": [
        "\n",
        "convert -resize 25x25! competition_data/train/trichodesmium_puff/6625.jpg competition_data/train_25x25/trichodesmium_puff/6625.jpg"
       ]
      },
      {
       "output_type": "stream",
       "stream": "stdout",
       "text": [
        "\n",
        "convert -resize 25x25! competition_data/train/trichodesmium_puff/46908.jpg competition_data/train_25x25/trichodesmium_puff/46908.jpg"
       ]
      },
      {
       "output_type": "stream",
       "stream": "stdout",
       "text": [
        "\n",
        "convert -resize 25x25! competition_data/train/trichodesmium_puff/122833.jpg competition_data/train_25x25/trichodesmium_puff/122833.jpg"
       ]
      },
      {
       "output_type": "stream",
       "stream": "stdout",
       "text": [
        "\n",
        "convert -resize 25x25! competition_data/train/trichodesmium_puff/157586.jpg competition_data/train_25x25/trichodesmium_puff/157586.jpg"
       ]
      },
      {
       "output_type": "stream",
       "stream": "stdout",
       "text": [
        "\n",
        "convert -resize 25x25! competition_data/train/trichodesmium_puff/148470.jpg competition_data/train_25x25/trichodesmium_puff/148470.jpg"
       ]
      },
      {
       "output_type": "stream",
       "stream": "stdout",
       "text": [
        "\n",
        "convert -resize 25x25! competition_data/train/trichodesmium_puff/131880.jpg competition_data/train_25x25/trichodesmium_puff/131880.jpg"
       ]
      },
      {
       "output_type": "stream",
       "stream": "stdout",
       "text": [
        "\n",
        "convert -resize 25x25! competition_data/train/trichodesmium_puff/99486.jpg competition_data/train_25x25/trichodesmium_puff/99486.jpg"
       ]
      },
      {
       "output_type": "stream",
       "stream": "stdout",
       "text": [
        "\n",
        "convert -resize 25x25! competition_data/train/trichodesmium_puff/23074.jpg competition_data/train_25x25/trichodesmium_puff/23074.jpg"
       ]
      },
      {
       "output_type": "stream",
       "stream": "stdout",
       "text": [
        "\n",
        "convert -resize 25x25! competition_data/train/trichodesmium_puff/36237.jpg competition_data/train_25x25/trichodesmium_puff/36237.jpg"
       ]
      },
      {
       "output_type": "stream",
       "stream": "stdout",
       "text": [
        "\n",
        "convert -resize 25x25! competition_data/train/trichodesmium_puff/84726.jpg competition_data/train_25x25/trichodesmium_puff/84726.jpg"
       ]
      },
      {
       "output_type": "stream",
       "stream": "stdout",
       "text": [
        "\n",
        "convert -resize 25x25! competition_data/train/trichodesmium_puff/78290.jpg competition_data/train_25x25/trichodesmium_puff/78290.jpg"
       ]
      },
      {
       "output_type": "stream",
       "stream": "stdout",
       "text": [
        "\n",
        "convert -resize 25x25! competition_data/train/trichodesmium_puff/96640.jpg competition_data/train_25x25/trichodesmium_puff/96640.jpg"
       ]
      },
      {
       "output_type": "stream",
       "stream": "stdout",
       "text": [
        "\n",
        "convert -resize 25x25! competition_data/train/trichodesmium_puff/148652.jpg competition_data/train_25x25/trichodesmium_puff/148652.jpg"
       ]
      },
      {
       "output_type": "stream",
       "stream": "stdout",
       "text": [
        "\n",
        "convert -resize 25x25! competition_data/train/trichodesmium_puff/62550.jpg competition_data/train_25x25/trichodesmium_puff/62550.jpg"
       ]
      },
      {
       "output_type": "stream",
       "stream": "stdout",
       "text": [
        "\n",
        "convert -resize 25x25! competition_data/train/trichodesmium_puff/94863.jpg competition_data/train_25x25/trichodesmium_puff/94863.jpg"
       ]
      },
      {
       "output_type": "stream",
       "stream": "stdout",
       "text": [
        "\n",
        "convert -resize 25x25! competition_data/train/trichodesmium_puff/92478.jpg competition_data/train_25x25/trichodesmium_puff/92478.jpg"
       ]
      },
      {
       "output_type": "stream",
       "stream": "stdout",
       "text": [
        "\n",
        "convert -resize 25x25! competition_data/train/trichodesmium_puff/56360.jpg competition_data/train_25x25/trichodesmium_puff/56360.jpg"
       ]
      },
      {
       "output_type": "stream",
       "stream": "stdout",
       "text": [
        "\n",
        "convert -resize 25x25! competition_data/train/trichodesmium_puff/55982.jpg competition_data/train_25x25/trichodesmium_puff/55982.jpg"
       ]
      },
      {
       "output_type": "stream",
       "stream": "stdout",
       "text": [
        "\n",
        "convert -resize 25x25! competition_data/train/trichodesmium_puff/124443.jpg competition_data/train_25x25/trichodesmium_puff/124443.jpg"
       ]
      },
      {
       "output_type": "stream",
       "stream": "stdout",
       "text": [
        "\n",
        "convert -resize 25x25! competition_data/train/trichodesmium_puff/30936.jpg competition_data/train_25x25/trichodesmium_puff/30936.jpg"
       ]
      },
      {
       "output_type": "stream",
       "stream": "stdout",
       "text": [
        "\n",
        "convert -resize 25x25! competition_data/train/trichodesmium_puff/85026.jpg competition_data/train_25x25/trichodesmium_puff/85026.jpg"
       ]
      },
      {
       "output_type": "stream",
       "stream": "stdout",
       "text": [
        "\n",
        "convert -resize 25x25! competition_data/train/trichodesmium_puff/110808.jpg competition_data/train_25x25/trichodesmium_puff/110808.jpg"
       ]
      },
      {
       "output_type": "stream",
       "stream": "stdout",
       "text": [
        "\n",
        "convert -resize 25x25! competition_data/train/trichodesmium_puff/134576.jpg competition_data/train_25x25/trichodesmium_puff/134576.jpg"
       ]
      },
      {
       "output_type": "stream",
       "stream": "stdout",
       "text": [
        "\n",
        "convert -resize 25x25! competition_data/train/trichodesmium_puff/36178.jpg competition_data/train_25x25/trichodesmium_puff/36178.jpg"
       ]
      },
      {
       "output_type": "stream",
       "stream": "stdout",
       "text": [
        "\n",
        "convert -resize 25x25! competition_data/train/trichodesmium_puff/48667.jpg competition_data/train_25x25/trichodesmium_puff/48667.jpg"
       ]
      },
      {
       "output_type": "stream",
       "stream": "stdout",
       "text": [
        "\n",
        "convert -resize 25x25! competition_data/train/trichodesmium_puff/158452.jpg competition_data/train_25x25/trichodesmium_puff/158452.jpg"
       ]
      },
      {
       "output_type": "stream",
       "stream": "stdout",
       "text": [
        "\n",
        "convert -resize 25x25! competition_data/train/trichodesmium_puff/132455.jpg competition_data/train_25x25/trichodesmium_puff/132455.jpg"
       ]
      },
      {
       "output_type": "stream",
       "stream": "stdout",
       "text": [
        "\n",
        "convert -resize 25x25! competition_data/train/trichodesmium_puff/144064.jpg competition_data/train_25x25/trichodesmium_puff/144064.jpg"
       ]
      },
      {
       "output_type": "stream",
       "stream": "stdout",
       "text": [
        "\n",
        "convert -resize 25x25! competition_data/train/trichodesmium_puff/72646.jpg competition_data/train_25x25/trichodesmium_puff/72646.jpg\n",
        "convert -resize 25x25! competition_data/train/trichodesmium_puff/51550.jpg competition_data/train_25x25/trichodesmium_puff/51550.jpg"
       ]
      },
      {
       "output_type": "stream",
       "stream": "stdout",
       "text": [
        "\n",
        "convert -resize 25x25! competition_data/train/trichodesmium_puff/103895.jpg competition_data/train_25x25/trichodesmium_puff/103895.jpg"
       ]
      },
      {
       "output_type": "stream",
       "stream": "stdout",
       "text": [
        "\n",
        "convert -resize 25x25! competition_data/train/trichodesmium_puff/14254.jpg competition_data/train_25x25/trichodesmium_puff/14254.jpg"
       ]
      },
      {
       "output_type": "stream",
       "stream": "stdout",
       "text": [
        "\n",
        "convert -resize 25x25! competition_data/train/trichodesmium_puff/89006.jpg competition_data/train_25x25/trichodesmium_puff/89006.jpg\n",
        "convert -resize 25x25! competition_data/train/trichodesmium_puff/84601.jpg competition_data/train_25x25/trichodesmium_puff/84601.jpg"
       ]
      },
      {
       "output_type": "stream",
       "stream": "stdout",
       "text": [
        "\n",
        "convert -resize 25x25! competition_data/train/trichodesmium_puff/21797.jpg competition_data/train_25x25/trichodesmium_puff/21797.jpg"
       ]
      },
      {
       "output_type": "stream",
       "stream": "stdout",
       "text": [
        "\n",
        "convert -resize 25x25! competition_data/train/trichodesmium_puff/83761.jpg competition_data/train_25x25/trichodesmium_puff/83761.jpg"
       ]
      },
      {
       "output_type": "stream",
       "stream": "stdout",
       "text": [
        "\n",
        "convert -resize 25x25! competition_data/train/trichodesmium_puff/60078.jpg competition_data/train_25x25/trichodesmium_puff/60078.jpg\n",
        "convert -resize 25x25! competition_data/train/trichodesmium_puff/14997.jpg competition_data/train_25x25/trichodesmium_puff/14997.jpg"
       ]
      },
      {
       "output_type": "stream",
       "stream": "stdout",
       "text": [
        "\n",
        "convert -resize 25x25! competition_data/train/trichodesmium_puff/131103.jpg competition_data/train_25x25/trichodesmium_puff/131103.jpg"
       ]
      },
      {
       "output_type": "stream",
       "stream": "stdout",
       "text": [
        "\n",
        "convert -resize 25x25! competition_data/train/trichodesmium_puff/103296.jpg competition_data/train_25x25/trichodesmium_puff/103296.jpg"
       ]
      },
      {
       "output_type": "stream",
       "stream": "stdout",
       "text": [
        "\n",
        "convert -resize 25x25! competition_data/train/trichodesmium_puff/127050.jpg competition_data/train_25x25/trichodesmium_puff/127050.jpg"
       ]
      },
      {
       "output_type": "stream",
       "stream": "stdout",
       "text": [
        "\n",
        "convert -resize 25x25! competition_data/train/trichodesmium_puff/25825.jpg competition_data/train_25x25/trichodesmium_puff/25825.jpg"
       ]
      },
      {
       "output_type": "stream",
       "stream": "stdout",
       "text": [
        "\n",
        "convert -resize 25x25! competition_data/train/trichodesmium_puff/83545.jpg competition_data/train_25x25/trichodesmium_puff/83545.jpg"
       ]
      },
      {
       "output_type": "stream",
       "stream": "stdout",
       "text": [
        "\n",
        "convert -resize 25x25! competition_data/train/trichodesmium_puff/31070.jpg competition_data/train_25x25/trichodesmium_puff/31070.jpg"
       ]
      },
      {
       "output_type": "stream",
       "stream": "stdout",
       "text": [
        "\n",
        "convert -resize 25x25! competition_data/train/trichodesmium_puff/130753.jpg competition_data/train_25x25/trichodesmium_puff/130753.jpg"
       ]
      },
      {
       "output_type": "stream",
       "stream": "stdout",
       "text": [
        "\n",
        "convert -resize 25x25! competition_data/train/trichodesmium_puff/124082.jpg competition_data/train_25x25/trichodesmium_puff/124082.jpg"
       ]
      },
      {
       "output_type": "stream",
       "stream": "stdout",
       "text": [
        "\n",
        "convert -resize 25x25! competition_data/train/trichodesmium_puff/114693.jpg competition_data/train_25x25/trichodesmium_puff/114693.jpg"
       ]
      },
      {
       "output_type": "stream",
       "stream": "stdout",
       "text": [
        "\n",
        "convert -resize 25x25! competition_data/train/trichodesmium_puff/57598.jpg competition_data/train_25x25/trichodesmium_puff/57598.jpg"
       ]
      },
      {
       "output_type": "stream",
       "stream": "stdout",
       "text": [
        "\n",
        "convert -resize 25x25! competition_data/train/trichodesmium_puff/107121.jpg competition_data/train_25x25/trichodesmium_puff/107121.jpg"
       ]
      },
      {
       "output_type": "stream",
       "stream": "stdout",
       "text": [
        "\n",
        "convert -resize 25x25! competition_data/train/trichodesmium_puff/150383.jpg competition_data/train_25x25/trichodesmium_puff/150383.jpg"
       ]
      },
      {
       "output_type": "stream",
       "stream": "stdout",
       "text": [
        "\n",
        "convert -resize 25x25! competition_data/train/trichodesmium_puff/1821.jpg competition_data/train_25x25/trichodesmium_puff/1821.jpg"
       ]
      },
      {
       "output_type": "stream",
       "stream": "stdout",
       "text": [
        "\n",
        "convert -resize 25x25! competition_data/train/trichodesmium_puff/45874.jpg competition_data/train_25x25/trichodesmium_puff/45874.jpg"
       ]
      },
      {
       "output_type": "stream",
       "stream": "stdout",
       "text": [
        "\n",
        "convert -resize 25x25! competition_data/train/trichodesmium_puff/3356.jpg competition_data/train_25x25/trichodesmium_puff/3356.jpg"
       ]
      },
      {
       "output_type": "stream",
       "stream": "stdout",
       "text": [
        "\n",
        "convert -resize 25x25! competition_data/train/trichodesmium_puff/62706.jpg competition_data/train_25x25/trichodesmium_puff/62706.jpg"
       ]
      },
      {
       "output_type": "stream",
       "stream": "stdout",
       "text": [
        "\n",
        "convert -resize 25x25! competition_data/train/trichodesmium_puff/44874.jpg competition_data/train_25x25/trichodesmium_puff/44874.jpg"
       ]
      },
      {
       "output_type": "stream",
       "stream": "stdout",
       "text": [
        "\n",
        "convert -resize 25x25! competition_data/train/trichodesmium_puff/3999.jpg competition_data/train_25x25/trichodesmium_puff/3999.jpg"
       ]
      },
      {
       "output_type": "stream",
       "stream": "stdout",
       "text": [
        "\n",
        "convert -resize 25x25! competition_data/train/trichodesmium_puff/231.jpg competition_data/train_25x25/trichodesmium_puff/231.jpg"
       ]
      },
      {
       "output_type": "stream",
       "stream": "stdout",
       "text": [
        "\n",
        "convert -resize 25x25! competition_data/train/trichodesmium_puff/16212.jpg competition_data/train_25x25/trichodesmium_puff/16212.jpg"
       ]
      },
      {
       "output_type": "stream",
       "stream": "stdout",
       "text": [
        "\n",
        "convert -resize 25x25! competition_data/train/trichodesmium_puff/17050.jpg competition_data/train_25x25/trichodesmium_puff/17050.jpg"
       ]
      },
      {
       "output_type": "stream",
       "stream": "stdout",
       "text": [
        "\n",
        "convert -resize 25x25! competition_data/train/trichodesmium_puff/145799.jpg competition_data/train_25x25/trichodesmium_puff/145799.jpg"
       ]
      },
      {
       "output_type": "stream",
       "stream": "stdout",
       "text": [
        "\n",
        "convert -resize 25x25! competition_data/train/trichodesmium_puff/43376.jpg competition_data/train_25x25/trichodesmium_puff/43376.jpg"
       ]
      },
      {
       "output_type": "stream",
       "stream": "stdout",
       "text": [
        "\n",
        "convert -resize 25x25! competition_data/train/trichodesmium_puff/119847.jpg competition_data/train_25x25/trichodesmium_puff/119847.jpg"
       ]
      },
      {
       "output_type": "stream",
       "stream": "stdout",
       "text": [
        "\n",
        "convert -resize 25x25! competition_data/train/trichodesmium_puff/37886.jpg competition_data/train_25x25/trichodesmium_puff/37886.jpg"
       ]
      },
      {
       "output_type": "stream",
       "stream": "stdout",
       "text": [
        "\n",
        "convert -resize 25x25! competition_data/train/trichodesmium_puff/3489.jpg competition_data/train_25x25/trichodesmium_puff/3489.jpg"
       ]
      },
      {
       "output_type": "stream",
       "stream": "stdout",
       "text": [
        "\n",
        "convert -resize 25x25! competition_data/train/trichodesmium_puff/119648.jpg competition_data/train_25x25/trichodesmium_puff/119648.jpg\n",
        "convert -resize 25x25! competition_data/train/trichodesmium_puff/6405.jpg competition_data/train_25x25/trichodesmium_puff/6405.jpg"
       ]
      },
      {
       "output_type": "stream",
       "stream": "stdout",
       "text": [
        "\n",
        "convert -resize 25x25! competition_data/train/trichodesmium_puff/10822.jpg competition_data/train_25x25/trichodesmium_puff/10822.jpg"
       ]
      },
      {
       "output_type": "stream",
       "stream": "stdout",
       "text": [
        "\n",
        "convert -resize 25x25! competition_data/train/trichodesmium_puff/134048.jpg competition_data/train_25x25/trichodesmium_puff/134048.jpg"
       ]
      },
      {
       "output_type": "stream",
       "stream": "stdout",
       "text": [
        "\n",
        "convert -resize 25x25! competition_data/train/trichodesmium_puff/52828.jpg competition_data/train_25x25/trichodesmium_puff/52828.jpg\n",
        "convert -resize 25x25! competition_data/train/trichodesmium_puff/109603.jpg competition_data/train_25x25/trichodesmium_puff/109603.jpg"
       ]
      },
      {
       "output_type": "stream",
       "stream": "stdout",
       "text": [
        "\n",
        "convert -resize 25x25! competition_data/train/trichodesmium_puff/82452.jpg competition_data/train_25x25/trichodesmium_puff/82452.jpg"
       ]
      },
      {
       "output_type": "stream",
       "stream": "stdout",
       "text": [
        "\n",
        "convert -resize 25x25! competition_data/train/trichodesmium_puff/139948.jpg competition_data/train_25x25/trichodesmium_puff/139948.jpg"
       ]
      },
      {
       "output_type": "stream",
       "stream": "stdout",
       "text": [
        "\n",
        "convert -resize 25x25! competition_data/train/trichodesmium_puff/96240.jpg competition_data/train_25x25/trichodesmium_puff/96240.jpg\n",
        "convert -resize 25x25! competition_data/train/trichodesmium_puff/10535.jpg competition_data/train_25x25/trichodesmium_puff/10535.jpg"
       ]
      },
      {
       "output_type": "stream",
       "stream": "stdout",
       "text": [
        "\n",
        "convert -resize 25x25! competition_data/train/trichodesmium_puff/15279.jpg competition_data/train_25x25/trichodesmium_puff/15279.jpg"
       ]
      },
      {
       "output_type": "stream",
       "stream": "stdout",
       "text": [
        "\n",
        "convert -resize 25x25! competition_data/train/trichodesmium_puff/104211.jpg competition_data/train_25x25/trichodesmium_puff/104211.jpg"
       ]
      },
      {
       "output_type": "stream",
       "stream": "stdout",
       "text": [
        "\n",
        "convert -resize 25x25! competition_data/train/trichodesmium_puff/76013.jpg competition_data/train_25x25/trichodesmium_puff/76013.jpg"
       ]
      },
      {
       "output_type": "stream",
       "stream": "stdout",
       "text": [
        "\n",
        "convert -resize 25x25! competition_data/train/trichodesmium_puff/60466.jpg competition_data/train_25x25/trichodesmium_puff/60466.jpg"
       ]
      },
      {
       "output_type": "stream",
       "stream": "stdout",
       "text": [
        "\n",
        "convert -resize 25x25! competition_data/train/trichodesmium_puff/66380.jpg competition_data/train_25x25/trichodesmium_puff/66380.jpg"
       ]
      },
      {
       "output_type": "stream",
       "stream": "stdout",
       "text": [
        "\n",
        "convert -resize 25x25! competition_data/train/trichodesmium_puff/28723.jpg competition_data/train_25x25/trichodesmium_puff/28723.jpg"
       ]
      },
      {
       "output_type": "stream",
       "stream": "stdout",
       "text": [
        "\n",
        "convert -resize 25x25! competition_data/train/trichodesmium_puff/4669.jpg competition_data/train_25x25/trichodesmium_puff/4669.jpg"
       ]
      },
      {
       "output_type": "stream",
       "stream": "stdout",
       "text": [
        "\n",
        "convert -resize 25x25! competition_data/train/trichodesmium_puff/10519.jpg competition_data/train_25x25/trichodesmium_puff/10519.jpg"
       ]
      },
      {
       "output_type": "stream",
       "stream": "stdout",
       "text": [
        "\n",
        "convert -resize 25x25! competition_data/train/trichodesmium_puff/70912.jpg competition_data/train_25x25/trichodesmium_puff/70912.jpg"
       ]
      },
      {
       "output_type": "stream",
       "stream": "stdout",
       "text": [
        "\n",
        "convert -resize 25x25! competition_data/train/trichodesmium_puff/58264.jpg competition_data/train_25x25/trichodesmium_puff/58264.jpg"
       ]
      },
      {
       "output_type": "stream",
       "stream": "stdout",
       "text": [
        "\n",
        "convert -resize 25x25! competition_data/train/trichodesmium_puff/118145.jpg competition_data/train_25x25/trichodesmium_puff/118145.jpg"
       ]
      },
      {
       "output_type": "stream",
       "stream": "stdout",
       "text": [
        "\n",
        "convert -resize 25x25! competition_data/train/trichodesmium_puff/51623.jpg competition_data/train_25x25/trichodesmium_puff/51623.jpg"
       ]
      },
      {
       "output_type": "stream",
       "stream": "stdout",
       "text": [
        "\n",
        "convert -resize 25x25! competition_data/train/trichodesmium_puff/2446.jpg competition_data/train_25x25/trichodesmium_puff/2446.jpg"
       ]
      },
      {
       "output_type": "stream",
       "stream": "stdout",
       "text": [
        "\n",
        "convert -resize 25x25! competition_data/train/trichodesmium_puff/12273.jpg competition_data/train_25x25/trichodesmium_puff/12273.jpg"
       ]
      },
      {
       "output_type": "stream",
       "stream": "stdout",
       "text": [
        "\n",
        "convert -resize 25x25! competition_data/train/trichodesmium_puff/29646.jpg competition_data/train_25x25/trichodesmium_puff/29646.jpg"
       ]
      },
      {
       "output_type": "stream",
       "stream": "stdout",
       "text": [
        "\n",
        "convert -resize 25x25! competition_data/train/trichodesmium_puff/139464.jpg competition_data/train_25x25/trichodesmium_puff/139464.jpg"
       ]
      },
      {
       "output_type": "stream",
       "stream": "stdout",
       "text": [
        "\n",
        "convert -resize 25x25! competition_data/train/trichodesmium_puff/102907.jpg competition_data/train_25x25/trichodesmium_puff/102907.jpg"
       ]
      },
      {
       "output_type": "stream",
       "stream": "stdout",
       "text": [
        "\n",
        "convert -resize 25x25! competition_data/train/trichodesmium_puff/88617.jpg competition_data/train_25x25/trichodesmium_puff/88617.jpg"
       ]
      },
      {
       "output_type": "stream",
       "stream": "stdout",
       "text": [
        "\n",
        "convert -resize 25x25! competition_data/train/trichodesmium_puff/124215.jpg competition_data/train_25x25/trichodesmium_puff/124215.jpg"
       ]
      },
      {
       "output_type": "stream",
       "stream": "stdout",
       "text": [
        "\n",
        "convert -resize 25x25! competition_data/train/trichodesmium_puff/33646.jpg competition_data/train_25x25/trichodesmium_puff/33646.jpg"
       ]
      },
      {
       "output_type": "stream",
       "stream": "stdout",
       "text": [
        "\n",
        "convert -resize 25x25! competition_data/train/trichodesmium_puff/44382.jpg competition_data/train_25x25/trichodesmium_puff/44382.jpg"
       ]
      },
      {
       "output_type": "stream",
       "stream": "stdout",
       "text": [
        "\n",
        "convert -resize 25x25! competition_data/train/trichodesmium_puff/43428.jpg competition_data/train_25x25/trichodesmium_puff/43428.jpg"
       ]
      },
      {
       "output_type": "stream",
       "stream": "stdout",
       "text": [
        "\n",
        "convert -resize 25x25! competition_data/train/trichodesmium_puff/13912.jpg competition_data/train_25x25/trichodesmium_puff/13912.jpg"
       ]
      },
      {
       "output_type": "stream",
       "stream": "stdout",
       "text": [
        "\n",
        "convert -resize 25x25! competition_data/train/trichodesmium_puff/62821.jpg competition_data/train_25x25/trichodesmium_puff/62821.jpg"
       ]
      },
      {
       "output_type": "stream",
       "stream": "stdout",
       "text": [
        "\n",
        "convert -resize 25x25! competition_data/train/trichodesmium_puff/94581.jpg competition_data/train_25x25/trichodesmium_puff/94581.jpg"
       ]
      },
      {
       "output_type": "stream",
       "stream": "stdout",
       "text": [
        "\n",
        "convert -resize 25x25! competition_data/train/trichodesmium_puff/44840.jpg competition_data/train_25x25/trichodesmium_puff/44840.jpg"
       ]
      },
      {
       "output_type": "stream",
       "stream": "stdout",
       "text": [
        "\n",
        "convert -resize 25x25! competition_data/train/trichodesmium_puff/74246.jpg competition_data/train_25x25/trichodesmium_puff/74246.jpg"
       ]
      },
      {
       "output_type": "stream",
       "stream": "stdout",
       "text": [
        "\n",
        "convert -resize 25x25! competition_data/train/trichodesmium_puff/83863.jpg competition_data/train_25x25/trichodesmium_puff/83863.jpg"
       ]
      },
      {
       "output_type": "stream",
       "stream": "stdout",
       "text": [
        "\n",
        "convert -resize 25x25! competition_data/train/trichodesmium_puff/124951.jpg competition_data/train_25x25/trichodesmium_puff/124951.jpg"
       ]
      },
      {
       "output_type": "stream",
       "stream": "stdout",
       "text": [
        "\n",
        "convert -resize 25x25! competition_data/train/trichodesmium_puff/98110.jpg competition_data/train_25x25/trichodesmium_puff/98110.jpg"
       ]
      },
      {
       "output_type": "stream",
       "stream": "stdout",
       "text": [
        "\n",
        "convert -resize 25x25! competition_data/train/trichodesmium_puff/117316.jpg competition_data/train_25x25/trichodesmium_puff/117316.jpg"
       ]
      },
      {
       "output_type": "stream",
       "stream": "stdout",
       "text": [
        "\n",
        "convert -resize 25x25! competition_data/train/trichodesmium_puff/106371.jpg competition_data/train_25x25/trichodesmium_puff/106371.jpg\n",
        "convert -resize 25x25! competition_data/train/trichodesmium_puff/43169.jpg competition_data/train_25x25/trichodesmium_puff/43169.jpg"
       ]
      },
      {
       "output_type": "stream",
       "stream": "stdout",
       "text": [
        "\n",
        "convert -resize 25x25! competition_data/train/trichodesmium_puff/23130.jpg competition_data/train_25x25/trichodesmium_puff/23130.jpg"
       ]
      },
      {
       "output_type": "stream",
       "stream": "stdout",
       "text": [
        "\n",
        "convert -resize 25x25! competition_data/train/trichodesmium_puff/5411.jpg competition_data/train_25x25/trichodesmium_puff/5411.jpg\n",
        "convert -resize 25x25! competition_data/train/trichodesmium_puff/155541.jpg competition_data/train_25x25/trichodesmium_puff/155541.jpg"
       ]
      },
      {
       "output_type": "stream",
       "stream": "stdout",
       "text": [
        "\n",
        "convert -resize 25x25! competition_data/train/trichodesmium_puff/41143.jpg competition_data/train_25x25/trichodesmium_puff/41143.jpg"
       ]
      },
      {
       "output_type": "stream",
       "stream": "stdout",
       "text": [
        "\n",
        "convert -resize 25x25! competition_data/train/trichodesmium_puff/117212.jpg competition_data/train_25x25/trichodesmium_puff/117212.jpg"
       ]
      },
      {
       "output_type": "stream",
       "stream": "stdout",
       "text": [
        "\n",
        "convert -resize 25x25! competition_data/train/trichodesmium_puff/74935.jpg competition_data/train_25x25/trichodesmium_puff/74935.jpg"
       ]
      },
      {
       "output_type": "stream",
       "stream": "stdout",
       "text": [
        "\n",
        "convert -resize 25x25! competition_data/train/trichodesmium_puff/3490.jpg competition_data/train_25x25/trichodesmium_puff/3490.jpg"
       ]
      },
      {
       "output_type": "stream",
       "stream": "stdout",
       "text": [
        "\n",
        "convert -resize 25x25! competition_data/train/trichodesmium_puff/11831.jpg competition_data/train_25x25/trichodesmium_puff/11831.jpg"
       ]
      },
      {
       "output_type": "stream",
       "stream": "stdout",
       "text": [
        "\n",
        "convert -resize 25x25! competition_data/train/trichodesmium_puff/128914.jpg competition_data/train_25x25/trichodesmium_puff/128914.jpg"
       ]
      },
      {
       "output_type": "stream",
       "stream": "stdout",
       "text": [
        "\n",
        "convert -resize 25x25! competition_data/train/trichodesmium_puff/113956.jpg competition_data/train_25x25/trichodesmium_puff/113956.jpg"
       ]
      },
      {
       "output_type": "stream",
       "stream": "stdout",
       "text": [
        "\n",
        "convert -resize 25x25! competition_data/train/trichodesmium_puff/5585.jpg competition_data/train_25x25/trichodesmium_puff/5585.jpg"
       ]
      },
      {
       "output_type": "stream",
       "stream": "stdout",
       "text": [
        "\n",
        "convert -resize 25x25! competition_data/train/trichodesmium_puff/135677.jpg competition_data/train_25x25/trichodesmium_puff/135677.jpg"
       ]
      },
      {
       "output_type": "stream",
       "stream": "stdout",
       "text": [
        "\n",
        "convert -resize 25x25! competition_data/train/trichodesmium_puff/152033.jpg competition_data/train_25x25/trichodesmium_puff/152033.jpg"
       ]
      },
      {
       "output_type": "stream",
       "stream": "stdout",
       "text": [
        "\n",
        "convert -resize 25x25! competition_data/train/trichodesmium_puff/153457.jpg competition_data/train_25x25/trichodesmium_puff/153457.jpg"
       ]
      },
      {
       "output_type": "stream",
       "stream": "stdout",
       "text": [
        "\n",
        "convert -resize 25x25! competition_data/train/trichodesmium_puff/131152.jpg competition_data/train_25x25/trichodesmium_puff/131152.jpg"
       ]
      },
      {
       "output_type": "stream",
       "stream": "stdout",
       "text": [
        "\n",
        "convert -resize 25x25! competition_data/train/trichodesmium_puff/12954.jpg competition_data/train_25x25/trichodesmium_puff/12954.jpg"
       ]
      },
      {
       "output_type": "stream",
       "stream": "stdout",
       "text": [
        "\n",
        "convert -resize 25x25! competition_data/train/trichodesmium_puff/114278.jpg competition_data/train_25x25/trichodesmium_puff/114278.jpg"
       ]
      },
      {
       "output_type": "stream",
       "stream": "stdout",
       "text": [
        "\n",
        "convert -resize 25x25! competition_data/train/trichodesmium_puff/109414.jpg competition_data/train_25x25/trichodesmium_puff/109414.jpg"
       ]
      },
      {
       "output_type": "stream",
       "stream": "stdout",
       "text": [
        "\n",
        "convert -resize 25x25! competition_data/train/trichodesmium_puff/135039.jpg competition_data/train_25x25/trichodesmium_puff/135039.jpg"
       ]
      },
      {
       "output_type": "stream",
       "stream": "stdout",
       "text": [
        "\n",
        "convert -resize 25x25! competition_data/train/trichodesmium_puff/118573.jpg competition_data/train_25x25/trichodesmium_puff/118573.jpg"
       ]
      },
      {
       "output_type": "stream",
       "stream": "stdout",
       "text": [
        "\n",
        "convert -resize 25x25! competition_data/train/trichodesmium_puff/92662.jpg competition_data/train_25x25/trichodesmium_puff/92662.jpg"
       ]
      },
      {
       "output_type": "stream",
       "stream": "stdout",
       "text": [
        "\n",
        "convert -resize 25x25! competition_data/train/trichodesmium_puff/139990.jpg competition_data/train_25x25/trichodesmium_puff/139990.jpg"
       ]
      },
      {
       "output_type": "stream",
       "stream": "stdout",
       "text": [
        "\n",
        "convert -resize 25x25! competition_data/train/trichodesmium_puff/56453.jpg competition_data/train_25x25/trichodesmium_puff/56453.jpg"
       ]
      },
      {
       "output_type": "stream",
       "stream": "stdout",
       "text": [
        "\n",
        "convert -resize 25x25! competition_data/train/trichodesmium_puff/119618.jpg competition_data/train_25x25/trichodesmium_puff/119618.jpg"
       ]
      },
      {
       "output_type": "stream",
       "stream": "stdout",
       "text": [
        "\n",
        "convert -resize 25x25! competition_data/train/trichodesmium_puff/55588.jpg competition_data/train_25x25/trichodesmium_puff/55588.jpg"
       ]
      },
      {
       "output_type": "stream",
       "stream": "stdout",
       "text": [
        "\n",
        "convert -resize 25x25! competition_data/train/trichodesmium_puff/151806.jpg competition_data/train_25x25/trichodesmium_puff/151806.jpg"
       ]
      },
      {
       "output_type": "stream",
       "stream": "stdout",
       "text": [
        "\n",
        "convert -resize 25x25! competition_data/train/trichodesmium_puff/130416.jpg competition_data/train_25x25/trichodesmium_puff/130416.jpg"
       ]
      },
      {
       "output_type": "stream",
       "stream": "stdout",
       "text": [
        "\n",
        "convert -resize 25x25! competition_data/train/trichodesmium_puff/127258.jpg competition_data/train_25x25/trichodesmium_puff/127258.jpg"
       ]
      },
      {
       "output_type": "stream",
       "stream": "stdout",
       "text": [
        "\n",
        "convert -resize 25x25! competition_data/train/trichodesmium_puff/63132.jpg competition_data/train_25x25/trichodesmium_puff/63132.jpg"
       ]
      },
      {
       "output_type": "stream",
       "stream": "stdout",
       "text": [
        "\n",
        "convert -resize 25x25! competition_data/train/trichodesmium_puff/144377.jpg competition_data/train_25x25/trichodesmium_puff/144377.jpg\n",
        "convert -resize 25x25! competition_data/train/trichodesmium_puff/82417.jpg competition_data/train_25x25/trichodesmium_puff/82417.jpg"
       ]
      },
      {
       "output_type": "stream",
       "stream": "stdout",
       "text": [
        "\n",
        "convert -resize 25x25! competition_data/train/trichodesmium_puff/58893.jpg competition_data/train_25x25/trichodesmium_puff/58893.jpg"
       ]
      },
      {
       "output_type": "stream",
       "stream": "stdout",
       "text": [
        "\n",
        "convert -resize 25x25! competition_data/train/trichodesmium_puff/107263.jpg competition_data/train_25x25/trichodesmium_puff/107263.jpg\n",
        "convert -resize 25x25! competition_data/train/trichodesmium_puff/64591.jpg competition_data/train_25x25/trichodesmium_puff/64591.jpg"
       ]
      },
      {
       "output_type": "stream",
       "stream": "stdout",
       "text": [
        "\n",
        "convert -resize 25x25! competition_data/train/trichodesmium_puff/25379.jpg competition_data/train_25x25/trichodesmium_puff/25379.jpg"
       ]
      },
      {
       "output_type": "stream",
       "stream": "stdout",
       "text": [
        "\n",
        "convert -resize 25x25! competition_data/train/trichodesmium_puff/53908.jpg competition_data/train_25x25/trichodesmium_puff/53908.jpg"
       ]
      },
      {
       "output_type": "stream",
       "stream": "stdout",
       "text": [
        "\n",
        "convert -resize 25x25! competition_data/train/trichodesmium_puff/73897.jpg competition_data/train_25x25/trichodesmium_puff/73897.jpg\n",
        "convert -resize 25x25! competition_data/train/trichodesmium_puff/104223.jpg competition_data/train_25x25/trichodesmium_puff/104223.jpg"
       ]
      },
      {
       "output_type": "stream",
       "stream": "stdout",
       "text": [
        "\n",
        "convert -resize 25x25! competition_data/train/trichodesmium_puff/109241.jpg competition_data/train_25x25/trichodesmium_puff/109241.jpg"
       ]
      },
      {
       "output_type": "stream",
       "stream": "stdout",
       "text": [
        "\n",
        "convert -resize 25x25! competition_data/train/trichodesmium_puff/20550.jpg competition_data/train_25x25/trichodesmium_puff/20550.jpg\n",
        "convert -resize 25x25! competition_data/train/trichodesmium_puff/53623.jpg competition_data/train_25x25/trichodesmium_puff/53623.jpg"
       ]
      },
      {
       "output_type": "stream",
       "stream": "stdout",
       "text": [
        "\n",
        "convert -resize 25x25! competition_data/train/trichodesmium_puff/109620.jpg competition_data/train_25x25/trichodesmium_puff/109620.jpg"
       ]
      },
      {
       "output_type": "stream",
       "stream": "stdout",
       "text": [
        "\n",
        "convert -resize 25x25! competition_data/train/trichodesmium_puff/70827.jpg competition_data/train_25x25/trichodesmium_puff/70827.jpg"
       ]
      },
      {
       "output_type": "stream",
       "stream": "stdout",
       "text": [
        "\n",
        "convert -resize 25x25! competition_data/train/trichodesmium_puff/46134.jpg competition_data/train_25x25/trichodesmium_puff/46134.jpg"
       ]
      },
      {
       "output_type": "stream",
       "stream": "stdout",
       "text": [
        "\n",
        "convert -resize 25x25! competition_data/train/trichodesmium_puff/20860.jpg competition_data/train_25x25/trichodesmium_puff/20860.jpg"
       ]
      },
      {
       "output_type": "stream",
       "stream": "stdout",
       "text": [
        "\n",
        "convert -resize 25x25! competition_data/train/trichodesmium_puff/77154.jpg competition_data/train_25x25/trichodesmium_puff/77154.jpg"
       ]
      },
      {
       "output_type": "stream",
       "stream": "stdout",
       "text": [
        "\n",
        "convert -resize 25x25! competition_data/train/trichodesmium_puff/116498.jpg competition_data/train_25x25/trichodesmium_puff/116498.jpg"
       ]
      },
      {
       "output_type": "stream",
       "stream": "stdout",
       "text": [
        "\n",
        "convert -resize 25x25! competition_data/train/trichodesmium_puff/130463.jpg competition_data/train_25x25/trichodesmium_puff/130463.jpg"
       ]
      },
      {
       "output_type": "stream",
       "stream": "stdout",
       "text": [
        "\n",
        "convert -resize 25x25! competition_data/train/trichodesmium_puff/111898.jpg competition_data/train_25x25/trichodesmium_puff/111898.jpg"
       ]
      },
      {
       "output_type": "stream",
       "stream": "stdout",
       "text": [
        "\n",
        "convert -resize 25x25! competition_data/train/trichodesmium_puff/148369.jpg competition_data/train_25x25/trichodesmium_puff/148369.jpg"
       ]
      },
      {
       "output_type": "stream",
       "stream": "stdout",
       "text": [
        "\n",
        "convert -resize 25x25! competition_data/train/trichodesmium_puff/137328.jpg competition_data/train_25x25/trichodesmium_puff/137328.jpg"
       ]
      },
      {
       "output_type": "stream",
       "stream": "stdout",
       "text": [
        "\n",
        "convert -resize 25x25! competition_data/train/trichodesmium_puff/24368.jpg competition_data/train_25x25/trichodesmium_puff/24368.jpg"
       ]
      },
      {
       "output_type": "stream",
       "stream": "stdout",
       "text": [
        "\n",
        "convert -resize 25x25! competition_data/train/trichodesmium_puff/123507.jpg competition_data/train_25x25/trichodesmium_puff/123507.jpg"
       ]
      },
      {
       "output_type": "stream",
       "stream": "stdout",
       "text": [
        "\n",
        "convert -resize 25x25! competition_data/train/trichodesmium_puff/101057.jpg competition_data/train_25x25/trichodesmium_puff/101057.jpg"
       ]
      },
      {
       "output_type": "stream",
       "stream": "stdout",
       "text": [
        "\n",
        "convert -resize 25x25! competition_data/train/trichodesmium_puff/158563.jpg competition_data/train_25x25/trichodesmium_puff/158563.jpg"
       ]
      },
      {
       "output_type": "stream",
       "stream": "stdout",
       "text": [
        "\n",
        "convert -resize 25x25! competition_data/train/trichodesmium_puff/12796.jpg competition_data/train_25x25/trichodesmium_puff/12796.jpg"
       ]
      },
      {
       "output_type": "stream",
       "stream": "stdout",
       "text": [
        "\n",
        "convert -resize 25x25! competition_data/train/trichodesmium_puff/75462.jpg competition_data/train_25x25/trichodesmium_puff/75462.jpg"
       ]
      },
      {
       "output_type": "stream",
       "stream": "stdout",
       "text": [
        "\n",
        "convert -resize 25x25! competition_data/train/trichodesmium_puff/56394.jpg competition_data/train_25x25/trichodesmium_puff/56394.jpg"
       ]
      },
      {
       "output_type": "stream",
       "stream": "stdout",
       "text": [
        "\n",
        "convert -resize 25x25! competition_data/train/trichodesmium_puff/16470.jpg competition_data/train_25x25/trichodesmium_puff/16470.jpg"
       ]
      },
      {
       "output_type": "stream",
       "stream": "stdout",
       "text": [
        "\n",
        "convert -resize 25x25! competition_data/train/trichodesmium_puff/37429.jpg competition_data/train_25x25/trichodesmium_puff/37429.jpg"
       ]
      },
      {
       "output_type": "stream",
       "stream": "stdout",
       "text": [
        "\n",
        "convert -resize 25x25! competition_data/train/trichodesmium_puff/139663.jpg competition_data/train_25x25/trichodesmium_puff/139663.jpg"
       ]
      },
      {
       "output_type": "stream",
       "stream": "stdout",
       "text": [
        "\n",
        "convert -resize 25x25! competition_data/train/trichodesmium_puff/65478.jpg competition_data/train_25x25/trichodesmium_puff/65478.jpg"
       ]
      },
      {
       "output_type": "stream",
       "stream": "stdout",
       "text": [
        "\n",
        "convert -resize 25x25! competition_data/train/trichodesmium_puff/98258.jpg competition_data/train_25x25/trichodesmium_puff/98258.jpg"
       ]
      },
      {
       "output_type": "stream",
       "stream": "stdout",
       "text": [
        "\n",
        "convert -resize 25x25! competition_data/train/trichodesmium_puff/44106.jpg competition_data/train_25x25/trichodesmium_puff/44106.jpg"
       ]
      },
      {
       "output_type": "stream",
       "stream": "stdout",
       "text": [
        "\n",
        "convert -resize 25x25! competition_data/train/trichodesmium_puff/58196.jpg competition_data/train_25x25/trichodesmium_puff/58196.jpg"
       ]
      },
      {
       "output_type": "stream",
       "stream": "stdout",
       "text": [
        "\n",
        "convert -resize 25x25! competition_data/train/trichodesmium_puff/146635.jpg competition_data/train_25x25/trichodesmium_puff/146635.jpg"
       ]
      },
      {
       "output_type": "stream",
       "stream": "stdout",
       "text": [
        "\n",
        "convert -resize 25x25! competition_data/train/trichodesmium_puff/27429.jpg competition_data/train_25x25/trichodesmium_puff/27429.jpg"
       ]
      },
      {
       "output_type": "stream",
       "stream": "stdout",
       "text": [
        "\n",
        "convert -resize 25x25! competition_data/train/trichodesmium_puff/121613.jpg competition_data/train_25x25/trichodesmium_puff/121613.jpg\n",
        "convert -resize 25x25! competition_data/train/trichodesmium_puff/45737.jpg competition_data/train_25x25/trichodesmium_puff/45737.jpg"
       ]
      },
      {
       "output_type": "stream",
       "stream": "stdout",
       "text": [
        "\n",
        "convert -resize 25x25! competition_data/train/trichodesmium_puff/136122.jpg competition_data/train_25x25/trichodesmium_puff/136122.jpg\n",
        "convert -resize 25x25! competition_data/train/trichodesmium_puff/151001.jpg competition_data/train_25x25/trichodesmium_puff/151001.jpg"
       ]
      },
      {
       "output_type": "stream",
       "stream": "stdout",
       "text": [
        "\n",
        "convert -resize 25x25! competition_data/train/trichodesmium_puff/145377.jpg competition_data/train_25x25/trichodesmium_puff/145377.jpg"
       ]
      },
      {
       "output_type": "stream",
       "stream": "stdout",
       "text": [
        "\n",
        "convert -resize 25x25! competition_data/train/trichodesmium_puff/75063.jpg competition_data/train_25x25/trichodesmium_puff/75063.jpg"
       ]
      },
      {
       "output_type": "stream",
       "stream": "stdout",
       "text": [
        "\n",
        "convert -resize 25x25! competition_data/train/trichodesmium_puff/140569.jpg competition_data/train_25x25/trichodesmium_puff/140569.jpg"
       ]
      },
      {
       "output_type": "stream",
       "stream": "stdout",
       "text": [
        "\n",
        "convert -resize 25x25! competition_data/train/trichodesmium_puff/160701.jpg competition_data/train_25x25/trichodesmium_puff/160701.jpg\n",
        "convert -resize 25x25! competition_data/train/trichodesmium_puff/30957.jpg competition_data/train_25x25/trichodesmium_puff/30957.jpg"
       ]
      },
      {
       "output_type": "stream",
       "stream": "stdout",
       "text": [
        "\n",
        "convert -resize 25x25! competition_data/train/trichodesmium_puff/50416.jpg competition_data/train_25x25/trichodesmium_puff/50416.jpg"
       ]
      },
      {
       "output_type": "stream",
       "stream": "stdout",
       "text": [
        "\n",
        "convert -resize 25x25! competition_data/train/trichodesmium_puff/65703.jpg competition_data/train_25x25/trichodesmium_puff/65703.jpg\n",
        "convert -resize 25x25! competition_data/train/trichodesmium_puff/110562.jpg competition_data/train_25x25/trichodesmium_puff/110562.jpg"
       ]
      },
      {
       "output_type": "stream",
       "stream": "stdout",
       "text": [
        "\n",
        "convert -resize 25x25! competition_data/train/trichodesmium_puff/136347.jpg competition_data/train_25x25/trichodesmium_puff/136347.jpg"
       ]
      },
      {
       "output_type": "stream",
       "stream": "stdout",
       "text": [
        "\n",
        "convert -resize 25x25! competition_data/train/trichodesmium_puff/9688.jpg competition_data/train_25x25/trichodesmium_puff/9688.jpg"
       ]
      },
      {
       "output_type": "stream",
       "stream": "stdout",
       "text": [
        "\n",
        "convert -resize 25x25! competition_data/train/trichodesmium_puff/43234.jpg competition_data/train_25x25/trichodesmium_puff/43234.jpg"
       ]
      },
      {
       "output_type": "stream",
       "stream": "stdout",
       "text": [
        "\n",
        "convert -resize 25x25! competition_data/train/trichodesmium_puff/39047.jpg competition_data/train_25x25/trichodesmium_puff/39047.jpg"
       ]
      },
      {
       "output_type": "stream",
       "stream": "stdout",
       "text": [
        "\n",
        "convert -resize 25x25! competition_data/train/trichodesmium_puff/44956.jpg competition_data/train_25x25/trichodesmium_puff/44956.jpg"
       ]
      },
      {
       "output_type": "stream",
       "stream": "stdout",
       "text": [
        "\n",
        "convert -resize 25x25! competition_data/train/trichodesmium_puff/48686.jpg competition_data/train_25x25/trichodesmium_puff/48686.jpg"
       ]
      },
      {
       "output_type": "stream",
       "stream": "stdout",
       "text": [
        "\n",
        "convert -resize 25x25! competition_data/train/trichodesmium_puff/72021.jpg competition_data/train_25x25/trichodesmium_puff/72021.jpg"
       ]
      },
      {
       "output_type": "stream",
       "stream": "stdout",
       "text": [
        "\n",
        "convert -resize 25x25! competition_data/train/trichodesmium_puff/96058.jpg competition_data/train_25x25/trichodesmium_puff/96058.jpg"
       ]
      },
      {
       "output_type": "stream",
       "stream": "stdout",
       "text": [
        "\n",
        "convert -resize 25x25! competition_data/train/trichodesmium_puff/108119.jpg competition_data/train_25x25/trichodesmium_puff/108119.jpg"
       ]
      },
      {
       "output_type": "stream",
       "stream": "stdout",
       "text": [
        "\n",
        "convert -resize 25x25! competition_data/train/trichodesmium_puff/82363.jpg competition_data/train_25x25/trichodesmium_puff/82363.jpg"
       ]
      },
      {
       "output_type": "stream",
       "stream": "stdout",
       "text": [
        "\n",
        "convert -resize 25x25! competition_data/train/trichodesmium_puff/28264.jpg competition_data/train_25x25/trichodesmium_puff/28264.jpg"
       ]
      },
      {
       "output_type": "stream",
       "stream": "stdout",
       "text": [
        "\n",
        "convert -resize 25x25! competition_data/train/trichodesmium_puff/90277.jpg competition_data/train_25x25/trichodesmium_puff/90277.jpg"
       ]
      },
      {
       "output_type": "stream",
       "stream": "stdout",
       "text": [
        "\n",
        "convert -resize 25x25! competition_data/train/trichodesmium_puff/8885.jpg competition_data/train_25x25/trichodesmium_puff/8885.jpg"
       ]
      },
      {
       "output_type": "stream",
       "stream": "stdout",
       "text": [
        "\n",
        "convert -resize 25x25! competition_data/train/trichodesmium_puff/81379.jpg competition_data/train_25x25/trichodesmium_puff/81379.jpg"
       ]
      },
      {
       "output_type": "stream",
       "stream": "stdout",
       "text": [
        "\n",
        "convert -resize 25x25! competition_data/train/trichodesmium_puff/118791.jpg competition_data/train_25x25/trichodesmium_puff/118791.jpg"
       ]
      },
      {
       "output_type": "stream",
       "stream": "stdout",
       "text": [
        "\n",
        "convert -resize 25x25! competition_data/train/trichodesmium_puff/142565.jpg competition_data/train_25x25/trichodesmium_puff/142565.jpg"
       ]
      },
      {
       "output_type": "stream",
       "stream": "stdout",
       "text": [
        "\n",
        "convert -resize 25x25! competition_data/train/trichodesmium_puff/117408.jpg competition_data/train_25x25/trichodesmium_puff/117408.jpg"
       ]
      },
      {
       "output_type": "stream",
       "stream": "stdout",
       "text": [
        "\n",
        "convert -resize 25x25! competition_data/train/trichodesmium_puff/29130.jpg competition_data/train_25x25/trichodesmium_puff/29130.jpg"
       ]
      },
      {
       "output_type": "stream",
       "stream": "stdout",
       "text": [
        "\n",
        "convert -resize 25x25! competition_data/train/trichodesmium_puff/67815.jpg competition_data/train_25x25/trichodesmium_puff/67815.jpg"
       ]
      },
      {
       "output_type": "stream",
       "stream": "stdout",
       "text": [
        "\n",
        "convert -resize 25x25! competition_data/train/trichodesmium_puff/95523.jpg competition_data/train_25x25/trichodesmium_puff/95523.jpg"
       ]
      },
      {
       "output_type": "stream",
       "stream": "stdout",
       "text": [
        "\n",
        "convert -resize 25x25! competition_data/train/trichodesmium_puff/142306.jpg competition_data/train_25x25/trichodesmium_puff/142306.jpg"
       ]
      },
      {
       "output_type": "stream",
       "stream": "stdout",
       "text": [
        "\n",
        "convert -resize 25x25! competition_data/train/trichodesmium_puff/36001.jpg competition_data/train_25x25/trichodesmium_puff/36001.jpg"
       ]
      },
      {
       "output_type": "stream",
       "stream": "stdout",
       "text": [
        "\n",
        "convert -resize 25x25! competition_data/train/trichodesmium_puff/94234.jpg competition_data/train_25x25/trichodesmium_puff/94234.jpg"
       ]
      },
      {
       "output_type": "stream",
       "stream": "stdout",
       "text": [
        "\n",
        "convert -resize 25x25! competition_data/train/trichodesmium_puff/158538.jpg competition_data/train_25x25/trichodesmium_puff/158538.jpg\n",
        "convert -resize 25x25! competition_data/train/trichodesmium_puff/120436.jpg competition_data/train_25x25/trichodesmium_puff/120436.jpg"
       ]
      },
      {
       "output_type": "stream",
       "stream": "stdout",
       "text": [
        "\n",
        "convert -resize 25x25! competition_data/train/trichodesmium_puff/715.jpg competition_data/train_25x25/trichodesmium_puff/715.jpg"
       ]
      },
      {
       "output_type": "stream",
       "stream": "stdout",
       "text": [
        "\n",
        "convert -resize 25x25! competition_data/train/trichodesmium_puff/66266.jpg competition_data/train_25x25/trichodesmium_puff/66266.jpg\n",
        "convert -resize 25x25! competition_data/train/trichodesmium_puff/65400.jpg competition_data/train_25x25/trichodesmium_puff/65400.jpg"
       ]
      },
      {
       "output_type": "stream",
       "stream": "stdout",
       "text": [
        "\n",
        "convert -resize 25x25! competition_data/train/trichodesmium_puff/144798.jpg competition_data/train_25x25/trichodesmium_puff/144798.jpg"
       ]
      },
      {
       "output_type": "stream",
       "stream": "stdout",
       "text": [
        "\n",
        "convert -resize 25x25! competition_data/train/trichodesmium_puff/405.jpg competition_data/train_25x25/trichodesmium_puff/405.jpg\n",
        "convert -resize 25x25! competition_data/train/trichodesmium_puff/148708.jpg competition_data/train_25x25/trichodesmium_puff/148708.jpg"
       ]
      },
      {
       "output_type": "stream",
       "stream": "stdout",
       "text": [
        "\n",
        "convert -resize 25x25! competition_data/train/trichodesmium_puff/105672.jpg competition_data/train_25x25/trichodesmium_puff/105672.jpg"
       ]
      },
      {
       "output_type": "stream",
       "stream": "stdout",
       "text": [
        "\n",
        "convert -resize 25x25! competition_data/train/trichodesmium_puff/12531.jpg competition_data/train_25x25/trichodesmium_puff/12531.jpg\n",
        "convert -resize 25x25! competition_data/train/trichodesmium_puff/11278.jpg competition_data/train_25x25/trichodesmium_puff/11278.jpg"
       ]
      },
      {
       "output_type": "stream",
       "stream": "stdout",
       "text": [
        "\n",
        "convert -resize 25x25! competition_data/train/trichodesmium_puff/145026.jpg competition_data/train_25x25/trichodesmium_puff/145026.jpg"
       ]
      },
      {
       "output_type": "stream",
       "stream": "stdout",
       "text": [
        "\n",
        "convert -resize 25x25! competition_data/train/trichodesmium_puff/55360.jpg competition_data/train_25x25/trichodesmium_puff/55360.jpg"
       ]
      },
      {
       "output_type": "stream",
       "stream": "stdout",
       "text": [
        "\n",
        "convert -resize 25x25! competition_data/train/trichodesmium_puff/56647.jpg competition_data/train_25x25/trichodesmium_puff/56647.jpg"
       ]
      },
      {
       "output_type": "stream",
       "stream": "stdout",
       "text": [
        "\n",
        "convert -resize 25x25! competition_data/train/trichodesmium_puff/54378.jpg competition_data/train_25x25/trichodesmium_puff/54378.jpg"
       ]
      },
      {
       "output_type": "stream",
       "stream": "stdout",
       "text": [
        "\n",
        "convert -resize 25x25! competition_data/train/trichodesmium_puff/45144.jpg competition_data/train_25x25/trichodesmium_puff/45144.jpg"
       ]
      },
      {
       "output_type": "stream",
       "stream": "stdout",
       "text": [
        "\n",
        "convert -resize 25x25! competition_data/train/trichodesmium_puff/81278.jpg competition_data/train_25x25/trichodesmium_puff/81278.jpg"
       ]
      },
      {
       "output_type": "stream",
       "stream": "stdout",
       "text": [
        "\n",
        "convert -resize 25x25! competition_data/train/trichodesmium_puff/76081.jpg competition_data/train_25x25/trichodesmium_puff/76081.jpg"
       ]
      },
      {
       "output_type": "stream",
       "stream": "stdout",
       "text": [
        "\n",
        "convert -resize 25x25! competition_data/train/trichodesmium_puff/155963.jpg competition_data/train_25x25/trichodesmium_puff/155963.jpg"
       ]
      },
      {
       "output_type": "stream",
       "stream": "stdout",
       "text": [
        "\n",
        "convert -resize 25x25! competition_data/train/trichodesmium_puff/140469.jpg competition_data/train_25x25/trichodesmium_puff/140469.jpg"
       ]
      },
      {
       "output_type": "stream",
       "stream": "stdout",
       "text": [
        "\n",
        "convert -resize 25x25! competition_data/train/trichodesmium_puff/101603.jpg competition_data/train_25x25/trichodesmium_puff/101603.jpg"
       ]
      },
      {
       "output_type": "stream",
       "stream": "stdout",
       "text": [
        "\n",
        "convert -resize 25x25! competition_data/train/trichodesmium_puff/113836.jpg competition_data/train_25x25/trichodesmium_puff/113836.jpg"
       ]
      },
      {
       "output_type": "stream",
       "stream": "stdout",
       "text": [
        "\n",
        "convert -resize 25x25! competition_data/train/trichodesmium_puff/70849.jpg competition_data/train_25x25/trichodesmium_puff/70849.jpg"
       ]
      },
      {
       "output_type": "stream",
       "stream": "stdout",
       "text": [
        "\n",
        "convert -resize 25x25! competition_data/train/trichodesmium_puff/81864.jpg competition_data/train_25x25/trichodesmium_puff/81864.jpg"
       ]
      },
      {
       "output_type": "stream",
       "stream": "stdout",
       "text": [
        "\n",
        "convert -resize 25x25! competition_data/train/trichodesmium_puff/143639.jpg competition_data/train_25x25/trichodesmium_puff/143639.jpg"
       ]
      },
      {
       "output_type": "stream",
       "stream": "stdout",
       "text": [
        "\n",
        "convert -resize 25x25! competition_data/train/trichodesmium_puff/48831.jpg competition_data/train_25x25/trichodesmium_puff/48831.jpg"
       ]
      },
      {
       "output_type": "stream",
       "stream": "stdout",
       "text": [
        "\n",
        "convert -resize 25x25! competition_data/train/trichodesmium_puff/38551.jpg competition_data/train_25x25/trichodesmium_puff/38551.jpg"
       ]
      },
      {
       "output_type": "stream",
       "stream": "stdout",
       "text": [
        "\n",
        "convert -resize 25x25! competition_data/train/trichodesmium_puff/107909.jpg competition_data/train_25x25/trichodesmium_puff/107909.jpg"
       ]
      },
      {
       "output_type": "stream",
       "stream": "stdout",
       "text": [
        "\n",
        "convert -resize 25x25! competition_data/train/trichodesmium_puff/45134.jpg competition_data/train_25x25/trichodesmium_puff/45134.jpg"
       ]
      },
      {
       "output_type": "stream",
       "stream": "stdout",
       "text": [
        "\n",
        "convert -resize 25x25! competition_data/train/trichodesmium_puff/97427.jpg competition_data/train_25x25/trichodesmium_puff/97427.jpg"
       ]
      },
      {
       "output_type": "stream",
       "stream": "stdout",
       "text": [
        "\n",
        "convert -resize 25x25! competition_data/train/trichodesmium_puff/89793.jpg competition_data/train_25x25/trichodesmium_puff/89793.jpg"
       ]
      },
      {
       "output_type": "stream",
       "stream": "stdout",
       "text": [
        "\n",
        "convert -resize 25x25! competition_data/train/trichodesmium_puff/34932.jpg competition_data/train_25x25/trichodesmium_puff/34932.jpg"
       ]
      },
      {
       "output_type": "stream",
       "stream": "stdout",
       "text": [
        "\n",
        "convert -resize 25x25! competition_data/train/trichodesmium_puff/54805.jpg competition_data/train_25x25/trichodesmium_puff/54805.jpg"
       ]
      },
      {
       "output_type": "stream",
       "stream": "stdout",
       "text": [
        "\n",
        "convert -resize 25x25! competition_data/train/trichodesmium_puff/127826.jpg competition_data/train_25x25/trichodesmium_puff/127826.jpg"
       ]
      },
      {
       "output_type": "stream",
       "stream": "stdout",
       "text": [
        "\n",
        "convert -resize 25x25! competition_data/train/trichodesmium_puff/62940.jpg competition_data/train_25x25/trichodesmium_puff/62940.jpg"
       ]
      },
      {
       "output_type": "stream",
       "stream": "stdout",
       "text": [
        "\n",
        "convert -resize 25x25! competition_data/train/trichodesmium_puff/3001.jpg competition_data/train_25x25/trichodesmium_puff/3001.jpg"
       ]
      },
      {
       "output_type": "stream",
       "stream": "stdout",
       "text": [
        "\n",
        "convert -resize 25x25! competition_data/train/trichodesmium_puff/146693.jpg competition_data/train_25x25/trichodesmium_puff/146693.jpg"
       ]
      },
      {
       "output_type": "stream",
       "stream": "stdout",
       "text": [
        "\n",
        "convert -resize 25x25! competition_data/train/trichodesmium_puff/95640.jpg competition_data/train_25x25/trichodesmium_puff/95640.jpg"
       ]
      },
      {
       "output_type": "stream",
       "stream": "stdout",
       "text": [
        "\n",
        "convert -resize 25x25! competition_data/train/trichodesmium_puff/108.jpg competition_data/train_25x25/trichodesmium_puff/108.jpg\n",
        "convert -resize 25x25! competition_data/train/trichodesmium_puff/80045.jpg competition_data/train_25x25/trichodesmium_puff/80045.jpg"
       ]
      },
      {
       "output_type": "stream",
       "stream": "stdout",
       "text": [
        "\n",
        "convert -resize 25x25! competition_data/train/trichodesmium_puff/932.jpg competition_data/train_25x25/trichodesmium_puff/932.jpg"
       ]
      },
      {
       "output_type": "stream",
       "stream": "stdout",
       "text": [
        "\n",
        "convert -resize 25x25! competition_data/train/trichodesmium_puff/103333.jpg competition_data/train_25x25/trichodesmium_puff/103333.jpg\n",
        "convert -resize 25x25! competition_data/train/trichodesmium_puff/145393.jpg competition_data/train_25x25/trichodesmium_puff/145393.jpg"
       ]
      },
      {
       "output_type": "stream",
       "stream": "stdout",
       "text": [
        "\n",
        "convert -resize 25x25! competition_data/train/trichodesmium_puff/85525.jpg competition_data/train_25x25/trichodesmium_puff/85525.jpg"
       ]
      },
      {
       "output_type": "stream",
       "stream": "stdout",
       "text": [
        "\n",
        "convert -resize 25x25! competition_data/train/trichodesmium_puff/156401.jpg competition_data/train_25x25/trichodesmium_puff/156401.jpg\n",
        "convert -resize 25x25! competition_data/train/trichodesmium_puff/140127.jpg competition_data/train_25x25/trichodesmium_puff/140127.jpg"
       ]
      },
      {
       "output_type": "stream",
       "stream": "stdout",
       "text": [
        "\n",
        "convert -resize 25x25! competition_data/train/trichodesmium_puff/27153.jpg competition_data/train_25x25/trichodesmium_puff/27153.jpg"
       ]
      },
      {
       "output_type": "stream",
       "stream": "stdout",
       "text": [
        "\n",
        "convert -resize 25x25! competition_data/train/trichodesmium_puff/160174.jpg competition_data/train_25x25/trichodesmium_puff/160174.jpg\n",
        "convert -resize 25x25! competition_data/train/trichodesmium_puff/140814.jpg competition_data/train_25x25/trichodesmium_puff/140814.jpg"
       ]
      },
      {
       "output_type": "stream",
       "stream": "stdout",
       "text": [
        "\n",
        "convert -resize 25x25! competition_data/train/trichodesmium_puff/137994.jpg competition_data/train_25x25/trichodesmium_puff/137994.jpg"
       ]
      },
      {
       "output_type": "stream",
       "stream": "stdout",
       "text": [
        "\n",
        "convert -resize 25x25! competition_data/train/trichodesmium_puff/61020.jpg competition_data/train_25x25/trichodesmium_puff/61020.jpg"
       ]
      },
      {
       "output_type": "stream",
       "stream": "stdout",
       "text": [
        "\n",
        "convert -resize 25x25! competition_data/train/trichodesmium_puff/605.jpg competition_data/train_25x25/trichodesmium_puff/605.jpg"
       ]
      },
      {
       "output_type": "stream",
       "stream": "stdout",
       "text": [
        "\n",
        "convert -resize 25x25! competition_data/train/trichodesmium_puff/95505.jpg competition_data/train_25x25/trichodesmium_puff/95505.jpg"
       ]
      },
      {
       "output_type": "stream",
       "stream": "stdout",
       "text": [
        "\n",
        "convert -resize 25x25! competition_data/train/trichodesmium_puff/75874.jpg competition_data/train_25x25/trichodesmium_puff/75874.jpg"
       ]
      },
      {
       "output_type": "stream",
       "stream": "stdout",
       "text": [
        "\n",
        "convert -resize 25x25! competition_data/train/trichodesmium_puff/28344.jpg competition_data/train_25x25/trichodesmium_puff/28344.jpg"
       ]
      },
      {
       "output_type": "stream",
       "stream": "stdout",
       "text": [
        "\n",
        "convert -resize 25x25! competition_data/train/trichodesmium_puff/60198.jpg competition_data/train_25x25/trichodesmium_puff/60198.jpg"
       ]
      },
      {
       "output_type": "stream",
       "stream": "stdout",
       "text": [
        "\n",
        "convert -resize 25x25! competition_data/train/trichodesmium_puff/2220.jpg competition_data/train_25x25/trichodesmium_puff/2220.jpg"
       ]
      },
      {
       "output_type": "stream",
       "stream": "stdout",
       "text": [
        "\n",
        "convert -resize 25x25! competition_data/train/trichodesmium_puff/88422.jpg competition_data/train_25x25/trichodesmium_puff/88422.jpg"
       ]
      },
      {
       "output_type": "stream",
       "stream": "stdout",
       "text": [
        "\n",
        "convert -resize 25x25! competition_data/train/trichodesmium_puff/149310.jpg competition_data/train_25x25/trichodesmium_puff/149310.jpg"
       ]
      },
      {
       "output_type": "stream",
       "stream": "stdout",
       "text": [
        "\n",
        "convert -resize 25x25! competition_data/train/trichodesmium_puff/41709.jpg competition_data/train_25x25/trichodesmium_puff/41709.jpg"
       ]
      },
      {
       "output_type": "stream",
       "stream": "stdout",
       "text": [
        "\n",
        "convert -resize 25x25! competition_data/train/trichodesmium_puff/20926.jpg competition_data/train_25x25/trichodesmium_puff/20926.jpg"
       ]
      },
      {
       "output_type": "stream",
       "stream": "stdout",
       "text": [
        "\n",
        "convert -resize 25x25! competition_data/train/trichodesmium_puff/187.jpg competition_data/train_25x25/trichodesmium_puff/187.jpg"
       ]
      },
      {
       "output_type": "stream",
       "stream": "stdout",
       "text": [
        "\n",
        "convert -resize 25x25! competition_data/train/trichodesmium_puff/125455.jpg competition_data/train_25x25/trichodesmium_puff/125455.jpg"
       ]
      },
      {
       "output_type": "stream",
       "stream": "stdout",
       "text": [
        "\n",
        "convert -resize 25x25! competition_data/train/trichodesmium_puff/73096.jpg competition_data/train_25x25/trichodesmium_puff/73096.jpg"
       ]
      },
      {
       "output_type": "stream",
       "stream": "stdout",
       "text": [
        "\n",
        "convert -resize 25x25! competition_data/train/trichodesmium_puff/115961.jpg competition_data/train_25x25/trichodesmium_puff/115961.jpg"
       ]
      },
      {
       "output_type": "stream",
       "stream": "stdout",
       "text": [
        "\n",
        "convert -resize 25x25! competition_data/train/trichodesmium_puff/33132.jpg competition_data/train_25x25/trichodesmium_puff/33132.jpg"
       ]
      },
      {
       "output_type": "stream",
       "stream": "stdout",
       "text": [
        "\n",
        "convert -resize 25x25! competition_data/train/trichodesmium_puff/18537.jpg competition_data/train_25x25/trichodesmium_puff/18537.jpg"
       ]
      },
      {
       "output_type": "stream",
       "stream": "stdout",
       "text": [
        "\n",
        "convert -resize 25x25! competition_data/train/trichodesmium_puff/91070.jpg competition_data/train_25x25/trichodesmium_puff/91070.jpg"
       ]
      },
      {
       "output_type": "stream",
       "stream": "stdout",
       "text": [
        "\n",
        "convert -resize 25x25! competition_data/train/trichodesmium_puff/76454.jpg competition_data/train_25x25/trichodesmium_puff/76454.jpg"
       ]
      },
      {
       "output_type": "stream",
       "stream": "stdout",
       "text": [
        "\n",
        "convert -resize 25x25! competition_data/train/trichodesmium_puff/42648.jpg competition_data/train_25x25/trichodesmium_puff/42648.jpg"
       ]
      },
      {
       "output_type": "stream",
       "stream": "stdout",
       "text": [
        "\n",
        "convert -resize 25x25! competition_data/train/trichodesmium_puff/82663.jpg competition_data/train_25x25/trichodesmium_puff/82663.jpg"
       ]
      },
      {
       "output_type": "stream",
       "stream": "stdout",
       "text": [
        "\n",
        "convert -resize 25x25! competition_data/train/trichodesmium_puff/53131.jpg competition_data/train_25x25/trichodesmium_puff/53131.jpg"
       ]
      },
      {
       "output_type": "stream",
       "stream": "stdout",
       "text": [
        "\n",
        "convert -resize 25x25! competition_data/train/trichodesmium_puff/150162.jpg competition_data/train_25x25/trichodesmium_puff/150162.jpg"
       ]
      },
      {
       "output_type": "stream",
       "stream": "stdout",
       "text": [
        "\n",
        "convert -resize 25x25! competition_data/train/trichodesmium_puff/7561.jpg competition_data/train_25x25/trichodesmium_puff/7561.jpg\n",
        "convert -resize 25x25! competition_data/train/trichodesmium_puff/60960.jpg competition_data/train_25x25/trichodesmium_puff/60960.jpg"
       ]
      },
      {
       "output_type": "stream",
       "stream": "stdout",
       "text": [
        "\n",
        "convert -resize 25x25! competition_data/train/trichodesmium_puff/138401.jpg competition_data/train_25x25/trichodesmium_puff/138401.jpg"
       ]
      },
      {
       "output_type": "stream",
       "stream": "stdout",
       "text": [
        "\n",
        "convert -resize 25x25! competition_data/train/trichodesmium_puff/87390.jpg competition_data/train_25x25/trichodesmium_puff/87390.jpg\n",
        "convert -resize 25x25! competition_data/train/trichodesmium_puff/98373.jpg competition_data/train_25x25/trichodesmium_puff/98373.jpg"
       ]
      },
      {
       "output_type": "stream",
       "stream": "stdout",
       "text": [
        "\n",
        "convert -resize 25x25! competition_data/train/trichodesmium_puff/80673.jpg competition_data/train_25x25/trichodesmium_puff/80673.jpg"
       ]
      },
      {
       "output_type": "stream",
       "stream": "stdout",
       "text": [
        "\n",
        "convert -resize 25x25! competition_data/train/trichodesmium_puff/32128.jpg competition_data/train_25x25/trichodesmium_puff/32128.jpg\n",
        "convert -resize 25x25! competition_data/train/trichodesmium_puff/77191.jpg competition_data/train_25x25/trichodesmium_puff/77191.jpg"
       ]
      },
      {
       "output_type": "stream",
       "stream": "stdout",
       "text": [
        "\n",
        "convert -resize 25x25! competition_data/train/trichodesmium_puff/79648.jpg competition_data/train_25x25/trichodesmium_puff/79648.jpg"
       ]
      },
      {
       "output_type": "stream",
       "stream": "stdout",
       "text": [
        "\n",
        "convert -resize 25x25! competition_data/train/trichodesmium_puff/146632.jpg competition_data/train_25x25/trichodesmium_puff/146632.jpg\n",
        "convert -resize 25x25! competition_data/train/trichodesmium_puff/116743.jpg competition_data/train_25x25/trichodesmium_puff/116743.jpg"
       ]
      },
      {
       "output_type": "stream",
       "stream": "stdout",
       "text": [
        "\n",
        "convert -resize 25x25! competition_data/train/trichodesmium_puff/134825.jpg competition_data/train_25x25/trichodesmium_puff/134825.jpg"
       ]
      },
      {
       "output_type": "stream",
       "stream": "stdout",
       "text": [
        "\n",
        "convert -resize 25x25! competition_data/train/trichodesmium_puff/143594.jpg competition_data/train_25x25/trichodesmium_puff/143594.jpg"
       ]
      },
      {
       "output_type": "stream",
       "stream": "stdout",
       "text": [
        "\n",
        "convert -resize 25x25! competition_data/train/trichodesmium_puff/29708.jpg competition_data/train_25x25/trichodesmium_puff/29708.jpg"
       ]
      },
      {
       "output_type": "stream",
       "stream": "stdout",
       "text": [
        "\n",
        "convert -resize 25x25! competition_data/train/trichodesmium_puff/58245.jpg competition_data/train_25x25/trichodesmium_puff/58245.jpg"
       ]
      },
      {
       "output_type": "stream",
       "stream": "stdout",
       "text": [
        "\n",
        "convert -resize 25x25! competition_data/train/trichodesmium_puff/66002.jpg competition_data/train_25x25/trichodesmium_puff/66002.jpg"
       ]
      },
      {
       "output_type": "stream",
       "stream": "stdout",
       "text": [
        "\n",
        "convert -resize 25x25! competition_data/train/trichodesmium_puff/87879.jpg competition_data/train_25x25/trichodesmium_puff/87879.jpg"
       ]
      },
      {
       "output_type": "stream",
       "stream": "stdout",
       "text": [
        "\n",
        "convert -resize 25x25! competition_data/train/trichodesmium_puff/114742.jpg competition_data/train_25x25/trichodesmium_puff/114742.jpg"
       ]
      },
      {
       "output_type": "stream",
       "stream": "stdout",
       "text": [
        "\n",
        "convert -resize 25x25! competition_data/train/trichodesmium_puff/74979.jpg competition_data/train_25x25/trichodesmium_puff/74979.jpg"
       ]
      },
      {
       "output_type": "stream",
       "stream": "stdout",
       "text": [
        "\n",
        "convert -resize 25x25! competition_data/train/trichodesmium_puff/145838.jpg competition_data/train_25x25/trichodesmium_puff/145838.jpg"
       ]
      },
      {
       "output_type": "stream",
       "stream": "stdout",
       "text": [
        "\n",
        "convert -resize 25x25! competition_data/train/trichodesmium_puff/93099.jpg competition_data/train_25x25/trichodesmium_puff/93099.jpg"
       ]
      },
      {
       "output_type": "stream",
       "stream": "stdout",
       "text": [
        "\n",
        "convert -resize 25x25! competition_data/train/trichodesmium_puff/140834.jpg competition_data/train_25x25/trichodesmium_puff/140834.jpg"
       ]
      },
      {
       "output_type": "stream",
       "stream": "stdout",
       "text": [
        "\n",
        "convert -resize 25x25! competition_data/train/trichodesmium_puff/99270.jpg competition_data/train_25x25/trichodesmium_puff/99270.jpg"
       ]
      },
      {
       "output_type": "stream",
       "stream": "stdout",
       "text": [
        "\n",
        "convert -resize 25x25! competition_data/train/trichodesmium_puff/125679.jpg competition_data/train_25x25/trichodesmium_puff/125679.jpg"
       ]
      },
      {
       "output_type": "stream",
       "stream": "stdout",
       "text": [
        "\n",
        "convert -resize 25x25! competition_data/train/trichodesmium_puff/6900.jpg competition_data/train_25x25/trichodesmium_puff/6900.jpg"
       ]
      },
      {
       "output_type": "stream",
       "stream": "stdout",
       "text": [
        "\n",
        "convert -resize 25x25! competition_data/train/trichodesmium_puff/31554.jpg competition_data/train_25x25/trichodesmium_puff/31554.jpg"
       ]
      },
      {
       "output_type": "stream",
       "stream": "stdout",
       "text": [
        "\n",
        "convert -resize 25x25! competition_data/train/trichodesmium_puff/39562.jpg competition_data/train_25x25/trichodesmium_puff/39562.jpg"
       ]
      },
      {
       "output_type": "stream",
       "stream": "stdout",
       "text": [
        "\n",
        "convert -resize 25x25! competition_data/train/trichodesmium_puff/29209.jpg competition_data/train_25x25/trichodesmium_puff/29209.jpg"
       ]
      },
      {
       "output_type": "stream",
       "stream": "stdout",
       "text": [
        "\n",
        "convert -resize 25x25! competition_data/train/trichodesmium_puff/49951.jpg competition_data/train_25x25/trichodesmium_puff/49951.jpg"
       ]
      },
      {
       "output_type": "stream",
       "stream": "stdout",
       "text": [
        "\n",
        "convert -resize 25x25! competition_data/train/trichodesmium_puff/138059.jpg competition_data/train_25x25/trichodesmium_puff/138059.jpg"
       ]
      },
      {
       "output_type": "stream",
       "stream": "stdout",
       "text": [
        "\n",
        "convert -resize 25x25! competition_data/train/trichodesmium_puff/77953.jpg competition_data/train_25x25/trichodesmium_puff/77953.jpg"
       ]
      },
      {
       "output_type": "stream",
       "stream": "stdout",
       "text": [
        "\n",
        "convert -resize 25x25! competition_data/train/trichodesmium_puff/79550.jpg competition_data/train_25x25/trichodesmium_puff/79550.jpg"
       ]
      },
      {
       "output_type": "stream",
       "stream": "stdout",
       "text": [
        "\n",
        "convert -resize 25x25! competition_data/train/trichodesmium_puff/143198.jpg competition_data/train_25x25/trichodesmium_puff/143198.jpg"
       ]
      },
      {
       "output_type": "stream",
       "stream": "stdout",
       "text": [
        "\n",
        "convert -resize 25x25! competition_data/train/trichodesmium_puff/128346.jpg competition_data/train_25x25/trichodesmium_puff/128346.jpg"
       ]
      },
      {
       "output_type": "stream",
       "stream": "stdout",
       "text": [
        "\n",
        "convert -resize 25x25! competition_data/train/trichodesmium_puff/118641.jpg competition_data/train_25x25/trichodesmium_puff/118641.jpg"
       ]
      },
      {
       "output_type": "stream",
       "stream": "stdout",
       "text": [
        "\n",
        "convert -resize 25x25! competition_data/train/trichodesmium_puff/122678.jpg competition_data/train_25x25/trichodesmium_puff/122678.jpg\n",
        "convert -resize 25x25! competition_data/train/trichodesmium_puff/53977.jpg competition_data/train_25x25/trichodesmium_puff/53977.jpg"
       ]
      },
      {
       "output_type": "stream",
       "stream": "stdout",
       "text": [
        "\n",
        "convert -resize 25x25! competition_data/train/trichodesmium_puff/22755.jpg competition_data/train_25x25/trichodesmium_puff/22755.jpg"
       ]
      },
      {
       "output_type": "stream",
       "stream": "stdout",
       "text": [
        "\n",
        "convert -resize 25x25! competition_data/train/trichodesmium_puff/88125.jpg competition_data/train_25x25/trichodesmium_puff/88125.jpg\n",
        "convert -resize 25x25! competition_data/train/trichodesmium_puff/68460.jpg competition_data/train_25x25/trichodesmium_puff/68460.jpg"
       ]
      },
      {
       "output_type": "stream",
       "stream": "stdout",
       "text": [
        "\n",
        "convert -resize 25x25! competition_data/train/trichodesmium_puff/81131.jpg competition_data/train_25x25/trichodesmium_puff/81131.jpg"
       ]
      },
      {
       "output_type": "stream",
       "stream": "stdout",
       "text": [
        "\n",
        "convert -resize 25x25! competition_data/train/trichodesmium_puff/137143.jpg competition_data/train_25x25/trichodesmium_puff/137143.jpg\n",
        "convert -resize 25x25! competition_data/train/trichodesmium_puff/57786.jpg competition_data/train_25x25/trichodesmium_puff/57786.jpg"
       ]
      },
      {
       "output_type": "stream",
       "stream": "stdout",
       "text": [
        "\n",
        "convert -resize 25x25! competition_data/train/trichodesmium_puff/144357.jpg competition_data/train_25x25/trichodesmium_puff/144357.jpg"
       ]
      },
      {
       "output_type": "stream",
       "stream": "stdout",
       "text": [
        "\n",
        "convert -resize 25x25! competition_data/train/trichodesmium_puff/116751.jpg competition_data/train_25x25/trichodesmium_puff/116751.jpg"
       ]
      },
      {
       "output_type": "stream",
       "stream": "stdout",
       "text": [
        "\n",
        "convert -resize 25x25! competition_data/train/trichodesmium_puff/29124.jpg competition_data/train_25x25/trichodesmium_puff/29124.jpg\n",
        "convert -resize 25x25! competition_data/train/trichodesmium_puff/76579.jpg competition_data/train_25x25/trichodesmium_puff/76579.jpg"
       ]
      },
      {
       "output_type": "stream",
       "stream": "stdout",
       "text": [
        "\n",
        "convert -resize 25x25! competition_data/train/trichodesmium_puff/12267.jpg competition_data/train_25x25/trichodesmium_puff/12267.jpg"
       ]
      },
      {
       "output_type": "stream",
       "stream": "stdout",
       "text": [
        "\n",
        "convert -resize 25x25! competition_data/train/trichodesmium_puff/62170.jpg competition_data/train_25x25/trichodesmium_puff/62170.jpg"
       ]
      },
      {
       "output_type": "stream",
       "stream": "stdout",
       "text": [
        "\n",
        "convert -resize 25x25! competition_data/train/trichodesmium_puff/47367.jpg competition_data/train_25x25/trichodesmium_puff/47367.jpg"
       ]
      },
      {
       "output_type": "stream",
       "stream": "stdout",
       "text": [
        "\n",
        "convert -resize 25x25! competition_data/train/trichodesmium_puff/55260.jpg competition_data/train_25x25/trichodesmium_puff/55260.jpg"
       ]
      },
      {
       "output_type": "stream",
       "stream": "stdout",
       "text": [
        "\n",
        "convert -resize 25x25! competition_data/train/trichodesmium_puff/152191.jpg competition_data/train_25x25/trichodesmium_puff/152191.jpg"
       ]
      },
      {
       "output_type": "stream",
       "stream": "stdout",
       "text": [
        "\n",
        "convert -resize 25x25! competition_data/train/trichodesmium_puff/18152.jpg competition_data/train_25x25/trichodesmium_puff/18152.jpg"
       ]
      },
      {
       "output_type": "stream",
       "stream": "stdout",
       "text": [
        "\n",
        "convert -resize 25x25! competition_data/train/trichodesmium_puff/25786.jpg competition_data/train_25x25/trichodesmium_puff/25786.jpg"
       ]
      },
      {
       "output_type": "stream",
       "stream": "stdout",
       "text": [
        "\n",
        "convert -resize 25x25! competition_data/train/trichodesmium_puff/41610.jpg competition_data/train_25x25/trichodesmium_puff/41610.jpg"
       ]
      },
      {
       "output_type": "stream",
       "stream": "stdout",
       "text": [
        "\n",
        "convert -resize 25x25! competition_data/train/trichodesmium_puff/109736.jpg competition_data/train_25x25/trichodesmium_puff/109736.jpg"
       ]
      },
      {
       "output_type": "stream",
       "stream": "stdout",
       "text": [
        "\n",
        "convert -resize 25x25! competition_data/train/trichodesmium_puff/85303.jpg competition_data/train_25x25/trichodesmium_puff/85303.jpg"
       ]
      },
      {
       "output_type": "stream",
       "stream": "stdout",
       "text": [
        "\n",
        "convert -resize 25x25! competition_data/train/trichodesmium_puff/13501.jpg competition_data/train_25x25/trichodesmium_puff/13501.jpg"
       ]
      },
      {
       "output_type": "stream",
       "stream": "stdout",
       "text": [
        "\n",
        "convert -resize 25x25! competition_data/train/trichodesmium_puff/128955.jpg competition_data/train_25x25/trichodesmium_puff/128955.jpg"
       ]
      },
      {
       "output_type": "stream",
       "stream": "stdout",
       "text": [
        "\n",
        "convert -resize 25x25! competition_data/train/trichodesmium_puff/114393.jpg competition_data/train_25x25/trichodesmium_puff/114393.jpg"
       ]
      },
      {
       "output_type": "stream",
       "stream": "stdout",
       "text": [
        "\n",
        "convert -resize 25x25! competition_data/train/trichodesmium_puff/40037.jpg competition_data/train_25x25/trichodesmium_puff/40037.jpg"
       ]
      },
      {
       "output_type": "stream",
       "stream": "stdout",
       "text": [
        "\n",
        "convert -resize 25x25! competition_data/train/trichodesmium_puff/86348.jpg competition_data/train_25x25/trichodesmium_puff/86348.jpg"
       ]
      },
      {
       "output_type": "stream",
       "stream": "stdout",
       "text": [
        "\n",
        "convert -resize 25x25! competition_data/train/trichodesmium_puff/145148.jpg competition_data/train_25x25/trichodesmium_puff/145148.jpg"
       ]
      },
      {
       "output_type": "stream",
       "stream": "stdout",
       "text": [
        "\n",
        "convert -resize 25x25! competition_data/train/trichodesmium_puff/73012.jpg competition_data/train_25x25/trichodesmium_puff/73012.jpg"
       ]
      },
      {
       "output_type": "stream",
       "stream": "stdout",
       "text": [
        "\n",
        "convert -resize 25x25! competition_data/train/trichodesmium_puff/24359.jpg competition_data/train_25x25/trichodesmium_puff/24359.jpg"
       ]
      },
      {
       "output_type": "stream",
       "stream": "stdout",
       "text": [
        "\n",
        "convert -resize 25x25! competition_data/train/trichodesmium_puff/96300.jpg competition_data/train_25x25/trichodesmium_puff/96300.jpg"
       ]
      },
      {
       "output_type": "stream",
       "stream": "stdout",
       "text": [
        "\n",
        "convert -resize 25x25! competition_data/train/trichodesmium_puff/90441.jpg competition_data/train_25x25/trichodesmium_puff/90441.jpg"
       ]
      },
      {
       "output_type": "stream",
       "stream": "stdout",
       "text": [
        "\n",
        "convert -resize 25x25! competition_data/train/trichodesmium_puff/100275.jpg competition_data/train_25x25/trichodesmium_puff/100275.jpg"
       ]
      },
      {
       "output_type": "stream",
       "stream": "stdout",
       "text": [
        "\n",
        "convert -resize 25x25! competition_data/train/trichodesmium_puff/70573.jpg competition_data/train_25x25/trichodesmium_puff/70573.jpg"
       ]
      },
      {
       "output_type": "stream",
       "stream": "stdout",
       "text": [
        "\n",
        "convert -resize 25x25! competition_data/train/trichodesmium_puff/93623.jpg competition_data/train_25x25/trichodesmium_puff/93623.jpg"
       ]
      },
      {
       "output_type": "stream",
       "stream": "stdout",
       "text": [
        "\n",
        "convert -resize 25x25! competition_data/train/trichodesmium_puff/132748.jpg competition_data/train_25x25/trichodesmium_puff/132748.jpg"
       ]
      },
      {
       "output_type": "stream",
       "stream": "stdout",
       "text": [
        "\n",
        "convert -resize 25x25! competition_data/train/trichodesmium_puff/33378.jpg competition_data/train_25x25/trichodesmium_puff/33378.jpg"
       ]
      },
      {
       "output_type": "stream",
       "stream": "stdout",
       "text": [
        "\n",
        "convert -resize 25x25! competition_data/train/trichodesmium_puff/45772.jpg competition_data/train_25x25/trichodesmium_puff/45772.jpg"
       ]
      },
      {
       "output_type": "stream",
       "stream": "stdout",
       "text": [
        "\n",
        "convert -resize 25x25! competition_data/train/trichodesmium_puff/104813.jpg competition_data/train_25x25/trichodesmium_puff/104813.jpg"
       ]
      },
      {
       "output_type": "stream",
       "stream": "stdout",
       "text": [
        "\n",
        "convert -resize 25x25! competition_data/train/trichodesmium_puff/44587.jpg competition_data/train_25x25/trichodesmium_puff/44587.jpg"
       ]
      },
      {
       "output_type": "stream",
       "stream": "stdout",
       "text": [
        "\n",
        "convert -resize 25x25! competition_data/train/trichodesmium_puff/97762.jpg competition_data/train_25x25/trichodesmium_puff/97762.jpg"
       ]
      },
      {
       "output_type": "stream",
       "stream": "stdout",
       "text": [
        "\n",
        "convert -resize 25x25! competition_data/train/trichodesmium_puff/103752.jpg competition_data/train_25x25/trichodesmium_puff/103752.jpg"
       ]
      },
      {
       "output_type": "stream",
       "stream": "stdout",
       "text": [
        "\n",
        "convert -resize 25x25! competition_data/train/trichodesmium_puff/487.jpg competition_data/train_25x25/trichodesmium_puff/487.jpg"
       ]
      },
      {
       "output_type": "stream",
       "stream": "stdout",
       "text": [
        "\n",
        "convert -resize 25x25! competition_data/train/trichodesmium_puff/89842.jpg competition_data/train_25x25/trichodesmium_puff/89842.jpg"
       ]
      },
      {
       "output_type": "stream",
       "stream": "stdout",
       "text": [
        "\n",
        "convert -resize 25x25! competition_data/train/trichodesmium_puff/145722.jpg competition_data/train_25x25/trichodesmium_puff/145722.jpg"
       ]
      },
      {
       "output_type": "stream",
       "stream": "stdout",
       "text": [
        "\n",
        "convert -resize 25x25! competition_data/train/trichodesmium_puff/126647.jpg competition_data/train_25x25/trichodesmium_puff/126647.jpg"
       ]
      },
      {
       "output_type": "stream",
       "stream": "stdout",
       "text": [
        "\n",
        "convert -resize 25x25! competition_data/train/trichodesmium_puff/98231.jpg competition_data/train_25x25/trichodesmium_puff/98231.jpg"
       ]
      },
      {
       "output_type": "stream",
       "stream": "stdout",
       "text": [
        "\n",
        "convert -resize 25x25! competition_data/train/trichodesmium_puff/66808.jpg competition_data/train_25x25/trichodesmium_puff/66808.jpg"
       ]
      },
      {
       "output_type": "stream",
       "stream": "stdout",
       "text": [
        "\n",
        "convert -resize 25x25! competition_data/train/trichodesmium_puff/19731.jpg competition_data/train_25x25/trichodesmium_puff/19731.jpg"
       ]
      },
      {
       "output_type": "stream",
       "stream": "stdout",
       "text": [
        "\n",
        "convert -resize 25x25! competition_data/train/trichodesmium_puff/14456.jpg competition_data/train_25x25/trichodesmium_puff/14456.jpg\n",
        "convert -resize 25x25! competition_data/train/trichodesmium_puff/17748.jpg competition_data/train_25x25/trichodesmium_puff/17748.jpg"
       ]
      },
      {
       "output_type": "stream",
       "stream": "stdout",
       "text": [
        "\n",
        "convert -resize 25x25! competition_data/train/trichodesmium_puff/76881.jpg competition_data/train_25x25/trichodesmium_puff/76881.jpg"
       ]
      },
      {
       "output_type": "stream",
       "stream": "stdout",
       "text": [
        "\n",
        "convert -resize 25x25! competition_data/train/trichodesmium_puff/61316.jpg competition_data/train_25x25/trichodesmium_puff/61316.jpg"
       ]
      },
      {
       "output_type": "stream",
       "stream": "stdout",
       "text": [
        "\n",
        "convert -resize 25x25! competition_data/train/trichodesmium_puff/20298.jpg competition_data/train_25x25/trichodesmium_puff/20298.jpg\n",
        "convert -resize 25x25! competition_data/train/trichodesmium_puff/29002.jpg competition_data/train_25x25/trichodesmium_puff/29002.jpg"
       ]
      },
      {
       "output_type": "stream",
       "stream": "stdout",
       "text": [
        "\n",
        "convert -resize 25x25! competition_data/train/trichodesmium_puff/98478.jpg competition_data/train_25x25/trichodesmium_puff/98478.jpg"
       ]
      },
      {
       "output_type": "stream",
       "stream": "stdout",
       "text": [
        "\n",
        "convert -resize 25x25! competition_data/train/trichodesmium_puff/124784.jpg competition_data/train_25x25/trichodesmium_puff/124784.jpg\n",
        "convert -resize 25x25! competition_data/train/trichodesmium_puff/105849.jpg competition_data/train_25x25/trichodesmium_puff/105849.jpg"
       ]
      },
      {
       "output_type": "stream",
       "stream": "stdout",
       "text": [
        "\n",
        "convert -resize 25x25! competition_data/train/trichodesmium_puff/121106.jpg competition_data/train_25x25/trichodesmium_puff/121106.jpg"
       ]
      },
      {
       "output_type": "stream",
       "stream": "stdout",
       "text": [
        "\n",
        "convert -resize 25x25! competition_data/train/trichodesmium_puff/67613.jpg competition_data/train_25x25/trichodesmium_puff/67613.jpg\n",
        "convert -resize 25x25! competition_data/train/trichodesmium_puff/123364.jpg competition_data/train_25x25/trichodesmium_puff/123364.jpg"
       ]
      },
      {
       "output_type": "stream",
       "stream": "stdout",
       "text": [
        "\n",
        "convert -resize 25x25! competition_data/train/trichodesmium_puff/20397.jpg competition_data/train_25x25/trichodesmium_puff/20397.jpg"
       ]
      },
      {
       "output_type": "stream",
       "stream": "stdout",
       "text": [
        "\n",
        "convert -resize 25x25! competition_data/train/trichodesmium_puff/68831.jpg competition_data/train_25x25/trichodesmium_puff/68831.jpg\n",
        "convert -resize 25x25! competition_data/train/trichodesmium_puff/127859.jpg competition_data/train_25x25/trichodesmium_puff/127859.jpg"
       ]
      },
      {
       "output_type": "stream",
       "stream": "stdout",
       "text": [
        "\n",
        "convert -resize 25x25! competition_data/train/trichodesmium_puff/61672.jpg competition_data/train_25x25/trichodesmium_puff/61672.jpg"
       ]
      },
      {
       "output_type": "stream",
       "stream": "stdout",
       "text": [
        "\n",
        "convert -resize 25x25! competition_data/train/trichodesmium_puff/106707.jpg competition_data/train_25x25/trichodesmium_puff/106707.jpg"
       ]
      },
      {
       "output_type": "stream",
       "stream": "stdout",
       "text": [
        "\n",
        "convert -resize 25x25! competition_data/train/trichodesmium_puff/102525.jpg competition_data/train_25x25/trichodesmium_puff/102525.jpg"
       ]
      },
      {
       "output_type": "stream",
       "stream": "stdout",
       "text": [
        "\n",
        "convert -resize 25x25! competition_data/train/trichodesmium_puff/64443.jpg competition_data/train_25x25/trichodesmium_puff/64443.jpg"
       ]
      },
      {
       "output_type": "stream",
       "stream": "stdout",
       "text": [
        "\n",
        "convert -resize 25x25! competition_data/train/trichodesmium_puff/108679.jpg competition_data/train_25x25/trichodesmium_puff/108679.jpg"
       ]
      },
      {
       "output_type": "stream",
       "stream": "stdout",
       "text": [
        "\n",
        "convert -resize 25x25! competition_data/train/trichodesmium_puff/42237.jpg competition_data/train_25x25/trichodesmium_puff/42237.jpg"
       ]
      },
      {
       "output_type": "stream",
       "stream": "stdout",
       "text": [
        "\n",
        "convert -resize 25x25! competition_data/train/trichodesmium_puff/88169.jpg competition_data/train_25x25/trichodesmium_puff/88169.jpg"
       ]
      },
      {
       "output_type": "stream",
       "stream": "stdout",
       "text": [
        "\n",
        "convert -resize 25x25! competition_data/train/trichodesmium_puff/51645.jpg competition_data/train_25x25/trichodesmium_puff/51645.jpg"
       ]
      },
      {
       "output_type": "stream",
       "stream": "stdout",
       "text": [
        "\n",
        "convert -resize 25x25! competition_data/train/trichodesmium_puff/73437.jpg competition_data/train_25x25/trichodesmium_puff/73437.jpg"
       ]
      },
      {
       "output_type": "stream",
       "stream": "stdout",
       "text": [
        "\n",
        "convert -resize 25x25! competition_data/train/trichodesmium_puff/66824.jpg competition_data/train_25x25/trichodesmium_puff/66824.jpg"
       ]
      },
      {
       "output_type": "stream",
       "stream": "stdout",
       "text": [
        "\n",
        "convert -resize 25x25! competition_data/train/trichodesmium_puff/48420.jpg competition_data/train_25x25/trichodesmium_puff/48420.jpg"
       ]
      },
      {
       "output_type": "stream",
       "stream": "stdout",
       "text": [
        "\n",
        "convert -resize 25x25! competition_data/train/trichodesmium_puff/80432.jpg competition_data/train_25x25/trichodesmium_puff/80432.jpg"
       ]
      },
      {
       "output_type": "stream",
       "stream": "stdout",
       "text": [
        "\n",
        "convert -resize 25x25! competition_data/train/trichodesmium_puff/49106.jpg competition_data/train_25x25/trichodesmium_puff/49106.jpg"
       ]
      },
      {
       "output_type": "stream",
       "stream": "stdout",
       "text": [
        "\n",
        "convert -resize 25x25! competition_data/train/trichodesmium_puff/67120.jpg competition_data/train_25x25/trichodesmium_puff/67120.jpg"
       ]
      },
      {
       "output_type": "stream",
       "stream": "stdout",
       "text": [
        "\n",
        "convert -resize 25x25! competition_data/train/trichodesmium_puff/143880.jpg competition_data/train_25x25/trichodesmium_puff/143880.jpg"
       ]
      },
      {
       "output_type": "stream",
       "stream": "stdout",
       "text": [
        "\n",
        "convert -resize 25x25! competition_data/train/trichodesmium_puff/94331.jpg competition_data/train_25x25/trichodesmium_puff/94331.jpg"
       ]
      },
      {
       "output_type": "stream",
       "stream": "stdout",
       "text": [
        "\n",
        "convert -resize 25x25! competition_data/train/trichodesmium_puff/22715.jpg competition_data/train_25x25/trichodesmium_puff/22715.jpg"
       ]
      },
      {
       "output_type": "stream",
       "stream": "stdout",
       "text": [
        "\n",
        "convert -resize 25x25! competition_data/train/trichodesmium_puff/16106.jpg competition_data/train_25x25/trichodesmium_puff/16106.jpg"
       ]
      },
      {
       "output_type": "stream",
       "stream": "stdout",
       "text": [
        "\n",
        "convert -resize 25x25! competition_data/train/trichodesmium_puff/144080.jpg competition_data/train_25x25/trichodesmium_puff/144080.jpg"
       ]
      },
      {
       "output_type": "stream",
       "stream": "stdout",
       "text": [
        "\n",
        "convert -resize 25x25! competition_data/train/trichodesmium_puff/8986.jpg competition_data/train_25x25/trichodesmium_puff/8986.jpg"
       ]
      },
      {
       "output_type": "stream",
       "stream": "stdout",
       "text": [
        "\n",
        "convert -resize 25x25! competition_data/train/trichodesmium_puff/72959.jpg competition_data/train_25x25/trichodesmium_puff/72959.jpg"
       ]
      },
      {
       "output_type": "stream",
       "stream": "stdout",
       "text": [
        "\n",
        "convert -resize 25x25! competition_data/train/trichodesmium_puff/157683.jpg competition_data/train_25x25/trichodesmium_puff/157683.jpg"
       ]
      },
      {
       "output_type": "stream",
       "stream": "stdout",
       "text": [
        "\n",
        "convert -resize 25x25! competition_data/train/trichodesmium_puff/30902.jpg competition_data/train_25x25/trichodesmium_puff/30902.jpg\n",
        "convert -resize 25x25! competition_data/train/trichodesmium_puff/29704.jpg competition_data/train_25x25/trichodesmium_puff/29704.jpg"
       ]
      },
      {
       "output_type": "stream",
       "stream": "stdout",
       "text": [
        "\n",
        "convert -resize 25x25! competition_data/train/trichodesmium_puff/140366.jpg competition_data/train_25x25/trichodesmium_puff/140366.jpg"
       ]
      },
      {
       "output_type": "stream",
       "stream": "stdout",
       "text": [
        "\n",
        "convert -resize 25x25! competition_data/train/trichodesmium_puff/90105.jpg competition_data/train_25x25/trichodesmium_puff/90105.jpg\n",
        "convert -resize 25x25! competition_data/train/trichodesmium_puff/45230.jpg competition_data/train_25x25/trichodesmium_puff/45230.jpg"
       ]
      },
      {
       "output_type": "stream",
       "stream": "stdout",
       "text": [
        "\n",
        "convert -resize 25x25! competition_data/train/trichodesmium_puff/119711.jpg competition_data/train_25x25/trichodesmium_puff/119711.jpg"
       ]
      },
      {
       "output_type": "stream",
       "stream": "stdout",
       "text": [
        "\n",
        "convert -resize 25x25! competition_data/train/trichodesmium_puff/40030.jpg competition_data/train_25x25/trichodesmium_puff/40030.jpg\n",
        "convert -resize 25x25! competition_data/train/trichodesmium_puff/82565.jpg competition_data/train_25x25/trichodesmium_puff/82565.jpg"
       ]
      },
      {
       "output_type": "stream",
       "stream": "stdout",
       "text": [
        "\n",
        "convert -resize 25x25! competition_data/train/trichodesmium_puff/65022.jpg competition_data/train_25x25/trichodesmium_puff/65022.jpg"
       ]
      },
      {
       "output_type": "stream",
       "stream": "stdout",
       "text": [
        "\n",
        "convert -resize 25x25! competition_data/train/trichodesmium_puff/95553.jpg competition_data/train_25x25/trichodesmium_puff/95553.jpg\n",
        "convert -resize 25x25! competition_data/train/trichodesmium_puff/27292.jpg competition_data/train_25x25/trichodesmium_puff/27292.jpg"
       ]
      },
      {
       "output_type": "stream",
       "stream": "stdout",
       "text": [
        "\n",
        "convert -resize 25x25! competition_data/train/trichodesmium_puff/24674.jpg competition_data/train_25x25/trichodesmium_puff/24674.jpg"
       ]
      },
      {
       "output_type": "stream",
       "stream": "stdout",
       "text": [
        "\n",
        "convert -resize 25x25! competition_data/train/trichodesmium_puff/73876.jpg competition_data/train_25x25/trichodesmium_puff/73876.jpg\n",
        "convert -resize 25x25! competition_data/train/trichodesmium_puff/130587.jpg competition_data/train_25x25/trichodesmium_puff/130587.jpg"
       ]
      },
      {
       "output_type": "stream",
       "stream": "stdout",
       "text": [
        "\n",
        "convert -resize 25x25! competition_data/train/trichodesmium_puff/121615.jpg competition_data/train_25x25/trichodesmium_puff/121615.jpg"
       ]
      },
      {
       "output_type": "stream",
       "stream": "stdout",
       "text": [
        "\n",
        "convert -resize 25x25! competition_data/train/trichodesmium_puff/157961.jpg competition_data/train_25x25/trichodesmium_puff/157961.jpg"
       ]
      },
      {
       "output_type": "stream",
       "stream": "stdout",
       "text": [
        "\n",
        "convert -resize 25x25! competition_data/train/trichodesmium_puff/81406.jpg competition_data/train_25x25/trichodesmium_puff/81406.jpg"
       ]
      },
      {
       "output_type": "stream",
       "stream": "stdout",
       "text": [
        "\n",
        "convert -resize 25x25! competition_data/train/trichodesmium_puff/124634.jpg competition_data/train_25x25/trichodesmium_puff/124634.jpg"
       ]
      },
      {
       "output_type": "stream",
       "stream": "stdout",
       "text": [
        "\n",
        "convert -resize 25x25! competition_data/train/trichodesmium_puff/140792.jpg competition_data/train_25x25/trichodesmium_puff/140792.jpg"
       ]
      },
      {
       "output_type": "stream",
       "stream": "stdout",
       "text": [
        "\n",
        "convert -resize 25x25! competition_data/train/trichodesmium_puff/160583.jpg competition_data/train_25x25/trichodesmium_puff/160583.jpg"
       ]
      },
      {
       "output_type": "stream",
       "stream": "stdout",
       "text": [
        "\n",
        "convert -resize 25x25! competition_data/train/trichodesmium_puff/91678.jpg competition_data/train_25x25/trichodesmium_puff/91678.jpg"
       ]
      },
      {
       "output_type": "stream",
       "stream": "stdout",
       "text": [
        "\n",
        "convert -resize 25x25! competition_data/train/trichodesmium_puff/145246.jpg competition_data/train_25x25/trichodesmium_puff/145246.jpg"
       ]
      },
      {
       "output_type": "stream",
       "stream": "stdout",
       "text": [
        "\n",
        "convert -resize 25x25! competition_data/train/trichodesmium_puff/28670.jpg competition_data/train_25x25/trichodesmium_puff/28670.jpg"
       ]
      },
      {
       "output_type": "stream",
       "stream": "stdout",
       "text": [
        "\n",
        "convert -resize 25x25! competition_data/train/trichodesmium_puff/56265.jpg competition_data/train_25x25/trichodesmium_puff/56265.jpg"
       ]
      },
      {
       "output_type": "stream",
       "stream": "stdout",
       "text": [
        "\n",
        "convert -resize 25x25! competition_data/train/trichodesmium_puff/149674.jpg competition_data/train_25x25/trichodesmium_puff/149674.jpg"
       ]
      },
      {
       "output_type": "stream",
       "stream": "stdout",
       "text": [
        "\n",
        "convert -resize 25x25! competition_data/train/trichodesmium_puff/124822.jpg competition_data/train_25x25/trichodesmium_puff/124822.jpg"
       ]
      },
      {
       "output_type": "stream",
       "stream": "stdout",
       "text": [
        "\n",
        "convert -resize 25x25! competition_data/train/trichodesmium_puff/57680.jpg competition_data/train_25x25/trichodesmium_puff/57680.jpg"
       ]
      },
      {
       "output_type": "stream",
       "stream": "stdout",
       "text": [
        "\n",
        "convert -resize 25x25! competition_data/train/trichodesmium_puff/111178.jpg competition_data/train_25x25/trichodesmium_puff/111178.jpg"
       ]
      },
      {
       "output_type": "stream",
       "stream": "stdout",
       "text": [
        "\n",
        "convert -resize 25x25! competition_data/train/trichodesmium_puff/58141.jpg competition_data/train_25x25/trichodesmium_puff/58141.jpg"
       ]
      },
      {
       "output_type": "stream",
       "stream": "stdout",
       "text": [
        "\n",
        "convert -resize 25x25! competition_data/train/trichodesmium_puff/28486.jpg competition_data/train_25x25/trichodesmium_puff/28486.jpg"
       ]
      },
      {
       "output_type": "stream",
       "stream": "stdout",
       "text": [
        "\n",
        "convert -resize 25x25! competition_data/train/trichodesmium_puff/12195.jpg competition_data/train_25x25/trichodesmium_puff/12195.jpg"
       ]
      },
      {
       "output_type": "stream",
       "stream": "stdout",
       "text": [
        "\n",
        "convert -resize 25x25! competition_data/train/trichodesmium_puff/78885.jpg competition_data/train_25x25/trichodesmium_puff/78885.jpg"
       ]
      },
      {
       "output_type": "stream",
       "stream": "stdout",
       "text": [
        "\n",
        "convert -resize 25x25! competition_data/train/trichodesmium_puff/71336.jpg competition_data/train_25x25/trichodesmium_puff/71336.jpg"
       ]
      },
      {
       "output_type": "stream",
       "stream": "stdout",
       "text": [
        "\n",
        "convert -resize 25x25! competition_data/train/trichodesmium_puff/8596.jpg competition_data/train_25x25/trichodesmium_puff/8596.jpg"
       ]
      },
      {
       "output_type": "stream",
       "stream": "stdout",
       "text": [
        "\n",
        "convert -resize 25x25! competition_data/train/trichodesmium_puff/50357.jpg competition_data/train_25x25/trichodesmium_puff/50357.jpg"
       ]
      },
      {
       "output_type": "stream",
       "stream": "stdout",
       "text": [
        "\n",
        "convert -resize 25x25! competition_data/train/trichodesmium_puff/59714.jpg competition_data/train_25x25/trichodesmium_puff/59714.jpg"
       ]
      },
      {
       "output_type": "stream",
       "stream": "stdout",
       "text": [
        "\n",
        "convert -resize 25x25! competition_data/train/trichodesmium_puff/92510.jpg competition_data/train_25x25/trichodesmium_puff/92510.jpg"
       ]
      },
      {
       "output_type": "stream",
       "stream": "stdout",
       "text": [
        "\n",
        "convert -resize 25x25! competition_data/train/trichodesmium_puff/62167.jpg competition_data/train_25x25/trichodesmium_puff/62167.jpg"
       ]
      },
      {
       "output_type": "stream",
       "stream": "stdout",
       "text": [
        "\n",
        "convert -resize 25x25! competition_data/train/trichodesmium_puff/154204.jpg competition_data/train_25x25/trichodesmium_puff/154204.jpg\n",
        "convert -resize 25x25! competition_data/train/trichodesmium_puff/87069.jpg competition_data/train_25x25/trichodesmium_puff/87069.jpg"
       ]
      },
      {
       "output_type": "stream",
       "stream": "stdout",
       "text": [
        "\n",
        "convert -resize 25x25! competition_data/train/trichodesmium_puff/16947.jpg competition_data/train_25x25/trichodesmium_puff/16947.jpg"
       ]
      },
      {
       "output_type": "stream",
       "stream": "stdout",
       "text": [
        "\n",
        "convert -resize 25x25! competition_data/train/trichodesmium_puff/51349.jpg competition_data/train_25x25/trichodesmium_puff/51349.jpg\n",
        "convert -resize 25x25! competition_data/train/trichodesmium_puff/147275.jpg competition_data/train_25x25/trichodesmium_puff/147275.jpg"
       ]
      },
      {
       "output_type": "stream",
       "stream": "stdout",
       "text": [
        "\n",
        "convert -resize 25x25! competition_data/train/trichodesmium_puff/155403.jpg competition_data/train_25x25/trichodesmium_puff/155403.jpg"
       ]
      },
      {
       "output_type": "stream",
       "stream": "stdout",
       "text": [
        "\n",
        "convert -resize 25x25! competition_data/train/trichodesmium_puff/159646.jpg competition_data/train_25x25/trichodesmium_puff/159646.jpg"
       ]
      },
      {
       "output_type": "stream",
       "stream": "stdout",
       "text": [
        "\n",
        "convert -resize 25x25! competition_data/train/trichodesmium_puff/159843.jpg competition_data/train_25x25/trichodesmium_puff/159843.jpg"
       ]
      },
      {
       "output_type": "stream",
       "stream": "stdout",
       "text": [
        "\n",
        "convert -resize 25x25! competition_data/train/trichodesmium_puff/140100.jpg competition_data/train_25x25/trichodesmium_puff/140100.jpg"
       ]
      },
      {
       "output_type": "stream",
       "stream": "stdout",
       "text": [
        "\n",
        "convert -resize 25x25! competition_data/train/trichodesmium_puff/101945.jpg competition_data/train_25x25/trichodesmium_puff/101945.jpg\n",
        "convert -resize 25x25! competition_data/train/trichodesmium_puff/56915.jpg competition_data/train_25x25/trichodesmium_puff/56915.jpg"
       ]
      },
      {
       "output_type": "stream",
       "stream": "stdout",
       "text": [
        "\n",
        "convert -resize 25x25! competition_data/train/trichodesmium_puff/79442.jpg competition_data/train_25x25/trichodesmium_puff/79442.jpg"
       ]
      },
      {
       "output_type": "stream",
       "stream": "stdout",
       "text": [
        "\n",
        "convert -resize 25x25! competition_data/train/trichodesmium_puff/69153.jpg competition_data/train_25x25/trichodesmium_puff/69153.jpg"
       ]
      },
      {
       "output_type": "stream",
       "stream": "stdout",
       "text": [
        "\n",
        "convert -resize 25x25! competition_data/train/trichodesmium_puff/122637.jpg competition_data/train_25x25/trichodesmium_puff/122637.jpg"
       ]
      },
      {
       "output_type": "stream",
       "stream": "stdout",
       "text": [
        "\n",
        "convert -resize 25x25! competition_data/train/trichodesmium_puff/145487.jpg competition_data/train_25x25/trichodesmium_puff/145487.jpg"
       ]
      },
      {
       "output_type": "stream",
       "stream": "stdout",
       "text": [
        "\n",
        "convert -resize 25x25! competition_data/train/trichodesmium_puff/118894.jpg competition_data/train_25x25/trichodesmium_puff/118894.jpg"
       ]
      },
      {
       "output_type": "stream",
       "stream": "stdout",
       "text": [
        "\n",
        "convert -resize 25x25! competition_data/train/trichodesmium_puff/21020.jpg competition_data/train_25x25/trichodesmium_puff/21020.jpg"
       ]
      },
      {
       "output_type": "stream",
       "stream": "stdout",
       "text": [
        "\n",
        "convert -resize 25x25! competition_data/train/trichodesmium_puff/7663.jpg competition_data/train_25x25/trichodesmium_puff/7663.jpg"
       ]
      },
      {
       "output_type": "stream",
       "stream": "stdout",
       "text": [
        "\n",
        "convert -resize 25x25! competition_data/train/trichodesmium_puff/122587.jpg competition_data/train_25x25/trichodesmium_puff/122587.jpg"
       ]
      },
      {
       "output_type": "stream",
       "stream": "stdout",
       "text": [
        "\n",
        "convert -resize 25x25! competition_data/train/trichodesmium_puff/21693.jpg competition_data/train_25x25/trichodesmium_puff/21693.jpg"
       ]
      },
      {
       "output_type": "stream",
       "stream": "stdout",
       "text": [
        "\n",
        "convert -resize 25x25! competition_data/train/trichodesmium_puff/124854.jpg competition_data/train_25x25/trichodesmium_puff/124854.jpg"
       ]
      },
      {
       "output_type": "stream",
       "stream": "stdout",
       "text": [
        "\n",
        "convert -resize 25x25! competition_data/train/trichodesmium_puff/154695.jpg competition_data/train_25x25/trichodesmium_puff/154695.jpg"
       ]
      },
      {
       "output_type": "stream",
       "stream": "stdout",
       "text": [
        "\n",
        "convert -resize 25x25! competition_data/train/trichodesmium_puff/102338.jpg competition_data/train_25x25/trichodesmium_puff/102338.jpg"
       ]
      },
      {
       "output_type": "stream",
       "stream": "stdout",
       "text": [
        "\n",
        "convert -resize 25x25! competition_data/train/trichodesmium_puff/119218.jpg competition_data/train_25x25/trichodesmium_puff/119218.jpg"
       ]
      },
      {
       "output_type": "stream",
       "stream": "stdout",
       "text": [
        "\n",
        "convert -resize 25x25! competition_data/train/trichodesmium_puff/29749.jpg competition_data/train_25x25/trichodesmium_puff/29749.jpg"
       ]
      },
      {
       "output_type": "stream",
       "stream": "stdout",
       "text": [
        "\n",
        "convert -resize 25x25! competition_data/train/trichodesmium_puff/22307.jpg competition_data/train_25x25/trichodesmium_puff/22307.jpg"
       ]
      },
      {
       "output_type": "stream",
       "stream": "stdout",
       "text": [
        "\n",
        "convert -resize 25x25! competition_data/train/trichodesmium_puff/54678.jpg competition_data/train_25x25/trichodesmium_puff/54678.jpg"
       ]
      },
      {
       "output_type": "stream",
       "stream": "stdout",
       "text": [
        "\n",
        "convert -resize 25x25! competition_data/train/trichodesmium_puff/136208.jpg competition_data/train_25x25/trichodesmium_puff/136208.jpg"
       ]
      },
      {
       "output_type": "stream",
       "stream": "stdout",
       "text": [
        "\n",
        "convert -resize 25x25! competition_data/train/trichodesmium_puff/126916.jpg competition_data/train_25x25/trichodesmium_puff/126916.jpg"
       ]
      },
      {
       "output_type": "stream",
       "stream": "stdout",
       "text": [
        "\n",
        "convert -resize 25x25! competition_data/train/trichodesmium_puff/143226.jpg competition_data/train_25x25/trichodesmium_puff/143226.jpg"
       ]
      },
      {
       "output_type": "stream",
       "stream": "stdout",
       "text": [
        "\n",
        "convert -resize 25x25! competition_data/train/trichodesmium_puff/69731.jpg competition_data/train_25x25/trichodesmium_puff/69731.jpg"
       ]
      },
      {
       "output_type": "stream",
       "stream": "stdout",
       "text": [
        "\n",
        "convert -resize 25x25! competition_data/train/trichodesmium_puff/137048.jpg competition_data/train_25x25/trichodesmium_puff/137048.jpg"
       ]
      },
      {
       "output_type": "stream",
       "stream": "stdout",
       "text": [
        "\n",
        "convert -resize 25x25! competition_data/train/trichodesmium_puff/68294.jpg competition_data/train_25x25/trichodesmium_puff/68294.jpg"
       ]
      },
      {
       "output_type": "stream",
       "stream": "stdout",
       "text": [
        "\n",
        "convert -resize 25x25! competition_data/train/trichodesmium_puff/37873.jpg competition_data/train_25x25/trichodesmium_puff/37873.jpg"
       ]
      },
      {
       "output_type": "stream",
       "stream": "stdout",
       "text": [
        "\n",
        "convert -resize 25x25! competition_data/train/trichodesmium_puff/100730.jpg competition_data/train_25x25/trichodesmium_puff/100730.jpg"
       ]
      },
      {
       "output_type": "stream",
       "stream": "stdout",
       "text": [
        "\n",
        "convert -resize 25x25! competition_data/train/trichodesmium_puff/147950.jpg competition_data/train_25x25/trichodesmium_puff/147950.jpg"
       ]
      },
      {
       "output_type": "stream",
       "stream": "stdout",
       "text": [
        "\n",
        "convert -resize 25x25! competition_data/train/trichodesmium_puff/142964.jpg competition_data/train_25x25/trichodesmium_puff/142964.jpg\n",
        "convert -resize 25x25! competition_data/train/trichodesmium_puff/28760.jpg competition_data/train_25x25/trichodesmium_puff/28760.jpg"
       ]
      },
      {
       "output_type": "stream",
       "stream": "stdout",
       "text": [
        "\n",
        "convert -resize 25x25! competition_data/train/trichodesmium_puff/12604.jpg competition_data/train_25x25/trichodesmium_puff/12604.jpg"
       ]
      },
      {
       "output_type": "stream",
       "stream": "stdout",
       "text": [
        "\n",
        "convert -resize 25x25! competition_data/train/trichodesmium_puff/74525.jpg competition_data/train_25x25/trichodesmium_puff/74525.jpg\n",
        "convert -resize 25x25! competition_data/train/trichodesmium_puff/3981.jpg competition_data/train_25x25/trichodesmium_puff/3981.jpg"
       ]
      },
      {
       "output_type": "stream",
       "stream": "stdout",
       "text": [
        "\n",
        "convert -resize 25x25! competition_data/train/trichodesmium_puff/153615.jpg competition_data/train_25x25/trichodesmium_puff/153615.jpg\n",
        "convert -resize 25x25! competition_data/train/trichodesmium_puff/40175.jpg competition_data/train_25x25/trichodesmium_puff/40175.jpg"
       ]
      },
      {
       "output_type": "stream",
       "stream": "stdout",
       "text": [
        "\n",
        "convert -resize 25x25! competition_data/train/trichodesmium_puff/56252.jpg competition_data/train_25x25/trichodesmium_puff/56252.jpg"
       ]
      },
      {
       "output_type": "stream",
       "stream": "stdout",
       "text": [
        "\n",
        "convert -resize 25x25! competition_data/train/trichodesmium_puff/23138.jpg competition_data/train_25x25/trichodesmium_puff/23138.jpg"
       ]
      },
      {
       "output_type": "stream",
       "stream": "stdout",
       "text": [
        "\n",
        "convert -resize 25x25! competition_data/train/trichodesmium_puff/7850.jpg competition_data/train_25x25/trichodesmium_puff/7850.jpg"
       ]
      },
      {
       "output_type": "stream",
       "stream": "stdout",
       "text": [
        "\n",
        "convert -resize 25x25! competition_data/train/trichodesmium_puff/11618.jpg competition_data/train_25x25/trichodesmium_puff/11618.jpg"
       ]
      },
      {
       "output_type": "stream",
       "stream": "stdout",
       "text": [
        "\n",
        "convert -resize 25x25! competition_data/train/trichodesmium_puff/18870.jpg competition_data/train_25x25/trichodesmium_puff/18870.jpg"
       ]
      },
      {
       "output_type": "stream",
       "stream": "stdout",
       "text": [
        "\n",
        "convert -resize 25x25! competition_data/train/trichodesmium_puff/42753.jpg competition_data/train_25x25/trichodesmium_puff/42753.jpg"
       ]
      },
      {
       "output_type": "stream",
       "stream": "stdout",
       "text": [
        "\n",
        "convert -resize 25x25! competition_data/train/trichodesmium_puff/101652.jpg competition_data/train_25x25/trichodesmium_puff/101652.jpg"
       ]
      },
      {
       "output_type": "stream",
       "stream": "stdout",
       "text": [
        "\n",
        "convert -resize 25x25! competition_data/train/trichodesmium_puff/28709.jpg competition_data/train_25x25/trichodesmium_puff/28709.jpg"
       ]
      },
      {
       "output_type": "stream",
       "stream": "stdout",
       "text": [
        "\n",
        "convert -resize 25x25! competition_data/train/trichodesmium_puff/12301.jpg competition_data/train_25x25/trichodesmium_puff/12301.jpg"
       ]
      },
      {
       "output_type": "stream",
       "stream": "stdout",
       "text": [
        "\n",
        "convert -resize 25x25! competition_data/train/trichodesmium_puff/85278.jpg competition_data/train_25x25/trichodesmium_puff/85278.jpg"
       ]
      },
      {
       "output_type": "stream",
       "stream": "stdout",
       "text": [
        "\n",
        "convert -resize 25x25! competition_data/train/trichodesmium_puff/80434.jpg competition_data/train_25x25/trichodesmium_puff/80434.jpg"
       ]
      },
      {
       "output_type": "stream",
       "stream": "stdout",
       "text": [
        "\n",
        "convert -resize 25x25! competition_data/train/trichodesmium_puff/114826.jpg competition_data/train_25x25/trichodesmium_puff/114826.jpg"
       ]
      },
      {
       "output_type": "stream",
       "stream": "stdout",
       "text": [
        "\n",
        "convert -resize 25x25! competition_data/train/trichodesmium_puff/99775.jpg competition_data/train_25x25/trichodesmium_puff/99775.jpg"
       ]
      },
      {
       "output_type": "stream",
       "stream": "stdout",
       "text": [
        "\n",
        "convert -resize 25x25! competition_data/train/trichodesmium_puff/156833.jpg competition_data/train_25x25/trichodesmium_puff/156833.jpg"
       ]
      },
      {
       "output_type": "stream",
       "stream": "stdout",
       "text": [
        "\n",
        "convert -resize 25x25! competition_data/train/trichodesmium_puff/148453.jpg competition_data/train_25x25/trichodesmium_puff/148453.jpg"
       ]
      },
      {
       "output_type": "stream",
       "stream": "stdout",
       "text": [
        "\n",
        "convert -resize 25x25! competition_data/train/trichodesmium_puff/40900.jpg competition_data/train_25x25/trichodesmium_puff/40900.jpg"
       ]
      },
      {
       "output_type": "stream",
       "stream": "stdout",
       "text": [
        "\n",
        "convert -resize 25x25! competition_data/train/trichodesmium_puff/48642.jpg competition_data/train_25x25/trichodesmium_puff/48642.jpg"
       ]
      },
      {
       "output_type": "stream",
       "stream": "stdout",
       "text": [
        "\n",
        "convert -resize 25x25! competition_data/train/trichodesmium_puff/118954.jpg competition_data/train_25x25/trichodesmium_puff/118954.jpg"
       ]
      },
      {
       "output_type": "stream",
       "stream": "stdout",
       "text": [
        "\n",
        "convert -resize 25x25! competition_data/train/trichodesmium_puff/34943.jpg competition_data/train_25x25/trichodesmium_puff/34943.jpg"
       ]
      },
      {
       "output_type": "stream",
       "stream": "stdout",
       "text": [
        "\n",
        "convert -resize 25x25! competition_data/train/trichodesmium_puff/66801.jpg competition_data/train_25x25/trichodesmium_puff/66801.jpg"
       ]
      },
      {
       "output_type": "stream",
       "stream": "stdout",
       "text": [
        "\n",
        "convert -resize 25x25! competition_data/train/trichodesmium_puff/75634.jpg competition_data/train_25x25/trichodesmium_puff/75634.jpg"
       ]
      },
      {
       "output_type": "stream",
       "stream": "stdout",
       "text": [
        "\n",
        "convert -resize 25x25! competition_data/train/trichodesmium_puff/118696.jpg competition_data/train_25x25/trichodesmium_puff/118696.jpg"
       ]
      },
      {
       "output_type": "stream",
       "stream": "stdout",
       "text": [
        "\n",
        "convert -resize 25x25! competition_data/train/trichodesmium_puff/159221.jpg competition_data/train_25x25/trichodesmium_puff/159221.jpg"
       ]
      },
      {
       "output_type": "stream",
       "stream": "stdout",
       "text": [
        "\n",
        "convert -resize 25x25! competition_data/train/trichodesmium_puff/121278.jpg competition_data/train_25x25/trichodesmium_puff/121278.jpg"
       ]
      },
      {
       "output_type": "stream",
       "stream": "stdout",
       "text": [
        "\n",
        "convert -resize 25x25! competition_data/train/trichodesmium_puff/106999.jpg competition_data/train_25x25/trichodesmium_puff/106999.jpg"
       ]
      },
      {
       "output_type": "stream",
       "stream": "stdout",
       "text": [
        "\n",
        "convert -resize 25x25! competition_data/train/trichodesmium_puff/87699.jpg competition_data/train_25x25/trichodesmium_puff/87699.jpg"
       ]
      },
      {
       "output_type": "stream",
       "stream": "stdout",
       "text": [
        "\n",
        "convert -resize 25x25! competition_data/train/trichodesmium_puff/73186.jpg competition_data/train_25x25/trichodesmium_puff/73186.jpg"
       ]
      },
      {
       "output_type": "stream",
       "stream": "stdout",
       "text": [
        "\n",
        "convert -resize 25x25! competition_data/train/trichodesmium_puff/112138.jpg competition_data/train_25x25/trichodesmium_puff/112138.jpg\n",
        "convert -resize 25x25! competition_data/train/trichodesmium_puff/101471.jpg competition_data/train_25x25/trichodesmium_puff/101471.jpg"
       ]
      },
      {
       "output_type": "stream",
       "stream": "stdout",
       "text": [
        "\n",
        "convert -resize 25x25! competition_data/train/trichodesmium_puff/136945.jpg competition_data/train_25x25/trichodesmium_puff/136945.jpg\n",
        "convert -resize 25x25! competition_data/train/trichodesmium_puff/148774.jpg competition_data/train_25x25/trichodesmium_puff/148774.jpg"
       ]
      },
      {
       "output_type": "stream",
       "stream": "stdout",
       "text": [
        "\n",
        "convert -resize 25x25! competition_data/train/trichodesmium_puff/111004.jpg competition_data/train_25x25/trichodesmium_puff/111004.jpg\n",
        "convert -resize 25x25! competition_data/train/trichodesmium_puff/86786.jpg competition_data/train_25x25/trichodesmium_puff/86786.jpg"
       ]
      },
      {
       "output_type": "stream",
       "stream": "stdout",
       "text": [
        "\n",
        "convert -resize 25x25! competition_data/train/trichodesmium_puff/91227.jpg competition_data/train_25x25/trichodesmium_puff/91227.jpg"
       ]
      },
      {
       "output_type": "stream",
       "stream": "stdout",
       "text": [
        "\n",
        "convert -resize 25x25! competition_data/train/trichodesmium_puff/14907.jpg competition_data/train_25x25/trichodesmium_puff/14907.jpg\n",
        "convert -resize 25x25! competition_data/train/trichodesmium_puff/129928.jpg competition_data/train_25x25/trichodesmium_puff/129928.jpg"
       ]
      },
      {
       "output_type": "stream",
       "stream": "stdout",
       "text": [
        "\n",
        "convert -resize 25x25! competition_data/train/trichodesmium_puff/123225.jpg competition_data/train_25x25/trichodesmium_puff/123225.jpg"
       ]
      },
      {
       "output_type": "stream",
       "stream": "stdout",
       "text": [
        "\n",
        "convert -resize 25x25! competition_data/train/trichodesmium_puff/30393.jpg competition_data/train_25x25/trichodesmium_puff/30393.jpg"
       ]
      },
      {
       "output_type": "stream",
       "stream": "stdout",
       "text": [
        "\n",
        "convert -resize 25x25! competition_data/train/trichodesmium_puff/39318.jpg competition_data/train_25x25/trichodesmium_puff/39318.jpg"
       ]
      },
      {
       "output_type": "stream",
       "stream": "stdout",
       "text": [
        "\n",
        "convert -resize 25x25! competition_data/train/trichodesmium_puff/111650.jpg competition_data/train_25x25/trichodesmium_puff/111650.jpg"
       ]
      },
      {
       "output_type": "stream",
       "stream": "stdout",
       "text": [
        "\n",
        "convert -resize 25x25! competition_data/train/trichodesmium_puff/155225.jpg competition_data/train_25x25/trichodesmium_puff/155225.jpg"
       ]
      },
      {
       "output_type": "stream",
       "stream": "stdout",
       "text": [
        "\n",
        "convert -resize 25x25! competition_data/train/trichodesmium_puff/15296.jpg competition_data/train_25x25/trichodesmium_puff/15296.jpg"
       ]
      },
      {
       "output_type": "stream",
       "stream": "stdout",
       "text": [
        "\n",
        "convert -resize 25x25! competition_data/train/trichodesmium_puff/19450.jpg competition_data/train_25x25/trichodesmium_puff/19450.jpg"
       ]
      },
      {
       "output_type": "stream",
       "stream": "stdout",
       "text": [
        "\n",
        "convert -resize 25x25! competition_data/train/trichodesmium_puff/18927.jpg competition_data/train_25x25/trichodesmium_puff/18927.jpg"
       ]
      },
      {
       "output_type": "stream",
       "stream": "stdout",
       "text": [
        "\n",
        "convert -resize 25x25! competition_data/train/trichodesmium_puff/35373.jpg competition_data/train_25x25/trichodesmium_puff/35373.jpg"
       ]
      },
      {
       "output_type": "stream",
       "stream": "stdout",
       "text": [
        "\n",
        "convert -resize 25x25! competition_data/train/trichodesmium_puff/83061.jpg competition_data/train_25x25/trichodesmium_puff/83061.jpg"
       ]
      },
      {
       "output_type": "stream",
       "stream": "stdout",
       "text": [
        "\n",
        "convert -resize 25x25! competition_data/train/trichodesmium_puff/144069.jpg competition_data/train_25x25/trichodesmium_puff/144069.jpg"
       ]
      },
      {
       "output_type": "stream",
       "stream": "stdout",
       "text": [
        "\n",
        "convert -resize 25x25! competition_data/train/trichodesmium_puff/106729.jpg competition_data/train_25x25/trichodesmium_puff/106729.jpg"
       ]
      },
      {
       "output_type": "stream",
       "stream": "stdout",
       "text": [
        "\n",
        "convert -resize 25x25! competition_data/train/trichodesmium_puff/96060.jpg competition_data/train_25x25/trichodesmium_puff/96060.jpg"
       ]
      },
      {
       "output_type": "stream",
       "stream": "stdout",
       "text": [
        "\n",
        "convert -resize 25x25! competition_data/train/trichodesmium_puff/17980.jpg competition_data/train_25x25/trichodesmium_puff/17980.jpg"
       ]
      },
      {
       "output_type": "stream",
       "stream": "stdout",
       "text": [
        "\n",
        "convert -resize 25x25! competition_data/train/trichodesmium_puff/69725.jpg competition_data/train_25x25/trichodesmium_puff/69725.jpg"
       ]
      },
      {
       "output_type": "stream",
       "stream": "stdout",
       "text": [
        "\n",
        "convert -resize 25x25! competition_data/train/trichodesmium_puff/66773.jpg competition_data/train_25x25/trichodesmium_puff/66773.jpg"
       ]
      },
      {
       "output_type": "stream",
       "stream": "stdout",
       "text": [
        "\n",
        "convert -resize 25x25! competition_data/train/trichodesmium_puff/95196.jpg competition_data/train_25x25/trichodesmium_puff/95196.jpg"
       ]
      },
      {
       "output_type": "stream",
       "stream": "stdout",
       "text": [
        "\n",
        "convert -resize 25x25! competition_data/train/trichodesmium_puff/94978.jpg competition_data/train_25x25/trichodesmium_puff/94978.jpg"
       ]
      },
      {
       "output_type": "stream",
       "stream": "stdout",
       "text": [
        "\n",
        "convert -resize 25x25! competition_data/train/trichodesmium_puff/86045.jpg competition_data/train_25x25/trichodesmium_puff/86045.jpg"
       ]
      },
      {
       "output_type": "stream",
       "stream": "stdout",
       "text": [
        "\n",
        "convert -resize 25x25! competition_data/train/trichodesmium_puff/73771.jpg competition_data/train_25x25/trichodesmium_puff/73771.jpg"
       ]
      },
      {
       "output_type": "stream",
       "stream": "stdout",
       "text": [
        "\n",
        "convert -resize 25x25! competition_data/train/trichodesmium_puff/82078.jpg competition_data/train_25x25/trichodesmium_puff/82078.jpg"
       ]
      },
      {
       "output_type": "stream",
       "stream": "stdout",
       "text": [
        "\n",
        "convert -resize 25x25! competition_data/train/trichodesmium_puff/17518.jpg competition_data/train_25x25/trichodesmium_puff/17518.jpg"
       ]
      },
      {
       "output_type": "stream",
       "stream": "stdout",
       "text": [
        "\n",
        "convert -resize 25x25! competition_data/train/trichodesmium_puff/129660.jpg competition_data/train_25x25/trichodesmium_puff/129660.jpg"
       ]
      },
      {
       "output_type": "stream",
       "stream": "stdout",
       "text": [
        "\n",
        "convert -resize 25x25! competition_data/train/trichodesmium_puff/50507.jpg competition_data/train_25x25/trichodesmium_puff/50507.jpg"
       ]
      },
      {
       "output_type": "stream",
       "stream": "stdout",
       "text": [
        "\n",
        "convert -resize 25x25! competition_data/train/trichodesmium_puff/28658.jpg competition_data/train_25x25/trichodesmium_puff/28658.jpg"
       ]
      },
      {
       "output_type": "stream",
       "stream": "stdout",
       "text": [
        "\n",
        "convert -resize 25x25! competition_data/train/trichodesmium_puff/66738.jpg competition_data/train_25x25/trichodesmium_puff/66738.jpg"
       ]
      },
      {
       "output_type": "stream",
       "stream": "stdout",
       "text": [
        "\n",
        "convert -resize 25x25! competition_data/train/trichodesmium_puff/392.jpg competition_data/train_25x25/trichodesmium_puff/392.jpg"
       ]
      },
      {
       "output_type": "stream",
       "stream": "stdout",
       "text": [
        "\n",
        "convert -resize 25x25! competition_data/train/trichodesmium_puff/76101.jpg competition_data/train_25x25/trichodesmium_puff/76101.jpg\n",
        "convert -resize 25x25! competition_data/train/trichodesmium_puff/14924.jpg competition_data/train_25x25/trichodesmium_puff/14924.jpg"
       ]
      },
      {
       "output_type": "stream",
       "stream": "stdout",
       "text": [
        "\n",
        "convert -resize 25x25! competition_data/train/trichodesmium_puff/30518.jpg competition_data/train_25x25/trichodesmium_puff/30518.jpg\n",
        "convert -resize 25x25! competition_data/train/trichodesmium_puff/153929.jpg competition_data/train_25x25/trichodesmium_puff/153929.jpg"
       ]
      },
      {
       "output_type": "stream",
       "stream": "stdout",
       "text": [
        "\n",
        "convert -resize 25x25! competition_data/train/trichodesmium_puff/43770.jpg competition_data/train_25x25/trichodesmium_puff/43770.jpg"
       ]
      },
      {
       "output_type": "stream",
       "stream": "stdout",
       "text": [
        "\n",
        "convert -resize 25x25! competition_data/train/trichodesmium_puff/17385.jpg competition_data/train_25x25/trichodesmium_puff/17385.jpg\n",
        "convert -resize 25x25! competition_data/train/trichodesmium_puff/21194.jpg competition_data/train_25x25/trichodesmium_puff/21194.jpg"
       ]
      },
      {
       "output_type": "stream",
       "stream": "stdout",
       "text": [
        "\n",
        "convert -resize 25x25! competition_data/train/trichodesmium_puff/46435.jpg competition_data/train_25x25/trichodesmium_puff/46435.jpg\n",
        "convert -resize 25x25! competition_data/train/trichodesmium_puff/149538.jpg competition_data/train_25x25/trichodesmium_puff/149538.jpg"
       ]
      },
      {
       "output_type": "stream",
       "stream": "stdout",
       "text": [
        "\n",
        "convert -resize 25x25! competition_data/train/trichodesmium_puff/130302.jpg competition_data/train_25x25/trichodesmium_puff/130302.jpg"
       ]
      },
      {
       "output_type": "stream",
       "stream": "stdout",
       "text": [
        "\n",
        "convert -resize 25x25! competition_data/train/trichodesmium_puff/158861.jpg competition_data/train_25x25/trichodesmium_puff/158861.jpg\n",
        "convert -resize 25x25! competition_data/train/trichodesmium_puff/53777.jpg competition_data/train_25x25/trichodesmium_puff/53777.jpg"
       ]
      },
      {
       "output_type": "stream",
       "stream": "stdout",
       "text": [
        "\n",
        "convert -resize 25x25! competition_data/train/trichodesmium_puff/79291.jpg competition_data/train_25x25/trichodesmium_puff/79291.jpg\n",
        "convert -resize 25x25! competition_data/train/trichodesmium_puff/156280.jpg competition_data/train_25x25/trichodesmium_puff/156280.jpg"
       ]
      },
      {
       "output_type": "stream",
       "stream": "stdout",
       "text": [
        "\n",
        "convert -resize 25x25! competition_data/train/trichodesmium_puff/124657.jpg competition_data/train_25x25/trichodesmium_puff/124657.jpg"
       ]
      },
      {
       "output_type": "stream",
       "stream": "stdout",
       "text": [
        "\n",
        "convert -resize 25x25! competition_data/train/trichodesmium_puff/147487.jpg competition_data/train_25x25/trichodesmium_puff/147487.jpg"
       ]
      },
      {
       "output_type": "stream",
       "stream": "stdout",
       "text": [
        "\n",
        "convert -resize 25x25! competition_data/train/trichodesmium_puff/48310.jpg competition_data/train_25x25/trichodesmium_puff/48310.jpg"
       ]
      },
      {
       "output_type": "stream",
       "stream": "stdout",
       "text": [
        "\n",
        "convert -resize 25x25! competition_data/train/trichodesmium_puff/151752.jpg competition_data/train_25x25/trichodesmium_puff/151752.jpg"
       ]
      },
      {
       "output_type": "stream",
       "stream": "stdout",
       "text": [
        "\n",
        "convert -resize 25x25! competition_data/train/trichodesmium_puff/123742.jpg competition_data/train_25x25/trichodesmium_puff/123742.jpg"
       ]
      },
      {
       "output_type": "stream",
       "stream": "stdout",
       "text": [
        "\n",
        "convert -resize 25x25! competition_data/train/trichodesmium_puff/6624.jpg competition_data/train_25x25/trichodesmium_puff/6624.jpg"
       ]
      },
      {
       "output_type": "stream",
       "stream": "stdout",
       "text": [
        "\n",
        "convert -resize 25x25! competition_data/train/trichodesmium_puff/25848.jpg competition_data/train_25x25/trichodesmium_puff/25848.jpg"
       ]
      },
      {
       "output_type": "stream",
       "stream": "stdout",
       "text": [
        "\n",
        "convert -resize 25x25! competition_data/train/trichodesmium_puff/22568.jpg competition_data/train_25x25/trichodesmium_puff/22568.jpg"
       ]
      },
      {
       "output_type": "stream",
       "stream": "stdout",
       "text": [
        "\n",
        "convert -resize 25x25! competition_data/train/trichodesmium_puff/79093.jpg competition_data/train_25x25/trichodesmium_puff/79093.jpg"
       ]
      },
      {
       "output_type": "stream",
       "stream": "stdout",
       "text": [
        "\n",
        "convert -resize 25x25! competition_data/train/trichodesmium_puff/79373.jpg competition_data/train_25x25/trichodesmium_puff/79373.jpg"
       ]
      },
      {
       "output_type": "stream",
       "stream": "stdout",
       "text": [
        "\n",
        "convert -resize 25x25! competition_data/train/trichodesmium_puff/13500.jpg competition_data/train_25x25/trichodesmium_puff/13500.jpg"
       ]
      },
      {
       "output_type": "stream",
       "stream": "stdout",
       "text": [
        "\n",
        "convert -resize 25x25! competition_data/train/trichodesmium_puff/10492.jpg competition_data/train_25x25/trichodesmium_puff/10492.jpg"
       ]
      },
      {
       "output_type": "stream",
       "stream": "stdout",
       "text": [
        "\n",
        "convert -resize 25x25! competition_data/train/trichodesmium_puff/50602.jpg competition_data/train_25x25/trichodesmium_puff/50602.jpg"
       ]
      },
      {
       "output_type": "stream",
       "stream": "stdout",
       "text": [
        "\n",
        "convert -resize 25x25! competition_data/train/trichodesmium_puff/146961.jpg competition_data/train_25x25/trichodesmium_puff/146961.jpg"
       ]
      },
      {
       "output_type": "stream",
       "stream": "stdout",
       "text": [
        "\n",
        "convert -resize 25x25! competition_data/train/trichodesmium_puff/87761.jpg competition_data/train_25x25/trichodesmium_puff/87761.jpg"
       ]
      },
      {
       "output_type": "stream",
       "stream": "stdout",
       "text": [
        "\n",
        "convert -resize 25x25! competition_data/train/trichodesmium_puff/83121.jpg competition_data/train_25x25/trichodesmium_puff/83121.jpg"
       ]
      },
      {
       "output_type": "stream",
       "stream": "stdout",
       "text": [
        "\n",
        "convert -resize 25x25! competition_data/train/trichodesmium_puff/136684.jpg competition_data/train_25x25/trichodesmium_puff/136684.jpg"
       ]
      },
      {
       "output_type": "stream",
       "stream": "stdout",
       "text": [
        "\n",
        "convert -resize 25x25! competition_data/train/trichodesmium_puff/1127.jpg competition_data/train_25x25/trichodesmium_puff/1127.jpg"
       ]
      },
      {
       "output_type": "stream",
       "stream": "stdout",
       "text": [
        "\n",
        "convert -resize 25x25! competition_data/train/trichodesmium_puff/100749.jpg competition_data/train_25x25/trichodesmium_puff/100749.jpg"
       ]
      },
      {
       "output_type": "stream",
       "stream": "stdout",
       "text": [
        "\n",
        "convert -resize 25x25! competition_data/train/trichodesmium_puff/96355.jpg competition_data/train_25x25/trichodesmium_puff/96355.jpg"
       ]
      },
      {
       "output_type": "stream",
       "stream": "stdout",
       "text": [
        "\n",
        "convert -resize 25x25! competition_data/train/trichodesmium_puff/58006.jpg competition_data/train_25x25/trichodesmium_puff/58006.jpg"
       ]
      },
      {
       "output_type": "stream",
       "stream": "stdout",
       "text": [
        "\n",
        "convert -resize 25x25! competition_data/train/trichodesmium_puff/34272.jpg competition_data/train_25x25/trichodesmium_puff/34272.jpg"
       ]
      },
      {
       "output_type": "stream",
       "stream": "stdout",
       "text": [
        "\n",
        "convert -resize 25x25! competition_data/train/trichodesmium_puff/109413.jpg competition_data/train_25x25/trichodesmium_puff/109413.jpg\n",
        "convert -resize 25x25! competition_data/train/trichodesmium_puff/20737.jpg competition_data/train_25x25/trichodesmium_puff/20737.jpg"
       ]
      },
      {
       "output_type": "stream",
       "stream": "stdout",
       "text": [
        "\n",
        "convert -resize 25x25! competition_data/train/trichodesmium_puff/133747.jpg competition_data/train_25x25/trichodesmium_puff/133747.jpg\n",
        "convert -resize 25x25! competition_data/train/trichodesmium_puff/40748.jpg competition_data/train_25x25/trichodesmium_puff/40748.jpg"
       ]
      },
      {
       "output_type": "stream",
       "stream": "stdout",
       "text": [
        "\n",
        "convert -resize 25x25! competition_data/train/trichodesmium_puff/58879.jpg competition_data/train_25x25/trichodesmium_puff/58879.jpg\n",
        "convert -resize 25x25! competition_data/train/trichodesmium_puff/65276.jpg competition_data/train_25x25/trichodesmium_puff/65276.jpg"
       ]
      },
      {
       "output_type": "stream",
       "stream": "stdout",
       "text": [
        "\n",
        "convert -resize 25x25! competition_data/train/trichodesmium_puff/14028.jpg competition_data/train_25x25/trichodesmium_puff/14028.jpg\n",
        "convert -resize 25x25! competition_data/train/trichodesmium_puff/126212.jpg competition_data/train_25x25/trichodesmium_puff/126212.jpg"
       ]
      },
      {
       "output_type": "stream",
       "stream": "stdout",
       "text": [
        "\n",
        "convert -resize 25x25! competition_data/train/trichodesmium_puff/131027.jpg competition_data/train_25x25/trichodesmium_puff/131027.jpg"
       ]
      },
      {
       "output_type": "stream",
       "stream": "stdout",
       "text": [
        "\n",
        "convert -resize 25x25! competition_data/train/trichodesmium_puff/4001.jpg competition_data/train_25x25/trichodesmium_puff/4001.jpg"
       ]
      },
      {
       "output_type": "stream",
       "stream": "stdout",
       "text": [
        "\n",
        "convert -resize 25x25! competition_data/train/trichodesmium_puff/99788.jpg competition_data/train_25x25/trichodesmium_puff/99788.jpg\n",
        "convert -resize 25x25! competition_data/train/trichodesmium_puff/9491.jpg competition_data/train_25x25/trichodesmium_puff/9491.jpg"
       ]
      },
      {
       "output_type": "stream",
       "stream": "stdout",
       "text": [
        "\n",
        "convert -resize 25x25! competition_data/train/trichodesmium_puff/120811.jpg competition_data/train_25x25/trichodesmium_puff/120811.jpg\n",
        "convert -resize 25x25! competition_data/train/trichodesmium_puff/155068.jpg competition_data/train_25x25/trichodesmium_puff/155068.jpg"
       ]
      },
      {
       "output_type": "stream",
       "stream": "stdout",
       "text": [
        "\n",
        "convert -resize 25x25! competition_data/train/trichodesmium_puff/8025.jpg competition_data/train_25x25/trichodesmium_puff/8025.jpg"
       ]
      },
      {
       "output_type": "stream",
       "stream": "stdout",
       "text": [
        "\n",
        "convert -resize 25x25! competition_data/train/trichodesmium_puff/16645.jpg competition_data/train_25x25/trichodesmium_puff/16645.jpg"
       ]
      },
      {
       "output_type": "stream",
       "stream": "stdout",
       "text": [
        "\n",
        "convert -resize 25x25! competition_data/train/trichodesmium_puff/103667.jpg competition_data/train_25x25/trichodesmium_puff/103667.jpg"
       ]
      },
      {
       "output_type": "stream",
       "stream": "stdout",
       "text": [
        "\n",
        "convert -resize 25x25! competition_data/train/trichodesmium_puff/72848.jpg competition_data/train_25x25/trichodesmium_puff/72848.jpg"
       ]
      },
      {
       "output_type": "stream",
       "stream": "stdout",
       "text": [
        "\n",
        "convert -resize 25x25! competition_data/train/trichodesmium_puff/67086.jpg competition_data/train_25x25/trichodesmium_puff/67086.jpg"
       ]
      },
      {
       "output_type": "stream",
       "stream": "stdout",
       "text": [
        "\n",
        "convert -resize 25x25! competition_data/train/trichodesmium_puff/94903.jpg competition_data/train_25x25/trichodesmium_puff/94903.jpg"
       ]
      },
      {
       "output_type": "stream",
       "stream": "stdout",
       "text": [
        "\n",
        "convert -resize 25x25! competition_data/train/trichodesmium_puff/112679.jpg competition_data/train_25x25/trichodesmium_puff/112679.jpg"
       ]
      },
      {
       "output_type": "stream",
       "stream": "stdout",
       "text": [
        "\n",
        "convert -resize 25x25! competition_data/train/trichodesmium_puff/68550.jpg competition_data/train_25x25/trichodesmium_puff/68550.jpg"
       ]
      },
      {
       "output_type": "stream",
       "stream": "stdout",
       "text": [
        "\n",
        "convert -resize 25x25! competition_data/train/trichodesmium_puff/130937.jpg competition_data/train_25x25/trichodesmium_puff/130937.jpg"
       ]
      },
      {
       "output_type": "stream",
       "stream": "stdout",
       "text": [
        "\n",
        "convert -resize 25x25! competition_data/train/trichodesmium_puff/47.jpg competition_data/train_25x25/trichodesmium_puff/47.jpg"
       ]
      },
      {
       "output_type": "stream",
       "stream": "stdout",
       "text": [
        "\n",
        "convert -resize 25x25! competition_data/train/trichodesmium_puff/103025.jpg competition_data/train_25x25/trichodesmium_puff/103025.jpg"
       ]
      },
      {
       "output_type": "stream",
       "stream": "stdout",
       "text": [
        "\n",
        "convert -resize 25x25! competition_data/train/trichodesmium_puff/5381.jpg competition_data/train_25x25/trichodesmium_puff/5381.jpg"
       ]
      },
      {
       "output_type": "stream",
       "stream": "stdout",
       "text": [
        "\n",
        "convert -resize 25x25! competition_data/train/trichodesmium_puff/36223.jpg competition_data/train_25x25/trichodesmium_puff/36223.jpg"
       ]
      },
      {
       "output_type": "stream",
       "stream": "stdout",
       "text": [
        "\n",
        "convert -resize 25x25! competition_data/train/trichodesmium_puff/1771.jpg competition_data/train_25x25/trichodesmium_puff/1771.jpg"
       ]
      },
      {
       "output_type": "stream",
       "stream": "stdout",
       "text": [
        "\n",
        "convert -resize 25x25! competition_data/train/trichodesmium_puff/85052.jpg competition_data/train_25x25/trichodesmium_puff/85052.jpg"
       ]
      },
      {
       "output_type": "stream",
       "stream": "stdout",
       "text": [
        "\n",
        "convert -resize 25x25! competition_data/train/trichodesmium_puff/120018.jpg competition_data/train_25x25/trichodesmium_puff/120018.jpg"
       ]
      },
      {
       "output_type": "stream",
       "stream": "stdout",
       "text": [
        "\n",
        "convert -resize 25x25! competition_data/train/trichodesmium_puff/21673.jpg competition_data/train_25x25/trichodesmium_puff/21673.jpg"
       ]
      },
      {
       "output_type": "stream",
       "stream": "stdout",
       "text": [
        "\n",
        "convert -resize 25x25! competition_data/train/trichodesmium_puff/62237.jpg competition_data/train_25x25/trichodesmium_puff/62237.jpg"
       ]
      },
      {
       "output_type": "stream",
       "stream": "stdout",
       "text": [
        "\n",
        "convert -resize 25x25! competition_data/train/trichodesmium_puff/36938.jpg competition_data/train_25x25/trichodesmium_puff/36938.jpg"
       ]
      },
      {
       "output_type": "stream",
       "stream": "stdout",
       "text": [
        "\n",
        "convert -resize 25x25! competition_data/train/trichodesmium_puff/75375.jpg competition_data/train_25x25/trichodesmium_puff/75375.jpg"
       ]
      },
      {
       "output_type": "stream",
       "stream": "stdout",
       "text": [
        "\n",
        "convert -resize 25x25! competition_data/train/trichodesmium_puff/76449.jpg competition_data/train_25x25/trichodesmium_puff/76449.jpg"
       ]
      },
      {
       "output_type": "stream",
       "stream": "stdout",
       "text": [
        "\n",
        "convert -resize 25x25! competition_data/train/trichodesmium_puff/46770.jpg competition_data/train_25x25/trichodesmium_puff/46770.jpg"
       ]
      },
      {
       "output_type": "stream",
       "stream": "stdout",
       "text": [
        "\n",
        "convert -resize 25x25! competition_data/train/trichodesmium_puff/74840.jpg competition_data/train_25x25/trichodesmium_puff/74840.jpg"
       ]
      },
      {
       "output_type": "stream",
       "stream": "stdout",
       "text": [
        "\n",
        "convert -resize 25x25! competition_data/train/trichodesmium_puff/102656.jpg competition_data/train_25x25/trichodesmium_puff/102656.jpg\n",
        "convert -resize 25x25! competition_data/train/trichodesmium_puff/64760.jpg competition_data/train_25x25/trichodesmium_puff/64760.jpg"
       ]
      },
      {
       "output_type": "stream",
       "stream": "stdout",
       "text": [
        "\n",
        "convert -resize 25x25! competition_data/train/trichodesmium_puff/33829.jpg competition_data/train_25x25/trichodesmium_puff/33829.jpg\n",
        "convert -resize 25x25! competition_data/train/trichodesmium_puff/128831.jpg competition_data/train_25x25/trichodesmium_puff/128831.jpg"
       ]
      },
      {
       "output_type": "stream",
       "stream": "stdout",
       "text": [
        "\n",
        "convert -resize 25x25! competition_data/train/trichodesmium_puff/30855.jpg competition_data/train_25x25/trichodesmium_puff/30855.jpg\n",
        "convert -resize 25x25! competition_data/train/trichodesmium_puff/148870.jpg competition_data/train_25x25/trichodesmium_puff/148870.jpg"
       ]
      },
      {
       "output_type": "stream",
       "stream": "stdout",
       "text": [
        "\n",
        "convert -resize 25x25! competition_data/train/trichodesmium_puff/124616.jpg competition_data/train_25x25/trichodesmium_puff/124616.jpg"
       ]
      },
      {
       "output_type": "stream",
       "stream": "stdout",
       "text": [
        "\n",
        "convert -resize 25x25! competition_data/train/trichodesmium_puff/23734.jpg competition_data/train_25x25/trichodesmium_puff/23734.jpg"
       ]
      },
      {
       "output_type": "stream",
       "stream": "stdout",
       "text": [
        "\n",
        "convert -resize 25x25! competition_data/train/trichodesmium_puff/79761.jpg competition_data/train_25x25/trichodesmium_puff/79761.jpg\n",
        "convert -resize 25x25! competition_data/train/trichodesmium_puff/94669.jpg competition_data/train_25x25/trichodesmium_puff/94669.jpg"
       ]
      },
      {
       "output_type": "stream",
       "stream": "stdout",
       "text": [
        "\n",
        "convert -resize 25x25! competition_data/train/trichodesmium_puff/22509.jpg competition_data/train_25x25/trichodesmium_puff/22509.jpg\n",
        "convert -resize 25x25! competition_data/train/trichodesmium_puff/22220.jpg competition_data/train_25x25/trichodesmium_puff/22220.jpg"
       ]
      },
      {
       "output_type": "stream",
       "stream": "stdout",
       "text": [
        "\n",
        "convert -resize 25x25! competition_data/train/trichodesmium_puff/12305.jpg competition_data/train_25x25/trichodesmium_puff/12305.jpg"
       ]
      },
      {
       "output_type": "stream",
       "stream": "stdout",
       "text": [
        "\n",
        "convert -resize 25x25! competition_data/train/trichodesmium_puff/40118.jpg competition_data/train_25x25/trichodesmium_puff/40118.jpg"
       ]
      },
      {
       "output_type": "stream",
       "stream": "stdout",
       "text": [
        "\n",
        "convert -resize 25x25! competition_data/train/trichodesmium_puff/78822.jpg competition_data/train_25x25/trichodesmium_puff/78822.jpg"
       ]
      },
      {
       "output_type": "stream",
       "stream": "stdout",
       "text": [
        "\n",
        "convert -resize 25x25! competition_data/train/trichodesmium_puff/10488.jpg competition_data/train_25x25/trichodesmium_puff/10488.jpg"
       ]
      },
      {
       "output_type": "stream",
       "stream": "stdout",
       "text": [
        "\n",
        "convert -resize 25x25! competition_data/train/trichodesmium_puff/68560.jpg competition_data/train_25x25/trichodesmium_puff/68560.jpg"
       ]
      },
      {
       "output_type": "stream",
       "stream": "stdout",
       "text": [
        "\n",
        "convert -resize 25x25! competition_data/train/trichodesmium_puff/17786.jpg competition_data/train_25x25/trichodesmium_puff/17786.jpg"
       ]
      },
      {
       "output_type": "stream",
       "stream": "stdout",
       "text": [
        "\n",
        "convert -resize 25x25! competition_data/train/trichodesmium_puff/152459.jpg competition_data/train_25x25/trichodesmium_puff/152459.jpg"
       ]
      },
      {
       "output_type": "stream",
       "stream": "stdout",
       "text": [
        "\n",
        "convert -resize 25x25! competition_data/train/trichodesmium_puff/1653.jpg competition_data/train_25x25/trichodesmium_puff/1653.jpg"
       ]
      },
      {
       "output_type": "stream",
       "stream": "stdout",
       "text": [
        "\n",
        "convert -resize 25x25! competition_data/train/trichodesmium_puff/2347.jpg competition_data/train_25x25/trichodesmium_puff/2347.jpg"
       ]
      },
      {
       "output_type": "stream",
       "stream": "stdout",
       "text": [
        "\n",
        "convert -resize 25x25! competition_data/train/trichodesmium_puff/108911.jpg competition_data/train_25x25/trichodesmium_puff/108911.jpg"
       ]
      },
      {
       "output_type": "stream",
       "stream": "stdout",
       "text": [
        "\n",
        "convert -resize 25x25! competition_data/train/trichodesmium_puff/31378.jpg competition_data/train_25x25/trichodesmium_puff/31378.jpg"
       ]
      },
      {
       "output_type": "stream",
       "stream": "stdout",
       "text": [
        "\n",
        "convert -resize 25x25! competition_data/train/trichodesmium_puff/127078.jpg competition_data/train_25x25/trichodesmium_puff/127078.jpg"
       ]
      },
      {
       "output_type": "stream",
       "stream": "stdout",
       "text": [
        "\n",
        "convert -resize 25x25! competition_data/train/trichodesmium_puff/95296.jpg competition_data/train_25x25/trichodesmium_puff/95296.jpg"
       ]
      },
      {
       "output_type": "stream",
       "stream": "stdout",
       "text": [
        "\n",
        "convert -resize 25x25! competition_data/train/trichodesmium_puff/138076.jpg competition_data/train_25x25/trichodesmium_puff/138076.jpg"
       ]
      },
      {
       "output_type": "stream",
       "stream": "stdout",
       "text": [
        "\n",
        "convert -resize 25x25! competition_data/train/trichodesmium_puff/44815.jpg competition_data/train_25x25/trichodesmium_puff/44815.jpg"
       ]
      },
      {
       "output_type": "stream",
       "stream": "stdout",
       "text": [
        "\n",
        "convert -resize 25x25! competition_data/train/trichodesmium_puff/109319.jpg competition_data/train_25x25/trichodesmium_puff/109319.jpg"
       ]
      },
      {
       "output_type": "stream",
       "stream": "stdout",
       "text": [
        "\n",
        "convert -resize 25x25! competition_data/train/trichodesmium_puff/46013.jpg competition_data/train_25x25/trichodesmium_puff/46013.jpg"
       ]
      },
      {
       "output_type": "stream",
       "stream": "stdout",
       "text": [
        "\n",
        "convert -resize 25x25! competition_data/train/trichodesmium_puff/74266.jpg competition_data/train_25x25/trichodesmium_puff/74266.jpg"
       ]
      },
      {
       "output_type": "stream",
       "stream": "stdout",
       "text": [
        "\n",
        "convert -resize 25x25! competition_data/train/trichodesmium_puff/60311.jpg competition_data/train_25x25/trichodesmium_puff/60311.jpg"
       ]
      },
      {
       "output_type": "stream",
       "stream": "stdout",
       "text": [
        "\n",
        "convert -resize 25x25! competition_data/train/trichodesmium_puff/53684.jpg competition_data/train_25x25/trichodesmium_puff/53684.jpg"
       ]
      },
      {
       "output_type": "stream",
       "stream": "stdout",
       "text": [
        "\n",
        "convert -resize 25x25! competition_data/train/trichodesmium_puff/28061.jpg competition_data/train_25x25/trichodesmium_puff/28061.jpg"
       ]
      },
      {
       "output_type": "stream",
       "stream": "stdout",
       "text": [
        "\n",
        "convert -resize 25x25! competition_data/train/trichodesmium_puff/122248.jpg competition_data/train_25x25/trichodesmium_puff/122248.jpg"
       ]
      },
      {
       "output_type": "stream",
       "stream": "stdout",
       "text": [
        "\n",
        "convert -resize 25x25! competition_data/train/trichodesmium_puff/145195.jpg competition_data/train_25x25/trichodesmium_puff/145195.jpg"
       ]
      },
      {
       "output_type": "stream",
       "stream": "stdout",
       "text": [
        "\n",
        "convert -resize 25x25! competition_data/train/trichodesmium_puff/69899.jpg competition_data/train_25x25/trichodesmium_puff/69899.jpg"
       ]
      },
      {
       "output_type": "stream",
       "stream": "stdout",
       "text": [
        "\n",
        "convert -resize 25x25! competition_data/train/trichodesmium_puff/108492.jpg competition_data/train_25x25/trichodesmium_puff/108492.jpg\n",
        "convert -resize 25x25! competition_data/train/trichodesmium_puff/130181.jpg competition_data/train_25x25/trichodesmium_puff/130181.jpg"
       ]
      },
      {
       "output_type": "stream",
       "stream": "stdout",
       "text": [
        "\n",
        "convert -resize 25x25! competition_data/train/trichodesmium_puff/92509.jpg competition_data/train_25x25/trichodesmium_puff/92509.jpg\n",
        "convert -resize 25x25! competition_data/train/trichodesmium_puff/103809.jpg competition_data/train_25x25/trichodesmium_puff/103809.jpg"
       ]
      },
      {
       "output_type": "stream",
       "stream": "stdout",
       "text": [
        "\n",
        "convert -resize 25x25! competition_data/train/trichodesmium_puff/85558.jpg competition_data/train_25x25/trichodesmium_puff/85558.jpg\n",
        "convert -resize 25x25! competition_data/train/trichodesmium_puff/19888.jpg competition_data/train_25x25/trichodesmium_puff/19888.jpg"
       ]
      },
      {
       "output_type": "stream",
       "stream": "stdout",
       "text": [
        "\n",
        "convert -resize 25x25! competition_data/train/trichodesmium_puff/79147.jpg competition_data/train_25x25/trichodesmium_puff/79147.jpg\n",
        "convert -resize 25x25! competition_data/train/trichodesmium_puff/121165.jpg competition_data/train_25x25/trichodesmium_puff/121165.jpg"
       ]
      },
      {
       "output_type": "stream",
       "stream": "stdout",
       "text": [
        "\n",
        "convert -resize 25x25! competition_data/train/trichodesmium_puff/22786.jpg competition_data/train_25x25/trichodesmium_puff/22786.jpg\n",
        "convert -resize 25x25! competition_data/train/trichodesmium_puff/138688.jpg competition_data/train_25x25/trichodesmium_puff/138688.jpg"
       ]
      },
      {
       "output_type": "stream",
       "stream": "stdout",
       "text": [
        "\n",
        "convert -resize 25x25! competition_data/train/trichodesmium_puff/60976.jpg competition_data/train_25x25/trichodesmium_puff/60976.jpg\n",
        "convert -resize 25x25! competition_data/train/trichodesmium_puff/18159.jpg competition_data/train_25x25/trichodesmium_puff/18159.jpg"
       ]
      },
      {
       "output_type": "stream",
       "stream": "stdout",
       "text": [
        "\n",
        "convert -resize 25x25! competition_data/train/trichodesmium_puff/47605.jpg competition_data/train_25x25/trichodesmium_puff/47605.jpg\n",
        "convert -resize 25x25! competition_data/train/trichodesmium_puff/49402.jpg competition_data/train_25x25/trichodesmium_puff/49402.jpg"
       ]
      },
      {
       "output_type": "stream",
       "stream": "stdout",
       "text": [
        "\n",
        "convert -resize 25x25! competition_data/train/trichodesmium_puff/45712.jpg competition_data/train_25x25/trichodesmium_puff/45712.jpg"
       ]
      },
      {
       "output_type": "stream",
       "stream": "stdout",
       "text": [
        "\n",
        "convert -resize 25x25! competition_data/train/trichodesmium_puff/31409.jpg competition_data/train_25x25/trichodesmium_puff/31409.jpg"
       ]
      },
      {
       "output_type": "stream",
       "stream": "stdout",
       "text": [
        "\n",
        "convert -resize 25x25! competition_data/train/trichodesmium_puff/96366.jpg competition_data/train_25x25/trichodesmium_puff/96366.jpg"
       ]
      },
      {
       "output_type": "stream",
       "stream": "stdout",
       "text": [
        "\n",
        "convert -resize 25x25! competition_data/train/trichodesmium_puff/41593.jpg competition_data/train_25x25/trichodesmium_puff/41593.jpg"
       ]
      },
      {
       "output_type": "stream",
       "stream": "stdout",
       "text": [
        "\n",
        "convert -resize 25x25! competition_data/train/trichodesmium_puff/83921.jpg competition_data/train_25x25/trichodesmium_puff/83921.jpg"
       ]
      },
      {
       "output_type": "stream",
       "stream": "stdout",
       "text": [
        "\n",
        "convert -resize 25x25! competition_data/train/trichodesmium_puff/74423.jpg competition_data/train_25x25/trichodesmium_puff/74423.jpg"
       ]
      },
      {
       "output_type": "stream",
       "stream": "stdout",
       "text": [
        "\n",
        "convert -resize 25x25! competition_data/train/trichodesmium_puff/62980.jpg competition_data/train_25x25/trichodesmium_puff/62980.jpg"
       ]
      },
      {
       "output_type": "stream",
       "stream": "stdout",
       "text": [
        "\n",
        "convert -resize 25x25! competition_data/train/trichodesmium_puff/131777.jpg competition_data/train_25x25/trichodesmium_puff/131777.jpg"
       ]
      },
      {
       "output_type": "stream",
       "stream": "stdout",
       "text": [
        "\n",
        "convert -resize 25x25! competition_data/train/trichodesmium_puff/48603.jpg competition_data/train_25x25/trichodesmium_puff/48603.jpg"
       ]
      },
      {
       "output_type": "stream",
       "stream": "stdout",
       "text": [
        "\n",
        "convert -resize 25x25! competition_data/train/trichodesmium_puff/100796.jpg competition_data/train_25x25/trichodesmium_puff/100796.jpg"
       ]
      },
      {
       "output_type": "stream",
       "stream": "stdout",
       "text": [
        "\n",
        "convert -resize 25x25! competition_data/train/trichodesmium_puff/126071.jpg competition_data/train_25x25/trichodesmium_puff/126071.jpg"
       ]
      },
      {
       "output_type": "stream",
       "stream": "stdout",
       "text": [
        "\n",
        "convert -resize 25x25! competition_data/train/trichodesmium_puff/28662.jpg competition_data/train_25x25/trichodesmium_puff/28662.jpg"
       ]
      },
      {
       "output_type": "stream",
       "stream": "stdout",
       "text": [
        "\n",
        "convert -resize 25x25! competition_data/train/trichodesmium_puff/97235.jpg competition_data/train_25x25/trichodesmium_puff/97235.jpg"
       ]
      },
      {
       "output_type": "stream",
       "stream": "stdout",
       "text": [
        "\n",
        "convert -resize 25x25! competition_data/train/trichodesmium_puff/142347.jpg competition_data/train_25x25/trichodesmium_puff/142347.jpg"
       ]
      },
      {
       "output_type": "stream",
       "stream": "stdout",
       "text": [
        "\n",
        "convert -resize 25x25! competition_data/train/trichodesmium_puff/78321.jpg competition_data/train_25x25/trichodesmium_puff/78321.jpg"
       ]
      },
      {
       "output_type": "stream",
       "stream": "stdout",
       "text": [
        "\n",
        "convert -resize 25x25! competition_data/train/trichodesmium_puff/99214.jpg competition_data/train_25x25/trichodesmium_puff/99214.jpg"
       ]
      },
      {
       "output_type": "stream",
       "stream": "stdout",
       "text": [
        "\n",
        "convert -resize 25x25! competition_data/train/trichodesmium_puff/11460.jpg competition_data/train_25x25/trichodesmium_puff/11460.jpg"
       ]
      },
      {
       "output_type": "stream",
       "stream": "stdout",
       "text": [
        "\n",
        "convert -resize 25x25! competition_data/train/trichodesmium_puff/20219.jpg competition_data/train_25x25/trichodesmium_puff/20219.jpg"
       ]
      },
      {
       "output_type": "stream",
       "stream": "stdout",
       "text": [
        "\n",
        "convert -resize 25x25! competition_data/train/trichodesmium_puff/152878.jpg competition_data/train_25x25/trichodesmium_puff/152878.jpg"
       ]
      },
      {
       "output_type": "stream",
       "stream": "stdout",
       "text": [
        "\n",
        "convert -resize 25x25! competition_data/train/trichodesmium_puff/80392.jpg competition_data/train_25x25/trichodesmium_puff/80392.jpg"
       ]
      },
      {
       "output_type": "stream",
       "stream": "stdout",
       "text": [
        "\n",
        "convert -resize 25x25! competition_data/train/trichodesmium_puff/123.jpg competition_data/train_25x25/trichodesmium_puff/123.jpg"
       ]
      },
      {
       "output_type": "stream",
       "stream": "stdout",
       "text": [
        "\n",
        "convert -resize 25x25! competition_data/train/trichodesmium_puff/124421.jpg competition_data/train_25x25/trichodesmium_puff/124421.jpg"
       ]
      },
      {
       "output_type": "stream",
       "stream": "stdout",
       "text": [
        "\n",
        "convert -resize 25x25! competition_data/train/trichodesmium_puff/136758.jpg competition_data/train_25x25/trichodesmium_puff/136758.jpg"
       ]
      },
      {
       "output_type": "stream",
       "stream": "stdout",
       "text": [
        "\n",
        "convert -resize 25x25! competition_data/train/trichodesmium_puff/139577.jpg competition_data/train_25x25/trichodesmium_puff/139577.jpg\n",
        "convert -resize 25x25! competition_data/train/trichodesmium_puff/68363.jpg competition_data/train_25x25/trichodesmium_puff/68363.jpg"
       ]
      },
      {
       "output_type": "stream",
       "stream": "stdout",
       "text": [
        "\n",
        "convert -resize 25x25! competition_data/train/trichodesmium_puff/123025.jpg competition_data/train_25x25/trichodesmium_puff/123025.jpg\n",
        "convert -resize 25x25! competition_data/train/trichodesmium_puff/49766.jpg competition_data/train_25x25/trichodesmium_puff/49766.jpg"
       ]
      },
      {
       "output_type": "stream",
       "stream": "stdout",
       "text": [
        "\n",
        "convert -resize 25x25! competition_data/train/trichodesmium_puff/66966.jpg competition_data/train_25x25/trichodesmium_puff/66966.jpg"
       ]
      },
      {
       "output_type": "stream",
       "stream": "stdout",
       "text": [
        "\n",
        "convert -resize 25x25! competition_data/train/trichodesmium_puff/160303.jpg competition_data/train_25x25/trichodesmium_puff/160303.jpg\n",
        "convert -resize 25x25! competition_data/train/trichodesmium_puff/45097.jpg competition_data/train_25x25/trichodesmium_puff/45097.jpg"
       ]
      },
      {
       "output_type": "stream",
       "stream": "stdout",
       "text": [
        "\n",
        "convert -resize 25x25! competition_data/train/trichodesmium_puff/86776.jpg competition_data/train_25x25/trichodesmium_puff/86776.jpg\n",
        "convert -resize 25x25! competition_data/train/trichodesmium_puff/159678.jpg competition_data/train_25x25/trichodesmium_puff/159678.jpg"
       ]
      },
      {
       "output_type": "stream",
       "stream": "stdout",
       "text": [
        "\n",
        "convert -resize 25x25! competition_data/train/trichodesmium_puff/35784.jpg competition_data/train_25x25/trichodesmium_puff/35784.jpg\n",
        "convert -resize 25x25! competition_data/train/trichodesmium_puff/26667.jpg competition_data/train_25x25/trichodesmium_puff/26667.jpg"
       ]
      },
      {
       "output_type": "stream",
       "stream": "stdout",
       "text": [
        "\n",
        "convert -resize 25x25! competition_data/train/trichodesmium_puff/84636.jpg competition_data/train_25x25/trichodesmium_puff/84636.jpg"
       ]
      },
      {
       "output_type": "stream",
       "stream": "stdout",
       "text": [
        "\n",
        "convert -resize 25x25! competition_data/train/trichodesmium_puff/108531.jpg competition_data/train_25x25/trichodesmium_puff/108531.jpg"
       ]
      },
      {
       "output_type": "stream",
       "stream": "stdout",
       "text": [
        "\n",
        "convert -resize 25x25! competition_data/train/trichodesmium_puff/159733.jpg competition_data/train_25x25/trichodesmium_puff/159733.jpg"
       ]
      },
      {
       "output_type": "stream",
       "stream": "stdout",
       "text": [
        "\n",
        "convert -resize 25x25! competition_data/train/trichodesmium_puff/158078.jpg competition_data/train_25x25/trichodesmium_puff/158078.jpg"
       ]
      },
      {
       "output_type": "stream",
       "stream": "stdout",
       "text": [
        "\n",
        "convert -resize 25x25! competition_data/train/trichodesmium_puff/23250.jpg competition_data/train_25x25/trichodesmium_puff/23250.jpg"
       ]
      },
      {
       "output_type": "stream",
       "stream": "stdout",
       "text": [
        "\n",
        "convert -resize 25x25! competition_data/train/trichodesmium_puff/124209.jpg competition_data/train_25x25/trichodesmium_puff/124209.jpg"
       ]
      },
      {
       "output_type": "stream",
       "stream": "stdout",
       "text": [
        "\n",
        "convert -resize 25x25! competition_data/train/trichodesmium_puff/122713.jpg competition_data/train_25x25/trichodesmium_puff/122713.jpg"
       ]
      },
      {
       "output_type": "stream",
       "stream": "stdout",
       "text": [
        "\n",
        "convert -resize 25x25! competition_data/train/trichodesmium_puff/122792.jpg competition_data/train_25x25/trichodesmium_puff/122792.jpg"
       ]
      },
      {
       "output_type": "stream",
       "stream": "stdout",
       "text": [
        "\n",
        "convert -resize 25x25! competition_data/train/trichodesmium_puff/40308.jpg competition_data/train_25x25/trichodesmium_puff/40308.jpg"
       ]
      },
      {
       "output_type": "stream",
       "stream": "stdout",
       "text": [
        "\n",
        "convert -resize 25x25! competition_data/train/trichodesmium_puff/37438.jpg competition_data/train_25x25/trichodesmium_puff/37438.jpg"
       ]
      },
      {
       "output_type": "stream",
       "stream": "stdout",
       "text": [
        "\n",
        "convert -resize 25x25! competition_data/train/trichodesmium_puff/70939.jpg competition_data/train_25x25/trichodesmium_puff/70939.jpg"
       ]
      },
      {
       "output_type": "stream",
       "stream": "stdout",
       "text": [
        "\n",
        "convert -resize 25x25! competition_data/train/trichodesmium_puff/52545.jpg competition_data/train_25x25/trichodesmium_puff/52545.jpg"
       ]
      },
      {
       "output_type": "stream",
       "stream": "stdout",
       "text": [
        "\n",
        "convert -resize 25x25! competition_data/train/trichodesmium_puff/135933.jpg competition_data/train_25x25/trichodesmium_puff/135933.jpg"
       ]
      },
      {
       "output_type": "stream",
       "stream": "stdout",
       "text": [
        "\n",
        "convert -resize 25x25! competition_data/train/trichodesmium_puff/21896.jpg competition_data/train_25x25/trichodesmium_puff/21896.jpg"
       ]
      },
      {
       "output_type": "stream",
       "stream": "stdout",
       "text": [
        "\n",
        "convert -resize 25x25! competition_data/train/trichodesmium_puff/121570.jpg competition_data/train_25x25/trichodesmium_puff/121570.jpg"
       ]
      },
      {
       "output_type": "stream",
       "stream": "stdout",
       "text": [
        "\n",
        "convert -resize 25x25! competition_data/train/trichodesmium_puff/54463.jpg competition_data/train_25x25/trichodesmium_puff/54463.jpg"
       ]
      },
      {
       "output_type": "stream",
       "stream": "stdout",
       "text": [
        "\n",
        "convert -resize 25x25! competition_data/train/trichodesmium_puff/20995.jpg competition_data/train_25x25/trichodesmium_puff/20995.jpg"
       ]
      },
      {
       "output_type": "stream",
       "stream": "stdout",
       "text": [
        "\n",
        "convert -resize 25x25! competition_data/train/trichodesmium_puff/48853.jpg competition_data/train_25x25/trichodesmium_puff/48853.jpg"
       ]
      },
      {
       "output_type": "stream",
       "stream": "stdout",
       "text": [
        "\n",
        "convert -resize 25x25! competition_data/train/trichodesmium_puff/150303.jpg competition_data/train_25x25/trichodesmium_puff/150303.jpg"
       ]
      },
      {
       "output_type": "stream",
       "stream": "stdout",
       "text": [
        "\n",
        "convert -resize 25x25! competition_data/train/trichodesmium_puff/31177.jpg competition_data/train_25x25/trichodesmium_puff/31177.jpg"
       ]
      },
      {
       "output_type": "stream",
       "stream": "stdout",
       "text": [
        "\n",
        "convert -resize 25x25! competition_data/train/trichodesmium_puff/49510.jpg competition_data/train_25x25/trichodesmium_puff/49510.jpg"
       ]
      },
      {
       "output_type": "stream",
       "stream": "stdout",
       "text": [
        "\n",
        "convert -resize 25x25! competition_data/train/trichodesmium_puff/69591.jpg competition_data/train_25x25/trichodesmium_puff/69591.jpg"
       ]
      },
      {
       "output_type": "stream",
       "stream": "stdout",
       "text": [
        "\n",
        "convert -resize 25x25! competition_data/train/trichodesmium_puff/87308.jpg competition_data/train_25x25/trichodesmium_puff/87308.jpg"
       ]
      },
      {
       "output_type": "stream",
       "stream": "stdout",
       "text": [
        "\n",
        "convert -resize 25x25! competition_data/train/trichodesmium_puff/45274.jpg competition_data/train_25x25/trichodesmium_puff/45274.jpg"
       ]
      },
      {
       "output_type": "stream",
       "stream": "stdout",
       "text": [
        "\n",
        "convert -resize 25x25! competition_data/train/trichodesmium_puff/31963.jpg competition_data/train_25x25/trichodesmium_puff/31963.jpg"
       ]
      },
      {
       "output_type": "stream",
       "stream": "stdout",
       "text": [
        "\n",
        "convert -resize 25x25! competition_data/train/trichodesmium_puff/106994.jpg competition_data/train_25x25/trichodesmium_puff/106994.jpg\n",
        "convert -resize 25x25! competition_data/train/trichodesmium_puff/125004.jpg competition_data/train_25x25/trichodesmium_puff/125004.jpg"
       ]
      },
      {
       "output_type": "stream",
       "stream": "stdout",
       "text": [
        "\n",
        "convert -resize 25x25! competition_data/train/trichodesmium_puff/100784.jpg competition_data/train_25x25/trichodesmium_puff/100784.jpg"
       ]
      },
      {
       "output_type": "stream",
       "stream": "stdout",
       "text": [
        "\n",
        "convert -resize 25x25! competition_data/train/trichodesmium_puff/34450.jpg competition_data/train_25x25/trichodesmium_puff/34450.jpg\n",
        "convert -resize 25x25! competition_data/train/trichodesmium_puff/107365.jpg competition_data/train_25x25/trichodesmium_puff/107365.jpg"
       ]
      },
      {
       "output_type": "stream",
       "stream": "stdout",
       "text": [
        "\n",
        "convert -resize 25x25! competition_data/train/trichodesmium_puff/11571.jpg competition_data/train_25x25/trichodesmium_puff/11571.jpg\n",
        "convert -resize 25x25! competition_data/train/trichodesmium_puff/157103.jpg competition_data/train_25x25/trichodesmium_puff/157103.jpg"
       ]
      },
      {
       "output_type": "stream",
       "stream": "stdout",
       "text": [
        "\n",
        "convert -resize 25x25! competition_data/train/trichodesmium_puff/3054.jpg competition_data/train_25x25/trichodesmium_puff/3054.jpg"
       ]
      },
      {
       "output_type": "stream",
       "stream": "stdout",
       "text": [
        "\n",
        "convert -resize 25x25! competition_data/train/trichodesmium_puff/157891.jpg competition_data/train_25x25/trichodesmium_puff/157891.jpg\n",
        "convert -resize 25x25! competition_data/train/trichodesmium_puff/90104.jpg competition_data/train_25x25/trichodesmium_puff/90104.jpg"
       ]
      },
      {
       "output_type": "stream",
       "stream": "stdout",
       "text": [
        "\n",
        "convert -resize 25x25! competition_data/train/trichodesmium_puff/49089.jpg competition_data/train_25x25/trichodesmium_puff/49089.jpg"
       ]
      },
      {
       "output_type": "stream",
       "stream": "stdout",
       "text": [
        "\n",
        "convert -resize 25x25! competition_data/train/trichodesmium_puff/10166.jpg competition_data/train_25x25/trichodesmium_puff/10166.jpg\n",
        "convert -resize 25x25! competition_data/train/trichodesmium_puff/99973.jpg competition_data/train_25x25/trichodesmium_puff/99973.jpg"
       ]
      },
      {
       "output_type": "stream",
       "stream": "stdout",
       "text": [
        "\n",
        "convert -resize 25x25! competition_data/train/trichodesmium_puff/55000.jpg competition_data/train_25x25/trichodesmium_puff/55000.jpg"
       ]
      },
      {
       "output_type": "stream",
       "stream": "stdout",
       "text": [
        "\n",
        "convert -resize 25x25! competition_data/train/trichodesmium_puff/128960.jpg competition_data/train_25x25/trichodesmium_puff/128960.jpg"
       ]
      },
      {
       "output_type": "stream",
       "stream": "stdout",
       "text": [
        "\n",
        "convert -resize 25x25! competition_data/train/trichodesmium_puff/4270.jpg competition_data/train_25x25/trichodesmium_puff/4270.jpg"
       ]
      },
      {
       "output_type": "stream",
       "stream": "stdout",
       "text": [
        "\n",
        "convert -resize 25x25! competition_data/train/trichodesmium_puff/128150.jpg competition_data/train_25x25/trichodesmium_puff/128150.jpg"
       ]
      },
      {
       "output_type": "stream",
       "stream": "stdout",
       "text": [
        "\n",
        "convert -resize 25x25! competition_data/train/trichodesmium_puff/66599.jpg competition_data/train_25x25/trichodesmium_puff/66599.jpg"
       ]
      },
      {
       "output_type": "stream",
       "stream": "stdout",
       "text": [
        "\n",
        "convert -resize 25x25! competition_data/train/trichodesmium_puff/51377.jpg competition_data/train_25x25/trichodesmium_puff/51377.jpg"
       ]
      },
      {
       "output_type": "stream",
       "stream": "stdout",
       "text": [
        "\n",
        "convert -resize 25x25! competition_data/train/trichodesmium_puff/112124.jpg competition_data/train_25x25/trichodesmium_puff/112124.jpg"
       ]
      },
      {
       "output_type": "stream",
       "stream": "stdout",
       "text": [
        "\n",
        "convert -resize 25x25! competition_data/train/trichodesmium_puff/77521.jpg competition_data/train_25x25/trichodesmium_puff/77521.jpg"
       ]
      },
      {
       "output_type": "stream",
       "stream": "stdout",
       "text": [
        "\n",
        "convert -resize 25x25! competition_data/train/trichodesmium_puff/63987.jpg competition_data/train_25x25/trichodesmium_puff/63987.jpg"
       ]
      },
      {
       "output_type": "stream",
       "stream": "stdout",
       "text": [
        "\n",
        "convert -resize 25x25! competition_data/train/trichodesmium_puff/138408.jpg competition_data/train_25x25/trichodesmium_puff/138408.jpg"
       ]
      },
      {
       "output_type": "stream",
       "stream": "stdout",
       "text": [
        "\n",
        "convert -resize 25x25! competition_data/train/trichodesmium_puff/28993.jpg competition_data/train_25x25/trichodesmium_puff/28993.jpg"
       ]
      },
      {
       "output_type": "stream",
       "stream": "stdout",
       "text": [
        "\n",
        "convert -resize 25x25! competition_data/train/trichodesmium_puff/11163.jpg competition_data/train_25x25/trichodesmium_puff/11163.jpg"
       ]
      },
      {
       "output_type": "stream",
       "stream": "stdout",
       "text": [
        "\n",
        "convert -resize 25x25! competition_data/train/trichodesmium_puff/14502.jpg competition_data/train_25x25/trichodesmium_puff/14502.jpg"
       ]
      },
      {
       "output_type": "stream",
       "stream": "stdout",
       "text": [
        "\n",
        "convert -resize 25x25! competition_data/train/trichodesmium_puff/92714.jpg competition_data/train_25x25/trichodesmium_puff/92714.jpg"
       ]
      },
      {
       "output_type": "stream",
       "stream": "stdout",
       "text": [
        "\n",
        "convert -resize 25x25! competition_data/train/trichodesmium_puff/65751.jpg competition_data/train_25x25/trichodesmium_puff/65751.jpg"
       ]
      },
      {
       "output_type": "stream",
       "stream": "stdout",
       "text": [
        "\n",
        "convert -resize 25x25! competition_data/train/trichodesmium_puff/119024.jpg competition_data/train_25x25/trichodesmium_puff/119024.jpg"
       ]
      },
      {
       "output_type": "stream",
       "stream": "stdout",
       "text": [
        "\n",
        "convert -resize 25x25! competition_data/train/trichodesmium_puff/91310.jpg competition_data/train_25x25/trichodesmium_puff/91310.jpg"
       ]
      },
      {
       "output_type": "stream",
       "stream": "stdout",
       "text": [
        "\n",
        "convert -resize 25x25! competition_data/train/trichodesmium_puff/76568.jpg competition_data/train_25x25/trichodesmium_puff/76568.jpg"
       ]
      },
      {
       "output_type": "stream",
       "stream": "stdout",
       "text": [
        "\n",
        "convert -resize 25x25! competition_data/train/trichodesmium_puff/6209.jpg competition_data/train_25x25/trichodesmium_puff/6209.jpg"
       ]
      },
      {
       "output_type": "stream",
       "stream": "stdout",
       "text": [
        "\n",
        "convert -resize 25x25! competition_data/train/trichodesmium_puff/155579.jpg competition_data/train_25x25/trichodesmium_puff/155579.jpg"
       ]
      },
      {
       "output_type": "stream",
       "stream": "stdout",
       "text": [
        "\n",
        "convert -resize 25x25! competition_data/train/trichodesmium_puff/119948.jpg competition_data/train_25x25/trichodesmium_puff/119948.jpg"
       ]
      },
      {
       "output_type": "stream",
       "stream": "stdout",
       "text": [
        "\n",
        "convert -resize 25x25! competition_data/train/trichodesmium_puff/98542.jpg competition_data/train_25x25/trichodesmium_puff/98542.jpg"
       ]
      },
      {
       "output_type": "stream",
       "stream": "stdout",
       "text": [
        "\n",
        "convert -resize 25x25! competition_data/train/trichodesmium_puff/43700.jpg competition_data/train_25x25/trichodesmium_puff/43700.jpg"
       ]
      },
      {
       "output_type": "stream",
       "stream": "stdout",
       "text": [
        "\n",
        "convert -resize 25x25! competition_data/train/trichodesmium_puff/139395.jpg competition_data/train_25x25/trichodesmium_puff/139395.jpg\n",
        "convert -resize 25x25! competition_data/train/trichodesmium_puff/131992.jpg competition_data/train_25x25/trichodesmium_puff/131992.jpg"
       ]
      },
      {
       "output_type": "stream",
       "stream": "stdout",
       "text": [
        "\n",
        "convert -resize 25x25! competition_data/train/trichodesmium_puff/140104.jpg competition_data/train_25x25/trichodesmium_puff/140104.jpg\n",
        "convert -resize 25x25! competition_data/train/trichodesmium_puff/26739.jpg competition_data/train_25x25/trichodesmium_puff/26739.jpg"
       ]
      },
      {
       "output_type": "stream",
       "stream": "stdout",
       "text": [
        "\n",
        "convert -resize 25x25! competition_data/train/trichodesmium_puff/142822.jpg competition_data/train_25x25/trichodesmium_puff/142822.jpg\n",
        "convert -resize 25x25! competition_data/train/trichodesmium_puff/144642.jpg competition_data/train_25x25/trichodesmium_puff/144642.jpg"
       ]
      },
      {
       "output_type": "stream",
       "stream": "stdout",
       "text": [
        "\n",
        "convert -resize 25x25! competition_data/train/trichodesmium_puff/22119.jpg competition_data/train_25x25/trichodesmium_puff/22119.jpg\n",
        "convert -resize 25x25! competition_data/train/trichodesmium_puff/35470.jpg competition_data/train_25x25/trichodesmium_puff/35470.jpg"
       ]
      },
      {
       "output_type": "stream",
       "stream": "stdout",
       "text": [
        "\n",
        "convert -resize 25x25! competition_data/train/trichodesmium_puff/12477.jpg competition_data/train_25x25/trichodesmium_puff/12477.jpg\n",
        "convert -resize 25x25! competition_data/train/trichodesmium_puff/71280.jpg competition_data/train_25x25/trichodesmium_puff/71280.jpg"
       ]
      },
      {
       "output_type": "stream",
       "stream": "stdout",
       "text": [
        "\n",
        "convert -resize 25x25! competition_data/train/trichodesmium_puff/2946.jpg competition_data/train_25x25/trichodesmium_puff/2946.jpg\n",
        "convert -resize 25x25! competition_data/train/trichodesmium_puff/140925.jpg competition_data/train_25x25/trichodesmium_puff/140925.jpg"
       ]
      },
      {
       "output_type": "stream",
       "stream": "stdout",
       "text": [
        "\n",
        "convert -resize 25x25! competition_data/train/trichodesmium_puff/119529.jpg competition_data/train_25x25/trichodesmium_puff/119529.jpg\n",
        "convert -resize 25x25! competition_data/train/trichodesmium_puff/68843.jpg competition_data/train_25x25/trichodesmium_puff/68843.jpg"
       ]
      },
      {
       "output_type": "stream",
       "stream": "stdout",
       "text": [
        "\n",
        "convert -resize 25x25! competition_data/train/trichodesmium_puff/129304.jpg competition_data/train_25x25/trichodesmium_puff/129304.jpg"
       ]
      },
      {
       "output_type": "stream",
       "stream": "stdout",
       "text": [
        "\n",
        "convert -resize 25x25! competition_data/train/trichodesmium_puff/67440.jpg competition_data/train_25x25/trichodesmium_puff/67440.jpg"
       ]
      },
      {
       "output_type": "stream",
       "stream": "stdout",
       "text": [
        "\n",
        "convert -resize 25x25! competition_data/train/trichodesmium_puff/160637.jpg competition_data/train_25x25/trichodesmium_puff/160637.jpg"
       ]
      },
      {
       "output_type": "stream",
       "stream": "stdout",
       "text": [
        "\n",
        "convert -resize 25x25! competition_data/train/trichodesmium_puff/43556.jpg competition_data/train_25x25/trichodesmium_puff/43556.jpg"
       ]
      },
      {
       "output_type": "stream",
       "stream": "stdout",
       "text": [
        "\n",
        "convert -resize 25x25! competition_data/train/trichodesmium_puff/98968.jpg competition_data/train_25x25/trichodesmium_puff/98968.jpg"
       ]
      },
      {
       "output_type": "stream",
       "stream": "stdout",
       "text": [
        "\n",
        "convert -resize 25x25! competition_data/train/trichodesmium_puff/63952.jpg competition_data/train_25x25/trichodesmium_puff/63952.jpg"
       ]
      },
      {
       "output_type": "stream",
       "stream": "stdout",
       "text": [
        "\n",
        "convert -resize 25x25! competition_data/train/trichodesmium_puff/153801.jpg competition_data/train_25x25/trichodesmium_puff/153801.jpg"
       ]
      },
      {
       "output_type": "stream",
       "stream": "stdout",
       "text": [
        "\n",
        "convert -resize 25x25! competition_data/train/trichodesmium_puff/88720.jpg competition_data/train_25x25/trichodesmium_puff/88720.jpg"
       ]
      },
      {
       "output_type": "stream",
       "stream": "stdout",
       "text": [
        "\n",
        "convert -resize 25x25! competition_data/train/trichodesmium_puff/81540.jpg competition_data/train_25x25/trichodesmium_puff/81540.jpg"
       ]
      },
      {
       "output_type": "stream",
       "stream": "stdout",
       "text": [
        "\n",
        "convert -resize 25x25! competition_data/train/trichodesmium_puff/152262.jpg competition_data/train_25x25/trichodesmium_puff/152262.jpg"
       ]
      },
      {
       "output_type": "stream",
       "stream": "stdout",
       "text": [
        "\n",
        "convert -resize 25x25! competition_data/train/trichodesmium_puff/12039.jpg competition_data/train_25x25/trichodesmium_puff/12039.jpg"
       ]
      },
      {
       "output_type": "stream",
       "stream": "stdout",
       "text": [
        "\n",
        "convert -resize 25x25! competition_data/train/trichodesmium_puff/66551.jpg competition_data/train_25x25/trichodesmium_puff/66551.jpg"
       ]
      },
      {
       "output_type": "stream",
       "stream": "stdout",
       "text": [
        "\n",
        "convert -resize 25x25! competition_data/train/trichodesmium_puff/104008.jpg competition_data/train_25x25/trichodesmium_puff/104008.jpg"
       ]
      },
      {
       "output_type": "stream",
       "stream": "stdout",
       "text": [
        "\n",
        "convert -resize 25x25! competition_data/train/trichodesmium_puff/70396.jpg competition_data/train_25x25/trichodesmium_puff/70396.jpg"
       ]
      },
      {
       "output_type": "stream",
       "stream": "stdout",
       "text": [
        "\n",
        "convert -resize 25x25! competition_data/train/trichodesmium_puff/47622.jpg competition_data/train_25x25/trichodesmium_puff/47622.jpg"
       ]
      },
      {
       "output_type": "stream",
       "stream": "stdout",
       "text": [
        "\n",
        "convert -resize 25x25! competition_data/train/trichodesmium_puff/66368.jpg competition_data/train_25x25/trichodesmium_puff/66368.jpg"
       ]
      },
      {
       "output_type": "stream",
       "stream": "stdout",
       "text": [
        "\n",
        "convert -resize 25x25! competition_data/train/trichodesmium_puff/102865.jpg competition_data/train_25x25/trichodesmium_puff/102865.jpg"
       ]
      },
      {
       "output_type": "stream",
       "stream": "stdout",
       "text": [
        "\n",
        "convert -resize 25x25! competition_data/train/trichodesmium_puff/156804.jpg competition_data/train_25x25/trichodesmium_puff/156804.jpg"
       ]
      },
      {
       "output_type": "stream",
       "stream": "stdout",
       "text": [
        "\n",
        "convert -resize 25x25! competition_data/train/trichodesmium_puff/121248.jpg competition_data/train_25x25/trichodesmium_puff/121248.jpg"
       ]
      },
      {
       "output_type": "stream",
       "stream": "stdout",
       "text": [
        "\n",
        "convert -resize 25x25! competition_data/train/trichodesmium_puff/80274.jpg competition_data/train_25x25/trichodesmium_puff/80274.jpg"
       ]
      },
      {
       "output_type": "stream",
       "stream": "stdout",
       "text": [
        "\n",
        "convert -resize 25x25! competition_data/train/trichodesmium_puff/89355.jpg competition_data/train_25x25/trichodesmium_puff/89355.jpg"
       ]
      },
      {
       "output_type": "stream",
       "stream": "stdout",
       "text": [
        "\n",
        "convert -resize 25x25! competition_data/train/trichodesmium_puff/64149.jpg competition_data/train_25x25/trichodesmium_puff/64149.jpg"
       ]
      },
      {
       "output_type": "stream",
       "stream": "stdout",
       "text": [
        "\n",
        "convert -resize 25x25! competition_data/train/trichodesmium_puff/90062.jpg competition_data/train_25x25/trichodesmium_puff/90062.jpg"
       ]
      },
      {
       "output_type": "stream",
       "stream": "stdout",
       "text": [
        "\n",
        "convert -resize 25x25! competition_data/train/trichodesmium_puff/160421.jpg competition_data/train_25x25/trichodesmium_puff/160421.jpg\n",
        "convert -resize 25x25! competition_data/train/trichodesmium_puff/9336.jpg competition_data/train_25x25/trichodesmium_puff/9336.jpg"
       ]
      },
      {
       "output_type": "stream",
       "stream": "stdout",
       "text": [
        "\n",
        "convert -resize 25x25! competition_data/train/trichodesmium_puff/5440.jpg competition_data/train_25x25/trichodesmium_puff/5440.jpg\n",
        "convert -resize 25x25! competition_data/train/trichodesmium_puff/30219.jpg competition_data/train_25x25/trichodesmium_puff/30219.jpg"
       ]
      },
      {
       "output_type": "stream",
       "stream": "stdout",
       "text": [
        "\n",
        "convert -resize 25x25! competition_data/train/trichodesmium_puff/36000.jpg competition_data/train_25x25/trichodesmium_puff/36000.jpg\n",
        "convert -resize 25x25! competition_data/train/trichodesmium_puff/17312.jpg competition_data/train_25x25/trichodesmium_puff/17312.jpg"
       ]
      },
      {
       "output_type": "stream",
       "stream": "stdout",
       "text": [
        "\n",
        "convert -resize 25x25! competition_data/train/trichodesmium_puff/119710.jpg competition_data/train_25x25/trichodesmium_puff/119710.jpg"
       ]
      },
      {
       "output_type": "stream",
       "stream": "stdout",
       "text": [
        "\n",
        "convert -resize 25x25! competition_data/train/trichodesmium_puff/64075.jpg competition_data/train_25x25/trichodesmium_puff/64075.jpg\n",
        "convert -resize 25x25! competition_data/train/trichodesmium_puff/138042.jpg competition_data/train_25x25/trichodesmium_puff/138042.jpg"
       ]
      },
      {
       "output_type": "stream",
       "stream": "stdout",
       "text": [
        "\n",
        "convert -resize 25x25! competition_data/train/trichodesmium_puff/150306.jpg competition_data/train_25x25/trichodesmium_puff/150306.jpg\n",
        "convert -resize 25x25! competition_data/train/trichodesmium_puff/88676.jpg competition_data/train_25x25/trichodesmium_puff/88676.jpg"
       ]
      },
      {
       "output_type": "stream",
       "stream": "stdout",
       "text": [
        "\n",
        "convert -resize 25x25! competition_data/train/trichodesmium_puff/39580.jpg competition_data/train_25x25/trichodesmium_puff/39580.jpg\n",
        "convert -resize 25x25! competition_data/train/trichodesmium_puff/159919.jpg competition_data/train_25x25/trichodesmium_puff/159919.jpg"
       ]
      },
      {
       "output_type": "stream",
       "stream": "stdout",
       "text": [
        "\n",
        "convert -resize 25x25! competition_data/train/trichodesmium_puff/30891.jpg competition_data/train_25x25/trichodesmium_puff/30891.jpg"
       ]
      },
      {
       "output_type": "stream",
       "stream": "stdout",
       "text": [
        "\n",
        "convert -resize 25x25! competition_data/train/trichodesmium_puff/157815.jpg competition_data/train_25x25/trichodesmium_puff/157815.jpg"
       ]
      },
      {
       "output_type": "stream",
       "stream": "stdout",
       "text": [
        "\n",
        "convert -resize 25x25! competition_data/train/trichodesmium_puff/67937.jpg competition_data/train_25x25/trichodesmium_puff/67937.jpg"
       ]
      },
      {
       "output_type": "stream",
       "stream": "stdout",
       "text": [
        "\n",
        "convert -resize 25x25! competition_data/train/trichodesmium_puff/81027.jpg competition_data/train_25x25/trichodesmium_puff/81027.jpg"
       ]
      },
      {
       "output_type": "stream",
       "stream": "stdout",
       "text": [
        "\n",
        "convert -resize 25x25! competition_data/train/trichodesmium_puff/146062.jpg competition_data/train_25x25/trichodesmium_puff/146062.jpg"
       ]
      },
      {
       "output_type": "stream",
       "stream": "stdout",
       "text": [
        "\n",
        "convert -resize 25x25! competition_data/train/trichodesmium_puff/95581.jpg competition_data/train_25x25/trichodesmium_puff/95581.jpg"
       ]
      },
      {
       "output_type": "stream",
       "stream": "stdout",
       "text": [
        "\n",
        "convert -resize 25x25! competition_data/train/trichodesmium_puff/15286.jpg competition_data/train_25x25/trichodesmium_puff/15286.jpg"
       ]
      },
      {
       "output_type": "stream",
       "stream": "stdout",
       "text": [
        "\n",
        "convert -resize 25x25! competition_data/train/trichodesmium_puff/131762.jpg competition_data/train_25x25/trichodesmium_puff/131762.jpg"
       ]
      },
      {
       "output_type": "stream",
       "stream": "stdout",
       "text": [
        "\n",
        "convert -resize 25x25! competition_data/train/trichodesmium_puff/155744.jpg competition_data/train_25x25/trichodesmium_puff/155744.jpg"
       ]
      },
      {
       "output_type": "stream",
       "stream": "stdout",
       "text": [
        "\n",
        "convert -resize 25x25! competition_data/train/trichodesmium_puff/152147.jpg competition_data/train_25x25/trichodesmium_puff/152147.jpg"
       ]
      },
      {
       "output_type": "stream",
       "stream": "stdout",
       "text": [
        "\n",
        "convert -resize 25x25! competition_data/train/trichodesmium_puff/115633.jpg competition_data/train_25x25/trichodesmium_puff/115633.jpg"
       ]
      },
      {
       "output_type": "stream",
       "stream": "stdout",
       "text": [
        "\n",
        "convert -resize 25x25! competition_data/train/trichodesmium_puff/132025.jpg competition_data/train_25x25/trichodesmium_puff/132025.jpg"
       ]
      },
      {
       "output_type": "stream",
       "stream": "stdout",
       "text": [
        "\n",
        "convert -resize 25x25! competition_data/train/trichodesmium_puff/133617.jpg competition_data/train_25x25/trichodesmium_puff/133617.jpg"
       ]
      },
      {
       "output_type": "stream",
       "stream": "stdout",
       "text": [
        "\n",
        "convert -resize 25x25! competition_data/train/trichodesmium_puff/140512.jpg competition_data/train_25x25/trichodesmium_puff/140512.jpg"
       ]
      },
      {
       "output_type": "stream",
       "stream": "stdout",
       "text": [
        "\n",
        "convert -resize 25x25! competition_data/train/trichodesmium_puff/91555.jpg competition_data/train_25x25/trichodesmium_puff/91555.jpg"
       ]
      },
      {
       "output_type": "stream",
       "stream": "stdout",
       "text": [
        "\n",
        "convert -resize 25x25! competition_data/train/trichodesmium_puff/149083.jpg competition_data/train_25x25/trichodesmium_puff/149083.jpg"
       ]
      },
      {
       "output_type": "stream",
       "stream": "stdout",
       "text": [
        "\n",
        "convert -resize 25x25! competition_data/train/trichodesmium_puff/89135.jpg competition_data/train_25x25/trichodesmium_puff/89135.jpg"
       ]
      },
      {
       "output_type": "stream",
       "stream": "stdout",
       "text": [
        "\n",
        "convert -resize 25x25! competition_data/train/trichodesmium_puff/4400.jpg competition_data/train_25x25/trichodesmium_puff/4400.jpg"
       ]
      },
      {
       "output_type": "stream",
       "stream": "stdout",
       "text": [
        "\n",
        "convert -resize 25x25! competition_data/train/trichodesmium_puff/32268.jpg competition_data/train_25x25/trichodesmium_puff/32268.jpg"
       ]
      },
      {
       "output_type": "stream",
       "stream": "stdout",
       "text": [
        "\n",
        "convert -resize 25x25! competition_data/train/trichodesmium_puff/101562.jpg competition_data/train_25x25/trichodesmium_puff/101562.jpg"
       ]
      },
      {
       "output_type": "stream",
       "stream": "stdout",
       "text": [
        "\n",
        "convert -resize 25x25! competition_data/train/trichodesmium_puff/27826.jpg competition_data/train_25x25/trichodesmium_puff/27826.jpg"
       ]
      },
      {
       "output_type": "stream",
       "stream": "stdout",
       "text": [
        "\n",
        "convert -resize 25x25! competition_data/train/trichodesmium_puff/7861.jpg competition_data/train_25x25/trichodesmium_puff/7861.jpg\n",
        "convert -resize 25x25! competition_data/train/trichodesmium_puff/61907.jpg competition_data/train_25x25/trichodesmium_puff/61907.jpg"
       ]
      },
      {
       "output_type": "stream",
       "stream": "stdout",
       "text": [
        "\n",
        "convert -resize 25x25! competition_data/train/trichodesmium_puff/74434.jpg competition_data/train_25x25/trichodesmium_puff/74434.jpg\n",
        "convert -resize 25x25! competition_data/train/trichodesmium_puff/126738.jpg competition_data/train_25x25/trichodesmium_puff/126738.jpg"
       ]
      },
      {
       "output_type": "stream",
       "stream": "stdout",
       "text": [
        "\n",
        "convert -resize 25x25! competition_data/train/trichodesmium_puff/57246.jpg competition_data/train_25x25/trichodesmium_puff/57246.jpg\n",
        "convert -resize 25x25! competition_data/train/trichodesmium_puff/139552.jpg competition_data/train_25x25/trichodesmium_puff/139552.jpg"
       ]
      },
      {
       "output_type": "stream",
       "stream": "stdout",
       "text": [
        "\n",
        "convert -resize 25x25! competition_data/train/trichodesmium_puff/110253.jpg competition_data/train_25x25/trichodesmium_puff/110253.jpg\n",
        "convert -resize 25x25! competition_data/train/trichodesmium_puff/43687.jpg competition_data/train_25x25/trichodesmium_puff/43687.jpg"
       ]
      },
      {
       "output_type": "stream",
       "stream": "stdout",
       "text": [
        "\n",
        "convert -resize 25x25! competition_data/train/trichodesmium_puff/97051.jpg competition_data/train_25x25/trichodesmium_puff/97051.jpg\n",
        "convert -resize 25x25! competition_data/train/trichodesmium_puff/138276.jpg competition_data/train_25x25/trichodesmium_puff/138276.jpg"
       ]
      },
      {
       "output_type": "stream",
       "stream": "stdout",
       "text": [
        "\n",
        "convert -resize 25x25! competition_data/train/trichodesmium_puff/152850.jpg competition_data/train_25x25/trichodesmium_puff/152850.jpg\n",
        "convert -resize 25x25! competition_data/train/trichodesmium_puff/156979.jpg competition_data/train_25x25/trichodesmium_puff/156979.jpg"
       ]
      },
      {
       "output_type": "stream",
       "stream": "stdout",
       "text": [
        "\n",
        "convert -resize 25x25! competition_data/train/trichodesmium_puff/50131.jpg competition_data/train_25x25/trichodesmium_puff/50131.jpg\n",
        "convert -resize 25x25! competition_data/train/trichodesmium_puff/63060.jpg competition_data/train_25x25/trichodesmium_puff/63060.jpg"
       ]
      },
      {
       "output_type": "stream",
       "stream": "stdout",
       "text": [
        "\n",
        "convert -resize 25x25! competition_data/train/trichodesmium_puff/104186.jpg competition_data/train_25x25/trichodesmium_puff/104186.jpg"
       ]
      },
      {
       "output_type": "stream",
       "stream": "stdout",
       "text": [
        "\n",
        "convert -resize 25x25! competition_data/train/trichodesmium_puff/160095.jpg competition_data/train_25x25/trichodesmium_puff/160095.jpg"
       ]
      },
      {
       "output_type": "stream",
       "stream": "stdout",
       "text": [
        "\n",
        "convert -resize 25x25! competition_data/train/trichodesmium_puff/90777.jpg competition_data/train_25x25/trichodesmium_puff/90777.jpg"
       ]
      },
      {
       "output_type": "stream",
       "stream": "stdout",
       "text": [
        "\n",
        "convert -resize 25x25! competition_data/train/trichodesmium_puff/42839.jpg competition_data/train_25x25/trichodesmium_puff/42839.jpg"
       ]
      },
      {
       "output_type": "stream",
       "stream": "stdout",
       "text": [
        "\n",
        "convert -resize 25x25! competition_data/train/trichodesmium_puff/42621.jpg competition_data/train_25x25/trichodesmium_puff/42621.jpg"
       ]
      },
      {
       "output_type": "stream",
       "stream": "stdout",
       "text": [
        "\n",
        "convert -resize 25x25! competition_data/train/trichodesmium_puff/65202.jpg competition_data/train_25x25/trichodesmium_puff/65202.jpg"
       ]
      },
      {
       "output_type": "stream",
       "stream": "stdout",
       "text": [
        "\n",
        "convert -resize 25x25! competition_data/train/trichodesmium_puff/110493.jpg competition_data/train_25x25/trichodesmium_puff/110493.jpg"
       ]
      },
      {
       "output_type": "stream",
       "stream": "stdout",
       "text": [
        "\n",
        "convert -resize 25x25! competition_data/train/trichodesmium_puff/158083.jpg competition_data/train_25x25/trichodesmium_puff/158083.jpg"
       ]
      },
      {
       "output_type": "stream",
       "stream": "stdout",
       "text": [
        "\n",
        "convert -resize 25x25! competition_data/train/trichodesmium_puff/35537.jpg competition_data/train_25x25/trichodesmium_puff/35537.jpg"
       ]
      },
      {
       "output_type": "stream",
       "stream": "stdout",
       "text": [
        "\n",
        "convert -resize 25x25! competition_data/train/trichodesmium_puff/130006.jpg competition_data/train_25x25/trichodesmium_puff/130006.jpg"
       ]
      },
      {
       "output_type": "stream",
       "stream": "stdout",
       "text": [
        "\n",
        "convert -resize 25x25! competition_data/train/trichodesmium_puff/61181.jpg competition_data/train_25x25/trichodesmium_puff/61181.jpg"
       ]
      },
      {
       "output_type": "stream",
       "stream": "stdout",
       "text": [
        "\n",
        "convert -resize 25x25! competition_data/train/trichodesmium_puff/70236.jpg competition_data/train_25x25/trichodesmium_puff/70236.jpg"
       ]
      },
      {
       "output_type": "stream",
       "stream": "stdout",
       "text": [
        "\n",
        "convert -resize 25x25! competition_data/train/trichodesmium_puff/66538.jpg competition_data/train_25x25/trichodesmium_puff/66538.jpg"
       ]
      },
      {
       "output_type": "stream",
       "stream": "stdout",
       "text": [
        "\n",
        "convert -resize 25x25! competition_data/train/trichodesmium_puff/61840.jpg competition_data/train_25x25/trichodesmium_puff/61840.jpg"
       ]
      },
      {
       "output_type": "stream",
       "stream": "stdout",
       "text": [
        "\n",
        "convert -resize 25x25! competition_data/train/trichodesmium_puff/138258.jpg competition_data/train_25x25/trichodesmium_puff/138258.jpg"
       ]
      },
      {
       "output_type": "stream",
       "stream": "stdout",
       "text": [
        "\n",
        "convert -resize 25x25! competition_data/train/trichodesmium_puff/63218.jpg competition_data/train_25x25/trichodesmium_puff/63218.jpg"
       ]
      },
      {
       "output_type": "stream",
       "stream": "stdout",
       "text": [
        "\n",
        "convert -resize 25x25! competition_data/train/trichodesmium_puff/102150.jpg competition_data/train_25x25/trichodesmium_puff/102150.jpg"
       ]
      },
      {
       "output_type": "stream",
       "stream": "stdout",
       "text": [
        "\n",
        "convert -resize 25x25! competition_data/train/trichodesmium_puff/11805.jpg competition_data/train_25x25/trichodesmium_puff/11805.jpg"
       ]
      },
      {
       "output_type": "stream",
       "stream": "stdout",
       "text": [
        "\n",
        "convert -resize 25x25! competition_data/train/trichodesmium_puff/123598.jpg competition_data/train_25x25/trichodesmium_puff/123598.jpg"
       ]
      },
      {
       "output_type": "stream",
       "stream": "stdout",
       "text": [
        "\n",
        "convert -resize 25x25! competition_data/train/trichodesmium_puff/10537.jpg competition_data/train_25x25/trichodesmium_puff/10537.jpg"
       ]
      },
      {
       "output_type": "stream",
       "stream": "stdout",
       "text": [
        "\n",
        "convert -resize 25x25! competition_data/train/trichodesmium_puff/8332.jpg competition_data/train_25x25/trichodesmium_puff/8332.jpg"
       ]
      },
      {
       "output_type": "stream",
       "stream": "stdout",
       "text": [
        "\n",
        "convert -resize 25x25! competition_data/train/trichodesmium_puff/105786.jpg competition_data/train_25x25/trichodesmium_puff/105786.jpg"
       ]
      },
      {
       "output_type": "stream",
       "stream": "stdout",
       "text": [
        "\n",
        "convert -resize 25x25! competition_data/train/trichodesmium_puff/116984.jpg competition_data/train_25x25/trichodesmium_puff/116984.jpg\n",
        "convert -resize 25x25! competition_data/train/trichodesmium_puff/145349.jpg competition_data/train_25x25/trichodesmium_puff/145349.jpg"
       ]
      },
      {
       "output_type": "stream",
       "stream": "stdout",
       "text": [
        "\n",
        "convert -resize 25x25! competition_data/train/trichodesmium_puff/127176.jpg competition_data/train_25x25/trichodesmium_puff/127176.jpg"
       ]
      },
      {
       "output_type": "stream",
       "stream": "stdout",
       "text": [
        "\n",
        "convert -resize 25x25! competition_data/train/trichodesmium_puff/110836.jpg competition_data/train_25x25/trichodesmium_puff/110836.jpg\n",
        "convert -resize 25x25! competition_data/train/trichodesmium_puff/45436.jpg competition_data/train_25x25/trichodesmium_puff/45436.jpg"
       ]
      },
      {
       "output_type": "stream",
       "stream": "stdout",
       "text": [
        "\n",
        "convert -resize 25x25! competition_data/train/trichodesmium_puff/41883.jpg competition_data/train_25x25/trichodesmium_puff/41883.jpg\n",
        "convert -resize 25x25! competition_data/train/trichodesmium_puff/97913.jpg competition_data/train_25x25/trichodesmium_puff/97913.jpg"
       ]
      },
      {
       "output_type": "stream",
       "stream": "stdout",
       "text": [
        "\n",
        "convert -resize 25x25! competition_data/train/trichodesmium_puff/28053.jpg competition_data/train_25x25/trichodesmium_puff/28053.jpg\n",
        "convert -resize 25x25! competition_data/train/trichodesmium_puff/151872.jpg competition_data/train_25x25/trichodesmium_puff/151872.jpg"
       ]
      },
      {
       "output_type": "stream",
       "stream": "stdout",
       "text": [
        "\n",
        "convert -resize 25x25! competition_data/train/trichodesmium_puff/34818.jpg competition_data/train_25x25/trichodesmium_puff/34818.jpg\n",
        "convert -resize 25x25! competition_data/train/trichodesmium_puff/14255.jpg competition_data/train_25x25/trichodesmium_puff/14255.jpg"
       ]
      },
      {
       "output_type": "stream",
       "stream": "stdout",
       "text": [
        "\n",
        "convert -resize 25x25! competition_data/train/trichodesmium_puff/5421.jpg competition_data/train_25x25/trichodesmium_puff/5421.jpg"
       ]
      },
      {
       "output_type": "stream",
       "stream": "stdout",
       "text": [
        "\n",
        "convert -resize 25x25! competition_data/train/trichodesmium_puff/35964.jpg competition_data/train_25x25/trichodesmium_puff/35964.jpg\n",
        "convert -resize 25x25! competition_data/train/trichodesmium_puff/148781.jpg competition_data/train_25x25/trichodesmium_puff/148781.jpg"
       ]
      },
      {
       "output_type": "stream",
       "stream": "stdout",
       "text": [
        "\n",
        "convert -resize 25x25! competition_data/train/trichodesmium_puff/35527.jpg competition_data/train_25x25/trichodesmium_puff/35527.jpg\n",
        "convert -resize 25x25! competition_data/train/trichodesmium_puff/1175.jpg competition_data/train_25x25/trichodesmium_puff/1175.jpg"
       ]
      },
      {
       "output_type": "stream",
       "stream": "stdout",
       "text": [
        "\n",
        "convert -resize 25x25! competition_data/train/trichodesmium_puff/16211.jpg competition_data/train_25x25/trichodesmium_puff/16211.jpg"
       ]
      },
      {
       "output_type": "stream",
       "stream": "stdout",
       "text": [
        "\n",
        "convert -resize 25x25! competition_data/train/trichodesmium_puff/84353.jpg competition_data/train_25x25/trichodesmium_puff/84353.jpg"
       ]
      },
      {
       "output_type": "stream",
       "stream": "stdout",
       "text": [
        "\n",
        "convert -resize 25x25! competition_data/train/trichodesmium_puff/9729.jpg competition_data/train_25x25/trichodesmium_puff/9729.jpg"
       ]
      },
      {
       "output_type": "stream",
       "stream": "stdout",
       "text": [
        "\n",
        "convert -resize 25x25! competition_data/train/trichodesmium_puff/133642.jpg competition_data/train_25x25/trichodesmium_puff/133642.jpg"
       ]
      },
      {
       "output_type": "stream",
       "stream": "stdout",
       "text": [
        "\n",
        "convert -resize 25x25! competition_data/train/trichodesmium_puff/143375.jpg competition_data/train_25x25/trichodesmium_puff/143375.jpg"
       ]
      },
      {
       "output_type": "stream",
       "stream": "stdout",
       "text": [
        "\n",
        "convert -resize 25x25! competition_data/train/trichodesmium_puff/52760.jpg competition_data/train_25x25/trichodesmium_puff/52760.jpg"
       ]
      },
      {
       "output_type": "stream",
       "stream": "stdout",
       "text": [
        "\n",
        "convert -resize 25x25! competition_data/train/trichodesmium_puff/145515.jpg competition_data/train_25x25/trichodesmium_puff/145515.jpg"
       ]
      },
      {
       "output_type": "stream",
       "stream": "stdout",
       "text": [
        "\n",
        "convert -resize 25x25! competition_data/train/trichodesmium_puff/134370.jpg competition_data/train_25x25/trichodesmium_puff/134370.jpg"
       ]
      },
      {
       "output_type": "stream",
       "stream": "stdout",
       "text": [
        "\n",
        "convert -resize 25x25! competition_data/train/trichodesmium_puff/70002.jpg competition_data/train_25x25/trichodesmium_puff/70002.jpg"
       ]
      },
      {
       "output_type": "stream",
       "stream": "stdout",
       "text": [
        "\n",
        "convert -resize 25x25! competition_data/train/trichodesmium_puff/21835.jpg competition_data/train_25x25/trichodesmium_puff/21835.jpg"
       ]
      },
      {
       "output_type": "stream",
       "stream": "stdout",
       "text": [
        "\n",
        "convert -resize 25x25! competition_data/train/trichodesmium_puff/42846.jpg competition_data/train_25x25/trichodesmium_puff/42846.jpg"
       ]
      },
      {
       "output_type": "stream",
       "stream": "stdout",
       "text": [
        "\n",
        "convert -resize 25x25! competition_data/train/trichodesmium_puff/27159.jpg competition_data/train_25x25/trichodesmium_puff/27159.jpg"
       ]
      },
      {
       "output_type": "stream",
       "stream": "stdout",
       "text": [
        "\n",
        "convert -resize 25x25! competition_data/train/trichodesmium_puff/107029.jpg competition_data/train_25x25/trichodesmium_puff/107029.jpg"
       ]
      },
      {
       "output_type": "stream",
       "stream": "stdout",
       "text": [
        "\n",
        "convert -resize 25x25! competition_data/train/trichodesmium_puff/149516.jpg competition_data/train_25x25/trichodesmium_puff/149516.jpg"
       ]
      },
      {
       "output_type": "stream",
       "stream": "stdout",
       "text": [
        "\n",
        "convert -resize 25x25! competition_data/train/trichodesmium_puff/56164.jpg competition_data/train_25x25/trichodesmium_puff/56164.jpg"
       ]
      },
      {
       "output_type": "stream",
       "stream": "stdout",
       "text": [
        "\n",
        "convert -resize 25x25! competition_data/train/trichodesmium_puff/150199.jpg competition_data/train_25x25/trichodesmium_puff/150199.jpg"
       ]
      },
      {
       "output_type": "stream",
       "stream": "stdout",
       "text": [
        "\n",
        "convert -resize 25x25! competition_data/train/trichodesmium_puff/122877.jpg competition_data/train_25x25/trichodesmium_puff/122877.jpg"
       ]
      },
      {
       "output_type": "stream",
       "stream": "stdout",
       "text": [
        "\n",
        "convert -resize 25x25! competition_data/train/trichodesmium_puff/138644.jpg competition_data/train_25x25/trichodesmium_puff/138644.jpg"
       ]
      },
      {
       "output_type": "stream",
       "stream": "stdout",
       "text": [
        "\n",
        "convert -resize 25x25! competition_data/train/trichodesmium_puff/71366.jpg competition_data/train_25x25/trichodesmium_puff/71366.jpg"
       ]
      },
      {
       "output_type": "stream",
       "stream": "stdout",
       "text": [
        "\n",
        "convert -resize 25x25! competition_data/train/trichodesmium_puff/5633.jpg competition_data/train_25x25/trichodesmium_puff/5633.jpg"
       ]
      },
      {
       "output_type": "stream",
       "stream": "stdout",
       "text": [
        "\n",
        "convert -resize 25x25! competition_data/train/trichodesmium_puff/113032.jpg competition_data/train_25x25/trichodesmium_puff/113032.jpg"
       ]
      },
      {
       "output_type": "stream",
       "stream": "stdout",
       "text": [
        "\n",
        "convert -resize 25x25! competition_data/train/trichodesmium_puff/20043.jpg competition_data/train_25x25/trichodesmium_puff/20043.jpg\n",
        "convert -resize 25x25! competition_data/train/trichodesmium_puff/16539.jpg competition_data/train_25x25/trichodesmium_puff/16539.jpg"
       ]
      },
      {
       "output_type": "stream",
       "stream": "stdout",
       "text": [
        "\n",
        "convert -resize 25x25! competition_data/train/trichodesmium_puff/133913.jpg competition_data/train_25x25/trichodesmium_puff/133913.jpg\n",
        "convert -resize 25x25! competition_data/train/trichodesmium_puff/119643.jpg competition_data/train_25x25/trichodesmium_puff/119643.jpg"
       ]
      },
      {
       "output_type": "stream",
       "stream": "stdout",
       "text": [
        "\n",
        "convert -resize 25x25! competition_data/train/trichodesmium_puff/128998.jpg competition_data/train_25x25/trichodesmium_puff/128998.jpg\n",
        "convert -resize 25x25! competition_data/train/trichodesmium_puff/49021.jpg competition_data/train_25x25/trichodesmium_puff/49021.jpg"
       ]
      },
      {
       "output_type": "stream",
       "stream": "stdout",
       "text": [
        "\n",
        "convert -resize 25x25! competition_data/train/trichodesmium_puff/80056.jpg competition_data/train_25x25/trichodesmium_puff/80056.jpg\n",
        "convert -resize 25x25! competition_data/train/trichodesmium_puff/128618.jpg competition_data/train_25x25/trichodesmium_puff/128618.jpg"
       ]
      },
      {
       "output_type": "stream",
       "stream": "stdout",
       "text": [
        "\n",
        "convert -resize 25x25! competition_data/train/trichodesmium_puff/31578.jpg competition_data/train_25x25/trichodesmium_puff/31578.jpg\n",
        "convert -resize 25x25! competition_data/train/trichodesmium_puff/122418.jpg competition_data/train_25x25/trichodesmium_puff/122418.jpg"
       ]
      },
      {
       "output_type": "stream",
       "stream": "stdout",
       "text": [
        "\n",
        "convert -resize 25x25! competition_data/train/trichodesmium_puff/15333.jpg competition_data/train_25x25/trichodesmium_puff/15333.jpg"
       ]
      },
      {
       "output_type": "stream",
       "stream": "stdout",
       "text": [
        "\n",
        "convert -resize 25x25! competition_data/train/trichodesmium_puff/60907.jpg competition_data/train_25x25/trichodesmium_puff/60907.jpg\n",
        "convert -resize 25x25! competition_data/train/trichodesmium_puff/109506.jpg competition_data/train_25x25/trichodesmium_puff/109506.jpg"
       ]
      },
      {
       "output_type": "stream",
       "stream": "stdout",
       "text": [
        "\n",
        "convert -resize 25x25! competition_data/train/trichodesmium_puff/154395.jpg competition_data/train_25x25/trichodesmium_puff/154395.jpg\n",
        "convert -resize 25x25! competition_data/train/trichodesmium_puff/95474.jpg competition_data/train_25x25/trichodesmium_puff/95474.jpg"
       ]
      },
      {
       "output_type": "stream",
       "stream": "stdout",
       "text": [
        "\n",
        "convert -resize 25x25! competition_data/train/trichodesmium_puff/4576.jpg competition_data/train_25x25/trichodesmium_puff/4576.jpg"
       ]
      },
      {
       "output_type": "stream",
       "stream": "stdout",
       "text": [
        "\n",
        "convert -resize 25x25! competition_data/train/trichodesmium_puff/156727.jpg competition_data/train_25x25/trichodesmium_puff/156727.jpg"
       ]
      },
      {
       "output_type": "stream",
       "stream": "stdout",
       "text": [
        "\n",
        "convert -resize 25x25! competition_data/train/trichodesmium_puff/144369.jpg competition_data/train_25x25/trichodesmium_puff/144369.jpg"
       ]
      },
      {
       "output_type": "stream",
       "stream": "stdout",
       "text": [
        "\n",
        "convert -resize 25x25! competition_data/train/trichodesmium_puff/77274.jpg competition_data/train_25x25/trichodesmium_puff/77274.jpg"
       ]
      },
      {
       "output_type": "stream",
       "stream": "stdout",
       "text": [
        "\n",
        "convert -resize 25x25! competition_data/train/trichodesmium_puff/130709.jpg competition_data/train_25x25/trichodesmium_puff/130709.jpg"
       ]
      },
      {
       "output_type": "stream",
       "stream": "stdout",
       "text": [
        "\n",
        "convert -resize 25x25! competition_data/train/trichodesmium_puff/87757.jpg competition_data/train_25x25/trichodesmium_puff/87757.jpg"
       ]
      },
      {
       "output_type": "stream",
       "stream": "stdout",
       "text": [
        "\n",
        "convert -resize 25x25! competition_data/train/trichodesmium_puff/6031.jpg competition_data/train_25x25/trichodesmium_puff/6031.jpg"
       ]
      },
      {
       "output_type": "stream",
       "stream": "stdout",
       "text": [
        "\n",
        "convert -resize 25x25! competition_data/train/trichodesmium_puff/130301.jpg competition_data/train_25x25/trichodesmium_puff/130301.jpg"
       ]
      },
      {
       "output_type": "stream",
       "stream": "stdout",
       "text": [
        "\n",
        "convert -resize 25x25! competition_data/train/trichodesmium_puff/5074.jpg competition_data/train_25x25/trichodesmium_puff/5074.jpg"
       ]
      },
      {
       "output_type": "stream",
       "stream": "stdout",
       "text": [
        "\n",
        "convert -resize 25x25! competition_data/train/trichodesmium_puff/8184.jpg competition_data/train_25x25/trichodesmium_puff/8184.jpg"
       ]
      },
      {
       "output_type": "stream",
       "stream": "stdout",
       "text": [
        "\n",
        "convert -resize 25x25! competition_data/train/trichodesmium_puff/90124.jpg competition_data/train_25x25/trichodesmium_puff/90124.jpg"
       ]
      },
      {
       "output_type": "stream",
       "stream": "stdout",
       "text": [
        "\n",
        "convert -resize 25x25! competition_data/train/trichodesmium_puff/47724.jpg competition_data/train_25x25/trichodesmium_puff/47724.jpg"
       ]
      },
      {
       "output_type": "stream",
       "stream": "stdout",
       "text": [
        "\n",
        "convert -resize 25x25! competition_data/train/trichodesmium_puff/101577.jpg competition_data/train_25x25/trichodesmium_puff/101577.jpg"
       ]
      },
      {
       "output_type": "stream",
       "stream": "stdout",
       "text": [
        "\n",
        "convert -resize 25x25! competition_data/train/trichodesmium_puff/142327.jpg competition_data/train_25x25/trichodesmium_puff/142327.jpg"
       ]
      },
      {
       "output_type": "stream",
       "stream": "stdout",
       "text": [
        "\n",
        "convert -resize 25x25! competition_data/train/trichodesmium_puff/62616.jpg competition_data/train_25x25/trichodesmium_puff/62616.jpg"
       ]
      },
      {
       "output_type": "stream",
       "stream": "stdout",
       "text": [
        "\n",
        "convert -resize 25x25! competition_data/train/trichodesmium_puff/8859.jpg competition_data/train_25x25/trichodesmium_puff/8859.jpg"
       ]
      },
      {
       "output_type": "stream",
       "stream": "stdout",
       "text": [
        "\n",
        "convert -resize 25x25! competition_data/train/trichodesmium_puff/159029.jpg competition_data/train_25x25/trichodesmium_puff/159029.jpg"
       ]
      },
      {
       "output_type": "stream",
       "stream": "stdout",
       "text": [
        "\n",
        "convert -resize 25x25! competition_data/train/trichodesmium_puff/148348.jpg competition_data/train_25x25/trichodesmium_puff/148348.jpg"
       ]
      },
      {
       "output_type": "stream",
       "stream": "stdout",
       "text": [
        "\n",
        "convert -resize 25x25! competition_data/train/trichodesmium_puff/82159.jpg competition_data/train_25x25/trichodesmium_puff/82159.jpg"
       ]
      },
      {
       "output_type": "stream",
       "stream": "stdout",
       "text": [
        "\n",
        "convert -resize 25x25! competition_data/train/trichodesmium_puff/89036.jpg competition_data/train_25x25/trichodesmium_puff/89036.jpg"
       ]
      },
      {
       "output_type": "stream",
       "stream": "stdout",
       "text": [
        "\n",
        "convert -resize 25x25! competition_data/train/trichodesmium_puff/88733.jpg competition_data/train_25x25/trichodesmium_puff/88733.jpg"
       ]
      },
      {
       "output_type": "stream",
       "stream": "stdout",
       "text": [
        "\n",
        "convert -resize 25x25! competition_data/train/trichodesmium_puff/68111.jpg competition_data/train_25x25/trichodesmium_puff/68111.jpg\n",
        "convert -resize 25x25! competition_data/train/trichodesmium_puff/113621.jpg competition_data/train_25x25/trichodesmium_puff/113621.jpg"
       ]
      },
      {
       "output_type": "stream",
       "stream": "stdout",
       "text": [
        "\n",
        "convert -resize 25x25! competition_data/train/trichodesmium_puff/94993.jpg competition_data/train_25x25/trichodesmium_puff/94993.jpg\n",
        "convert -resize 25x25! competition_data/train/trichodesmium_puff/7680.jpg competition_data/train_25x25/trichodesmium_puff/7680.jpg"
       ]
      },
      {
       "output_type": "stream",
       "stream": "stdout",
       "text": [
        "\n",
        "convert -resize 25x25! competition_data/train/trichodesmium_puff/11076.jpg competition_data/train_25x25/trichodesmium_puff/11076.jpg\n",
        "convert -resize 25x25! competition_data/train/trichodesmium_puff/116943.jpg competition_data/train_25x25/trichodesmium_puff/116943.jpg"
       ]
      },
      {
       "output_type": "stream",
       "stream": "stdout",
       "text": [
        "\n",
        "convert -resize 25x25! competition_data/train/trichodesmium_puff/83631.jpg competition_data/train_25x25/trichodesmium_puff/83631.jpg"
       ]
      },
      {
       "output_type": "stream",
       "stream": "stdout",
       "text": [
        "\n",
        "convert -resize 25x25! competition_data/train/trichodesmium_puff/150752.jpg competition_data/train_25x25/trichodesmium_puff/150752.jpg\n",
        "convert -resize 25x25! competition_data/train/trichodesmium_puff/110545.jpg competition_data/train_25x25/trichodesmium_puff/110545.jpg"
       ]
      },
      {
       "output_type": "stream",
       "stream": "stdout",
       "text": [
        "\n",
        "convert -resize 25x25! competition_data/train/trichodesmium_puff/116473.jpg competition_data/train_25x25/trichodesmium_puff/116473.jpg\n",
        "convert -resize 25x25! competition_data/train/trichodesmium_puff/109435.jpg competition_data/train_25x25/trichodesmium_puff/109435.jpg"
       ]
      },
      {
       "output_type": "stream",
       "stream": "stdout",
       "text": [
        "\n",
        "convert -resize 25x25! competition_data/train/trichodesmium_puff/144740.jpg competition_data/train_25x25/trichodesmium_puff/144740.jpg"
       ]
      },
      {
       "output_type": "stream",
       "stream": "stdout",
       "text": [
        "\n",
        "convert -resize 25x25! competition_data/train/trichodesmium_puff/43580.jpg competition_data/train_25x25/trichodesmium_puff/43580.jpg\n",
        "convert -resize 25x25! competition_data/train/trichodesmium_puff/54661.jpg competition_data/train_25x25/trichodesmium_puff/54661.jpg"
       ]
      },
      {
       "output_type": "stream",
       "stream": "stdout",
       "text": [
        "\n",
        "convert -resize 25x25! competition_data/train/trichodesmium_puff/47346.jpg competition_data/train_25x25/trichodesmium_puff/47346.jpg\n",
        "convert -resize 25x25! competition_data/train/trichodesmium_puff/46613.jpg competition_data/train_25x25/trichodesmium_puff/46613.jpg"
       ]
      },
      {
       "output_type": "stream",
       "stream": "stdout",
       "text": [
        "\n",
        "convert -resize 25x25! competition_data/train/trichodesmium_puff/144279.jpg competition_data/train_25x25/trichodesmium_puff/144279.jpg"
       ]
      },
      {
       "output_type": "stream",
       "stream": "stdout",
       "text": [
        "\n",
        "convert -resize 25x25! competition_data/train/trichodesmium_puff/72129.jpg competition_data/train_25x25/trichodesmium_puff/72129.jpg"
       ]
      },
      {
       "output_type": "stream",
       "stream": "stdout",
       "text": [
        "\n",
        "convert -resize 25x25! competition_data/train/trichodesmium_puff/18656.jpg competition_data/train_25x25/trichodesmium_puff/18656.jpg"
       ]
      },
      {
       "output_type": "stream",
       "stream": "stdout",
       "text": [
        "\n",
        "convert -resize 25x25! competition_data/train/hydromedusae_typeE/19230.jpg competition_data/train_25x25/hydromedusae_typeE/19230.jpg"
       ]
      },
      {
       "output_type": "stream",
       "stream": "stdout",
       "text": [
        "\n",
        "convert -resize 25x25! competition_data/train/hydromedusae_typeE/61896.jpg competition_data/train_25x25/hydromedusae_typeE/61896.jpg"
       ]
      },
      {
       "output_type": "stream",
       "stream": "stdout",
       "text": [
        "\n",
        "convert -resize 25x25! competition_data/train/hydromedusae_typeE/36376.jpg competition_data/train_25x25/hydromedusae_typeE/36376.jpg"
       ]
      },
      {
       "output_type": "stream",
       "stream": "stdout",
       "text": [
        "\n",
        "convert -resize 25x25! competition_data/train/hydromedusae_typeE/939.jpg competition_data/train_25x25/hydromedusae_typeE/939.jpg"
       ]
      },
      {
       "output_type": "stream",
       "stream": "stdout",
       "text": [
        "\n",
        "convert -resize 25x25! competition_data/train/hydromedusae_typeE/29026.jpg competition_data/train_25x25/hydromedusae_typeE/29026.jpg"
       ]
      },
      {
       "output_type": "stream",
       "stream": "stdout",
       "text": [
        "\n",
        "convert -resize 25x25! competition_data/train/hydromedusae_typeE/9348.jpg competition_data/train_25x25/hydromedusae_typeE/9348.jpg"
       ]
      },
      {
       "output_type": "stream",
       "stream": "stdout",
       "text": [
        "\n",
        "convert -resize 25x25! competition_data/train/hydromedusae_typeE/124453.jpg competition_data/train_25x25/hydromedusae_typeE/124453.jpg"
       ]
      },
      {
       "output_type": "stream",
       "stream": "stdout",
       "text": [
        "\n",
        "convert -resize 25x25! competition_data/train/hydromedusae_typeE/153931.jpg competition_data/train_25x25/hydromedusae_typeE/153931.jpg"
       ]
      },
      {
       "output_type": "stream",
       "stream": "stdout",
       "text": [
        "\n",
        "convert -resize 25x25! competition_data/train/hydromedusae_typeE/31803.jpg competition_data/train_25x25/hydromedusae_typeE/31803.jpg"
       ]
      },
      {
       "output_type": "stream",
       "stream": "stdout",
       "text": [
        "\n",
        "convert -resize 25x25! competition_data/train/hydromedusae_typeE/152496.jpg competition_data/train_25x25/hydromedusae_typeE/152496.jpg"
       ]
      },
      {
       "output_type": "stream",
       "stream": "stdout",
       "text": [
        "\n",
        "convert -resize 25x25! competition_data/train/hydromedusae_typeE/123797.jpg competition_data/train_25x25/hydromedusae_typeE/123797.jpg"
       ]
      },
      {
       "output_type": "stream",
       "stream": "stdout",
       "text": [
        "\n",
        "convert -resize 25x25! competition_data/train/hydromedusae_typeE/52215.jpg competition_data/train_25x25/hydromedusae_typeE/52215.jpg"
       ]
      },
      {
       "output_type": "stream",
       "stream": "stdout",
       "text": [
        "\n",
        "convert -resize 25x25! competition_data/train/hydromedusae_typeE/74042.jpg competition_data/train_25x25/hydromedusae_typeE/74042.jpg"
       ]
      },
      {
       "output_type": "stream",
       "stream": "stdout",
       "text": [
        "\n",
        "convert -resize 25x25! competition_data/train/hydromedusae_typeE/1429.jpg competition_data/train_25x25/hydromedusae_typeE/1429.jpg"
       ]
      },
      {
       "output_type": "stream",
       "stream": "stdout",
       "text": [
        "\n",
        "convert -resize 25x25! competition_data/train/hydromedusae_typeF/5212.jpg competition_data/train_25x25/hydromedusae_typeF/5212.jpg"
       ]
      },
      {
       "output_type": "stream",
       "stream": "stdout",
       "text": [
        "\n",
        "convert -resize 25x25! competition_data/train/hydromedusae_typeF/28618.jpg competition_data/train_25x25/hydromedusae_typeF/28618.jpg"
       ]
      },
      {
       "output_type": "stream",
       "stream": "stdout",
       "text": [
        "\n",
        "convert -resize 25x25! competition_data/train/hydromedusae_typeF/96918.jpg competition_data/train_25x25/hydromedusae_typeF/96918.jpg"
       ]
      },
      {
       "output_type": "stream",
       "stream": "stdout",
       "text": [
        "\n",
        "convert -resize 25x25! competition_data/train/hydromedusae_typeF/46580.jpg competition_data/train_25x25/hydromedusae_typeF/46580.jpg\n",
        "convert -resize 25x25! competition_data/train/hydromedusae_typeF/159086.jpg competition_data/train_25x25/hydromedusae_typeF/159086.jpg"
       ]
      },
      {
       "output_type": "stream",
       "stream": "stdout",
       "text": [
        "\n",
        "convert -resize 25x25! competition_data/train/hydromedusae_typeF/33041.jpg competition_data/train_25x25/hydromedusae_typeF/33041.jpg"
       ]
      },
      {
       "output_type": "stream",
       "stream": "stdout",
       "text": [
        "\n",
        "convert -resize 25x25! competition_data/train/hydromedusae_typeF/65399.jpg competition_data/train_25x25/hydromedusae_typeF/65399.jpg\n",
        "convert -resize 25x25! competition_data/train/hydromedusae_typeF/129566.jpg competition_data/train_25x25/hydromedusae_typeF/129566.jpg"
       ]
      },
      {
       "output_type": "stream",
       "stream": "stdout",
       "text": [
        "\n",
        "convert -resize 25x25! competition_data/train/hydromedusae_typeF/135666.jpg competition_data/train_25x25/hydromedusae_typeF/135666.jpg"
       ]
      },
      {
       "output_type": "stream",
       "stream": "stdout",
       "text": [
        "\n",
        "convert -resize 25x25! competition_data/train/hydromedusae_typeF/20274.jpg competition_data/train_25x25/hydromedusae_typeF/20274.jpg\n",
        "convert -resize 25x25! competition_data/train/hydromedusae_typeF/97870.jpg competition_data/train_25x25/hydromedusae_typeF/97870.jpg"
       ]
      },
      {
       "output_type": "stream",
       "stream": "stdout",
       "text": [
        "\n",
        "convert -resize 25x25! competition_data/train/hydromedusae_typeF/134035.jpg competition_data/train_25x25/hydromedusae_typeF/134035.jpg\n",
        "convert -resize 25x25! competition_data/train/hydromedusae_typeF/144050.jpg competition_data/train_25x25/hydromedusae_typeF/144050.jpg"
       ]
      },
      {
       "output_type": "stream",
       "stream": "stdout",
       "text": [
        "\n",
        "convert -resize 25x25! competition_data/train/hydromedusae_typeF/95095.jpg competition_data/train_25x25/hydromedusae_typeF/95095.jpg\n",
        "convert -resize 25x25! competition_data/train/hydromedusae_typeF/100928.jpg competition_data/train_25x25/hydromedusae_typeF/100928.jpg"
       ]
      },
      {
       "output_type": "stream",
       "stream": "stdout",
       "text": [
        "\n",
        "convert -resize 25x25! competition_data/train/hydromedusae_typeF/83477.jpg competition_data/train_25x25/hydromedusae_typeF/83477.jpg\n",
        "convert -resize 25x25! competition_data/train/hydromedusae_typeF/94817.jpg competition_data/train_25x25/hydromedusae_typeF/94817.jpg"
       ]
      },
      {
       "output_type": "stream",
       "stream": "stdout",
       "text": [
        "\n",
        "convert -resize 25x25! competition_data/train/hydromedusae_typeF/26277.jpg competition_data/train_25x25/hydromedusae_typeF/26277.jpg"
       ]
      },
      {
       "output_type": "stream",
       "stream": "stdout",
       "text": [
        "\n",
        "convert -resize 25x25! competition_data/train/hydromedusae_typeF/82428.jpg competition_data/train_25x25/hydromedusae_typeF/82428.jpg"
       ]
      },
      {
       "output_type": "stream",
       "stream": "stdout",
       "text": [
        "\n",
        "convert -resize 25x25! competition_data/train/hydromedusae_typeF/158961.jpg competition_data/train_25x25/hydromedusae_typeF/158961.jpg"
       ]
      },
      {
       "output_type": "stream",
       "stream": "stdout",
       "text": [
        "\n",
        "convert -resize 25x25! competition_data/train/hydromedusae_typeF/155870.jpg competition_data/train_25x25/hydromedusae_typeF/155870.jpg"
       ]
      },
      {
       "output_type": "stream",
       "stream": "stdout",
       "text": [
        "\n",
        "convert -resize 25x25! competition_data/train/hydromedusae_typeF/88178.jpg competition_data/train_25x25/hydromedusae_typeF/88178.jpg"
       ]
      },
      {
       "output_type": "stream",
       "stream": "stdout",
       "text": [
        "\n",
        "convert -resize 25x25! competition_data/train/hydromedusae_typeF/79333.jpg competition_data/train_25x25/hydromedusae_typeF/79333.jpg"
       ]
      },
      {
       "output_type": "stream",
       "stream": "stdout",
       "text": [
        "\n",
        "convert -resize 25x25! competition_data/train/hydromedusae_typeF/102214.jpg competition_data/train_25x25/hydromedusae_typeF/102214.jpg"
       ]
      },
      {
       "output_type": "stream",
       "stream": "stdout",
       "text": [
        "\n",
        "convert -resize 25x25! competition_data/train/hydromedusae_typeF/9949.jpg competition_data/train_25x25/hydromedusae_typeF/9949.jpg"
       ]
      },
      {
       "output_type": "stream",
       "stream": "stdout",
       "text": [
        "\n",
        "convert -resize 25x25! competition_data/train/hydromedusae_typeF/57676.jpg competition_data/train_25x25/hydromedusae_typeF/57676.jpg"
       ]
      },
      {
       "output_type": "stream",
       "stream": "stdout",
       "text": [
        "\n",
        "convert -resize 25x25! competition_data/train/hydromedusae_typeF/69761.jpg competition_data/train_25x25/hydromedusae_typeF/69761.jpg"
       ]
      },
      {
       "output_type": "stream",
       "stream": "stdout",
       "text": [
        "\n",
        "convert -resize 25x25! competition_data/train/hydromedusae_typeF/35564.jpg competition_data/train_25x25/hydromedusae_typeF/35564.jpg"
       ]
      },
      {
       "output_type": "stream",
       "stream": "stdout",
       "text": [
        "\n",
        "convert -resize 25x25! competition_data/train/hydromedusae_typeF/14235.jpg competition_data/train_25x25/hydromedusae_typeF/14235.jpg"
       ]
      },
      {
       "output_type": "stream",
       "stream": "stdout",
       "text": [
        "\n",
        "convert -resize 25x25! competition_data/train/hydromedusae_typeF/132843.jpg competition_data/train_25x25/hydromedusae_typeF/132843.jpg"
       ]
      },
      {
       "output_type": "stream",
       "stream": "stdout",
       "text": [
        "\n",
        "convert -resize 25x25! competition_data/train/hydromedusae_typeF/136027.jpg competition_data/train_25x25/hydromedusae_typeF/136027.jpg"
       ]
      },
      {
       "output_type": "stream",
       "stream": "stdout",
       "text": [
        "\n",
        "convert -resize 25x25! competition_data/train/hydromedusae_typeF/104406.jpg competition_data/train_25x25/hydromedusae_typeF/104406.jpg"
       ]
      },
      {
       "output_type": "stream",
       "stream": "stdout",
       "text": [
        "\n",
        "convert -resize 25x25! competition_data/train/hydromedusae_typeF/60161.jpg competition_data/train_25x25/hydromedusae_typeF/60161.jpg"
       ]
      },
      {
       "output_type": "stream",
       "stream": "stdout",
       "text": [
        "\n",
        "convert -resize 25x25! competition_data/train/hydromedusae_typeF/96715.jpg competition_data/train_25x25/hydromedusae_typeF/96715.jpg"
       ]
      },
      {
       "output_type": "stream",
       "stream": "stdout",
       "text": [
        "\n",
        "convert -resize 25x25! competition_data/train/hydromedusae_typeF/75206.jpg competition_data/train_25x25/hydromedusae_typeF/75206.jpg"
       ]
      },
      {
       "output_type": "stream",
       "stream": "stdout",
       "text": [
        "\n",
        "convert -resize 25x25! competition_data/train/hydromedusae_typeF/29330.jpg competition_data/train_25x25/hydromedusae_typeF/29330.jpg"
       ]
      },
      {
       "output_type": "stream",
       "stream": "stdout",
       "text": [
        "\n",
        "convert -resize 25x25! competition_data/train/hydromedusae_typeF/67661.jpg competition_data/train_25x25/hydromedusae_typeF/67661.jpg"
       ]
      },
      {
       "output_type": "stream",
       "stream": "stdout",
       "text": [
        "\n",
        "convert -resize 25x25! competition_data/train/hydromedusae_typeF/102504.jpg competition_data/train_25x25/hydromedusae_typeF/102504.jpg"
       ]
      },
      {
       "output_type": "stream",
       "stream": "stdout",
       "text": [
        "\n",
        "convert -resize 25x25! competition_data/train/hydromedusae_typeF/91152.jpg competition_data/train_25x25/hydromedusae_typeF/91152.jpg"
       ]
      },
      {
       "output_type": "stream",
       "stream": "stdout",
       "text": [
        "\n",
        "convert -resize 25x25! competition_data/train/hydromedusae_typeF/139179.jpg competition_data/train_25x25/hydromedusae_typeF/139179.jpg"
       ]
      },
      {
       "output_type": "stream",
       "stream": "stdout",
       "text": [
        "\n",
        "convert -resize 25x25! competition_data/train/hydromedusae_typeF/81308.jpg competition_data/train_25x25/hydromedusae_typeF/81308.jpg"
       ]
      },
      {
       "output_type": "stream",
       "stream": "stdout",
       "text": [
        "\n",
        "convert -resize 25x25! competition_data/train/hydromedusae_typeF/121059.jpg competition_data/train_25x25/hydromedusae_typeF/121059.jpg\n",
        "convert -resize 25x25! competition_data/train/hydromedusae_typeF/141130.jpg competition_data/train_25x25/hydromedusae_typeF/141130.jpg"
       ]
      },
      {
       "output_type": "stream",
       "stream": "stdout",
       "text": [
        "\n",
        "convert -resize 25x25! competition_data/train/hydromedusae_typeF/52639.jpg competition_data/train_25x25/hydromedusae_typeF/52639.jpg\n",
        "convert -resize 25x25! competition_data/train/hydromedusae_typeF/98420.jpg competition_data/train_25x25/hydromedusae_typeF/98420.jpg"
       ]
      },
      {
       "output_type": "stream",
       "stream": "stdout",
       "text": [
        "\n",
        "convert -resize 25x25! competition_data/train/hydromedusae_typeF/49623.jpg competition_data/train_25x25/hydromedusae_typeF/49623.jpg\n",
        "convert -resize 25x25! competition_data/train/hydromedusae_typeF/147629.jpg competition_data/train_25x25/hydromedusae_typeF/147629.jpg"
       ]
      },
      {
       "output_type": "stream",
       "stream": "stdout",
       "text": [
        "\n",
        "convert -resize 25x25! competition_data/train/hydromedusae_typeF/106827.jpg competition_data/train_25x25/hydromedusae_typeF/106827.jpg"
       ]
      },
      {
       "output_type": "stream",
       "stream": "stdout",
       "text": [
        "\n",
        "convert -resize 25x25! competition_data/train/hydromedusae_typeF/125451.jpg competition_data/train_25x25/hydromedusae_typeF/125451.jpg\n",
        "convert -resize 25x25! competition_data/train/hydromedusae_typeF/18077.jpg competition_data/train_25x25/hydromedusae_typeF/18077.jpg"
       ]
      },
      {
       "output_type": "stream",
       "stream": "stdout",
       "text": [
        "\n",
        "convert -resize 25x25! competition_data/train/hydromedusae_typeF/60407.jpg competition_data/train_25x25/hydromedusae_typeF/60407.jpg\n",
        "convert -resize 25x25! competition_data/train/hydromedusae_typeF/154935.jpg competition_data/train_25x25/hydromedusae_typeF/154935.jpg"
       ]
      },
      {
       "output_type": "stream",
       "stream": "stdout",
       "text": [
        "\n",
        "convert -resize 25x25! competition_data/train/hydromedusae_typeF/87328.jpg competition_data/train_25x25/hydromedusae_typeF/87328.jpg"
       ]
      },
      {
       "output_type": "stream",
       "stream": "stdout",
       "text": [
        "\n",
        "convert -resize 25x25! competition_data/train/hydromedusae_typeF/112245.jpg competition_data/train_25x25/hydromedusae_typeF/112245.jpg\n",
        "convert -resize 25x25! competition_data/train/hydromedusae_typeF/75022.jpg competition_data/train_25x25/hydromedusae_typeF/75022.jpg"
       ]
      },
      {
       "output_type": "stream",
       "stream": "stdout",
       "text": [
        "\n",
        "convert -resize 25x25! competition_data/train/hydromedusae_typeF/68510.jpg competition_data/train_25x25/hydromedusae_typeF/68510.jpg"
       ]
      },
      {
       "output_type": "stream",
       "stream": "stdout",
       "text": [
        "\n",
        "convert -resize 25x25! competition_data/train/hydromedusae_typeF/83383.jpg competition_data/train_25x25/hydromedusae_typeF/83383.jpg"
       ]
      },
      {
       "output_type": "stream",
       "stream": "stdout",
       "text": [
        "\n",
        "convert -resize 25x25! competition_data/train/hydromedusae_typeF/31978.jpg competition_data/train_25x25/hydromedusae_typeF/31978.jpg"
       ]
      },
      {
       "output_type": "stream",
       "stream": "stdout",
       "text": [
        "\n",
        "convert -resize 25x25! competition_data/train/hydromedusae_typeF/28915.jpg competition_data/train_25x25/hydromedusae_typeF/28915.jpg"
       ]
      },
      {
       "output_type": "stream",
       "stream": "stdout",
       "text": [
        "\n",
        "convert -resize 25x25! competition_data/train/hydromedusae_typeF/95266.jpg competition_data/train_25x25/hydromedusae_typeF/95266.jpg"
       ]
      },
      {
       "output_type": "stream",
       "stream": "stdout",
       "text": [
        "\n",
        "convert -resize 25x25! competition_data/train/hydromedusae_typeF/29344.jpg competition_data/train_25x25/hydromedusae_typeF/29344.jpg"
       ]
      },
      {
       "output_type": "stream",
       "stream": "stdout",
       "text": [
        "\n",
        "convert -resize 25x25! competition_data/train/echinopluteus/72085.jpg competition_data/train_25x25/echinopluteus/72085.jpg"
       ]
      },
      {
       "output_type": "stream",
       "stream": "stdout",
       "text": [
        "\n",
        "convert -resize 25x25! competition_data/train/echinopluteus/39505.jpg competition_data/train_25x25/echinopluteus/39505.jpg"
       ]
      },
      {
       "output_type": "stream",
       "stream": "stdout",
       "text": [
        "\n",
        "convert -resize 25x25! competition_data/train/echinopluteus/142817.jpg competition_data/train_25x25/echinopluteus/142817.jpg"
       ]
      },
      {
       "output_type": "stream",
       "stream": "stdout",
       "text": [
        "\n",
        "convert -resize 25x25! competition_data/train/echinopluteus/160621.jpg competition_data/train_25x25/echinopluteus/160621.jpg"
       ]
      },
      {
       "output_type": "stream",
       "stream": "stdout",
       "text": [
        "\n",
        "convert -resize 25x25! competition_data/train/echinopluteus/145696.jpg competition_data/train_25x25/echinopluteus/145696.jpg"
       ]
      },
      {
       "output_type": "stream",
       "stream": "stdout",
       "text": [
        "\n",
        "convert -resize 25x25! competition_data/train/echinopluteus/19611.jpg competition_data/train_25x25/echinopluteus/19611.jpg"
       ]
      },
      {
       "output_type": "stream",
       "stream": "stdout",
       "text": [
        "\n",
        "convert -resize 25x25! competition_data/train/echinopluteus/96466.jpg competition_data/train_25x25/echinopluteus/96466.jpg"
       ]
      },
      {
       "output_type": "stream",
       "stream": "stdout",
       "text": [
        "\n",
        "convert -resize 25x25! competition_data/train/echinopluteus/112241.jpg competition_data/train_25x25/echinopluteus/112241.jpg"
       ]
      },
      {
       "output_type": "stream",
       "stream": "stdout",
       "text": [
        "\n",
        "convert -resize 25x25! competition_data/train/echinopluteus/150086.jpg competition_data/train_25x25/echinopluteus/150086.jpg"
       ]
      },
      {
       "output_type": "stream",
       "stream": "stdout",
       "text": [
        "\n",
        "convert -resize 25x25! competition_data/train/echinopluteus/133844.jpg competition_data/train_25x25/echinopluteus/133844.jpg"
       ]
      },
      {
       "output_type": "stream",
       "stream": "stdout",
       "text": [
        "\n",
        "convert -resize 25x25! competition_data/train/echinopluteus/123747.jpg competition_data/train_25x25/echinopluteus/123747.jpg"
       ]
      },
      {
       "output_type": "stream",
       "stream": "stdout",
       "text": [
        "\n",
        "convert -resize 25x25! competition_data/train/echinopluteus/66359.jpg competition_data/train_25x25/echinopluteus/66359.jpg"
       ]
      },
      {
       "output_type": "stream",
       "stream": "stdout",
       "text": [
        "\n",
        "convert -resize 25x25! competition_data/train/echinopluteus/132791.jpg competition_data/train_25x25/echinopluteus/132791.jpg"
       ]
      },
      {
       "output_type": "stream",
       "stream": "stdout",
       "text": [
        "\n",
        "convert -resize 25x25! competition_data/train/echinopluteus/95338.jpg competition_data/train_25x25/echinopluteus/95338.jpg"
       ]
      },
      {
       "output_type": "stream",
       "stream": "stdout",
       "text": [
        "\n",
        "convert -resize 25x25! competition_data/train/echinopluteus/142299.jpg competition_data/train_25x25/echinopluteus/142299.jpg"
       ]
      },
      {
       "output_type": "stream",
       "stream": "stdout",
       "text": [
        "\n",
        "convert -resize 25x25! competition_data/train/echinopluteus/126444.jpg competition_data/train_25x25/echinopluteus/126444.jpg"
       ]
      },
      {
       "output_type": "stream",
       "stream": "stdout",
       "text": [
        "\n",
        "convert -resize 25x25! competition_data/train/echinopluteus/144438.jpg competition_data/train_25x25/echinopluteus/144438.jpg\n",
        "convert -resize 25x25! competition_data/train/echinopluteus/76458.jpg competition_data/train_25x25/echinopluteus/76458.jpg"
       ]
      },
      {
       "output_type": "stream",
       "stream": "stdout",
       "text": [
        "\n",
        "convert -resize 25x25! competition_data/train/echinopluteus/10334.jpg competition_data/train_25x25/echinopluteus/10334.jpg\n",
        "convert -resize 25x25! competition_data/train/echinopluteus/147736.jpg competition_data/train_25x25/echinopluteus/147736.jpg"
       ]
      },
      {
       "output_type": "stream",
       "stream": "stdout",
       "text": [
        "\n",
        "convert -resize 25x25! competition_data/train/echinopluteus/69359.jpg competition_data/train_25x25/echinopluteus/69359.jpg\n",
        "convert -resize 25x25! competition_data/train/echinopluteus/18624.jpg competition_data/train_25x25/echinopluteus/18624.jpg"
       ]
      },
      {
       "output_type": "stream",
       "stream": "stdout",
       "text": [
        "\n",
        "convert -resize 25x25! competition_data/train/echinopluteus/24119.jpg competition_data/train_25x25/echinopluteus/24119.jpg\n",
        "convert -resize 25x25! competition_data/train/echinopluteus/69682.jpg competition_data/train_25x25/echinopluteus/69682.jpg"
       ]
      },
      {
       "output_type": "stream",
       "stream": "stdout",
       "text": [
        "\n",
        "convert -resize 25x25! competition_data/train/echinopluteus/70649.jpg competition_data/train_25x25/echinopluteus/70649.jpg"
       ]
      },
      {
       "output_type": "stream",
       "stream": "stdout",
       "text": [
        "\n",
        "convert -resize 25x25! competition_data/train/echinopluteus/4595.jpg competition_data/train_25x25/echinopluteus/4595.jpg\n",
        "convert -resize 25x25! competition_data/train/echinopluteus/27866.jpg competition_data/train_25x25/echinopluteus/27866.jpg"
       ]
      },
      {
       "output_type": "stream",
       "stream": "stdout",
       "text": [
        "\n",
        "convert -resize 25x25! competition_data/train/appendicularian_fritillaridae/121965.jpg competition_data/train_25x25/appendicularian_fritillaridae/121965.jpg"
       ]
      },
      {
       "output_type": "stream",
       "stream": "stdout",
       "text": [
        "\n",
        "convert -resize 25x25! competition_data/train/appendicularian_fritillaridae/13746.jpg competition_data/train_25x25/appendicularian_fritillaridae/13746.jpg"
       ]
      },
      {
       "output_type": "stream",
       "stream": "stdout",
       "text": [
        "\n",
        "convert -resize 25x25! competition_data/train/appendicularian_fritillaridae/83027.jpg competition_data/train_25x25/appendicularian_fritillaridae/83027.jpg\n",
        "convert -resize 25x25! competition_data/train/appendicularian_fritillaridae/28634.jpg competition_data/train_25x25/appendicularian_fritillaridae/28634.jpg"
       ]
      },
      {
       "output_type": "stream",
       "stream": "stdout",
       "text": [
        "\n",
        "convert -resize 25x25! competition_data/train/appendicularian_fritillaridae/139763.jpg competition_data/train_25x25/appendicularian_fritillaridae/139763.jpg"
       ]
      },
      {
       "output_type": "stream",
       "stream": "stdout",
       "text": [
        "\n",
        "convert -resize 25x25! competition_data/train/appendicularian_fritillaridae/38919.jpg competition_data/train_25x25/appendicularian_fritillaridae/38919.jpg"
       ]
      },
      {
       "output_type": "stream",
       "stream": "stdout",
       "text": [
        "\n",
        "convert -resize 25x25! competition_data/train/appendicularian_fritillaridae/79203.jpg competition_data/train_25x25/appendicularian_fritillaridae/79203.jpg"
       ]
      },
      {
       "output_type": "stream",
       "stream": "stdout",
       "text": [
        "\n",
        "convert -resize 25x25! competition_data/train/appendicularian_fritillaridae/82383.jpg competition_data/train_25x25/appendicularian_fritillaridae/82383.jpg"
       ]
      },
      {
       "output_type": "stream",
       "stream": "stdout",
       "text": [
        "\n",
        "convert -resize 25x25! competition_data/train/appendicularian_fritillaridae/81365.jpg competition_data/train_25x25/appendicularian_fritillaridae/81365.jpg"
       ]
      },
      {
       "output_type": "stream",
       "stream": "stdout",
       "text": [
        "\n",
        "convert -resize 25x25! competition_data/train/appendicularian_fritillaridae/49760.jpg competition_data/train_25x25/appendicularian_fritillaridae/49760.jpg"
       ]
      },
      {
       "output_type": "stream",
       "stream": "stdout",
       "text": [
        "\n",
        "convert -resize 25x25! competition_data/train/appendicularian_fritillaridae/56822.jpg competition_data/train_25x25/appendicularian_fritillaridae/56822.jpg"
       ]
      },
      {
       "output_type": "stream",
       "stream": "stdout",
       "text": [
        "\n",
        "convert -resize 25x25! competition_data/train/appendicularian_fritillaridae/2544.jpg competition_data/train_25x25/appendicularian_fritillaridae/2544.jpg"
       ]
      },
      {
       "output_type": "stream",
       "stream": "stdout",
       "text": [
        "\n",
        "convert -resize 25x25! competition_data/train/appendicularian_fritillaridae/73477.jpg competition_data/train_25x25/appendicularian_fritillaridae/73477.jpg"
       ]
      },
      {
       "output_type": "stream",
       "stream": "stdout",
       "text": [
        "\n",
        "convert -resize 25x25! competition_data/train/appendicularian_fritillaridae/49962.jpg competition_data/train_25x25/appendicularian_fritillaridae/49962.jpg"
       ]
      },
      {
       "output_type": "stream",
       "stream": "stdout",
       "text": [
        "\n",
        "convert -resize 25x25! competition_data/train/appendicularian_fritillaridae/81932.jpg competition_data/train_25x25/appendicularian_fritillaridae/81932.jpg"
       ]
      },
      {
       "output_type": "stream",
       "stream": "stdout",
       "text": [
        "\n",
        "convert -resize 25x25! competition_data/train/appendicularian_fritillaridae/88794.jpg competition_data/train_25x25/appendicularian_fritillaridae/88794.jpg"
       ]
      },
      {
       "output_type": "stream",
       "stream": "stdout",
       "text": [
        "\n",
        "convert -resize 25x25! competition_data/train/hydromedusae_narco_dark/134197.jpg competition_data/train_25x25/hydromedusae_narco_dark/134197.jpg"
       ]
      },
      {
       "output_type": "stream",
       "stream": "stdout",
       "text": [
        "\n",
        "convert -resize 25x25! competition_data/train/hydromedusae_narco_dark/59244.jpg competition_data/train_25x25/hydromedusae_narco_dark/59244.jpg"
       ]
      },
      {
       "output_type": "stream",
       "stream": "stdout",
       "text": [
        "\n",
        "convert -resize 25x25! competition_data/train/hydromedusae_narco_dark/77379.jpg competition_data/train_25x25/hydromedusae_narco_dark/77379.jpg"
       ]
      },
      {
       "output_type": "stream",
       "stream": "stdout",
       "text": [
        "\n",
        "convert -resize 25x25! competition_data/train/hydromedusae_narco_dark/108018.jpg competition_data/train_25x25/hydromedusae_narco_dark/108018.jpg"
       ]
      },
      {
       "output_type": "stream",
       "stream": "stdout",
       "text": [
        "\n",
        "convert -resize 25x25! competition_data/train/hydromedusae_narco_dark/145327.jpg competition_data/train_25x25/hydromedusae_narco_dark/145327.jpg"
       ]
      },
      {
       "output_type": "stream",
       "stream": "stdout",
       "text": [
        "\n",
        "convert -resize 25x25! competition_data/train/hydromedusae_narco_dark/16245.jpg competition_data/train_25x25/hydromedusae_narco_dark/16245.jpg"
       ]
      },
      {
       "output_type": "stream",
       "stream": "stdout",
       "text": [
        "\n",
        "convert -resize 25x25! competition_data/train/hydromedusae_narco_dark/62372.jpg competition_data/train_25x25/hydromedusae_narco_dark/62372.jpg"
       ]
      },
      {
       "output_type": "stream",
       "stream": "stdout",
       "text": [
        "\n",
        "convert -resize 25x25! competition_data/train/hydromedusae_narco_dark/75996.jpg competition_data/train_25x25/hydromedusae_narco_dark/75996.jpg"
       ]
      },
      {
       "output_type": "stream",
       "stream": "stdout",
       "text": [
        "\n",
        "convert -resize 25x25! competition_data/train/hydromedusae_narco_dark/58488.jpg competition_data/train_25x25/hydromedusae_narco_dark/58488.jpg"
       ]
      },
      {
       "output_type": "stream",
       "stream": "stdout",
       "text": [
        "\n",
        "convert -resize 25x25! competition_data/train/hydromedusae_narco_dark/6272.jpg competition_data/train_25x25/hydromedusae_narco_dark/6272.jpg"
       ]
      },
      {
       "output_type": "stream",
       "stream": "stdout",
       "text": [
        "\n",
        "convert -resize 25x25! competition_data/train/hydromedusae_narco_dark/13809.jpg competition_data/train_25x25/hydromedusae_narco_dark/13809.jpg"
       ]
      },
      {
       "output_type": "stream",
       "stream": "stdout",
       "text": [
        "\n",
        "convert -resize 25x25! competition_data/train/hydromedusae_narco_dark/22673.jpg competition_data/train_25x25/hydromedusae_narco_dark/22673.jpg"
       ]
      },
      {
       "output_type": "stream",
       "stream": "stdout",
       "text": [
        "\n",
        "convert -resize 25x25! competition_data/train/hydromedusae_narco_dark/66383.jpg competition_data/train_25x25/hydromedusae_narco_dark/66383.jpg\n",
        "convert -resize 25x25! competition_data/train/hydromedusae_narco_dark/118846.jpg competition_data/train_25x25/hydromedusae_narco_dark/118846.jpg"
       ]
      },
      {
       "output_type": "stream",
       "stream": "stdout",
       "text": [
        "\n",
        "convert -resize 25x25! competition_data/train/hydromedusae_narco_dark/35482.jpg competition_data/train_25x25/hydromedusae_narco_dark/35482.jpg\n",
        "convert -resize 25x25! competition_data/train/hydromedusae_narco_dark/26443.jpg competition_data/train_25x25/hydromedusae_narco_dark/26443.jpg"
       ]
      },
      {
       "output_type": "stream",
       "stream": "stdout",
       "text": [
        "\n",
        "convert -resize 25x25! competition_data/train/hydromedusae_narco_dark/114286.jpg competition_data/train_25x25/hydromedusae_narco_dark/114286.jpg\n",
        "convert -resize 25x25! competition_data/train/hydromedusae_narco_dark/41606.jpg competition_data/train_25x25/hydromedusae_narco_dark/41606.jpg"
       ]
      },
      {
       "output_type": "stream",
       "stream": "stdout",
       "text": [
        "\n",
        "convert -resize 25x25! competition_data/train/hydromedusae_narco_dark/4665.jpg competition_data/train_25x25/hydromedusae_narco_dark/4665.jpg\n",
        "convert -resize 25x25! competition_data/train/hydromedusae_narco_dark/114068.jpg competition_data/train_25x25/hydromedusae_narco_dark/114068.jpg"
       ]
      },
      {
       "output_type": "stream",
       "stream": "stdout",
       "text": [
        "\n",
        "convert -resize 25x25! competition_data/train/hydromedusae_narco_dark/97232.jpg competition_data/train_25x25/hydromedusae_narco_dark/97232.jpg\n",
        "convert -resize 25x25! competition_data/train/hydromedusae_narco_dark/9450.jpg competition_data/train_25x25/hydromedusae_narco_dark/9450.jpg"
       ]
      },
      {
       "output_type": "stream",
       "stream": "stdout",
       "text": [
        "\n",
        "convert -resize 25x25! competition_data/train/hydromedusae_narco_dark/135267.jpg competition_data/train_25x25/hydromedusae_narco_dark/135267.jpg"
       ]
      },
      {
       "output_type": "stream",
       "stream": "stdout",
       "text": [
        "\n",
        "convert -resize 25x25! competition_data/train/shrimp-like_other/20434.jpg competition_data/train_25x25/shrimp-like_other/20434.jpg"
       ]
      },
      {
       "output_type": "stream",
       "stream": "stdout",
       "text": [
        "\n",
        "convert -resize 25x25! competition_data/train/shrimp-like_other/81735.jpg competition_data/train_25x25/shrimp-like_other/81735.jpg"
       ]
      },
      {
       "output_type": "stream",
       "stream": "stdout",
       "text": [
        "\n",
        "convert -resize 25x25! competition_data/train/shrimp-like_other/67699.jpg competition_data/train_25x25/shrimp-like_other/67699.jpg"
       ]
      },
      {
       "output_type": "stream",
       "stream": "stdout",
       "text": [
        "\n",
        "convert -resize 25x25! competition_data/train/shrimp-like_other/48781.jpg competition_data/train_25x25/shrimp-like_other/48781.jpg"
       ]
      },
      {
       "output_type": "stream",
       "stream": "stdout",
       "text": [
        "\n",
        "convert -resize 25x25! competition_data/train/shrimp-like_other/4575.jpg competition_data/train_25x25/shrimp-like_other/4575.jpg"
       ]
      },
      {
       "output_type": "stream",
       "stream": "stdout",
       "text": [
        "\n",
        "convert -resize 25x25! competition_data/train/shrimp-like_other/27458.jpg competition_data/train_25x25/shrimp-like_other/27458.jpg"
       ]
      },
      {
       "output_type": "stream",
       "stream": "stdout",
       "text": [
        "\n",
        "convert -resize 25x25! competition_data/train/shrimp-like_other/107086.jpg competition_data/train_25x25/shrimp-like_other/107086.jpg"
       ]
      },
      {
       "output_type": "stream",
       "stream": "stdout",
       "text": [
        "\n",
        "convert -resize 25x25! competition_data/train/shrimp-like_other/9833.jpg competition_data/train_25x25/shrimp-like_other/9833.jpg"
       ]
      },
      {
       "output_type": "stream",
       "stream": "stdout",
       "text": [
        "\n",
        "convert -resize 25x25! competition_data/train/shrimp-like_other/49437.jpg competition_data/train_25x25/shrimp-like_other/49437.jpg"
       ]
      },
      {
       "output_type": "stream",
       "stream": "stdout",
       "text": [
        "\n",
        "convert -resize 25x25! competition_data/train/shrimp-like_other/37645.jpg competition_data/train_25x25/shrimp-like_other/37645.jpg"
       ]
      },
      {
       "output_type": "stream",
       "stream": "stdout",
       "text": [
        "\n",
        "convert -resize 25x25! competition_data/train/shrimp-like_other/103763.jpg competition_data/train_25x25/shrimp-like_other/103763.jpg"
       ]
      },
      {
       "output_type": "stream",
       "stream": "stdout",
       "text": [
        "\n",
        "convert -resize 25x25! competition_data/train/shrimp-like_other/79170.jpg competition_data/train_25x25/shrimp-like_other/79170.jpg"
       ]
      },
      {
       "output_type": "stream",
       "stream": "stdout",
       "text": [
        "\n",
        "convert -resize 25x25! competition_data/train/shrimp-like_other/150968.jpg competition_data/train_25x25/shrimp-like_other/150968.jpg"
       ]
      },
      {
       "output_type": "stream",
       "stream": "stdout",
       "text": [
        "\n",
        "convert -resize 25x25! competition_data/train/shrimp-like_other/141585.jpg competition_data/train_25x25/shrimp-like_other/141585.jpg"
       ]
      },
      {
       "output_type": "stream",
       "stream": "stdout",
       "text": [
        "\n",
        "convert -resize 25x25! competition_data/train/shrimp-like_other/146312.jpg competition_data/train_25x25/shrimp-like_other/146312.jpg"
       ]
      },
      {
       "output_type": "stream",
       "stream": "stdout",
       "text": [
        "\n",
        "convert -resize 25x25! competition_data/train/shrimp-like_other/118487.jpg competition_data/train_25x25/shrimp-like_other/118487.jpg"
       ]
      },
      {
       "output_type": "stream",
       "stream": "stdout",
       "text": [
        "\n",
        "convert -resize 25x25! competition_data/train/shrimp-like_other/93858.jpg competition_data/train_25x25/shrimp-like_other/93858.jpg"
       ]
      },
      {
       "output_type": "stream",
       "stream": "stdout",
       "text": [
        "\n",
        "convert -resize 25x25! competition_data/train/shrimp-like_other/77982.jpg competition_data/train_25x25/shrimp-like_other/77982.jpg"
       ]
      },
      {
       "output_type": "stream",
       "stream": "stdout",
       "text": [
        "\n",
        "convert -resize 25x25! competition_data/train/shrimp-like_other/6168.jpg competition_data/train_25x25/shrimp-like_other/6168.jpg"
       ]
      },
      {
       "output_type": "stream",
       "stream": "stdout",
       "text": [
        "\n",
        "convert -resize 25x25! competition_data/train/shrimp-like_other/25251.jpg competition_data/train_25x25/shrimp-like_other/25251.jpg"
       ]
      },
      {
       "output_type": "stream",
       "stream": "stdout",
       "text": [
        "\n",
        "convert -resize 25x25! competition_data/train/shrimp-like_other/138979.jpg competition_data/train_25x25/shrimp-like_other/138979.jpg\n",
        "convert -resize 25x25! competition_data/train/shrimp-like_other/110083.jpg competition_data/train_25x25/shrimp-like_other/110083.jpg"
       ]
      },
      {
       "output_type": "stream",
       "stream": "stdout",
       "text": [
        "\n",
        "convert -resize 25x25! competition_data/train/shrimp-like_other/114911.jpg competition_data/train_25x25/shrimp-like_other/114911.jpg\n",
        "convert -resize 25x25! competition_data/train/shrimp-like_other/156698.jpg competition_data/train_25x25/shrimp-like_other/156698.jpg"
       ]
      },
      {
       "output_type": "stream",
       "stream": "stdout",
       "text": [
        "\n",
        "convert -resize 25x25! competition_data/train/shrimp-like_other/6721.jpg competition_data/train_25x25/shrimp-like_other/6721.jpg\n",
        "convert -resize 25x25! competition_data/train/shrimp-like_other/70258.jpg competition_data/train_25x25/shrimp-like_other/70258.jpg"
       ]
      },
      {
       "output_type": "stream",
       "stream": "stdout",
       "text": [
        "\n",
        "convert -resize 25x25! competition_data/train/shrimp-like_other/32163.jpg competition_data/train_25x25/shrimp-like_other/32163.jpg\n",
        "convert -resize 25x25! competition_data/train/shrimp-like_other/90990.jpg competition_data/train_25x25/shrimp-like_other/90990.jpg"
       ]
      },
      {
       "output_type": "stream",
       "stream": "stdout",
       "text": [
        "\n",
        "convert -resize 25x25! competition_data/train/shrimp-like_other/159104.jpg competition_data/train_25x25/shrimp-like_other/159104.jpg\n",
        "convert -resize 25x25! competition_data/train/shrimp-like_other/39784.jpg competition_data/train_25x25/shrimp-like_other/39784.jpg"
       ]
      },
      {
       "output_type": "stream",
       "stream": "stdout",
       "text": [
        "\n",
        "convert -resize 25x25! competition_data/train/shrimp-like_other/35632.jpg competition_data/train_25x25/shrimp-like_other/35632.jpg"
       ]
      },
      {
       "output_type": "stream",
       "stream": "stdout",
       "text": [
        "\n",
        "convert -resize 25x25! competition_data/train/shrimp-like_other/138196.jpg competition_data/train_25x25/shrimp-like_other/138196.jpg\n",
        "convert -resize 25x25! competition_data/train/shrimp-like_other/116491.jpg competition_data/train_25x25/shrimp-like_other/116491.jpg"
       ]
      },
      {
       "output_type": "stream",
       "stream": "stdout",
       "text": [
        "\n",
        "convert -resize 25x25! competition_data/train/shrimp-like_other/2648.jpg competition_data/train_25x25/shrimp-like_other/2648.jpg"
       ]
      },
      {
       "output_type": "stream",
       "stream": "stdout",
       "text": [
        "\n",
        "convert -resize 25x25! competition_data/train/shrimp-like_other/67185.jpg competition_data/train_25x25/shrimp-like_other/67185.jpg\n",
        "convert -resize 25x25! competition_data/train/shrimp-like_other/28653.jpg competition_data/train_25x25/shrimp-like_other/28653.jpg"
       ]
      },
      {
       "output_type": "stream",
       "stream": "stdout",
       "text": [
        "\n",
        "convert -resize 25x25! competition_data/train/shrimp-like_other/48397.jpg competition_data/train_25x25/shrimp-like_other/48397.jpg"
       ]
      },
      {
       "output_type": "stream",
       "stream": "stdout",
       "text": [
        "\n",
        "convert -resize 25x25! competition_data/train/shrimp-like_other/77536.jpg competition_data/train_25x25/shrimp-like_other/77536.jpg"
       ]
      },
      {
       "output_type": "stream",
       "stream": "stdout",
       "text": [
        "\n",
        "convert -resize 25x25! competition_data/train/shrimp-like_other/92338.jpg competition_data/train_25x25/shrimp-like_other/92338.jpg"
       ]
      },
      {
       "output_type": "stream",
       "stream": "stdout",
       "text": [
        "\n",
        "convert -resize 25x25! competition_data/train/shrimp-like_other/26113.jpg competition_data/train_25x25/shrimp-like_other/26113.jpg"
       ]
      },
      {
       "output_type": "stream",
       "stream": "stdout",
       "text": [
        "\n",
        "convert -resize 25x25! competition_data/train/shrimp-like_other/127499.jpg competition_data/train_25x25/shrimp-like_other/127499.jpg"
       ]
      },
      {
       "output_type": "stream",
       "stream": "stdout",
       "text": [
        "\n",
        "convert -resize 25x25! competition_data/train/shrimp-like_other/9555.jpg competition_data/train_25x25/shrimp-like_other/9555.jpg"
       ]
      },
      {
       "output_type": "stream",
       "stream": "stdout",
       "text": [
        "\n",
        "convert -resize 25x25! competition_data/train/shrimp-like_other/7699.jpg competition_data/train_25x25/shrimp-like_other/7699.jpg"
       ]
      },
      {
       "output_type": "stream",
       "stream": "stdout",
       "text": [
        "\n",
        "convert -resize 25x25! competition_data/train/shrimp-like_other/22082.jpg competition_data/train_25x25/shrimp-like_other/22082.jpg"
       ]
      },
      {
       "output_type": "stream",
       "stream": "stdout",
       "text": [
        "\n",
        "convert -resize 25x25! competition_data/train/shrimp-like_other/37264.jpg competition_data/train_25x25/shrimp-like_other/37264.jpg"
       ]
      },
      {
       "output_type": "stream",
       "stream": "stdout",
       "text": [
        "\n",
        "convert -resize 25x25! competition_data/train/shrimp-like_other/16563.jpg competition_data/train_25x25/shrimp-like_other/16563.jpg"
       ]
      },
      {
       "output_type": "stream",
       "stream": "stdout",
       "text": [
        "\n",
        "convert -resize 25x25! competition_data/train/shrimp-like_other/75125.jpg competition_data/train_25x25/shrimp-like_other/75125.jpg"
       ]
      },
      {
       "output_type": "stream",
       "stream": "stdout",
       "text": [
        "\n",
        "convert -resize 25x25! competition_data/train/shrimp-like_other/32392.jpg competition_data/train_25x25/shrimp-like_other/32392.jpg"
       ]
      },
      {
       "output_type": "stream",
       "stream": "stdout",
       "text": [
        "\n",
        "convert -resize 25x25! competition_data/train/shrimp-like_other/114147.jpg competition_data/train_25x25/shrimp-like_other/114147.jpg"
       ]
      },
      {
       "output_type": "stream",
       "stream": "stdout",
       "text": [
        "\n",
        "convert -resize 25x25! competition_data/train/shrimp-like_other/143692.jpg competition_data/train_25x25/shrimp-like_other/143692.jpg"
       ]
      },
      {
       "output_type": "stream",
       "stream": "stdout",
       "text": [
        "\n",
        "convert -resize 25x25! competition_data/train/shrimp-like_other/7325.jpg competition_data/train_25x25/shrimp-like_other/7325.jpg"
       ]
      },
      {
       "output_type": "stream",
       "stream": "stdout",
       "text": [
        "\n",
        "convert -resize 25x25! competition_data/train/shrimp-like_other/87777.jpg competition_data/train_25x25/shrimp-like_other/87777.jpg"
       ]
      },
      {
       "output_type": "stream",
       "stream": "stdout",
       "text": [
        "\n",
        "convert -resize 25x25! competition_data/train/shrimp_caridean/1822.jpg competition_data/train_25x25/shrimp_caridean/1822.jpg"
       ]
      },
      {
       "output_type": "stream",
       "stream": "stdout",
       "text": [
        "\n",
        "convert -resize 25x25! competition_data/train/shrimp_caridean/75535.jpg competition_data/train_25x25/shrimp_caridean/75535.jpg"
       ]
      },
      {
       "output_type": "stream",
       "stream": "stdout",
       "text": [
        "\n",
        "convert -resize 25x25! competition_data/train/shrimp_caridean/123624.jpg competition_data/train_25x25/shrimp_caridean/123624.jpg"
       ]
      },
      {
       "output_type": "stream",
       "stream": "stdout",
       "text": [
        "\n",
        "convert -resize 25x25! competition_data/train/shrimp_caridean/146405.jpg competition_data/train_25x25/shrimp_caridean/146405.jpg"
       ]
      },
      {
       "output_type": "stream",
       "stream": "stdout",
       "text": [
        "\n",
        "convert -resize 25x25! competition_data/train/shrimp_caridean/129771.jpg competition_data/train_25x25/shrimp_caridean/129771.jpg\n",
        "convert -resize 25x25! competition_data/train/shrimp_caridean/14128.jpg competition_data/train_25x25/shrimp_caridean/14128.jpg"
       ]
      },
      {
       "output_type": "stream",
       "stream": "stdout",
       "text": [
        "\n",
        "convert -resize 25x25! competition_data/train/shrimp_caridean/82628.jpg competition_data/train_25x25/shrimp_caridean/82628.jpg\n",
        "convert -resize 25x25! competition_data/train/shrimp_caridean/84656.jpg competition_data/train_25x25/shrimp_caridean/84656.jpg"
       ]
      },
      {
       "output_type": "stream",
       "stream": "stdout",
       "text": [
        "\n",
        "convert -resize 25x25! competition_data/train/shrimp_caridean/22003.jpg competition_data/train_25x25/shrimp_caridean/22003.jpg\n",
        "convert -resize 25x25! competition_data/train/shrimp_caridean/7330.jpg competition_data/train_25x25/shrimp_caridean/7330.jpg"
       ]
      },
      {
       "output_type": "stream",
       "stream": "stdout",
       "text": [
        "\n",
        "convert -resize 25x25! competition_data/train/shrimp_caridean/50490.jpg competition_data/train_25x25/shrimp_caridean/50490.jpg"
       ]
      },
      {
       "output_type": "stream",
       "stream": "stdout",
       "text": [
        "\n",
        "convert -resize 25x25! competition_data/train/shrimp_caridean/145772.jpg competition_data/train_25x25/shrimp_caridean/145772.jpg\n",
        "convert -resize 25x25! competition_data/train/shrimp_caridean/107094.jpg competition_data/train_25x25/shrimp_caridean/107094.jpg"
       ]
      },
      {
       "output_type": "stream",
       "stream": "stdout",
       "text": [
        "\n",
        "convert -resize 25x25! competition_data/train/shrimp_caridean/62609.jpg competition_data/train_25x25/shrimp_caridean/62609.jpg"
       ]
      },
      {
       "output_type": "stream",
       "stream": "stdout",
       "text": [
        "\n",
        "convert -resize 25x25! competition_data/train/shrimp_caridean/156388.jpg competition_data/train_25x25/shrimp_caridean/156388.jpg\n",
        "convert -resize 25x25! competition_data/train/shrimp_caridean/154085.jpg competition_data/train_25x25/shrimp_caridean/154085.jpg"
       ]
      },
      {
       "output_type": "stream",
       "stream": "stdout",
       "text": [
        "\n",
        "convert -resize 25x25! competition_data/train/shrimp_caridean/52592.jpg competition_data/train_25x25/shrimp_caridean/52592.jpg\n",
        "convert -resize 25x25! competition_data/train/shrimp_caridean/56596.jpg competition_data/train_25x25/shrimp_caridean/56596.jpg"
       ]
      },
      {
       "output_type": "stream",
       "stream": "stdout",
       "text": [
        "\n",
        "convert -resize 25x25! competition_data/train/shrimp_caridean/160315.jpg competition_data/train_25x25/shrimp_caridean/160315.jpg\n",
        "convert -resize 25x25! competition_data/train/shrimp_caridean/88681.jpg competition_data/train_25x25/shrimp_caridean/88681.jpg"
       ]
      },
      {
       "output_type": "stream",
       "stream": "stdout",
       "text": [
        "\n",
        "convert -resize 25x25! competition_data/train/shrimp_caridean/136615.jpg competition_data/train_25x25/shrimp_caridean/136615.jpg"
       ]
      },
      {
       "output_type": "stream",
       "stream": "stdout",
       "text": [
        "\n",
        "convert -resize 25x25! competition_data/train/shrimp_caridean/20784.jpg competition_data/train_25x25/shrimp_caridean/20784.jpg"
       ]
      },
      {
       "output_type": "stream",
       "stream": "stdout",
       "text": [
        "\n",
        "convert -resize 25x25! competition_data/train/shrimp_caridean/29223.jpg competition_data/train_25x25/shrimp_caridean/29223.jpg"
       ]
      },
      {
       "output_type": "stream",
       "stream": "stdout",
       "text": [
        "\n",
        "convert -resize 25x25! competition_data/train/shrimp_caridean/93941.jpg competition_data/train_25x25/shrimp_caridean/93941.jpg"
       ]
      },
      {
       "output_type": "stream",
       "stream": "stdout",
       "text": [
        "\n",
        "convert -resize 25x25! competition_data/train/shrimp_caridean/22392.jpg competition_data/train_25x25/shrimp_caridean/22392.jpg"
       ]
      },
      {
       "output_type": "stream",
       "stream": "stdout",
       "text": [
        "\n",
        "convert -resize 25x25! competition_data/train/shrimp_caridean/99330.jpg competition_data/train_25x25/shrimp_caridean/99330.jpg"
       ]
      },
      {
       "output_type": "stream",
       "stream": "stdout",
       "text": [
        "\n",
        "convert -resize 25x25! competition_data/train/shrimp_caridean/5671.jpg competition_data/train_25x25/shrimp_caridean/5671.jpg"
       ]
      },
      {
       "output_type": "stream",
       "stream": "stdout",
       "text": [
        "\n",
        "convert -resize 25x25! competition_data/train/shrimp_caridean/50476.jpg competition_data/train_25x25/shrimp_caridean/50476.jpg"
       ]
      },
      {
       "output_type": "stream",
       "stream": "stdout",
       "text": [
        "\n",
        "convert -resize 25x25! competition_data/train/shrimp_caridean/95850.jpg competition_data/train_25x25/shrimp_caridean/95850.jpg"
       ]
      },
      {
       "output_type": "stream",
       "stream": "stdout",
       "text": [
        "\n",
        "convert -resize 25x25! competition_data/train/shrimp_caridean/22197.jpg competition_data/train_25x25/shrimp_caridean/22197.jpg"
       ]
      },
      {
       "output_type": "stream",
       "stream": "stdout",
       "text": [
        "\n",
        "convert -resize 25x25! competition_data/train/shrimp_caridean/89426.jpg competition_data/train_25x25/shrimp_caridean/89426.jpg"
       ]
      },
      {
       "output_type": "stream",
       "stream": "stdout",
       "text": [
        "\n",
        "convert -resize 25x25! competition_data/train/shrimp_caridean/58773.jpg competition_data/train_25x25/shrimp_caridean/58773.jpg"
       ]
      },
      {
       "output_type": "stream",
       "stream": "stdout",
       "text": [
        "\n",
        "convert -resize 25x25! competition_data/train/shrimp_caridean/133972.jpg competition_data/train_25x25/shrimp_caridean/133972.jpg"
       ]
      },
      {
       "output_type": "stream",
       "stream": "stdout",
       "text": [
        "\n",
        "convert -resize 25x25! competition_data/train/shrimp_caridean/117074.jpg competition_data/train_25x25/shrimp_caridean/117074.jpg"
       ]
      },
      {
       "output_type": "stream",
       "stream": "stdout",
       "text": [
        "\n",
        "convert -resize 25x25! competition_data/train/shrimp_caridean/87580.jpg competition_data/train_25x25/shrimp_caridean/87580.jpg"
       ]
      },
      {
       "output_type": "stream",
       "stream": "stdout",
       "text": [
        "\n",
        "convert -resize 25x25! competition_data/train/shrimp_caridean/93841.jpg competition_data/train_25x25/shrimp_caridean/93841.jpg"
       ]
      },
      {
       "output_type": "stream",
       "stream": "stdout",
       "text": [
        "\n",
        "convert -resize 25x25! competition_data/train/shrimp_caridean/69861.jpg competition_data/train_25x25/shrimp_caridean/69861.jpg"
       ]
      },
      {
       "output_type": "stream",
       "stream": "stdout",
       "text": [
        "\n",
        "convert -resize 25x25! competition_data/train/shrimp_caridean/100931.jpg competition_data/train_25x25/shrimp_caridean/100931.jpg"
       ]
      },
      {
       "output_type": "stream",
       "stream": "stdout",
       "text": [
        "\n",
        "convert -resize 25x25! competition_data/train/shrimp_caridean/65337.jpg competition_data/train_25x25/shrimp_caridean/65337.jpg"
       ]
      },
      {
       "output_type": "stream",
       "stream": "stdout",
       "text": [
        "\n",
        "convert -resize 25x25! competition_data/train/shrimp_caridean/103548.jpg competition_data/train_25x25/shrimp_caridean/103548.jpg"
       ]
      },
      {
       "output_type": "stream",
       "stream": "stdout",
       "text": [
        "\n",
        "convert -resize 25x25! competition_data/train/shrimp_caridean/108229.jpg competition_data/train_25x25/shrimp_caridean/108229.jpg"
       ]
      },
      {
       "output_type": "stream",
       "stream": "stdout",
       "text": [
        "\n",
        "convert -resize 25x25! competition_data/train/shrimp_caridean/93415.jpg competition_data/train_25x25/shrimp_caridean/93415.jpg"
       ]
      },
      {
       "output_type": "stream",
       "stream": "stdout",
       "text": [
        "\n",
        "convert -resize 25x25! competition_data/train/shrimp_caridean/69887.jpg competition_data/train_25x25/shrimp_caridean/69887.jpg"
       ]
      },
      {
       "output_type": "stream",
       "stream": "stdout",
       "text": [
        "\n",
        "convert -resize 25x25! competition_data/train/shrimp_caridean/20282.jpg competition_data/train_25x25/shrimp_caridean/20282.jpg"
       ]
      },
      {
       "output_type": "stream",
       "stream": "stdout",
       "text": [
        "\n",
        "convert -resize 25x25! competition_data/train/shrimp_caridean/43310.jpg competition_data/train_25x25/shrimp_caridean/43310.jpg"
       ]
      },
      {
       "output_type": "stream",
       "stream": "stdout",
       "text": [
        "\n",
        "convert -resize 25x25! competition_data/train/shrimp_caridean/127867.jpg competition_data/train_25x25/shrimp_caridean/127867.jpg\n",
        "convert -resize 25x25! competition_data/train/shrimp_caridean/138008.jpg competition_data/train_25x25/shrimp_caridean/138008.jpg"
       ]
      },
      {
       "output_type": "stream",
       "stream": "stdout",
       "text": [
        "\n",
        "convert -resize 25x25! competition_data/train/shrimp_caridean/52409.jpg competition_data/train_25x25/shrimp_caridean/52409.jpg"
       ]
      },
      {
       "output_type": "stream",
       "stream": "stdout",
       "text": [
        "\n",
        "convert -resize 25x25! competition_data/train/shrimp_caridean/21219.jpg competition_data/train_25x25/shrimp_caridean/21219.jpg\n",
        "convert -resize 25x25! competition_data/train/echinoderm_larva_seastar_bipinnaria/144931.jpg competition_data/train_25x25/echinoderm_larva_seastar_bipinnaria/144931.jpg"
       ]
      },
      {
       "output_type": "stream",
       "stream": "stdout",
       "text": [
        "\n",
        "convert -resize 25x25! competition_data/train/echinoderm_larva_seastar_bipinnaria/55973.jpg competition_data/train_25x25/echinoderm_larva_seastar_bipinnaria/55973.jpg"
       ]
      },
      {
       "output_type": "stream",
       "stream": "stdout",
       "text": [
        "\n",
        "convert -resize 25x25! competition_data/train/echinoderm_larva_seastar_bipinnaria/134355.jpg competition_data/train_25x25/echinoderm_larva_seastar_bipinnaria/134355.jpg"
       ]
      },
      {
       "output_type": "stream",
       "stream": "stdout",
       "text": [
        "\n",
        "convert -resize 25x25! competition_data/train/echinoderm_larva_seastar_bipinnaria/477.jpg competition_data/train_25x25/echinoderm_larva_seastar_bipinnaria/477.jpg\n",
        "convert -resize 25x25! competition_data/train/echinoderm_larva_seastar_bipinnaria/159797.jpg competition_data/train_25x25/echinoderm_larva_seastar_bipinnaria/159797.jpg"
       ]
      },
      {
       "output_type": "stream",
       "stream": "stdout",
       "text": [
        "\n",
        "convert -resize 25x25! competition_data/train/echinoderm_larva_seastar_bipinnaria/55670.jpg competition_data/train_25x25/echinoderm_larva_seastar_bipinnaria/55670.jpg"
       ]
      },
      {
       "output_type": "stream",
       "stream": "stdout",
       "text": [
        "\n",
        "convert -resize 25x25! competition_data/train/echinoderm_larva_seastar_bipinnaria/87766.jpg competition_data/train_25x25/echinoderm_larva_seastar_bipinnaria/87766.jpg"
       ]
      },
      {
       "output_type": "stream",
       "stream": "stdout",
       "text": [
        "\n",
        "convert -resize 25x25! competition_data/train/echinoderm_larva_seastar_bipinnaria/60677.jpg competition_data/train_25x25/echinoderm_larva_seastar_bipinnaria/60677.jpg"
       ]
      },
      {
       "output_type": "stream",
       "stream": "stdout",
       "text": [
        "\n",
        "convert -resize 25x25! competition_data/train/echinoderm_larva_seastar_bipinnaria/5819.jpg competition_data/train_25x25/echinoderm_larva_seastar_bipinnaria/5819.jpg"
       ]
      },
      {
       "output_type": "stream",
       "stream": "stdout",
       "text": [
        "\n",
        "convert -resize 25x25! competition_data/train/echinoderm_larva_seastar_bipinnaria/25253.jpg competition_data/train_25x25/echinoderm_larva_seastar_bipinnaria/25253.jpg"
       ]
      },
      {
       "output_type": "stream",
       "stream": "stdout",
       "text": [
        "\n",
        "convert -resize 25x25! competition_data/train/echinoderm_larva_seastar_bipinnaria/147981.jpg competition_data/train_25x25/echinoderm_larva_seastar_bipinnaria/147981.jpg"
       ]
      },
      {
       "output_type": "stream",
       "stream": "stdout",
       "text": [
        "\n",
        "convert -resize 25x25! competition_data/train/echinoderm_larva_seastar_bipinnaria/89319.jpg competition_data/train_25x25/echinoderm_larva_seastar_bipinnaria/89319.jpg"
       ]
      },
      {
       "output_type": "stream",
       "stream": "stdout",
       "text": [
        "\n",
        "convert -resize 25x25! competition_data/train/echinoderm_larva_seastar_bipinnaria/134805.jpg competition_data/train_25x25/echinoderm_larva_seastar_bipinnaria/134805.jpg"
       ]
      },
      {
       "output_type": "stream",
       "stream": "stdout",
       "text": [
        "\n",
        "convert -resize 25x25! competition_data/train/echinoderm_larva_seastar_bipinnaria/72468.jpg competition_data/train_25x25/echinoderm_larva_seastar_bipinnaria/72468.jpg"
       ]
      },
      {
       "output_type": "stream",
       "stream": "stdout",
       "text": [
        "\n",
        "convert -resize 25x25! competition_data/train/echinoderm_larva_seastar_bipinnaria/58987.jpg competition_data/train_25x25/echinoderm_larva_seastar_bipinnaria/58987.jpg"
       ]
      },
      {
       "output_type": "stream",
       "stream": "stdout",
       "text": [
        "\n",
        "convert -resize 25x25! competition_data/train/echinoderm_larva_seastar_bipinnaria/72180.jpg competition_data/train_25x25/echinoderm_larva_seastar_bipinnaria/72180.jpg"
       ]
      },
      {
       "output_type": "stream",
       "stream": "stdout",
       "text": [
        "\n",
        "convert -resize 25x25! competition_data/train/echinoderm_larva_seastar_bipinnaria/111585.jpg competition_data/train_25x25/echinoderm_larva_seastar_bipinnaria/111585.jpg"
       ]
      },
      {
       "output_type": "stream",
       "stream": "stdout",
       "text": [
        "\n",
        "convert -resize 25x25! competition_data/train/echinoderm_larva_seastar_bipinnaria/158189.jpg competition_data/train_25x25/echinoderm_larva_seastar_bipinnaria/158189.jpg"
       ]
      },
      {
       "output_type": "stream",
       "stream": "stdout",
       "text": [
        "\n",
        "convert -resize 25x25! competition_data/train/echinoderm_larva_seastar_bipinnaria/101361.jpg competition_data/train_25x25/echinoderm_larva_seastar_bipinnaria/101361.jpg"
       ]
      },
      {
       "output_type": "stream",
       "stream": "stdout",
       "text": [
        "\n",
        "convert -resize 25x25! competition_data/train/echinoderm_larva_seastar_bipinnaria/138613.jpg competition_data/train_25x25/echinoderm_larva_seastar_bipinnaria/138613.jpg"
       ]
      },
      {
       "output_type": "stream",
       "stream": "stdout",
       "text": [
        "\n",
        "convert -resize 25x25! competition_data/train/echinoderm_larva_seastar_bipinnaria/72746.jpg competition_data/train_25x25/echinoderm_larva_seastar_bipinnaria/72746.jpg"
       ]
      },
      {
       "output_type": "stream",
       "stream": "stdout",
       "text": [
        "\n",
        "convert -resize 25x25! competition_data/train/echinoderm_larva_seastar_bipinnaria/124795.jpg competition_data/train_25x25/echinoderm_larva_seastar_bipinnaria/124795.jpg"
       ]
      },
      {
       "output_type": "stream",
       "stream": "stdout",
       "text": [
        "\n",
        "convert -resize 25x25! competition_data/train/echinoderm_larva_seastar_bipinnaria/117286.jpg competition_data/train_25x25/echinoderm_larva_seastar_bipinnaria/117286.jpg"
       ]
      },
      {
       "output_type": "stream",
       "stream": "stdout",
       "text": [
        "\n",
        "convert -resize 25x25! competition_data/train/echinoderm_larva_seastar_bipinnaria/135303.jpg competition_data/train_25x25/echinoderm_larva_seastar_bipinnaria/135303.jpg"
       ]
      },
      {
       "output_type": "stream",
       "stream": "stdout",
       "text": [
        "\n",
        "convert -resize 25x25! competition_data/train/echinoderm_larva_seastar_bipinnaria/60253.jpg competition_data/train_25x25/echinoderm_larva_seastar_bipinnaria/60253.jpg"
       ]
      },
      {
       "output_type": "stream",
       "stream": "stdout",
       "text": [
        "\n",
        "convert -resize 25x25! competition_data/train/echinoderm_larva_seastar_bipinnaria/101873.jpg competition_data/train_25x25/echinoderm_larva_seastar_bipinnaria/101873.jpg"
       ]
      },
      {
       "output_type": "stream",
       "stream": "stdout",
       "text": [
        "\n",
        "convert -resize 25x25! competition_data/train/echinoderm_larva_seastar_bipinnaria/47614.jpg competition_data/train_25x25/echinoderm_larva_seastar_bipinnaria/47614.jpg"
       ]
      },
      {
       "output_type": "stream",
       "stream": "stdout",
       "text": [
        "\n",
        "convert -resize 25x25! competition_data/train/echinoderm_larva_seastar_bipinnaria/37703.jpg competition_data/train_25x25/echinoderm_larva_seastar_bipinnaria/37703.jpg"
       ]
      },
      {
       "output_type": "stream",
       "stream": "stdout",
       "text": [
        "\n",
        "convert -resize 25x25! competition_data/train/echinoderm_larva_seastar_bipinnaria/122571.jpg competition_data/train_25x25/echinoderm_larva_seastar_bipinnaria/122571.jpg"
       ]
      },
      {
       "output_type": "stream",
       "stream": "stdout",
       "text": [
        "\n",
        "convert -resize 25x25! competition_data/train/echinoderm_larva_seastar_bipinnaria/116848.jpg competition_data/train_25x25/echinoderm_larva_seastar_bipinnaria/116848.jpg"
       ]
      },
      {
       "output_type": "stream",
       "stream": "stdout",
       "text": [
        "\n",
        "convert -resize 25x25! competition_data/train/echinoderm_larva_seastar_bipinnaria/14.jpg competition_data/train_25x25/echinoderm_larva_seastar_bipinnaria/14.jpg\n",
        "convert -resize 25x25! competition_data/train/echinoderm_larva_seastar_bipinnaria/32759.jpg competition_data/train_25x25/echinoderm_larva_seastar_bipinnaria/32759.jpg"
       ]
      },
      {
       "output_type": "stream",
       "stream": "stdout",
       "text": [
        "\n",
        "convert -resize 25x25! competition_data/train/echinoderm_larva_seastar_bipinnaria/10736.jpg competition_data/train_25x25/echinoderm_larva_seastar_bipinnaria/10736.jpg\n",
        "convert -resize 25x25! competition_data/train/echinoderm_larva_seastar_bipinnaria/151208.jpg competition_data/train_25x25/echinoderm_larva_seastar_bipinnaria/151208.jpg"
       ]
      },
      {
       "output_type": "stream",
       "stream": "stdout",
       "text": [
        "\n",
        "convert -resize 25x25! competition_data/train/echinoderm_larva_seastar_bipinnaria/3335.jpg competition_data/train_25x25/echinoderm_larva_seastar_bipinnaria/3335.jpg\n",
        "convert -resize 25x25! competition_data/train/echinoderm_larva_seastar_bipinnaria/4786.jpg competition_data/train_25x25/echinoderm_larva_seastar_bipinnaria/4786.jpg"
       ]
      },
      {
       "output_type": "stream",
       "stream": "stdout",
       "text": [
        "\n",
        "convert -resize 25x25! competition_data/train/echinoderm_larva_seastar_bipinnaria/100396.jpg competition_data/train_25x25/echinoderm_larva_seastar_bipinnaria/100396.jpg\n",
        "convert -resize 25x25! competition_data/train/echinoderm_larva_seastar_bipinnaria/15695.jpg competition_data/train_25x25/echinoderm_larva_seastar_bipinnaria/15695.jpg"
       ]
      },
      {
       "output_type": "stream",
       "stream": "stdout",
       "text": [
        "\n",
        "convert -resize 25x25! competition_data/train/echinoderm_larva_seastar_bipinnaria/91820.jpg competition_data/train_25x25/echinoderm_larva_seastar_bipinnaria/91820.jpg\n",
        "convert -resize 25x25! competition_data/train/echinoderm_larva_seastar_bipinnaria/126560.jpg competition_data/train_25x25/echinoderm_larva_seastar_bipinnaria/126560.jpg"
       ]
      },
      {
       "output_type": "stream",
       "stream": "stdout",
       "text": [
        "\n",
        "convert -resize 25x25! competition_data/train/echinoderm_larva_seastar_bipinnaria/32309.jpg competition_data/train_25x25/echinoderm_larva_seastar_bipinnaria/32309.jpg\n",
        "convert -resize 25x25! competition_data/train/echinoderm_larva_seastar_bipinnaria/116769.jpg competition_data/train_25x25/echinoderm_larva_seastar_bipinnaria/116769.jpg"
       ]
      },
      {
       "output_type": "stream",
       "stream": "stdout",
       "text": [
        "\n",
        "convert -resize 25x25! competition_data/train/echinoderm_larva_seastar_bipinnaria/32941.jpg competition_data/train_25x25/echinoderm_larva_seastar_bipinnaria/32941.jpg\n",
        "convert -resize 25x25! competition_data/train/echinoderm_larva_seastar_bipinnaria/16336.jpg competition_data/train_25x25/echinoderm_larva_seastar_bipinnaria/16336.jpg"
       ]
      },
      {
       "output_type": "stream",
       "stream": "stdout",
       "text": [
        "\n",
        "convert -resize 25x25! competition_data/train/echinoderm_larva_seastar_bipinnaria/111851.jpg competition_data/train_25x25/echinoderm_larva_seastar_bipinnaria/111851.jpg"
       ]
      },
      {
       "output_type": "stream",
       "stream": "stdout",
       "text": [
        "\n",
        "convert -resize 25x25! competition_data/train/echinoderm_larva_seastar_bipinnaria/610.jpg competition_data/train_25x25/echinoderm_larva_seastar_bipinnaria/610.jpg"
       ]
      },
      {
       "output_type": "stream",
       "stream": "stdout",
       "text": [
        "\n",
        "convert -resize 25x25! competition_data/train/echinoderm_larva_seastar_bipinnaria/160384.jpg competition_data/train_25x25/echinoderm_larva_seastar_bipinnaria/160384.jpg"
       ]
      },
      {
       "output_type": "stream",
       "stream": "stdout",
       "text": [
        "\n",
        "convert -resize 25x25! competition_data/train/echinoderm_larva_seastar_bipinnaria/7844.jpg competition_data/train_25x25/echinoderm_larva_seastar_bipinnaria/7844.jpg"
       ]
      },
      {
       "output_type": "stream",
       "stream": "stdout",
       "text": [
        "\n",
        "convert -resize 25x25! competition_data/train/echinoderm_larva_seastar_bipinnaria/108424.jpg competition_data/train_25x25/echinoderm_larva_seastar_bipinnaria/108424.jpg"
       ]
      },
      {
       "output_type": "stream",
       "stream": "stdout",
       "text": [
        "\n",
        "convert -resize 25x25! competition_data/train/echinoderm_larva_seastar_bipinnaria/43321.jpg competition_data/train_25x25/echinoderm_larva_seastar_bipinnaria/43321.jpg"
       ]
      },
      {
       "output_type": "stream",
       "stream": "stdout",
       "text": [
        "\n",
        "convert -resize 25x25! competition_data/train/echinoderm_larva_seastar_bipinnaria/36951.jpg competition_data/train_25x25/echinoderm_larva_seastar_bipinnaria/36951.jpg"
       ]
      },
      {
       "output_type": "stream",
       "stream": "stdout",
       "text": [
        "\n",
        "convert -resize 25x25! competition_data/train/echinoderm_larva_seastar_bipinnaria/64451.jpg competition_data/train_25x25/echinoderm_larva_seastar_bipinnaria/64451.jpg"
       ]
      },
      {
       "output_type": "stream",
       "stream": "stdout",
       "text": [
        "\n",
        "convert -resize 25x25! competition_data/train/echinoderm_larva_seastar_bipinnaria/122195.jpg competition_data/train_25x25/echinoderm_larva_seastar_bipinnaria/122195.jpg"
       ]
      },
      {
       "output_type": "stream",
       "stream": "stdout",
       "text": [
        "\n",
        "convert -resize 25x25! competition_data/train/echinoderm_larva_seastar_bipinnaria/30057.jpg competition_data/train_25x25/echinoderm_larva_seastar_bipinnaria/30057.jpg"
       ]
      },
      {
       "output_type": "stream",
       "stream": "stdout",
       "text": [
        "\n",
        "convert -resize 25x25! competition_data/train/echinoderm_larva_seastar_bipinnaria/92882.jpg competition_data/train_25x25/echinoderm_larva_seastar_bipinnaria/92882.jpg"
       ]
      },
      {
       "output_type": "stream",
       "stream": "stdout",
       "text": [
        "\n",
        "convert -resize 25x25! competition_data/train/echinoderm_larva_seastar_bipinnaria/113612.jpg competition_data/train_25x25/echinoderm_larva_seastar_bipinnaria/113612.jpg"
       ]
      },
      {
       "output_type": "stream",
       "stream": "stdout",
       "text": [
        "\n",
        "convert -resize 25x25! competition_data/train/echinoderm_larva_seastar_bipinnaria/13936.jpg competition_data/train_25x25/echinoderm_larva_seastar_bipinnaria/13936.jpg"
       ]
      },
      {
       "output_type": "stream",
       "stream": "stdout",
       "text": [
        "\n",
        "convert -resize 25x25! competition_data/train/echinoderm_larva_seastar_bipinnaria/82574.jpg competition_data/train_25x25/echinoderm_larva_seastar_bipinnaria/82574.jpg"
       ]
      },
      {
       "output_type": "stream",
       "stream": "stdout",
       "text": [
        "\n",
        "convert -resize 25x25! competition_data/train/echinoderm_larva_seastar_bipinnaria/97435.jpg competition_data/train_25x25/echinoderm_larva_seastar_bipinnaria/97435.jpg"
       ]
      },
      {
       "output_type": "stream",
       "stream": "stdout",
       "text": [
        "\n",
        "convert -resize 25x25! competition_data/train/echinoderm_larva_seastar_bipinnaria/5664.jpg competition_data/train_25x25/echinoderm_larva_seastar_bipinnaria/5664.jpg"
       ]
      },
      {
       "output_type": "stream",
       "stream": "stdout",
       "text": [
        "\n",
        "convert -resize 25x25! competition_data/train/echinoderm_larva_seastar_bipinnaria/24921.jpg competition_data/train_25x25/echinoderm_larva_seastar_bipinnaria/24921.jpg"
       ]
      },
      {
       "output_type": "stream",
       "stream": "stdout",
       "text": [
        "\n",
        "convert -resize 25x25! competition_data/train/echinoderm_larva_seastar_bipinnaria/79010.jpg competition_data/train_25x25/echinoderm_larva_seastar_bipinnaria/79010.jpg"
       ]
      },
      {
       "output_type": "stream",
       "stream": "stdout",
       "text": [
        "\n",
        "convert -resize 25x25! competition_data/train/echinoderm_larva_seastar_bipinnaria/114621.jpg competition_data/train_25x25/echinoderm_larva_seastar_bipinnaria/114621.jpg"
       ]
      },
      {
       "output_type": "stream",
       "stream": "stdout",
       "text": [
        "\n",
        "convert -resize 25x25! competition_data/train/echinoderm_larva_seastar_bipinnaria/48334.jpg competition_data/train_25x25/echinoderm_larva_seastar_bipinnaria/48334.jpg"
       ]
      },
      {
       "output_type": "stream",
       "stream": "stdout",
       "text": [
        "\n",
        "convert -resize 25x25! competition_data/train/echinoderm_larva_seastar_bipinnaria/91507.jpg competition_data/train_25x25/echinoderm_larva_seastar_bipinnaria/91507.jpg"
       ]
      },
      {
       "output_type": "stream",
       "stream": "stdout",
       "text": [
        "\n",
        "convert -resize 25x25! competition_data/train/echinoderm_larva_seastar_bipinnaria/67714.jpg competition_data/train_25x25/echinoderm_larva_seastar_bipinnaria/67714.jpg"
       ]
      },
      {
       "output_type": "stream",
       "stream": "stdout",
       "text": [
        "\n",
        "convert -resize 25x25! competition_data/train/echinoderm_larva_seastar_bipinnaria/8413.jpg competition_data/train_25x25/echinoderm_larva_seastar_bipinnaria/8413.jpg"
       ]
      },
      {
       "output_type": "stream",
       "stream": "stdout",
       "text": [
        "\n",
        "convert -resize 25x25! competition_data/train/echinoderm_larva_seastar_bipinnaria/106768.jpg competition_data/train_25x25/echinoderm_larva_seastar_bipinnaria/106768.jpg"
       ]
      },
      {
       "output_type": "stream",
       "stream": "stdout",
       "text": [
        "\n",
        "convert -resize 25x25! competition_data/train/echinoderm_larva_seastar_bipinnaria/25194.jpg competition_data/train_25x25/echinoderm_larva_seastar_bipinnaria/25194.jpg\n",
        "convert -resize 25x25! competition_data/train/echinoderm_larva_seastar_bipinnaria/42546.jpg competition_data/train_25x25/echinoderm_larva_seastar_bipinnaria/42546.jpg"
       ]
      },
      {
       "output_type": "stream",
       "stream": "stdout",
       "text": [
        "\n",
        "convert -resize 25x25! competition_data/train/echinoderm_larva_seastar_bipinnaria/67092.jpg competition_data/train_25x25/echinoderm_larva_seastar_bipinnaria/67092.jpg"
       ]
      },
      {
       "output_type": "stream",
       "stream": "stdout",
       "text": [
        "\n",
        "convert -resize 25x25! competition_data/train/echinoderm_larva_seastar_bipinnaria/45635.jpg competition_data/train_25x25/echinoderm_larva_seastar_bipinnaria/45635.jpg"
       ]
      },
      {
       "output_type": "stream",
       "stream": "stdout",
       "text": [
        "\n",
        "convert -resize 25x25! competition_data/train/echinoderm_larva_seastar_bipinnaria/157388.jpg competition_data/train_25x25/echinoderm_larva_seastar_bipinnaria/157388.jpg"
       ]
      },
      {
       "output_type": "stream",
       "stream": "stdout",
       "text": [
        "\n",
        "convert -resize 25x25! competition_data/train/echinoderm_larva_seastar_bipinnaria/140948.jpg competition_data/train_25x25/echinoderm_larva_seastar_bipinnaria/140948.jpg\n",
        "convert -resize 25x25! competition_data/train/echinoderm_larva_seastar_bipinnaria/87668.jpg competition_data/train_25x25/echinoderm_larva_seastar_bipinnaria/87668.jpg"
       ]
      },
      {
       "output_type": "stream",
       "stream": "stdout",
       "text": [
        "\n",
        "convert -resize 25x25! competition_data/train/echinoderm_larva_seastar_bipinnaria/8863.jpg competition_data/train_25x25/echinoderm_larva_seastar_bipinnaria/8863.jpg\n",
        "convert -resize 25x25! competition_data/train/echinoderm_larva_seastar_bipinnaria/159682.jpg competition_data/train_25x25/echinoderm_larva_seastar_bipinnaria/159682.jpg"
       ]
      },
      {
       "output_type": "stream",
       "stream": "stdout",
       "text": [
        "\n",
        "convert -resize 25x25! competition_data/train/echinoderm_larva_seastar_bipinnaria/86121.jpg competition_data/train_25x25/echinoderm_larva_seastar_bipinnaria/86121.jpg"
       ]
      },
      {
       "output_type": "stream",
       "stream": "stdout",
       "text": [
        "\n",
        "convert -resize 25x25! competition_data/train/echinoderm_larva_seastar_bipinnaria/149833.jpg competition_data/train_25x25/echinoderm_larva_seastar_bipinnaria/149833.jpg"
       ]
      },
      {
       "output_type": "stream",
       "stream": "stdout",
       "text": [
        "\n",
        "convert -resize 25x25! competition_data/train/echinoderm_larva_seastar_bipinnaria/27538.jpg competition_data/train_25x25/echinoderm_larva_seastar_bipinnaria/27538.jpg\n",
        "convert -resize 25x25! competition_data/train/echinoderm_larva_seastar_bipinnaria/122732.jpg competition_data/train_25x25/echinoderm_larva_seastar_bipinnaria/122732.jpg"
       ]
      },
      {
       "output_type": "stream",
       "stream": "stdout",
       "text": [
        "\n",
        "convert -resize 25x25! competition_data/train/echinoderm_larva_seastar_bipinnaria/126698.jpg competition_data/train_25x25/echinoderm_larva_seastar_bipinnaria/126698.jpg\n",
        "convert -resize 25x25! competition_data/train/echinoderm_larva_seastar_bipinnaria/81485.jpg competition_data/train_25x25/echinoderm_larva_seastar_bipinnaria/81485.jpg"
       ]
      },
      {
       "output_type": "stream",
       "stream": "stdout",
       "text": [
        "\n",
        "convert -resize 25x25! competition_data/train/echinoderm_larva_seastar_bipinnaria/154441.jpg competition_data/train_25x25/echinoderm_larva_seastar_bipinnaria/154441.jpg"
       ]
      },
      {
       "output_type": "stream",
       "stream": "stdout",
       "text": [
        "\n",
        "convert -resize 25x25! competition_data/train/echinoderm_larva_seastar_bipinnaria/47925.jpg competition_data/train_25x25/echinoderm_larva_seastar_bipinnaria/47925.jpg"
       ]
      },
      {
       "output_type": "stream",
       "stream": "stdout",
       "text": [
        "\n",
        "convert -resize 25x25! competition_data/train/echinoderm_larva_seastar_bipinnaria/75473.jpg competition_data/train_25x25/echinoderm_larva_seastar_bipinnaria/75473.jpg"
       ]
      },
      {
       "output_type": "stream",
       "stream": "stdout",
       "text": [
        "\n",
        "convert -resize 25x25! competition_data/train/echinoderm_larva_seastar_bipinnaria/49548.jpg competition_data/train_25x25/echinoderm_larva_seastar_bipinnaria/49548.jpg"
       ]
      },
      {
       "output_type": "stream",
       "stream": "stdout",
       "text": [
        "\n",
        "convert -resize 25x25! competition_data/train/echinoderm_larva_seastar_bipinnaria/140643.jpg competition_data/train_25x25/echinoderm_larva_seastar_bipinnaria/140643.jpg\n",
        "convert -resize 25x25! competition_data/train/echinoderm_larva_seastar_bipinnaria/90368.jpg competition_data/train_25x25/echinoderm_larva_seastar_bipinnaria/90368.jpg"
       ]
      },
      {
       "output_type": "stream",
       "stream": "stdout",
       "text": [
        "\n",
        "convert -resize 25x25! competition_data/train/echinoderm_larva_seastar_bipinnaria/72086.jpg competition_data/train_25x25/echinoderm_larva_seastar_bipinnaria/72086.jpg"
       ]
      },
      {
       "output_type": "stream",
       "stream": "stdout",
       "text": [
        "\n",
        "convert -resize 25x25! competition_data/train/echinoderm_larva_seastar_bipinnaria/83374.jpg competition_data/train_25x25/echinoderm_larva_seastar_bipinnaria/83374.jpg"
       ]
      },
      {
       "output_type": "stream",
       "stream": "stdout",
       "text": [
        "\n",
        "convert -resize 25x25! competition_data/train/echinoderm_larva_seastar_bipinnaria/134955.jpg competition_data/train_25x25/echinoderm_larva_seastar_bipinnaria/134955.jpg"
       ]
      },
      {
       "output_type": "stream",
       "stream": "stdout",
       "text": [
        "\n",
        "convert -resize 25x25! competition_data/train/echinoderm_larva_seastar_bipinnaria/130815.jpg competition_data/train_25x25/echinoderm_larva_seastar_bipinnaria/130815.jpg"
       ]
      },
      {
       "output_type": "stream",
       "stream": "stdout",
       "text": [
        "\n",
        "convert -resize 25x25! competition_data/train/echinoderm_larva_seastar_bipinnaria/68781.jpg competition_data/train_25x25/echinoderm_larva_seastar_bipinnaria/68781.jpg"
       ]
      },
      {
       "output_type": "stream",
       "stream": "stdout",
       "text": [
        "\n",
        "convert -resize 25x25! competition_data/train/echinoderm_larva_seastar_bipinnaria/97318.jpg competition_data/train_25x25/echinoderm_larva_seastar_bipinnaria/97318.jpg"
       ]
      },
      {
       "output_type": "stream",
       "stream": "stdout",
       "text": [
        "\n",
        "convert -resize 25x25! competition_data/train/echinoderm_larva_seastar_bipinnaria/129242.jpg competition_data/train_25x25/echinoderm_larva_seastar_bipinnaria/129242.jpg"
       ]
      },
      {
       "output_type": "stream",
       "stream": "stdout",
       "text": [
        "\n",
        "convert -resize 25x25! competition_data/train/echinoderm_larva_seastar_bipinnaria/54627.jpg competition_data/train_25x25/echinoderm_larva_seastar_bipinnaria/54627.jpg"
       ]
      },
      {
       "output_type": "stream",
       "stream": "stdout",
       "text": [
        "\n",
        "convert -resize 25x25! competition_data/train/echinoderm_larva_seastar_bipinnaria/128999.jpg competition_data/train_25x25/echinoderm_larva_seastar_bipinnaria/128999.jpg"
       ]
      },
      {
       "output_type": "stream",
       "stream": "stdout",
       "text": [
        "\n",
        "convert -resize 25x25! competition_data/train/echinoderm_larva_seastar_bipinnaria/159880.jpg competition_data/train_25x25/echinoderm_larva_seastar_bipinnaria/159880.jpg"
       ]
      },
      {
       "output_type": "stream",
       "stream": "stdout",
       "text": [
        "\n",
        "convert -resize 25x25! competition_data/train/echinoderm_larva_seastar_bipinnaria/576.jpg competition_data/train_25x25/echinoderm_larva_seastar_bipinnaria/576.jpg"
       ]
      },
      {
       "output_type": "stream",
       "stream": "stdout",
       "text": [
        "\n",
        "convert -resize 25x25! competition_data/train/echinoderm_larva_seastar_bipinnaria/111292.jpg competition_data/train_25x25/echinoderm_larva_seastar_bipinnaria/111292.jpg"
       ]
      },
      {
       "output_type": "stream",
       "stream": "stdout",
       "text": [
        "\n",
        "convert -resize 25x25! competition_data/train/echinoderm_larva_seastar_bipinnaria/158284.jpg competition_data/train_25x25/echinoderm_larva_seastar_bipinnaria/158284.jpg"
       ]
      },
      {
       "output_type": "stream",
       "stream": "stdout",
       "text": [
        "\n",
        "convert -resize 25x25! competition_data/train/echinoderm_larva_seastar_bipinnaria/64057.jpg competition_data/train_25x25/echinoderm_larva_seastar_bipinnaria/64057.jpg"
       ]
      },
      {
       "output_type": "stream",
       "stream": "stdout",
       "text": [
        "\n",
        "convert -resize 25x25! competition_data/train/echinoderm_larva_seastar_bipinnaria/72681.jpg competition_data/train_25x25/echinoderm_larva_seastar_bipinnaria/72681.jpg"
       ]
      },
      {
       "output_type": "stream",
       "stream": "stdout",
       "text": [
        "\n",
        "convert -resize 25x25! competition_data/train/echinoderm_larva_seastar_bipinnaria/65923.jpg competition_data/train_25x25/echinoderm_larva_seastar_bipinnaria/65923.jpg\n",
        "convert -resize 25x25! competition_data/train/echinoderm_larva_seastar_bipinnaria/15388.jpg competition_data/train_25x25/echinoderm_larva_seastar_bipinnaria/15388.jpg"
       ]
      },
      {
       "output_type": "stream",
       "stream": "stdout",
       "text": [
        "\n",
        "convert -resize 25x25! competition_data/train/echinoderm_larva_seastar_bipinnaria/99106.jpg competition_data/train_25x25/echinoderm_larva_seastar_bipinnaria/99106.jpg\n",
        "convert -resize 25x25! competition_data/train/echinoderm_larva_seastar_bipinnaria/91040.jpg competition_data/train_25x25/echinoderm_larva_seastar_bipinnaria/91040.jpg"
       ]
      },
      {
       "output_type": "stream",
       "stream": "stdout",
       "text": [
        "\n",
        "convert -resize 25x25! competition_data/train/echinoderm_larva_seastar_bipinnaria/113059.jpg competition_data/train_25x25/echinoderm_larva_seastar_bipinnaria/113059.jpg"
       ]
      },
      {
       "output_type": "stream",
       "stream": "stdout",
       "text": [
        "\n",
        "convert -resize 25x25! competition_data/train/echinoderm_larva_seastar_bipinnaria/90295.jpg competition_data/train_25x25/echinoderm_larva_seastar_bipinnaria/90295.jpg\n",
        "convert -resize 25x25! competition_data/train/echinoderm_larva_seastar_bipinnaria/125015.jpg competition_data/train_25x25/echinoderm_larva_seastar_bipinnaria/125015.jpg"
       ]
      },
      {
       "output_type": "stream",
       "stream": "stdout",
       "text": [
        "\n",
        "convert -resize 25x25! competition_data/train/echinoderm_larva_seastar_bipinnaria/46563.jpg competition_data/train_25x25/echinoderm_larva_seastar_bipinnaria/46563.jpg\n",
        "convert -resize 25x25! competition_data/train/echinoderm_larva_seastar_bipinnaria/151346.jpg competition_data/train_25x25/echinoderm_larva_seastar_bipinnaria/151346.jpg"
       ]
      },
      {
       "output_type": "stream",
       "stream": "stdout",
       "text": [
        "\n",
        "convert -resize 25x25! competition_data/train/echinoderm_larva_seastar_bipinnaria/10501.jpg competition_data/train_25x25/echinoderm_larva_seastar_bipinnaria/10501.jpg"
       ]
      },
      {
       "output_type": "stream",
       "stream": "stdout",
       "text": [
        "\n",
        "convert -resize 25x25! competition_data/train/echinoderm_larva_seastar_bipinnaria/64108.jpg competition_data/train_25x25/echinoderm_larva_seastar_bipinnaria/64108.jpg\n",
        "convert -resize 25x25! competition_data/train/echinoderm_larva_seastar_bipinnaria/80733.jpg competition_data/train_25x25/echinoderm_larva_seastar_bipinnaria/80733.jpg"
       ]
      },
      {
       "output_type": "stream",
       "stream": "stdout",
       "text": [
        "\n",
        "convert -resize 25x25! competition_data/train/echinoderm_larva_seastar_bipinnaria/75226.jpg competition_data/train_25x25/echinoderm_larva_seastar_bipinnaria/75226.jpg\n",
        "convert -resize 25x25! competition_data/train/echinoderm_larva_seastar_bipinnaria/148740.jpg competition_data/train_25x25/echinoderm_larva_seastar_bipinnaria/148740.jpg"
       ]
      },
      {
       "output_type": "stream",
       "stream": "stdout",
       "text": [
        "\n",
        "convert -resize 25x25! competition_data/train/echinoderm_larva_seastar_bipinnaria/42509.jpg competition_data/train_25x25/echinoderm_larva_seastar_bipinnaria/42509.jpg"
       ]
      },
      {
       "output_type": "stream",
       "stream": "stdout",
       "text": [
        "\n",
        "convert -resize 25x25! competition_data/train/echinoderm_larva_seastar_bipinnaria/117298.jpg competition_data/train_25x25/echinoderm_larva_seastar_bipinnaria/117298.jpg"
       ]
      },
      {
       "output_type": "stream",
       "stream": "stdout",
       "text": [
        "\n",
        "convert -resize 25x25! competition_data/train/echinoderm_larva_seastar_bipinnaria/4187.jpg competition_data/train_25x25/echinoderm_larva_seastar_bipinnaria/4187.jpg"
       ]
      },
      {
       "output_type": "stream",
       "stream": "stdout",
       "text": [
        "\n",
        "convert -resize 25x25! competition_data/train/echinoderm_larva_seastar_bipinnaria/140738.jpg competition_data/train_25x25/echinoderm_larva_seastar_bipinnaria/140738.jpg"
       ]
      },
      {
       "output_type": "stream",
       "stream": "stdout",
       "text": [
        "\n",
        "convert -resize 25x25! competition_data/train/echinoderm_larva_seastar_bipinnaria/8492.jpg competition_data/train_25x25/echinoderm_larva_seastar_bipinnaria/8492.jpg"
       ]
      },
      {
       "output_type": "stream",
       "stream": "stdout",
       "text": [
        "\n",
        "convert -resize 25x25! competition_data/train/echinoderm_larva_seastar_bipinnaria/38421.jpg competition_data/train_25x25/echinoderm_larva_seastar_bipinnaria/38421.jpg"
       ]
      },
      {
       "output_type": "stream",
       "stream": "stdout",
       "text": [
        "\n",
        "convert -resize 25x25! competition_data/train/echinoderm_larva_seastar_bipinnaria/82716.jpg competition_data/train_25x25/echinoderm_larva_seastar_bipinnaria/82716.jpg"
       ]
      },
      {
       "output_type": "stream",
       "stream": "stdout",
       "text": [
        "\n",
        "convert -resize 25x25! competition_data/train/echinoderm_larva_seastar_bipinnaria/72761.jpg competition_data/train_25x25/echinoderm_larva_seastar_bipinnaria/72761.jpg"
       ]
      },
      {
       "output_type": "stream",
       "stream": "stdout",
       "text": [
        "\n",
        "convert -resize 25x25! competition_data/train/echinoderm_larva_seastar_bipinnaria/23858.jpg competition_data/train_25x25/echinoderm_larva_seastar_bipinnaria/23858.jpg"
       ]
      },
      {
       "output_type": "stream",
       "stream": "stdout",
       "text": [
        "\n",
        "convert -resize 25x25! competition_data/train/echinoderm_larva_seastar_bipinnaria/26528.jpg competition_data/train_25x25/echinoderm_larva_seastar_bipinnaria/26528.jpg"
       ]
      },
      {
       "output_type": "stream",
       "stream": "stdout",
       "text": [
        "\n",
        "convert -resize 25x25! competition_data/train/echinoderm_larva_seastar_bipinnaria/20092.jpg competition_data/train_25x25/echinoderm_larva_seastar_bipinnaria/20092.jpg"
       ]
      },
      {
       "output_type": "stream",
       "stream": "stdout",
       "text": [
        "\n",
        "convert -resize 25x25! competition_data/train/echinoderm_larva_seastar_bipinnaria/94053.jpg competition_data/train_25x25/echinoderm_larva_seastar_bipinnaria/94053.jpg"
       ]
      },
      {
       "output_type": "stream",
       "stream": "stdout",
       "text": [
        "\n",
        "convert -resize 25x25! competition_data/train/echinoderm_larva_seastar_bipinnaria/91430.jpg competition_data/train_25x25/echinoderm_larva_seastar_bipinnaria/91430.jpg"
       ]
      },
      {
       "output_type": "stream",
       "stream": "stdout",
       "text": [
        "\n",
        "convert -resize 25x25! competition_data/train/echinoderm_larva_seastar_bipinnaria/6788.jpg competition_data/train_25x25/echinoderm_larva_seastar_bipinnaria/6788.jpg"
       ]
      },
      {
       "output_type": "stream",
       "stream": "stdout",
       "text": [
        "\n",
        "convert -resize 25x25! competition_data/train/echinoderm_larva_seastar_bipinnaria/133143.jpg competition_data/train_25x25/echinoderm_larva_seastar_bipinnaria/133143.jpg"
       ]
      },
      {
       "output_type": "stream",
       "stream": "stdout",
       "text": [
        "\n",
        "convert -resize 25x25! competition_data/train/echinoderm_larva_seastar_bipinnaria/120257.jpg competition_data/train_25x25/echinoderm_larva_seastar_bipinnaria/120257.jpg"
       ]
      },
      {
       "output_type": "stream",
       "stream": "stdout",
       "text": [
        "\n",
        "convert -resize 25x25! competition_data/train/echinoderm_larva_seastar_bipinnaria/53527.jpg competition_data/train_25x25/echinoderm_larva_seastar_bipinnaria/53527.jpg"
       ]
      },
      {
       "output_type": "stream",
       "stream": "stdout",
       "text": [
        "\n",
        "convert -resize 25x25! competition_data/train/echinoderm_larva_seastar_bipinnaria/72700.jpg competition_data/train_25x25/echinoderm_larva_seastar_bipinnaria/72700.jpg"
       ]
      },
      {
       "output_type": "stream",
       "stream": "stdout",
       "text": [
        "\n",
        "convert -resize 25x25! competition_data/train/echinoderm_larva_seastar_bipinnaria/67062.jpg competition_data/train_25x25/echinoderm_larva_seastar_bipinnaria/67062.jpg"
       ]
      },
      {
       "output_type": "stream",
       "stream": "stdout",
       "text": [
        "\n",
        "convert -resize 25x25! competition_data/train/echinoderm_larva_seastar_bipinnaria/111509.jpg competition_data/train_25x25/echinoderm_larva_seastar_bipinnaria/111509.jpg"
       ]
      },
      {
       "output_type": "stream",
       "stream": "stdout",
       "text": [
        "\n",
        "convert -resize 25x25! competition_data/train/echinoderm_larva_seastar_bipinnaria/35011.jpg competition_data/train_25x25/echinoderm_larva_seastar_bipinnaria/35011.jpg"
       ]
      },
      {
       "output_type": "stream",
       "stream": "stdout",
       "text": [
        "\n",
        "convert -resize 25x25! competition_data/train/echinoderm_larva_seastar_bipinnaria/70119.jpg competition_data/train_25x25/echinoderm_larva_seastar_bipinnaria/70119.jpg"
       ]
      },
      {
       "output_type": "stream",
       "stream": "stdout",
       "text": [
        "\n",
        "convert -resize 25x25! competition_data/train/echinoderm_larva_seastar_bipinnaria/147457.jpg competition_data/train_25x25/echinoderm_larva_seastar_bipinnaria/147457.jpg"
       ]
      },
      {
       "output_type": "stream",
       "stream": "stdout",
       "text": [
        "\n",
        "convert -resize 25x25! competition_data/train/echinoderm_larva_seastar_bipinnaria/74319.jpg competition_data/train_25x25/echinoderm_larva_seastar_bipinnaria/74319.jpg\n",
        "convert -resize 25x25! competition_data/train/echinoderm_larva_seastar_bipinnaria/92599.jpg competition_data/train_25x25/echinoderm_larva_seastar_bipinnaria/92599.jpg"
       ]
      },
      {
       "output_type": "stream",
       "stream": "stdout",
       "text": [
        "\n",
        "convert -resize 25x25! competition_data/train/echinoderm_larva_seastar_bipinnaria/60895.jpg competition_data/train_25x25/echinoderm_larva_seastar_bipinnaria/60895.jpg\n",
        "convert -resize 25x25! competition_data/train/echinoderm_larva_seastar_bipinnaria/48617.jpg competition_data/train_25x25/echinoderm_larva_seastar_bipinnaria/48617.jpg"
       ]
      },
      {
       "output_type": "stream",
       "stream": "stdout",
       "text": [
        "\n",
        "convert -resize 25x25! competition_data/train/echinoderm_larva_seastar_bipinnaria/138727.jpg competition_data/train_25x25/echinoderm_larva_seastar_bipinnaria/138727.jpg\n",
        "convert -resize 25x25! competition_data/train/echinoderm_larva_seastar_bipinnaria/64835.jpg competition_data/train_25x25/echinoderm_larva_seastar_bipinnaria/64835.jpg"
       ]
      },
      {
       "output_type": "stream",
       "stream": "stdout",
       "text": [
        "\n",
        "convert -resize 25x25! competition_data/train/echinoderm_larva_seastar_bipinnaria/160240.jpg competition_data/train_25x25/echinoderm_larva_seastar_bipinnaria/160240.jpg\n",
        "convert -resize 25x25! competition_data/train/echinoderm_larva_seastar_bipinnaria/41184.jpg competition_data/train_25x25/echinoderm_larva_seastar_bipinnaria/41184.jpg"
       ]
      },
      {
       "output_type": "stream",
       "stream": "stdout",
       "text": [
        "\n",
        "convert -resize 25x25! competition_data/train/echinoderm_larva_seastar_bipinnaria/94393.jpg competition_data/train_25x25/echinoderm_larva_seastar_bipinnaria/94393.jpg\n",
        "convert -resize 25x25! competition_data/train/echinoderm_larva_seastar_bipinnaria/51380.jpg competition_data/train_25x25/echinoderm_larva_seastar_bipinnaria/51380.jpg"
       ]
      },
      {
       "output_type": "stream",
       "stream": "stdout",
       "text": [
        "\n",
        "convert -resize 25x25! competition_data/train/echinoderm_larva_seastar_bipinnaria/103120.jpg competition_data/train_25x25/echinoderm_larva_seastar_bipinnaria/103120.jpg"
       ]
      },
      {
       "output_type": "stream",
       "stream": "stdout",
       "text": [
        "\n",
        "convert -resize 25x25! competition_data/train/echinoderm_larva_seastar_bipinnaria/68706.jpg competition_data/train_25x25/echinoderm_larva_seastar_bipinnaria/68706.jpg\n",
        "convert -resize 25x25! competition_data/train/echinoderm_larva_seastar_bipinnaria/142734.jpg competition_data/train_25x25/echinoderm_larva_seastar_bipinnaria/142734.jpg"
       ]
      },
      {
       "output_type": "stream",
       "stream": "stdout",
       "text": [
        "\n",
        "convert -resize 25x25! competition_data/train/echinoderm_larva_seastar_bipinnaria/101431.jpg competition_data/train_25x25/echinoderm_larva_seastar_bipinnaria/101431.jpg"
       ]
      },
      {
       "output_type": "stream",
       "stream": "stdout",
       "text": [
        "\n",
        "convert -resize 25x25! competition_data/train/echinoderm_larva_seastar_bipinnaria/105189.jpg competition_data/train_25x25/echinoderm_larva_seastar_bipinnaria/105189.jpg"
       ]
      },
      {
       "output_type": "stream",
       "stream": "stdout",
       "text": [
        "\n",
        "convert -resize 25x25! competition_data/train/echinoderm_larva_seastar_bipinnaria/73298.jpg competition_data/train_25x25/echinoderm_larva_seastar_bipinnaria/73298.jpg"
       ]
      },
      {
       "output_type": "stream",
       "stream": "stdout",
       "text": [
        "\n",
        "convert -resize 25x25! competition_data/train/echinoderm_larva_seastar_bipinnaria/19051.jpg competition_data/train_25x25/echinoderm_larva_seastar_bipinnaria/19051.jpg"
       ]
      },
      {
       "output_type": "stream",
       "stream": "stdout",
       "text": [
        "\n",
        "convert -resize 25x25! competition_data/train/echinoderm_larva_seastar_bipinnaria/142382.jpg competition_data/train_25x25/echinoderm_larva_seastar_bipinnaria/142382.jpg"
       ]
      },
      {
       "output_type": "stream",
       "stream": "stdout",
       "text": [
        "\n",
        "convert -resize 25x25! competition_data/train/echinoderm_larva_seastar_bipinnaria/82497.jpg competition_data/train_25x25/echinoderm_larva_seastar_bipinnaria/82497.jpg"
       ]
      },
      {
       "output_type": "stream",
       "stream": "stdout",
       "text": [
        "\n",
        "convert -resize 25x25! competition_data/train/echinoderm_larva_seastar_bipinnaria/20786.jpg competition_data/train_25x25/echinoderm_larva_seastar_bipinnaria/20786.jpg"
       ]
      },
      {
       "output_type": "stream",
       "stream": "stdout",
       "text": [
        "\n",
        "convert -resize 25x25! competition_data/train/echinoderm_larva_seastar_bipinnaria/56316.jpg competition_data/train_25x25/echinoderm_larva_seastar_bipinnaria/56316.jpg"
       ]
      },
      {
       "output_type": "stream",
       "stream": "stdout",
       "text": [
        "\n",
        "convert -resize 25x25! competition_data/train/echinoderm_larva_seastar_bipinnaria/140661.jpg competition_data/train_25x25/echinoderm_larva_seastar_bipinnaria/140661.jpg"
       ]
      },
      {
       "output_type": "stream",
       "stream": "stdout",
       "text": [
        "\n",
        "convert -resize 25x25! competition_data/train/echinoderm_larva_seastar_bipinnaria/91069.jpg competition_data/train_25x25/echinoderm_larva_seastar_bipinnaria/91069.jpg"
       ]
      },
      {
       "output_type": "stream",
       "stream": "stdout",
       "text": [
        "\n",
        "convert -resize 25x25! competition_data/train/echinoderm_larva_seastar_bipinnaria/14453.jpg competition_data/train_25x25/echinoderm_larva_seastar_bipinnaria/14453.jpg"
       ]
      },
      {
       "output_type": "stream",
       "stream": "stdout",
       "text": [
        "\n",
        "convert -resize 25x25! competition_data/train/echinoderm_larva_seastar_bipinnaria/189.jpg competition_data/train_25x25/echinoderm_larva_seastar_bipinnaria/189.jpg"
       ]
      },
      {
       "output_type": "stream",
       "stream": "stdout",
       "text": [
        "\n",
        "convert -resize 25x25! competition_data/train/echinoderm_larva_seastar_bipinnaria/88886.jpg competition_data/train_25x25/echinoderm_larva_seastar_bipinnaria/88886.jpg"
       ]
      },
      {
       "output_type": "stream",
       "stream": "stdout",
       "text": [
        "\n",
        "convert -resize 25x25! competition_data/train/echinoderm_larva_seastar_bipinnaria/144712.jpg competition_data/train_25x25/echinoderm_larva_seastar_bipinnaria/144712.jpg"
       ]
      },
      {
       "output_type": "stream",
       "stream": "stdout",
       "text": [
        "\n",
        "convert -resize 25x25! competition_data/train/echinoderm_larva_seastar_bipinnaria/132013.jpg competition_data/train_25x25/echinoderm_larva_seastar_bipinnaria/132013.jpg"
       ]
      },
      {
       "output_type": "stream",
       "stream": "stdout",
       "text": [
        "\n",
        "convert -resize 25x25! competition_data/train/echinoderm_larva_seastar_bipinnaria/83424.jpg competition_data/train_25x25/echinoderm_larva_seastar_bipinnaria/83424.jpg"
       ]
      },
      {
       "output_type": "stream",
       "stream": "stdout",
       "text": [
        "\n",
        "convert -resize 25x25! competition_data/train/echinoderm_larva_seastar_bipinnaria/76608.jpg competition_data/train_25x25/echinoderm_larva_seastar_bipinnaria/76608.jpg"
       ]
      },
      {
       "output_type": "stream",
       "stream": "stdout",
       "text": [
        "\n",
        "convert -resize 25x25! competition_data/train/echinoderm_larva_seastar_bipinnaria/35956.jpg competition_data/train_25x25/echinoderm_larva_seastar_bipinnaria/35956.jpg"
       ]
      },
      {
       "output_type": "stream",
       "stream": "stdout",
       "text": [
        "\n",
        "convert -resize 25x25! competition_data/train/echinoderm_larva_seastar_bipinnaria/82636.jpg competition_data/train_25x25/echinoderm_larva_seastar_bipinnaria/82636.jpg"
       ]
      },
      {
       "output_type": "stream",
       "stream": "stdout",
       "text": [
        "\n",
        "convert -resize 25x25! competition_data/train/echinoderm_larva_seastar_bipinnaria/5160.jpg competition_data/train_25x25/echinoderm_larva_seastar_bipinnaria/5160.jpg"
       ]
      },
      {
       "output_type": "stream",
       "stream": "stdout",
       "text": [
        "\n",
        "convert -resize 25x25! competition_data/train/echinoderm_larva_seastar_bipinnaria/104064.jpg competition_data/train_25x25/echinoderm_larva_seastar_bipinnaria/104064.jpg"
       ]
      },
      {
       "output_type": "stream",
       "stream": "stdout",
       "text": [
        "\n",
        "convert -resize 25x25! competition_data/train/echinoderm_larva_seastar_bipinnaria/116058.jpg competition_data/train_25x25/echinoderm_larva_seastar_bipinnaria/116058.jpg"
       ]
      },
      {
       "output_type": "stream",
       "stream": "stdout",
       "text": [
        "\n",
        "convert -resize 25x25! competition_data/train/echinoderm_larva_seastar_bipinnaria/135928.jpg competition_data/train_25x25/echinoderm_larva_seastar_bipinnaria/135928.jpg"
       ]
      },
      {
       "output_type": "stream",
       "stream": "stdout",
       "text": [
        "\n",
        "convert -resize 25x25! competition_data/train/echinoderm_larva_seastar_bipinnaria/132712.jpg competition_data/train_25x25/echinoderm_larva_seastar_bipinnaria/132712.jpg"
       ]
      },
      {
       "output_type": "stream",
       "stream": "stdout",
       "text": [
        "\n",
        "convert -resize 25x25! competition_data/train/echinoderm_larva_seastar_bipinnaria/50714.jpg competition_data/train_25x25/echinoderm_larva_seastar_bipinnaria/50714.jpg"
       ]
      },
      {
       "output_type": "stream",
       "stream": "stdout",
       "text": [
        "\n",
        "convert -resize 25x25! competition_data/train/echinoderm_larva_seastar_bipinnaria/132630.jpg competition_data/train_25x25/echinoderm_larva_seastar_bipinnaria/132630.jpg"
       ]
      },
      {
       "output_type": "stream",
       "stream": "stdout",
       "text": [
        "\n",
        "convert -resize 25x25! competition_data/train/echinoderm_larva_seastar_bipinnaria/41465.jpg competition_data/train_25x25/echinoderm_larva_seastar_bipinnaria/41465.jpg"
       ]
      },
      {
       "output_type": "stream",
       "stream": "stdout",
       "text": [
        "\n",
        "convert -resize 25x25! competition_data/train/echinoderm_larva_seastar_bipinnaria/108592.jpg competition_data/train_25x25/echinoderm_larva_seastar_bipinnaria/108592.jpg"
       ]
      },
      {
       "output_type": "stream",
       "stream": "stdout",
       "text": [
        "\n",
        "convert -resize 25x25! competition_data/train/echinoderm_larva_seastar_bipinnaria/74374.jpg competition_data/train_25x25/echinoderm_larva_seastar_bipinnaria/74374.jpg"
       ]
      },
      {
       "output_type": "stream",
       "stream": "stdout",
       "text": [
        "\n",
        "convert -resize 25x25! competition_data/train/echinoderm_larva_seastar_bipinnaria/151202.jpg competition_data/train_25x25/echinoderm_larva_seastar_bipinnaria/151202.jpg"
       ]
      },
      {
       "output_type": "stream",
       "stream": "stdout",
       "text": [
        "\n",
        "convert -resize 25x25! competition_data/train/echinoderm_larva_seastar_bipinnaria/105120.jpg competition_data/train_25x25/echinoderm_larva_seastar_bipinnaria/105120.jpg"
       ]
      },
      {
       "output_type": "stream",
       "stream": "stdout",
       "text": [
        "\n",
        "convert -resize 25x25! competition_data/train/echinoderm_larva_seastar_bipinnaria/119571.jpg competition_data/train_25x25/echinoderm_larva_seastar_bipinnaria/119571.jpg"
       ]
      },
      {
       "output_type": "stream",
       "stream": "stdout",
       "text": [
        "\n",
        "convert -resize 25x25! competition_data/train/echinoderm_larva_seastar_bipinnaria/106008.jpg competition_data/train_25x25/echinoderm_larva_seastar_bipinnaria/106008.jpg"
       ]
      },
      {
       "output_type": "stream",
       "stream": "stdout",
       "text": [
        "\n",
        "convert -resize 25x25! competition_data/train/echinoderm_larva_seastar_bipinnaria/43744.jpg competition_data/train_25x25/echinoderm_larva_seastar_bipinnaria/43744.jpg\n",
        "convert -resize 25x25! competition_data/train/echinoderm_larva_seastar_bipinnaria/135689.jpg competition_data/train_25x25/echinoderm_larva_seastar_bipinnaria/135689.jpg"
       ]
      },
      {
       "output_type": "stream",
       "stream": "stdout",
       "text": [
        "\n",
        "convert -resize 25x25! competition_data/train/echinoderm_larva_seastar_bipinnaria/12588.jpg competition_data/train_25x25/echinoderm_larva_seastar_bipinnaria/12588.jpg\n",
        "convert -resize 25x25! competition_data/train/echinoderm_larva_seastar_bipinnaria/82787.jpg competition_data/train_25x25/echinoderm_larva_seastar_bipinnaria/82787.jpg"
       ]
      },
      {
       "output_type": "stream",
       "stream": "stdout",
       "text": [
        "\n",
        "convert -resize 25x25! competition_data/train/echinoderm_larva_seastar_bipinnaria/139699.jpg competition_data/train_25x25/echinoderm_larva_seastar_bipinnaria/139699.jpg\n",
        "convert -resize 25x25! competition_data/train/echinoderm_larva_seastar_bipinnaria/18831.jpg competition_data/train_25x25/echinoderm_larva_seastar_bipinnaria/18831.jpg"
       ]
      },
      {
       "output_type": "stream",
       "stream": "stdout",
       "text": [
        "\n",
        "convert -resize 25x25! competition_data/train/echinoderm_larva_seastar_bipinnaria/75264.jpg competition_data/train_25x25/echinoderm_larva_seastar_bipinnaria/75264.jpg\n",
        "convert -resize 25x25! competition_data/train/echinoderm_larva_seastar_bipinnaria/67520.jpg competition_data/train_25x25/echinoderm_larva_seastar_bipinnaria/67520.jpg"
       ]
      },
      {
       "output_type": "stream",
       "stream": "stdout",
       "text": [
        "\n",
        "convert -resize 25x25! competition_data/train/echinoderm_larva_seastar_bipinnaria/61170.jpg competition_data/train_25x25/echinoderm_larva_seastar_bipinnaria/61170.jpg\n",
        "convert -resize 25x25! competition_data/train/echinoderm_larva_seastar_bipinnaria/141222.jpg competition_data/train_25x25/echinoderm_larva_seastar_bipinnaria/141222.jpg"
       ]
      },
      {
       "output_type": "stream",
       "stream": "stdout",
       "text": [
        "\n",
        "convert -resize 25x25! competition_data/train/echinoderm_larva_seastar_bipinnaria/36944.jpg competition_data/train_25x25/echinoderm_larva_seastar_bipinnaria/36944.jpg\n",
        "convert -resize 25x25! competition_data/train/echinoderm_larva_seastar_bipinnaria/12561.jpg competition_data/train_25x25/echinoderm_larva_seastar_bipinnaria/12561.jpg"
       ]
      },
      {
       "output_type": "stream",
       "stream": "stdout",
       "text": [
        "\n",
        "convert -resize 25x25! competition_data/train/echinoderm_larva_seastar_bipinnaria/138300.jpg competition_data/train_25x25/echinoderm_larva_seastar_bipinnaria/138300.jpg"
       ]
      },
      {
       "output_type": "stream",
       "stream": "stdout",
       "text": [
        "\n",
        "convert -resize 25x25! competition_data/train/echinoderm_larva_seastar_bipinnaria/32450.jpg competition_data/train_25x25/echinoderm_larva_seastar_bipinnaria/32450.jpg\n",
        "convert -resize 25x25! competition_data/train/echinoderm_larva_seastar_bipinnaria/94998.jpg competition_data/train_25x25/echinoderm_larva_seastar_bipinnaria/94998.jpg"
       ]
      },
      {
       "output_type": "stream",
       "stream": "stdout",
       "text": [
        "\n",
        "convert -resize 25x25! competition_data/train/echinoderm_larva_seastar_bipinnaria/91558.jpg competition_data/train_25x25/echinoderm_larva_seastar_bipinnaria/91558.jpg"
       ]
      },
      {
       "output_type": "stream",
       "stream": "stdout",
       "text": [
        "\n",
        "convert -resize 25x25! competition_data/train/echinoderm_larva_seastar_bipinnaria/4892.jpg competition_data/train_25x25/echinoderm_larva_seastar_bipinnaria/4892.jpg"
       ]
      },
      {
       "output_type": "stream",
       "stream": "stdout",
       "text": [
        "\n",
        "convert -resize 25x25! competition_data/train/echinoderm_larva_seastar_bipinnaria/72444.jpg competition_data/train_25x25/echinoderm_larva_seastar_bipinnaria/72444.jpg"
       ]
      },
      {
       "output_type": "stream",
       "stream": "stdout",
       "text": [
        "\n",
        "convert -resize 25x25! competition_data/train/echinoderm_larva_seastar_bipinnaria/63044.jpg competition_data/train_25x25/echinoderm_larva_seastar_bipinnaria/63044.jpg"
       ]
      },
      {
       "output_type": "stream",
       "stream": "stdout",
       "text": [
        "\n",
        "convert -resize 25x25! competition_data/train/echinoderm_larva_seastar_bipinnaria/35002.jpg competition_data/train_25x25/echinoderm_larva_seastar_bipinnaria/35002.jpg"
       ]
      },
      {
       "output_type": "stream",
       "stream": "stdout",
       "text": [
        "\n",
        "convert -resize 25x25! competition_data/train/echinoderm_larva_seastar_bipinnaria/50170.jpg competition_data/train_25x25/echinoderm_larva_seastar_bipinnaria/50170.jpg"
       ]
      },
      {
       "output_type": "stream",
       "stream": "stdout",
       "text": [
        "\n",
        "convert -resize 25x25! competition_data/train/echinoderm_larva_seastar_bipinnaria/72917.jpg competition_data/train_25x25/echinoderm_larva_seastar_bipinnaria/72917.jpg"
       ]
      }
     ]
    },
    {
     "cell_type": "code",
     "collapsed": false,
     "input": [
      "def read_image(fname=const.DEFAULT_IMAGE_FILE, verbose=False):\n",
      "    \"\"\" Read an image and return a numpy uint8 array of values \"\"\" \n",
      "    if verbose: print 'reading ', fname\n",
      "    # note as_grey=True returns an array of uint8 between 0 and 255\n",
      "    im = imread(fname, as_grey=True)\n",
      "    return im\n",
      "\n",
      "def get_all_train_image_sizes():\n",
      "    im_sizes = np.zeros((const.NTRAIN,2))\n",
      "    for i,fn in enumerate(const.TRAIN_IMAGE_PATHS):\n",
      "        im = read_image(fn)\n",
      "        im_sizes[i,:] = im.shape\n",
      "    return im_sizes\n",
      "\n",
      "def show_image(im):\n",
      "    \"\"\" Display a grey scale version of the plankton image. \"\"\" \n",
      "    plt.imshow(im, cmap=cm.gray)\n",
      "    plt.show()\n",
      "\n",
      "def threshold_dilate_label_image(im):\n",
      "    im_thr = im.copy()\n",
      "    im_thr = np.where(im > np.mean(im), 0.0, 1.0).astype('uint8')\n",
      "    im_dil = morphology.dilation(im_thr, np.ones((5,5), dtype='uint8'))\n",
      "    im_lbld = measure.label(im_dil) * im_thr # each pixel labeled with int\n",
      "    return (im_thr, im_dil, im_lbld)\n",
      "\n",
      "def get_largest_region(im_thr, im_lbld):\n",
      "    region_props = measure.regionprops(im_lbld)\n",
      "    largest_region = None\n",
      "    for rp in region_props:\n",
      "        # check region is >= 50% nonzero\n",
      "        if sum(im_thr[im_lbld==rp.label]) * 1.0/rp.area < 0.50:\n",
      "            continue\n",
      "        if largest_region is None:\n",
      "            largest_region = rp\n",
      "        if largest_region.filled_area < rp.filled_area:\n",
      "            largest_region = rp\n",
      "    return largest_region\n",
      "\n",
      "def show_image5(im):\n",
      "    \"\"\" Display grey scale, threshold, dilated, and labeled\n",
      "    versions of the plankton image in fname. \"\"\" \n",
      "    im_thr, im_dil, im_lbld = threshold_dilate_label_image(im)\n",
      "    lrgst_reg = get_largest_region(im_thr, im_lbld)\n",
      "    im_lr = np.where(im_lbld==lrgst_reg.label, 0, 1)\n",
      "\n",
      "    f = plt.figure(figsize=(14,3))\n",
      "    sub1 = plt.subplot(1,5,1)\n",
      "    plt.imshow(im, cmap=cm.gray)\n",
      "    sub1.set_title(\"Original Image\")\n",
      "    sub2 = plt.subplot(1,5,2)\n",
      "    plt.imshow(im_thr, cmap=cm.gray_r)\n",
      "    sub2.set_title(\"Thresholded Image\")\n",
      "    sub3 = plt.subplot(1,5,3)\n",
      "    plt.imshow(im_dil, cmap=cm.gray_r)\n",
      "    sub3.set_title(\"Dilated Image\")\n",
      "    sub4 = plt.subplot(1,5,4)\n",
      "    plt.imshow(im_lbld)\n",
      "    sub4.set_title(\"Labeled Image\")\n",
      "    sub5 = plt.subplot(1,5,5)\n",
      "    plt.imshow(im_lr)\n",
      "    sub5.set_title(\"Largest Connected\")\n",
      "    plt.show()\n",
      "\n",
      "def get_minor_major_ratio(region):    \n",
      "    \"\"\" Return minor/major axis ratio from a region. \"\"\" \n",
      "    if (region is None) or (region.major_axis_length == 0.0):\n",
      "        return 0.0\n",
      "    else:\n",
      "        return region.minor_axis_length*1.0 / region.major_axis_length    \n",
      "\n",
      "\n",
      "def build_training_vectors(npx=32):\n",
      "    # check if rescaled training images exist\n",
      "    train_path = \"competition_data/train_{0}x{0}\".format(npx)\n",
      "    if not os.path.isdir(train_path):\n",
      "        print \"no rescaled training images for npx=\"+str(npx)\n",
      "        print \"train_path=\", train_path\n",
      "        sys.exit(1)\n",
      "\n",
      "    imageSize = npx*npx\n",
      "    num_rows = const.NTRAIN # one row for each image in the training dataset\n",
      "    num_features = npx*npx + 1 # all pixels + 1 for our ratio\n",
      "\n",
      "    # X is the feature vector with one row of features per image\n",
      "    # consisting of the pixel values and our metric\n",
      "    X = np.zeros((num_rows, num_features), dtype=float)\n",
      "    # y is the numeric class label \n",
      "    y = np.zeros(num_rows)\n",
      "\n",
      "    print \"Building training vectors\"\n",
      "    ifile = 0\n",
      "    report = [int((j+1)*num_rows/20.) for j in range(20)]\n",
      "    for icls, cls in enumerate(const.CLASS_NAMES):\n",
      "        cls_dir = os.path.join(train_path, cls)\n",
      "        for img_name in os.listdir(cls_dir):\n",
      "            fname = os.path.join(cls_dir, img_name)\n",
      "            im = read_image(fname)\n",
      "            im_thr, im_dil, im_lbld = threshold_dilate_label_image(im)\n",
      "            lrgst_reg = get_largest_region(im_thr, im_lbld)\n",
      "            axis_ratio = get_minor_major_ratio(lrgst_reg)\n",
      "\n",
      "            # Store the rescaled image pixels and the axis ratio\n",
      "            X[ifile, 0:imageSize] = np.reshape(im, (1, imageSize))\n",
      "            X[ifile, imageSize] = axis_ratio\n",
      "            \n",
      "            # Store the classlabel\n",
      "            y[ifile] = icls\n",
      "\n",
      "            ifile += 1\n",
      "            # report progress for each 5% done  \n",
      "            if ifile in report: \n",
      "                print np.ceil(ifile * 100.0 / num_rows), \"% done\"\n",
      "\n",
      "    return (X,y)\n",
      "\n",
      "def random_forest_classifier(X, y, n_estimators=100, cv=5):\n",
      "    print \"Creating random forest classifier\"\n",
      "    # n_estimators is the number of decision trees\n",
      "    # max_features also known as m_try is set to the default value of the \n",
      "    # square root of the number of features\n",
      "    clf = RF(n_estimators=n_estimators, n_jobs=2)\n",
      "\n",
      "    print \"Running cross_val_score\"\n",
      "    scores = cross_validation.cross_val_score(clf, X, y, cv=cv, n_jobs=2);\n",
      "\n",
      "    print \"Accuracy of all classes\"\n",
      "    print np.mean(scores)\n",
      "\n",
      "    print \"Running fit on 5 K-folds\"\n",
      "    kf = KFold(y, n_folds=5)\n",
      "    y_pred = y * 0\n",
      "    for train, test in kf:\n",
      "        X_train, X_test, y_train, y_test = \\\n",
      "            X[train,:], X[test,:], y[train], y[test]\n",
      "        clf = RF(n_estimators=100, n_jobs=3)\n",
      "        clf.fit(X_train, y_train)\n",
      "        y_pred[test] = clf.predict(X_test)\n",
      "    print classification_report(y, y_pred, target_names=const.CLASS_NAMES)\n",
      "\n",
      "def multiclass_log_loss(y_true, y_pred, eps=1e-15):\n",
      "    \"\"\"Multi class version of Logarithmic Loss metric.\n",
      "    https://www.kaggle.com/wiki/MultiClassLogLoss\n",
      "    Parameters\n",
      "    ----------\n",
      "    y_true : array, shape = [n_samples]\n",
      "            true class, intergers in [0, n_classes - 1)\n",
      "    y_pred : array, shape = [n_samples, n_classes]\n",
      "    Returns\n",
      "    -------\n",
      "    loss : float\n",
      "    \"\"\"\n",
      "    predictions = np.clip(y_pred, eps, 1 - eps)\n",
      "\n",
      "    # normalize row sums to 1\n",
      "    predictions /= predictions.sum(axis=1)[:, np.newaxis]\n",
      "\n",
      "    actual = np.zeros(y_pred.shape)\n",
      "    n_samples = actual.shape[0]\n",
      "    actual[np.arange(n_samples), y_true.astype(int)] = 1\n",
      "    vectsum = np.sum(actual * np.log(predictions))\n",
      "    loss = -1.0 / n_samples * vectsum\n",
      "    return loss\n",
      "\n",
      "def report_log_loss(X,y):\n",
      "    # Get the probability predictions for computing the log-loss function\n",
      "    kf = KFold(y, n_folds=5)\n",
      "    # prediction probabilities number of samples, by number of classes\n",
      "    y_pred = np.zeros((len(y),len(set(y))))\n",
      "    for train, test in kf:\n",
      "        X_train, X_test, y_train, y_test = \\\n",
      "            X[train,:], X[test,:], y[train], y[test]\n",
      "        clf = RF(n_estimators=100, n_jobs=2)\n",
      "        clf.fit(X_train, y_train)\n",
      "        y_pred[test] = clf.predict_proba(X_test)\n",
      "\n",
      "    print 'multiclass log loss=', multiclass_log_loss(y, y_pred)\n",
      "\n",
      "\n",
      "\n",
      "if __name__ == \"__main__\":\n",
      "    X,y = build_training_vectors()\n",
      "    random_forest_classifier(X, y)\n",
      "    report_log_loss(X,y)"
     ],
     "language": "python",
     "metadata": {},
     "outputs": []
    },
    {
     "cell_type": "code",
     "collapsed": false,
     "input": [],
     "language": "python",
     "metadata": {},
     "outputs": [],
     "prompt_number": 1
    }
   ],
   "metadata": {}
  }
 ]
}