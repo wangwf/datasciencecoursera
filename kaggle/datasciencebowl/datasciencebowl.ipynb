{
 "metadata": {
  "name": "",
  "signature": "sha256:b8389655c7a4b33149d0907069efc62c343040edaa6cb24de9222cf2315ec96a"
 },
 "nbformat": 3,
 "nbformat_minor": 0,
 "worksheets": [
  {
   "cells": [
    {
     "cell_type": "code",
     "collapsed": false,
     "input": [
      "# Predict ocean health, one plankton at a time\n"
     ],
     "language": "python",
     "metadata": {},
     "outputs": []
    },
    {
     "cell_type": "code",
     "collapsed": false,
     "input": [
      "import graphlab as gl\n",
      "import os\n",
      "os.getcwd()\n",
      "\n",
      "#import graphlab as gl\n",
      "gl.canvas.set_target('ipynb')\n",
      "\n",
      "WORKING_DIR = '/data/imagenet'"
     ],
     "language": "python",
     "metadata": {},
     "outputs": [],
     "prompt_number": 37
    },
    {
     "cell_type": "markdown",
     "metadata": {},
     "source": [
      "#Prepare the training data sframe\n",
      "* First, we recursively load images from the extracted folders, in random order. This is important because neural network is trained using SGD which prefers unbaised gradients from uniformly random inputs.\n",
      "* Next, we use the builtin image analysis function to resize the images into the same size. \n",
      "* Finally, we extract the wordnet_id information from the path. The wordnet_id will be mapped to the category text at the end of the notebook."
     ]
    },
    {
     "cell_type": "code",
     "collapsed": false,
     "input": [
      "# Load images from the extracted folder in random order. \n",
      "\n",
      "TRAIN_IMAGE_LOCATION =\"./train/\"\n",
      "TEST_IMAGE_LOCATION =\"./test/\"\n",
      "\n",
      "train_image=gl.image_analysis.load_images(TRAIN_IMAGE_LOCATION, with_path=True, random_order=True)\n",
      "#test_image=gl.image_analysis.load_images(TEST_IMAGE_LOCATION, with_path=True, random_order=True)\n"
     ],
     "language": "python",
     "metadata": {},
     "outputs": []
    },
    {
     "cell_type": "code",
     "collapsed": false,
     "input": [
      "gl.SArray([train_image['image'][0]]).show()"
     ],
     "language": "python",
     "metadata": {},
     "outputs": []
    },
    {
     "cell_type": "code",
     "collapsed": false,
     "input": [
      "training_data, validation_data = train_image.random_split(0.8)\n"
     ],
     "language": "python",
     "metadata": {},
     "outputs": []
    },
    {
     "cell_type": "code",
     "collapsed": false,
     "input": [
      "# resize the images into same size\n",
      "nx,ny=28,28 #256,256\n",
      "train_image[\"image\"] = gl.image_analysis.resize(train_image[\"image\"], nx, ny)"
     ],
     "language": "python",
     "metadata": {},
     "outputs": []
    },
    {
     "cell_type": "code",
     "collapsed": false,
     "input": [
      "train_image['path'][0].split(\"/\")[-2]"
     ],
     "language": "python",
     "metadata": {},
     "outputs": []
    },
    {
     "cell_type": "code",
     "collapsed": false,
     "input": [
      "#train_image['wnid'] = train_image['path'].apply(lambda x: int(x.split('/')[-1].split(\".\")[0]))\n",
      "\n",
      "train_image['wnid'] = train_image['path'].apply(lambda x:  x.split('/')[-2])\n",
      "\n",
      "\n",
      "\n",
      "train_image.save(WORKING_DIR + '/sframe/train_shuffle')"
     ],
     "language": "python",
     "metadata": {},
     "outputs": []
    },
    {
     "cell_type": "code",
     "collapsed": false,
     "input": [
      "train_image"
     ],
     "language": "python",
     "metadata": {},
     "outputs": []
    },
    {
     "cell_type": "markdown",
     "metadata": {},
     "source": [
      "# Train the model\n"
     ]
    },
    {
     "cell_type": "code",
     "collapsed": false,
     "input": [
      "train_image = gl.SFrame(WORKING_DIR + '/sframe/train_shuffle')\n",
      "train_image.head()\n"
     ],
     "language": "python",
     "metadata": {},
     "outputs": [
      {
       "html": [
        "<div style=\"max-height:1000px;max-width:1500px;overflow:auto;\"><table frame=\"box\" rules=\"cols\">\n",
        "    <tr>\n",
        "        <th style=\"padding-left: 1em; padding-right: 1em; text-align: center\">path</th>\n",
        "        <th style=\"padding-left: 1em; padding-right: 1em; text-align: center\">image</th>\n",
        "        <th style=\"padding-left: 1em; padding-right: 1em; text-align: center\">wnid</th>\n",
        "    </tr>\n",
        "    <tr>\n",
        "        <td style=\"padding-left: 1em; padding-right: 1em; text-align: center; vertical-align: top\">/home/wenfeng/work/datasc<br>iencecoursera/kaggle/ ...</td>\n",
        "        <td style=\"padding-left: 1em; padding-right: 1em; text-align: center; vertical-align: top\">Height: 256 Width: 256</td>\n",
        "        <td style=\"padding-left: 1em; padding-right: 1em; text-align: center; vertical-align: top\">echinoderm_larva_seastar_<br>bipinnaria ...</td>\n",
        "    </tr>\n",
        "    <tr>\n",
        "        <td style=\"padding-left: 1em; padding-right: 1em; text-align: center; vertical-align: top\">/home/wenfeng/work/datasc<br>iencecoursera/kaggle/ ...</td>\n",
        "        <td style=\"padding-left: 1em; padding-right: 1em; text-align: center; vertical-align: top\">Height: 256 Width: 256</td>\n",
        "        <td style=\"padding-left: 1em; padding-right: 1em; text-align: center; vertical-align: top\">siphonophore_calycophoran<br>_rocketship_adult ...</td>\n",
        "    </tr>\n",
        "    <tr>\n",
        "        <td style=\"padding-left: 1em; padding-right: 1em; text-align: center; vertical-align: top\">/home/wenfeng/work/datasc<br>iencecoursera/kaggle/ ...</td>\n",
        "        <td style=\"padding-left: 1em; padding-right: 1em; text-align: center; vertical-align: top\">Height: 256 Width: 256</td>\n",
        "        <td style=\"padding-left: 1em; padding-right: 1em; text-align: center; vertical-align: top\">unknown_unclassified</td>\n",
        "    </tr>\n",
        "    <tr>\n",
        "        <td style=\"padding-left: 1em; padding-right: 1em; text-align: center; vertical-align: top\">/home/wenfeng/work/datasc<br>iencecoursera/kaggle/ ...</td>\n",
        "        <td style=\"padding-left: 1em; padding-right: 1em; text-align: center; vertical-align: top\">Height: 256 Width: 256</td>\n",
        "        <td style=\"padding-left: 1em; padding-right: 1em; text-align: center; vertical-align: top\">copepod_calanoid_large</td>\n",
        "    </tr>\n",
        "    <tr>\n",
        "        <td style=\"padding-left: 1em; padding-right: 1em; text-align: center; vertical-align: top\">/home/wenfeng/work/datasc<br>iencecoursera/kaggle/ ...</td>\n",
        "        <td style=\"padding-left: 1em; padding-right: 1em; text-align: center; vertical-align: top\">Height: 256 Width: 256</td>\n",
        "        <td style=\"padding-left: 1em; padding-right: 1em; text-align: center; vertical-align: top\">unknown_unclassified</td>\n",
        "    </tr>\n",
        "    <tr>\n",
        "        <td style=\"padding-left: 1em; padding-right: 1em; text-align: center; vertical-align: top\">/home/wenfeng/work/datasc<br>iencecoursera/kaggle/ ...</td>\n",
        "        <td style=\"padding-left: 1em; padding-right: 1em; text-align: center; vertical-align: top\">Height: 256 Width: 256</td>\n",
        "        <td style=\"padding-left: 1em; padding-right: 1em; text-align: center; vertical-align: top\">copepod_calanoid_eucalanu<br>s ...</td>\n",
        "    </tr>\n",
        "    <tr>\n",
        "        <td style=\"padding-left: 1em; padding-right: 1em; text-align: center; vertical-align: top\">/home/wenfeng/work/datasc<br>iencecoursera/kaggle/ ...</td>\n",
        "        <td style=\"padding-left: 1em; padding-right: 1em; text-align: center; vertical-align: top\">Height: 256 Width: 256</td>\n",
        "        <td style=\"padding-left: 1em; padding-right: 1em; text-align: center; vertical-align: top\">copepod_calanoid_flathead<br>s ...</td>\n",
        "    </tr>\n",
        "    <tr>\n",
        "        <td style=\"padding-left: 1em; padding-right: 1em; text-align: center; vertical-align: top\">/home/wenfeng/work/datasc<br>iencecoursera/kaggle/ ...</td>\n",
        "        <td style=\"padding-left: 1em; padding-right: 1em; text-align: center; vertical-align: top\">Height: 256 Width: 256</td>\n",
        "        <td style=\"padding-left: 1em; padding-right: 1em; text-align: center; vertical-align: top\">radiolarian_chain</td>\n",
        "    </tr>\n",
        "    <tr>\n",
        "        <td style=\"padding-left: 1em; padding-right: 1em; text-align: center; vertical-align: top\">/home/wenfeng/work/datasc<br>iencecoursera/kaggle/ ...</td>\n",
        "        <td style=\"padding-left: 1em; padding-right: 1em; text-align: center; vertical-align: top\">Height: 256 Width: 256</td>\n",
        "        <td style=\"padding-left: 1em; padding-right: 1em; text-align: center; vertical-align: top\">tunicate_doliolid</td>\n",
        "    </tr>\n",
        "    <tr>\n",
        "        <td style=\"padding-left: 1em; padding-right: 1em; text-align: center; vertical-align: top\">/home/wenfeng/work/datasc<br>iencecoursera/kaggle/ ...</td>\n",
        "        <td style=\"padding-left: 1em; padding-right: 1em; text-align: center; vertical-align: top\">Height: 256 Width: 256</td>\n",
        "        <td style=\"padding-left: 1em; padding-right: 1em; text-align: center; vertical-align: top\">protist_noctiluca</td>\n",
        "    </tr>\n",
        "</table>\n",
        "[10 rows x 3 columns]<br/>\n",
        "</div>"
       ],
       "metadata": {},
       "output_type": "pyout",
       "prompt_number": 68,
       "text": [
        "Columns:\n",
        "\tpath\tstr\n",
        "\timage\tImage\n",
        "\twnid\tstr\n",
        "\n",
        "Rows: 10\n",
        "\n",
        "Data:\n",
        "+-------------------------------+------------------------+\n",
        "|              path             |         image          |\n",
        "+-------------------------------+------------------------+\n",
        "| /home/wenfeng/work/datasci... | Height: 256 Width: 256 |\n",
        "| /home/wenfeng/work/datasci... | Height: 256 Width: 256 |\n",
        "| /home/wenfeng/work/datasci... | Height: 256 Width: 256 |\n",
        "| /home/wenfeng/work/datasci... | Height: 256 Width: 256 |\n",
        "| /home/wenfeng/work/datasci... | Height: 256 Width: 256 |\n",
        "| /home/wenfeng/work/datasci... | Height: 256 Width: 256 |\n",
        "| /home/wenfeng/work/datasci... | Height: 256 Width: 256 |\n",
        "| /home/wenfeng/work/datasci... | Height: 256 Width: 256 |\n",
        "| /home/wenfeng/work/datasci... | Height: 256 Width: 256 |\n",
        "| /home/wenfeng/work/datasci... | Height: 256 Width: 256 |\n",
        "+-------------------------------+------------------------+\n",
        "+-------------------------------+\n",
        "|              wnid             |\n",
        "+-------------------------------+\n",
        "| echinoderm_larva_seastar_b... |\n",
        "| siphonophore_calycophoran_... |\n",
        "|      unknown_unclassified     |\n",
        "|     copepod_calanoid_large    |\n",
        "|      unknown_unclassified     |\n",
        "|   copepod_calanoid_eucalanus  |\n",
        "|   copepod_calanoid_flatheads  |\n",
        "|       radiolarian_chain       |\n",
        "|       tunicate_doliolid       |\n",
        "|       protist_noctiluca       |\n",
        "+-------------------------------+\n",
        "[10 rows x 3 columns]"
       ]
      }
     ],
     "prompt_number": 68
    },
    {
     "cell_type": "code",
     "collapsed": false,
     "input": [
      "#Make a mapping from string to integer labels\n",
      "unique_labels = train_image['wnid'].unique().sort()\n",
      "\n",
      "class_map = {}                                                                  \n",
      "for i in range(len(unique_labels)):                                                        \n",
      "    class_map[unique_labels[i]] = i                                                        \n",
      "train_image['label'] = train_image['wnid'].apply(lambda x: class_map[x])\n",
      "\n",
      "\n",
      "\n",
      "\n",
      "\n",
      "# Save the mapping so that we can use it later when building customized classifier\n",
      "import pickle\n",
      "pickle.dump(class_map, file(WORKING_DIR + '/wnid_to_label.pkl', 'w'))"
     ],
     "language": "python",
     "metadata": {},
     "outputs": [],
     "prompt_number": 69
    },
    {
     "cell_type": "code",
     "collapsed": false,
     "input": [
      "#train_image\n",
      "len(unique_labels)"
     ],
     "language": "python",
     "metadata": {},
     "outputs": [
      {
       "metadata": {},
       "output_type": "pyout",
       "prompt_number": 70,
       "text": [
        "121"
       ]
      }
     ],
     "prompt_number": 70
    },
    {
     "cell_type": "code",
     "collapsed": false,
     "input": [
      "mean_image = train_image['image'].mean()\n",
      "mean_image"
     ],
     "language": "python",
     "metadata": {},
     "outputs": [
      {
       "metadata": {},
       "output_type": "pyout",
       "prompt_number": 72,
       "text": [
        "Height: 256px\n",
        "Width: 256px\n",
        "Channels: 3"
       ]
      }
     ],
     "prompt_number": 72
    },
    {
     "cell_type": "code",
     "collapsed": false,
     "input": [
      "#net = gl.deeplearning.get_builtin_neuralnet('imagenet')\n",
      "#net\n",
      "\n",
      "#train_image[[\"image\",\"label\"]]\n",
      "#model = gl.neuralnet_classifier.create(train_image[\"image\",\"label\"], target=train_image['label'])"
     ],
     "language": "python",
     "metadata": {},
     "outputs": [
      {
       "html": [
        "<div style=\"max-height:1000px;max-width:1500px;overflow:auto;\"><table frame=\"box\" rules=\"cols\">\n",
        "    <tr>\n",
        "        <th style=\"padding-left: 1em; padding-right: 1em; text-align: center\">image</th>\n",
        "        <th style=\"padding-left: 1em; padding-right: 1em; text-align: center\">label</th>\n",
        "    </tr>\n",
        "    <tr>\n",
        "        <td style=\"padding-left: 1em; padding-right: 1em; text-align: center; vertical-align: top\">Height: 256 Width: 256</td>\n",
        "        <td style=\"padding-left: 1em; padding-right: 1em; text-align: center; vertical-align: top\">42</td>\n",
        "    </tr>\n",
        "    <tr>\n",
        "        <td style=\"padding-left: 1em; padding-right: 1em; text-align: center; vertical-align: top\">Height: 256 Width: 256</td>\n",
        "        <td style=\"padding-left: 1em; padding-right: 1em; text-align: center; vertical-align: top\">97</td>\n",
        "    </tr>\n",
        "    <tr>\n",
        "        <td style=\"padding-left: 1em; padding-right: 1em; text-align: center; vertical-align: top\">Height: 256 Width: 256</td>\n",
        "        <td style=\"padding-left: 1em; padding-right: 1em; text-align: center; vertical-align: top\">120</td>\n",
        "    </tr>\n",
        "    <tr>\n",
        "        <td style=\"padding-left: 1em; padding-right: 1em; text-align: center; vertical-align: top\">Height: 256 Width: 256</td>\n",
        "        <td style=\"padding-left: 1em; padding-right: 1em; text-align: center; vertical-align: top\">19</td>\n",
        "    </tr>\n",
        "    <tr>\n",
        "        <td style=\"padding-left: 1em; padding-right: 1em; text-align: center; vertical-align: top\">Height: 256 Width: 256</td>\n",
        "        <td style=\"padding-left: 1em; padding-right: 1em; text-align: center; vertical-align: top\">120</td>\n",
        "    </tr>\n",
        "    <tr>\n",
        "        <td style=\"padding-left: 1em; padding-right: 1em; text-align: center; vertical-align: top\">Height: 256 Width: 256</td>\n",
        "        <td style=\"padding-left: 1em; padding-right: 1em; text-align: center; vertical-align: top\">16</td>\n",
        "    </tr>\n",
        "    <tr>\n",
        "        <td style=\"padding-left: 1em; padding-right: 1em; text-align: center; vertical-align: top\">Height: 256 Width: 256</td>\n",
        "        <td style=\"padding-left: 1em; padding-right: 1em; text-align: center; vertical-align: top\">17</td>\n",
        "    </tr>\n",
        "    <tr>\n",
        "        <td style=\"padding-left: 1em; padding-right: 1em; text-align: center; vertical-align: top\">Height: 256 Width: 256</td>\n",
        "        <td style=\"padding-left: 1em; padding-right: 1em; text-align: center; vertical-align: top\">90</td>\n",
        "    </tr>\n",
        "    <tr>\n",
        "        <td style=\"padding-left: 1em; padding-right: 1em; text-align: center; vertical-align: top\">Height: 256 Width: 256</td>\n",
        "        <td style=\"padding-left: 1em; padding-right: 1em; text-align: center; vertical-align: top\">113</td>\n",
        "    </tr>\n",
        "    <tr>\n",
        "        <td style=\"padding-left: 1em; padding-right: 1em; text-align: center; vertical-align: top\">Height: 256 Width: 256</td>\n",
        "        <td style=\"padding-left: 1em; padding-right: 1em; text-align: center; vertical-align: top\">84</td>\n",
        "    </tr>\n",
        "</table>\n",
        "[30336 rows x 2 columns]<br/>Note: Only the head of the SFrame is printed.<br/>You can use print_rows(num_rows=m, num_columns=n) to print more rows and columns.\n",
        "</div>"
       ],
       "metadata": {},
       "output_type": "pyout",
       "prompt_number": 73,
       "text": [
        "Columns:\n",
        "\timage\tImage\n",
        "\tlabel\tint\n",
        "\n",
        "Rows: 30336\n",
        "\n",
        "Data:\n",
        "+------------------------+-------+\n",
        "|         image          | label |\n",
        "+------------------------+-------+\n",
        "| Height: 256 Width: 256 |   42  |\n",
        "| Height: 256 Width: 256 |   97  |\n",
        "| Height: 256 Width: 256 |  120  |\n",
        "| Height: 256 Width: 256 |   19  |\n",
        "| Height: 256 Width: 256 |  120  |\n",
        "| Height: 256 Width: 256 |   16  |\n",
        "| Height: 256 Width: 256 |   17  |\n",
        "| Height: 256 Width: 256 |   90  |\n",
        "| Height: 256 Width: 256 |  113  |\n",
        "| Height: 256 Width: 256 |   84  |\n",
        "+------------------------+-------+\n",
        "[30336 rows x 2 columns]\n",
        "Note: Only the head of the SFrame is printed.\n",
        "You can use print_rows(num_rows=m, num_columns=n) to print more rows and columns."
       ]
      }
     ],
     "prompt_number": 73
    },
    {
     "cell_type": "code",
     "collapsed": false,
     "input": [
      "# Create a default NeuralNet\n",
      "#\n",
      "net = gl.deeplearning.create(train_image[['image','label']], target='label')\n",
      "net\n",
      "\n",
      "\"\"\"\n",
      "percpt_net = gl.deeplearning.MultiLayerPerceptrons(num_hidden_layers=3,\n",
      "                                                num_hidden_units=[15,10,10])\n",
      "\n",
      "conv_net = gl.deeplearning.ConvolutionNet(num_convolution_layers=2,\n",
      "                                              kernel_size=3,\n",
      "                                              num_channels=10,\n",
      "                                              num_output_units=10)\n",
      "\"\"\""
     ],
     "language": "python",
     "metadata": {},
     "outputs": [],
     "prompt_number": 74
    },
    {
     "cell_type": "code",
     "collapsed": false,
     "input": [
      "# The architecture is represented as a list of `Layer` objects.\n",
      "# And the learning parameter is stored as a dictionary.\n",
      "net.layers, net.params\n",
      "#net.layers[-2].num_hidden_units=121   # update parameters"
     ],
     "language": "python",
     "metadata": {},
     "outputs": []
    },
    {
     "cell_type": "code",
     "collapsed": false,
     "input": [
      "net.verify()\n",
      "\n",
      "net.save(\"mynet\")\n",
      "net = gl.deeplearning.load(\"mynet\")"
     ],
     "language": "python",
     "metadata": {},
     "outputs": []
    },
    {
     "cell_type": "markdown",
     "metadata": {},
     "source": [
      "\n",
      "m = gl.neuralnet_classifier.create(train_image[['image', 'label']],                      \n",
      "                                   target='label',\n",
      "                                   network=net,                                    \n",
      "                                   mean_image=mean_image,                          \n",
      "                                   metric=['accuracy','recall@5'],                 \n",
      "                                   max_iterations=35,                              \n",
      "                                   model_checkpoint_path=WORKING_DIR + '/result/model_checkpoint',\n",
      "                                   model_checkpoint_interval=5,                    \n",
      "                                   batch_size=150)\n"
     ]
    },
    {
     "cell_type": "code",
     "collapsed": false,
     "input": [
      "pred = m.classify(test_data)"
     ],
     "language": "python",
     "metadata": {},
     "outputs": []
    },
    {
     "cell_type": "code",
     "collapsed": false,
     "input": [
      "pred"
     ],
     "language": "python",
     "metadata": {},
     "outputs": []
    },
    {
     "cell_type": "code",
     "collapsed": false,
     "input": [
      "# predict the top 2 mostly likely digits\n",
      "pred_top2 = m.predict_topk(test_data, k=2)\n",
      "pred_top2"
     ],
     "language": "python",
     "metadata": {},
     "outputs": []
    },
    {
     "cell_type": "code",
     "collapsed": false,
     "input": [
      "eval_ = m.evaluate(test_data)\n",
      "eval_"
     ],
     "language": "python",
     "metadata": {},
     "outputs": []
    },
    {
     "cell_type": "code",
     "collapsed": false,
     "input": [
      "m.save(\"my_model\")"
     ],
     "language": "python",
     "metadata": {},
     "outputs": []
    },
    {
     "cell_type": "markdown",
     "metadata": {},
     "source": [
      "# Use the model "
     ]
    },
    {
     "cell_type": "code",
     "collapsed": false,
     "input": [
      "import graphlab as gl\n",
      "import pickle\n"
     ],
     "language": "python",
     "metadata": {},
     "outputs": [],
     "prompt_number": 15
    }
   ],
   "metadata": {}
  }
 ]
}