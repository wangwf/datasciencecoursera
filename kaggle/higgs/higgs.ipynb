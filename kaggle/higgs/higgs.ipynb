{
 "metadata": {
  "name": "",
  "signature": "sha256:bc5a767fe208abf453cd181a53553dfc831581d913dab78bafb207de4dcf8d6e"
 },
 "nbformat": 3,
 "nbformat_minor": 0,
 "worksheets": [
  {
   "cells": [
    {
     "cell_type": "code",
     "collapsed": false,
     "input": [
      "import graphlab as gl\n",
      "\n",
      "#training_column_types = [str,int,int,int,int,float,float,int,float,int,int,int]\n",
      "training_sframe = gl.SFrame.read_csv('training.csv')\n",
      "\n",
      "# load test data\n",
      "#test_column_types = [str,int,int,int,int,float,float,int,float]\n",
      "test_sframe = gl.SFrame.read_csv('test.csv')\n"
     ],
     "language": "python",
     "metadata": {},
     "outputs": [
      {
       "html": [
        "PROGRESS: Finished parsing file /home/wenfeng/code/datasciencecoursera/kaggle/higgs/training.csv<br/>"
       ],
       "metadata": {},
       "output_type": "display_data",
       "text": [
        "PROGRESS: Finished parsing file /home/wenfeng/code/datasciencecoursera/kaggle/higgs/training.csv"
       ]
      },
      {
       "html": [
        "PROGRESS: Parsing completed. Parsed 100 lines in 0.081587 secs.<br/>"
       ],
       "metadata": {},
       "output_type": "display_data",
       "text": [
        "PROGRESS: Parsing completed. Parsed 100 lines in 0.081587 secs."
       ]
      },
      {
       "html": [
        "PROGRESS: Read 237219 lines. Lines per second: 378802<br/>"
       ],
       "metadata": {},
       "output_type": "display_data",
       "text": [
        "PROGRESS: Read 237219 lines. Lines per second: 378802"
       ]
      },
      {
       "html": [
        "PROGRESS: Finished parsing file /home/wenfeng/code/datasciencecoursera/kaggle/higgs/training.csv<br/>"
       ],
       "metadata": {},
       "output_type": "display_data",
       "text": [
        "PROGRESS: Finished parsing file /home/wenfeng/code/datasciencecoursera/kaggle/higgs/training.csv"
       ]
      },
      {
       "html": [
        "PROGRESS: Parsing completed. Parsed 250000 lines in 0.652179 secs.<br/>"
       ],
       "metadata": {},
       "output_type": "display_data",
       "text": [
        "PROGRESS: Parsing completed. Parsed 250000 lines in 0.652179 secs."
       ]
      },
      {
       "html": [
        "PROGRESS: Finished parsing file /home/wenfeng/code/datasciencecoursera/kaggle/higgs/test.csv<br/>"
       ],
       "metadata": {},
       "output_type": "display_data",
       "text": [
        "PROGRESS: Finished parsing file /home/wenfeng/code/datasciencecoursera/kaggle/higgs/test.csv"
       ]
      },
      {
       "html": [
        "PROGRESS: Parsing completed. Parsed 100 lines in 0.070539 secs.<br/>"
       ],
       "metadata": {},
       "output_type": "display_data",
       "text": [
        "PROGRESS: Parsing completed. Parsed 100 lines in 0.070539 secs."
       ]
      },
      {
       "output_type": "stream",
       "stream": "stdout",
       "text": [
        "------------------------------------------------------\n",
        "Inferred types from first line of file as \n",
        "column_type_hints=[int,float,float,float,float,float,float,float,float,float,float,float,float,float,float,float,float,float,float,float,float,float,float,int,float,float,float,float,float,float,float,float,str]\n",
        "If parsing fails due to incorrect types, you can correct\n",
        "the inferred type list above and pass it to read_csv in\n",
        "the column_type_hints argument\n",
        "------------------------------------------------------\n",
        "------------------------------------------------------"
       ]
      },
      {
       "html": [
        "PROGRESS: Finished parsing file /home/wenfeng/code/datasciencecoursera/kaggle/higgs/test.csv<br/>"
       ],
       "metadata": {},
       "output_type": "display_data",
       "text": [
        "PROGRESS: Finished parsing file /home/wenfeng/code/datasciencecoursera/kaggle/higgs/test.csv"
       ]
      },
      {
       "html": [
        "PROGRESS: Parsing completed. Parsed 550000 lines in 1.28998 secs.<br/>"
       ],
       "metadata": {},
       "output_type": "display_data",
       "text": [
        "PROGRESS: Parsing completed. Parsed 550000 lines in 1.28998 secs."
       ]
      },
      {
       "output_type": "stream",
       "stream": "stdout",
       "text": [
        "\n",
        "Inferred types from first line of file as \n",
        "column_type_hints=[int,float,float,float,float,float,float,float,float,float,float,float,float,float,float,float,float,float,float,float,float,float,float,int,float,float,float,float,float,float,float]\n",
        "If parsing fails due to incorrect types, you can correct\n",
        "the inferred type list above and pass it to read_csv in\n",
        "the column_type_hints argument\n",
        "------------------------------------------------------\n"
       ]
      }
     ],
     "prompt_number": 38
    },
    {
     "cell_type": "code",
     "collapsed": false,
     "input": [
      "training_sframe.head()\n"
     ],
     "language": "python",
     "metadata": {},
     "outputs": [
      {
       "html": [
        "<div style=\"max-height:1000px;max-width:1500px;overflow:auto;\"><table frame=\"box\" rules=\"cols\">\n",
        "    <tr>\n",
        "        <th style=\"padding-left: 1em; padding-right: 1em; text-align: center\">EventId</th>\n",
        "        <th style=\"padding-left: 1em; padding-right: 1em; text-align: center\">DER_mass_MMC</th>\n",
        "        <th style=\"padding-left: 1em; padding-right: 1em; text-align: center\">DER_mass_transverse_met_l<br>ep</th>\n",
        "        <th style=\"padding-left: 1em; padding-right: 1em; text-align: center\">DER_mass_vis</th>\n",
        "        <th style=\"padding-left: 1em; padding-right: 1em; text-align: center\">DER_pt_h</th>\n",
        "        <th style=\"padding-left: 1em; padding-right: 1em; text-align: center\">DER_deltaeta_jet_jet</th>\n",
        "        <th style=\"padding-left: 1em; padding-right: 1em; text-align: center\">DER_mass_jet_jet</th>\n",
        "    </tr>\n",
        "    <tr>\n",
        "        <td style=\"padding-left: 1em; padding-right: 1em; text-align: center; vertical-align: top\">100000</td>\n",
        "        <td style=\"padding-left: 1em; padding-right: 1em; text-align: center; vertical-align: top\">138.47</td>\n",
        "        <td style=\"padding-left: 1em; padding-right: 1em; text-align: center; vertical-align: top\">51.655</td>\n",
        "        <td style=\"padding-left: 1em; padding-right: 1em; text-align: center; vertical-align: top\">97.827</td>\n",
        "        <td style=\"padding-left: 1em; padding-right: 1em; text-align: center; vertical-align: top\">27.98</td>\n",
        "        <td style=\"padding-left: 1em; padding-right: 1em; text-align: center; vertical-align: top\">0.91</td>\n",
        "        <td style=\"padding-left: 1em; padding-right: 1em; text-align: center; vertical-align: top\">124.711</td>\n",
        "    </tr>\n",
        "    <tr>\n",
        "        <td style=\"padding-left: 1em; padding-right: 1em; text-align: center; vertical-align: top\">100001</td>\n",
        "        <td style=\"padding-left: 1em; padding-right: 1em; text-align: center; vertical-align: top\">160.937</td>\n",
        "        <td style=\"padding-left: 1em; padding-right: 1em; text-align: center; vertical-align: top\">68.768</td>\n",
        "        <td style=\"padding-left: 1em; padding-right: 1em; text-align: center; vertical-align: top\">103.235</td>\n",
        "        <td style=\"padding-left: 1em; padding-right: 1em; text-align: center; vertical-align: top\">48.146</td>\n",
        "        <td style=\"padding-left: 1em; padding-right: 1em; text-align: center; vertical-align: top\">-999.0</td>\n",
        "        <td style=\"padding-left: 1em; padding-right: 1em; text-align: center; vertical-align: top\">-999.0</td>\n",
        "    </tr>\n",
        "    <tr>\n",
        "        <td style=\"padding-left: 1em; padding-right: 1em; text-align: center; vertical-align: top\">100002</td>\n",
        "        <td style=\"padding-left: 1em; padding-right: 1em; text-align: center; vertical-align: top\">-999.0</td>\n",
        "        <td style=\"padding-left: 1em; padding-right: 1em; text-align: center; vertical-align: top\">162.172</td>\n",
        "        <td style=\"padding-left: 1em; padding-right: 1em; text-align: center; vertical-align: top\">125.953</td>\n",
        "        <td style=\"padding-left: 1em; padding-right: 1em; text-align: center; vertical-align: top\">35.635</td>\n",
        "        <td style=\"padding-left: 1em; padding-right: 1em; text-align: center; vertical-align: top\">-999.0</td>\n",
        "        <td style=\"padding-left: 1em; padding-right: 1em; text-align: center; vertical-align: top\">-999.0</td>\n",
        "    </tr>\n",
        "    <tr>\n",
        "        <td style=\"padding-left: 1em; padding-right: 1em; text-align: center; vertical-align: top\">100003</td>\n",
        "        <td style=\"padding-left: 1em; padding-right: 1em; text-align: center; vertical-align: top\">143.905</td>\n",
        "        <td style=\"padding-left: 1em; padding-right: 1em; text-align: center; vertical-align: top\">81.417</td>\n",
        "        <td style=\"padding-left: 1em; padding-right: 1em; text-align: center; vertical-align: top\">80.943</td>\n",
        "        <td style=\"padding-left: 1em; padding-right: 1em; text-align: center; vertical-align: top\">0.414</td>\n",
        "        <td style=\"padding-left: 1em; padding-right: 1em; text-align: center; vertical-align: top\">-999.0</td>\n",
        "        <td style=\"padding-left: 1em; padding-right: 1em; text-align: center; vertical-align: top\">-999.0</td>\n",
        "    </tr>\n",
        "    <tr>\n",
        "        <td style=\"padding-left: 1em; padding-right: 1em; text-align: center; vertical-align: top\">100004</td>\n",
        "        <td style=\"padding-left: 1em; padding-right: 1em; text-align: center; vertical-align: top\">175.864</td>\n",
        "        <td style=\"padding-left: 1em; padding-right: 1em; text-align: center; vertical-align: top\">16.915</td>\n",
        "        <td style=\"padding-left: 1em; padding-right: 1em; text-align: center; vertical-align: top\">134.805</td>\n",
        "        <td style=\"padding-left: 1em; padding-right: 1em; text-align: center; vertical-align: top\">16.405</td>\n",
        "        <td style=\"padding-left: 1em; padding-right: 1em; text-align: center; vertical-align: top\">-999.0</td>\n",
        "        <td style=\"padding-left: 1em; padding-right: 1em; text-align: center; vertical-align: top\">-999.0</td>\n",
        "    </tr>\n",
        "    <tr>\n",
        "        <td style=\"padding-left: 1em; padding-right: 1em; text-align: center; vertical-align: top\">100005</td>\n",
        "        <td style=\"padding-left: 1em; padding-right: 1em; text-align: center; vertical-align: top\">89.744</td>\n",
        "        <td style=\"padding-left: 1em; padding-right: 1em; text-align: center; vertical-align: top\">13.55</td>\n",
        "        <td style=\"padding-left: 1em; padding-right: 1em; text-align: center; vertical-align: top\">59.149</td>\n",
        "        <td style=\"padding-left: 1em; padding-right: 1em; text-align: center; vertical-align: top\">116.344</td>\n",
        "        <td style=\"padding-left: 1em; padding-right: 1em; text-align: center; vertical-align: top\">2.636</td>\n",
        "        <td style=\"padding-left: 1em; padding-right: 1em; text-align: center; vertical-align: top\">284.584</td>\n",
        "    </tr>\n",
        "    <tr>\n",
        "        <td style=\"padding-left: 1em; padding-right: 1em; text-align: center; vertical-align: top\">100006</td>\n",
        "        <td style=\"padding-left: 1em; padding-right: 1em; text-align: center; vertical-align: top\">148.754</td>\n",
        "        <td style=\"padding-left: 1em; padding-right: 1em; text-align: center; vertical-align: top\">28.862</td>\n",
        "        <td style=\"padding-left: 1em; padding-right: 1em; text-align: center; vertical-align: top\">107.782</td>\n",
        "        <td style=\"padding-left: 1em; padding-right: 1em; text-align: center; vertical-align: top\">106.13</td>\n",
        "        <td style=\"padding-left: 1em; padding-right: 1em; text-align: center; vertical-align: top\">0.733</td>\n",
        "        <td style=\"padding-left: 1em; padding-right: 1em; text-align: center; vertical-align: top\">158.359</td>\n",
        "    </tr>\n",
        "    <tr>\n",
        "        <td style=\"padding-left: 1em; padding-right: 1em; text-align: center; vertical-align: top\">100007</td>\n",
        "        <td style=\"padding-left: 1em; padding-right: 1em; text-align: center; vertical-align: top\">154.916</td>\n",
        "        <td style=\"padding-left: 1em; padding-right: 1em; text-align: center; vertical-align: top\">10.418</td>\n",
        "        <td style=\"padding-left: 1em; padding-right: 1em; text-align: center; vertical-align: top\">94.714</td>\n",
        "        <td style=\"padding-left: 1em; padding-right: 1em; text-align: center; vertical-align: top\">29.169</td>\n",
        "        <td style=\"padding-left: 1em; padding-right: 1em; text-align: center; vertical-align: top\">-999.0</td>\n",
        "        <td style=\"padding-left: 1em; padding-right: 1em; text-align: center; vertical-align: top\">-999.0</td>\n",
        "    </tr>\n",
        "    <tr>\n",
        "        <td style=\"padding-left: 1em; padding-right: 1em; text-align: center; vertical-align: top\">100008</td>\n",
        "        <td style=\"padding-left: 1em; padding-right: 1em; text-align: center; vertical-align: top\">105.594</td>\n",
        "        <td style=\"padding-left: 1em; padding-right: 1em; text-align: center; vertical-align: top\">50.559</td>\n",
        "        <td style=\"padding-left: 1em; padding-right: 1em; text-align: center; vertical-align: top\">100.989</td>\n",
        "        <td style=\"padding-left: 1em; padding-right: 1em; text-align: center; vertical-align: top\">4.288</td>\n",
        "        <td style=\"padding-left: 1em; padding-right: 1em; text-align: center; vertical-align: top\">-999.0</td>\n",
        "        <td style=\"padding-left: 1em; padding-right: 1em; text-align: center; vertical-align: top\">-999.0</td>\n",
        "    </tr>\n",
        "    <tr>\n",
        "        <td style=\"padding-left: 1em; padding-right: 1em; text-align: center; vertical-align: top\">100009</td>\n",
        "        <td style=\"padding-left: 1em; padding-right: 1em; text-align: center; vertical-align: top\">128.053</td>\n",
        "        <td style=\"padding-left: 1em; padding-right: 1em; text-align: center; vertical-align: top\">88.941</td>\n",
        "        <td style=\"padding-left: 1em; padding-right: 1em; text-align: center; vertical-align: top\">69.272</td>\n",
        "        <td style=\"padding-left: 1em; padding-right: 1em; text-align: center; vertical-align: top\">193.392</td>\n",
        "        <td style=\"padding-left: 1em; padding-right: 1em; text-align: center; vertical-align: top\">-999.0</td>\n",
        "        <td style=\"padding-left: 1em; padding-right: 1em; text-align: center; vertical-align: top\">-999.0</td>\n",
        "    </tr>\n",
        "</table>\n",
        "<table frame=\"box\" rules=\"cols\">\n",
        "    <tr>\n",
        "        <th style=\"padding-left: 1em; padding-right: 1em; text-align: center\">DER_prodeta_jet_jet</th>\n",
        "        <th style=\"padding-left: 1em; padding-right: 1em; text-align: center\">DER_deltar_tau_lep</th>\n",
        "        <th style=\"padding-left: 1em; padding-right: 1em; text-align: center\">DER_pt_tot</th>\n",
        "        <th style=\"padding-left: 1em; padding-right: 1em; text-align: center\">DER_sum_pt</th>\n",
        "        <th style=\"padding-left: 1em; padding-right: 1em; text-align: center\">DER_pt_ratio_lep_tau</th>\n",
        "        <th style=\"padding-left: 1em; padding-right: 1em; text-align: center\">DER_met_phi_centrality</th>\n",
        "    </tr>\n",
        "    <tr>\n",
        "        <td style=\"padding-left: 1em; padding-right: 1em; text-align: center; vertical-align: top\">2.666</td>\n",
        "        <td style=\"padding-left: 1em; padding-right: 1em; text-align: center; vertical-align: top\">3.064</td>\n",
        "        <td style=\"padding-left: 1em; padding-right: 1em; text-align: center; vertical-align: top\">41.928</td>\n",
        "        <td style=\"padding-left: 1em; padding-right: 1em; text-align: center; vertical-align: top\">197.76</td>\n",
        "        <td style=\"padding-left: 1em; padding-right: 1em; text-align: center; vertical-align: top\">1.582</td>\n",
        "        <td style=\"padding-left: 1em; padding-right: 1em; text-align: center; vertical-align: top\">1.396</td>\n",
        "    </tr>\n",
        "    <tr>\n",
        "        <td style=\"padding-left: 1em; padding-right: 1em; text-align: center; vertical-align: top\">-999.0</td>\n",
        "        <td style=\"padding-left: 1em; padding-right: 1em; text-align: center; vertical-align: top\">3.473</td>\n",
        "        <td style=\"padding-left: 1em; padding-right: 1em; text-align: center; vertical-align: top\">2.078</td>\n",
        "        <td style=\"padding-left: 1em; padding-right: 1em; text-align: center; vertical-align: top\">125.157</td>\n",
        "        <td style=\"padding-left: 1em; padding-right: 1em; text-align: center; vertical-align: top\">0.879</td>\n",
        "        <td style=\"padding-left: 1em; padding-right: 1em; text-align: center; vertical-align: top\">1.414</td>\n",
        "    </tr>\n",
        "    <tr>\n",
        "        <td style=\"padding-left: 1em; padding-right: 1em; text-align: center; vertical-align: top\">-999.0</td>\n",
        "        <td style=\"padding-left: 1em; padding-right: 1em; text-align: center; vertical-align: top\">3.148</td>\n",
        "        <td style=\"padding-left: 1em; padding-right: 1em; text-align: center; vertical-align: top\">9.336</td>\n",
        "        <td style=\"padding-left: 1em; padding-right: 1em; text-align: center; vertical-align: top\">197.814</td>\n",
        "        <td style=\"padding-left: 1em; padding-right: 1em; text-align: center; vertical-align: top\">3.776</td>\n",
        "        <td style=\"padding-left: 1em; padding-right: 1em; text-align: center; vertical-align: top\">1.414</td>\n",
        "    </tr>\n",
        "    <tr>\n",
        "        <td style=\"padding-left: 1em; padding-right: 1em; text-align: center; vertical-align: top\">-999.0</td>\n",
        "        <td style=\"padding-left: 1em; padding-right: 1em; text-align: center; vertical-align: top\">3.31</td>\n",
        "        <td style=\"padding-left: 1em; padding-right: 1em; text-align: center; vertical-align: top\">0.414</td>\n",
        "        <td style=\"padding-left: 1em; padding-right: 1em; text-align: center; vertical-align: top\">75.968</td>\n",
        "        <td style=\"padding-left: 1em; padding-right: 1em; text-align: center; vertical-align: top\">2.354</td>\n",
        "        <td style=\"padding-left: 1em; padding-right: 1em; text-align: center; vertical-align: top\">-1.285</td>\n",
        "    </tr>\n",
        "    <tr>\n",
        "        <td style=\"padding-left: 1em; padding-right: 1em; text-align: center; vertical-align: top\">-999.0</td>\n",
        "        <td style=\"padding-left: 1em; padding-right: 1em; text-align: center; vertical-align: top\">3.891</td>\n",
        "        <td style=\"padding-left: 1em; padding-right: 1em; text-align: center; vertical-align: top\">16.405</td>\n",
        "        <td style=\"padding-left: 1em; padding-right: 1em; text-align: center; vertical-align: top\">57.983</td>\n",
        "        <td style=\"padding-left: 1em; padding-right: 1em; text-align: center; vertical-align: top\">1.056</td>\n",
        "        <td style=\"padding-left: 1em; padding-right: 1em; text-align: center; vertical-align: top\">-1.385</td>\n",
        "    </tr>\n",
        "    <tr>\n",
        "        <td style=\"padding-left: 1em; padding-right: 1em; text-align: center; vertical-align: top\">-0.54</td>\n",
        "        <td style=\"padding-left: 1em; padding-right: 1em; text-align: center; vertical-align: top\">1.362</td>\n",
        "        <td style=\"padding-left: 1em; padding-right: 1em; text-align: center; vertical-align: top\">61.619</td>\n",
        "        <td style=\"padding-left: 1em; padding-right: 1em; text-align: center; vertical-align: top\">278.876</td>\n",
        "        <td style=\"padding-left: 1em; padding-right: 1em; text-align: center; vertical-align: top\">0.588</td>\n",
        "        <td style=\"padding-left: 1em; padding-right: 1em; text-align: center; vertical-align: top\">0.479</td>\n",
        "    </tr>\n",
        "    <tr>\n",
        "        <td style=\"padding-left: 1em; padding-right: 1em; text-align: center; vertical-align: top\">0.113</td>\n",
        "        <td style=\"padding-left: 1em; padding-right: 1em; text-align: center; vertical-align: top\">2.941</td>\n",
        "        <td style=\"padding-left: 1em; padding-right: 1em; text-align: center; vertical-align: top\">2.545</td>\n",
        "        <td style=\"padding-left: 1em; padding-right: 1em; text-align: center; vertical-align: top\">305.967</td>\n",
        "        <td style=\"padding-left: 1em; padding-right: 1em; text-align: center; vertical-align: top\">3.371</td>\n",
        "        <td style=\"padding-left: 1em; padding-right: 1em; text-align: center; vertical-align: top\">1.393</td>\n",
        "    </tr>\n",
        "    <tr>\n",
        "        <td style=\"padding-left: 1em; padding-right: 1em; text-align: center; vertical-align: top\">-999.0</td>\n",
        "        <td style=\"padding-left: 1em; padding-right: 1em; text-align: center; vertical-align: top\">2.897</td>\n",
        "        <td style=\"padding-left: 1em; padding-right: 1em; text-align: center; vertical-align: top\">1.526</td>\n",
        "        <td style=\"padding-left: 1em; padding-right: 1em; text-align: center; vertical-align: top\">138.178</td>\n",
        "        <td style=\"padding-left: 1em; padding-right: 1em; text-align: center; vertical-align: top\">0.365</td>\n",
        "        <td style=\"padding-left: 1em; padding-right: 1em; text-align: center; vertical-align: top\">-1.305</td>\n",
        "    </tr>\n",
        "    <tr>\n",
        "        <td style=\"padding-left: 1em; padding-right: 1em; text-align: center; vertical-align: top\">-999.0</td>\n",
        "        <td style=\"padding-left: 1em; padding-right: 1em; text-align: center; vertical-align: top\">2.904</td>\n",
        "        <td style=\"padding-left: 1em; padding-right: 1em; text-align: center; vertical-align: top\">4.288</td>\n",
        "        <td style=\"padding-left: 1em; padding-right: 1em; text-align: center; vertical-align: top\">65.333</td>\n",
        "        <td style=\"padding-left: 1em; padding-right: 1em; text-align: center; vertical-align: top\">0.675</td>\n",
        "        <td style=\"padding-left: 1em; padding-right: 1em; text-align: center; vertical-align: top\">-1.366</td>\n",
        "    </tr>\n",
        "    <tr>\n",
        "        <td style=\"padding-left: 1em; padding-right: 1em; text-align: center; vertical-align: top\">-999.0</td>\n",
        "        <td style=\"padding-left: 1em; padding-right: 1em; text-align: center; vertical-align: top\">1.609</td>\n",
        "        <td style=\"padding-left: 1em; padding-right: 1em; text-align: center; vertical-align: top\">28.859</td>\n",
        "        <td style=\"padding-left: 1em; padding-right: 1em; text-align: center; vertical-align: top\">255.123</td>\n",
        "        <td style=\"padding-left: 1em; padding-right: 1em; text-align: center; vertical-align: top\">0.599</td>\n",
        "        <td style=\"padding-left: 1em; padding-right: 1em; text-align: center; vertical-align: top\">0.538</td>\n",
        "    </tr>\n",
        "</table>\n",
        "<table frame=\"box\" rules=\"cols\">\n",
        "    <tr>\n",
        "        <th style=\"padding-left: 1em; padding-right: 1em; text-align: center\">DER_lep_eta_centrality</th>\n",
        "        <th style=\"padding-left: 1em; padding-right: 1em; text-align: center\">PRI_tau_pt</th>\n",
        "        <th style=\"padding-left: 1em; padding-right: 1em; text-align: center\">PRI_tau_eta</th>\n",
        "        <th style=\"padding-left: 1em; padding-right: 1em; text-align: center\">PRI_tau_phi</th>\n",
        "        <th style=\"padding-left: 1em; padding-right: 1em; text-align: center\">PRI_lep_pt</th>\n",
        "        <th style=\"padding-left: 1em; padding-right: 1em; text-align: center\">PRI_lep_eta</th>\n",
        "        <th style=\"padding-left: 1em; padding-right: 1em; text-align: center\">PRI_lep_phi</th>\n",
        "        <th style=\"padding-left: 1em; padding-right: 1em; text-align: center\">PRI_met</th>\n",
        "    </tr>\n",
        "    <tr>\n",
        "        <td style=\"padding-left: 1em; padding-right: 1em; text-align: center; vertical-align: top\">0.2</td>\n",
        "        <td style=\"padding-left: 1em; padding-right: 1em; text-align: center; vertical-align: top\">32.638</td>\n",
        "        <td style=\"padding-left: 1em; padding-right: 1em; text-align: center; vertical-align: top\">1.017</td>\n",
        "        <td style=\"padding-left: 1em; padding-right: 1em; text-align: center; vertical-align: top\">0.381</td>\n",
        "        <td style=\"padding-left: 1em; padding-right: 1em; text-align: center; vertical-align: top\">51.626</td>\n",
        "        <td style=\"padding-left: 1em; padding-right: 1em; text-align: center; vertical-align: top\">2.273</td>\n",
        "        <td style=\"padding-left: 1em; padding-right: 1em; text-align: center; vertical-align: top\">-2.414</td>\n",
        "        <td style=\"padding-left: 1em; padding-right: 1em; text-align: center; vertical-align: top\">16.824</td>\n",
        "    </tr>\n",
        "    <tr>\n",
        "        <td style=\"padding-left: 1em; padding-right: 1em; text-align: center; vertical-align: top\">-999.0</td>\n",
        "        <td style=\"padding-left: 1em; padding-right: 1em; text-align: center; vertical-align: top\">42.014</td>\n",
        "        <td style=\"padding-left: 1em; padding-right: 1em; text-align: center; vertical-align: top\">2.039</td>\n",
        "        <td style=\"padding-left: 1em; padding-right: 1em; text-align: center; vertical-align: top\">-3.011</td>\n",
        "        <td style=\"padding-left: 1em; padding-right: 1em; text-align: center; vertical-align: top\">36.918</td>\n",
        "        <td style=\"padding-left: 1em; padding-right: 1em; text-align: center; vertical-align: top\">0.501</td>\n",
        "        <td style=\"padding-left: 1em; padding-right: 1em; text-align: center; vertical-align: top\">0.103</td>\n",
        "        <td style=\"padding-left: 1em; padding-right: 1em; text-align: center; vertical-align: top\">44.704</td>\n",
        "    </tr>\n",
        "    <tr>\n",
        "        <td style=\"padding-left: 1em; padding-right: 1em; text-align: center; vertical-align: top\">-999.0</td>\n",
        "        <td style=\"padding-left: 1em; padding-right: 1em; text-align: center; vertical-align: top\">32.154</td>\n",
        "        <td style=\"padding-left: 1em; padding-right: 1em; text-align: center; vertical-align: top\">-0.705</td>\n",
        "        <td style=\"padding-left: 1em; padding-right: 1em; text-align: center; vertical-align: top\">-2.093</td>\n",
        "        <td style=\"padding-left: 1em; padding-right: 1em; text-align: center; vertical-align: top\">121.409</td>\n",
        "        <td style=\"padding-left: 1em; padding-right: 1em; text-align: center; vertical-align: top\">-0.953</td>\n",
        "        <td style=\"padding-left: 1em; padding-right: 1em; text-align: center; vertical-align: top\">1.052</td>\n",
        "        <td style=\"padding-left: 1em; padding-right: 1em; text-align: center; vertical-align: top\">54.283</td>\n",
        "    </tr>\n",
        "    <tr>\n",
        "        <td style=\"padding-left: 1em; padding-right: 1em; text-align: center; vertical-align: top\">-999.0</td>\n",
        "        <td style=\"padding-left: 1em; padding-right: 1em; text-align: center; vertical-align: top\">22.647</td>\n",
        "        <td style=\"padding-left: 1em; padding-right: 1em; text-align: center; vertical-align: top\">-1.655</td>\n",
        "        <td style=\"padding-left: 1em; padding-right: 1em; text-align: center; vertical-align: top\">0.01</td>\n",
        "        <td style=\"padding-left: 1em; padding-right: 1em; text-align: center; vertical-align: top\">53.321</td>\n",
        "        <td style=\"padding-left: 1em; padding-right: 1em; text-align: center; vertical-align: top\">-0.522</td>\n",
        "        <td style=\"padding-left: 1em; padding-right: 1em; text-align: center; vertical-align: top\">-3.1</td>\n",
        "        <td style=\"padding-left: 1em; padding-right: 1em; text-align: center; vertical-align: top\">31.082</td>\n",
        "    </tr>\n",
        "    <tr>\n",
        "        <td style=\"padding-left: 1em; padding-right: 1em; text-align: center; vertical-align: top\">-999.0</td>\n",
        "        <td style=\"padding-left: 1em; padding-right: 1em; text-align: center; vertical-align: top\">28.209</td>\n",
        "        <td style=\"padding-left: 1em; padding-right: 1em; text-align: center; vertical-align: top\">-2.197</td>\n",
        "        <td style=\"padding-left: 1em; padding-right: 1em; text-align: center; vertical-align: top\">-2.231</td>\n",
        "        <td style=\"padding-left: 1em; padding-right: 1em; text-align: center; vertical-align: top\">29.774</td>\n",
        "        <td style=\"padding-left: 1em; padding-right: 1em; text-align: center; vertical-align: top\">0.798</td>\n",
        "        <td style=\"padding-left: 1em; padding-right: 1em; text-align: center; vertical-align: top\">1.569</td>\n",
        "        <td style=\"padding-left: 1em; padding-right: 1em; text-align: center; vertical-align: top\">2.723</td>\n",
        "    </tr>\n",
        "    <tr>\n",
        "        <td style=\"padding-left: 1em; padding-right: 1em; text-align: center; vertical-align: top\">0.975</td>\n",
        "        <td style=\"padding-left: 1em; padding-right: 1em; text-align: center; vertical-align: top\">53.651</td>\n",
        "        <td style=\"padding-left: 1em; padding-right: 1em; text-align: center; vertical-align: top\">0.371</td>\n",
        "        <td style=\"padding-left: 1em; padding-right: 1em; text-align: center; vertical-align: top\">1.329</td>\n",
        "        <td style=\"padding-left: 1em; padding-right: 1em; text-align: center; vertical-align: top\">31.565</td>\n",
        "        <td style=\"padding-left: 1em; padding-right: 1em; text-align: center; vertical-align: top\">-0.884</td>\n",
        "        <td style=\"padding-left: 1em; padding-right: 1em; text-align: center; vertical-align: top\">1.857</td>\n",
        "        <td style=\"padding-left: 1em; padding-right: 1em; text-align: center; vertical-align: top\">40.735</td>\n",
        "    </tr>\n",
        "    <tr>\n",
        "        <td style=\"padding-left: 1em; padding-right: 1em; text-align: center; vertical-align: top\">0.791</td>\n",
        "        <td style=\"padding-left: 1em; padding-right: 1em; text-align: center; vertical-align: top\">28.85</td>\n",
        "        <td style=\"padding-left: 1em; padding-right: 1em; text-align: center; vertical-align: top\">1.113</td>\n",
        "        <td style=\"padding-left: 1em; padding-right: 1em; text-align: center; vertical-align: top\">2.409</td>\n",
        "        <td style=\"padding-left: 1em; padding-right: 1em; text-align: center; vertical-align: top\">97.24</td>\n",
        "        <td style=\"padding-left: 1em; padding-right: 1em; text-align: center; vertical-align: top\">0.675</td>\n",
        "        <td style=\"padding-left: 1em; padding-right: 1em; text-align: center; vertical-align: top\">-0.966</td>\n",
        "        <td style=\"padding-left: 1em; padding-right: 1em; text-align: center; vertical-align: top\">38.421</td>\n",
        "    </tr>\n",
        "    <tr>\n",
        "        <td style=\"padding-left: 1em; padding-right: 1em; text-align: center; vertical-align: top\">-999.0</td>\n",
        "        <td style=\"padding-left: 1em; padding-right: 1em; text-align: center; vertical-align: top\">78.8</td>\n",
        "        <td style=\"padding-left: 1em; padding-right: 1em; text-align: center; vertical-align: top\">0.654</td>\n",
        "        <td style=\"padding-left: 1em; padding-right: 1em; text-align: center; vertical-align: top\">1.547</td>\n",
        "        <td style=\"padding-left: 1em; padding-right: 1em; text-align: center; vertical-align: top\">28.74</td>\n",
        "        <td style=\"padding-left: 1em; padding-right: 1em; text-align: center; vertical-align: top\">0.506</td>\n",
        "        <td style=\"padding-left: 1em; padding-right: 1em; text-align: center; vertical-align: top\">-1.347</td>\n",
        "        <td style=\"padding-left: 1em; padding-right: 1em; text-align: center; vertical-align: top\">22.275</td>\n",
        "    </tr>\n",
        "    <tr>\n",
        "        <td style=\"padding-left: 1em; padding-right: 1em; text-align: center; vertical-align: top\">-999.0</td>\n",
        "        <td style=\"padding-left: 1em; padding-right: 1em; text-align: center; vertical-align: top\">39.008</td>\n",
        "        <td style=\"padding-left: 1em; padding-right: 1em; text-align: center; vertical-align: top\">2.433</td>\n",
        "        <td style=\"padding-left: 1em; padding-right: 1em; text-align: center; vertical-align: top\">-2.532</td>\n",
        "        <td style=\"padding-left: 1em; padding-right: 1em; text-align: center; vertical-align: top\">26.325</td>\n",
        "        <td style=\"padding-left: 1em; padding-right: 1em; text-align: center; vertical-align: top\">0.21</td>\n",
        "        <td style=\"padding-left: 1em; padding-right: 1em; text-align: center; vertical-align: top\">1.884</td>\n",
        "        <td style=\"padding-left: 1em; padding-right: 1em; text-align: center; vertical-align: top\">37.791</td>\n",
        "    </tr>\n",
        "    <tr>\n",
        "        <td style=\"padding-left: 1em; padding-right: 1em; text-align: center; vertical-align: top\">-999.0</td>\n",
        "        <td style=\"padding-left: 1em; padding-right: 1em; text-align: center; vertical-align: top\">54.646</td>\n",
        "        <td style=\"padding-left: 1em; padding-right: 1em; text-align: center; vertical-align: top\">-1.533</td>\n",
        "        <td style=\"padding-left: 1em; padding-right: 1em; text-align: center; vertical-align: top\">0.416</td>\n",
        "        <td style=\"padding-left: 1em; padding-right: 1em; text-align: center; vertical-align: top\">32.742</td>\n",
        "        <td style=\"padding-left: 1em; padding-right: 1em; text-align: center; vertical-align: top\">-0.317</td>\n",
        "        <td style=\"padding-left: 1em; padding-right: 1em; text-align: center; vertical-align: top\">-0.636</td>\n",
        "        <td style=\"padding-left: 1em; padding-right: 1em; text-align: center; vertical-align: top\">132.678</td>\n",
        "    </tr>\n",
        "</table>\n",
        "<table frame=\"box\" rules=\"cols\">\n",
        "    <tr>\n",
        "        <th style=\"padding-left: 1em; padding-right: 1em; text-align: center\">PRI_met_phi</th>\n",
        "        <th style=\"padding-left: 1em; padding-right: 1em; text-align: center\">PRI_met_sumet</th>\n",
        "        <th style=\"padding-left: 1em; padding-right: 1em; text-align: center\">PRI_jet_num</th>\n",
        "        <th style=\"padding-left: 1em; padding-right: 1em; text-align: center\">PRI_jet_leading_pt</th>\n",
        "        <th style=\"padding-left: 1em; padding-right: 1em; text-align: center\">PRI_jet_leading_eta</th>\n",
        "        <th style=\"padding-left: 1em; padding-right: 1em; text-align: center\">PRI_jet_leading_phi</th>\n",
        "        <th style=\"padding-left: 1em; padding-right: 1em; text-align: center\">PRI_jet_subleading_pt</th>\n",
        "    </tr>\n",
        "    <tr>\n",
        "        <td style=\"padding-left: 1em; padding-right: 1em; text-align: center; vertical-align: top\">-0.277</td>\n",
        "        <td style=\"padding-left: 1em; padding-right: 1em; text-align: center; vertical-align: top\">258.733</td>\n",
        "        <td style=\"padding-left: 1em; padding-right: 1em; text-align: center; vertical-align: top\">2</td>\n",
        "        <td style=\"padding-left: 1em; padding-right: 1em; text-align: center; vertical-align: top\">67.435</td>\n",
        "        <td style=\"padding-left: 1em; padding-right: 1em; text-align: center; vertical-align: top\">2.15</td>\n",
        "        <td style=\"padding-left: 1em; padding-right: 1em; text-align: center; vertical-align: top\">0.444</td>\n",
        "        <td style=\"padding-left: 1em; padding-right: 1em; text-align: center; vertical-align: top\">46.062</td>\n",
        "    </tr>\n",
        "    <tr>\n",
        "        <td style=\"padding-left: 1em; padding-right: 1em; text-align: center; vertical-align: top\">-1.916</td>\n",
        "        <td style=\"padding-left: 1em; padding-right: 1em; text-align: center; vertical-align: top\">164.546</td>\n",
        "        <td style=\"padding-left: 1em; padding-right: 1em; text-align: center; vertical-align: top\">1</td>\n",
        "        <td style=\"padding-left: 1em; padding-right: 1em; text-align: center; vertical-align: top\">46.226</td>\n",
        "        <td style=\"padding-left: 1em; padding-right: 1em; text-align: center; vertical-align: top\">0.725</td>\n",
        "        <td style=\"padding-left: 1em; padding-right: 1em; text-align: center; vertical-align: top\">1.158</td>\n",
        "        <td style=\"padding-left: 1em; padding-right: 1em; text-align: center; vertical-align: top\">-999.0</td>\n",
        "    </tr>\n",
        "    <tr>\n",
        "        <td style=\"padding-left: 1em; padding-right: 1em; text-align: center; vertical-align: top\">-2.186</td>\n",
        "        <td style=\"padding-left: 1em; padding-right: 1em; text-align: center; vertical-align: top\">260.414</td>\n",
        "        <td style=\"padding-left: 1em; padding-right: 1em; text-align: center; vertical-align: top\">1</td>\n",
        "        <td style=\"padding-left: 1em; padding-right: 1em; text-align: center; vertical-align: top\">44.251</td>\n",
        "        <td style=\"padding-left: 1em; padding-right: 1em; text-align: center; vertical-align: top\">2.053</td>\n",
        "        <td style=\"padding-left: 1em; padding-right: 1em; text-align: center; vertical-align: top\">-2.028</td>\n",
        "        <td style=\"padding-left: 1em; padding-right: 1em; text-align: center; vertical-align: top\">-999.0</td>\n",
        "    </tr>\n",
        "    <tr>\n",
        "        <td style=\"padding-left: 1em; padding-right: 1em; text-align: center; vertical-align: top\">0.06</td>\n",
        "        <td style=\"padding-left: 1em; padding-right: 1em; text-align: center; vertical-align: top\">86.062</td>\n",
        "        <td style=\"padding-left: 1em; padding-right: 1em; text-align: center; vertical-align: top\">0</td>\n",
        "        <td style=\"padding-left: 1em; padding-right: 1em; text-align: center; vertical-align: top\">-999.0</td>\n",
        "        <td style=\"padding-left: 1em; padding-right: 1em; text-align: center; vertical-align: top\">-999.0</td>\n",
        "        <td style=\"padding-left: 1em; padding-right: 1em; text-align: center; vertical-align: top\">-999.0</td>\n",
        "        <td style=\"padding-left: 1em; padding-right: 1em; text-align: center; vertical-align: top\">-999.0</td>\n",
        "    </tr>\n",
        "    <tr>\n",
        "        <td style=\"padding-left: 1em; padding-right: 1em; text-align: center; vertical-align: top\">-0.871</td>\n",
        "        <td style=\"padding-left: 1em; padding-right: 1em; text-align: center; vertical-align: top\">53.131</td>\n",
        "        <td style=\"padding-left: 1em; padding-right: 1em; text-align: center; vertical-align: top\">0</td>\n",
        "        <td style=\"padding-left: 1em; padding-right: 1em; text-align: center; vertical-align: top\">-999.0</td>\n",
        "        <td style=\"padding-left: 1em; padding-right: 1em; text-align: center; vertical-align: top\">-999.0</td>\n",
        "        <td style=\"padding-left: 1em; padding-right: 1em; text-align: center; vertical-align: top\">-999.0</td>\n",
        "        <td style=\"padding-left: 1em; padding-right: 1em; text-align: center; vertical-align: top\">-999.0</td>\n",
        "    </tr>\n",
        "    <tr>\n",
        "        <td style=\"padding-left: 1em; padding-right: 1em; text-align: center; vertical-align: top\">2.237</td>\n",
        "        <td style=\"padding-left: 1em; padding-right: 1em; text-align: center; vertical-align: top\">282.849</td>\n",
        "        <td style=\"padding-left: 1em; padding-right: 1em; text-align: center; vertical-align: top\">3</td>\n",
        "        <td style=\"padding-left: 1em; padding-right: 1em; text-align: center; vertical-align: top\">90.547</td>\n",
        "        <td style=\"padding-left: 1em; padding-right: 1em; text-align: center; vertical-align: top\">-2.412</td>\n",
        "        <td style=\"padding-left: 1em; padding-right: 1em; text-align: center; vertical-align: top\">-0.653</td>\n",
        "        <td style=\"padding-left: 1em; padding-right: 1em; text-align: center; vertical-align: top\">56.165</td>\n",
        "    </tr>\n",
        "    <tr>\n",
        "        <td style=\"padding-left: 1em; padding-right: 1em; text-align: center; vertical-align: top\">-1.443</td>\n",
        "        <td style=\"padding-left: 1em; padding-right: 1em; text-align: center; vertical-align: top\">294.074</td>\n",
        "        <td style=\"padding-left: 1em; padding-right: 1em; text-align: center; vertical-align: top\">2</td>\n",
        "        <td style=\"padding-left: 1em; padding-right: 1em; text-align: center; vertical-align: top\">123.01</td>\n",
        "        <td style=\"padding-left: 1em; padding-right: 1em; text-align: center; vertical-align: top\">0.864</td>\n",
        "        <td style=\"padding-left: 1em; padding-right: 1em; text-align: center; vertical-align: top\">1.45</td>\n",
        "        <td style=\"padding-left: 1em; padding-right: 1em; text-align: center; vertical-align: top\">56.867</td>\n",
        "    </tr>\n",
        "    <tr>\n",
        "        <td style=\"padding-left: 1em; padding-right: 1em; text-align: center; vertical-align: top\">-1.761</td>\n",
        "        <td style=\"padding-left: 1em; padding-right: 1em; text-align: center; vertical-align: top\">187.299</td>\n",
        "        <td style=\"padding-left: 1em; padding-right: 1em; text-align: center; vertical-align: top\">1</td>\n",
        "        <td style=\"padding-left: 1em; padding-right: 1em; text-align: center; vertical-align: top\">30.638</td>\n",
        "        <td style=\"padding-left: 1em; padding-right: 1em; text-align: center; vertical-align: top\">-0.715</td>\n",
        "        <td style=\"padding-left: 1em; padding-right: 1em; text-align: center; vertical-align: top\">-1.724</td>\n",
        "        <td style=\"padding-left: 1em; padding-right: 1em; text-align: center; vertical-align: top\">-999.0</td>\n",
        "    </tr>\n",
        "    <tr>\n",
        "        <td style=\"padding-left: 1em; padding-right: 1em; text-align: center; vertical-align: top\">0.024</td>\n",
        "        <td style=\"padding-left: 1em; padding-right: 1em; text-align: center; vertical-align: top\">129.804</td>\n",
        "        <td style=\"padding-left: 1em; padding-right: 1em; text-align: center; vertical-align: top\">0</td>\n",
        "        <td style=\"padding-left: 1em; padding-right: 1em; text-align: center; vertical-align: top\">-999.0</td>\n",
        "        <td style=\"padding-left: 1em; padding-right: 1em; text-align: center; vertical-align: top\">-999.0</td>\n",
        "        <td style=\"padding-left: 1em; padding-right: 1em; text-align: center; vertical-align: top\">-999.0</td>\n",
        "        <td style=\"padding-left: 1em; padding-right: 1em; text-align: center; vertical-align: top\">-999.0</td>\n",
        "    </tr>\n",
        "    <tr>\n",
        "        <td style=\"padding-left: 1em; padding-right: 1em; text-align: center; vertical-align: top\">0.845</td>\n",
        "        <td style=\"padding-left: 1em; padding-right: 1em; text-align: center; vertical-align: top\">294.741</td>\n",
        "        <td style=\"padding-left: 1em; padding-right: 1em; text-align: center; vertical-align: top\">1</td>\n",
        "        <td style=\"padding-left: 1em; padding-right: 1em; text-align: center; vertical-align: top\">167.735</td>\n",
        "        <td style=\"padding-left: 1em; padding-right: 1em; text-align: center; vertical-align: top\">-2.767</td>\n",
        "        <td style=\"padding-left: 1em; padding-right: 1em; text-align: center; vertical-align: top\">-2.514</td>\n",
        "        <td style=\"padding-left: 1em; padding-right: 1em; text-align: center; vertical-align: top\">-999.0</td>\n",
        "    </tr>\n",
        "</table>\n",
        "<table frame=\"box\" rules=\"cols\">\n",
        "    <tr>\n",
        "        <th style=\"padding-left: 1em; padding-right: 1em; text-align: center\">PRI_jet_subleading_eta</th>\n",
        "        <th style=\"padding-left: 1em; padding-right: 1em; text-align: center\">PRI_jet_subleading_phi</th>\n",
        "        <th style=\"padding-left: 1em; padding-right: 1em; text-align: center\">PRI_jet_all_pt</th>\n",
        "        <th style=\"padding-left: 1em; padding-right: 1em; text-align: center\">Weight</th>\n",
        "        <th style=\"padding-left: 1em; padding-right: 1em; text-align: center\">Label</th>\n",
        "    </tr>\n",
        "    <tr>\n",
        "        <td style=\"padding-left: 1em; padding-right: 1em; text-align: center; vertical-align: top\">1.24</td>\n",
        "        <td style=\"padding-left: 1em; padding-right: 1em; text-align: center; vertical-align: top\">-2.475</td>\n",
        "        <td style=\"padding-left: 1em; padding-right: 1em; text-align: center; vertical-align: top\">113.497</td>\n",
        "        <td style=\"padding-left: 1em; padding-right: 1em; text-align: center; vertical-align: top\">0.00265331133733</td>\n",
        "        <td style=\"padding-left: 1em; padding-right: 1em; text-align: center; vertical-align: top\">s</td>\n",
        "    </tr>\n",
        "    <tr>\n",
        "        <td style=\"padding-left: 1em; padding-right: 1em; text-align: center; vertical-align: top\">-999.0</td>\n",
        "        <td style=\"padding-left: 1em; padding-right: 1em; text-align: center; vertical-align: top\">-999.0</td>\n",
        "        <td style=\"padding-left: 1em; padding-right: 1em; text-align: center; vertical-align: top\">46.226</td>\n",
        "        <td style=\"padding-left: 1em; padding-right: 1em; text-align: center; vertical-align: top\">2.23358448717</td>\n",
        "        <td style=\"padding-left: 1em; padding-right: 1em; text-align: center; vertical-align: top\">b</td>\n",
        "    </tr>\n",
        "    <tr>\n",
        "        <td style=\"padding-left: 1em; padding-right: 1em; text-align: center; vertical-align: top\">-999.0</td>\n",
        "        <td style=\"padding-left: 1em; padding-right: 1em; text-align: center; vertical-align: top\">-999.0</td>\n",
        "        <td style=\"padding-left: 1em; padding-right: 1em; text-align: center; vertical-align: top\">44.251</td>\n",
        "        <td style=\"padding-left: 1em; padding-right: 1em; text-align: center; vertical-align: top\">2.34738894364</td>\n",
        "        <td style=\"padding-left: 1em; padding-right: 1em; text-align: center; vertical-align: top\">b</td>\n",
        "    </tr>\n",
        "    <tr>\n",
        "        <td style=\"padding-left: 1em; padding-right: 1em; text-align: center; vertical-align: top\">-999.0</td>\n",
        "        <td style=\"padding-left: 1em; padding-right: 1em; text-align: center; vertical-align: top\">-999.0</td>\n",
        "        <td style=\"padding-left: 1em; padding-right: 1em; text-align: center; vertical-align: top\">-0.0</td>\n",
        "        <td style=\"padding-left: 1em; padding-right: 1em; text-align: center; vertical-align: top\">5.44637821192</td>\n",
        "        <td style=\"padding-left: 1em; padding-right: 1em; text-align: center; vertical-align: top\">b</td>\n",
        "    </tr>\n",
        "    <tr>\n",
        "        <td style=\"padding-left: 1em; padding-right: 1em; text-align: center; vertical-align: top\">-999.0</td>\n",
        "        <td style=\"padding-left: 1em; padding-right: 1em; text-align: center; vertical-align: top\">-999.0</td>\n",
        "        <td style=\"padding-left: 1em; padding-right: 1em; text-align: center; vertical-align: top\">0.0</td>\n",
        "        <td style=\"padding-left: 1em; padding-right: 1em; text-align: center; vertical-align: top\">6.24533268686</td>\n",
        "        <td style=\"padding-left: 1em; padding-right: 1em; text-align: center; vertical-align: top\">b</td>\n",
        "    </tr>\n",
        "    <tr>\n",
        "        <td style=\"padding-left: 1em; padding-right: 1em; text-align: center; vertical-align: top\">0.224</td>\n",
        "        <td style=\"padding-left: 1em; padding-right: 1em; text-align: center; vertical-align: top\">3.106</td>\n",
        "        <td style=\"padding-left: 1em; padding-right: 1em; text-align: center; vertical-align: top\">193.66</td>\n",
        "        <td style=\"padding-left: 1em; padding-right: 1em; text-align: center; vertical-align: top\">0.0834140312717</td>\n",
        "        <td style=\"padding-left: 1em; padding-right: 1em; text-align: center; vertical-align: top\">b</td>\n",
        "    </tr>\n",
        "    <tr>\n",
        "        <td style=\"padding-left: 1em; padding-right: 1em; text-align: center; vertical-align: top\">0.131</td>\n",
        "        <td style=\"padding-left: 1em; padding-right: 1em; text-align: center; vertical-align: top\">-2.767</td>\n",
        "        <td style=\"padding-left: 1em; padding-right: 1em; text-align: center; vertical-align: top\">179.877</td>\n",
        "        <td style=\"padding-left: 1em; padding-right: 1em; text-align: center; vertical-align: top\">0.00265331133733</td>\n",
        "        <td style=\"padding-left: 1em; padding-right: 1em; text-align: center; vertical-align: top\">s</td>\n",
        "    </tr>\n",
        "    <tr>\n",
        "        <td style=\"padding-left: 1em; padding-right: 1em; text-align: center; vertical-align: top\">-999.0</td>\n",
        "        <td style=\"padding-left: 1em; padding-right: 1em; text-align: center; vertical-align: top\">-999.0</td>\n",
        "        <td style=\"padding-left: 1em; padding-right: 1em; text-align: center; vertical-align: top\">30.638</td>\n",
        "        <td style=\"padding-left: 1em; padding-right: 1em; text-align: center; vertical-align: top\">0.018636116672</td>\n",
        "        <td style=\"padding-left: 1em; padding-right: 1em; text-align: center; vertical-align: top\">s</td>\n",
        "    </tr>\n",
        "    <tr>\n",
        "        <td style=\"padding-left: 1em; padding-right: 1em; text-align: center; vertical-align: top\">-999.0</td>\n",
        "        <td style=\"padding-left: 1em; padding-right: 1em; text-align: center; vertical-align: top\">-999.0</td>\n",
        "        <td style=\"padding-left: 1em; padding-right: 1em; text-align: center; vertical-align: top\">0.0</td>\n",
        "        <td style=\"padding-left: 1em; padding-right: 1em; text-align: center; vertical-align: top\">5.29600298518</td>\n",
        "        <td style=\"padding-left: 1em; padding-right: 1em; text-align: center; vertical-align: top\">b</td>\n",
        "    </tr>\n",
        "    <tr>\n",
        "        <td style=\"padding-left: 1em; padding-right: 1em; text-align: center; vertical-align: top\">-999.0</td>\n",
        "        <td style=\"padding-left: 1em; padding-right: 1em; text-align: center; vertical-align: top\">-999.0</td>\n",
        "        <td style=\"padding-left: 1em; padding-right: 1em; text-align: center; vertical-align: top\">167.735</td>\n",
        "        <td style=\"padding-left: 1em; padding-right: 1em; text-align: center; vertical-align: top\">0.00150187015894</td>\n",
        "        <td style=\"padding-left: 1em; padding-right: 1em; text-align: center; vertical-align: top\">s</td>\n",
        "    </tr>\n",
        "</table>\n",
        "[10 rows x 33 columns]<br/>\n",
        "</div>"
       ],
       "metadata": {},
       "output_type": "pyout",
       "prompt_number": 39,
       "text": [
        "Columns:\n",
        "\tEventId\tint\n",
        "\tDER_mass_MMC\tfloat\n",
        "\tDER_mass_transverse_met_lep\tfloat\n",
        "\tDER_mass_vis\tfloat\n",
        "\tDER_pt_h\tfloat\n",
        "\tDER_deltaeta_jet_jet\tfloat\n",
        "\tDER_mass_jet_jet\tfloat\n",
        "\tDER_prodeta_jet_jet\tfloat\n",
        "\tDER_deltar_tau_lep\tfloat\n",
        "\tDER_pt_tot\tfloat\n",
        "\tDER_sum_pt\tfloat\n",
        "\tDER_pt_ratio_lep_tau\tfloat\n",
        "\tDER_met_phi_centrality\tfloat\n",
        "\tDER_lep_eta_centrality\tfloat\n",
        "\tPRI_tau_pt\tfloat\n",
        "\tPRI_tau_eta\tfloat\n",
        "\tPRI_tau_phi\tfloat\n",
        "\tPRI_lep_pt\tfloat\n",
        "\tPRI_lep_eta\tfloat\n",
        "\tPRI_lep_phi\tfloat\n",
        "\tPRI_met\tfloat\n",
        "\tPRI_met_phi\tfloat\n",
        "\tPRI_met_sumet\tfloat\n",
        "\tPRI_jet_num\tint\n",
        "\tPRI_jet_leading_pt\tfloat\n",
        "\tPRI_jet_leading_eta\tfloat\n",
        "\tPRI_jet_leading_phi\tfloat\n",
        "\tPRI_jet_subleading_pt\tfloat\n",
        "\tPRI_jet_subleading_eta\tfloat\n",
        "\tPRI_jet_subleading_phi\tfloat\n",
        "\tPRI_jet_all_pt\tfloat\n",
        "\tWeight\tfloat\n",
        "\tLabel\tstr\n",
        "\n",
        "Rows: 10\n",
        "\n",
        "Data:\n",
        "+---------+--------------+-----------------------------+--------------+----------+\n",
        "| EventId | DER_mass_MMC | DER_mass_transverse_met_lep | DER_mass_vis | DER_pt_h |\n",
        "+---------+--------------+-----------------------------+--------------+----------+\n",
        "|  100000 |    138.47    |            51.655           |    97.827    |  27.98   |\n",
        "|  100001 |   160.937    |            68.768           |   103.235    |  48.146  |\n",
        "|  100002 |    -999.0    |           162.172           |   125.953    |  35.635  |\n",
        "|  100003 |   143.905    |            81.417           |    80.943    |  0.414   |\n",
        "|  100004 |   175.864    |            16.915           |   134.805    |  16.405  |\n",
        "|  100005 |    89.744    |            13.55            |    59.149    | 116.344  |\n",
        "|  100006 |   148.754    |            28.862           |   107.782    |  106.13  |\n",
        "|  100007 |   154.916    |            10.418           |    94.714    |  29.169  |\n",
        "|  100008 |   105.594    |            50.559           |   100.989    |  4.288   |\n",
        "|  100009 |   128.053    |            88.941           |    69.272    | 193.392  |\n",
        "+---------+--------------+-----------------------------+--------------+----------+\n",
        "+----------------------+------------------+---------------------+--------------------+\n",
        "| DER_deltaeta_jet_jet | DER_mass_jet_jet | DER_prodeta_jet_jet | DER_deltar_tau_lep |\n",
        "+----------------------+------------------+---------------------+--------------------+\n",
        "|         0.91         |     124.711      |        2.666        |       3.064        |\n",
        "|        -999.0        |      -999.0      |        -999.0       |       3.473        |\n",
        "|        -999.0        |      -999.0      |        -999.0       |       3.148        |\n",
        "|        -999.0        |      -999.0      |        -999.0       |        3.31        |\n",
        "|        -999.0        |      -999.0      |        -999.0       |       3.891        |\n",
        "|        2.636         |     284.584      |        -0.54        |       1.362        |\n",
        "|        0.733         |     158.359      |        0.113        |       2.941        |\n",
        "|        -999.0        |      -999.0      |        -999.0       |       2.897        |\n",
        "|        -999.0        |      -999.0      |        -999.0       |       2.904        |\n",
        "|        -999.0        |      -999.0      |        -999.0       |       1.609        |\n",
        "+----------------------+------------------+---------------------+--------------------+\n",
        "+------------+------------+----------------------+------------------------+\n",
        "| DER_pt_tot | DER_sum_pt | DER_pt_ratio_lep_tau | DER_met_phi_centrality |\n",
        "+------------+------------+----------------------+------------------------+\n",
        "|   41.928   |   197.76   |        1.582         |         1.396          |\n",
        "|   2.078    |  125.157   |        0.879         |         1.414          |\n",
        "|   9.336    |  197.814   |        3.776         |         1.414          |\n",
        "|   0.414    |   75.968   |        2.354         |         -1.285         |\n",
        "|   16.405   |   57.983   |        1.056         |         -1.385         |\n",
        "|   61.619   |  278.876   |        0.588         |         0.479          |\n",
        "|   2.545    |  305.967   |        3.371         |         1.393          |\n",
        "|   1.526    |  138.178   |        0.365         |         -1.305         |\n",
        "|   4.288    |   65.333   |        0.675         |         -1.366         |\n",
        "|   28.859   |  255.123   |        0.599         |         0.538          |\n",
        "+------------+------------+----------------------+------------------------+\n",
        "+------------------------+------------+-------------+-------------+------------+\n",
        "| DER_lep_eta_centrality | PRI_tau_pt | PRI_tau_eta | PRI_tau_phi | PRI_lep_pt |\n",
        "+------------------------+------------+-------------+-------------+------------+\n",
        "|          0.2           |   32.638   |    1.017    |    0.381    |   51.626   |\n",
        "|         -999.0         |   42.014   |    2.039    |    -3.011   |   36.918   |\n",
        "|         -999.0         |   32.154   |    -0.705   |    -2.093   |  121.409   |\n",
        "|         -999.0         |   22.647   |    -1.655   |     0.01    |   53.321   |\n",
        "|         -999.0         |   28.209   |    -2.197   |    -2.231   |   29.774   |\n",
        "|         0.975          |   53.651   |    0.371    |    1.329    |   31.565   |\n",
        "|         0.791          |   28.85    |    1.113    |    2.409    |   97.24    |\n",
        "|         -999.0         |    78.8    |    0.654    |    1.547    |   28.74    |\n",
        "|         -999.0         |   39.008   |    2.433    |    -2.532   |   26.325   |\n",
        "|         -999.0         |   54.646   |    -1.533   |    0.416    |   32.742   |\n",
        "+------------------------+------------+-------------+-------------+------------+\n",
        "+-------------+-------------+-----+\n",
        "| PRI_lep_eta | PRI_lep_phi | ... |\n",
        "+-------------+-------------+-----+\n",
        "|    2.273    |    -2.414   | ... |\n",
        "|    0.501    |    0.103    | ... |\n",
        "|    -0.953   |    1.052    | ... |\n",
        "|    -0.522   |     -3.1    | ... |\n",
        "|    0.798    |    1.569    | ... |\n",
        "|    -0.884   |    1.857    | ... |\n",
        "|    0.675    |    -0.966   | ... |\n",
        "|    0.506    |    -1.347   | ... |\n",
        "|     0.21    |    1.884    | ... |\n",
        "|    -0.317   |    -0.636   | ... |\n",
        "+-------------+-------------+-----+\n",
        "[10 rows x 33 columns]"
       ]
      }
     ],
     "prompt_number": 39
    },
    {
     "cell_type": "code",
     "collapsed": false,
     "input": [
      "training_sframe[\"Label1\"]=training_sframe[\"Label\"].apply(lambda x:int(x=='s'.encode('utf-8')))\n"
     ],
     "language": "python",
     "metadata": {},
     "outputs": [],
     "prompt_number": 40
    },
    {
     "cell_type": "code",
     "collapsed": false,
     "input": [
      "(training_data, test_data) = training_sframe.random_split(0.8)\n",
      "training_data.head()"
     ],
     "language": "python",
     "metadata": {},
     "outputs": [
      {
       "html": [
        "<div style=\"max-height:1000px;max-width:1500px;overflow:auto;\"><table frame=\"box\" rules=\"cols\">\n",
        "    <tr>\n",
        "        <th style=\"padding-left: 1em; padding-right: 1em; text-align: center\">EventId</th>\n",
        "        <th style=\"padding-left: 1em; padding-right: 1em; text-align: center\">DER_mass_MMC</th>\n",
        "        <th style=\"padding-left: 1em; padding-right: 1em; text-align: center\">DER_mass_transverse_met_l<br>ep</th>\n",
        "        <th style=\"padding-left: 1em; padding-right: 1em; text-align: center\">DER_mass_vis</th>\n",
        "        <th style=\"padding-left: 1em; padding-right: 1em; text-align: center\">DER_pt_h</th>\n",
        "        <th style=\"padding-left: 1em; padding-right: 1em; text-align: center\">DER_deltaeta_jet_jet</th>\n",
        "        <th style=\"padding-left: 1em; padding-right: 1em; text-align: center\">DER_mass_jet_jet</th>\n",
        "    </tr>\n",
        "    <tr>\n",
        "        <td style=\"padding-left: 1em; padding-right: 1em; text-align: center; vertical-align: top\">100000</td>\n",
        "        <td style=\"padding-left: 1em; padding-right: 1em; text-align: center; vertical-align: top\">138.47</td>\n",
        "        <td style=\"padding-left: 1em; padding-right: 1em; text-align: center; vertical-align: top\">51.655</td>\n",
        "        <td style=\"padding-left: 1em; padding-right: 1em; text-align: center; vertical-align: top\">97.827</td>\n",
        "        <td style=\"padding-left: 1em; padding-right: 1em; text-align: center; vertical-align: top\">27.98</td>\n",
        "        <td style=\"padding-left: 1em; padding-right: 1em; text-align: center; vertical-align: top\">0.91</td>\n",
        "        <td style=\"padding-left: 1em; padding-right: 1em; text-align: center; vertical-align: top\">124.711</td>\n",
        "    </tr>\n",
        "    <tr>\n",
        "        <td style=\"padding-left: 1em; padding-right: 1em; text-align: center; vertical-align: top\">100001</td>\n",
        "        <td style=\"padding-left: 1em; padding-right: 1em; text-align: center; vertical-align: top\">160.937</td>\n",
        "        <td style=\"padding-left: 1em; padding-right: 1em; text-align: center; vertical-align: top\">68.768</td>\n",
        "        <td style=\"padding-left: 1em; padding-right: 1em; text-align: center; vertical-align: top\">103.235</td>\n",
        "        <td style=\"padding-left: 1em; padding-right: 1em; text-align: center; vertical-align: top\">48.146</td>\n",
        "        <td style=\"padding-left: 1em; padding-right: 1em; text-align: center; vertical-align: top\">-999.0</td>\n",
        "        <td style=\"padding-left: 1em; padding-right: 1em; text-align: center; vertical-align: top\">-999.0</td>\n",
        "    </tr>\n",
        "    <tr>\n",
        "        <td style=\"padding-left: 1em; padding-right: 1em; text-align: center; vertical-align: top\">100002</td>\n",
        "        <td style=\"padding-left: 1em; padding-right: 1em; text-align: center; vertical-align: top\">-999.0</td>\n",
        "        <td style=\"padding-left: 1em; padding-right: 1em; text-align: center; vertical-align: top\">162.172</td>\n",
        "        <td style=\"padding-left: 1em; padding-right: 1em; text-align: center; vertical-align: top\">125.953</td>\n",
        "        <td style=\"padding-left: 1em; padding-right: 1em; text-align: center; vertical-align: top\">35.635</td>\n",
        "        <td style=\"padding-left: 1em; padding-right: 1em; text-align: center; vertical-align: top\">-999.0</td>\n",
        "        <td style=\"padding-left: 1em; padding-right: 1em; text-align: center; vertical-align: top\">-999.0</td>\n",
        "    </tr>\n",
        "    <tr>\n",
        "        <td style=\"padding-left: 1em; padding-right: 1em; text-align: center; vertical-align: top\">100003</td>\n",
        "        <td style=\"padding-left: 1em; padding-right: 1em; text-align: center; vertical-align: top\">143.905</td>\n",
        "        <td style=\"padding-left: 1em; padding-right: 1em; text-align: center; vertical-align: top\">81.417</td>\n",
        "        <td style=\"padding-left: 1em; padding-right: 1em; text-align: center; vertical-align: top\">80.943</td>\n",
        "        <td style=\"padding-left: 1em; padding-right: 1em; text-align: center; vertical-align: top\">0.414</td>\n",
        "        <td style=\"padding-left: 1em; padding-right: 1em; text-align: center; vertical-align: top\">-999.0</td>\n",
        "        <td style=\"padding-left: 1em; padding-right: 1em; text-align: center; vertical-align: top\">-999.0</td>\n",
        "    </tr>\n",
        "    <tr>\n",
        "        <td style=\"padding-left: 1em; padding-right: 1em; text-align: center; vertical-align: top\">100004</td>\n",
        "        <td style=\"padding-left: 1em; padding-right: 1em; text-align: center; vertical-align: top\">175.864</td>\n",
        "        <td style=\"padding-left: 1em; padding-right: 1em; text-align: center; vertical-align: top\">16.915</td>\n",
        "        <td style=\"padding-left: 1em; padding-right: 1em; text-align: center; vertical-align: top\">134.805</td>\n",
        "        <td style=\"padding-left: 1em; padding-right: 1em; text-align: center; vertical-align: top\">16.405</td>\n",
        "        <td style=\"padding-left: 1em; padding-right: 1em; text-align: center; vertical-align: top\">-999.0</td>\n",
        "        <td style=\"padding-left: 1em; padding-right: 1em; text-align: center; vertical-align: top\">-999.0</td>\n",
        "    </tr>\n",
        "    <tr>\n",
        "        <td style=\"padding-left: 1em; padding-right: 1em; text-align: center; vertical-align: top\">100006</td>\n",
        "        <td style=\"padding-left: 1em; padding-right: 1em; text-align: center; vertical-align: top\">148.754</td>\n",
        "        <td style=\"padding-left: 1em; padding-right: 1em; text-align: center; vertical-align: top\">28.862</td>\n",
        "        <td style=\"padding-left: 1em; padding-right: 1em; text-align: center; vertical-align: top\">107.782</td>\n",
        "        <td style=\"padding-left: 1em; padding-right: 1em; text-align: center; vertical-align: top\">106.13</td>\n",
        "        <td style=\"padding-left: 1em; padding-right: 1em; text-align: center; vertical-align: top\">0.733</td>\n",
        "        <td style=\"padding-left: 1em; padding-right: 1em; text-align: center; vertical-align: top\">158.359</td>\n",
        "    </tr>\n",
        "    <tr>\n",
        "        <td style=\"padding-left: 1em; padding-right: 1em; text-align: center; vertical-align: top\">100007</td>\n",
        "        <td style=\"padding-left: 1em; padding-right: 1em; text-align: center; vertical-align: top\">154.916</td>\n",
        "        <td style=\"padding-left: 1em; padding-right: 1em; text-align: center; vertical-align: top\">10.418</td>\n",
        "        <td style=\"padding-left: 1em; padding-right: 1em; text-align: center; vertical-align: top\">94.714</td>\n",
        "        <td style=\"padding-left: 1em; padding-right: 1em; text-align: center; vertical-align: top\">29.169</td>\n",
        "        <td style=\"padding-left: 1em; padding-right: 1em; text-align: center; vertical-align: top\">-999.0</td>\n",
        "        <td style=\"padding-left: 1em; padding-right: 1em; text-align: center; vertical-align: top\">-999.0</td>\n",
        "    </tr>\n",
        "    <tr>\n",
        "        <td style=\"padding-left: 1em; padding-right: 1em; text-align: center; vertical-align: top\">100008</td>\n",
        "        <td style=\"padding-left: 1em; padding-right: 1em; text-align: center; vertical-align: top\">105.594</td>\n",
        "        <td style=\"padding-left: 1em; padding-right: 1em; text-align: center; vertical-align: top\">50.559</td>\n",
        "        <td style=\"padding-left: 1em; padding-right: 1em; text-align: center; vertical-align: top\">100.989</td>\n",
        "        <td style=\"padding-left: 1em; padding-right: 1em; text-align: center; vertical-align: top\">4.288</td>\n",
        "        <td style=\"padding-left: 1em; padding-right: 1em; text-align: center; vertical-align: top\">-999.0</td>\n",
        "        <td style=\"padding-left: 1em; padding-right: 1em; text-align: center; vertical-align: top\">-999.0</td>\n",
        "    </tr>\n",
        "    <tr>\n",
        "        <td style=\"padding-left: 1em; padding-right: 1em; text-align: center; vertical-align: top\">100009</td>\n",
        "        <td style=\"padding-left: 1em; padding-right: 1em; text-align: center; vertical-align: top\">128.053</td>\n",
        "        <td style=\"padding-left: 1em; padding-right: 1em; text-align: center; vertical-align: top\">88.941</td>\n",
        "        <td style=\"padding-left: 1em; padding-right: 1em; text-align: center; vertical-align: top\">69.272</td>\n",
        "        <td style=\"padding-left: 1em; padding-right: 1em; text-align: center; vertical-align: top\">193.392</td>\n",
        "        <td style=\"padding-left: 1em; padding-right: 1em; text-align: center; vertical-align: top\">-999.0</td>\n",
        "        <td style=\"padding-left: 1em; padding-right: 1em; text-align: center; vertical-align: top\">-999.0</td>\n",
        "    </tr>\n",
        "    <tr>\n",
        "        <td style=\"padding-left: 1em; padding-right: 1em; text-align: center; vertical-align: top\">100010</td>\n",
        "        <td style=\"padding-left: 1em; padding-right: 1em; text-align: center; vertical-align: top\">-999.0</td>\n",
        "        <td style=\"padding-left: 1em; padding-right: 1em; text-align: center; vertical-align: top\">86.24</td>\n",
        "        <td style=\"padding-left: 1em; padding-right: 1em; text-align: center; vertical-align: top\">79.692</td>\n",
        "        <td style=\"padding-left: 1em; padding-right: 1em; text-align: center; vertical-align: top\">27.201</td>\n",
        "        <td style=\"padding-left: 1em; padding-right: 1em; text-align: center; vertical-align: top\">-999.0</td>\n",
        "        <td style=\"padding-left: 1em; padding-right: 1em; text-align: center; vertical-align: top\">-999.0</td>\n",
        "    </tr>\n",
        "</table>\n",
        "<table frame=\"box\" rules=\"cols\">\n",
        "    <tr>\n",
        "        <th style=\"padding-left: 1em; padding-right: 1em; text-align: center\">DER_prodeta_jet_jet</th>\n",
        "        <th style=\"padding-left: 1em; padding-right: 1em; text-align: center\">DER_deltar_tau_lep</th>\n",
        "        <th style=\"padding-left: 1em; padding-right: 1em; text-align: center\">DER_pt_tot</th>\n",
        "        <th style=\"padding-left: 1em; padding-right: 1em; text-align: center\">DER_sum_pt</th>\n",
        "        <th style=\"padding-left: 1em; padding-right: 1em; text-align: center\">DER_pt_ratio_lep_tau</th>\n",
        "        <th style=\"padding-left: 1em; padding-right: 1em; text-align: center\">DER_met_phi_centrality</th>\n",
        "    </tr>\n",
        "    <tr>\n",
        "        <td style=\"padding-left: 1em; padding-right: 1em; text-align: center; vertical-align: top\">2.666</td>\n",
        "        <td style=\"padding-left: 1em; padding-right: 1em; text-align: center; vertical-align: top\">3.064</td>\n",
        "        <td style=\"padding-left: 1em; padding-right: 1em; text-align: center; vertical-align: top\">41.928</td>\n",
        "        <td style=\"padding-left: 1em; padding-right: 1em; text-align: center; vertical-align: top\">197.76</td>\n",
        "        <td style=\"padding-left: 1em; padding-right: 1em; text-align: center; vertical-align: top\">1.582</td>\n",
        "        <td style=\"padding-left: 1em; padding-right: 1em; text-align: center; vertical-align: top\">1.396</td>\n",
        "    </tr>\n",
        "    <tr>\n",
        "        <td style=\"padding-left: 1em; padding-right: 1em; text-align: center; vertical-align: top\">-999.0</td>\n",
        "        <td style=\"padding-left: 1em; padding-right: 1em; text-align: center; vertical-align: top\">3.473</td>\n",
        "        <td style=\"padding-left: 1em; padding-right: 1em; text-align: center; vertical-align: top\">2.078</td>\n",
        "        <td style=\"padding-left: 1em; padding-right: 1em; text-align: center; vertical-align: top\">125.157</td>\n",
        "        <td style=\"padding-left: 1em; padding-right: 1em; text-align: center; vertical-align: top\">0.879</td>\n",
        "        <td style=\"padding-left: 1em; padding-right: 1em; text-align: center; vertical-align: top\">1.414</td>\n",
        "    </tr>\n",
        "    <tr>\n",
        "        <td style=\"padding-left: 1em; padding-right: 1em; text-align: center; vertical-align: top\">-999.0</td>\n",
        "        <td style=\"padding-left: 1em; padding-right: 1em; text-align: center; vertical-align: top\">3.148</td>\n",
        "        <td style=\"padding-left: 1em; padding-right: 1em; text-align: center; vertical-align: top\">9.336</td>\n",
        "        <td style=\"padding-left: 1em; padding-right: 1em; text-align: center; vertical-align: top\">197.814</td>\n",
        "        <td style=\"padding-left: 1em; padding-right: 1em; text-align: center; vertical-align: top\">3.776</td>\n",
        "        <td style=\"padding-left: 1em; padding-right: 1em; text-align: center; vertical-align: top\">1.414</td>\n",
        "    </tr>\n",
        "    <tr>\n",
        "        <td style=\"padding-left: 1em; padding-right: 1em; text-align: center; vertical-align: top\">-999.0</td>\n",
        "        <td style=\"padding-left: 1em; padding-right: 1em; text-align: center; vertical-align: top\">3.31</td>\n",
        "        <td style=\"padding-left: 1em; padding-right: 1em; text-align: center; vertical-align: top\">0.414</td>\n",
        "        <td style=\"padding-left: 1em; padding-right: 1em; text-align: center; vertical-align: top\">75.968</td>\n",
        "        <td style=\"padding-left: 1em; padding-right: 1em; text-align: center; vertical-align: top\">2.354</td>\n",
        "        <td style=\"padding-left: 1em; padding-right: 1em; text-align: center; vertical-align: top\">-1.285</td>\n",
        "    </tr>\n",
        "    <tr>\n",
        "        <td style=\"padding-left: 1em; padding-right: 1em; text-align: center; vertical-align: top\">-999.0</td>\n",
        "        <td style=\"padding-left: 1em; padding-right: 1em; text-align: center; vertical-align: top\">3.891</td>\n",
        "        <td style=\"padding-left: 1em; padding-right: 1em; text-align: center; vertical-align: top\">16.405</td>\n",
        "        <td style=\"padding-left: 1em; padding-right: 1em; text-align: center; vertical-align: top\">57.983</td>\n",
        "        <td style=\"padding-left: 1em; padding-right: 1em; text-align: center; vertical-align: top\">1.056</td>\n",
        "        <td style=\"padding-left: 1em; padding-right: 1em; text-align: center; vertical-align: top\">-1.385</td>\n",
        "    </tr>\n",
        "    <tr>\n",
        "        <td style=\"padding-left: 1em; padding-right: 1em; text-align: center; vertical-align: top\">0.113</td>\n",
        "        <td style=\"padding-left: 1em; padding-right: 1em; text-align: center; vertical-align: top\">2.941</td>\n",
        "        <td style=\"padding-left: 1em; padding-right: 1em; text-align: center; vertical-align: top\">2.545</td>\n",
        "        <td style=\"padding-left: 1em; padding-right: 1em; text-align: center; vertical-align: top\">305.967</td>\n",
        "        <td style=\"padding-left: 1em; padding-right: 1em; text-align: center; vertical-align: top\">3.371</td>\n",
        "        <td style=\"padding-left: 1em; padding-right: 1em; text-align: center; vertical-align: top\">1.393</td>\n",
        "    </tr>\n",
        "    <tr>\n",
        "        <td style=\"padding-left: 1em; padding-right: 1em; text-align: center; vertical-align: top\">-999.0</td>\n",
        "        <td style=\"padding-left: 1em; padding-right: 1em; text-align: center; vertical-align: top\">2.897</td>\n",
        "        <td style=\"padding-left: 1em; padding-right: 1em; text-align: center; vertical-align: top\">1.526</td>\n",
        "        <td style=\"padding-left: 1em; padding-right: 1em; text-align: center; vertical-align: top\">138.178</td>\n",
        "        <td style=\"padding-left: 1em; padding-right: 1em; text-align: center; vertical-align: top\">0.365</td>\n",
        "        <td style=\"padding-left: 1em; padding-right: 1em; text-align: center; vertical-align: top\">-1.305</td>\n",
        "    </tr>\n",
        "    <tr>\n",
        "        <td style=\"padding-left: 1em; padding-right: 1em; text-align: center; vertical-align: top\">-999.0</td>\n",
        "        <td style=\"padding-left: 1em; padding-right: 1em; text-align: center; vertical-align: top\">2.904</td>\n",
        "        <td style=\"padding-left: 1em; padding-right: 1em; text-align: center; vertical-align: top\">4.288</td>\n",
        "        <td style=\"padding-left: 1em; padding-right: 1em; text-align: center; vertical-align: top\">65.333</td>\n",
        "        <td style=\"padding-left: 1em; padding-right: 1em; text-align: center; vertical-align: top\">0.675</td>\n",
        "        <td style=\"padding-left: 1em; padding-right: 1em; text-align: center; vertical-align: top\">-1.366</td>\n",
        "    </tr>\n",
        "    <tr>\n",
        "        <td style=\"padding-left: 1em; padding-right: 1em; text-align: center; vertical-align: top\">-999.0</td>\n",
        "        <td style=\"padding-left: 1em; padding-right: 1em; text-align: center; vertical-align: top\">1.609</td>\n",
        "        <td style=\"padding-left: 1em; padding-right: 1em; text-align: center; vertical-align: top\">28.859</td>\n",
        "        <td style=\"padding-left: 1em; padding-right: 1em; text-align: center; vertical-align: top\">255.123</td>\n",
        "        <td style=\"padding-left: 1em; padding-right: 1em; text-align: center; vertical-align: top\">0.599</td>\n",
        "        <td style=\"padding-left: 1em; padding-right: 1em; text-align: center; vertical-align: top\">0.538</td>\n",
        "    </tr>\n",
        "    <tr>\n",
        "        <td style=\"padding-left: 1em; padding-right: 1em; text-align: center; vertical-align: top\">-999.0</td>\n",
        "        <td style=\"padding-left: 1em; padding-right: 1em; text-align: center; vertical-align: top\">2.338</td>\n",
        "        <td style=\"padding-left: 1em; padding-right: 1em; text-align: center; vertical-align: top\">27.201</td>\n",
        "        <td style=\"padding-left: 1em; padding-right: 1em; text-align: center; vertical-align: top\">81.734</td>\n",
        "        <td style=\"padding-left: 1em; padding-right: 1em; text-align: center; vertical-align: top\">1.75</td>\n",
        "        <td style=\"padding-left: 1em; padding-right: 1em; text-align: center; vertical-align: top\">-1.412</td>\n",
        "    </tr>\n",
        "</table>\n",
        "<table frame=\"box\" rules=\"cols\">\n",
        "    <tr>\n",
        "        <th style=\"padding-left: 1em; padding-right: 1em; text-align: center\">DER_lep_eta_centrality</th>\n",
        "        <th style=\"padding-left: 1em; padding-right: 1em; text-align: center\">PRI_tau_pt</th>\n",
        "        <th style=\"padding-left: 1em; padding-right: 1em; text-align: center\">PRI_tau_eta</th>\n",
        "        <th style=\"padding-left: 1em; padding-right: 1em; text-align: center\">PRI_tau_phi</th>\n",
        "        <th style=\"padding-left: 1em; padding-right: 1em; text-align: center\">PRI_lep_pt</th>\n",
        "        <th style=\"padding-left: 1em; padding-right: 1em; text-align: center\">PRI_lep_eta</th>\n",
        "        <th style=\"padding-left: 1em; padding-right: 1em; text-align: center\">PRI_lep_phi</th>\n",
        "        <th style=\"padding-left: 1em; padding-right: 1em; text-align: center\">PRI_met</th>\n",
        "    </tr>\n",
        "    <tr>\n",
        "        <td style=\"padding-left: 1em; padding-right: 1em; text-align: center; vertical-align: top\">0.2</td>\n",
        "        <td style=\"padding-left: 1em; padding-right: 1em; text-align: center; vertical-align: top\">32.638</td>\n",
        "        <td style=\"padding-left: 1em; padding-right: 1em; text-align: center; vertical-align: top\">1.017</td>\n",
        "        <td style=\"padding-left: 1em; padding-right: 1em; text-align: center; vertical-align: top\">0.381</td>\n",
        "        <td style=\"padding-left: 1em; padding-right: 1em; text-align: center; vertical-align: top\">51.626</td>\n",
        "        <td style=\"padding-left: 1em; padding-right: 1em; text-align: center; vertical-align: top\">2.273</td>\n",
        "        <td style=\"padding-left: 1em; padding-right: 1em; text-align: center; vertical-align: top\">-2.414</td>\n",
        "        <td style=\"padding-left: 1em; padding-right: 1em; text-align: center; vertical-align: top\">16.824</td>\n",
        "    </tr>\n",
        "    <tr>\n",
        "        <td style=\"padding-left: 1em; padding-right: 1em; text-align: center; vertical-align: top\">-999.0</td>\n",
        "        <td style=\"padding-left: 1em; padding-right: 1em; text-align: center; vertical-align: top\">42.014</td>\n",
        "        <td style=\"padding-left: 1em; padding-right: 1em; text-align: center; vertical-align: top\">2.039</td>\n",
        "        <td style=\"padding-left: 1em; padding-right: 1em; text-align: center; vertical-align: top\">-3.011</td>\n",
        "        <td style=\"padding-left: 1em; padding-right: 1em; text-align: center; vertical-align: top\">36.918</td>\n",
        "        <td style=\"padding-left: 1em; padding-right: 1em; text-align: center; vertical-align: top\">0.501</td>\n",
        "        <td style=\"padding-left: 1em; padding-right: 1em; text-align: center; vertical-align: top\">0.103</td>\n",
        "        <td style=\"padding-left: 1em; padding-right: 1em; text-align: center; vertical-align: top\">44.704</td>\n",
        "    </tr>\n",
        "    <tr>\n",
        "        <td style=\"padding-left: 1em; padding-right: 1em; text-align: center; vertical-align: top\">-999.0</td>\n",
        "        <td style=\"padding-left: 1em; padding-right: 1em; text-align: center; vertical-align: top\">32.154</td>\n",
        "        <td style=\"padding-left: 1em; padding-right: 1em; text-align: center; vertical-align: top\">-0.705</td>\n",
        "        <td style=\"padding-left: 1em; padding-right: 1em; text-align: center; vertical-align: top\">-2.093</td>\n",
        "        <td style=\"padding-left: 1em; padding-right: 1em; text-align: center; vertical-align: top\">121.409</td>\n",
        "        <td style=\"padding-left: 1em; padding-right: 1em; text-align: center; vertical-align: top\">-0.953</td>\n",
        "        <td style=\"padding-left: 1em; padding-right: 1em; text-align: center; vertical-align: top\">1.052</td>\n",
        "        <td style=\"padding-left: 1em; padding-right: 1em; text-align: center; vertical-align: top\">54.283</td>\n",
        "    </tr>\n",
        "    <tr>\n",
        "        <td style=\"padding-left: 1em; padding-right: 1em; text-align: center; vertical-align: top\">-999.0</td>\n",
        "        <td style=\"padding-left: 1em; padding-right: 1em; text-align: center; vertical-align: top\">22.647</td>\n",
        "        <td style=\"padding-left: 1em; padding-right: 1em; text-align: center; vertical-align: top\">-1.655</td>\n",
        "        <td style=\"padding-left: 1em; padding-right: 1em; text-align: center; vertical-align: top\">0.01</td>\n",
        "        <td style=\"padding-left: 1em; padding-right: 1em; text-align: center; vertical-align: top\">53.321</td>\n",
        "        <td style=\"padding-left: 1em; padding-right: 1em; text-align: center; vertical-align: top\">-0.522</td>\n",
        "        <td style=\"padding-left: 1em; padding-right: 1em; text-align: center; vertical-align: top\">-3.1</td>\n",
        "        <td style=\"padding-left: 1em; padding-right: 1em; text-align: center; vertical-align: top\">31.082</td>\n",
        "    </tr>\n",
        "    <tr>\n",
        "        <td style=\"padding-left: 1em; padding-right: 1em; text-align: center; vertical-align: top\">-999.0</td>\n",
        "        <td style=\"padding-left: 1em; padding-right: 1em; text-align: center; vertical-align: top\">28.209</td>\n",
        "        <td style=\"padding-left: 1em; padding-right: 1em; text-align: center; vertical-align: top\">-2.197</td>\n",
        "        <td style=\"padding-left: 1em; padding-right: 1em; text-align: center; vertical-align: top\">-2.231</td>\n",
        "        <td style=\"padding-left: 1em; padding-right: 1em; text-align: center; vertical-align: top\">29.774</td>\n",
        "        <td style=\"padding-left: 1em; padding-right: 1em; text-align: center; vertical-align: top\">0.798</td>\n",
        "        <td style=\"padding-left: 1em; padding-right: 1em; text-align: center; vertical-align: top\">1.569</td>\n",
        "        <td style=\"padding-left: 1em; padding-right: 1em; text-align: center; vertical-align: top\">2.723</td>\n",
        "    </tr>\n",
        "    <tr>\n",
        "        <td style=\"padding-left: 1em; padding-right: 1em; text-align: center; vertical-align: top\">0.791</td>\n",
        "        <td style=\"padding-left: 1em; padding-right: 1em; text-align: center; vertical-align: top\">28.85</td>\n",
        "        <td style=\"padding-left: 1em; padding-right: 1em; text-align: center; vertical-align: top\">1.113</td>\n",
        "        <td style=\"padding-left: 1em; padding-right: 1em; text-align: center; vertical-align: top\">2.409</td>\n",
        "        <td style=\"padding-left: 1em; padding-right: 1em; text-align: center; vertical-align: top\">97.24</td>\n",
        "        <td style=\"padding-left: 1em; padding-right: 1em; text-align: center; vertical-align: top\">0.675</td>\n",
        "        <td style=\"padding-left: 1em; padding-right: 1em; text-align: center; vertical-align: top\">-0.966</td>\n",
        "        <td style=\"padding-left: 1em; padding-right: 1em; text-align: center; vertical-align: top\">38.421</td>\n",
        "    </tr>\n",
        "    <tr>\n",
        "        <td style=\"padding-left: 1em; padding-right: 1em; text-align: center; vertical-align: top\">-999.0</td>\n",
        "        <td style=\"padding-left: 1em; padding-right: 1em; text-align: center; vertical-align: top\">78.8</td>\n",
        "        <td style=\"padding-left: 1em; padding-right: 1em; text-align: center; vertical-align: top\">0.654</td>\n",
        "        <td style=\"padding-left: 1em; padding-right: 1em; text-align: center; vertical-align: top\">1.547</td>\n",
        "        <td style=\"padding-left: 1em; padding-right: 1em; text-align: center; vertical-align: top\">28.74</td>\n",
        "        <td style=\"padding-left: 1em; padding-right: 1em; text-align: center; vertical-align: top\">0.506</td>\n",
        "        <td style=\"padding-left: 1em; padding-right: 1em; text-align: center; vertical-align: top\">-1.347</td>\n",
        "        <td style=\"padding-left: 1em; padding-right: 1em; text-align: center; vertical-align: top\">22.275</td>\n",
        "    </tr>\n",
        "    <tr>\n",
        "        <td style=\"padding-left: 1em; padding-right: 1em; text-align: center; vertical-align: top\">-999.0</td>\n",
        "        <td style=\"padding-left: 1em; padding-right: 1em; text-align: center; vertical-align: top\">39.008</td>\n",
        "        <td style=\"padding-left: 1em; padding-right: 1em; text-align: center; vertical-align: top\">2.433</td>\n",
        "        <td style=\"padding-left: 1em; padding-right: 1em; text-align: center; vertical-align: top\">-2.532</td>\n",
        "        <td style=\"padding-left: 1em; padding-right: 1em; text-align: center; vertical-align: top\">26.325</td>\n",
        "        <td style=\"padding-left: 1em; padding-right: 1em; text-align: center; vertical-align: top\">0.21</td>\n",
        "        <td style=\"padding-left: 1em; padding-right: 1em; text-align: center; vertical-align: top\">1.884</td>\n",
        "        <td style=\"padding-left: 1em; padding-right: 1em; text-align: center; vertical-align: top\">37.791</td>\n",
        "    </tr>\n",
        "    <tr>\n",
        "        <td style=\"padding-left: 1em; padding-right: 1em; text-align: center; vertical-align: top\">-999.0</td>\n",
        "        <td style=\"padding-left: 1em; padding-right: 1em; text-align: center; vertical-align: top\">54.646</td>\n",
        "        <td style=\"padding-left: 1em; padding-right: 1em; text-align: center; vertical-align: top\">-1.533</td>\n",
        "        <td style=\"padding-left: 1em; padding-right: 1em; text-align: center; vertical-align: top\">0.416</td>\n",
        "        <td style=\"padding-left: 1em; padding-right: 1em; text-align: center; vertical-align: top\">32.742</td>\n",
        "        <td style=\"padding-left: 1em; padding-right: 1em; text-align: center; vertical-align: top\">-0.317</td>\n",
        "        <td style=\"padding-left: 1em; padding-right: 1em; text-align: center; vertical-align: top\">-0.636</td>\n",
        "        <td style=\"padding-left: 1em; padding-right: 1em; text-align: center; vertical-align: top\">132.678</td>\n",
        "    </tr>\n",
        "    <tr>\n",
        "        <td style=\"padding-left: 1em; padding-right: 1em; text-align: center; vertical-align: top\">-999.0</td>\n",
        "        <td style=\"padding-left: 1em; padding-right: 1em; text-align: center; vertical-align: top\">29.718</td>\n",
        "        <td style=\"padding-left: 1em; padding-right: 1em; text-align: center; vertical-align: top\">-0.866</td>\n",
        "        <td style=\"padding-left: 1em; padding-right: 1em; text-align: center; vertical-align: top\">2.878</td>\n",
        "        <td style=\"padding-left: 1em; padding-right: 1em; text-align: center; vertical-align: top\">52.016</td>\n",
        "        <td style=\"padding-left: 1em; padding-right: 1em; text-align: center; vertical-align: top\">0.126</td>\n",
        "        <td style=\"padding-left: 1em; padding-right: 1em; text-align: center; vertical-align: top\">-1.288</td>\n",
        "        <td style=\"padding-left: 1em; padding-right: 1em; text-align: center; vertical-align: top\">51.276</td>\n",
        "    </tr>\n",
        "</table>\n",
        "<table frame=\"box\" rules=\"cols\">\n",
        "    <tr>\n",
        "        <th style=\"padding-left: 1em; padding-right: 1em; text-align: center\">PRI_met_phi</th>\n",
        "        <th style=\"padding-left: 1em; padding-right: 1em; text-align: center\">PRI_met_sumet</th>\n",
        "        <th style=\"padding-left: 1em; padding-right: 1em; text-align: center\">PRI_jet_num</th>\n",
        "        <th style=\"padding-left: 1em; padding-right: 1em; text-align: center\">PRI_jet_leading_pt</th>\n",
        "        <th style=\"padding-left: 1em; padding-right: 1em; text-align: center\">PRI_jet_leading_eta</th>\n",
        "        <th style=\"padding-left: 1em; padding-right: 1em; text-align: center\">PRI_jet_leading_phi</th>\n",
        "        <th style=\"padding-left: 1em; padding-right: 1em; text-align: center\">PRI_jet_subleading_pt</th>\n",
        "    </tr>\n",
        "    <tr>\n",
        "        <td style=\"padding-left: 1em; padding-right: 1em; text-align: center; vertical-align: top\">-0.277</td>\n",
        "        <td style=\"padding-left: 1em; padding-right: 1em; text-align: center; vertical-align: top\">258.733</td>\n",
        "        <td style=\"padding-left: 1em; padding-right: 1em; text-align: center; vertical-align: top\">2</td>\n",
        "        <td style=\"padding-left: 1em; padding-right: 1em; text-align: center; vertical-align: top\">67.435</td>\n",
        "        <td style=\"padding-left: 1em; padding-right: 1em; text-align: center; vertical-align: top\">2.15</td>\n",
        "        <td style=\"padding-left: 1em; padding-right: 1em; text-align: center; vertical-align: top\">0.444</td>\n",
        "        <td style=\"padding-left: 1em; padding-right: 1em; text-align: center; vertical-align: top\">46.062</td>\n",
        "    </tr>\n",
        "    <tr>\n",
        "        <td style=\"padding-left: 1em; padding-right: 1em; text-align: center; vertical-align: top\">-1.916</td>\n",
        "        <td style=\"padding-left: 1em; padding-right: 1em; text-align: center; vertical-align: top\">164.546</td>\n",
        "        <td style=\"padding-left: 1em; padding-right: 1em; text-align: center; vertical-align: top\">1</td>\n",
        "        <td style=\"padding-left: 1em; padding-right: 1em; text-align: center; vertical-align: top\">46.226</td>\n",
        "        <td style=\"padding-left: 1em; padding-right: 1em; text-align: center; vertical-align: top\">0.725</td>\n",
        "        <td style=\"padding-left: 1em; padding-right: 1em; text-align: center; vertical-align: top\">1.158</td>\n",
        "        <td style=\"padding-left: 1em; padding-right: 1em; text-align: center; vertical-align: top\">-999.0</td>\n",
        "    </tr>\n",
        "    <tr>\n",
        "        <td style=\"padding-left: 1em; padding-right: 1em; text-align: center; vertical-align: top\">-2.186</td>\n",
        "        <td style=\"padding-left: 1em; padding-right: 1em; text-align: center; vertical-align: top\">260.414</td>\n",
        "        <td style=\"padding-left: 1em; padding-right: 1em; text-align: center; vertical-align: top\">1</td>\n",
        "        <td style=\"padding-left: 1em; padding-right: 1em; text-align: center; vertical-align: top\">44.251</td>\n",
        "        <td style=\"padding-left: 1em; padding-right: 1em; text-align: center; vertical-align: top\">2.053</td>\n",
        "        <td style=\"padding-left: 1em; padding-right: 1em; text-align: center; vertical-align: top\">-2.028</td>\n",
        "        <td style=\"padding-left: 1em; padding-right: 1em; text-align: center; vertical-align: top\">-999.0</td>\n",
        "    </tr>\n",
        "    <tr>\n",
        "        <td style=\"padding-left: 1em; padding-right: 1em; text-align: center; vertical-align: top\">0.06</td>\n",
        "        <td style=\"padding-left: 1em; padding-right: 1em; text-align: center; vertical-align: top\">86.062</td>\n",
        "        <td style=\"padding-left: 1em; padding-right: 1em; text-align: center; vertical-align: top\">0</td>\n",
        "        <td style=\"padding-left: 1em; padding-right: 1em; text-align: center; vertical-align: top\">-999.0</td>\n",
        "        <td style=\"padding-left: 1em; padding-right: 1em; text-align: center; vertical-align: top\">-999.0</td>\n",
        "        <td style=\"padding-left: 1em; padding-right: 1em; text-align: center; vertical-align: top\">-999.0</td>\n",
        "        <td style=\"padding-left: 1em; padding-right: 1em; text-align: center; vertical-align: top\">-999.0</td>\n",
        "    </tr>\n",
        "    <tr>\n",
        "        <td style=\"padding-left: 1em; padding-right: 1em; text-align: center; vertical-align: top\">-0.871</td>\n",
        "        <td style=\"padding-left: 1em; padding-right: 1em; text-align: center; vertical-align: top\">53.131</td>\n",
        "        <td style=\"padding-left: 1em; padding-right: 1em; text-align: center; vertical-align: top\">0</td>\n",
        "        <td style=\"padding-left: 1em; padding-right: 1em; text-align: center; vertical-align: top\">-999.0</td>\n",
        "        <td style=\"padding-left: 1em; padding-right: 1em; text-align: center; vertical-align: top\">-999.0</td>\n",
        "        <td style=\"padding-left: 1em; padding-right: 1em; text-align: center; vertical-align: top\">-999.0</td>\n",
        "        <td style=\"padding-left: 1em; padding-right: 1em; text-align: center; vertical-align: top\">-999.0</td>\n",
        "    </tr>\n",
        "    <tr>\n",
        "        <td style=\"padding-left: 1em; padding-right: 1em; text-align: center; vertical-align: top\">-1.443</td>\n",
        "        <td style=\"padding-left: 1em; padding-right: 1em; text-align: center; vertical-align: top\">294.074</td>\n",
        "        <td style=\"padding-left: 1em; padding-right: 1em; text-align: center; vertical-align: top\">2</td>\n",
        "        <td style=\"padding-left: 1em; padding-right: 1em; text-align: center; vertical-align: top\">123.01</td>\n",
        "        <td style=\"padding-left: 1em; padding-right: 1em; text-align: center; vertical-align: top\">0.864</td>\n",
        "        <td style=\"padding-left: 1em; padding-right: 1em; text-align: center; vertical-align: top\">1.45</td>\n",
        "        <td style=\"padding-left: 1em; padding-right: 1em; text-align: center; vertical-align: top\">56.867</td>\n",
        "    </tr>\n",
        "    <tr>\n",
        "        <td style=\"padding-left: 1em; padding-right: 1em; text-align: center; vertical-align: top\">-1.761</td>\n",
        "        <td style=\"padding-left: 1em; padding-right: 1em; text-align: center; vertical-align: top\">187.299</td>\n",
        "        <td style=\"padding-left: 1em; padding-right: 1em; text-align: center; vertical-align: top\">1</td>\n",
        "        <td style=\"padding-left: 1em; padding-right: 1em; text-align: center; vertical-align: top\">30.638</td>\n",
        "        <td style=\"padding-left: 1em; padding-right: 1em; text-align: center; vertical-align: top\">-0.715</td>\n",
        "        <td style=\"padding-left: 1em; padding-right: 1em; text-align: center; vertical-align: top\">-1.724</td>\n",
        "        <td style=\"padding-left: 1em; padding-right: 1em; text-align: center; vertical-align: top\">-999.0</td>\n",
        "    </tr>\n",
        "    <tr>\n",
        "        <td style=\"padding-left: 1em; padding-right: 1em; text-align: center; vertical-align: top\">0.024</td>\n",
        "        <td style=\"padding-left: 1em; padding-right: 1em; text-align: center; vertical-align: top\">129.804</td>\n",
        "        <td style=\"padding-left: 1em; padding-right: 1em; text-align: center; vertical-align: top\">0</td>\n",
        "        <td style=\"padding-left: 1em; padding-right: 1em; text-align: center; vertical-align: top\">-999.0</td>\n",
        "        <td style=\"padding-left: 1em; padding-right: 1em; text-align: center; vertical-align: top\">-999.0</td>\n",
        "        <td style=\"padding-left: 1em; padding-right: 1em; text-align: center; vertical-align: top\">-999.0</td>\n",
        "        <td style=\"padding-left: 1em; padding-right: 1em; text-align: center; vertical-align: top\">-999.0</td>\n",
        "    </tr>\n",
        "    <tr>\n",
        "        <td style=\"padding-left: 1em; padding-right: 1em; text-align: center; vertical-align: top\">0.845</td>\n",
        "        <td style=\"padding-left: 1em; padding-right: 1em; text-align: center; vertical-align: top\">294.741</td>\n",
        "        <td style=\"padding-left: 1em; padding-right: 1em; text-align: center; vertical-align: top\">1</td>\n",
        "        <td style=\"padding-left: 1em; padding-right: 1em; text-align: center; vertical-align: top\">167.735</td>\n",
        "        <td style=\"padding-left: 1em; padding-right: 1em; text-align: center; vertical-align: top\">-2.767</td>\n",
        "        <td style=\"padding-left: 1em; padding-right: 1em; text-align: center; vertical-align: top\">-2.514</td>\n",
        "        <td style=\"padding-left: 1em; padding-right: 1em; text-align: center; vertical-align: top\">-999.0</td>\n",
        "    </tr>\n",
        "    <tr>\n",
        "        <td style=\"padding-left: 1em; padding-right: 1em; text-align: center; vertical-align: top\">0.688</td>\n",
        "        <td style=\"padding-left: 1em; padding-right: 1em; text-align: center; vertical-align: top\">250.178</td>\n",
        "        <td style=\"padding-left: 1em; padding-right: 1em; text-align: center; vertical-align: top\">0</td>\n",
        "        <td style=\"padding-left: 1em; padding-right: 1em; text-align: center; vertical-align: top\">-999.0</td>\n",
        "        <td style=\"padding-left: 1em; padding-right: 1em; text-align: center; vertical-align: top\">-999.0</td>\n",
        "        <td style=\"padding-left: 1em; padding-right: 1em; text-align: center; vertical-align: top\">-999.0</td>\n",
        "        <td style=\"padding-left: 1em; padding-right: 1em; text-align: center; vertical-align: top\">-999.0</td>\n",
        "    </tr>\n",
        "</table>\n",
        "<table frame=\"box\" rules=\"cols\">\n",
        "    <tr>\n",
        "        <th style=\"padding-left: 1em; padding-right: 1em; text-align: center\">PRI_jet_subleading_eta</th>\n",
        "        <th style=\"padding-left: 1em; padding-right: 1em; text-align: center\">PRI_jet_subleading_phi</th>\n",
        "        <th style=\"padding-left: 1em; padding-right: 1em; text-align: center\">PRI_jet_all_pt</th>\n",
        "        <th style=\"padding-left: 1em; padding-right: 1em; text-align: center\">Weight</th>\n",
        "        <th style=\"padding-left: 1em; padding-right: 1em; text-align: center\">Label</th>\n",
        "        <th style=\"padding-left: 1em; padding-right: 1em; text-align: center\">Label1</th>\n",
        "    </tr>\n",
        "    <tr>\n",
        "        <td style=\"padding-left: 1em; padding-right: 1em; text-align: center; vertical-align: top\">1.24</td>\n",
        "        <td style=\"padding-left: 1em; padding-right: 1em; text-align: center; vertical-align: top\">-2.475</td>\n",
        "        <td style=\"padding-left: 1em; padding-right: 1em; text-align: center; vertical-align: top\">113.497</td>\n",
        "        <td style=\"padding-left: 1em; padding-right: 1em; text-align: center; vertical-align: top\">0.00265331133733</td>\n",
        "        <td style=\"padding-left: 1em; padding-right: 1em; text-align: center; vertical-align: top\">s</td>\n",
        "        <td style=\"padding-left: 1em; padding-right: 1em; text-align: center; vertical-align: top\">1</td>\n",
        "    </tr>\n",
        "    <tr>\n",
        "        <td style=\"padding-left: 1em; padding-right: 1em; text-align: center; vertical-align: top\">-999.0</td>\n",
        "        <td style=\"padding-left: 1em; padding-right: 1em; text-align: center; vertical-align: top\">-999.0</td>\n",
        "        <td style=\"padding-left: 1em; padding-right: 1em; text-align: center; vertical-align: top\">46.226</td>\n",
        "        <td style=\"padding-left: 1em; padding-right: 1em; text-align: center; vertical-align: top\">2.23358448717</td>\n",
        "        <td style=\"padding-left: 1em; padding-right: 1em; text-align: center; vertical-align: top\">b</td>\n",
        "        <td style=\"padding-left: 1em; padding-right: 1em; text-align: center; vertical-align: top\">0</td>\n",
        "    </tr>\n",
        "    <tr>\n",
        "        <td style=\"padding-left: 1em; padding-right: 1em; text-align: center; vertical-align: top\">-999.0</td>\n",
        "        <td style=\"padding-left: 1em; padding-right: 1em; text-align: center; vertical-align: top\">-999.0</td>\n",
        "        <td style=\"padding-left: 1em; padding-right: 1em; text-align: center; vertical-align: top\">44.251</td>\n",
        "        <td style=\"padding-left: 1em; padding-right: 1em; text-align: center; vertical-align: top\">2.34738894364</td>\n",
        "        <td style=\"padding-left: 1em; padding-right: 1em; text-align: center; vertical-align: top\">b</td>\n",
        "        <td style=\"padding-left: 1em; padding-right: 1em; text-align: center; vertical-align: top\">0</td>\n",
        "    </tr>\n",
        "    <tr>\n",
        "        <td style=\"padding-left: 1em; padding-right: 1em; text-align: center; vertical-align: top\">-999.0</td>\n",
        "        <td style=\"padding-left: 1em; padding-right: 1em; text-align: center; vertical-align: top\">-999.0</td>\n",
        "        <td style=\"padding-left: 1em; padding-right: 1em; text-align: center; vertical-align: top\">-0.0</td>\n",
        "        <td style=\"padding-left: 1em; padding-right: 1em; text-align: center; vertical-align: top\">5.44637821192</td>\n",
        "        <td style=\"padding-left: 1em; padding-right: 1em; text-align: center; vertical-align: top\">b</td>\n",
        "        <td style=\"padding-left: 1em; padding-right: 1em; text-align: center; vertical-align: top\">0</td>\n",
        "    </tr>\n",
        "    <tr>\n",
        "        <td style=\"padding-left: 1em; padding-right: 1em; text-align: center; vertical-align: top\">-999.0</td>\n",
        "        <td style=\"padding-left: 1em; padding-right: 1em; text-align: center; vertical-align: top\">-999.0</td>\n",
        "        <td style=\"padding-left: 1em; padding-right: 1em; text-align: center; vertical-align: top\">0.0</td>\n",
        "        <td style=\"padding-left: 1em; padding-right: 1em; text-align: center; vertical-align: top\">6.24533268686</td>\n",
        "        <td style=\"padding-left: 1em; padding-right: 1em; text-align: center; vertical-align: top\">b</td>\n",
        "        <td style=\"padding-left: 1em; padding-right: 1em; text-align: center; vertical-align: top\">0</td>\n",
        "    </tr>\n",
        "    <tr>\n",
        "        <td style=\"padding-left: 1em; padding-right: 1em; text-align: center; vertical-align: top\">0.131</td>\n",
        "        <td style=\"padding-left: 1em; padding-right: 1em; text-align: center; vertical-align: top\">-2.767</td>\n",
        "        <td style=\"padding-left: 1em; padding-right: 1em; text-align: center; vertical-align: top\">179.877</td>\n",
        "        <td style=\"padding-left: 1em; padding-right: 1em; text-align: center; vertical-align: top\">0.00265331133733</td>\n",
        "        <td style=\"padding-left: 1em; padding-right: 1em; text-align: center; vertical-align: top\">s</td>\n",
        "        <td style=\"padding-left: 1em; padding-right: 1em; text-align: center; vertical-align: top\">1</td>\n",
        "    </tr>\n",
        "    <tr>\n",
        "        <td style=\"padding-left: 1em; padding-right: 1em; text-align: center; vertical-align: top\">-999.0</td>\n",
        "        <td style=\"padding-left: 1em; padding-right: 1em; text-align: center; vertical-align: top\">-999.0</td>\n",
        "        <td style=\"padding-left: 1em; padding-right: 1em; text-align: center; vertical-align: top\">30.638</td>\n",
        "        <td style=\"padding-left: 1em; padding-right: 1em; text-align: center; vertical-align: top\">0.018636116672</td>\n",
        "        <td style=\"padding-left: 1em; padding-right: 1em; text-align: center; vertical-align: top\">s</td>\n",
        "        <td style=\"padding-left: 1em; padding-right: 1em; text-align: center; vertical-align: top\">1</td>\n",
        "    </tr>\n",
        "    <tr>\n",
        "        <td style=\"padding-left: 1em; padding-right: 1em; text-align: center; vertical-align: top\">-999.0</td>\n",
        "        <td style=\"padding-left: 1em; padding-right: 1em; text-align: center; vertical-align: top\">-999.0</td>\n",
        "        <td style=\"padding-left: 1em; padding-right: 1em; text-align: center; vertical-align: top\">0.0</td>\n",
        "        <td style=\"padding-left: 1em; padding-right: 1em; text-align: center; vertical-align: top\">5.29600298518</td>\n",
        "        <td style=\"padding-left: 1em; padding-right: 1em; text-align: center; vertical-align: top\">b</td>\n",
        "        <td style=\"padding-left: 1em; padding-right: 1em; text-align: center; vertical-align: top\">0</td>\n",
        "    </tr>\n",
        "    <tr>\n",
        "        <td style=\"padding-left: 1em; padding-right: 1em; text-align: center; vertical-align: top\">-999.0</td>\n",
        "        <td style=\"padding-left: 1em; padding-right: 1em; text-align: center; vertical-align: top\">-999.0</td>\n",
        "        <td style=\"padding-left: 1em; padding-right: 1em; text-align: center; vertical-align: top\">167.735</td>\n",
        "        <td style=\"padding-left: 1em; padding-right: 1em; text-align: center; vertical-align: top\">0.00150187015894</td>\n",
        "        <td style=\"padding-left: 1em; padding-right: 1em; text-align: center; vertical-align: top\">s</td>\n",
        "        <td style=\"padding-left: 1em; padding-right: 1em; text-align: center; vertical-align: top\">1</td>\n",
        "    </tr>\n",
        "    <tr>\n",
        "        <td style=\"padding-left: 1em; padding-right: 1em; text-align: center; vertical-align: top\">-999.0</td>\n",
        "        <td style=\"padding-left: 1em; padding-right: 1em; text-align: center; vertical-align: top\">-999.0</td>\n",
        "        <td style=\"padding-left: 1em; padding-right: 1em; text-align: center; vertical-align: top\">0.0</td>\n",
        "        <td style=\"padding-left: 1em; padding-right: 1em; text-align: center; vertical-align: top\">2.29950373735</td>\n",
        "        <td style=\"padding-left: 1em; padding-right: 1em; text-align: center; vertical-align: top\">b</td>\n",
        "        <td style=\"padding-left: 1em; padding-right: 1em; text-align: center; vertical-align: top\">0</td>\n",
        "    </tr>\n",
        "</table>\n",
        "[10 rows x 34 columns]<br/>\n",
        "</div>"
       ],
       "metadata": {},
       "output_type": "pyout",
       "prompt_number": 41,
       "text": [
        "Columns:\n",
        "\tEventId\tint\n",
        "\tDER_mass_MMC\tfloat\n",
        "\tDER_mass_transverse_met_lep\tfloat\n",
        "\tDER_mass_vis\tfloat\n",
        "\tDER_pt_h\tfloat\n",
        "\tDER_deltaeta_jet_jet\tfloat\n",
        "\tDER_mass_jet_jet\tfloat\n",
        "\tDER_prodeta_jet_jet\tfloat\n",
        "\tDER_deltar_tau_lep\tfloat\n",
        "\tDER_pt_tot\tfloat\n",
        "\tDER_sum_pt\tfloat\n",
        "\tDER_pt_ratio_lep_tau\tfloat\n",
        "\tDER_met_phi_centrality\tfloat\n",
        "\tDER_lep_eta_centrality\tfloat\n",
        "\tPRI_tau_pt\tfloat\n",
        "\tPRI_tau_eta\tfloat\n",
        "\tPRI_tau_phi\tfloat\n",
        "\tPRI_lep_pt\tfloat\n",
        "\tPRI_lep_eta\tfloat\n",
        "\tPRI_lep_phi\tfloat\n",
        "\tPRI_met\tfloat\n",
        "\tPRI_met_phi\tfloat\n",
        "\tPRI_met_sumet\tfloat\n",
        "\tPRI_jet_num\tint\n",
        "\tPRI_jet_leading_pt\tfloat\n",
        "\tPRI_jet_leading_eta\tfloat\n",
        "\tPRI_jet_leading_phi\tfloat\n",
        "\tPRI_jet_subleading_pt\tfloat\n",
        "\tPRI_jet_subleading_eta\tfloat\n",
        "\tPRI_jet_subleading_phi\tfloat\n",
        "\tPRI_jet_all_pt\tfloat\n",
        "\tWeight\tfloat\n",
        "\tLabel\tstr\n",
        "\tLabel1\tint\n",
        "\n",
        "Rows: 10\n",
        "\n",
        "Data:\n",
        "+---------+--------------+-----------------------------+--------------+----------+\n",
        "| EventId | DER_mass_MMC | DER_mass_transverse_met_lep | DER_mass_vis | DER_pt_h |\n",
        "+---------+--------------+-----------------------------+--------------+----------+\n",
        "|  100000 |    138.47    |            51.655           |    97.827    |  27.98   |\n",
        "|  100001 |   160.937    |            68.768           |   103.235    |  48.146  |\n",
        "|  100002 |    -999.0    |           162.172           |   125.953    |  35.635  |\n",
        "|  100003 |   143.905    |            81.417           |    80.943    |  0.414   |\n",
        "|  100004 |   175.864    |            16.915           |   134.805    |  16.405  |\n",
        "|  100006 |   148.754    |            28.862           |   107.782    |  106.13  |\n",
        "|  100007 |   154.916    |            10.418           |    94.714    |  29.169  |\n",
        "|  100008 |   105.594    |            50.559           |   100.989    |  4.288   |\n",
        "|  100009 |   128.053    |            88.941           |    69.272    | 193.392  |\n",
        "|  100010 |    -999.0    |            86.24            |    79.692    |  27.201  |\n",
        "+---------+--------------+-----------------------------+--------------+----------+\n",
        "+----------------------+------------------+---------------------+--------------------+\n",
        "| DER_deltaeta_jet_jet | DER_mass_jet_jet | DER_prodeta_jet_jet | DER_deltar_tau_lep |\n",
        "+----------------------+------------------+---------------------+--------------------+\n",
        "|         0.91         |     124.711      |        2.666        |       3.064        |\n",
        "|        -999.0        |      -999.0      |        -999.0       |       3.473        |\n",
        "|        -999.0        |      -999.0      |        -999.0       |       3.148        |\n",
        "|        -999.0        |      -999.0      |        -999.0       |        3.31        |\n",
        "|        -999.0        |      -999.0      |        -999.0       |       3.891        |\n",
        "|        0.733         |     158.359      |        0.113        |       2.941        |\n",
        "|        -999.0        |      -999.0      |        -999.0       |       2.897        |\n",
        "|        -999.0        |      -999.0      |        -999.0       |       2.904        |\n",
        "|        -999.0        |      -999.0      |        -999.0       |       1.609        |\n",
        "|        -999.0        |      -999.0      |        -999.0       |       2.338        |\n",
        "+----------------------+------------------+---------------------+--------------------+\n",
        "+------------+------------+----------------------+------------------------+\n",
        "| DER_pt_tot | DER_sum_pt | DER_pt_ratio_lep_tau | DER_met_phi_centrality |\n",
        "+------------+------------+----------------------+------------------------+\n",
        "|   41.928   |   197.76   |        1.582         |         1.396          |\n",
        "|   2.078    |  125.157   |        0.879         |         1.414          |\n",
        "|   9.336    |  197.814   |        3.776         |         1.414          |\n",
        "|   0.414    |   75.968   |        2.354         |         -1.285         |\n",
        "|   16.405   |   57.983   |        1.056         |         -1.385         |\n",
        "|   2.545    |  305.967   |        3.371         |         1.393          |\n",
        "|   1.526    |  138.178   |        0.365         |         -1.305         |\n",
        "|   4.288    |   65.333   |        0.675         |         -1.366         |\n",
        "|   28.859   |  255.123   |        0.599         |         0.538          |\n",
        "|   27.201   |   81.734   |         1.75         |         -1.412         |\n",
        "+------------+------------+----------------------+------------------------+\n",
        "+------------------------+------------+-------------+-------------+------------+\n",
        "| DER_lep_eta_centrality | PRI_tau_pt | PRI_tau_eta | PRI_tau_phi | PRI_lep_pt |\n",
        "+------------------------+------------+-------------+-------------+------------+\n",
        "|          0.2           |   32.638   |    1.017    |    0.381    |   51.626   |\n",
        "|         -999.0         |   42.014   |    2.039    |    -3.011   |   36.918   |\n",
        "|         -999.0         |   32.154   |    -0.705   |    -2.093   |  121.409   |\n",
        "|         -999.0         |   22.647   |    -1.655   |     0.01    |   53.321   |\n",
        "|         -999.0         |   28.209   |    -2.197   |    -2.231   |   29.774   |\n",
        "|         0.791          |   28.85    |    1.113    |    2.409    |   97.24    |\n",
        "|         -999.0         |    78.8    |    0.654    |    1.547    |   28.74    |\n",
        "|         -999.0         |   39.008   |    2.433    |    -2.532   |   26.325   |\n",
        "|         -999.0         |   54.646   |    -1.533   |    0.416    |   32.742   |\n",
        "|         -999.0         |   29.718   |    -0.866   |    2.878    |   52.016   |\n",
        "+------------------------+------------+-------------+-------------+------------+\n",
        "+-------------+-------------+-----+\n",
        "| PRI_lep_eta | PRI_lep_phi | ... |\n",
        "+-------------+-------------+-----+\n",
        "|    2.273    |    -2.414   | ... |\n",
        "|    0.501    |    0.103    | ... |\n",
        "|    -0.953   |    1.052    | ... |\n",
        "|    -0.522   |     -3.1    | ... |\n",
        "|    0.798    |    1.569    | ... |\n",
        "|    0.675    |    -0.966   | ... |\n",
        "|    0.506    |    -1.347   | ... |\n",
        "|     0.21    |    1.884    | ... |\n",
        "|    -0.317   |    -0.636   | ... |\n",
        "|    0.126    |    -1.288   | ... |\n",
        "+-------------+-------------+-----+\n",
        "[10 rows x 34 columns]"
       ]
      }
     ],
     "prompt_number": 41
    },
    {
     "cell_type": "code",
     "collapsed": false,
     "input": [
      "features =[\"DER_mass_MMC\",       \"DER_mass_transverse_met_lep\",\n",
      "  \"DER_mass_vis\",                \"DER_pt_h\",                    \"DER_deltaeta_jet_jet\",       \n",
      "  \"DER_mass_jet_jet\",            \"DER_prodeta_jet_jet\",         \"DER_deltar_tau_lep\",         \n",
      "  \"DER_pt_tot\",                  \"DER_sum_pt\",                  \"DER_pt_ratio_lep_tau\",       \n",
      "  \"DER_met_phi_centrality\",      \"DER_lep_eta_centrality\",      \"PRI_tau_pt\",                 \n",
      "  \"PRI_tau_eta\",                 \"PRI_tau_phi\",                 \"PRI_lep_pt\",                 \n",
      "  \"PRI_lep_eta\",                 \"PRI_lep_phi\",                 \"PRI_met\",                    \n",
      "  \"PRI_met_phi\",                 \"PRI_met_sumet\",               \"PRI_jet_num\",                \n",
      "  \"PRI_jet_leading_pt\",          \"PRI_jet_leading_eta\",         \"PRI_jet_leading_phi\",        \n",
      "  \"PRI_jet_subleading_pt\",       \"PRI_jet_subleading_eta\",      \"PRI_jet_subleading_phi\",     \n",
      "  \"PRI_jet_all_pt\",              \"Weight\",                     ]\n",
      "taget=\"Label\""
     ],
     "language": "python",
     "metadata": {},
     "outputs": [],
     "prompt_number": 42
    },
    {
     "cell_type": "code",
     "collapsed": false,
     "input": [
      "m = gl.boosted_trees.create(training_data,\n",
      "                            feature_columns=features, \n",
      "                            target_column='Label1', objective='classification',\n",
      "                            num_iterations=100)\n"
     ],
     "language": "python",
     "metadata": {},
     "outputs": [
      {
       "html": [
        "PROGRESS: [0]\ttrain-error:0.000000<br/>"
       ],
       "metadata": {},
       "output_type": "display_data",
       "text": [
        "PROGRESS: [0]\ttrain-error:0.000000"
       ]
      },
      {
       "html": [
        "PROGRESS: [1]\ttrain-error:0.000000<br/>"
       ],
       "metadata": {},
       "output_type": "display_data",
       "text": [
        "PROGRESS: [1]\ttrain-error:0.000000"
       ]
      },
      {
       "html": [
        "PROGRESS: [2]\ttrain-error:0.000000<br/>"
       ],
       "metadata": {},
       "output_type": "display_data",
       "text": [
        "PROGRESS: [2]\ttrain-error:0.000000"
       ]
      },
      {
       "html": [
        "PROGRESS: [3]\ttrain-error:0.000000<br/>"
       ],
       "metadata": {},
       "output_type": "display_data",
       "text": [
        "PROGRESS: [3]\ttrain-error:0.000000"
       ]
      },
      {
       "html": [
        "PROGRESS: [4]\ttrain-error:0.000000<br/>"
       ],
       "metadata": {},
       "output_type": "display_data",
       "text": [
        "PROGRESS: [4]\ttrain-error:0.000000"
       ]
      },
      {
       "html": [
        "PROGRESS: [5]\ttrain-error:0.000000<br/>"
       ],
       "metadata": {},
       "output_type": "display_data",
       "text": [
        "PROGRESS: [5]\ttrain-error:0.000000"
       ]
      },
      {
       "html": [
        "PROGRESS: [6]\ttrain-error:0.000000<br/>"
       ],
       "metadata": {},
       "output_type": "display_data",
       "text": [
        "PROGRESS: [6]\ttrain-error:0.000000"
       ]
      },
      {
       "html": [
        "PROGRESS: [7]\ttrain-error:0.000000<br/>"
       ],
       "metadata": {},
       "output_type": "display_data",
       "text": [
        "PROGRESS: [7]\ttrain-error:0.000000"
       ]
      },
      {
       "html": [
        "PROGRESS: [8]\ttrain-error:0.000000<br/>"
       ],
       "metadata": {},
       "output_type": "display_data",
       "text": [
        "PROGRESS: [8]\ttrain-error:0.000000"
       ]
      },
      {
       "html": [
        "PROGRESS: [9]\ttrain-error:0.000000<br/>"
       ],
       "metadata": {},
       "output_type": "display_data",
       "text": [
        "PROGRESS: [9]\ttrain-error:0.000000"
       ]
      },
      {
       "html": [
        "PROGRESS: [10]\ttrain-error:0.000000<br/>"
       ],
       "metadata": {},
       "output_type": "display_data",
       "text": [
        "PROGRESS: [10]\ttrain-error:0.000000"
       ]
      },
      {
       "html": [
        "PROGRESS: [11]\ttrain-error:0.000000<br/>"
       ],
       "metadata": {},
       "output_type": "display_data",
       "text": [
        "PROGRESS: [11]\ttrain-error:0.000000"
       ]
      },
      {
       "html": [
        "PROGRESS: [12]\ttrain-error:0.000000<br/>"
       ],
       "metadata": {},
       "output_type": "display_data",
       "text": [
        "PROGRESS: [12]\ttrain-error:0.000000"
       ]
      },
      {
       "html": [
        "PROGRESS: [13]\ttrain-error:0.000000<br/>"
       ],
       "metadata": {},
       "output_type": "display_data",
       "text": [
        "PROGRESS: [13]\ttrain-error:0.000000"
       ]
      },
      {
       "html": [
        "PROGRESS: [14]\ttrain-error:0.000000<br/>"
       ],
       "metadata": {},
       "output_type": "display_data",
       "text": [
        "PROGRESS: [14]\ttrain-error:0.000000"
       ]
      },
      {
       "html": [
        "PROGRESS: [16]\ttrain-error:0.000000<br/>"
       ],
       "metadata": {},
       "output_type": "display_data",
       "text": [
        "PROGRESS: [16]\ttrain-error:0.000000"
       ]
      },
      {
       "html": [
        "PROGRESS: [17]\ttrain-error:0.000000<br/>"
       ],
       "metadata": {},
       "output_type": "display_data",
       "text": [
        "PROGRESS: [17]\ttrain-error:0.000000"
       ]
      },
      {
       "html": [
        "PROGRESS: [18]\ttrain-error:0.000000<br/>"
       ],
       "metadata": {},
       "output_type": "display_data",
       "text": [
        "PROGRESS: [18]\ttrain-error:0.000000"
       ]
      },
      {
       "html": [
        "PROGRESS: [19]\ttrain-error:0.000000<br/>"
       ],
       "metadata": {},
       "output_type": "display_data",
       "text": [
        "PROGRESS: [19]\ttrain-error:0.000000"
       ]
      },
      {
       "html": [
        "PROGRESS: [20]\ttrain-error:0.000000<br/>"
       ],
       "metadata": {},
       "output_type": "display_data",
       "text": [
        "PROGRESS: [20]\ttrain-error:0.000000"
       ]
      }
     ],
     "prompt_number": 43
    },
    {
     "cell_type": "code",
     "collapsed": false,
     "input": [
      "prediction = m.predict(test_data)\n"
     ],
     "language": "python",
     "metadata": {},
     "outputs": [
      {
       "html": [
        "PROGRESS: [23]\ttrain-error:0.000000<br/>"
       ],
       "metadata": {},
       "output_type": "display_data",
       "text": [
        "PROGRESS: [23]\ttrain-error:0.000000"
       ]
      },
      {
       "html": [
        "PROGRESS: [24]\ttrain-error:0.000000<br/>"
       ],
       "metadata": {},
       "output_type": "display_data",
       "text": [
        "PROGRESS: [24]\ttrain-error:0.000000"
       ]
      },
      {
       "html": [
        "PROGRESS: [25]\ttrain-error:0.000000<br/>"
       ],
       "metadata": {},
       "output_type": "display_data",
       "text": [
        "PROGRESS: [25]\ttrain-error:0.000000"
       ]
      },
      {
       "html": [
        "PROGRESS: [26]\ttrain-error:0.000000<br/>"
       ],
       "metadata": {},
       "output_type": "display_data",
       "text": [
        "PROGRESS: [26]\ttrain-error:0.000000"
       ]
      },
      {
       "html": [
        "PROGRESS: [27]\ttrain-error:0.000000<br/>"
       ],
       "metadata": {},
       "output_type": "display_data",
       "text": [
        "PROGRESS: [27]\ttrain-error:0.000000"
       ]
      },
      {
       "html": [
        "PROGRESS: [28]\ttrain-error:0.000000<br/>"
       ],
       "metadata": {},
       "output_type": "display_data",
       "text": [
        "PROGRESS: [28]\ttrain-error:0.000000"
       ]
      },
      {
       "html": [
        "PROGRESS: [29]\ttrain-error:0.000000<br/>"
       ],
       "metadata": {},
       "output_type": "display_data",
       "text": [
        "PROGRESS: [29]\ttrain-error:0.000000"
       ]
      },
      {
       "html": [
        "PROGRESS: [30]\ttrain-error:0.000000<br/>"
       ],
       "metadata": {},
       "output_type": "display_data",
       "text": [
        "PROGRESS: [30]\ttrain-error:0.000000"
       ]
      },
      {
       "html": [
        "PROGRESS: [31]\ttrain-error:0.000000<br/>"
       ],
       "metadata": {},
       "output_type": "display_data",
       "text": [
        "PROGRESS: [31]\ttrain-error:0.000000"
       ]
      },
      {
       "html": [
        "PROGRESS: [32]\ttrain-error:0.000000<br/>"
       ],
       "metadata": {},
       "output_type": "display_data",
       "text": [
        "PROGRESS: [32]\ttrain-error:0.000000"
       ]
      },
      {
       "html": [
        "PROGRESS: [33]\ttrain-error:0.000000<br/>"
       ],
       "metadata": {},
       "output_type": "display_data",
       "text": [
        "PROGRESS: [33]\ttrain-error:0.000000"
       ]
      },
      {
       "html": [
        "PROGRESS: [34]\ttrain-error:0.000000<br/>"
       ],
       "metadata": {},
       "output_type": "display_data",
       "text": [
        "PROGRESS: [34]\ttrain-error:0.000000"
       ]
      },
      {
       "html": [
        "PROGRESS: [35]\ttrain-error:0.000000<br/>"
       ],
       "metadata": {},
       "output_type": "display_data",
       "text": [
        "PROGRESS: [35]\ttrain-error:0.000000"
       ]
      },
      {
       "html": [
        "PROGRESS: [36]\ttrain-error:0.000000<br/>"
       ],
       "metadata": {},
       "output_type": "display_data",
       "text": [
        "PROGRESS: [36]\ttrain-error:0.000000"
       ]
      },
      {
       "html": [
        "PROGRESS: [37]\ttrain-error:0.000000<br/>"
       ],
       "metadata": {},
       "output_type": "display_data",
       "text": [
        "PROGRESS: [37]\ttrain-error:0.000000"
       ]
      },
      {
       "html": [
        "PROGRESS: [38]\ttrain-error:0.000000<br/>"
       ],
       "metadata": {},
       "output_type": "display_data",
       "text": [
        "PROGRESS: [38]\ttrain-error:0.000000"
       ]
      },
      {
       "html": [
        "PROGRESS: [39]\ttrain-error:0.000000<br/>"
       ],
       "metadata": {},
       "output_type": "display_data",
       "text": [
        "PROGRESS: [39]\ttrain-error:0.000000"
       ]
      },
      {
       "html": [
        "PROGRESS: [40]\ttrain-error:0.000000<br/>"
       ],
       "metadata": {},
       "output_type": "display_data",
       "text": [
        "PROGRESS: [40]\ttrain-error:0.000000"
       ]
      },
      {
       "html": [
        "PROGRESS: [41]\ttrain-error:0.000000<br/>"
       ],
       "metadata": {},
       "output_type": "display_data",
       "text": [
        "PROGRESS: [41]\ttrain-error:0.000000"
       ]
      },
      {
       "html": [
        "PROGRESS: [42]\ttrain-error:0.000000<br/>"
       ],
       "metadata": {},
       "output_type": "display_data",
       "text": [
        "PROGRESS: [42]\ttrain-error:0.000000"
       ]
      },
      {
       "html": [
        "PROGRESS: [43]\ttrain-error:0.000000<br/>"
       ],
       "metadata": {},
       "output_type": "display_data",
       "text": [
        "PROGRESS: [43]\ttrain-error:0.000000"
       ]
      },
      {
       "html": [
        "PROGRESS: [44]\ttrain-error:0.000000<br/>"
       ],
       "metadata": {},
       "output_type": "display_data",
       "text": [
        "PROGRESS: [44]\ttrain-error:0.000000"
       ]
      },
      {
       "html": [
        "PROGRESS: [45]\ttrain-error:0.000000<br/>"
       ],
       "metadata": {},
       "output_type": "display_data",
       "text": [
        "PROGRESS: [45]\ttrain-error:0.000000"
       ]
      },
      {
       "html": [
        "PROGRESS: [46]\ttrain-error:0.000000<br/>"
       ],
       "metadata": {},
       "output_type": "display_data",
       "text": [
        "PROGRESS: [46]\ttrain-error:0.000000"
       ]
      },
      {
       "html": [
        "PROGRESS: [47]\ttrain-error:0.000000<br/>"
       ],
       "metadata": {},
       "output_type": "display_data",
       "text": [
        "PROGRESS: [47]\ttrain-error:0.000000"
       ]
      },
      {
       "html": [
        "PROGRESS: [48]\ttrain-error:0.000000<br/>"
       ],
       "metadata": {},
       "output_type": "display_data",
       "text": [
        "PROGRESS: [48]\ttrain-error:0.000000"
       ]
      },
      {
       "html": [
        "PROGRESS: [49]\ttrain-error:0.000000<br/>"
       ],
       "metadata": {},
       "output_type": "display_data",
       "text": [
        "PROGRESS: [49]\ttrain-error:0.000000"
       ]
      },
      {
       "html": [
        "PROGRESS: [50]\ttrain-error:0.000000<br/>"
       ],
       "metadata": {},
       "output_type": "display_data",
       "text": [
        "PROGRESS: [50]\ttrain-error:0.000000"
       ]
      },
      {
       "html": [
        "PROGRESS: [51]\ttrain-error:0.000000<br/>"
       ],
       "metadata": {},
       "output_type": "display_data",
       "text": [
        "PROGRESS: [51]\ttrain-error:0.000000"
       ]
      },
      {
       "html": [
        "PROGRESS: [52]\ttrain-error:0.000000<br/>"
       ],
       "metadata": {},
       "output_type": "display_data",
       "text": [
        "PROGRESS: [52]\ttrain-error:0.000000"
       ]
      },
      {
       "html": [
        "PROGRESS: [53]\ttrain-error:0.000000<br/>"
       ],
       "metadata": {},
       "output_type": "display_data",
       "text": [
        "PROGRESS: [53]\ttrain-error:0.000000"
       ]
      },
      {
       "html": [
        "PROGRESS: [54]\ttrain-error:0.000000<br/>"
       ],
       "metadata": {},
       "output_type": "display_data",
       "text": [
        "PROGRESS: [54]\ttrain-error:0.000000"
       ]
      },
      {
       "html": [
        "PROGRESS: [55]\ttrain-error:0.000000<br/>"
       ],
       "metadata": {},
       "output_type": "display_data",
       "text": [
        "PROGRESS: [55]\ttrain-error:0.000000"
       ]
      },
      {
       "html": [
        "PROGRESS: [56]\ttrain-error:0.000000<br/>"
       ],
       "metadata": {},
       "output_type": "display_data",
       "text": [
        "PROGRESS: [56]\ttrain-error:0.000000"
       ]
      },
      {
       "html": [
        "PROGRESS: [57]\ttrain-error:0.000000<br/>"
       ],
       "metadata": {},
       "output_type": "display_data",
       "text": [
        "PROGRESS: [57]\ttrain-error:0.000000"
       ]
      },
      {
       "html": [
        "PROGRESS: [58]\ttrain-error:0.000000<br/>"
       ],
       "metadata": {},
       "output_type": "display_data",
       "text": [
        "PROGRESS: [58]\ttrain-error:0.000000"
       ]
      },
      {
       "html": [
        "PROGRESS: [59]\ttrain-error:0.000000<br/>"
       ],
       "metadata": {},
       "output_type": "display_data",
       "text": [
        "PROGRESS: [59]\ttrain-error:0.000000"
       ]
      },
      {
       "html": [
        "PROGRESS: [60]\ttrain-error:0.000000<br/>"
       ],
       "metadata": {},
       "output_type": "display_data",
       "text": [
        "PROGRESS: [60]\ttrain-error:0.000000"
       ]
      },
      {
       "html": [
        "PROGRESS: [61]\ttrain-error:0.000000<br/>"
       ],
       "metadata": {},
       "output_type": "display_data",
       "text": [
        "PROGRESS: [61]\ttrain-error:0.000000"
       ]
      },
      {
       "html": [
        "PROGRESS: [62]\ttrain-error:0.000000<br/>"
       ],
       "metadata": {},
       "output_type": "display_data",
       "text": [
        "PROGRESS: [62]\ttrain-error:0.000000"
       ]
      },
      {
       "html": [
        "PROGRESS: [63]\ttrain-error:0.000000<br/>"
       ],
       "metadata": {},
       "output_type": "display_data",
       "text": [
        "PROGRESS: [63]\ttrain-error:0.000000"
       ]
      },
      {
       "html": [
        "PROGRESS: [64]\ttrain-error:0.000000<br/>"
       ],
       "metadata": {},
       "output_type": "display_data",
       "text": [
        "PROGRESS: [64]\ttrain-error:0.000000"
       ]
      },
      {
       "html": [
        "PROGRESS: [65]\ttrain-error:0.000000<br/>"
       ],
       "metadata": {},
       "output_type": "display_data",
       "text": [
        "PROGRESS: [65]\ttrain-error:0.000000"
       ]
      },
      {
       "html": [
        "PROGRESS: [66]\ttrain-error:0.000000<br/>"
       ],
       "metadata": {},
       "output_type": "display_data",
       "text": [
        "PROGRESS: [66]\ttrain-error:0.000000"
       ]
      },
      {
       "html": [
        "PROGRESS: [67]\ttrain-error:0.000000<br/>"
       ],
       "metadata": {},
       "output_type": "display_data",
       "text": [
        "PROGRESS: [67]\ttrain-error:0.000000"
       ]
      },
      {
       "html": [
        "PROGRESS: [68]\ttrain-error:0.000000<br/>"
       ],
       "metadata": {},
       "output_type": "display_data",
       "text": [
        "PROGRESS: [68]\ttrain-error:0.000000"
       ]
      },
      {
       "html": [
        "PROGRESS: [69]\ttrain-error:0.000000<br/>"
       ],
       "metadata": {},
       "output_type": "display_data",
       "text": [
        "PROGRESS: [69]\ttrain-error:0.000000"
       ]
      },
      {
       "html": [
        "PROGRESS: [70]\ttrain-error:0.000000<br/>"
       ],
       "metadata": {},
       "output_type": "display_data",
       "text": [
        "PROGRESS: [70]\ttrain-error:0.000000"
       ]
      },
      {
       "html": [
        "PROGRESS: [71]\ttrain-error:0.000000<br/>"
       ],
       "metadata": {},
       "output_type": "display_data",
       "text": [
        "PROGRESS: [71]\ttrain-error:0.000000"
       ]
      },
      {
       "html": [
        "PROGRESS: [72]\ttrain-error:0.000000<br/>"
       ],
       "metadata": {},
       "output_type": "display_data",
       "text": [
        "PROGRESS: [72]\ttrain-error:0.000000"
       ]
      },
      {
       "html": [
        "PROGRESS: [73]\ttrain-error:0.000000<br/>"
       ],
       "metadata": {},
       "output_type": "display_data",
       "text": [
        "PROGRESS: [73]\ttrain-error:0.000000"
       ]
      },
      {
       "html": [
        "PROGRESS: [74]\ttrain-error:0.000000<br/>"
       ],
       "metadata": {},
       "output_type": "display_data",
       "text": [
        "PROGRESS: [74]\ttrain-error:0.000000"
       ]
      },
      {
       "html": [
        "PROGRESS: [75]\ttrain-error:0.000000<br/>"
       ],
       "metadata": {},
       "output_type": "display_data",
       "text": [
        "PROGRESS: [75]\ttrain-error:0.000000"
       ]
      },
      {
       "html": [
        "PROGRESS: [76]\ttrain-error:0.000000<br/>"
       ],
       "metadata": {},
       "output_type": "display_data",
       "text": [
        "PROGRESS: [76]\ttrain-error:0.000000"
       ]
      },
      {
       "html": [
        "PROGRESS: [77]\ttrain-error:0.000000<br/>"
       ],
       "metadata": {},
       "output_type": "display_data",
       "text": [
        "PROGRESS: [77]\ttrain-error:0.000000"
       ]
      },
      {
       "html": [
        "PROGRESS: [78]\ttrain-error:0.000000<br/>"
       ],
       "metadata": {},
       "output_type": "display_data",
       "text": [
        "PROGRESS: [78]\ttrain-error:0.000000"
       ]
      },
      {
       "html": [
        "PROGRESS: [79]\ttrain-error:0.000000<br/>"
       ],
       "metadata": {},
       "output_type": "display_data",
       "text": [
        "PROGRESS: [79]\ttrain-error:0.000000"
       ]
      },
      {
       "html": [
        "PROGRESS: [80]\ttrain-error:0.000000<br/>"
       ],
       "metadata": {},
       "output_type": "display_data",
       "text": [
        "PROGRESS: [80]\ttrain-error:0.000000"
       ]
      },
      {
       "html": [
        "PROGRESS: [81]\ttrain-error:0.000000<br/>"
       ],
       "metadata": {},
       "output_type": "display_data",
       "text": [
        "PROGRESS: [81]\ttrain-error:0.000000"
       ]
      },
      {
       "html": [
        "PROGRESS: [82]\ttrain-error:0.000000<br/>"
       ],
       "metadata": {},
       "output_type": "display_data",
       "text": [
        "PROGRESS: [82]\ttrain-error:0.000000"
       ]
      },
      {
       "html": [
        "PROGRESS: [83]\ttrain-error:0.000000<br/>"
       ],
       "metadata": {},
       "output_type": "display_data",
       "text": [
        "PROGRESS: [83]\ttrain-error:0.000000"
       ]
      },
      {
       "html": [
        "PROGRESS: [84]\ttrain-error:0.000000<br/>"
       ],
       "metadata": {},
       "output_type": "display_data",
       "text": [
        "PROGRESS: [84]\ttrain-error:0.000000"
       ]
      },
      {
       "html": [
        "PROGRESS: [85]\ttrain-error:0.000000<br/>"
       ],
       "metadata": {},
       "output_type": "display_data",
       "text": [
        "PROGRESS: [85]\ttrain-error:0.000000"
       ]
      },
      {
       "html": [
        "PROGRESS: [86]\ttrain-error:0.000000<br/>"
       ],
       "metadata": {},
       "output_type": "display_data",
       "text": [
        "PROGRESS: [86]\ttrain-error:0.000000"
       ]
      },
      {
       "html": [
        "PROGRESS: [87]\ttrain-error:0.000000<br/>"
       ],
       "metadata": {},
       "output_type": "display_data",
       "text": [
        "PROGRESS: [87]\ttrain-error:0.000000"
       ]
      },
      {
       "html": [
        "PROGRESS: [88]\ttrain-error:0.000000<br/>"
       ],
       "metadata": {},
       "output_type": "display_data",
       "text": [
        "PROGRESS: [88]\ttrain-error:0.000000"
       ]
      },
      {
       "html": [
        "PROGRESS: [89]\ttrain-error:0.000000<br/>"
       ],
       "metadata": {},
       "output_type": "display_data",
       "text": [
        "PROGRESS: [89]\ttrain-error:0.000000"
       ]
      },
      {
       "html": [
        "PROGRESS: [90]\ttrain-error:0.000000<br/>"
       ],
       "metadata": {},
       "output_type": "display_data",
       "text": [
        "PROGRESS: [90]\ttrain-error:0.000000"
       ]
      },
      {
       "html": [
        "PROGRESS: [91]\ttrain-error:0.000000<br/>"
       ],
       "metadata": {},
       "output_type": "display_data",
       "text": [
        "PROGRESS: [91]\ttrain-error:0.000000"
       ]
      },
      {
       "html": [
        "PROGRESS: [92]\ttrain-error:0.000000<br/>"
       ],
       "metadata": {},
       "output_type": "display_data",
       "text": [
        "PROGRESS: [92]\ttrain-error:0.000000"
       ]
      },
      {
       "html": [
        "PROGRESS: [93]\ttrain-error:0.000000<br/>"
       ],
       "metadata": {},
       "output_type": "display_data",
       "text": [
        "PROGRESS: [93]\ttrain-error:0.000000"
       ]
      },
      {
       "html": [
        "PROGRESS: [94]\ttrain-error:0.000000<br/>"
       ],
       "metadata": {},
       "output_type": "display_data",
       "text": [
        "PROGRESS: [94]\ttrain-error:0.000000"
       ]
      },
      {
       "html": [
        "PROGRESS: [95]\ttrain-error:0.000000<br/>"
       ],
       "metadata": {},
       "output_type": "display_data",
       "text": [
        "PROGRESS: [95]\ttrain-error:0.000000"
       ]
      },
      {
       "html": [
        "PROGRESS: [96]\ttrain-error:0.000000<br/>"
       ],
       "metadata": {},
       "output_type": "display_data",
       "text": [
        "PROGRESS: [96]\ttrain-error:0.000000"
       ]
      },
      {
       "html": [
        "PROGRESS: [97]\ttrain-error:0.000000<br/>"
       ],
       "metadata": {},
       "output_type": "display_data",
       "text": [
        "PROGRESS: [97]\ttrain-error:0.000000"
       ]
      },
      {
       "html": [
        "PROGRESS: [98]\ttrain-error:0.000000<br/>"
       ],
       "metadata": {},
       "output_type": "display_data",
       "text": [
        "PROGRESS: [98]\ttrain-error:0.000000"
       ]
      },
      {
       "html": [
        "PROGRESS: [99]\ttrain-error:0.000000<br/>"
       ],
       "metadata": {},
       "output_type": "display_data",
       "text": [
        "PROGRESS: [99]\ttrain-error:0.000000"
       ]
      }
     ],
     "prompt_number": 44
    },
    {
     "cell_type": "code",
     "collapsed": false,
     "input": [
      "rmse1 = m.evaluate(test_data)"
     ],
     "language": "python",
     "metadata": {},
     "outputs": [],
     "prompt_number": 46
    },
    {
     "cell_type": "code",
     "collapsed": false,
     "input": [
      "rmse1"
     ],
     "language": "python",
     "metadata": {},
     "outputs": [
      {
       "metadata": {},
       "output_type": "pyout",
       "prompt_number": 50,
       "text": [
        "{'accuracy': 1.0,\n",
        " 'confusion_table': {'false_negative': 0,\n",
        "  'false_positive': 0,\n",
        "  'true_negative': 32951,\n",
        "  'true_positive': 17103}}"
       ]
      }
     ],
     "prompt_number": 50
    },
    {
     "cell_type": "code",
     "collapsed": false,
     "input": [],
     "language": "python",
     "metadata": {},
     "outputs": []
    }
   ],
   "metadata": {}
  }
 ]
}