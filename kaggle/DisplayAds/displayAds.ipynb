{
 "metadata": {
  "name": "",
  "signature": "sha256:d0b7f1ed6dca7385d5069c97315bfe4d06d7bc5fdeaf8b6aef2d07af93ed8215"
 },
 "nbformat": 3,
 "nbformat_minor": 0,
 "worksheets": [
  {
   "cells": [
    {
     "cell_type": "code",
     "collapsed": false,
     "input": [
      "import graphlab as gl\n",
      "\n",
      "# load training data\n",
      "training_column_types = [str, int,\n",
      "                         int, int, int, int, int, int, int, int, int, int,\n",
      "                         int, int, int,\n",
      "                         str, str, str, str, str, str, str, str, str, str,\n",
      "                         str, str, str, str, str, str, str, str, str, str,\n",
      "                         str, str, str, str, str, str]\n",
      "\n",
      "training_sframe = gl.SFrame.read_csv('train.csv', column_type_hints=training_column_types, nrows=10000000) #rows=\n",
      "#raining_sframe.show()\n",
      "\n",
      "#test = gl.SFrame.read_csv('test.csv', column_type_hints=training_column_types)\n",
      "#test.show()\n",
      "\n",
      "# load test data\n",
      "test_column_types     = [str,\n",
      "                         int, int, int, int, int, int, int, int, int, int,\n",
      "                         int, int, int,\n",
      "                         str, str, str, str, str, str, str, str, str, str,\n",
      "                         str, str, str, str, str, str, str, str, str, str,\n",
      "                         str, str, str, str, str, str]\n",
      "test_sframe = gl.SFrame.read_csv('test.csv', column_type_hints=test_column_types) # nrows = 1000)\n",
      "\n"
     ],
     "language": "python",
     "metadata": {},
     "outputs": [
      {
       "output_type": "stream",
       "stream": "stderr",
       "text": [
        "[INFO] Start server at: ipc:///tmp/graphlab_server-24924 - Server binary: /usr/local/lib/python2.7/dist-packages/graphlab/unity_server - Server log: /tmp/graphlab_server_1411419456.log\n"
       ]
      },
      {
       "output_type": "stream",
       "stream": "stderr",
       "text": [
        "[INFO] GraphLab Server Version: 0.9.1\n"
       ]
      },
      {
       "html": [
        "<pre>PROGRESS: Read 207365 lines. Lines per second: 118412</pre>"
       ],
       "metadata": {},
       "output_type": "display_data",
       "text": [
        "PROGRESS: Read 207365 lines. Lines per second: 118412"
       ]
      },
      {
       "html": [
        "<pre>PROGRESS: Read 1455890 lines. Lines per second: 189683</pre>"
       ],
       "metadata": {},
       "output_type": "display_data",
       "text": [
        "PROGRESS: Read 1455890 lines. Lines per second: 189683"
       ]
      },
      {
       "html": [
        "<pre>PROGRESS: Read 2696578 lines. Lines per second: 197410</pre>"
       ],
       "metadata": {},
       "output_type": "display_data",
       "text": [
        "PROGRESS: Read 2696578 lines. Lines per second: 197410"
       ]
      },
      {
       "html": [
        "<pre>PROGRESS: Read 3730006 lines. Lines per second: 198105</pre>"
       ],
       "metadata": {},
       "output_type": "display_data",
       "text": [
        "PROGRESS: Read 3730006 lines. Lines per second: 198105"
       ]
      },
      {
       "html": [
        "<pre>PROGRESS: Read 4765245 lines. Lines per second: 198504</pre>"
       ],
       "metadata": {},
       "output_type": "display_data",
       "text": [
        "PROGRESS: Read 4765245 lines. Lines per second: 198504"
       ]
      },
      {
       "html": [
        "<pre>PROGRESS: Read 5798622 lines. Lines per second: 198095</pre>"
       ],
       "metadata": {},
       "output_type": "display_data",
       "text": [
        "PROGRESS: Read 5798622 lines. Lines per second: 198095"
       ]
      },
      {
       "html": [
        "<pre>PROGRESS: Read 6832803 lines. Lines per second: 197355</pre>"
       ],
       "metadata": {},
       "output_type": "display_data",
       "text": [
        "PROGRESS: Read 6832803 lines. Lines per second: 197355"
       ]
      },
      {
       "html": [
        "<pre>PROGRESS: Read 7873708 lines. Lines per second: 196106</pre>"
       ],
       "metadata": {},
       "output_type": "display_data",
       "text": [
        "PROGRESS: Read 7873708 lines. Lines per second: 196106"
       ]
      },
      {
       "html": [
        "<pre>PROGRESS: Read 8702093 lines. Lines per second: 192089</pre>"
       ],
       "metadata": {},
       "output_type": "display_data",
       "text": [
        "PROGRESS: Read 8702093 lines. Lines per second: 192089"
       ]
      },
      {
       "html": [
        "<pre>PROGRESS: Read 9735310 lines. Lines per second: 191839</pre>"
       ],
       "metadata": {},
       "output_type": "display_data",
       "text": [
        "PROGRESS: Read 9735310 lines. Lines per second: 191839"
       ]
      },
      {
       "html": [
        "<pre>PROGRESS: Finished parsing file /home/wenfeng/work/datasciencecoursera/kaggle/DisplayAds/train.csv</pre>"
       ],
       "metadata": {},
       "output_type": "display_data",
       "text": [
        "PROGRESS: Finished parsing file /home/wenfeng/work/datasciencecoursera/kaggle/DisplayAds/train.csv"
       ]
      },
      {
       "html": [
        "<pre>PROGRESS: Parsing completed. Parsed 10000000 lines in 52.1731 secs.</pre>"
       ],
       "metadata": {},
       "output_type": "display_data",
       "text": [
        "PROGRESS: Parsing completed. Parsed 10000000 lines in 52.1731 secs."
       ]
      },
      {
       "html": [
        "<pre>PROGRESS: Read 208715 lines. Lines per second: 123101</pre>"
       ],
       "metadata": {},
       "output_type": "display_data",
       "text": [
        "PROGRESS: Read 208715 lines. Lines per second: 123101"
       ]
      },
      {
       "html": [
        "<pre>PROGRESS: Read 1465543 lines. Lines per second: 193331</pre>"
       ],
       "metadata": {},
       "output_type": "display_data",
       "text": [
        "PROGRESS: Read 1465543 lines. Lines per second: 193331"
       ]
      },
      {
       "html": [
        "<pre>PROGRESS: Read 2505763 lines. Lines per second: 199037</pre>"
       ],
       "metadata": {},
       "output_type": "display_data",
       "text": [
        "PROGRESS: Read 2505763 lines. Lines per second: 199037"
       ]
      },
      {
       "html": [
        "<pre>PROGRESS: Read 3546033 lines. Lines per second: 200585</pre>"
       ],
       "metadata": {},
       "output_type": "display_data",
       "text": [
        "PROGRESS: Read 3546033 lines. Lines per second: 200585"
       ]
      },
      {
       "html": [
        "<pre>PROGRESS: Read 4586786 lines. Lines per second: 200106</pre>"
       ],
       "metadata": {},
       "output_type": "display_data",
       "text": [
        "PROGRESS: Read 4586786 lines. Lines per second: 200106"
       ]
      },
      {
       "html": [
        "<pre>PROGRESS: Read 5626466 lines. Lines per second: 199126</pre>"
       ],
       "metadata": {},
       "output_type": "display_data",
       "text": [
        "PROGRESS: Read 5626466 lines. Lines per second: 199126"
       ]
      },
      {
       "html": [
        "<pre>PROGRESS: Finished parsing file /home/wenfeng/work/datasciencecoursera/kaggle/DisplayAds/test.csv</pre>"
       ],
       "metadata": {},
       "output_type": "display_data",
       "text": [
        "PROGRESS: Finished parsing file /home/wenfeng/work/datasciencecoursera/kaggle/DisplayAds/test.csv"
       ]
      },
      {
       "html": [
        "<pre>PROGRESS: Parsing completed. Parsed 6042135 lines in 30.2086 secs.</pre>"
       ],
       "metadata": {},
       "output_type": "display_data",
       "text": [
        "PROGRESS: Parsing completed. Parsed 6042135 lines in 30.2086 secs."
       ]
      }
     ],
     "prompt_number": 1
    },
    {
     "cell_type": "code",
     "collapsed": false,
     "input": [
      "training_sframe.head()"
     ],
     "language": "python",
     "metadata": {},
     "outputs": [
      {
       "html": [
        "<div style=\"max-height:1000px;max-width:1500px;overflow:auto;\"><table frame=\"box\" rules=\"cols\">\n",
        "    <tr>\n",
        "        <th style=\"padding-left: 1em; padding-right: 1em; text-align: center\">Id</th>\n",
        "        <th style=\"padding-left: 1em; padding-right: 1em; text-align: center\">Label</th>\n",
        "        <th style=\"padding-left: 1em; padding-right: 1em; text-align: center\">I1</th>\n",
        "        <th style=\"padding-left: 1em; padding-right: 1em; text-align: center\">I2</th>\n",
        "        <th style=\"padding-left: 1em; padding-right: 1em; text-align: center\">I3</th>\n",
        "        <th style=\"padding-left: 1em; padding-right: 1em; text-align: center\">I4</th>\n",
        "        <th style=\"padding-left: 1em; padding-right: 1em; text-align: center\">I5</th>\n",
        "        <th style=\"padding-left: 1em; padding-right: 1em; text-align: center\">I6</th>\n",
        "        <th style=\"padding-left: 1em; padding-right: 1em; text-align: center\">I7</th>\n",
        "        <th style=\"padding-left: 1em; padding-right: 1em; text-align: center\">I8</th>\n",
        "        <th style=\"padding-left: 1em; padding-right: 1em; text-align: center\">I9</th>\n",
        "        <th style=\"padding-left: 1em; padding-right: 1em; text-align: center\">I10</th>\n",
        "        <th style=\"padding-left: 1em; padding-right: 1em; text-align: center\">I11</th>\n",
        "        <th style=\"padding-left: 1em; padding-right: 1em; text-align: center\">I12</th>\n",
        "        <th style=\"padding-left: 1em; padding-right: 1em; text-align: center\">I13</th>\n",
        "        <th style=\"padding-left: 1em; padding-right: 1em; text-align: center\">C1</th>\n",
        "    </tr>\n",
        "    <tr>\n",
        "        <td style=\"padding-left: 1em; padding-right: 1em; text-align: center; vertical-align: top\">10000000</td>\n",
        "        <td style=\"padding-left: 1em; padding-right: 1em; text-align: center; vertical-align: top\">0</td>\n",
        "        <td style=\"padding-left: 1em; padding-right: 1em; text-align: center; vertical-align: top\">1</td>\n",
        "        <td style=\"padding-left: 1em; padding-right: 1em; text-align: center; vertical-align: top\">1</td>\n",
        "        <td style=\"padding-left: 1em; padding-right: 1em; text-align: center; vertical-align: top\">5</td>\n",
        "        <td style=\"padding-left: 1em; padding-right: 1em; text-align: center; vertical-align: top\">0</td>\n",
        "        <td style=\"padding-left: 1em; padding-right: 1em; text-align: center; vertical-align: top\">1382</td>\n",
        "        <td style=\"padding-left: 1em; padding-right: 1em; text-align: center; vertical-align: top\">4</td>\n",
        "        <td style=\"padding-left: 1em; padding-right: 1em; text-align: center; vertical-align: top\">15</td>\n",
        "        <td style=\"padding-left: 1em; padding-right: 1em; text-align: center; vertical-align: top\">2</td>\n",
        "        <td style=\"padding-left: 1em; padding-right: 1em; text-align: center; vertical-align: top\">181</td>\n",
        "        <td style=\"padding-left: 1em; padding-right: 1em; text-align: center; vertical-align: top\">1</td>\n",
        "        <td style=\"padding-left: 1em; padding-right: 1em; text-align: center; vertical-align: top\">2</td>\n",
        "        <td style=\"padding-left: 1em; padding-right: 1em; text-align: center; vertical-align: top\">None</td>\n",
        "        <td style=\"padding-left: 1em; padding-right: 1em; text-align: center; vertical-align: top\">2</td>\n",
        "        <td style=\"padding-left: 1em; padding-right: 1em; text-align: center; vertical-align: top\">68fd1e64</td>\n",
        "    </tr>\n",
        "    <tr>\n",
        "        <td style=\"padding-left: 1em; padding-right: 1em; text-align: center; vertical-align: top\">10000001</td>\n",
        "        <td style=\"padding-left: 1em; padding-right: 1em; text-align: center; vertical-align: top\">0</td>\n",
        "        <td style=\"padding-left: 1em; padding-right: 1em; text-align: center; vertical-align: top\">2</td>\n",
        "        <td style=\"padding-left: 1em; padding-right: 1em; text-align: center; vertical-align: top\">0</td>\n",
        "        <td style=\"padding-left: 1em; padding-right: 1em; text-align: center; vertical-align: top\">44</td>\n",
        "        <td style=\"padding-left: 1em; padding-right: 1em; text-align: center; vertical-align: top\">1</td>\n",
        "        <td style=\"padding-left: 1em; padding-right: 1em; text-align: center; vertical-align: top\">102</td>\n",
        "        <td style=\"padding-left: 1em; padding-right: 1em; text-align: center; vertical-align: top\">8</td>\n",
        "        <td style=\"padding-left: 1em; padding-right: 1em; text-align: center; vertical-align: top\">2</td>\n",
        "        <td style=\"padding-left: 1em; padding-right: 1em; text-align: center; vertical-align: top\">2</td>\n",
        "        <td style=\"padding-left: 1em; padding-right: 1em; text-align: center; vertical-align: top\">4</td>\n",
        "        <td style=\"padding-left: 1em; padding-right: 1em; text-align: center; vertical-align: top\">1</td>\n",
        "        <td style=\"padding-left: 1em; padding-right: 1em; text-align: center; vertical-align: top\">1</td>\n",
        "        <td style=\"padding-left: 1em; padding-right: 1em; text-align: center; vertical-align: top\">None</td>\n",
        "        <td style=\"padding-left: 1em; padding-right: 1em; text-align: center; vertical-align: top\">4</td>\n",
        "        <td style=\"padding-left: 1em; padding-right: 1em; text-align: center; vertical-align: top\">68fd1e64</td>\n",
        "    </tr>\n",
        "    <tr>\n",
        "        <td style=\"padding-left: 1em; padding-right: 1em; text-align: center; vertical-align: top\">10000002</td>\n",
        "        <td style=\"padding-left: 1em; padding-right: 1em; text-align: center; vertical-align: top\">0</td>\n",
        "        <td style=\"padding-left: 1em; padding-right: 1em; text-align: center; vertical-align: top\">2</td>\n",
        "        <td style=\"padding-left: 1em; padding-right: 1em; text-align: center; vertical-align: top\">0</td>\n",
        "        <td style=\"padding-left: 1em; padding-right: 1em; text-align: center; vertical-align: top\">1</td>\n",
        "        <td style=\"padding-left: 1em; padding-right: 1em; text-align: center; vertical-align: top\">14</td>\n",
        "        <td style=\"padding-left: 1em; padding-right: 1em; text-align: center; vertical-align: top\">767</td>\n",
        "        <td style=\"padding-left: 1em; padding-right: 1em; text-align: center; vertical-align: top\">89</td>\n",
        "        <td style=\"padding-left: 1em; padding-right: 1em; text-align: center; vertical-align: top\">4</td>\n",
        "        <td style=\"padding-left: 1em; padding-right: 1em; text-align: center; vertical-align: top\">2</td>\n",
        "        <td style=\"padding-left: 1em; padding-right: 1em; text-align: center; vertical-align: top\">245</td>\n",
        "        <td style=\"padding-left: 1em; padding-right: 1em; text-align: center; vertical-align: top\">1</td>\n",
        "        <td style=\"padding-left: 1em; padding-right: 1em; text-align: center; vertical-align: top\">3</td>\n",
        "        <td style=\"padding-left: 1em; padding-right: 1em; text-align: center; vertical-align: top\">3</td>\n",
        "        <td style=\"padding-left: 1em; padding-right: 1em; text-align: center; vertical-align: top\">45</td>\n",
        "        <td style=\"padding-left: 1em; padding-right: 1em; text-align: center; vertical-align: top\">287e684f</td>\n",
        "    </tr>\n",
        "    <tr>\n",
        "        <td style=\"padding-left: 1em; padding-right: 1em; text-align: center; vertical-align: top\">10000003</td>\n",
        "        <td style=\"padding-left: 1em; padding-right: 1em; text-align: center; vertical-align: top\">0</td>\n",
        "        <td style=\"padding-left: 1em; padding-right: 1em; text-align: center; vertical-align: top\">None</td>\n",
        "        <td style=\"padding-left: 1em; padding-right: 1em; text-align: center; vertical-align: top\">893</td>\n",
        "        <td style=\"padding-left: 1em; padding-right: 1em; text-align: center; vertical-align: top\">None</td>\n",
        "        <td style=\"padding-left: 1em; padding-right: 1em; text-align: center; vertical-align: top\">None</td>\n",
        "        <td style=\"padding-left: 1em; padding-right: 1em; text-align: center; vertical-align: top\">4392</td>\n",
        "        <td style=\"padding-left: 1em; padding-right: 1em; text-align: center; vertical-align: top\">None</td>\n",
        "        <td style=\"padding-left: 1em; padding-right: 1em; text-align: center; vertical-align: top\">0</td>\n",
        "        <td style=\"padding-left: 1em; padding-right: 1em; text-align: center; vertical-align: top\">0</td>\n",
        "        <td style=\"padding-left: 1em; padding-right: 1em; text-align: center; vertical-align: top\">0</td>\n",
        "        <td style=\"padding-left: 1em; padding-right: 1em; text-align: center; vertical-align: top\">None</td>\n",
        "        <td style=\"padding-left: 1em; padding-right: 1em; text-align: center; vertical-align: top\">0</td>\n",
        "        <td style=\"padding-left: 1em; padding-right: 1em; text-align: center; vertical-align: top\">None</td>\n",
        "        <td style=\"padding-left: 1em; padding-right: 1em; text-align: center; vertical-align: top\">None</td>\n",
        "        <td style=\"padding-left: 1em; padding-right: 1em; text-align: center; vertical-align: top\">68fd1e64</td>\n",
        "    </tr>\n",
        "    <tr>\n",
        "        <td style=\"padding-left: 1em; padding-right: 1em; text-align: center; vertical-align: top\">10000004</td>\n",
        "        <td style=\"padding-left: 1em; padding-right: 1em; text-align: center; vertical-align: top\">0</td>\n",
        "        <td style=\"padding-left: 1em; padding-right: 1em; text-align: center; vertical-align: top\">3</td>\n",
        "        <td style=\"padding-left: 1em; padding-right: 1em; text-align: center; vertical-align: top\">-1</td>\n",
        "        <td style=\"padding-left: 1em; padding-right: 1em; text-align: center; vertical-align: top\">None</td>\n",
        "        <td style=\"padding-left: 1em; padding-right: 1em; text-align: center; vertical-align: top\">0</td>\n",
        "        <td style=\"padding-left: 1em; padding-right: 1em; text-align: center; vertical-align: top\">2</td>\n",
        "        <td style=\"padding-left: 1em; padding-right: 1em; text-align: center; vertical-align: top\">0</td>\n",
        "        <td style=\"padding-left: 1em; padding-right: 1em; text-align: center; vertical-align: top\">3</td>\n",
        "        <td style=\"padding-left: 1em; padding-right: 1em; text-align: center; vertical-align: top\">0</td>\n",
        "        <td style=\"padding-left: 1em; padding-right: 1em; text-align: center; vertical-align: top\">0</td>\n",
        "        <td style=\"padding-left: 1em; padding-right: 1em; text-align: center; vertical-align: top\">1</td>\n",
        "        <td style=\"padding-left: 1em; padding-right: 1em; text-align: center; vertical-align: top\">1</td>\n",
        "        <td style=\"padding-left: 1em; padding-right: 1em; text-align: center; vertical-align: top\">None</td>\n",
        "        <td style=\"padding-left: 1em; padding-right: 1em; text-align: center; vertical-align: top\">0</td>\n",
        "        <td style=\"padding-left: 1em; padding-right: 1em; text-align: center; vertical-align: top\">8cf07265</td>\n",
        "    </tr>\n",
        "    <tr>\n",
        "        <td style=\"padding-left: 1em; padding-right: 1em; text-align: center; vertical-align: top\">10000005</td>\n",
        "        <td style=\"padding-left: 1em; padding-right: 1em; text-align: center; vertical-align: top\">0</td>\n",
        "        <td style=\"padding-left: 1em; padding-right: 1em; text-align: center; vertical-align: top\">None</td>\n",
        "        <td style=\"padding-left: 1em; padding-right: 1em; text-align: center; vertical-align: top\">-1</td>\n",
        "        <td style=\"padding-left: 1em; padding-right: 1em; text-align: center; vertical-align: top\">None</td>\n",
        "        <td style=\"padding-left: 1em; padding-right: 1em; text-align: center; vertical-align: top\">None</td>\n",
        "        <td style=\"padding-left: 1em; padding-right: 1em; text-align: center; vertical-align: top\">12824</td>\n",
        "        <td style=\"padding-left: 1em; padding-right: 1em; text-align: center; vertical-align: top\">None</td>\n",
        "        <td style=\"padding-left: 1em; padding-right: 1em; text-align: center; vertical-align: top\">0</td>\n",
        "        <td style=\"padding-left: 1em; padding-right: 1em; text-align: center; vertical-align: top\">0</td>\n",
        "        <td style=\"padding-left: 1em; padding-right: 1em; text-align: center; vertical-align: top\">6</td>\n",
        "        <td style=\"padding-left: 1em; padding-right: 1em; text-align: center; vertical-align: top\">None</td>\n",
        "        <td style=\"padding-left: 1em; padding-right: 1em; text-align: center; vertical-align: top\">0</td>\n",
        "        <td style=\"padding-left: 1em; padding-right: 1em; text-align: center; vertical-align: top\">None</td>\n",
        "        <td style=\"padding-left: 1em; padding-right: 1em; text-align: center; vertical-align: top\">None</td>\n",
        "        <td style=\"padding-left: 1em; padding-right: 1em; text-align: center; vertical-align: top\">05db9164</td>\n",
        "    </tr>\n",
        "    <tr>\n",
        "        <td style=\"padding-left: 1em; padding-right: 1em; text-align: center; vertical-align: top\">10000006</td>\n",
        "        <td style=\"padding-left: 1em; padding-right: 1em; text-align: center; vertical-align: top\">0</td>\n",
        "        <td style=\"padding-left: 1em; padding-right: 1em; text-align: center; vertical-align: top\">None</td>\n",
        "        <td style=\"padding-left: 1em; padding-right: 1em; text-align: center; vertical-align: top\">1</td>\n",
        "        <td style=\"padding-left: 1em; padding-right: 1em; text-align: center; vertical-align: top\">2</td>\n",
        "        <td style=\"padding-left: 1em; padding-right: 1em; text-align: center; vertical-align: top\">None</td>\n",
        "        <td style=\"padding-left: 1em; padding-right: 1em; text-align: center; vertical-align: top\">3168</td>\n",
        "        <td style=\"padding-left: 1em; padding-right: 1em; text-align: center; vertical-align: top\">None</td>\n",
        "        <td style=\"padding-left: 1em; padding-right: 1em; text-align: center; vertical-align: top\">0</td>\n",
        "        <td style=\"padding-left: 1em; padding-right: 1em; text-align: center; vertical-align: top\">1</td>\n",
        "        <td style=\"padding-left: 1em; padding-right: 1em; text-align: center; vertical-align: top\">2</td>\n",
        "        <td style=\"padding-left: 1em; padding-right: 1em; text-align: center; vertical-align: top\">None</td>\n",
        "        <td style=\"padding-left: 1em; padding-right: 1em; text-align: center; vertical-align: top\">0</td>\n",
        "        <td style=\"padding-left: 1em; padding-right: 1em; text-align: center; vertical-align: top\">None</td>\n",
        "        <td style=\"padding-left: 1em; padding-right: 1em; text-align: center; vertical-align: top\">None</td>\n",
        "        <td style=\"padding-left: 1em; padding-right: 1em; text-align: center; vertical-align: top\">439a44a4</td>\n",
        "    </tr>\n",
        "    <tr>\n",
        "        <td style=\"padding-left: 1em; padding-right: 1em; text-align: center; vertical-align: top\">10000007</td>\n",
        "        <td style=\"padding-left: 1em; padding-right: 1em; text-align: center; vertical-align: top\">1</td>\n",
        "        <td style=\"padding-left: 1em; padding-right: 1em; text-align: center; vertical-align: top\">1</td>\n",
        "        <td style=\"padding-left: 1em; padding-right: 1em; text-align: center; vertical-align: top\">4</td>\n",
        "        <td style=\"padding-left: 1em; padding-right: 1em; text-align: center; vertical-align: top\">2</td>\n",
        "        <td style=\"padding-left: 1em; padding-right: 1em; text-align: center; vertical-align: top\">0</td>\n",
        "        <td style=\"padding-left: 1em; padding-right: 1em; text-align: center; vertical-align: top\">0</td>\n",
        "        <td style=\"padding-left: 1em; padding-right: 1em; text-align: center; vertical-align: top\">0</td>\n",
        "        <td style=\"padding-left: 1em; padding-right: 1em; text-align: center; vertical-align: top\">1</td>\n",
        "        <td style=\"padding-left: 1em; padding-right: 1em; text-align: center; vertical-align: top\">0</td>\n",
        "        <td style=\"padding-left: 1em; padding-right: 1em; text-align: center; vertical-align: top\">0</td>\n",
        "        <td style=\"padding-left: 1em; padding-right: 1em; text-align: center; vertical-align: top\">1</td>\n",
        "        <td style=\"padding-left: 1em; padding-right: 1em; text-align: center; vertical-align: top\">1</td>\n",
        "        <td style=\"padding-left: 1em; padding-right: 1em; text-align: center; vertical-align: top\">None</td>\n",
        "        <td style=\"padding-left: 1em; padding-right: 1em; text-align: center; vertical-align: top\">0</td>\n",
        "        <td style=\"padding-left: 1em; padding-right: 1em; text-align: center; vertical-align: top\">68fd1e64</td>\n",
        "    </tr>\n",
        "    <tr>\n",
        "        <td style=\"padding-left: 1em; padding-right: 1em; text-align: center; vertical-align: top\">10000008</td>\n",
        "        <td style=\"padding-left: 1em; padding-right: 1em; text-align: center; vertical-align: top\">0</td>\n",
        "        <td style=\"padding-left: 1em; padding-right: 1em; text-align: center; vertical-align: top\">None</td>\n",
        "        <td style=\"padding-left: 1em; padding-right: 1em; text-align: center; vertical-align: top\">44</td>\n",
        "        <td style=\"padding-left: 1em; padding-right: 1em; text-align: center; vertical-align: top\">4</td>\n",
        "        <td style=\"padding-left: 1em; padding-right: 1em; text-align: center; vertical-align: top\">8</td>\n",
        "        <td style=\"padding-left: 1em; padding-right: 1em; text-align: center; vertical-align: top\">19010</td>\n",
        "        <td style=\"padding-left: 1em; padding-right: 1em; text-align: center; vertical-align: top\">249</td>\n",
        "        <td style=\"padding-left: 1em; padding-right: 1em; text-align: center; vertical-align: top\">28</td>\n",
        "        <td style=\"padding-left: 1em; padding-right: 1em; text-align: center; vertical-align: top\">31</td>\n",
        "        <td style=\"padding-left: 1em; padding-right: 1em; text-align: center; vertical-align: top\">141</td>\n",
        "        <td style=\"padding-left: 1em; padding-right: 1em; text-align: center; vertical-align: top\">None</td>\n",
        "        <td style=\"padding-left: 1em; padding-right: 1em; text-align: center; vertical-align: top\">1</td>\n",
        "        <td style=\"padding-left: 1em; padding-right: 1em; text-align: center; vertical-align: top\">None</td>\n",
        "        <td style=\"padding-left: 1em; padding-right: 1em; text-align: center; vertical-align: top\">8</td>\n",
        "        <td style=\"padding-left: 1em; padding-right: 1em; text-align: center; vertical-align: top\">05db9164</td>\n",
        "    </tr>\n",
        "    <tr>\n",
        "        <td style=\"padding-left: 1em; padding-right: 1em; text-align: center; vertical-align: top\">10000009</td>\n",
        "        <td style=\"padding-left: 1em; padding-right: 1em; text-align: center; vertical-align: top\">0</td>\n",
        "        <td style=\"padding-left: 1em; padding-right: 1em; text-align: center; vertical-align: top\">None</td>\n",
        "        <td style=\"padding-left: 1em; padding-right: 1em; text-align: center; vertical-align: top\">35</td>\n",
        "        <td style=\"padding-left: 1em; padding-right: 1em; text-align: center; vertical-align: top\">None</td>\n",
        "        <td style=\"padding-left: 1em; padding-right: 1em; text-align: center; vertical-align: top\">1</td>\n",
        "        <td style=\"padding-left: 1em; padding-right: 1em; text-align: center; vertical-align: top\">33737</td>\n",
        "        <td style=\"padding-left: 1em; padding-right: 1em; text-align: center; vertical-align: top\">21</td>\n",
        "        <td style=\"padding-left: 1em; padding-right: 1em; text-align: center; vertical-align: top\">1</td>\n",
        "        <td style=\"padding-left: 1em; padding-right: 1em; text-align: center; vertical-align: top\">2</td>\n",
        "        <td style=\"padding-left: 1em; padding-right: 1em; text-align: center; vertical-align: top\">3</td>\n",
        "        <td style=\"padding-left: 1em; padding-right: 1em; text-align: center; vertical-align: top\">None</td>\n",
        "        <td style=\"padding-left: 1em; padding-right: 1em; text-align: center; vertical-align: top\">1</td>\n",
        "        <td style=\"padding-left: 1em; padding-right: 1em; text-align: center; vertical-align: top\">None</td>\n",
        "        <td style=\"padding-left: 1em; padding-right: 1em; text-align: center; vertical-align: top\">1</td>\n",
        "        <td style=\"padding-left: 1em; padding-right: 1em; text-align: center; vertical-align: top\">05db9164</td>\n",
        "    </tr>\n",
        "</table>\n",
        "<table frame=\"box\" rules=\"cols\">\n",
        "    <tr>\n",
        "        <th style=\"padding-left: 1em; padding-right: 1em; text-align: center\">C2</th>\n",
        "        <th style=\"padding-left: 1em; padding-right: 1em; text-align: center\">C3</th>\n",
        "        <th style=\"padding-left: 1em; padding-right: 1em; text-align: center\">C4</th>\n",
        "        <th style=\"padding-left: 1em; padding-right: 1em; text-align: center\">C5</th>\n",
        "        <th style=\"padding-left: 1em; padding-right: 1em; text-align: center\">C6</th>\n",
        "        <th style=\"padding-left: 1em; padding-right: 1em; text-align: center\">C7</th>\n",
        "        <th style=\"padding-left: 1em; padding-right: 1em; text-align: center\">C8</th>\n",
        "        <th style=\"padding-left: 1em; padding-right: 1em; text-align: center\">C9</th>\n",
        "        <th style=\"padding-left: 1em; padding-right: 1em; text-align: center\">C10</th>\n",
        "        <th style=\"padding-left: 1em; padding-right: 1em; text-align: center\">C11</th>\n",
        "        <th style=\"padding-left: 1em; padding-right: 1em; text-align: center\">C12</th>\n",
        "    </tr>\n",
        "    <tr>\n",
        "        <td style=\"padding-left: 1em; padding-right: 1em; text-align: center; vertical-align: top\">80e26c9b</td>\n",
        "        <td style=\"padding-left: 1em; padding-right: 1em; text-align: center; vertical-align: top\">fb936136</td>\n",
        "        <td style=\"padding-left: 1em; padding-right: 1em; text-align: center; vertical-align: top\">7b4723c4</td>\n",
        "        <td style=\"padding-left: 1em; padding-right: 1em; text-align: center; vertical-align: top\">25c83c98</td>\n",
        "        <td style=\"padding-left: 1em; padding-right: 1em; text-align: center; vertical-align: top\">7e0ccccf</td>\n",
        "        <td style=\"padding-left: 1em; padding-right: 1em; text-align: center; vertical-align: top\">de7995b8</td>\n",
        "        <td style=\"padding-left: 1em; padding-right: 1em; text-align: center; vertical-align: top\">1f89b562</td>\n",
        "        <td style=\"padding-left: 1em; padding-right: 1em; text-align: center; vertical-align: top\">a73ee510</td>\n",
        "        <td style=\"padding-left: 1em; padding-right: 1em; text-align: center; vertical-align: top\">a8cd5504</td>\n",
        "        <td style=\"padding-left: 1em; padding-right: 1em; text-align: center; vertical-align: top\">b2cb9c98</td>\n",
        "        <td style=\"padding-left: 1em; padding-right: 1em; text-align: center; vertical-align: top\">37c9c164</td>\n",
        "    </tr>\n",
        "    <tr>\n",
        "        <td style=\"padding-left: 1em; padding-right: 1em; text-align: center; vertical-align: top\">f0cf0024</td>\n",
        "        <td style=\"padding-left: 1em; padding-right: 1em; text-align: center; vertical-align: top\">6f67f7e5</td>\n",
        "        <td style=\"padding-left: 1em; padding-right: 1em; text-align: center; vertical-align: top\">41274cd7</td>\n",
        "        <td style=\"padding-left: 1em; padding-right: 1em; text-align: center; vertical-align: top\">25c83c98</td>\n",
        "        <td style=\"padding-left: 1em; padding-right: 1em; text-align: center; vertical-align: top\">fe6b92e5</td>\n",
        "        <td style=\"padding-left: 1em; padding-right: 1em; text-align: center; vertical-align: top\">922afcc0</td>\n",
        "        <td style=\"padding-left: 1em; padding-right: 1em; text-align: center; vertical-align: top\">0b153874</td>\n",
        "        <td style=\"padding-left: 1em; padding-right: 1em; text-align: center; vertical-align: top\">a73ee510</td>\n",
        "        <td style=\"padding-left: 1em; padding-right: 1em; text-align: center; vertical-align: top\">2b53e5fb</td>\n",
        "        <td style=\"padding-left: 1em; padding-right: 1em; text-align: center; vertical-align: top\">4f1b46f3</td>\n",
        "        <td style=\"padding-left: 1em; padding-right: 1em; text-align: center; vertical-align: top\">623049e6</td>\n",
        "    </tr>\n",
        "    <tr>\n",
        "        <td style=\"padding-left: 1em; padding-right: 1em; text-align: center; vertical-align: top\">0a519c5c</td>\n",
        "        <td style=\"padding-left: 1em; padding-right: 1em; text-align: center; vertical-align: top\">02cf9876</td>\n",
        "        <td style=\"padding-left: 1em; padding-right: 1em; text-align: center; vertical-align: top\">c18be181</td>\n",
        "        <td style=\"padding-left: 1em; padding-right: 1em; text-align: center; vertical-align: top\">25c83c98</td>\n",
        "        <td style=\"padding-left: 1em; padding-right: 1em; text-align: center; vertical-align: top\">7e0ccccf</td>\n",
        "        <td style=\"padding-left: 1em; padding-right: 1em; text-align: center; vertical-align: top\">c78204a1</td>\n",
        "        <td style=\"padding-left: 1em; padding-right: 1em; text-align: center; vertical-align: top\">0b153874</td>\n",
        "        <td style=\"padding-left: 1em; padding-right: 1em; text-align: center; vertical-align: top\">a73ee510</td>\n",
        "        <td style=\"padding-left: 1em; padding-right: 1em; text-align: center; vertical-align: top\">3b08e48b</td>\n",
        "        <td style=\"padding-left: 1em; padding-right: 1em; text-align: center; vertical-align: top\">5f5e6091</td>\n",
        "        <td style=\"padding-left: 1em; padding-right: 1em; text-align: center; vertical-align: top\">8fe001f4</td>\n",
        "    </tr>\n",
        "    <tr>\n",
        "        <td style=\"padding-left: 1em; padding-right: 1em; text-align: center; vertical-align: top\">2c16a946</td>\n",
        "        <td style=\"padding-left: 1em; padding-right: 1em; text-align: center; vertical-align: top\">a9a87e68</td>\n",
        "        <td style=\"padding-left: 1em; padding-right: 1em; text-align: center; vertical-align: top\">2e17d6f6</td>\n",
        "        <td style=\"padding-left: 1em; padding-right: 1em; text-align: center; vertical-align: top\">25c83c98</td>\n",
        "        <td style=\"padding-left: 1em; padding-right: 1em; text-align: center; vertical-align: top\">fe6b92e5</td>\n",
        "        <td style=\"padding-left: 1em; padding-right: 1em; text-align: center; vertical-align: top\">2e8a689b</td>\n",
        "        <td style=\"padding-left: 1em; padding-right: 1em; text-align: center; vertical-align: top\">0b153874</td>\n",
        "        <td style=\"padding-left: 1em; padding-right: 1em; text-align: center; vertical-align: top\">a73ee510</td>\n",
        "        <td style=\"padding-left: 1em; padding-right: 1em; text-align: center; vertical-align: top\">efea433b</td>\n",
        "        <td style=\"padding-left: 1em; padding-right: 1em; text-align: center; vertical-align: top\">e51ddf94</td>\n",
        "        <td style=\"padding-left: 1em; padding-right: 1em; text-align: center; vertical-align: top\">a30567ca</td>\n",
        "    </tr>\n",
        "    <tr>\n",
        "        <td style=\"padding-left: 1em; padding-right: 1em; text-align: center; vertical-align: top\">ae46a29d</td>\n",
        "        <td style=\"padding-left: 1em; padding-right: 1em; text-align: center; vertical-align: top\">c81688bb</td>\n",
        "        <td style=\"padding-left: 1em; padding-right: 1em; text-align: center; vertical-align: top\">f922efad</td>\n",
        "        <td style=\"padding-left: 1em; padding-right: 1em; text-align: center; vertical-align: top\">25c83c98</td>\n",
        "        <td style=\"padding-left: 1em; padding-right: 1em; text-align: center; vertical-align: top\">13718bbd</td>\n",
        "        <td style=\"padding-left: 1em; padding-right: 1em; text-align: center; vertical-align: top\">ad9fa255</td>\n",
        "        <td style=\"padding-left: 1em; padding-right: 1em; text-align: center; vertical-align: top\">0b153874</td>\n",
        "        <td style=\"padding-left: 1em; padding-right: 1em; text-align: center; vertical-align: top\">a73ee510</td>\n",
        "        <td style=\"padding-left: 1em; padding-right: 1em; text-align: center; vertical-align: top\">5282c137</td>\n",
        "        <td style=\"padding-left: 1em; padding-right: 1em; text-align: center; vertical-align: top\">e5d8af57</td>\n",
        "        <td style=\"padding-left: 1em; padding-right: 1em; text-align: center; vertical-align: top\">66a76a26</td>\n",
        "    </tr>\n",
        "    <tr>\n",
        "        <td style=\"padding-left: 1em; padding-right: 1em; text-align: center; vertical-align: top\">6c9c9cf3</td>\n",
        "        <td style=\"padding-left: 1em; padding-right: 1em; text-align: center; vertical-align: top\">2730ec9c</td>\n",
        "        <td style=\"padding-left: 1em; padding-right: 1em; text-align: center; vertical-align: top\">5400db8b</td>\n",
        "        <td style=\"padding-left: 1em; padding-right: 1em; text-align: center; vertical-align: top\">43b19349</td>\n",
        "        <td style=\"padding-left: 1em; padding-right: 1em; text-align: center; vertical-align: top\">6f6d9be8</td>\n",
        "        <td style=\"padding-left: 1em; padding-right: 1em; text-align: center; vertical-align: top\">53b5f978</td>\n",
        "        <td style=\"padding-left: 1em; padding-right: 1em; text-align: center; vertical-align: top\">0b153874</td>\n",
        "        <td style=\"padding-left: 1em; padding-right: 1em; text-align: center; vertical-align: top\">a73ee510</td>\n",
        "        <td style=\"padding-left: 1em; padding-right: 1em; text-align: center; vertical-align: top\">3b08e48b</td>\n",
        "        <td style=\"padding-left: 1em; padding-right: 1em; text-align: center; vertical-align: top\">91e8fc27</td>\n",
        "        <td style=\"padding-left: 1em; padding-right: 1em; text-align: center; vertical-align: top\">be45b877</td>\n",
        "    </tr>\n",
        "    <tr>\n",
        "        <td style=\"padding-left: 1em; padding-right: 1em; text-align: center; vertical-align: top\">ad4527a2</td>\n",
        "        <td style=\"padding-left: 1em; padding-right: 1em; text-align: center; vertical-align: top\">c02372d0</td>\n",
        "        <td style=\"padding-left: 1em; padding-right: 1em; text-align: center; vertical-align: top\">d34ebbaa</td>\n",
        "        <td style=\"padding-left: 1em; padding-right: 1em; text-align: center; vertical-align: top\">43b19349</td>\n",
        "        <td style=\"padding-left: 1em; padding-right: 1em; text-align: center; vertical-align: top\">fe6b92e5</td>\n",
        "        <td style=\"padding-left: 1em; padding-right: 1em; text-align: center; vertical-align: top\">4bc6ffea</td>\n",
        "        <td style=\"padding-left: 1em; padding-right: 1em; text-align: center; vertical-align: top\">0b153874</td>\n",
        "        <td style=\"padding-left: 1em; padding-right: 1em; text-align: center; vertical-align: top\">a73ee510</td>\n",
        "        <td style=\"padding-left: 1em; padding-right: 1em; text-align: center; vertical-align: top\">3b08e48b</td>\n",
        "        <td style=\"padding-left: 1em; padding-right: 1em; text-align: center; vertical-align: top\">a4609aab</td>\n",
        "        <td style=\"padding-left: 1em; padding-right: 1em; text-align: center; vertical-align: top\">14d63538</td>\n",
        "    </tr>\n",
        "    <tr>\n",
        "        <td style=\"padding-left: 1em; padding-right: 1em; text-align: center; vertical-align: top\">2c16a946</td>\n",
        "        <td style=\"padding-left: 1em; padding-right: 1em; text-align: center; vertical-align: top\">503b9dbc</td>\n",
        "        <td style=\"padding-left: 1em; padding-right: 1em; text-align: center; vertical-align: top\">e4dbea90</td>\n",
        "        <td style=\"padding-left: 1em; padding-right: 1em; text-align: center; vertical-align: top\">f3474129</td>\n",
        "        <td style=\"padding-left: 1em; padding-right: 1em; text-align: center; vertical-align: top\">13718bbd</td>\n",
        "        <td style=\"padding-left: 1em; padding-right: 1em; text-align: center; vertical-align: top\">38eb9cf4</td>\n",
        "        <td style=\"padding-left: 1em; padding-right: 1em; text-align: center; vertical-align: top\">1f89b562</td>\n",
        "        <td style=\"padding-left: 1em; padding-right: 1em; text-align: center; vertical-align: top\">a73ee510</td>\n",
        "        <td style=\"padding-left: 1em; padding-right: 1em; text-align: center; vertical-align: top\">547c0ffe</td>\n",
        "        <td style=\"padding-left: 1em; padding-right: 1em; text-align: center; vertical-align: top\">bc8c9f21</td>\n",
        "        <td style=\"padding-left: 1em; padding-right: 1em; text-align: center; vertical-align: top\">60ab2f07</td>\n",
        "    </tr>\n",
        "    <tr>\n",
        "        <td style=\"padding-left: 1em; padding-right: 1em; text-align: center; vertical-align: top\">d833535f</td>\n",
        "        <td style=\"padding-left: 1em; padding-right: 1em; text-align: center; vertical-align: top\">d032c263</td>\n",
        "        <td style=\"padding-left: 1em; padding-right: 1em; text-align: center; vertical-align: top\">c18be181</td>\n",
        "        <td style=\"padding-left: 1em; padding-right: 1em; text-align: center; vertical-align: top\">25c83c98</td>\n",
        "        <td style=\"padding-left: 1em; padding-right: 1em; text-align: center; vertical-align: top\">7e0ccccf</td>\n",
        "        <td style=\"padding-left: 1em; padding-right: 1em; text-align: center; vertical-align: top\">d5b6acf2</td>\n",
        "        <td style=\"padding-left: 1em; padding-right: 1em; text-align: center; vertical-align: top\">0b153874</td>\n",
        "        <td style=\"padding-left: 1em; padding-right: 1em; text-align: center; vertical-align: top\">a73ee510</td>\n",
        "        <td style=\"padding-left: 1em; padding-right: 1em; text-align: center; vertical-align: top\">2acdcf4e</td>\n",
        "        <td style=\"padding-left: 1em; padding-right: 1em; text-align: center; vertical-align: top\">086ac2d2</td>\n",
        "        <td style=\"padding-left: 1em; padding-right: 1em; text-align: center; vertical-align: top\">dfbb09fb</td>\n",
        "    </tr>\n",
        "    <tr>\n",
        "        <td style=\"padding-left: 1em; padding-right: 1em; text-align: center; vertical-align: top\">510b40a5</td>\n",
        "        <td style=\"padding-left: 1em; padding-right: 1em; text-align: center; vertical-align: top\">d03e7c24</td>\n",
        "        <td style=\"padding-left: 1em; padding-right: 1em; text-align: center; vertical-align: top\">eb1fd928</td>\n",
        "        <td style=\"padding-left: 1em; padding-right: 1em; text-align: center; vertical-align: top\">25c83c98</td>\n",
        "        <td style=\"padding-left: 1em; padding-right: 1em; text-align: center; vertical-align: top\"></td>\n",
        "        <td style=\"padding-left: 1em; padding-right: 1em; text-align: center; vertical-align: top\">52283d1c</td>\n",
        "        <td style=\"padding-left: 1em; padding-right: 1em; text-align: center; vertical-align: top\">0b153874</td>\n",
        "        <td style=\"padding-left: 1em; padding-right: 1em; text-align: center; vertical-align: top\">a73ee510</td>\n",
        "        <td style=\"padding-left: 1em; padding-right: 1em; text-align: center; vertical-align: top\">015ac893</td>\n",
        "        <td style=\"padding-left: 1em; padding-right: 1em; text-align: center; vertical-align: top\">e51ddf94</td>\n",
        "        <td style=\"padding-left: 1em; padding-right: 1em; text-align: center; vertical-align: top\">951fe4a9</td>\n",
        "    </tr>\n",
        "</table>\n",
        "<table frame=\"box\" rules=\"cols\">\n",
        "    <tr>\n",
        "        <th style=\"padding-left: 1em; padding-right: 1em; text-align: center\">C13</th>\n",
        "        <th style=\"padding-left: 1em; padding-right: 1em; text-align: center\">C14</th>\n",
        "        <th style=\"padding-left: 1em; padding-right: 1em; text-align: center\">C15</th>\n",
        "        <th style=\"padding-left: 1em; padding-right: 1em; text-align: center\">C16</th>\n",
        "        <th style=\"padding-left: 1em; padding-right: 1em; text-align: center\">C17</th>\n",
        "        <th style=\"padding-left: 1em; padding-right: 1em; text-align: center\">C18</th>\n",
        "        <th style=\"padding-left: 1em; padding-right: 1em; text-align: center\">C19</th>\n",
        "        <th style=\"padding-left: 1em; padding-right: 1em; text-align: center\">C20</th>\n",
        "        <th style=\"padding-left: 1em; padding-right: 1em; text-align: center\">C21</th>\n",
        "        <th style=\"padding-left: 1em; padding-right: 1em; text-align: center\">C22</th>\n",
        "        <th style=\"padding-left: 1em; padding-right: 1em; text-align: center\">C23</th>\n",
        "    </tr>\n",
        "    <tr>\n",
        "        <td style=\"padding-left: 1em; padding-right: 1em; text-align: center; vertical-align: top\">2824a5f6</td>\n",
        "        <td style=\"padding-left: 1em; padding-right: 1em; text-align: center; vertical-align: top\">1adce6ef</td>\n",
        "        <td style=\"padding-left: 1em; padding-right: 1em; text-align: center; vertical-align: top\">8ba8b39a</td>\n",
        "        <td style=\"padding-left: 1em; padding-right: 1em; text-align: center; vertical-align: top\">891b62e7</td>\n",
        "        <td style=\"padding-left: 1em; padding-right: 1em; text-align: center; vertical-align: top\">e5ba7672</td>\n",
        "        <td style=\"padding-left: 1em; padding-right: 1em; text-align: center; vertical-align: top\">f54016b9</td>\n",
        "        <td style=\"padding-left: 1em; padding-right: 1em; text-align: center; vertical-align: top\">21ddcdc9</td>\n",
        "        <td style=\"padding-left: 1em; padding-right: 1em; text-align: center; vertical-align: top\">b1252a9d</td>\n",
        "        <td style=\"padding-left: 1em; padding-right: 1em; text-align: center; vertical-align: top\">07b5194c</td>\n",
        "        <td style=\"padding-left: 1em; padding-right: 1em; text-align: center; vertical-align: top\"></td>\n",
        "        <td style=\"padding-left: 1em; padding-right: 1em; text-align: center; vertical-align: top\">3a171ecb</td>\n",
        "    </tr>\n",
        "    <tr>\n",
        "        <td style=\"padding-left: 1em; padding-right: 1em; text-align: center; vertical-align: top\">d7020589</td>\n",
        "        <td style=\"padding-left: 1em; padding-right: 1em; text-align: center; vertical-align: top\">b28479f6</td>\n",
        "        <td style=\"padding-left: 1em; padding-right: 1em; text-align: center; vertical-align: top\">e6c5b5cd</td>\n",
        "        <td style=\"padding-left: 1em; padding-right: 1em; text-align: center; vertical-align: top\">c92f3b61</td>\n",
        "        <td style=\"padding-left: 1em; padding-right: 1em; text-align: center; vertical-align: top\">07c540c4</td>\n",
        "        <td style=\"padding-left: 1em; padding-right: 1em; text-align: center; vertical-align: top\">b04e4670</td>\n",
        "        <td style=\"padding-left: 1em; padding-right: 1em; text-align: center; vertical-align: top\">21ddcdc9</td>\n",
        "        <td style=\"padding-left: 1em; padding-right: 1em; text-align: center; vertical-align: top\">5840adea</td>\n",
        "        <td style=\"padding-left: 1em; padding-right: 1em; text-align: center; vertical-align: top\">60f6221e</td>\n",
        "        <td style=\"padding-left: 1em; padding-right: 1em; text-align: center; vertical-align: top\"></td>\n",
        "        <td style=\"padding-left: 1em; padding-right: 1em; text-align: center; vertical-align: top\">3a171ecb</td>\n",
        "    </tr>\n",
        "    <tr>\n",
        "        <td style=\"padding-left: 1em; padding-right: 1em; text-align: center; vertical-align: top\">aa655a2f</td>\n",
        "        <td style=\"padding-left: 1em; padding-right: 1em; text-align: center; vertical-align: top\">07d13a8f</td>\n",
        "        <td style=\"padding-left: 1em; padding-right: 1em; text-align: center; vertical-align: top\">6dc710ed</td>\n",
        "        <td style=\"padding-left: 1em; padding-right: 1em; text-align: center; vertical-align: top\">36103458</td>\n",
        "        <td style=\"padding-left: 1em; padding-right: 1em; text-align: center; vertical-align: top\">8efede7f</td>\n",
        "        <td style=\"padding-left: 1em; padding-right: 1em; text-align: center; vertical-align: top\">3412118d</td>\n",
        "        <td style=\"padding-left: 1em; padding-right: 1em; text-align: center; vertical-align: top\"></td>\n",
        "        <td style=\"padding-left: 1em; padding-right: 1em; text-align: center; vertical-align: top\"></td>\n",
        "        <td style=\"padding-left: 1em; padding-right: 1em; text-align: center; vertical-align: top\">e587c466</td>\n",
        "        <td style=\"padding-left: 1em; padding-right: 1em; text-align: center; vertical-align: top\">ad3062eb</td>\n",
        "        <td style=\"padding-left: 1em; padding-right: 1em; text-align: center; vertical-align: top\">3a171ecb</td>\n",
        "    </tr>\n",
        "    <tr>\n",
        "        <td style=\"padding-left: 1em; padding-right: 1em; text-align: center; vertical-align: top\">3516f6e6</td>\n",
        "        <td style=\"padding-left: 1em; padding-right: 1em; text-align: center; vertical-align: top\">07d13a8f</td>\n",
        "        <td style=\"padding-left: 1em; padding-right: 1em; text-align: center; vertical-align: top\">18231224</td>\n",
        "        <td style=\"padding-left: 1em; padding-right: 1em; text-align: center; vertical-align: top\">52b8680f</td>\n",
        "        <td style=\"padding-left: 1em; padding-right: 1em; text-align: center; vertical-align: top\">1e88c74f</td>\n",
        "        <td style=\"padding-left: 1em; padding-right: 1em; text-align: center; vertical-align: top\">74ef3502</td>\n",
        "        <td style=\"padding-left: 1em; padding-right: 1em; text-align: center; vertical-align: top\"></td>\n",
        "        <td style=\"padding-left: 1em; padding-right: 1em; text-align: center; vertical-align: top\"></td>\n",
        "        <td style=\"padding-left: 1em; padding-right: 1em; text-align: center; vertical-align: top\">6b3a5ca6</td>\n",
        "        <td style=\"padding-left: 1em; padding-right: 1em; text-align: center; vertical-align: top\"></td>\n",
        "        <td style=\"padding-left: 1em; padding-right: 1em; text-align: center; vertical-align: top\">3a171ecb</td>\n",
        "    </tr>\n",
        "    <tr>\n",
        "        <td style=\"padding-left: 1em; padding-right: 1em; text-align: center; vertical-align: top\">f06c53ac</td>\n",
        "        <td style=\"padding-left: 1em; padding-right: 1em; text-align: center; vertical-align: top\">1adce6ef</td>\n",
        "        <td style=\"padding-left: 1em; padding-right: 1em; text-align: center; vertical-align: top\">8ff4b403</td>\n",
        "        <td style=\"padding-left: 1em; padding-right: 1em; text-align: center; vertical-align: top\">01adbab4</td>\n",
        "        <td style=\"padding-left: 1em; padding-right: 1em; text-align: center; vertical-align: top\">1e88c74f</td>\n",
        "        <td style=\"padding-left: 1em; padding-right: 1em; text-align: center; vertical-align: top\">26b3c7a7</td>\n",
        "        <td style=\"padding-left: 1em; padding-right: 1em; text-align: center; vertical-align: top\"></td>\n",
        "        <td style=\"padding-left: 1em; padding-right: 1em; text-align: center; vertical-align: top\"></td>\n",
        "        <td style=\"padding-left: 1em; padding-right: 1em; text-align: center; vertical-align: top\">21c9516a</td>\n",
        "        <td style=\"padding-left: 1em; padding-right: 1em; text-align: center; vertical-align: top\"></td>\n",
        "        <td style=\"padding-left: 1em; padding-right: 1em; text-align: center; vertical-align: top\">32c7478e</td>\n",
        "    </tr>\n",
        "    <tr>\n",
        "        <td style=\"padding-left: 1em; padding-right: 1em; text-align: center; vertical-align: top\">9ff13f22</td>\n",
        "        <td style=\"padding-left: 1em; padding-right: 1em; text-align: center; vertical-align: top\">07d13a8f</td>\n",
        "        <td style=\"padding-left: 1em; padding-right: 1em; text-align: center; vertical-align: top\">06969a20</td>\n",
        "        <td style=\"padding-left: 1em; padding-right: 1em; text-align: center; vertical-align: top\">9bc7fff5</td>\n",
        "        <td style=\"padding-left: 1em; padding-right: 1em; text-align: center; vertical-align: top\">776ce399</td>\n",
        "        <td style=\"padding-left: 1em; padding-right: 1em; text-align: center; vertical-align: top\">92555263</td>\n",
        "        <td style=\"padding-left: 1em; padding-right: 1em; text-align: center; vertical-align: top\"></td>\n",
        "        <td style=\"padding-left: 1em; padding-right: 1em; text-align: center; vertical-align: top\"></td>\n",
        "        <td style=\"padding-left: 1em; padding-right: 1em; text-align: center; vertical-align: top\">242bb710</td>\n",
        "        <td style=\"padding-left: 1em; padding-right: 1em; text-align: center; vertical-align: top\">8ec974f4</td>\n",
        "        <td style=\"padding-left: 1em; padding-right: 1em; text-align: center; vertical-align: top\">be7c41b4</td>\n",
        "    </tr>\n",
        "    <tr>\n",
        "        <td style=\"padding-left: 1em; padding-right: 1em; text-align: center; vertical-align: top\">772a00d7</td>\n",
        "        <td style=\"padding-left: 1em; padding-right: 1em; text-align: center; vertical-align: top\">07d13a8f</td>\n",
        "        <td style=\"padding-left: 1em; padding-right: 1em; text-align: center; vertical-align: top\">f9d1382e</td>\n",
        "        <td style=\"padding-left: 1em; padding-right: 1em; text-align: center; vertical-align: top\">b00d3dc9</td>\n",
        "        <td style=\"padding-left: 1em; padding-right: 1em; text-align: center; vertical-align: top\">776ce399</td>\n",
        "        <td style=\"padding-left: 1em; padding-right: 1em; text-align: center; vertical-align: top\">cdfa8259</td>\n",
        "        <td style=\"padding-left: 1em; padding-right: 1em; text-align: center; vertical-align: top\"></td>\n",
        "        <td style=\"padding-left: 1em; padding-right: 1em; text-align: center; vertical-align: top\"></td>\n",
        "        <td style=\"padding-left: 1em; padding-right: 1em; text-align: center; vertical-align: top\">20062612</td>\n",
        "        <td style=\"padding-left: 1em; padding-right: 1em; text-align: center; vertical-align: top\"></td>\n",
        "        <td style=\"padding-left: 1em; padding-right: 1em; text-align: center; vertical-align: top\">93bad2c0</td>\n",
        "    </tr>\n",
        "    <tr>\n",
        "        <td style=\"padding-left: 1em; padding-right: 1em; text-align: center; vertical-align: top\">46f42a63</td>\n",
        "        <td style=\"padding-left: 1em; padding-right: 1em; text-align: center; vertical-align: top\">07d13a8f</td>\n",
        "        <td style=\"padding-left: 1em; padding-right: 1em; text-align: center; vertical-align: top\">18231224</td>\n",
        "        <td style=\"padding-left: 1em; padding-right: 1em; text-align: center; vertical-align: top\">e6b6bdc7</td>\n",
        "        <td style=\"padding-left: 1em; padding-right: 1em; text-align: center; vertical-align: top\">e5ba7672</td>\n",
        "        <td style=\"padding-left: 1em; padding-right: 1em; text-align: center; vertical-align: top\">74ef3502</td>\n",
        "        <td style=\"padding-left: 1em; padding-right: 1em; text-align: center; vertical-align: top\"></td>\n",
        "        <td style=\"padding-left: 1em; padding-right: 1em; text-align: center; vertical-align: top\"></td>\n",
        "        <td style=\"padding-left: 1em; padding-right: 1em; text-align: center; vertical-align: top\">5316a17f</td>\n",
        "        <td style=\"padding-left: 1em; padding-right: 1em; text-align: center; vertical-align: top\"></td>\n",
        "        <td style=\"padding-left: 1em; padding-right: 1em; text-align: center; vertical-align: top\">32c7478e</td>\n",
        "    </tr>\n",
        "    <tr>\n",
        "        <td style=\"padding-left: 1em; padding-right: 1em; text-align: center; vertical-align: top\">41a6ae00</td>\n",
        "        <td style=\"padding-left: 1em; padding-right: 1em; text-align: center; vertical-align: top\">b28479f6</td>\n",
        "        <td style=\"padding-left: 1em; padding-right: 1em; text-align: center; vertical-align: top\">e2502ec9</td>\n",
        "        <td style=\"padding-left: 1em; padding-right: 1em; text-align: center; vertical-align: top\">84898b2a</td>\n",
        "        <td style=\"padding-left: 1em; padding-right: 1em; text-align: center; vertical-align: top\">e5ba7672</td>\n",
        "        <td style=\"padding-left: 1em; padding-right: 1em; text-align: center; vertical-align: top\">42a2edb9</td>\n",
        "        <td style=\"padding-left: 1em; padding-right: 1em; text-align: center; vertical-align: top\"></td>\n",
        "        <td style=\"padding-left: 1em; padding-right: 1em; text-align: center; vertical-align: top\"></td>\n",
        "        <td style=\"padding-left: 1em; padding-right: 1em; text-align: center; vertical-align: top\">0014c32a</td>\n",
        "        <td style=\"padding-left: 1em; padding-right: 1em; text-align: center; vertical-align: top\"></td>\n",
        "        <td style=\"padding-left: 1em; padding-right: 1em; text-align: center; vertical-align: top\">32c7478e</td>\n",
        "    </tr>\n",
        "    <tr>\n",
        "        <td style=\"padding-left: 1em; padding-right: 1em; text-align: center; vertical-align: top\">3516f6e6</td>\n",
        "        <td style=\"padding-left: 1em; padding-right: 1em; text-align: center; vertical-align: top\">07d13a8f</td>\n",
        "        <td style=\"padding-left: 1em; padding-right: 1em; text-align: center; vertical-align: top\">2ae4121c</td>\n",
        "        <td style=\"padding-left: 1em; padding-right: 1em; text-align: center; vertical-align: top\">8ec71479</td>\n",
        "        <td style=\"padding-left: 1em; padding-right: 1em; text-align: center; vertical-align: top\">d4bb7bd8</td>\n",
        "        <td style=\"padding-left: 1em; padding-right: 1em; text-align: center; vertical-align: top\">70d0f5f9</td>\n",
        "        <td style=\"padding-left: 1em; padding-right: 1em; text-align: center; vertical-align: top\"></td>\n",
        "        <td style=\"padding-left: 1em; padding-right: 1em; text-align: center; vertical-align: top\"></td>\n",
        "        <td style=\"padding-left: 1em; padding-right: 1em; text-align: center; vertical-align: top\">0e63fca0</td>\n",
        "        <td style=\"padding-left: 1em; padding-right: 1em; text-align: center; vertical-align: top\"></td>\n",
        "        <td style=\"padding-left: 1em; padding-right: 1em; text-align: center; vertical-align: top\">32c7478e</td>\n",
        "    </tr>\n",
        "</table>\n",
        "<table frame=\"box\" rules=\"cols\">\n",
        "    <tr>\n",
        "        <th style=\"padding-left: 1em; padding-right: 1em; text-align: center\">C24</th>\n",
        "        <th style=\"padding-left: 1em; padding-right: 1em; text-align: center\">C25</th>\n",
        "        <th style=\"padding-left: 1em; padding-right: 1em; text-align: center\">...</th>\n",
        "    </tr>\n",
        "    <tr>\n",
        "        <td style=\"padding-left: 1em; padding-right: 1em; text-align: center; vertical-align: top\">c5c50484</td>\n",
        "        <td style=\"padding-left: 1em; padding-right: 1em; text-align: center; vertical-align: top\">e8b83407</td>\n",
        "        <td style=\"padding-left: 1em; padding-right: 1em; text-align: center; vertical-align: top\">...</td>\n",
        "    </tr>\n",
        "    <tr>\n",
        "        <td style=\"padding-left: 1em; padding-right: 1em; text-align: center; vertical-align: top\">43f13e8b</td>\n",
        "        <td style=\"padding-left: 1em; padding-right: 1em; text-align: center; vertical-align: top\">e8b83407</td>\n",
        "        <td style=\"padding-left: 1em; padding-right: 1em; text-align: center; vertical-align: top\">...</td>\n",
        "    </tr>\n",
        "    <tr>\n",
        "        <td style=\"padding-left: 1em; padding-right: 1em; text-align: center; vertical-align: top\">3b183c5c</td>\n",
        "        <td style=\"padding-left: 1em; padding-right: 1em; text-align: center; vertical-align: top\"></td>\n",
        "        <td style=\"padding-left: 1em; padding-right: 1em; text-align: center; vertical-align: top\">...</td>\n",
        "    </tr>\n",
        "    <tr>\n",
        "        <td style=\"padding-left: 1em; padding-right: 1em; text-align: center; vertical-align: top\">9117a34a</td>\n",
        "        <td style=\"padding-left: 1em; padding-right: 1em; text-align: center; vertical-align: top\"></td>\n",
        "        <td style=\"padding-left: 1em; padding-right: 1em; text-align: center; vertical-align: top\">...</td>\n",
        "    </tr>\n",
        "    <tr>\n",
        "        <td style=\"padding-left: 1em; padding-right: 1em; text-align: center; vertical-align: top\">b34f3128</td>\n",
        "        <td style=\"padding-left: 1em; padding-right: 1em; text-align: center; vertical-align: top\"></td>\n",
        "        <td style=\"padding-left: 1em; padding-right: 1em; text-align: center; vertical-align: top\">...</td>\n",
        "    </tr>\n",
        "    <tr>\n",
        "        <td style=\"padding-left: 1em; padding-right: 1em; text-align: center; vertical-align: top\">72c78f11</td>\n",
        "        <td style=\"padding-left: 1em; padding-right: 1em; text-align: center; vertical-align: top\"></td>\n",
        "        <td style=\"padding-left: 1em; padding-right: 1em; text-align: center; vertical-align: top\">...</td>\n",
        "    </tr>\n",
        "    <tr>\n",
        "        <td style=\"padding-left: 1em; padding-right: 1em; text-align: center; vertical-align: top\">1b256e61</td>\n",
        "        <td style=\"padding-left: 1em; padding-right: 1em; text-align: center; vertical-align: top\"></td>\n",
        "        <td style=\"padding-left: 1em; padding-right: 1em; text-align: center; vertical-align: top\">...</td>\n",
        "    </tr>\n",
        "    <tr>\n",
        "        <td style=\"padding-left: 1em; padding-right: 1em; text-align: center; vertical-align: top\">9117a34a</td>\n",
        "        <td style=\"padding-left: 1em; padding-right: 1em; text-align: center; vertical-align: top\"></td>\n",
        "        <td style=\"padding-left: 1em; padding-right: 1em; text-align: center; vertical-align: top\">...</td>\n",
        "    </tr>\n",
        "    <tr>\n",
        "        <td style=\"padding-left: 1em; padding-right: 1em; text-align: center; vertical-align: top\">3b183c5c</td>\n",
        "        <td style=\"padding-left: 1em; padding-right: 1em; text-align: center; vertical-align: top\"></td>\n",
        "        <td style=\"padding-left: 1em; padding-right: 1em; text-align: center; vertical-align: top\">...</td>\n",
        "    </tr>\n",
        "    <tr>\n",
        "        <td style=\"padding-left: 1em; padding-right: 1em; text-align: center; vertical-align: top\">0e8fe315</td>\n",
        "        <td style=\"padding-left: 1em; padding-right: 1em; text-align: center; vertical-align: top\"></td>\n",
        "        <td style=\"padding-left: 1em; padding-right: 1em; text-align: center; vertical-align: top\">...</td>\n",
        "    </tr>\n",
        "</table>\n",
        "[10 rows x 41 columns]<br/>\n",
        "</div>"
       ],
       "metadata": {},
       "output_type": "pyout",
       "prompt_number": 2,
       "text": [
        "Columns:\n",
        "\tId\tstr\n",
        "\tLabel\tint\n",
        "\tI1\tint\n",
        "\tI2\tint\n",
        "\tI3\tint\n",
        "\tI4\tint\n",
        "\tI5\tint\n",
        "\tI6\tint\n",
        "\tI7\tint\n",
        "\tI8\tint\n",
        "\tI9\tint\n",
        "\tI10\tint\n",
        "\tI11\tint\n",
        "\tI12\tint\n",
        "\tI13\tint\n",
        "\tC1\tstr\n",
        "\tC2\tstr\n",
        "\tC3\tstr\n",
        "\tC4\tstr\n",
        "\tC5\tstr\n",
        "\tC6\tstr\n",
        "\tC7\tstr\n",
        "\tC8\tstr\n",
        "\tC9\tstr\n",
        "\tC10\tstr\n",
        "\tC11\tstr\n",
        "\tC12\tstr\n",
        "\tC13\tstr\n",
        "\tC14\tstr\n",
        "\tC15\tstr\n",
        "\tC16\tstr\n",
        "\tC17\tstr\n",
        "\tC18\tstr\n",
        "\tC19\tstr\n",
        "\tC20\tstr\n",
        "\tC21\tstr\n",
        "\tC22\tstr\n",
        "\tC23\tstr\n",
        "\tC24\tstr\n",
        "\tC25\tstr\n",
        "\tC26\tstr\n",
        "\n",
        "Rows: 10\n",
        "\n",
        "Data:\n",
        "+----------+-------+------+-----+------+------+-------+------+----+----+-----+\n",
        "|    Id    | Label |  I1  |  I2 |  I3  |  I4  |   I5  |  I6  | I7 | I8 |  I9 |\n",
        "+----------+-------+------+-----+------+------+-------+------+----+----+-----+\n",
        "| 10000000 |   0   |  1   |  1  |  5   |  0   |  1382 |  4   | 15 | 2  | 181 |\n",
        "| 10000001 |   0   |  2   |  0  |  44  |  1   |  102  |  8   | 2  | 2  |  4  |\n",
        "| 10000002 |   0   |  2   |  0  |  1   |  14  |  767  |  89  | 4  | 2  | 245 |\n",
        "| 10000003 |   0   | None | 893 | None | None |  4392 | None | 0  | 0  |  0  |\n",
        "| 10000004 |   0   |  3   |  -1 | None |  0   |   2   |  0   | 3  | 0  |  0  |\n",
        "| 10000005 |   0   | None |  -1 | None | None | 12824 | None | 0  | 0  |  6  |\n",
        "| 10000006 |   0   | None |  1  |  2   | None |  3168 | None | 0  | 1  |  2  |\n",
        "| 10000007 |   1   |  1   |  4  |  2   |  0   |   0   |  0   | 1  | 0  |  0  |\n",
        "| 10000008 |   0   | None |  44 |  4   |  8   | 19010 | 249  | 28 | 31 | 141 |\n",
        "| 10000009 |   0   | None |  35 | None |  1   | 33737 |  21  | 1  | 2  |  3  |\n",
        "+----------+-------+------+-----+------+------+-------+------+----+----+-----+\n",
        "+------+-----+------+------+----------+----------+----------+----------+\n",
        "| I10  | I11 | I12  | I13  |    C1    |    C2    |    C3    |    C4    |\n",
        "+------+-----+------+------+----------+----------+----------+----------+\n",
        "|  1   |  2  | None |  2   | 68fd1e64 | 80e26c9b | fb936136 | 7b4723c4 |\n",
        "|  1   |  1  | None |  4   | 68fd1e64 | f0cf0024 | 6f67f7e5 | 41274cd7 |\n",
        "|  1   |  3  |  3   |  45  | 287e684f | 0a519c5c | 02cf9876 | c18be181 |\n",
        "| None |  0  | None | None | 68fd1e64 | 2c16a946 | a9a87e68 | 2e17d6f6 |\n",
        "|  1   |  1  | None |  0   | 8cf07265 | ae46a29d | c81688bb | f922efad |\n",
        "| None |  0  | None | None | 05db9164 | 6c9c9cf3 | 2730ec9c | 5400db8b |\n",
        "| None |  0  | None | None | 439a44a4 | ad4527a2 | c02372d0 | d34ebbaa |\n",
        "|  1   |  1  | None |  0   | 68fd1e64 | 2c16a946 | 503b9dbc | e4dbea90 |\n",
        "| None |  1  | None |  8   | 05db9164 | d833535f | d032c263 | c18be181 |\n",
        "| None |  1  | None |  1   | 05db9164 | 510b40a5 | d03e7c24 | eb1fd928 |\n",
        "+------+-----+------+------+----------+----------+----------+----------+\n",
        "+----------+-----+\n",
        "|    C5    | ... |\n",
        "+----------+-----+\n",
        "| 25c83c98 | ... |\n",
        "| 25c83c98 | ... |\n",
        "| 25c83c98 | ... |\n",
        "| 25c83c98 | ... |\n",
        "| 25c83c98 | ... |\n",
        "| 43b19349 | ... |\n",
        "| 43b19349 | ... |\n",
        "| f3474129 | ... |\n",
        "| 25c83c98 | ... |\n",
        "| 25c83c98 | ... |\n",
        "+----------+-----+\n",
        "[10 rows x 41 columns]"
       ]
      }
     ],
     "prompt_number": 2
    },
    {
     "cell_type": "code",
     "collapsed": false,
     "input": [
      "#training_good,training_bad=training_sframe.dropna_split()\n",
      "features = ['I1', 'I2', 'I3', 'I4', 'I5', 'I6','I7', 'I8', 'I9','I10',\n",
      "            'I11', 'I12', 'I13',\n",
      "            'C1', 'C2', 'C3','C4', 'C5', 'C6','C7', 'C8', 'C9','C10',\n",
      "            'C11', 'C12', 'C13','C14', 'C15', 'C16','C17', 'C18', 'C19','C20',\n",
      "            'C21', 'C22', 'C23','C24', 'C25', 'C26']"
     ],
     "language": "python",
     "metadata": {},
     "outputs": [],
     "prompt_number": 4
    },
    {
     "cell_type": "code",
     "collapsed": false,
     "input": [
      "# Missing Values\n",
      "for f in features:    \n",
      "    if (f[0]==\"I\"): training_sframe.fillna(f, training_sframe[f].mean())\n",
      "    #print test_sframe[f].dtype(), f[0]\n",
      "    #print test_sframe[f].mean()\n",
      "(train_set, test_set) = training_sframe.random_split(0.8, seed=1)"
     ],
     "language": "python",
     "metadata": {},
     "outputs": [],
     "prompt_number": 5
    },
    {
     "cell_type": "code",
     "collapsed": false,
     "input": [
      "# train a model\n",
      "m1 = gl.boosted_trees.create(train_set,  #training_sframe,\n",
      "                            features=features, \n",
      "                            target='Label', objective='classification',\n",
      "                            num_iterations=100)\n"
     ],
     "language": "python",
     "metadata": {},
     "outputs": [
      {
       "html": [
        "<pre>PROGRESS: [0]\ttrain-error:0.237665</pre>"
       ],
       "metadata": {},
       "output_type": "display_data",
       "text": [
        "PROGRESS: [0]\ttrain-error:0.237665"
       ]
      },
      {
       "html": [
        "<pre>PROGRESS: [1]\ttrain-error:0.236893</pre>"
       ],
       "metadata": {},
       "output_type": "display_data",
       "text": [
        "PROGRESS: [1]\ttrain-error:0.236893"
       ]
      },
      {
       "html": [
        "<pre>PROGRESS: [2]\ttrain-error:0.236237</pre>"
       ],
       "metadata": {},
       "output_type": "display_data",
       "text": [
        "PROGRESS: [2]\ttrain-error:0.236237"
       ]
      },
      {
       "html": [
        "<pre>PROGRESS: [3]\ttrain-error:0.235138</pre>"
       ],
       "metadata": {},
       "output_type": "display_data",
       "text": [
        "PROGRESS: [3]\ttrain-error:0.235138"
       ]
      },
      {
       "html": [
        "<pre>PROGRESS: [4]\ttrain-error:0.234544</pre>"
       ],
       "metadata": {},
       "output_type": "display_data",
       "text": [
        "PROGRESS: [4]\ttrain-error:0.234544"
       ]
      },
      {
       "html": [
        "<pre>PROGRESS: [5]\ttrain-error:0.233662</pre>"
       ],
       "metadata": {},
       "output_type": "display_data",
       "text": [
        "PROGRESS: [5]\ttrain-error:0.233662"
       ]
      },
      {
       "html": [
        "<pre>PROGRESS: [6]\ttrain-error:0.232881</pre>"
       ],
       "metadata": {},
       "output_type": "display_data",
       "text": [
        "PROGRESS: [6]\ttrain-error:0.232881"
       ]
      },
      {
       "html": [
        "<pre>PROGRESS: [7]\ttrain-error:0.232166</pre>"
       ],
       "metadata": {},
       "output_type": "display_data",
       "text": [
        "PROGRESS: [7]\ttrain-error:0.232166"
       ]
      },
      {
       "html": [
        "<pre>PROGRESS: [8]\ttrain-error:0.231473</pre>"
       ],
       "metadata": {},
       "output_type": "display_data",
       "text": [
        "PROGRESS: [8]\ttrain-error:0.231473"
       ]
      },
      {
       "html": [
        "<pre>PROGRESS: [9]\ttrain-error:0.230999</pre>"
       ],
       "metadata": {},
       "output_type": "display_data",
       "text": [
        "PROGRESS: [9]\ttrain-error:0.230999"
       ]
      },
      {
       "html": [
        "<pre>PROGRESS: [10]\ttrain-error:0.230371</pre>"
       ],
       "metadata": {},
       "output_type": "display_data",
       "text": [
        "PROGRESS: [10]\ttrain-error:0.230371"
       ]
      },
      {
       "html": [
        "<pre>PROGRESS: [11]\ttrain-error:0.230011</pre>"
       ],
       "metadata": {},
       "output_type": "display_data",
       "text": [
        "PROGRESS: [11]\ttrain-error:0.230011"
       ]
      },
      {
       "html": [
        "<pre>PROGRESS: [12]\ttrain-error:0.229346</pre>"
       ],
       "metadata": {},
       "output_type": "display_data",
       "text": [
        "PROGRESS: [12]\ttrain-error:0.229346"
       ]
      },
      {
       "html": [
        "<pre>PROGRESS: [13]\ttrain-error:0.228985</pre>"
       ],
       "metadata": {},
       "output_type": "display_data",
       "text": [
        "PROGRESS: [13]\ttrain-error:0.228985"
       ]
      },
      {
       "html": [
        "<pre>PROGRESS: [14]\ttrain-error:0.228424</pre>"
       ],
       "metadata": {},
       "output_type": "display_data",
       "text": [
        "PROGRESS: [14]\ttrain-error:0.228424"
       ]
      },
      {
       "html": [
        "<pre>PROGRESS: [15]\ttrain-error:0.227837</pre>"
       ],
       "metadata": {},
       "output_type": "display_data",
       "text": [
        "PROGRESS: [15]\ttrain-error:0.227837"
       ]
      },
      {
       "html": [
        "<pre>PROGRESS: [16]\ttrain-error:0.227524</pre>"
       ],
       "metadata": {},
       "output_type": "display_data",
       "text": [
        "PROGRESS: [16]\ttrain-error:0.227524"
       ]
      },
      {
       "html": [
        "<pre>PROGRESS: [17]\ttrain-error:0.227246</pre>"
       ],
       "metadata": {},
       "output_type": "display_data",
       "text": [
        "PROGRESS: [17]\ttrain-error:0.227246"
       ]
      },
      {
       "html": [
        "<pre>PROGRESS: [18]\ttrain-error:0.226749</pre>"
       ],
       "metadata": {},
       "output_type": "display_data",
       "text": [
        "PROGRESS: [18]\ttrain-error:0.226749"
       ]
      },
      {
       "html": [
        "<pre>PROGRESS: [19]\ttrain-error:0.226590</pre>"
       ],
       "metadata": {},
       "output_type": "display_data",
       "text": [
        "PROGRESS: [19]\ttrain-error:0.226590"
       ]
      },
      {
       "html": [
        "<pre>PROGRESS: [20]\ttrain-error:0.226362</pre>"
       ],
       "metadata": {},
       "output_type": "display_data",
       "text": [
        "PROGRESS: [20]\ttrain-error:0.226362"
       ]
      },
      {
       "html": [
        "<pre>PROGRESS: [21]\ttrain-error:0.226275</pre>"
       ],
       "metadata": {},
       "output_type": "display_data",
       "text": [
        "PROGRESS: [21]\ttrain-error:0.226275"
       ]
      },
      {
       "html": [
        "<pre>PROGRESS: [22]\ttrain-error:0.226039</pre>"
       ],
       "metadata": {},
       "output_type": "display_data",
       "text": [
        "PROGRESS: [22]\ttrain-error:0.226039"
       ]
      },
      {
       "html": [
        "<pre>PROGRESS: [23]\ttrain-error:0.225871</pre>"
       ],
       "metadata": {},
       "output_type": "display_data",
       "text": [
        "PROGRESS: [23]\ttrain-error:0.225871"
       ]
      },
      {
       "html": [
        "<pre>PROGRESS: [24]\ttrain-error:0.225736</pre>"
       ],
       "metadata": {},
       "output_type": "display_data",
       "text": [
        "PROGRESS: [24]\ttrain-error:0.225736"
       ]
      },
      {
       "html": [
        "<pre>PROGRESS: [25]\ttrain-error:0.225568</pre>"
       ],
       "metadata": {},
       "output_type": "display_data",
       "text": [
        "PROGRESS: [25]\ttrain-error:0.225568"
       ]
      },
      {
       "html": [
        "<pre>PROGRESS: [26]\ttrain-error:0.225368</pre>"
       ],
       "metadata": {},
       "output_type": "display_data",
       "text": [
        "PROGRESS: [26]\ttrain-error:0.225368"
       ]
      },
      {
       "html": [
        "<pre>PROGRESS: [27]\ttrain-error:0.225199</pre>"
       ],
       "metadata": {},
       "output_type": "display_data",
       "text": [
        "PROGRESS: [27]\ttrain-error:0.225199"
       ]
      },
      {
       "html": [
        "<pre>PROGRESS: [28]\ttrain-error:0.225032</pre>"
       ],
       "metadata": {},
       "output_type": "display_data",
       "text": [
        "PROGRESS: [28]\ttrain-error:0.225032"
       ]
      },
      {
       "html": [
        "<pre>PROGRESS: [29]\ttrain-error:0.224906</pre>"
       ],
       "metadata": {},
       "output_type": "display_data",
       "text": [
        "PROGRESS: [29]\ttrain-error:0.224906"
       ]
      },
      {
       "html": [
        "<pre>PROGRESS: [30]\ttrain-error:0.224642</pre>"
       ],
       "metadata": {},
       "output_type": "display_data",
       "text": [
        "PROGRESS: [30]\ttrain-error:0.224642"
       ]
      },
      {
       "html": [
        "<pre>PROGRESS: [31]\ttrain-error:0.224540</pre>"
       ],
       "metadata": {},
       "output_type": "display_data",
       "text": [
        "PROGRESS: [31]\ttrain-error:0.224540"
       ]
      },
      {
       "html": [
        "<pre>PROGRESS: [32]\ttrain-error:0.224413</pre>"
       ],
       "metadata": {},
       "output_type": "display_data",
       "text": [
        "PROGRESS: [32]\ttrain-error:0.224413"
       ]
      },
      {
       "html": [
        "<pre>PROGRESS: [33]\ttrain-error:0.224311</pre>"
       ],
       "metadata": {},
       "output_type": "display_data",
       "text": [
        "PROGRESS: [33]\ttrain-error:0.224311"
       ]
      },
      {
       "html": [
        "<pre>PROGRESS: [34]\ttrain-error:0.224234</pre>"
       ],
       "metadata": {},
       "output_type": "display_data",
       "text": [
        "PROGRESS: [34]\ttrain-error:0.224234"
       ]
      },
      {
       "html": [
        "<pre>PROGRESS: [35]\ttrain-error:0.224151</pre>"
       ],
       "metadata": {},
       "output_type": "display_data",
       "text": [
        "PROGRESS: [35]\ttrain-error:0.224151"
       ]
      },
      {
       "html": [
        "<pre>PROGRESS: [36]\ttrain-error:0.224059</pre>"
       ],
       "metadata": {},
       "output_type": "display_data",
       "text": [
        "PROGRESS: [36]\ttrain-error:0.224059"
       ]
      },
      {
       "html": [
        "<pre>PROGRESS: [37]\ttrain-error:0.223887</pre>"
       ],
       "metadata": {},
       "output_type": "display_data",
       "text": [
        "PROGRESS: [37]\ttrain-error:0.223887"
       ]
      },
      {
       "html": [
        "<pre>PROGRESS: [38]\ttrain-error:0.223711</pre>"
       ],
       "metadata": {},
       "output_type": "display_data",
       "text": [
        "PROGRESS: [38]\ttrain-error:0.223711"
       ]
      },
      {
       "html": [
        "<pre>PROGRESS: [39]\ttrain-error:0.223538</pre>"
       ],
       "metadata": {},
       "output_type": "display_data",
       "text": [
        "PROGRESS: [39]\ttrain-error:0.223538"
       ]
      },
      {
       "html": [
        "<pre>PROGRESS: [40]\ttrain-error:0.223430</pre>"
       ],
       "metadata": {},
       "output_type": "display_data",
       "text": [
        "PROGRESS: [40]\ttrain-error:0.223430"
       ]
      },
      {
       "html": [
        "<pre>PROGRESS: [41]\ttrain-error:0.223328</pre>"
       ],
       "metadata": {},
       "output_type": "display_data",
       "text": [
        "PROGRESS: [41]\ttrain-error:0.223328"
       ]
      },
      {
       "html": [
        "<pre>PROGRESS: [42]\ttrain-error:0.223234</pre>"
       ],
       "metadata": {},
       "output_type": "display_data",
       "text": [
        "PROGRESS: [42]\ttrain-error:0.223234"
       ]
      },
      {
       "html": [
        "<pre>PROGRESS: [43]\ttrain-error:0.223147</pre>"
       ],
       "metadata": {},
       "output_type": "display_data",
       "text": [
        "PROGRESS: [43]\ttrain-error:0.223147"
       ]
      },
      {
       "html": [
        "<pre>PROGRESS: [44]\ttrain-error:0.223048</pre>"
       ],
       "metadata": {},
       "output_type": "display_data",
       "text": [
        "PROGRESS: [44]\ttrain-error:0.223048"
       ]
      },
      {
       "html": [
        "<pre>PROGRESS: [45]\ttrain-error:0.222896</pre>"
       ],
       "metadata": {},
       "output_type": "display_data",
       "text": [
        "PROGRESS: [45]\ttrain-error:0.222896"
       ]
      },
      {
       "html": [
        "<pre>PROGRESS: [46]\ttrain-error:0.222808</pre>"
       ],
       "metadata": {},
       "output_type": "display_data",
       "text": [
        "PROGRESS: [46]\ttrain-error:0.222808"
       ]
      },
      {
       "html": [
        "<pre>PROGRESS: [47]\ttrain-error:0.222726</pre>"
       ],
       "metadata": {},
       "output_type": "display_data",
       "text": [
        "PROGRESS: [47]\ttrain-error:0.222726"
       ]
      },
      {
       "html": [
        "<pre>PROGRESS: [48]\ttrain-error:0.222571</pre>"
       ],
       "metadata": {},
       "output_type": "display_data",
       "text": [
        "PROGRESS: [48]\ttrain-error:0.222571"
       ]
      },
      {
       "html": [
        "<pre>PROGRESS: [49]\ttrain-error:0.222506</pre>"
       ],
       "metadata": {},
       "output_type": "display_data",
       "text": [
        "PROGRESS: [49]\ttrain-error:0.222506"
       ]
      },
      {
       "html": [
        "<pre>PROGRESS: [50]\ttrain-error:0.222405</pre>"
       ],
       "metadata": {},
       "output_type": "display_data",
       "text": [
        "PROGRESS: [50]\ttrain-error:0.222405"
       ]
      },
      {
       "html": [
        "<pre>PROGRESS: [51]\ttrain-error:0.222317</pre>"
       ],
       "metadata": {},
       "output_type": "display_data",
       "text": [
        "PROGRESS: [51]\ttrain-error:0.222317"
       ]
      },
      {
       "html": [
        "<pre>PROGRESS: [52]\ttrain-error:0.222198</pre>"
       ],
       "metadata": {},
       "output_type": "display_data",
       "text": [
        "PROGRESS: [52]\ttrain-error:0.222198"
       ]
      },
      {
       "html": [
        "<pre>PROGRESS: [53]\ttrain-error:0.222089</pre>"
       ],
       "metadata": {},
       "output_type": "display_data",
       "text": [
        "PROGRESS: [53]\ttrain-error:0.222089"
       ]
      },
      {
       "html": [
        "<pre>PROGRESS: [54]\ttrain-error:0.222047</pre>"
       ],
       "metadata": {},
       "output_type": "display_data",
       "text": [
        "PROGRESS: [54]\ttrain-error:0.222047"
       ]
      },
      {
       "html": [
        "<pre>PROGRESS: [55]\ttrain-error:0.221987</pre>"
       ],
       "metadata": {},
       "output_type": "display_data",
       "text": [
        "PROGRESS: [55]\ttrain-error:0.221987"
       ]
      },
      {
       "html": [
        "<pre>PROGRESS: [56]\ttrain-error:0.221938</pre>"
       ],
       "metadata": {},
       "output_type": "display_data",
       "text": [
        "PROGRESS: [56]\ttrain-error:0.221938"
       ]
      },
      {
       "html": [
        "<pre>PROGRESS: [57]\ttrain-error:0.221866</pre>"
       ],
       "metadata": {},
       "output_type": "display_data",
       "text": [
        "PROGRESS: [57]\ttrain-error:0.221866"
       ]
      },
      {
       "html": [
        "<pre>PROGRESS: [58]\ttrain-error:0.221813</pre>"
       ],
       "metadata": {},
       "output_type": "display_data",
       "text": [
        "PROGRESS: [58]\ttrain-error:0.221813"
       ]
      },
      {
       "html": [
        "<pre>PROGRESS: [59]\ttrain-error:0.221766</pre>"
       ],
       "metadata": {},
       "output_type": "display_data",
       "text": [
        "PROGRESS: [59]\ttrain-error:0.221766"
       ]
      },
      {
       "html": [
        "<pre>PROGRESS: [60]\ttrain-error:0.221674</pre>"
       ],
       "metadata": {},
       "output_type": "display_data",
       "text": [
        "PROGRESS: [60]\ttrain-error:0.221674"
       ]
      },
      {
       "html": [
        "<pre>PROGRESS: [61]\ttrain-error:0.221621</pre>"
       ],
       "metadata": {},
       "output_type": "display_data",
       "text": [
        "PROGRESS: [61]\ttrain-error:0.221621"
       ]
      },
      {
       "html": [
        "<pre>PROGRESS: [62]\ttrain-error:0.221577</pre>"
       ],
       "metadata": {},
       "output_type": "display_data",
       "text": [
        "PROGRESS: [62]\ttrain-error:0.221577"
       ]
      },
      {
       "html": [
        "<pre>PROGRESS: [63]\ttrain-error:0.221472</pre>"
       ],
       "metadata": {},
       "output_type": "display_data",
       "text": [
        "PROGRESS: [63]\ttrain-error:0.221472"
       ]
      },
      {
       "html": [
        "<pre>PROGRESS: [64]\ttrain-error:0.221429</pre>"
       ],
       "metadata": {},
       "output_type": "display_data",
       "text": [
        "PROGRESS: [64]\ttrain-error:0.221429"
       ]
      },
      {
       "html": [
        "<pre>PROGRESS: [65]\ttrain-error:0.221199</pre>"
       ],
       "metadata": {},
       "output_type": "display_data",
       "text": [
        "PROGRESS: [65]\ttrain-error:0.221199"
       ]
      },
      {
       "html": [
        "<pre>PROGRESS: [66]\ttrain-error:0.221061</pre>"
       ],
       "metadata": {},
       "output_type": "display_data",
       "text": [
        "PROGRESS: [66]\ttrain-error:0.221061"
       ]
      },
      {
       "html": [
        "<pre>PROGRESS: [67]\ttrain-error:0.220960</pre>"
       ],
       "metadata": {},
       "output_type": "display_data",
       "text": [
        "PROGRESS: [67]\ttrain-error:0.220960"
       ]
      },
      {
       "html": [
        "<pre>PROGRESS: [68]\ttrain-error:0.220935</pre>"
       ],
       "metadata": {},
       "output_type": "display_data",
       "text": [
        "PROGRESS: [68]\ttrain-error:0.220935"
       ]
      },
      {
       "html": [
        "<pre>PROGRESS: [69]\ttrain-error:0.220886</pre>"
       ],
       "metadata": {},
       "output_type": "display_data",
       "text": [
        "PROGRESS: [69]\ttrain-error:0.220886"
       ]
      },
      {
       "html": [
        "<pre>PROGRESS: [70]\ttrain-error:0.220834</pre>"
       ],
       "metadata": {},
       "output_type": "display_data",
       "text": [
        "PROGRESS: [70]\ttrain-error:0.220834"
       ]
      },
      {
       "html": [
        "<pre>PROGRESS: [71]\ttrain-error:0.220709</pre>"
       ],
       "metadata": {},
       "output_type": "display_data",
       "text": [
        "PROGRESS: [71]\ttrain-error:0.220709"
       ]
      },
      {
       "html": [
        "<pre>PROGRESS: [72]\ttrain-error:0.220636</pre>"
       ],
       "metadata": {},
       "output_type": "display_data",
       "text": [
        "PROGRESS: [72]\ttrain-error:0.220636"
       ]
      },
      {
       "html": [
        "<pre>PROGRESS: [73]\ttrain-error:0.220593</pre>"
       ],
       "metadata": {},
       "output_type": "display_data",
       "text": [
        "PROGRESS: [73]\ttrain-error:0.220593"
       ]
      },
      {
       "html": [
        "<pre>PROGRESS: [74]\ttrain-error:0.220501</pre>"
       ],
       "metadata": {},
       "output_type": "display_data",
       "text": [
        "PROGRESS: [74]\ttrain-error:0.220501"
       ]
      },
      {
       "html": [
        "<pre>PROGRESS: [75]\ttrain-error:0.220436</pre>"
       ],
       "metadata": {},
       "output_type": "display_data",
       "text": [
        "PROGRESS: [75]\ttrain-error:0.220436"
       ]
      },
      {
       "html": [
        "<pre>PROGRESS: [76]\ttrain-error:0.220386</pre>"
       ],
       "metadata": {},
       "output_type": "display_data",
       "text": [
        "PROGRESS: [76]\ttrain-error:0.220386"
       ]
      },
      {
       "html": [
        "<pre>PROGRESS: [77]\ttrain-error:0.220345</pre>"
       ],
       "metadata": {},
       "output_type": "display_data",
       "text": [
        "PROGRESS: [77]\ttrain-error:0.220345"
       ]
      },
      {
       "html": [
        "<pre>PROGRESS: [78]\ttrain-error:0.220269</pre>"
       ],
       "metadata": {},
       "output_type": "display_data",
       "text": [
        "PROGRESS: [78]\ttrain-error:0.220269"
       ]
      },
      {
       "html": [
        "<pre>PROGRESS: [79]\ttrain-error:0.220207</pre>"
       ],
       "metadata": {},
       "output_type": "display_data",
       "text": [
        "PROGRESS: [79]\ttrain-error:0.220207"
       ]
      },
      {
       "html": [
        "<pre>PROGRESS: [80]\ttrain-error:0.220142</pre>"
       ],
       "metadata": {},
       "output_type": "display_data",
       "text": [
        "PROGRESS: [80]\ttrain-error:0.220142"
       ]
      },
      {
       "html": [
        "<pre>PROGRESS: [81]\ttrain-error:0.220078</pre>"
       ],
       "metadata": {},
       "output_type": "display_data",
       "text": [
        "PROGRESS: [81]\ttrain-error:0.220078"
       ]
      },
      {
       "html": [
        "<pre>PROGRESS: [82]\ttrain-error:0.220027</pre>"
       ],
       "metadata": {},
       "output_type": "display_data",
       "text": [
        "PROGRESS: [82]\ttrain-error:0.220027"
       ]
      },
      {
       "html": [
        "<pre>PROGRESS: [83]\ttrain-error:0.220001</pre>"
       ],
       "metadata": {},
       "output_type": "display_data",
       "text": [
        "PROGRESS: [83]\ttrain-error:0.220001"
       ]
      },
      {
       "html": [
        "<pre>PROGRESS: [84]\ttrain-error:0.219936</pre>"
       ],
       "metadata": {},
       "output_type": "display_data",
       "text": [
        "PROGRESS: [84]\ttrain-error:0.219936"
       ]
      },
      {
       "html": [
        "<pre>PROGRESS: [85]\ttrain-error:0.219800</pre>"
       ],
       "metadata": {},
       "output_type": "display_data",
       "text": [
        "PROGRESS: [85]\ttrain-error:0.219800"
       ]
      },
      {
       "html": [
        "<pre>PROGRESS: [86]\ttrain-error:0.219653</pre>"
       ],
       "metadata": {},
       "output_type": "display_data",
       "text": [
        "PROGRESS: [86]\ttrain-error:0.219653"
       ]
      },
      {
       "html": [
        "<pre>PROGRESS: [87]\ttrain-error:0.219615</pre>"
       ],
       "metadata": {},
       "output_type": "display_data",
       "text": [
        "PROGRESS: [87]\ttrain-error:0.219615"
       ]
      },
      {
       "html": [
        "<pre>PROGRESS: [88]\ttrain-error:0.219561</pre>"
       ],
       "metadata": {},
       "output_type": "display_data",
       "text": [
        "PROGRESS: [88]\ttrain-error:0.219561"
       ]
      },
      {
       "html": [
        "<pre>PROGRESS: [89]\ttrain-error:0.219495</pre>"
       ],
       "metadata": {},
       "output_type": "display_data",
       "text": [
        "PROGRESS: [89]\ttrain-error:0.219495"
       ]
      },
      {
       "html": [
        "<pre>PROGRESS: [90]\ttrain-error:0.219454</pre>"
       ],
       "metadata": {},
       "output_type": "display_data",
       "text": [
        "PROGRESS: [90]\ttrain-error:0.219454"
       ]
      },
      {
       "html": [
        "<pre>PROGRESS: [91]\ttrain-error:0.219404</pre>"
       ],
       "metadata": {},
       "output_type": "display_data",
       "text": [
        "PROGRESS: [91]\ttrain-error:0.219404"
       ]
      },
      {
       "html": [
        "<pre>PROGRESS: [92]\ttrain-error:0.219310</pre>"
       ],
       "metadata": {},
       "output_type": "display_data",
       "text": [
        "PROGRESS: [92]\ttrain-error:0.219310"
       ]
      },
      {
       "html": [
        "<pre>PROGRESS: [93]\ttrain-error:0.219252</pre>"
       ],
       "metadata": {},
       "output_type": "display_data",
       "text": [
        "PROGRESS: [93]\ttrain-error:0.219252"
       ]
      },
      {
       "html": [
        "<pre>PROGRESS: [94]\ttrain-error:0.219223</pre>"
       ],
       "metadata": {},
       "output_type": "display_data",
       "text": [
        "PROGRESS: [94]\ttrain-error:0.219223"
       ]
      },
      {
       "html": [
        "<pre>PROGRESS: [95]\ttrain-error:0.219050</pre>"
       ],
       "metadata": {},
       "output_type": "display_data",
       "text": [
        "PROGRESS: [95]\ttrain-error:0.219050"
       ]
      },
      {
       "html": [
        "<pre>PROGRESS: [96]\ttrain-error:0.219026</pre>"
       ],
       "metadata": {},
       "output_type": "display_data",
       "text": [
        "PROGRESS: [96]\ttrain-error:0.219026"
       ]
      },
      {
       "html": [
        "<pre>PROGRESS: [97]\ttrain-error:0.218984</pre>"
       ],
       "metadata": {},
       "output_type": "display_data",
       "text": [
        "PROGRESS: [97]\ttrain-error:0.218984"
       ]
      },
      {
       "html": [
        "<pre>PROGRESS: [98]\ttrain-error:0.218927</pre>"
       ],
       "metadata": {},
       "output_type": "display_data",
       "text": [
        "PROGRESS: [98]\ttrain-error:0.218927"
       ]
      },
      {
       "html": [
        "<pre>PROGRESS: [99]\ttrain-error:0.218874</pre>"
       ],
       "metadata": {},
       "output_type": "display_data",
       "text": [
        "PROGRESS: [99]\ttrain-error:0.218874"
       ]
      }
     ],
     "prompt_number": 7
    },
    {
     "cell_type": "code",
     "collapsed": false,
     "input": [
      "# test the prediction of training sample\n",
      "pred1 = m1.predict(train_set)\n",
      "# Confusion matrix\n",
      "gl.evaluation.confusion_matrix(train_set['Label'], pred1)  # threshold\n",
      "gl.evaluation.accuracy(train_set['Label'], pred1)"
     ],
     "language": "python",
     "metadata": {},
     "outputs": [
      {
       "metadata": {},
       "output_type": "pyout",
       "prompt_number": 12,
       "text": [
        "0.781125978097711"
       ]
      }
     ],
     "prompt_number": 12
    },
    {
     "cell_type": "code",
     "collapsed": false,
     "input": [
      "# Confusion matrix\n",
      "print gl.evaluation.confusion_matrix(test_set['Label'], pred1)  # threshold\n",
      "print gl.evaluation.accuracy(test_set['Label'], pred1)"
     ],
     "language": "python",
     "metadata": {},
     "outputs": [
      {
       "output_type": "stream",
       "stream": "stdout",
       "text": [
        "{'true_negative': 1426386, 'false_positive': 71215, 'true_positive': 134555, 'false_negative': 367493}\n",
        "0.780607496616"
       ]
      },
      {
       "output_type": "stream",
       "stream": "stdout",
       "text": [
        "\n"
       ]
      }
     ],
     "prompt_number": 16
    },
    {
     "cell_type": "code",
     "collapsed": false,
     "input": [
      "import numpy as np\n",
      "def rmse(predictions, targets):\n",
      "    return np.sqrt( ((predictions - targets) *(predictions - targets)).mean())\n",
      "rmse(train_set['Label']+1, pred1)"
     ],
     "language": "python",
     "metadata": {},
     "outputs": [
      {
       "metadata": {},
       "output_type": "pyout",
       "prompt_number": 13,
       "text": [
        "1.073862391574504"
       ]
      }
     ],
     "prompt_number": 13
    },
    {
     "cell_type": "code",
     "collapsed": false,
     "input": [
      "# validation sample\n",
      "pred1 = m1.predict(test_set)\n",
      "rmse(test_set['Label']+1, pred1)"
     ],
     "language": "python",
     "metadata": {},
     "outputs": [
      {
       "metadata": {},
       "output_type": "pyout",
       "prompt_number": 14,
       "text": [
        "1.073964150537426"
       ]
      }
     ],
     "prompt_number": 14
    },
    {
     "cell_type": "code",
     "collapsed": false,
     "input": [
      "# Confusion matrix\n",
      "gl.evaluation.confusion_matrix(test_set['Label'], pred1)  # threshold\n",
      "gl.evaluation.accuracy(test_set['Label'], pred1)"
     ],
     "language": "python",
     "metadata": {},
     "outputs": [
      {
       "metadata": {},
       "output_type": "pyout",
       "prompt_number": 15,
       "text": [
        "0.7806074966156561"
       ]
      }
     ],
     "prompt_number": 15
    },
    {
     "cell_type": "code",
     "collapsed": false,
     "input": [
      "# test set\n",
      "for f in features:    \n",
      "    #test_sframe[f] = test_sframe[f].apply(lambda x : 0  )\n",
      "    print f,test_sframe[f].head(3)\n",
      "    if (f[0]==\"I\"): test_sframe.fillna(f, test_sframe[f].mean())    "
     ],
     "language": "python",
     "metadata": {},
     "outputs": []
    },
    {
     "cell_type": "code",
     "collapsed": false,
     "input": [
      "# predict on test data\n",
      "prediction = m.predict(test_sframe)  #sframe)\n",
      "prediction = prediction.astype(int)"
     ],
     "language": "python",
     "metadata": {},
     "outputs": []
    },
    {
     "cell_type": "code",
     "collapsed": false,
     "input": [
      "#submission\n",
      "def make_submission(prediction, filename='submission.txt'):\n",
      "    with open(filename, 'w') as f:\n",
      "        f.write('Id,Predicted\\n')\n",
      "        submission_strings = test_sframe['Id'] + ',' + prediction.astype(str)\n",
      "        for row in submission_strings:\n",
      "            f.write(row + '\\n')\n",
      "\n",
      "make_submission(prediction, 'submission1.txt')"
     ],
     "language": "python",
     "metadata": {},
     "outputs": []
    },
    {
     "cell_type": "code",
     "collapsed": false,
     "input": [
      "#Define the search space\n",
      "ntrees = 500\n",
      "search_space = {\n",
      "    'params': {\n",
      "        'max_depth': [10],\n",
      "        'min_child_weight': [5, 20],\n",
      "        'step_size': 0.05,\n",
      "    },\n",
      "    'num_iterations': [ntrees]\n",
      "}\n",
      "\n",
      "def parameter_search(training_url, validation_url, default_params):\n",
      "    \"\"\"\n",
      "    Return the optimal parameters in the given search space.\n",
      "    The parameter returned has the lowest validation rmse.\n",
      "    \"\"\"\n",
      "    job = gl.toolkits.model_parameter_search(env, gl.boosted_trees.create,\n",
      "                                             train_set_path=training_url,\n",
      "                                             save_path='/tmp/job_output',\n",
      "                                             standard_model_params=default_params,\n",
      "                                             hyper_params=search_space,\n",
      "                                             test_set_path=validation_url)\n",
      "\n",
      "\n",
      "    # When the job is done, the result is stored in an SFrame\n",
      "    # The result contains attributes of the models in the search space\n",
      "    # and the validation error in RMSE. \n",
      "    result = gl.SFrame('/tmp/job_output').sort('rmse', ascending=True)\n",
      "\n",
      "    # Return the parameters with the lowest validation error. \n",
      "    optimal_params = result[['max_depth', 'min_child_weight']][0]\n",
      "    optimal_rmse = result['rmse'][0]\n",
      "    print 'Optimal parameters: %s' % str(optimal_params)\n",
      "    print 'RMSE: %s' % str(optimal_rmse)\n",
      "    return optimal_params\n"
     ],
     "language": "python",
     "metadata": {},
     "outputs": []
    },
    {
     "cell_type": "code",
     "collapsed": false,
     "input": [
      "env = gl.deploy.environment.Local('hyperparam_search')\n",
      "\n",
      "train_set.save(\"/tmp/train_set\")\n",
      "test_set.save(\"/tmp/test_set\")"
     ],
     "language": "python",
     "metadata": {},
     "outputs": []
    },
    {
     "cell_type": "code",
     "collapsed": false,
     "input": [
      "#Perform hyperparameter search\n",
      "fixed_params = {'features': features,\n",
      "                'target':'Label',\n",
      "                'verbose': False\n",
      "                }\n",
      "#Perform hyperparameter search \n",
      "\n",
      "params_found = parameter_search('/tmp/train_set',\n",
      "                                         '/tmp/test_set',\n",
      "                                         fixed_params)"
     ],
     "language": "python",
     "metadata": {},
     "outputs": []
    },
    {
     "cell_type": "code",
     "collapsed": false,
     "input": [
      "#result = gl.SFrame('/tmp/job_output1').sort('rmse', ascending=True)\n",
      "#result\n",
      "params_found"
     ],
     "language": "python",
     "metadata": {},
     "outputs": []
    },
    {
     "cell_type": "code",
     "collapsed": false,
     "input": [
      "#Train models with the tuned hyperparameters\n",
      "#Doing hyperparameter search requires us to hold out a validation set from the original training data. In the final submission, we want to train models that take full advantages of the provided training data.\n",
      "\n",
      "m2 = gl.boosted_trees.create(training_sframe,\n",
      "                                           features=features,\n",
      "                                           target='Label',\n",
      "                                           num_iterations=ntrees,\n",
      "                                           params=params_found,\n",
      "                                           verbose=False)\n",
      "\n",
      "\n",
      "# predict on test data\n",
      "prediction2 = m2.predict(test_sframe)  #sframe)\n",
      "prediction2 = prediction.astype(int)\n",
      "\n",
      "\n",
      "make_submission(prediction2, 'submission2.txt')"
     ],
     "language": "python",
     "metadata": {},
     "outputs": []
    },
    {
     "cell_type": "code",
     "collapsed": false,
     "input": [],
     "language": "python",
     "metadata": {},
     "outputs": []
    }
   ],
   "metadata": {}
  }
 ]
}