{
 "metadata": {
  "name": "",
  "signature": "sha256:6eecac47f8562b659ce253d8211b26a6682b4219b4b57535d11bf31e93caae16"
 },
 "nbformat": 3,
 "nbformat_minor": 0,
 "worksheets": [
  {
   "cells": [
    {
     "cell_type": "code",
     "collapsed": false,
     "input": [
      "import graphlab as gl\n",
      "\n",
      "# load training data\n",
      "training_column_types = [str, int,\n",
      "                         int, int, int, int, int, int, int, int, int, int,\n",
      "                         int, int, int,\n",
      "                         str, str, str, str, str, str, str, str, str, str,\n",
      "                         str, str, str, str, str, str, str, str, str, str,\n",
      "                         str, str, str, str, str, str]\n",
      "training_sframe = gl.SFrame.read_csv('train.csv', column_type_hints=training_column_types, nrows=100000) #rows=\n",
      "#raining_sframe.show()\n",
      "\n",
      "#test = gl.SFrame.read_csv('test.csv', column_type_hints=training_column_types)\n",
      "#test.show()\n",
      "\n",
      "# load test data\n",
      "test_column_types     = [str,\n",
      "                         int, int, int, int, int, int, int, int, int, int,\n",
      "                         int, int, int,\n",
      "                         str, str, str, str, str, str, str, str, str, str,\n",
      "                         str, str, str, str, str, str, str, str, str, str,\n",
      "                         str, str, str, str, str, str]\n",
      "test_sframe = gl.SFrame.read_csv('test.csv', column_type_hints=test_column_types, nrows = 1000)\n",
      "\n"
     ],
     "language": "python",
     "metadata": {},
     "outputs": [
      {
       "html": [
        "<pre>PROGRESS: Finished parsing file /home/wenfeng/work/datasciencecoursera/kaggle/DisplayAds/train.csv</pre>"
       ],
       "metadata": {},
       "output_type": "display_data",
       "text": [
        "PROGRESS: Finished parsing file /home/wenfeng/work/datasciencecoursera/kaggle/DisplayAds/train.csv"
       ]
      },
      {
       "html": [
        "<pre>PROGRESS: Parsing completed. Parsed 100000 lines in 0.753075 secs.</pre>"
       ],
       "metadata": {},
       "output_type": "display_data",
       "text": [
        "PROGRESS: Parsing completed. Parsed 100000 lines in 0.753075 secs."
       ]
      },
      {
       "html": [
        "<pre>PROGRESS: Finished parsing file /home/wenfeng/work/datasciencecoursera/kaggle/DisplayAds/test.csv</pre>"
       ],
       "metadata": {},
       "output_type": "display_data",
       "text": [
        "PROGRESS: Finished parsing file /home/wenfeng/work/datasciencecoursera/kaggle/DisplayAds/test.csv"
       ]
      },
      {
       "html": [
        "<pre>PROGRESS: Parsing completed. Parsed 1000 lines in 0.382488 secs.</pre>"
       ],
       "metadata": {},
       "output_type": "display_data",
       "text": [
        "PROGRESS: Parsing completed. Parsed 1000 lines in 0.382488 secs."
       ]
      }
     ],
     "prompt_number": 15
    },
    {
     "cell_type": "code",
     "collapsed": false,
     "input": [
      "training_sframe.head()"
     ],
     "language": "python",
     "metadata": {},
     "outputs": [
      {
       "html": [
        "<div style=\"max-height:1000px;max-width:1500px;overflow:auto;\"><table frame=\"box\" rules=\"cols\">\n",
        "    <tr>\n",
        "        <th style=\"padding-left: 1em; padding-right: 1em; text-align: center\">Id</th>\n",
        "        <th style=\"padding-left: 1em; padding-right: 1em; text-align: center\">Label</th>\n",
        "        <th style=\"padding-left: 1em; padding-right: 1em; text-align: center\">I1</th>\n",
        "        <th style=\"padding-left: 1em; padding-right: 1em; text-align: center\">I2</th>\n",
        "        <th style=\"padding-left: 1em; padding-right: 1em; text-align: center\">I3</th>\n",
        "        <th style=\"padding-left: 1em; padding-right: 1em; text-align: center\">I4</th>\n",
        "        <th style=\"padding-left: 1em; padding-right: 1em; text-align: center\">I5</th>\n",
        "        <th style=\"padding-left: 1em; padding-right: 1em; text-align: center\">I6</th>\n",
        "        <th style=\"padding-left: 1em; padding-right: 1em; text-align: center\">I7</th>\n",
        "        <th style=\"padding-left: 1em; padding-right: 1em; text-align: center\">I8</th>\n",
        "        <th style=\"padding-left: 1em; padding-right: 1em; text-align: center\">I9</th>\n",
        "        <th style=\"padding-left: 1em; padding-right: 1em; text-align: center\">I10</th>\n",
        "        <th style=\"padding-left: 1em; padding-right: 1em; text-align: center\">I11</th>\n",
        "        <th style=\"padding-left: 1em; padding-right: 1em; text-align: center\">I12</th>\n",
        "        <th style=\"padding-left: 1em; padding-right: 1em; text-align: center\">I13</th>\n",
        "        <th style=\"padding-left: 1em; padding-right: 1em; text-align: center\">C1</th>\n",
        "    </tr>\n",
        "    <tr>\n",
        "        <td style=\"padding-left: 1em; padding-right: 1em; text-align: center; vertical-align: top\">10000000</td>\n",
        "        <td style=\"padding-left: 1em; padding-right: 1em; text-align: center; vertical-align: top\">0</td>\n",
        "        <td style=\"padding-left: 1em; padding-right: 1em; text-align: center; vertical-align: top\">1</td>\n",
        "        <td style=\"padding-left: 1em; padding-right: 1em; text-align: center; vertical-align: top\">1</td>\n",
        "        <td style=\"padding-left: 1em; padding-right: 1em; text-align: center; vertical-align: top\">5</td>\n",
        "        <td style=\"padding-left: 1em; padding-right: 1em; text-align: center; vertical-align: top\">0</td>\n",
        "        <td style=\"padding-left: 1em; padding-right: 1em; text-align: center; vertical-align: top\">1382</td>\n",
        "        <td style=\"padding-left: 1em; padding-right: 1em; text-align: center; vertical-align: top\">4</td>\n",
        "        <td style=\"padding-left: 1em; padding-right: 1em; text-align: center; vertical-align: top\">15</td>\n",
        "        <td style=\"padding-left: 1em; padding-right: 1em; text-align: center; vertical-align: top\">2</td>\n",
        "        <td style=\"padding-left: 1em; padding-right: 1em; text-align: center; vertical-align: top\">181</td>\n",
        "        <td style=\"padding-left: 1em; padding-right: 1em; text-align: center; vertical-align: top\">1</td>\n",
        "        <td style=\"padding-left: 1em; padding-right: 1em; text-align: center; vertical-align: top\">2</td>\n",
        "        <td style=\"padding-left: 1em; padding-right: 1em; text-align: center; vertical-align: top\">None</td>\n",
        "        <td style=\"padding-left: 1em; padding-right: 1em; text-align: center; vertical-align: top\">2</td>\n",
        "        <td style=\"padding-left: 1em; padding-right: 1em; text-align: center; vertical-align: top\">68fd1e64</td>\n",
        "    </tr>\n",
        "    <tr>\n",
        "        <td style=\"padding-left: 1em; padding-right: 1em; text-align: center; vertical-align: top\">10000001</td>\n",
        "        <td style=\"padding-left: 1em; padding-right: 1em; text-align: center; vertical-align: top\">0</td>\n",
        "        <td style=\"padding-left: 1em; padding-right: 1em; text-align: center; vertical-align: top\">2</td>\n",
        "        <td style=\"padding-left: 1em; padding-right: 1em; text-align: center; vertical-align: top\">0</td>\n",
        "        <td style=\"padding-left: 1em; padding-right: 1em; text-align: center; vertical-align: top\">44</td>\n",
        "        <td style=\"padding-left: 1em; padding-right: 1em; text-align: center; vertical-align: top\">1</td>\n",
        "        <td style=\"padding-left: 1em; padding-right: 1em; text-align: center; vertical-align: top\">102</td>\n",
        "        <td style=\"padding-left: 1em; padding-right: 1em; text-align: center; vertical-align: top\">8</td>\n",
        "        <td style=\"padding-left: 1em; padding-right: 1em; text-align: center; vertical-align: top\">2</td>\n",
        "        <td style=\"padding-left: 1em; padding-right: 1em; text-align: center; vertical-align: top\">2</td>\n",
        "        <td style=\"padding-left: 1em; padding-right: 1em; text-align: center; vertical-align: top\">4</td>\n",
        "        <td style=\"padding-left: 1em; padding-right: 1em; text-align: center; vertical-align: top\">1</td>\n",
        "        <td style=\"padding-left: 1em; padding-right: 1em; text-align: center; vertical-align: top\">1</td>\n",
        "        <td style=\"padding-left: 1em; padding-right: 1em; text-align: center; vertical-align: top\">None</td>\n",
        "        <td style=\"padding-left: 1em; padding-right: 1em; text-align: center; vertical-align: top\">4</td>\n",
        "        <td style=\"padding-left: 1em; padding-right: 1em; text-align: center; vertical-align: top\">68fd1e64</td>\n",
        "    </tr>\n",
        "    <tr>\n",
        "        <td style=\"padding-left: 1em; padding-right: 1em; text-align: center; vertical-align: top\">10000002</td>\n",
        "        <td style=\"padding-left: 1em; padding-right: 1em; text-align: center; vertical-align: top\">0</td>\n",
        "        <td style=\"padding-left: 1em; padding-right: 1em; text-align: center; vertical-align: top\">2</td>\n",
        "        <td style=\"padding-left: 1em; padding-right: 1em; text-align: center; vertical-align: top\">0</td>\n",
        "        <td style=\"padding-left: 1em; padding-right: 1em; text-align: center; vertical-align: top\">1</td>\n",
        "        <td style=\"padding-left: 1em; padding-right: 1em; text-align: center; vertical-align: top\">14</td>\n",
        "        <td style=\"padding-left: 1em; padding-right: 1em; text-align: center; vertical-align: top\">767</td>\n",
        "        <td style=\"padding-left: 1em; padding-right: 1em; text-align: center; vertical-align: top\">89</td>\n",
        "        <td style=\"padding-left: 1em; padding-right: 1em; text-align: center; vertical-align: top\">4</td>\n",
        "        <td style=\"padding-left: 1em; padding-right: 1em; text-align: center; vertical-align: top\">2</td>\n",
        "        <td style=\"padding-left: 1em; padding-right: 1em; text-align: center; vertical-align: top\">245</td>\n",
        "        <td style=\"padding-left: 1em; padding-right: 1em; text-align: center; vertical-align: top\">1</td>\n",
        "        <td style=\"padding-left: 1em; padding-right: 1em; text-align: center; vertical-align: top\">3</td>\n",
        "        <td style=\"padding-left: 1em; padding-right: 1em; text-align: center; vertical-align: top\">3</td>\n",
        "        <td style=\"padding-left: 1em; padding-right: 1em; text-align: center; vertical-align: top\">45</td>\n",
        "        <td style=\"padding-left: 1em; padding-right: 1em; text-align: center; vertical-align: top\">287e684f</td>\n",
        "    </tr>\n",
        "    <tr>\n",
        "        <td style=\"padding-left: 1em; padding-right: 1em; text-align: center; vertical-align: top\">10000003</td>\n",
        "        <td style=\"padding-left: 1em; padding-right: 1em; text-align: center; vertical-align: top\">0</td>\n",
        "        <td style=\"padding-left: 1em; padding-right: 1em; text-align: center; vertical-align: top\">None</td>\n",
        "        <td style=\"padding-left: 1em; padding-right: 1em; text-align: center; vertical-align: top\">893</td>\n",
        "        <td style=\"padding-left: 1em; padding-right: 1em; text-align: center; vertical-align: top\">None</td>\n",
        "        <td style=\"padding-left: 1em; padding-right: 1em; text-align: center; vertical-align: top\">None</td>\n",
        "        <td style=\"padding-left: 1em; padding-right: 1em; text-align: center; vertical-align: top\">4392</td>\n",
        "        <td style=\"padding-left: 1em; padding-right: 1em; text-align: center; vertical-align: top\">None</td>\n",
        "        <td style=\"padding-left: 1em; padding-right: 1em; text-align: center; vertical-align: top\">0</td>\n",
        "        <td style=\"padding-left: 1em; padding-right: 1em; text-align: center; vertical-align: top\">0</td>\n",
        "        <td style=\"padding-left: 1em; padding-right: 1em; text-align: center; vertical-align: top\">0</td>\n",
        "        <td style=\"padding-left: 1em; padding-right: 1em; text-align: center; vertical-align: top\">None</td>\n",
        "        <td style=\"padding-left: 1em; padding-right: 1em; text-align: center; vertical-align: top\">0</td>\n",
        "        <td style=\"padding-left: 1em; padding-right: 1em; text-align: center; vertical-align: top\">None</td>\n",
        "        <td style=\"padding-left: 1em; padding-right: 1em; text-align: center; vertical-align: top\">None</td>\n",
        "        <td style=\"padding-left: 1em; padding-right: 1em; text-align: center; vertical-align: top\">68fd1e64</td>\n",
        "    </tr>\n",
        "    <tr>\n",
        "        <td style=\"padding-left: 1em; padding-right: 1em; text-align: center; vertical-align: top\">10000004</td>\n",
        "        <td style=\"padding-left: 1em; padding-right: 1em; text-align: center; vertical-align: top\">0</td>\n",
        "        <td style=\"padding-left: 1em; padding-right: 1em; text-align: center; vertical-align: top\">3</td>\n",
        "        <td style=\"padding-left: 1em; padding-right: 1em; text-align: center; vertical-align: top\">-1</td>\n",
        "        <td style=\"padding-left: 1em; padding-right: 1em; text-align: center; vertical-align: top\">None</td>\n",
        "        <td style=\"padding-left: 1em; padding-right: 1em; text-align: center; vertical-align: top\">0</td>\n",
        "        <td style=\"padding-left: 1em; padding-right: 1em; text-align: center; vertical-align: top\">2</td>\n",
        "        <td style=\"padding-left: 1em; padding-right: 1em; text-align: center; vertical-align: top\">0</td>\n",
        "        <td style=\"padding-left: 1em; padding-right: 1em; text-align: center; vertical-align: top\">3</td>\n",
        "        <td style=\"padding-left: 1em; padding-right: 1em; text-align: center; vertical-align: top\">0</td>\n",
        "        <td style=\"padding-left: 1em; padding-right: 1em; text-align: center; vertical-align: top\">0</td>\n",
        "        <td style=\"padding-left: 1em; padding-right: 1em; text-align: center; vertical-align: top\">1</td>\n",
        "        <td style=\"padding-left: 1em; padding-right: 1em; text-align: center; vertical-align: top\">1</td>\n",
        "        <td style=\"padding-left: 1em; padding-right: 1em; text-align: center; vertical-align: top\">None</td>\n",
        "        <td style=\"padding-left: 1em; padding-right: 1em; text-align: center; vertical-align: top\">0</td>\n",
        "        <td style=\"padding-left: 1em; padding-right: 1em; text-align: center; vertical-align: top\">8cf07265</td>\n",
        "    </tr>\n",
        "    <tr>\n",
        "        <td style=\"padding-left: 1em; padding-right: 1em; text-align: center; vertical-align: top\">10000005</td>\n",
        "        <td style=\"padding-left: 1em; padding-right: 1em; text-align: center; vertical-align: top\">0</td>\n",
        "        <td style=\"padding-left: 1em; padding-right: 1em; text-align: center; vertical-align: top\">None</td>\n",
        "        <td style=\"padding-left: 1em; padding-right: 1em; text-align: center; vertical-align: top\">-1</td>\n",
        "        <td style=\"padding-left: 1em; padding-right: 1em; text-align: center; vertical-align: top\">None</td>\n",
        "        <td style=\"padding-left: 1em; padding-right: 1em; text-align: center; vertical-align: top\">None</td>\n",
        "        <td style=\"padding-left: 1em; padding-right: 1em; text-align: center; vertical-align: top\">12824</td>\n",
        "        <td style=\"padding-left: 1em; padding-right: 1em; text-align: center; vertical-align: top\">None</td>\n",
        "        <td style=\"padding-left: 1em; padding-right: 1em; text-align: center; vertical-align: top\">0</td>\n",
        "        <td style=\"padding-left: 1em; padding-right: 1em; text-align: center; vertical-align: top\">0</td>\n",
        "        <td style=\"padding-left: 1em; padding-right: 1em; text-align: center; vertical-align: top\">6</td>\n",
        "        <td style=\"padding-left: 1em; padding-right: 1em; text-align: center; vertical-align: top\">None</td>\n",
        "        <td style=\"padding-left: 1em; padding-right: 1em; text-align: center; vertical-align: top\">0</td>\n",
        "        <td style=\"padding-left: 1em; padding-right: 1em; text-align: center; vertical-align: top\">None</td>\n",
        "        <td style=\"padding-left: 1em; padding-right: 1em; text-align: center; vertical-align: top\">None</td>\n",
        "        <td style=\"padding-left: 1em; padding-right: 1em; text-align: center; vertical-align: top\">05db9164</td>\n",
        "    </tr>\n",
        "    <tr>\n",
        "        <td style=\"padding-left: 1em; padding-right: 1em; text-align: center; vertical-align: top\">10000006</td>\n",
        "        <td style=\"padding-left: 1em; padding-right: 1em; text-align: center; vertical-align: top\">0</td>\n",
        "        <td style=\"padding-left: 1em; padding-right: 1em; text-align: center; vertical-align: top\">None</td>\n",
        "        <td style=\"padding-left: 1em; padding-right: 1em; text-align: center; vertical-align: top\">1</td>\n",
        "        <td style=\"padding-left: 1em; padding-right: 1em; text-align: center; vertical-align: top\">2</td>\n",
        "        <td style=\"padding-left: 1em; padding-right: 1em; text-align: center; vertical-align: top\">None</td>\n",
        "        <td style=\"padding-left: 1em; padding-right: 1em; text-align: center; vertical-align: top\">3168</td>\n",
        "        <td style=\"padding-left: 1em; padding-right: 1em; text-align: center; vertical-align: top\">None</td>\n",
        "        <td style=\"padding-left: 1em; padding-right: 1em; text-align: center; vertical-align: top\">0</td>\n",
        "        <td style=\"padding-left: 1em; padding-right: 1em; text-align: center; vertical-align: top\">1</td>\n",
        "        <td style=\"padding-left: 1em; padding-right: 1em; text-align: center; vertical-align: top\">2</td>\n",
        "        <td style=\"padding-left: 1em; padding-right: 1em; text-align: center; vertical-align: top\">None</td>\n",
        "        <td style=\"padding-left: 1em; padding-right: 1em; text-align: center; vertical-align: top\">0</td>\n",
        "        <td style=\"padding-left: 1em; padding-right: 1em; text-align: center; vertical-align: top\">None</td>\n",
        "        <td style=\"padding-left: 1em; padding-right: 1em; text-align: center; vertical-align: top\">None</td>\n",
        "        <td style=\"padding-left: 1em; padding-right: 1em; text-align: center; vertical-align: top\">439a44a4</td>\n",
        "    </tr>\n",
        "    <tr>\n",
        "        <td style=\"padding-left: 1em; padding-right: 1em; text-align: center; vertical-align: top\">10000007</td>\n",
        "        <td style=\"padding-left: 1em; padding-right: 1em; text-align: center; vertical-align: top\">1</td>\n",
        "        <td style=\"padding-left: 1em; padding-right: 1em; text-align: center; vertical-align: top\">1</td>\n",
        "        <td style=\"padding-left: 1em; padding-right: 1em; text-align: center; vertical-align: top\">4</td>\n",
        "        <td style=\"padding-left: 1em; padding-right: 1em; text-align: center; vertical-align: top\">2</td>\n",
        "        <td style=\"padding-left: 1em; padding-right: 1em; text-align: center; vertical-align: top\">0</td>\n",
        "        <td style=\"padding-left: 1em; padding-right: 1em; text-align: center; vertical-align: top\">0</td>\n",
        "        <td style=\"padding-left: 1em; padding-right: 1em; text-align: center; vertical-align: top\">0</td>\n",
        "        <td style=\"padding-left: 1em; padding-right: 1em; text-align: center; vertical-align: top\">1</td>\n",
        "        <td style=\"padding-left: 1em; padding-right: 1em; text-align: center; vertical-align: top\">0</td>\n",
        "        <td style=\"padding-left: 1em; padding-right: 1em; text-align: center; vertical-align: top\">0</td>\n",
        "        <td style=\"padding-left: 1em; padding-right: 1em; text-align: center; vertical-align: top\">1</td>\n",
        "        <td style=\"padding-left: 1em; padding-right: 1em; text-align: center; vertical-align: top\">1</td>\n",
        "        <td style=\"padding-left: 1em; padding-right: 1em; text-align: center; vertical-align: top\">None</td>\n",
        "        <td style=\"padding-left: 1em; padding-right: 1em; text-align: center; vertical-align: top\">0</td>\n",
        "        <td style=\"padding-left: 1em; padding-right: 1em; text-align: center; vertical-align: top\">68fd1e64</td>\n",
        "    </tr>\n",
        "    <tr>\n",
        "        <td style=\"padding-left: 1em; padding-right: 1em; text-align: center; vertical-align: top\">10000008</td>\n",
        "        <td style=\"padding-left: 1em; padding-right: 1em; text-align: center; vertical-align: top\">0</td>\n",
        "        <td style=\"padding-left: 1em; padding-right: 1em; text-align: center; vertical-align: top\">None</td>\n",
        "        <td style=\"padding-left: 1em; padding-right: 1em; text-align: center; vertical-align: top\">44</td>\n",
        "        <td style=\"padding-left: 1em; padding-right: 1em; text-align: center; vertical-align: top\">4</td>\n",
        "        <td style=\"padding-left: 1em; padding-right: 1em; text-align: center; vertical-align: top\">8</td>\n",
        "        <td style=\"padding-left: 1em; padding-right: 1em; text-align: center; vertical-align: top\">19010</td>\n",
        "        <td style=\"padding-left: 1em; padding-right: 1em; text-align: center; vertical-align: top\">249</td>\n",
        "        <td style=\"padding-left: 1em; padding-right: 1em; text-align: center; vertical-align: top\">28</td>\n",
        "        <td style=\"padding-left: 1em; padding-right: 1em; text-align: center; vertical-align: top\">31</td>\n",
        "        <td style=\"padding-left: 1em; padding-right: 1em; text-align: center; vertical-align: top\">141</td>\n",
        "        <td style=\"padding-left: 1em; padding-right: 1em; text-align: center; vertical-align: top\">None</td>\n",
        "        <td style=\"padding-left: 1em; padding-right: 1em; text-align: center; vertical-align: top\">1</td>\n",
        "        <td style=\"padding-left: 1em; padding-right: 1em; text-align: center; vertical-align: top\">None</td>\n",
        "        <td style=\"padding-left: 1em; padding-right: 1em; text-align: center; vertical-align: top\">8</td>\n",
        "        <td style=\"padding-left: 1em; padding-right: 1em; text-align: center; vertical-align: top\">05db9164</td>\n",
        "    </tr>\n",
        "    <tr>\n",
        "        <td style=\"padding-left: 1em; padding-right: 1em; text-align: center; vertical-align: top\">10000009</td>\n",
        "        <td style=\"padding-left: 1em; padding-right: 1em; text-align: center; vertical-align: top\">0</td>\n",
        "        <td style=\"padding-left: 1em; padding-right: 1em; text-align: center; vertical-align: top\">None</td>\n",
        "        <td style=\"padding-left: 1em; padding-right: 1em; text-align: center; vertical-align: top\">35</td>\n",
        "        <td style=\"padding-left: 1em; padding-right: 1em; text-align: center; vertical-align: top\">None</td>\n",
        "        <td style=\"padding-left: 1em; padding-right: 1em; text-align: center; vertical-align: top\">1</td>\n",
        "        <td style=\"padding-left: 1em; padding-right: 1em; text-align: center; vertical-align: top\">33737</td>\n",
        "        <td style=\"padding-left: 1em; padding-right: 1em; text-align: center; vertical-align: top\">21</td>\n",
        "        <td style=\"padding-left: 1em; padding-right: 1em; text-align: center; vertical-align: top\">1</td>\n",
        "        <td style=\"padding-left: 1em; padding-right: 1em; text-align: center; vertical-align: top\">2</td>\n",
        "        <td style=\"padding-left: 1em; padding-right: 1em; text-align: center; vertical-align: top\">3</td>\n",
        "        <td style=\"padding-left: 1em; padding-right: 1em; text-align: center; vertical-align: top\">None</td>\n",
        "        <td style=\"padding-left: 1em; padding-right: 1em; text-align: center; vertical-align: top\">1</td>\n",
        "        <td style=\"padding-left: 1em; padding-right: 1em; text-align: center; vertical-align: top\">None</td>\n",
        "        <td style=\"padding-left: 1em; padding-right: 1em; text-align: center; vertical-align: top\">1</td>\n",
        "        <td style=\"padding-left: 1em; padding-right: 1em; text-align: center; vertical-align: top\">05db9164</td>\n",
        "    </tr>\n",
        "</table>\n",
        "<table frame=\"box\" rules=\"cols\">\n",
        "    <tr>\n",
        "        <th style=\"padding-left: 1em; padding-right: 1em; text-align: center\">C2</th>\n",
        "        <th style=\"padding-left: 1em; padding-right: 1em; text-align: center\">C3</th>\n",
        "        <th style=\"padding-left: 1em; padding-right: 1em; text-align: center\">C4</th>\n",
        "        <th style=\"padding-left: 1em; padding-right: 1em; text-align: center\">C5</th>\n",
        "        <th style=\"padding-left: 1em; padding-right: 1em; text-align: center\">C6</th>\n",
        "        <th style=\"padding-left: 1em; padding-right: 1em; text-align: center\">C7</th>\n",
        "        <th style=\"padding-left: 1em; padding-right: 1em; text-align: center\">C8</th>\n",
        "        <th style=\"padding-left: 1em; padding-right: 1em; text-align: center\">C9</th>\n",
        "        <th style=\"padding-left: 1em; padding-right: 1em; text-align: center\">C10</th>\n",
        "        <th style=\"padding-left: 1em; padding-right: 1em; text-align: center\">C11</th>\n",
        "        <th style=\"padding-left: 1em; padding-right: 1em; text-align: center\">C12</th>\n",
        "    </tr>\n",
        "    <tr>\n",
        "        <td style=\"padding-left: 1em; padding-right: 1em; text-align: center; vertical-align: top\">80e26c9b</td>\n",
        "        <td style=\"padding-left: 1em; padding-right: 1em; text-align: center; vertical-align: top\">fb936136</td>\n",
        "        <td style=\"padding-left: 1em; padding-right: 1em; text-align: center; vertical-align: top\">7b4723c4</td>\n",
        "        <td style=\"padding-left: 1em; padding-right: 1em; text-align: center; vertical-align: top\">25c83c98</td>\n",
        "        <td style=\"padding-left: 1em; padding-right: 1em; text-align: center; vertical-align: top\">7e0ccccf</td>\n",
        "        <td style=\"padding-left: 1em; padding-right: 1em; text-align: center; vertical-align: top\">de7995b8</td>\n",
        "        <td style=\"padding-left: 1em; padding-right: 1em; text-align: center; vertical-align: top\">1f89b562</td>\n",
        "        <td style=\"padding-left: 1em; padding-right: 1em; text-align: center; vertical-align: top\">a73ee510</td>\n",
        "        <td style=\"padding-left: 1em; padding-right: 1em; text-align: center; vertical-align: top\">a8cd5504</td>\n",
        "        <td style=\"padding-left: 1em; padding-right: 1em; text-align: center; vertical-align: top\">b2cb9c98</td>\n",
        "        <td style=\"padding-left: 1em; padding-right: 1em; text-align: center; vertical-align: top\">37c9c164</td>\n",
        "    </tr>\n",
        "    <tr>\n",
        "        <td style=\"padding-left: 1em; padding-right: 1em; text-align: center; vertical-align: top\">f0cf0024</td>\n",
        "        <td style=\"padding-left: 1em; padding-right: 1em; text-align: center; vertical-align: top\">6f67f7e5</td>\n",
        "        <td style=\"padding-left: 1em; padding-right: 1em; text-align: center; vertical-align: top\">41274cd7</td>\n",
        "        <td style=\"padding-left: 1em; padding-right: 1em; text-align: center; vertical-align: top\">25c83c98</td>\n",
        "        <td style=\"padding-left: 1em; padding-right: 1em; text-align: center; vertical-align: top\">fe6b92e5</td>\n",
        "        <td style=\"padding-left: 1em; padding-right: 1em; text-align: center; vertical-align: top\">922afcc0</td>\n",
        "        <td style=\"padding-left: 1em; padding-right: 1em; text-align: center; vertical-align: top\">0b153874</td>\n",
        "        <td style=\"padding-left: 1em; padding-right: 1em; text-align: center; vertical-align: top\">a73ee510</td>\n",
        "        <td style=\"padding-left: 1em; padding-right: 1em; text-align: center; vertical-align: top\">2b53e5fb</td>\n",
        "        <td style=\"padding-left: 1em; padding-right: 1em; text-align: center; vertical-align: top\">4f1b46f3</td>\n",
        "        <td style=\"padding-left: 1em; padding-right: 1em; text-align: center; vertical-align: top\">623049e6</td>\n",
        "    </tr>\n",
        "    <tr>\n",
        "        <td style=\"padding-left: 1em; padding-right: 1em; text-align: center; vertical-align: top\">0a519c5c</td>\n",
        "        <td style=\"padding-left: 1em; padding-right: 1em; text-align: center; vertical-align: top\">02cf9876</td>\n",
        "        <td style=\"padding-left: 1em; padding-right: 1em; text-align: center; vertical-align: top\">c18be181</td>\n",
        "        <td style=\"padding-left: 1em; padding-right: 1em; text-align: center; vertical-align: top\">25c83c98</td>\n",
        "        <td style=\"padding-left: 1em; padding-right: 1em; text-align: center; vertical-align: top\">7e0ccccf</td>\n",
        "        <td style=\"padding-left: 1em; padding-right: 1em; text-align: center; vertical-align: top\">c78204a1</td>\n",
        "        <td style=\"padding-left: 1em; padding-right: 1em; text-align: center; vertical-align: top\">0b153874</td>\n",
        "        <td style=\"padding-left: 1em; padding-right: 1em; text-align: center; vertical-align: top\">a73ee510</td>\n",
        "        <td style=\"padding-left: 1em; padding-right: 1em; text-align: center; vertical-align: top\">3b08e48b</td>\n",
        "        <td style=\"padding-left: 1em; padding-right: 1em; text-align: center; vertical-align: top\">5f5e6091</td>\n",
        "        <td style=\"padding-left: 1em; padding-right: 1em; text-align: center; vertical-align: top\">8fe001f4</td>\n",
        "    </tr>\n",
        "    <tr>\n",
        "        <td style=\"padding-left: 1em; padding-right: 1em; text-align: center; vertical-align: top\">2c16a946</td>\n",
        "        <td style=\"padding-left: 1em; padding-right: 1em; text-align: center; vertical-align: top\">a9a87e68</td>\n",
        "        <td style=\"padding-left: 1em; padding-right: 1em; text-align: center; vertical-align: top\">2e17d6f6</td>\n",
        "        <td style=\"padding-left: 1em; padding-right: 1em; text-align: center; vertical-align: top\">25c83c98</td>\n",
        "        <td style=\"padding-left: 1em; padding-right: 1em; text-align: center; vertical-align: top\">fe6b92e5</td>\n",
        "        <td style=\"padding-left: 1em; padding-right: 1em; text-align: center; vertical-align: top\">2e8a689b</td>\n",
        "        <td style=\"padding-left: 1em; padding-right: 1em; text-align: center; vertical-align: top\">0b153874</td>\n",
        "        <td style=\"padding-left: 1em; padding-right: 1em; text-align: center; vertical-align: top\">a73ee510</td>\n",
        "        <td style=\"padding-left: 1em; padding-right: 1em; text-align: center; vertical-align: top\">efea433b</td>\n",
        "        <td style=\"padding-left: 1em; padding-right: 1em; text-align: center; vertical-align: top\">e51ddf94</td>\n",
        "        <td style=\"padding-left: 1em; padding-right: 1em; text-align: center; vertical-align: top\">a30567ca</td>\n",
        "    </tr>\n",
        "    <tr>\n",
        "        <td style=\"padding-left: 1em; padding-right: 1em; text-align: center; vertical-align: top\">ae46a29d</td>\n",
        "        <td style=\"padding-left: 1em; padding-right: 1em; text-align: center; vertical-align: top\">c81688bb</td>\n",
        "        <td style=\"padding-left: 1em; padding-right: 1em; text-align: center; vertical-align: top\">f922efad</td>\n",
        "        <td style=\"padding-left: 1em; padding-right: 1em; text-align: center; vertical-align: top\">25c83c98</td>\n",
        "        <td style=\"padding-left: 1em; padding-right: 1em; text-align: center; vertical-align: top\">13718bbd</td>\n",
        "        <td style=\"padding-left: 1em; padding-right: 1em; text-align: center; vertical-align: top\">ad9fa255</td>\n",
        "        <td style=\"padding-left: 1em; padding-right: 1em; text-align: center; vertical-align: top\">0b153874</td>\n",
        "        <td style=\"padding-left: 1em; padding-right: 1em; text-align: center; vertical-align: top\">a73ee510</td>\n",
        "        <td style=\"padding-left: 1em; padding-right: 1em; text-align: center; vertical-align: top\">5282c137</td>\n",
        "        <td style=\"padding-left: 1em; padding-right: 1em; text-align: center; vertical-align: top\">e5d8af57</td>\n",
        "        <td style=\"padding-left: 1em; padding-right: 1em; text-align: center; vertical-align: top\">66a76a26</td>\n",
        "    </tr>\n",
        "    <tr>\n",
        "        <td style=\"padding-left: 1em; padding-right: 1em; text-align: center; vertical-align: top\">6c9c9cf3</td>\n",
        "        <td style=\"padding-left: 1em; padding-right: 1em; text-align: center; vertical-align: top\">2730ec9c</td>\n",
        "        <td style=\"padding-left: 1em; padding-right: 1em; text-align: center; vertical-align: top\">5400db8b</td>\n",
        "        <td style=\"padding-left: 1em; padding-right: 1em; text-align: center; vertical-align: top\">43b19349</td>\n",
        "        <td style=\"padding-left: 1em; padding-right: 1em; text-align: center; vertical-align: top\">6f6d9be8</td>\n",
        "        <td style=\"padding-left: 1em; padding-right: 1em; text-align: center; vertical-align: top\">53b5f978</td>\n",
        "        <td style=\"padding-left: 1em; padding-right: 1em; text-align: center; vertical-align: top\">0b153874</td>\n",
        "        <td style=\"padding-left: 1em; padding-right: 1em; text-align: center; vertical-align: top\">a73ee510</td>\n",
        "        <td style=\"padding-left: 1em; padding-right: 1em; text-align: center; vertical-align: top\">3b08e48b</td>\n",
        "        <td style=\"padding-left: 1em; padding-right: 1em; text-align: center; vertical-align: top\">91e8fc27</td>\n",
        "        <td style=\"padding-left: 1em; padding-right: 1em; text-align: center; vertical-align: top\">be45b877</td>\n",
        "    </tr>\n",
        "    <tr>\n",
        "        <td style=\"padding-left: 1em; padding-right: 1em; text-align: center; vertical-align: top\">ad4527a2</td>\n",
        "        <td style=\"padding-left: 1em; padding-right: 1em; text-align: center; vertical-align: top\">c02372d0</td>\n",
        "        <td style=\"padding-left: 1em; padding-right: 1em; text-align: center; vertical-align: top\">d34ebbaa</td>\n",
        "        <td style=\"padding-left: 1em; padding-right: 1em; text-align: center; vertical-align: top\">43b19349</td>\n",
        "        <td style=\"padding-left: 1em; padding-right: 1em; text-align: center; vertical-align: top\">fe6b92e5</td>\n",
        "        <td style=\"padding-left: 1em; padding-right: 1em; text-align: center; vertical-align: top\">4bc6ffea</td>\n",
        "        <td style=\"padding-left: 1em; padding-right: 1em; text-align: center; vertical-align: top\">0b153874</td>\n",
        "        <td style=\"padding-left: 1em; padding-right: 1em; text-align: center; vertical-align: top\">a73ee510</td>\n",
        "        <td style=\"padding-left: 1em; padding-right: 1em; text-align: center; vertical-align: top\">3b08e48b</td>\n",
        "        <td style=\"padding-left: 1em; padding-right: 1em; text-align: center; vertical-align: top\">a4609aab</td>\n",
        "        <td style=\"padding-left: 1em; padding-right: 1em; text-align: center; vertical-align: top\">14d63538</td>\n",
        "    </tr>\n",
        "    <tr>\n",
        "        <td style=\"padding-left: 1em; padding-right: 1em; text-align: center; vertical-align: top\">2c16a946</td>\n",
        "        <td style=\"padding-left: 1em; padding-right: 1em; text-align: center; vertical-align: top\">503b9dbc</td>\n",
        "        <td style=\"padding-left: 1em; padding-right: 1em; text-align: center; vertical-align: top\">e4dbea90</td>\n",
        "        <td style=\"padding-left: 1em; padding-right: 1em; text-align: center; vertical-align: top\">f3474129</td>\n",
        "        <td style=\"padding-left: 1em; padding-right: 1em; text-align: center; vertical-align: top\">13718bbd</td>\n",
        "        <td style=\"padding-left: 1em; padding-right: 1em; text-align: center; vertical-align: top\">38eb9cf4</td>\n",
        "        <td style=\"padding-left: 1em; padding-right: 1em; text-align: center; vertical-align: top\">1f89b562</td>\n",
        "        <td style=\"padding-left: 1em; padding-right: 1em; text-align: center; vertical-align: top\">a73ee510</td>\n",
        "        <td style=\"padding-left: 1em; padding-right: 1em; text-align: center; vertical-align: top\">547c0ffe</td>\n",
        "        <td style=\"padding-left: 1em; padding-right: 1em; text-align: center; vertical-align: top\">bc8c9f21</td>\n",
        "        <td style=\"padding-left: 1em; padding-right: 1em; text-align: center; vertical-align: top\">60ab2f07</td>\n",
        "    </tr>\n",
        "    <tr>\n",
        "        <td style=\"padding-left: 1em; padding-right: 1em; text-align: center; vertical-align: top\">d833535f</td>\n",
        "        <td style=\"padding-left: 1em; padding-right: 1em; text-align: center; vertical-align: top\">d032c263</td>\n",
        "        <td style=\"padding-left: 1em; padding-right: 1em; text-align: center; vertical-align: top\">c18be181</td>\n",
        "        <td style=\"padding-left: 1em; padding-right: 1em; text-align: center; vertical-align: top\">25c83c98</td>\n",
        "        <td style=\"padding-left: 1em; padding-right: 1em; text-align: center; vertical-align: top\">7e0ccccf</td>\n",
        "        <td style=\"padding-left: 1em; padding-right: 1em; text-align: center; vertical-align: top\">d5b6acf2</td>\n",
        "        <td style=\"padding-left: 1em; padding-right: 1em; text-align: center; vertical-align: top\">0b153874</td>\n",
        "        <td style=\"padding-left: 1em; padding-right: 1em; text-align: center; vertical-align: top\">a73ee510</td>\n",
        "        <td style=\"padding-left: 1em; padding-right: 1em; text-align: center; vertical-align: top\">2acdcf4e</td>\n",
        "        <td style=\"padding-left: 1em; padding-right: 1em; text-align: center; vertical-align: top\">086ac2d2</td>\n",
        "        <td style=\"padding-left: 1em; padding-right: 1em; text-align: center; vertical-align: top\">dfbb09fb</td>\n",
        "    </tr>\n",
        "    <tr>\n",
        "        <td style=\"padding-left: 1em; padding-right: 1em; text-align: center; vertical-align: top\">510b40a5</td>\n",
        "        <td style=\"padding-left: 1em; padding-right: 1em; text-align: center; vertical-align: top\">d03e7c24</td>\n",
        "        <td style=\"padding-left: 1em; padding-right: 1em; text-align: center; vertical-align: top\">eb1fd928</td>\n",
        "        <td style=\"padding-left: 1em; padding-right: 1em; text-align: center; vertical-align: top\">25c83c98</td>\n",
        "        <td style=\"padding-left: 1em; padding-right: 1em; text-align: center; vertical-align: top\"></td>\n",
        "        <td style=\"padding-left: 1em; padding-right: 1em; text-align: center; vertical-align: top\">52283d1c</td>\n",
        "        <td style=\"padding-left: 1em; padding-right: 1em; text-align: center; vertical-align: top\">0b153874</td>\n",
        "        <td style=\"padding-left: 1em; padding-right: 1em; text-align: center; vertical-align: top\">a73ee510</td>\n",
        "        <td style=\"padding-left: 1em; padding-right: 1em; text-align: center; vertical-align: top\">015ac893</td>\n",
        "        <td style=\"padding-left: 1em; padding-right: 1em; text-align: center; vertical-align: top\">e51ddf94</td>\n",
        "        <td style=\"padding-left: 1em; padding-right: 1em; text-align: center; vertical-align: top\">951fe4a9</td>\n",
        "    </tr>\n",
        "</table>\n",
        "<table frame=\"box\" rules=\"cols\">\n",
        "    <tr>\n",
        "        <th style=\"padding-left: 1em; padding-right: 1em; text-align: center\">C13</th>\n",
        "        <th style=\"padding-left: 1em; padding-right: 1em; text-align: center\">C14</th>\n",
        "        <th style=\"padding-left: 1em; padding-right: 1em; text-align: center\">C15</th>\n",
        "        <th style=\"padding-left: 1em; padding-right: 1em; text-align: center\">C16</th>\n",
        "        <th style=\"padding-left: 1em; padding-right: 1em; text-align: center\">C17</th>\n",
        "        <th style=\"padding-left: 1em; padding-right: 1em; text-align: center\">C18</th>\n",
        "        <th style=\"padding-left: 1em; padding-right: 1em; text-align: center\">C19</th>\n",
        "        <th style=\"padding-left: 1em; padding-right: 1em; text-align: center\">C20</th>\n",
        "        <th style=\"padding-left: 1em; padding-right: 1em; text-align: center\">C21</th>\n",
        "        <th style=\"padding-left: 1em; padding-right: 1em; text-align: center\">C22</th>\n",
        "        <th style=\"padding-left: 1em; padding-right: 1em; text-align: center\">C23</th>\n",
        "    </tr>\n",
        "    <tr>\n",
        "        <td style=\"padding-left: 1em; padding-right: 1em; text-align: center; vertical-align: top\">2824a5f6</td>\n",
        "        <td style=\"padding-left: 1em; padding-right: 1em; text-align: center; vertical-align: top\">1adce6ef</td>\n",
        "        <td style=\"padding-left: 1em; padding-right: 1em; text-align: center; vertical-align: top\">8ba8b39a</td>\n",
        "        <td style=\"padding-left: 1em; padding-right: 1em; text-align: center; vertical-align: top\">891b62e7</td>\n",
        "        <td style=\"padding-left: 1em; padding-right: 1em; text-align: center; vertical-align: top\">e5ba7672</td>\n",
        "        <td style=\"padding-left: 1em; padding-right: 1em; text-align: center; vertical-align: top\">f54016b9</td>\n",
        "        <td style=\"padding-left: 1em; padding-right: 1em; text-align: center; vertical-align: top\">21ddcdc9</td>\n",
        "        <td style=\"padding-left: 1em; padding-right: 1em; text-align: center; vertical-align: top\">b1252a9d</td>\n",
        "        <td style=\"padding-left: 1em; padding-right: 1em; text-align: center; vertical-align: top\">07b5194c</td>\n",
        "        <td style=\"padding-left: 1em; padding-right: 1em; text-align: center; vertical-align: top\"></td>\n",
        "        <td style=\"padding-left: 1em; padding-right: 1em; text-align: center; vertical-align: top\">3a171ecb</td>\n",
        "    </tr>\n",
        "    <tr>\n",
        "        <td style=\"padding-left: 1em; padding-right: 1em; text-align: center; vertical-align: top\">d7020589</td>\n",
        "        <td style=\"padding-left: 1em; padding-right: 1em; text-align: center; vertical-align: top\">b28479f6</td>\n",
        "        <td style=\"padding-left: 1em; padding-right: 1em; text-align: center; vertical-align: top\">e6c5b5cd</td>\n",
        "        <td style=\"padding-left: 1em; padding-right: 1em; text-align: center; vertical-align: top\">c92f3b61</td>\n",
        "        <td style=\"padding-left: 1em; padding-right: 1em; text-align: center; vertical-align: top\">07c540c4</td>\n",
        "        <td style=\"padding-left: 1em; padding-right: 1em; text-align: center; vertical-align: top\">b04e4670</td>\n",
        "        <td style=\"padding-left: 1em; padding-right: 1em; text-align: center; vertical-align: top\">21ddcdc9</td>\n",
        "        <td style=\"padding-left: 1em; padding-right: 1em; text-align: center; vertical-align: top\">5840adea</td>\n",
        "        <td style=\"padding-left: 1em; padding-right: 1em; text-align: center; vertical-align: top\">60f6221e</td>\n",
        "        <td style=\"padding-left: 1em; padding-right: 1em; text-align: center; vertical-align: top\"></td>\n",
        "        <td style=\"padding-left: 1em; padding-right: 1em; text-align: center; vertical-align: top\">3a171ecb</td>\n",
        "    </tr>\n",
        "    <tr>\n",
        "        <td style=\"padding-left: 1em; padding-right: 1em; text-align: center; vertical-align: top\">aa655a2f</td>\n",
        "        <td style=\"padding-left: 1em; padding-right: 1em; text-align: center; vertical-align: top\">07d13a8f</td>\n",
        "        <td style=\"padding-left: 1em; padding-right: 1em; text-align: center; vertical-align: top\">6dc710ed</td>\n",
        "        <td style=\"padding-left: 1em; padding-right: 1em; text-align: center; vertical-align: top\">36103458</td>\n",
        "        <td style=\"padding-left: 1em; padding-right: 1em; text-align: center; vertical-align: top\">8efede7f</td>\n",
        "        <td style=\"padding-left: 1em; padding-right: 1em; text-align: center; vertical-align: top\">3412118d</td>\n",
        "        <td style=\"padding-left: 1em; padding-right: 1em; text-align: center; vertical-align: top\"></td>\n",
        "        <td style=\"padding-left: 1em; padding-right: 1em; text-align: center; vertical-align: top\"></td>\n",
        "        <td style=\"padding-left: 1em; padding-right: 1em; text-align: center; vertical-align: top\">e587c466</td>\n",
        "        <td style=\"padding-left: 1em; padding-right: 1em; text-align: center; vertical-align: top\">ad3062eb</td>\n",
        "        <td style=\"padding-left: 1em; padding-right: 1em; text-align: center; vertical-align: top\">3a171ecb</td>\n",
        "    </tr>\n",
        "    <tr>\n",
        "        <td style=\"padding-left: 1em; padding-right: 1em; text-align: center; vertical-align: top\">3516f6e6</td>\n",
        "        <td style=\"padding-left: 1em; padding-right: 1em; text-align: center; vertical-align: top\">07d13a8f</td>\n",
        "        <td style=\"padding-left: 1em; padding-right: 1em; text-align: center; vertical-align: top\">18231224</td>\n",
        "        <td style=\"padding-left: 1em; padding-right: 1em; text-align: center; vertical-align: top\">52b8680f</td>\n",
        "        <td style=\"padding-left: 1em; padding-right: 1em; text-align: center; vertical-align: top\">1e88c74f</td>\n",
        "        <td style=\"padding-left: 1em; padding-right: 1em; text-align: center; vertical-align: top\">74ef3502</td>\n",
        "        <td style=\"padding-left: 1em; padding-right: 1em; text-align: center; vertical-align: top\"></td>\n",
        "        <td style=\"padding-left: 1em; padding-right: 1em; text-align: center; vertical-align: top\"></td>\n",
        "        <td style=\"padding-left: 1em; padding-right: 1em; text-align: center; vertical-align: top\">6b3a5ca6</td>\n",
        "        <td style=\"padding-left: 1em; padding-right: 1em; text-align: center; vertical-align: top\"></td>\n",
        "        <td style=\"padding-left: 1em; padding-right: 1em; text-align: center; vertical-align: top\">3a171ecb</td>\n",
        "    </tr>\n",
        "    <tr>\n",
        "        <td style=\"padding-left: 1em; padding-right: 1em; text-align: center; vertical-align: top\">f06c53ac</td>\n",
        "        <td style=\"padding-left: 1em; padding-right: 1em; text-align: center; vertical-align: top\">1adce6ef</td>\n",
        "        <td style=\"padding-left: 1em; padding-right: 1em; text-align: center; vertical-align: top\">8ff4b403</td>\n",
        "        <td style=\"padding-left: 1em; padding-right: 1em; text-align: center; vertical-align: top\">01adbab4</td>\n",
        "        <td style=\"padding-left: 1em; padding-right: 1em; text-align: center; vertical-align: top\">1e88c74f</td>\n",
        "        <td style=\"padding-left: 1em; padding-right: 1em; text-align: center; vertical-align: top\">26b3c7a7</td>\n",
        "        <td style=\"padding-left: 1em; padding-right: 1em; text-align: center; vertical-align: top\"></td>\n",
        "        <td style=\"padding-left: 1em; padding-right: 1em; text-align: center; vertical-align: top\"></td>\n",
        "        <td style=\"padding-left: 1em; padding-right: 1em; text-align: center; vertical-align: top\">21c9516a</td>\n",
        "        <td style=\"padding-left: 1em; padding-right: 1em; text-align: center; vertical-align: top\"></td>\n",
        "        <td style=\"padding-left: 1em; padding-right: 1em; text-align: center; vertical-align: top\">32c7478e</td>\n",
        "    </tr>\n",
        "    <tr>\n",
        "        <td style=\"padding-left: 1em; padding-right: 1em; text-align: center; vertical-align: top\">9ff13f22</td>\n",
        "        <td style=\"padding-left: 1em; padding-right: 1em; text-align: center; vertical-align: top\">07d13a8f</td>\n",
        "        <td style=\"padding-left: 1em; padding-right: 1em; text-align: center; vertical-align: top\">06969a20</td>\n",
        "        <td style=\"padding-left: 1em; padding-right: 1em; text-align: center; vertical-align: top\">9bc7fff5</td>\n",
        "        <td style=\"padding-left: 1em; padding-right: 1em; text-align: center; vertical-align: top\">776ce399</td>\n",
        "        <td style=\"padding-left: 1em; padding-right: 1em; text-align: center; vertical-align: top\">92555263</td>\n",
        "        <td style=\"padding-left: 1em; padding-right: 1em; text-align: center; vertical-align: top\"></td>\n",
        "        <td style=\"padding-left: 1em; padding-right: 1em; text-align: center; vertical-align: top\"></td>\n",
        "        <td style=\"padding-left: 1em; padding-right: 1em; text-align: center; vertical-align: top\">242bb710</td>\n",
        "        <td style=\"padding-left: 1em; padding-right: 1em; text-align: center; vertical-align: top\">8ec974f4</td>\n",
        "        <td style=\"padding-left: 1em; padding-right: 1em; text-align: center; vertical-align: top\">be7c41b4</td>\n",
        "    </tr>\n",
        "    <tr>\n",
        "        <td style=\"padding-left: 1em; padding-right: 1em; text-align: center; vertical-align: top\">772a00d7</td>\n",
        "        <td style=\"padding-left: 1em; padding-right: 1em; text-align: center; vertical-align: top\">07d13a8f</td>\n",
        "        <td style=\"padding-left: 1em; padding-right: 1em; text-align: center; vertical-align: top\">f9d1382e</td>\n",
        "        <td style=\"padding-left: 1em; padding-right: 1em; text-align: center; vertical-align: top\">b00d3dc9</td>\n",
        "        <td style=\"padding-left: 1em; padding-right: 1em; text-align: center; vertical-align: top\">776ce399</td>\n",
        "        <td style=\"padding-left: 1em; padding-right: 1em; text-align: center; vertical-align: top\">cdfa8259</td>\n",
        "        <td style=\"padding-left: 1em; padding-right: 1em; text-align: center; vertical-align: top\"></td>\n",
        "        <td style=\"padding-left: 1em; padding-right: 1em; text-align: center; vertical-align: top\"></td>\n",
        "        <td style=\"padding-left: 1em; padding-right: 1em; text-align: center; vertical-align: top\">20062612</td>\n",
        "        <td style=\"padding-left: 1em; padding-right: 1em; text-align: center; vertical-align: top\"></td>\n",
        "        <td style=\"padding-left: 1em; padding-right: 1em; text-align: center; vertical-align: top\">93bad2c0</td>\n",
        "    </tr>\n",
        "    <tr>\n",
        "        <td style=\"padding-left: 1em; padding-right: 1em; text-align: center; vertical-align: top\">46f42a63</td>\n",
        "        <td style=\"padding-left: 1em; padding-right: 1em; text-align: center; vertical-align: top\">07d13a8f</td>\n",
        "        <td style=\"padding-left: 1em; padding-right: 1em; text-align: center; vertical-align: top\">18231224</td>\n",
        "        <td style=\"padding-left: 1em; padding-right: 1em; text-align: center; vertical-align: top\">e6b6bdc7</td>\n",
        "        <td style=\"padding-left: 1em; padding-right: 1em; text-align: center; vertical-align: top\">e5ba7672</td>\n",
        "        <td style=\"padding-left: 1em; padding-right: 1em; text-align: center; vertical-align: top\">74ef3502</td>\n",
        "        <td style=\"padding-left: 1em; padding-right: 1em; text-align: center; vertical-align: top\"></td>\n",
        "        <td style=\"padding-left: 1em; padding-right: 1em; text-align: center; vertical-align: top\"></td>\n",
        "        <td style=\"padding-left: 1em; padding-right: 1em; text-align: center; vertical-align: top\">5316a17f</td>\n",
        "        <td style=\"padding-left: 1em; padding-right: 1em; text-align: center; vertical-align: top\"></td>\n",
        "        <td style=\"padding-left: 1em; padding-right: 1em; text-align: center; vertical-align: top\">32c7478e</td>\n",
        "    </tr>\n",
        "    <tr>\n",
        "        <td style=\"padding-left: 1em; padding-right: 1em; text-align: center; vertical-align: top\">41a6ae00</td>\n",
        "        <td style=\"padding-left: 1em; padding-right: 1em; text-align: center; vertical-align: top\">b28479f6</td>\n",
        "        <td style=\"padding-left: 1em; padding-right: 1em; text-align: center; vertical-align: top\">e2502ec9</td>\n",
        "        <td style=\"padding-left: 1em; padding-right: 1em; text-align: center; vertical-align: top\">84898b2a</td>\n",
        "        <td style=\"padding-left: 1em; padding-right: 1em; text-align: center; vertical-align: top\">e5ba7672</td>\n",
        "        <td style=\"padding-left: 1em; padding-right: 1em; text-align: center; vertical-align: top\">42a2edb9</td>\n",
        "        <td style=\"padding-left: 1em; padding-right: 1em; text-align: center; vertical-align: top\"></td>\n",
        "        <td style=\"padding-left: 1em; padding-right: 1em; text-align: center; vertical-align: top\"></td>\n",
        "        <td style=\"padding-left: 1em; padding-right: 1em; text-align: center; vertical-align: top\">0014c32a</td>\n",
        "        <td style=\"padding-left: 1em; padding-right: 1em; text-align: center; vertical-align: top\"></td>\n",
        "        <td style=\"padding-left: 1em; padding-right: 1em; text-align: center; vertical-align: top\">32c7478e</td>\n",
        "    </tr>\n",
        "    <tr>\n",
        "        <td style=\"padding-left: 1em; padding-right: 1em; text-align: center; vertical-align: top\">3516f6e6</td>\n",
        "        <td style=\"padding-left: 1em; padding-right: 1em; text-align: center; vertical-align: top\">07d13a8f</td>\n",
        "        <td style=\"padding-left: 1em; padding-right: 1em; text-align: center; vertical-align: top\">2ae4121c</td>\n",
        "        <td style=\"padding-left: 1em; padding-right: 1em; text-align: center; vertical-align: top\">8ec71479</td>\n",
        "        <td style=\"padding-left: 1em; padding-right: 1em; text-align: center; vertical-align: top\">d4bb7bd8</td>\n",
        "        <td style=\"padding-left: 1em; padding-right: 1em; text-align: center; vertical-align: top\">70d0f5f9</td>\n",
        "        <td style=\"padding-left: 1em; padding-right: 1em; text-align: center; vertical-align: top\"></td>\n",
        "        <td style=\"padding-left: 1em; padding-right: 1em; text-align: center; vertical-align: top\"></td>\n",
        "        <td style=\"padding-left: 1em; padding-right: 1em; text-align: center; vertical-align: top\">0e63fca0</td>\n",
        "        <td style=\"padding-left: 1em; padding-right: 1em; text-align: center; vertical-align: top\"></td>\n",
        "        <td style=\"padding-left: 1em; padding-right: 1em; text-align: center; vertical-align: top\">32c7478e</td>\n",
        "    </tr>\n",
        "</table>\n",
        "<table frame=\"box\" rules=\"cols\">\n",
        "    <tr>\n",
        "        <th style=\"padding-left: 1em; padding-right: 1em; text-align: center\">C24</th>\n",
        "        <th style=\"padding-left: 1em; padding-right: 1em; text-align: center\">C25</th>\n",
        "        <th style=\"padding-left: 1em; padding-right: 1em; text-align: center\">...</th>\n",
        "    </tr>\n",
        "    <tr>\n",
        "        <td style=\"padding-left: 1em; padding-right: 1em; text-align: center; vertical-align: top\">c5c50484</td>\n",
        "        <td style=\"padding-left: 1em; padding-right: 1em; text-align: center; vertical-align: top\">e8b83407</td>\n",
        "        <td style=\"padding-left: 1em; padding-right: 1em; text-align: center; vertical-align: top\">...</td>\n",
        "    </tr>\n",
        "    <tr>\n",
        "        <td style=\"padding-left: 1em; padding-right: 1em; text-align: center; vertical-align: top\">43f13e8b</td>\n",
        "        <td style=\"padding-left: 1em; padding-right: 1em; text-align: center; vertical-align: top\">e8b83407</td>\n",
        "        <td style=\"padding-left: 1em; padding-right: 1em; text-align: center; vertical-align: top\">...</td>\n",
        "    </tr>\n",
        "    <tr>\n",
        "        <td style=\"padding-left: 1em; padding-right: 1em; text-align: center; vertical-align: top\">3b183c5c</td>\n",
        "        <td style=\"padding-left: 1em; padding-right: 1em; text-align: center; vertical-align: top\"></td>\n",
        "        <td style=\"padding-left: 1em; padding-right: 1em; text-align: center; vertical-align: top\">...</td>\n",
        "    </tr>\n",
        "    <tr>\n",
        "        <td style=\"padding-left: 1em; padding-right: 1em; text-align: center; vertical-align: top\">9117a34a</td>\n",
        "        <td style=\"padding-left: 1em; padding-right: 1em; text-align: center; vertical-align: top\"></td>\n",
        "        <td style=\"padding-left: 1em; padding-right: 1em; text-align: center; vertical-align: top\">...</td>\n",
        "    </tr>\n",
        "    <tr>\n",
        "        <td style=\"padding-left: 1em; padding-right: 1em; text-align: center; vertical-align: top\">b34f3128</td>\n",
        "        <td style=\"padding-left: 1em; padding-right: 1em; text-align: center; vertical-align: top\"></td>\n",
        "        <td style=\"padding-left: 1em; padding-right: 1em; text-align: center; vertical-align: top\">...</td>\n",
        "    </tr>\n",
        "    <tr>\n",
        "        <td style=\"padding-left: 1em; padding-right: 1em; text-align: center; vertical-align: top\">72c78f11</td>\n",
        "        <td style=\"padding-left: 1em; padding-right: 1em; text-align: center; vertical-align: top\"></td>\n",
        "        <td style=\"padding-left: 1em; padding-right: 1em; text-align: center; vertical-align: top\">...</td>\n",
        "    </tr>\n",
        "    <tr>\n",
        "        <td style=\"padding-left: 1em; padding-right: 1em; text-align: center; vertical-align: top\">1b256e61</td>\n",
        "        <td style=\"padding-left: 1em; padding-right: 1em; text-align: center; vertical-align: top\"></td>\n",
        "        <td style=\"padding-left: 1em; padding-right: 1em; text-align: center; vertical-align: top\">...</td>\n",
        "    </tr>\n",
        "    <tr>\n",
        "        <td style=\"padding-left: 1em; padding-right: 1em; text-align: center; vertical-align: top\">9117a34a</td>\n",
        "        <td style=\"padding-left: 1em; padding-right: 1em; text-align: center; vertical-align: top\"></td>\n",
        "        <td style=\"padding-left: 1em; padding-right: 1em; text-align: center; vertical-align: top\">...</td>\n",
        "    </tr>\n",
        "    <tr>\n",
        "        <td style=\"padding-left: 1em; padding-right: 1em; text-align: center; vertical-align: top\">3b183c5c</td>\n",
        "        <td style=\"padding-left: 1em; padding-right: 1em; text-align: center; vertical-align: top\"></td>\n",
        "        <td style=\"padding-left: 1em; padding-right: 1em; text-align: center; vertical-align: top\">...</td>\n",
        "    </tr>\n",
        "    <tr>\n",
        "        <td style=\"padding-left: 1em; padding-right: 1em; text-align: center; vertical-align: top\">0e8fe315</td>\n",
        "        <td style=\"padding-left: 1em; padding-right: 1em; text-align: center; vertical-align: top\"></td>\n",
        "        <td style=\"padding-left: 1em; padding-right: 1em; text-align: center; vertical-align: top\">...</td>\n",
        "    </tr>\n",
        "</table>\n",
        "[10 rows x 41 columns]<br/>\n",
        "</div>"
       ],
       "metadata": {},
       "output_type": "pyout",
       "prompt_number": 27,
       "text": [
        "Columns:\n",
        "\tId\tstr\n",
        "\tLabel\tint\n",
        "\tI1\tint\n",
        "\tI2\tint\n",
        "\tI3\tint\n",
        "\tI4\tint\n",
        "\tI5\tint\n",
        "\tI6\tint\n",
        "\tI7\tint\n",
        "\tI8\tint\n",
        "\tI9\tint\n",
        "\tI10\tint\n",
        "\tI11\tint\n",
        "\tI12\tint\n",
        "\tI13\tint\n",
        "\tC1\tstr\n",
        "\tC2\tstr\n",
        "\tC3\tstr\n",
        "\tC4\tstr\n",
        "\tC5\tstr\n",
        "\tC6\tstr\n",
        "\tC7\tstr\n",
        "\tC8\tstr\n",
        "\tC9\tstr\n",
        "\tC10\tstr\n",
        "\tC11\tstr\n",
        "\tC12\tstr\n",
        "\tC13\tstr\n",
        "\tC14\tstr\n",
        "\tC15\tstr\n",
        "\tC16\tstr\n",
        "\tC17\tstr\n",
        "\tC18\tstr\n",
        "\tC19\tstr\n",
        "\tC20\tstr\n",
        "\tC21\tstr\n",
        "\tC22\tstr\n",
        "\tC23\tstr\n",
        "\tC24\tstr\n",
        "\tC25\tstr\n",
        "\tC26\tstr\n",
        "\n",
        "Rows: 10\n",
        "\n",
        "Data:\n",
        "+----------+-------+------+-----+------+------+-------+------+----+----+-----+\n",
        "|    Id    | Label |  I1  |  I2 |  I3  |  I4  |   I5  |  I6  | I7 | I8 |  I9 |\n",
        "+----------+-------+------+-----+------+------+-------+------+----+----+-----+\n",
        "| 10000000 |   0   |  1   |  1  |  5   |  0   |  1382 |  4   | 15 | 2  | 181 |\n",
        "| 10000001 |   0   |  2   |  0  |  44  |  1   |  102  |  8   | 2  | 2  |  4  |\n",
        "| 10000002 |   0   |  2   |  0  |  1   |  14  |  767  |  89  | 4  | 2  | 245 |\n",
        "| 10000003 |   0   | None | 893 | None | None |  4392 | None | 0  | 0  |  0  |\n",
        "| 10000004 |   0   |  3   |  -1 | None |  0   |   2   |  0   | 3  | 0  |  0  |\n",
        "| 10000005 |   0   | None |  -1 | None | None | 12824 | None | 0  | 0  |  6  |\n",
        "| 10000006 |   0   | None |  1  |  2   | None |  3168 | None | 0  | 1  |  2  |\n",
        "| 10000007 |   1   |  1   |  4  |  2   |  0   |   0   |  0   | 1  | 0  |  0  |\n",
        "| 10000008 |   0   | None |  44 |  4   |  8   | 19010 | 249  | 28 | 31 | 141 |\n",
        "| 10000009 |   0   | None |  35 | None |  1   | 33737 |  21  | 1  | 2  |  3  |\n",
        "+----------+-------+------+-----+------+------+-------+------+----+----+-----+\n",
        "+------+-----+------+------+----------+----------+----------+----------+\n",
        "| I10  | I11 | I12  | I13  |    C1    |    C2    |    C3    |    C4    |\n",
        "+------+-----+------+------+----------+----------+----------+----------+\n",
        "|  1   |  2  | None |  2   | 68fd1e64 | 80e26c9b | fb936136 | 7b4723c4 |\n",
        "|  1   |  1  | None |  4   | 68fd1e64 | f0cf0024 | 6f67f7e5 | 41274cd7 |\n",
        "|  1   |  3  |  3   |  45  | 287e684f | 0a519c5c | 02cf9876 | c18be181 |\n",
        "| None |  0  | None | None | 68fd1e64 | 2c16a946 | a9a87e68 | 2e17d6f6 |\n",
        "|  1   |  1  | None |  0   | 8cf07265 | ae46a29d | c81688bb | f922efad |\n",
        "| None |  0  | None | None | 05db9164 | 6c9c9cf3 | 2730ec9c | 5400db8b |\n",
        "| None |  0  | None | None | 439a44a4 | ad4527a2 | c02372d0 | d34ebbaa |\n",
        "|  1   |  1  | None |  0   | 68fd1e64 | 2c16a946 | 503b9dbc | e4dbea90 |\n",
        "| None |  1  | None |  8   | 05db9164 | d833535f | d032c263 | c18be181 |\n",
        "| None |  1  | None |  1   | 05db9164 | 510b40a5 | d03e7c24 | eb1fd928 |\n",
        "+------+-----+------+------+----------+----------+----------+----------+\n",
        "+----------+-----+\n",
        "|    C5    | ... |\n",
        "+----------+-----+\n",
        "| 25c83c98 | ... |\n",
        "| 25c83c98 | ... |\n",
        "| 25c83c98 | ... |\n",
        "| 25c83c98 | ... |\n",
        "| 25c83c98 | ... |\n",
        "| 43b19349 | ... |\n",
        "| 43b19349 | ... |\n",
        "| f3474129 | ... |\n",
        "| 25c83c98 | ... |\n",
        "| 25c83c98 | ... |\n",
        "+----------+-----+\n",
        "[10 rows x 41 columns]"
       ]
      }
     ],
     "prompt_number": 27
    },
    {
     "cell_type": "code",
     "collapsed": false,
     "input": [
      "training_good,training_bad=training_sframe.dropna_split()"
     ],
     "language": "python",
     "metadata": {},
     "outputs": [],
     "prompt_number": 41
    },
    {
     "cell_type": "code",
     "collapsed": false,
     "input": [
      "# train a model\n",
      "features = ['I1', 'I2', 'I3', 'I4', 'I5', 'I6','I7', 'I8', 'I9','I10',\n",
      "            'I11', 'I12', 'I13',\n",
      "            'C1', 'C2', 'C3','C4', 'C5', 'C6','C7', 'C8', 'C9','C10',\n",
      "            'C11', 'C12', 'C13','C14', 'C15', 'C16','C17', 'C18', 'C19','C20',\n",
      "            'C21', 'C22', 'C23','C24', 'C25', 'C26']\n",
      "m = gl.boosted_trees.create(training_good,  #training_sframe,\n",
      "                            features=features, \n",
      "                            target='Label', objective='classification',\n",
      "                            num_iterations=100)\n"
     ],
     "language": "python",
     "metadata": {},
     "outputs": [
      {
       "html": [
        "<pre>PROGRESS: [0]\ttrain-error:0.234031</pre>"
       ],
       "metadata": {},
       "output_type": "display_data",
       "text": [
        "PROGRESS: [0]\ttrain-error:0.234031"
       ]
      },
      {
       "html": [
        "<pre>PROGRESS: [1]\ttrain-error:0.227107</pre>"
       ],
       "metadata": {},
       "output_type": "display_data",
       "text": [
        "PROGRESS: [1]\ttrain-error:0.227107"
       ]
      },
      {
       "html": [
        "<pre>PROGRESS: [2]\ttrain-error:0.223839</pre>"
       ],
       "metadata": {},
       "output_type": "display_data",
       "text": [
        "PROGRESS: [2]\ttrain-error:0.223839"
       ]
      },
      {
       "html": [
        "<pre>PROGRESS: [3]\ttrain-error:0.219949</pre>"
       ],
       "metadata": {},
       "output_type": "display_data",
       "text": [
        "PROGRESS: [3]\ttrain-error:0.219949"
       ]
      },
      {
       "html": [
        "<pre>PROGRESS: [4]\ttrain-error:0.216059</pre>"
       ],
       "metadata": {},
       "output_type": "display_data",
       "text": [
        "PROGRESS: [4]\ttrain-error:0.216059"
       ]
      },
      {
       "html": [
        "<pre>PROGRESS: [5]\ttrain-error:0.213491</pre>"
       ],
       "metadata": {},
       "output_type": "display_data",
       "text": [
        "PROGRESS: [5]\ttrain-error:0.213491"
       ]
      },
      {
       "html": [
        "<pre>PROGRESS: [6]\ttrain-error:0.210768</pre>"
       ],
       "metadata": {},
       "output_type": "display_data",
       "text": [
        "PROGRESS: [6]\ttrain-error:0.210768"
       ]
      },
      {
       "html": [
        "<pre>PROGRESS: [7]\ttrain-error:0.210379</pre>"
       ],
       "metadata": {},
       "output_type": "display_data",
       "text": [
        "PROGRESS: [7]\ttrain-error:0.210379"
       ]
      },
      {
       "html": [
        "<pre>PROGRESS: [8]\ttrain-error:0.209679</pre>"
       ],
       "metadata": {},
       "output_type": "display_data",
       "text": [
        "PROGRESS: [8]\ttrain-error:0.209679"
       ]
      },
      {
       "html": [
        "<pre>PROGRESS: [9]\ttrain-error:0.207656</pre>"
       ],
       "metadata": {},
       "output_type": "display_data",
       "text": [
        "PROGRESS: [9]\ttrain-error:0.207656"
       ]
      },
      {
       "html": [
        "<pre>PROGRESS: [10]\ttrain-error:0.205633</pre>"
       ],
       "metadata": {},
       "output_type": "display_data",
       "text": [
        "PROGRESS: [10]\ttrain-error:0.205633"
       ]
      },
      {
       "html": [
        "<pre>PROGRESS: [11]\ttrain-error:0.202210</pre>"
       ],
       "metadata": {},
       "output_type": "display_data",
       "text": [
        "PROGRESS: [11]\ttrain-error:0.202210"
       ]
      },
      {
       "html": [
        "<pre>PROGRESS: [12]\ttrain-error:0.201354</pre>"
       ],
       "metadata": {},
       "output_type": "display_data",
       "text": [
        "PROGRESS: [12]\ttrain-error:0.201354"
       ]
      },
      {
       "html": [
        "<pre>PROGRESS: [13]\ttrain-error:0.200031</pre>"
       ],
       "metadata": {},
       "output_type": "display_data",
       "text": [
        "PROGRESS: [13]\ttrain-error:0.200031"
       ]
      },
      {
       "html": [
        "<pre>PROGRESS: [14]\ttrain-error:0.199097</pre>"
       ],
       "metadata": {},
       "output_type": "display_data",
       "text": [
        "PROGRESS: [14]\ttrain-error:0.199097"
       ]
      },
      {
       "html": [
        "<pre>PROGRESS: [15]\ttrain-error:0.197075</pre>"
       ],
       "metadata": {},
       "output_type": "display_data",
       "text": [
        "PROGRESS: [15]\ttrain-error:0.197075"
       ]
      },
      {
       "html": [
        "<pre>PROGRESS: [16]\ttrain-error:0.196997</pre>"
       ],
       "metadata": {},
       "output_type": "display_data",
       "text": [
        "PROGRESS: [16]\ttrain-error:0.196997"
       ]
      },
      {
       "html": [
        "<pre>PROGRESS: [17]\ttrain-error:0.195830</pre>"
       ],
       "metadata": {},
       "output_type": "display_data",
       "text": [
        "PROGRESS: [17]\ttrain-error:0.195830"
       ]
      },
      {
       "html": [
        "<pre>PROGRESS: [18]\ttrain-error:0.194585</pre>"
       ],
       "metadata": {},
       "output_type": "display_data",
       "text": [
        "PROGRESS: [18]\ttrain-error:0.194585"
       ]
      },
      {
       "html": [
        "<pre>PROGRESS: [19]\ttrain-error:0.194040</pre>"
       ],
       "metadata": {},
       "output_type": "display_data",
       "text": [
        "PROGRESS: [19]\ttrain-error:0.194040"
       ]
      },
      {
       "html": [
        "<pre>PROGRESS: [20]\ttrain-error:0.193262</pre>"
       ],
       "metadata": {},
       "output_type": "display_data",
       "text": [
        "PROGRESS: [20]\ttrain-error:0.193262"
       ]
      },
      {
       "html": [
        "<pre>PROGRESS: [21]\ttrain-error:0.191706</pre>"
       ],
       "metadata": {},
       "output_type": "display_data",
       "text": [
        "PROGRESS: [21]\ttrain-error:0.191706"
       ]
      },
      {
       "html": [
        "<pre>PROGRESS: [22]\ttrain-error:0.190850</pre>"
       ],
       "metadata": {},
       "output_type": "display_data",
       "text": [
        "PROGRESS: [22]\ttrain-error:0.190850"
       ]
      },
      {
       "html": [
        "<pre>PROGRESS: [23]\ttrain-error:0.189995</pre>"
       ],
       "metadata": {},
       "output_type": "display_data",
       "text": [
        "PROGRESS: [23]\ttrain-error:0.189995"
       ]
      },
      {
       "html": [
        "<pre>PROGRESS: [24]\ttrain-error:0.189139</pre>"
       ],
       "metadata": {},
       "output_type": "display_data",
       "text": [
        "PROGRESS: [24]\ttrain-error:0.189139"
       ]
      },
      {
       "html": [
        "<pre>PROGRESS: [25]\ttrain-error:0.187427</pre>"
       ],
       "metadata": {},
       "output_type": "display_data",
       "text": [
        "PROGRESS: [25]\ttrain-error:0.187427"
       ]
      },
      {
       "html": [
        "<pre>PROGRESS: [26]\ttrain-error:0.186416</pre>"
       ],
       "metadata": {},
       "output_type": "display_data",
       "text": [
        "PROGRESS: [26]\ttrain-error:0.186416"
       ]
      },
      {
       "html": [
        "<pre>PROGRESS: [27]\ttrain-error:0.185871</pre>"
       ],
       "metadata": {},
       "output_type": "display_data",
       "text": [
        "PROGRESS: [27]\ttrain-error:0.185871"
       ]
      },
      {
       "html": [
        "<pre>PROGRESS: [28]\ttrain-error:0.185482</pre>"
       ],
       "metadata": {},
       "output_type": "display_data",
       "text": [
        "PROGRESS: [28]\ttrain-error:0.185482"
       ]
      },
      {
       "html": [
        "<pre>PROGRESS: [29]\ttrain-error:0.184393</pre>"
       ],
       "metadata": {},
       "output_type": "display_data",
       "text": [
        "PROGRESS: [29]\ttrain-error:0.184393"
       ]
      },
      {
       "html": [
        "<pre>PROGRESS: [30]\ttrain-error:0.183693</pre>"
       ],
       "metadata": {},
       "output_type": "display_data",
       "text": [
        "PROGRESS: [30]\ttrain-error:0.183693"
       ]
      },
      {
       "html": [
        "<pre>PROGRESS: [31]\ttrain-error:0.182448</pre>"
       ],
       "metadata": {},
       "output_type": "display_data",
       "text": [
        "PROGRESS: [31]\ttrain-error:0.182448"
       ]
      },
      {
       "html": [
        "<pre>PROGRESS: [32]\ttrain-error:0.182292</pre>"
       ],
       "metadata": {},
       "output_type": "display_data",
       "text": [
        "PROGRESS: [32]\ttrain-error:0.182292"
       ]
      },
      {
       "html": [
        "<pre>PROGRESS: [33]\ttrain-error:0.181825</pre>"
       ],
       "metadata": {},
       "output_type": "display_data",
       "text": [
        "PROGRESS: [33]\ttrain-error:0.181825"
       ]
      },
      {
       "html": [
        "<pre>PROGRESS: [34]\ttrain-error:0.181047</pre>"
       ],
       "metadata": {},
       "output_type": "display_data",
       "text": [
        "PROGRESS: [34]\ttrain-error:0.181047"
       ]
      },
      {
       "html": [
        "<pre>PROGRESS: [35]\ttrain-error:0.180036</pre>"
       ],
       "metadata": {},
       "output_type": "display_data",
       "text": [
        "PROGRESS: [35]\ttrain-error:0.180036"
       ]
      },
      {
       "html": [
        "<pre>PROGRESS: [36]\ttrain-error:0.179258</pre>"
       ],
       "metadata": {},
       "output_type": "display_data",
       "text": [
        "PROGRESS: [36]\ttrain-error:0.179258"
       ]
      },
      {
       "html": [
        "<pre>PROGRESS: [37]\ttrain-error:0.178480</pre>"
       ],
       "metadata": {},
       "output_type": "display_data",
       "text": [
        "PROGRESS: [37]\ttrain-error:0.178480"
       ]
      },
      {
       "html": [
        "<pre>PROGRESS: [38]\ttrain-error:0.178169</pre>"
       ],
       "metadata": {},
       "output_type": "display_data",
       "text": [
        "PROGRESS: [38]\ttrain-error:0.178169"
       ]
      },
      {
       "html": [
        "<pre>PROGRESS: [39]\ttrain-error:0.177857</pre>"
       ],
       "metadata": {},
       "output_type": "display_data",
       "text": [
        "PROGRESS: [39]\ttrain-error:0.177857"
       ]
      },
      {
       "html": [
        "<pre>PROGRESS: [40]\ttrain-error:0.177546</pre>"
       ],
       "metadata": {},
       "output_type": "display_data",
       "text": [
        "PROGRESS: [40]\ttrain-error:0.177546"
       ]
      },
      {
       "html": [
        "<pre>PROGRESS: [41]\ttrain-error:0.176924</pre>"
       ],
       "metadata": {},
       "output_type": "display_data",
       "text": [
        "PROGRESS: [41]\ttrain-error:0.176924"
       ]
      },
      {
       "html": [
        "<pre>PROGRESS: [42]\ttrain-error:0.176457</pre>"
       ],
       "metadata": {},
       "output_type": "display_data",
       "text": [
        "PROGRESS: [42]\ttrain-error:0.176457"
       ]
      },
      {
       "html": [
        "<pre>PROGRESS: [43]\ttrain-error:0.175601</pre>"
       ],
       "metadata": {},
       "output_type": "display_data",
       "text": [
        "PROGRESS: [43]\ttrain-error:0.175601"
       ]
      },
      {
       "html": [
        "<pre>PROGRESS: [44]\ttrain-error:0.174512</pre>"
       ],
       "metadata": {},
       "output_type": "display_data",
       "text": [
        "PROGRESS: [44]\ttrain-error:0.174512"
       ]
      },
      {
       "html": [
        "<pre>PROGRESS: [45]\ttrain-error:0.172178</pre>"
       ],
       "metadata": {},
       "output_type": "display_data",
       "text": [
        "PROGRESS: [45]\ttrain-error:0.172178"
       ]
      },
      {
       "html": [
        "<pre>PROGRESS: [46]\ttrain-error:0.171944</pre>"
       ],
       "metadata": {},
       "output_type": "display_data",
       "text": [
        "PROGRESS: [46]\ttrain-error:0.171944"
       ]
      },
      {
       "html": [
        "<pre>PROGRESS: [47]\ttrain-error:0.171477</pre>"
       ],
       "metadata": {},
       "output_type": "display_data",
       "text": [
        "PROGRESS: [47]\ttrain-error:0.171477"
       ]
      },
      {
       "html": [
        "<pre>PROGRESS: [48]\ttrain-error:0.171244</pre>"
       ],
       "metadata": {},
       "output_type": "display_data",
       "text": [
        "PROGRESS: [48]\ttrain-error:0.171244"
       ]
      },
      {
       "html": [
        "<pre>PROGRESS: [49]\ttrain-error:0.170933</pre>"
       ],
       "metadata": {},
       "output_type": "display_data",
       "text": [
        "PROGRESS: [49]\ttrain-error:0.170933"
       ]
      },
      {
       "html": [
        "<pre>PROGRESS: [50]\ttrain-error:0.170233</pre>"
       ],
       "metadata": {},
       "output_type": "display_data",
       "text": [
        "PROGRESS: [50]\ttrain-error:0.170233"
       ]
      },
      {
       "html": [
        "<pre>PROGRESS: [51]\ttrain-error:0.170077</pre>"
       ],
       "metadata": {},
       "output_type": "display_data",
       "text": [
        "PROGRESS: [51]\ttrain-error:0.170077"
       ]
      },
      {
       "html": [
        "<pre>PROGRESS: [52]\ttrain-error:0.169844</pre>"
       ],
       "metadata": {},
       "output_type": "display_data",
       "text": [
        "PROGRESS: [52]\ttrain-error:0.169844"
       ]
      },
      {
       "html": [
        "<pre>PROGRESS: [53]\ttrain-error:0.168443</pre>"
       ],
       "metadata": {},
       "output_type": "display_data",
       "text": [
        "PROGRESS: [53]\ttrain-error:0.168443"
       ]
      },
      {
       "html": [
        "<pre>PROGRESS: [54]\ttrain-error:0.168132</pre>"
       ],
       "metadata": {},
       "output_type": "display_data",
       "text": [
        "PROGRESS: [54]\ttrain-error:0.168132"
       ]
      },
      {
       "html": [
        "<pre>PROGRESS: [55]\ttrain-error:0.167043</pre>"
       ],
       "metadata": {},
       "output_type": "display_data",
       "text": [
        "PROGRESS: [55]\ttrain-error:0.167043"
       ]
      },
      {
       "html": [
        "<pre>PROGRESS: [56]\ttrain-error:0.166187</pre>"
       ],
       "metadata": {},
       "output_type": "display_data",
       "text": [
        "PROGRESS: [56]\ttrain-error:0.166187"
       ]
      },
      {
       "html": [
        "<pre>PROGRESS: [57]\ttrain-error:0.165876</pre>"
       ],
       "metadata": {},
       "output_type": "display_data",
       "text": [
        "PROGRESS: [57]\ttrain-error:0.165876"
       ]
      },
      {
       "html": [
        "<pre>PROGRESS: [58]\ttrain-error:0.165487</pre>"
       ],
       "metadata": {},
       "output_type": "display_data",
       "text": [
        "PROGRESS: [58]\ttrain-error:0.165487"
       ]
      },
      {
       "html": [
        "<pre>PROGRESS: [59]\ttrain-error:0.165331</pre>"
       ],
       "metadata": {},
       "output_type": "display_data",
       "text": [
        "PROGRESS: [59]\ttrain-error:0.165331"
       ]
      },
      {
       "html": [
        "<pre>PROGRESS: [60]\ttrain-error:0.164709</pre>"
       ],
       "metadata": {},
       "output_type": "display_data",
       "text": [
        "PROGRESS: [60]\ttrain-error:0.164709"
       ]
      },
      {
       "html": [
        "<pre>PROGRESS: [61]\ttrain-error:0.163308</pre>"
       ],
       "metadata": {},
       "output_type": "display_data",
       "text": [
        "PROGRESS: [61]\ttrain-error:0.163308"
       ]
      },
      {
       "html": [
        "<pre>PROGRESS: [62]\ttrain-error:0.162452</pre>"
       ],
       "metadata": {},
       "output_type": "display_data",
       "text": [
        "PROGRESS: [62]\ttrain-error:0.162452"
       ]
      },
      {
       "html": [
        "<pre>PROGRESS: [63]\ttrain-error:0.162686</pre>"
       ],
       "metadata": {},
       "output_type": "display_data",
       "text": [
        "PROGRESS: [63]\ttrain-error:0.162686"
       ]
      },
      {
       "html": [
        "<pre>PROGRESS: [64]\ttrain-error:0.162686</pre>"
       ],
       "metadata": {},
       "output_type": "display_data",
       "text": [
        "PROGRESS: [64]\ttrain-error:0.162686"
       ]
      },
      {
       "html": [
        "<pre>PROGRESS: [65]\ttrain-error:0.162219</pre>"
       ],
       "metadata": {},
       "output_type": "display_data",
       "text": [
        "PROGRESS: [65]\ttrain-error:0.162219"
       ]
      },
      {
       "html": [
        "<pre>PROGRESS: [66]\ttrain-error:0.162063</pre>"
       ],
       "metadata": {},
       "output_type": "display_data",
       "text": [
        "PROGRESS: [66]\ttrain-error:0.162063"
       ]
      },
      {
       "html": [
        "<pre>PROGRESS: [67]\ttrain-error:0.161830</pre>"
       ],
       "metadata": {},
       "output_type": "display_data",
       "text": [
        "PROGRESS: [67]\ttrain-error:0.161830"
       ]
      },
      {
       "html": [
        "<pre>PROGRESS: [68]\ttrain-error:0.161674</pre>"
       ],
       "metadata": {},
       "output_type": "display_data",
       "text": [
        "PROGRESS: [68]\ttrain-error:0.161674"
       ]
      },
      {
       "html": [
        "<pre>PROGRESS: [69]\ttrain-error:0.161519</pre>"
       ],
       "metadata": {},
       "output_type": "display_data",
       "text": [
        "PROGRESS: [69]\ttrain-error:0.161519"
       ]
      },
      {
       "html": [
        "<pre>PROGRESS: [70]\ttrain-error:0.160896</pre>"
       ],
       "metadata": {},
       "output_type": "display_data",
       "text": [
        "PROGRESS: [70]\ttrain-error:0.160896"
       ]
      },
      {
       "html": [
        "<pre>PROGRESS: [71]\ttrain-error:0.160274</pre>"
       ],
       "metadata": {},
       "output_type": "display_data",
       "text": [
        "PROGRESS: [71]\ttrain-error:0.160274"
       ]
      },
      {
       "html": [
        "<pre>PROGRESS: [72]\ttrain-error:0.159729</pre>"
       ],
       "metadata": {},
       "output_type": "display_data",
       "text": [
        "PROGRESS: [72]\ttrain-error:0.159729"
       ]
      },
      {
       "html": [
        "<pre>PROGRESS: [73]\ttrain-error:0.159418</pre>"
       ],
       "metadata": {},
       "output_type": "display_data",
       "text": [
        "PROGRESS: [73]\ttrain-error:0.159418"
       ]
      },
      {
       "html": [
        "<pre>PROGRESS: [74]\ttrain-error:0.159340</pre>"
       ],
       "metadata": {},
       "output_type": "display_data",
       "text": [
        "PROGRESS: [74]\ttrain-error:0.159340"
       ]
      },
      {
       "html": [
        "<pre>PROGRESS: [75]\ttrain-error:0.158018</pre>"
       ],
       "metadata": {},
       "output_type": "display_data",
       "text": [
        "PROGRESS: [75]\ttrain-error:0.158018"
       ]
      },
      {
       "html": [
        "<pre>PROGRESS: [76]\ttrain-error:0.157784</pre>"
       ],
       "metadata": {},
       "output_type": "display_data",
       "text": [
        "PROGRESS: [76]\ttrain-error:0.157784"
       ]
      },
      {
       "html": [
        "<pre>PROGRESS: [77]\ttrain-error:0.157629</pre>"
       ],
       "metadata": {},
       "output_type": "display_data",
       "text": [
        "PROGRESS: [77]\ttrain-error:0.157629"
       ]
      },
      {
       "html": [
        "<pre>PROGRESS: [78]\ttrain-error:0.157006</pre>"
       ],
       "metadata": {},
       "output_type": "display_data",
       "text": [
        "PROGRESS: [78]\ttrain-error:0.157006"
       ]
      },
      {
       "html": [
        "<pre>PROGRESS: [79]\ttrain-error:0.156695</pre>"
       ],
       "metadata": {},
       "output_type": "display_data",
       "text": [
        "PROGRESS: [79]\ttrain-error:0.156695"
       ]
      },
      {
       "html": [
        "<pre>PROGRESS: [80]\ttrain-error:0.156384</pre>"
       ],
       "metadata": {},
       "output_type": "display_data",
       "text": [
        "PROGRESS: [80]\ttrain-error:0.156384"
       ]
      },
      {
       "html": [
        "<pre>PROGRESS: [81]\ttrain-error:0.155995</pre>"
       ],
       "metadata": {},
       "output_type": "display_data",
       "text": [
        "PROGRESS: [81]\ttrain-error:0.155995"
       ]
      },
      {
       "html": [
        "<pre>PROGRESS: [82]\ttrain-error:0.155684</pre>"
       ],
       "metadata": {},
       "output_type": "display_data",
       "text": [
        "PROGRESS: [82]\ttrain-error:0.155684"
       ]
      },
      {
       "html": [
        "<pre>PROGRESS: [83]\ttrain-error:0.155139</pre>"
       ],
       "metadata": {},
       "output_type": "display_data",
       "text": [
        "PROGRESS: [83]\ttrain-error:0.155139"
       ]
      },
      {
       "html": [
        "<pre>PROGRESS: [84]\ttrain-error:0.154594</pre>"
       ],
       "metadata": {},
       "output_type": "display_data",
       "text": [
        "PROGRESS: [84]\ttrain-error:0.154594"
       ]
      },
      {
       "html": [
        "<pre>PROGRESS: [85]\ttrain-error:0.154516</pre>"
       ],
       "metadata": {},
       "output_type": "display_data",
       "text": [
        "PROGRESS: [85]\ttrain-error:0.154516"
       ]
      },
      {
       "html": [
        "<pre>PROGRESS: [86]\ttrain-error:0.154205</pre>"
       ],
       "metadata": {},
       "output_type": "display_data",
       "text": [
        "PROGRESS: [86]\ttrain-error:0.154205"
       ]
      },
      {
       "html": [
        "<pre>PROGRESS: [87]\ttrain-error:0.153972</pre>"
       ],
       "metadata": {},
       "output_type": "display_data",
       "text": [
        "PROGRESS: [87]\ttrain-error:0.153972"
       ]
      },
      {
       "html": [
        "<pre>PROGRESS: [88]\ttrain-error:0.152883</pre>"
       ],
       "metadata": {},
       "output_type": "display_data",
       "text": [
        "PROGRESS: [88]\ttrain-error:0.152883"
       ]
      },
      {
       "html": [
        "<pre>PROGRESS: [89]\ttrain-error:0.152571</pre>"
       ],
       "metadata": {},
       "output_type": "display_data",
       "text": [
        "PROGRESS: [89]\ttrain-error:0.152571"
       ]
      },
      {
       "html": [
        "<pre>PROGRESS: [90]\ttrain-error:0.152260</pre>"
       ],
       "metadata": {},
       "output_type": "display_data",
       "text": [
        "PROGRESS: [90]\ttrain-error:0.152260"
       ]
      },
      {
       "html": [
        "<pre>PROGRESS: [91]\ttrain-error:0.151949</pre>"
       ],
       "metadata": {},
       "output_type": "display_data",
       "text": [
        "PROGRESS: [91]\ttrain-error:0.151949"
       ]
      },
      {
       "html": [
        "<pre>PROGRESS: [92]\ttrain-error:0.151560</pre>"
       ],
       "metadata": {},
       "output_type": "display_data",
       "text": [
        "PROGRESS: [92]\ttrain-error:0.151560"
       ]
      },
      {
       "html": [
        "<pre>PROGRESS: [93]\ttrain-error:0.151482</pre>"
       ],
       "metadata": {},
       "output_type": "display_data",
       "text": [
        "PROGRESS: [93]\ttrain-error:0.151482"
       ]
      },
      {
       "html": [
        "<pre>PROGRESS: [94]\ttrain-error:0.151015</pre>"
       ],
       "metadata": {},
       "output_type": "display_data",
       "text": [
        "PROGRESS: [94]\ttrain-error:0.151015"
       ]
      },
      {
       "html": [
        "<pre>PROGRESS: [95]\ttrain-error:0.150159</pre>"
       ],
       "metadata": {},
       "output_type": "display_data",
       "text": [
        "PROGRESS: [95]\ttrain-error:0.150159"
       ]
      },
      {
       "html": [
        "<pre>PROGRESS: [96]\ttrain-error:0.150082</pre>"
       ],
       "metadata": {},
       "output_type": "display_data",
       "text": [
        "PROGRESS: [96]\ttrain-error:0.150082"
       ]
      },
      {
       "html": [
        "<pre>PROGRESS: [97]\ttrain-error:0.149615</pre>"
       ],
       "metadata": {},
       "output_type": "display_data",
       "text": [
        "PROGRESS: [97]\ttrain-error:0.149615"
       ]
      },
      {
       "html": [
        "<pre>PROGRESS: [98]\ttrain-error:0.149304</pre>"
       ],
       "metadata": {},
       "output_type": "display_data",
       "text": [
        "PROGRESS: [98]\ttrain-error:0.149304"
       ]
      },
      {
       "html": [
        "<pre>PROGRESS: [99]\ttrain-error:0.149459</pre>"
       ],
       "metadata": {},
       "output_type": "display_data",
       "text": [
        "PROGRESS: [99]\ttrain-error:0.149459"
       ]
      }
     ],
     "prompt_number": 42
    },
    {
     "cell_type": "code",
     "collapsed": false,
     "input": [
      "import numpy as np\n",
      "def rmse(predictions, targets):\n",
      "    return np.sqrt( ((predictions - targets) *(predictions - targets)).mean())\n",
      "pred1 = m.predict(training_good)\n",
      "rmse(training_good['Label']+1, pred1)\n"
     ],
     "language": "python",
     "metadata": {},
     "outputs": [
      {
       "metadata": {},
       "output_type": "pyout",
       "prompt_number": 43,
       "text": [
        "1.0539996100412758"
       ]
      }
     ],
     "prompt_number": 43
    },
    {
     "cell_type": "code",
     "collapsed": false,
     "input": [
      "for f in features:    \n",
      "    test_sframe[f] = test_sframe[f].apply(lambda x : 0  )\n",
      "\n",
      "#test_good, test_bad  = test_sframe.dropna_split()"
     ],
     "language": "python",
     "metadata": {},
     "outputs": [],
     "prompt_number": 62
    },
    {
     "cell_type": "code",
     "collapsed": false,
     "input": [
      "# predict on test data\n",
      "prediction = m.predict(test_sframe)  #sframe)\n",
      "prediction = prediction.astype(int)"
     ],
     "language": "python",
     "metadata": {},
     "outputs": [
      {
       "output_type": "stream",
       "stream": "stderr",
       "text": [
        "[ERROR] Toolkit error: Missing value (None) encountered in column 'I12'. Use the SFrame's dropna function to drop rows with 'None' values in them.\n"
       ]
      },
      {
       "ename": "ToolkitError",
       "evalue": "Missing value (None) encountered in column 'I12'. Use the SFrame's dropna function to drop rows with 'None' values in them.",
       "output_type": "pyerr",
       "traceback": [
        "\u001b[1;31m---------------------------------------------------------------------------\u001b[0m\n\u001b[1;31mToolkitError\u001b[0m                              Traceback (most recent call last)",
        "\u001b[1;32m<ipython-input-64-947aa08a1f3b>\u001b[0m in \u001b[0;36m<module>\u001b[1;34m()\u001b[0m\n\u001b[0;32m      1\u001b[0m \u001b[1;31m# predict on test data\u001b[0m\u001b[1;33m\u001b[0m\u001b[1;33m\u001b[0m\u001b[0m\n\u001b[1;32m----> 2\u001b[1;33m \u001b[0mprediction\u001b[0m \u001b[1;33m=\u001b[0m \u001b[0mm\u001b[0m\u001b[1;33m.\u001b[0m\u001b[0mpredict\u001b[0m\u001b[1;33m(\u001b[0m\u001b[0mtest_sframe\u001b[0m\u001b[1;33m)\u001b[0m  \u001b[1;31m#sframe)\u001b[0m\u001b[1;33m\u001b[0m\u001b[0m\n\u001b[0m\u001b[0;32m      3\u001b[0m \u001b[0mprediction\u001b[0m \u001b[1;33m=\u001b[0m \u001b[0mprediction\u001b[0m\u001b[1;33m.\u001b[0m\u001b[0mastype\u001b[0m\u001b[1;33m(\u001b[0m\u001b[0mint\u001b[0m\u001b[1;33m)\u001b[0m\u001b[1;33m\u001b[0m\u001b[0m\n",
        "\u001b[1;32m/usr/local/lib/python2.7/dist-packages/graphlab/toolkits/tree_ensembles/boosted_trees.pyc\u001b[0m in \u001b[0;36mpredict\u001b[1;34m(self, dataset, output_type)\u001b[0m\n\u001b[0;32m    394\u001b[0m         \u001b[1;32mif\u001b[0m \u001b[0moutput_type\u001b[0m \u001b[1;33m==\u001b[0m \u001b[1;34m'margin'\u001b[0m\u001b[1;33m:\u001b[0m\u001b[1;33m\u001b[0m\u001b[0m\n\u001b[0;32m    395\u001b[0m             \u001b[0mopts\u001b[0m\u001b[1;33m[\u001b[0m\u001b[1;34m'is_raw'\u001b[0m\u001b[1;33m]\u001b[0m \u001b[1;33m=\u001b[0m \u001b[1;36m1\u001b[0m\u001b[1;33m\u001b[0m\u001b[0m\n\u001b[1;32m--> 396\u001b[1;33m         \u001b[0mresponse\u001b[0m \u001b[1;33m=\u001b[0m \u001b[0m_graphlab\u001b[0m\u001b[1;33m.\u001b[0m\u001b[0mtoolkits\u001b[0m\u001b[1;33m.\u001b[0m\u001b[0mmain\u001b[0m\u001b[1;33m.\u001b[0m\u001b[0mrun\u001b[0m\u001b[1;33m(\u001b[0m\u001b[1;34m\"xgboost_predict\"\u001b[0m\u001b[1;33m,\u001b[0m \u001b[0mopts\u001b[0m\u001b[1;33m)\u001b[0m\u001b[1;33m\u001b[0m\u001b[0m\n\u001b[0m\u001b[0;32m    397\u001b[0m         \u001b[1;31m# Convert predictions to an SArray\u001b[0m\u001b[1;33m\u001b[0m\u001b[1;33m\u001b[0m\u001b[0m\n\u001b[0;32m    398\u001b[0m         \u001b[1;32mreturn\u001b[0m \u001b[0m_SArray\u001b[0m\u001b[1;33m(\u001b[0m\u001b[0mNone\u001b[0m\u001b[1;33m,\u001b[0m \u001b[0m_proxy\u001b[0m\u001b[1;33m=\u001b[0m\u001b[0mresponse\u001b[0m\u001b[1;33m[\u001b[0m\u001b[1;34m'predictions'\u001b[0m\u001b[1;33m]\u001b[0m\u001b[1;33m)\u001b[0m\u001b[1;33m\u001b[0m\u001b[0m\n",
        "\u001b[1;32m/usr/local/lib/python2.7/dist-packages/graphlab/toolkits/main.pyc\u001b[0m in \u001b[0;36mrun\u001b[1;34m(toolkit_name, options, verbose, show_progress)\u001b[0m\n\u001b[0;32m    100\u001b[0m         \u001b[1;32mreturn\u001b[0m \u001b[0mparams\u001b[0m\u001b[1;33m\u001b[0m\u001b[0m\n\u001b[0;32m    101\u001b[0m     \u001b[1;32melse\u001b[0m\u001b[1;33m:\u001b[0m\u001b[1;33m\u001b[0m\u001b[0m\n\u001b[1;32m--> 102\u001b[1;33m         \u001b[1;32mraise\u001b[0m \u001b[0mToolkitError\u001b[0m\u001b[1;33m(\u001b[0m\u001b[0mstr\u001b[0m\u001b[1;33m(\u001b[0m\u001b[0mmessage\u001b[0m\u001b[1;33m)\u001b[0m\u001b[1;33m)\u001b[0m\u001b[1;33m\u001b[0m\u001b[0m\n\u001b[0m",
        "\u001b[1;31mToolkitError\u001b[0m: Missing value (None) encountered in column 'I12'. Use the SFrame's dropna function to drop rows with 'None' values in them."
       ]
      }
     ],
     "prompt_number": 64
    },
    {
     "cell_type": "code",
     "collapsed": false,
     "input": [
      "# predict on test data\n",
      "prediction = m.predict(test_sframe)\n",
      "prediction = prediction.astype(int)\n",
      "\n",
      "#submission\n",
      "def make_submission(prediction, filename='submission.txt'):\n",
      "    with open(filename, 'w') as f:\n",
      "        f.write('Id,Predicted\\n')\n",
      "        submission_strings = test_sframe['Id'] + ',' + prediction.astype(str)\n",
      "        for row in submission_strings:\n",
      "            f.write(row + '\\n')\n",
      "\n",
      "make_submission(prediction, 'submission1.txt')"
     ],
     "language": "python",
     "metadata": {},
     "outputs": [
      {
       "output_type": "stream",
       "stream": "stderr",
       "text": [
        "[ERROR] Toolkit error: Missing value (None) encountered in column 'I12'. Use the SFrame's dropna function to drop rows with 'None' values in them.\n"
       ]
      },
      {
       "ename": "ToolkitError",
       "evalue": "Missing value (None) encountered in column 'I12'. Use the SFrame's dropna function to drop rows with 'None' values in them.",
       "output_type": "pyerr",
       "traceback": [
        "\u001b[1;31m---------------------------------------------------------------------------\u001b[0m\n\u001b[1;31mToolkitError\u001b[0m                              Traceback (most recent call last)",
        "\u001b[1;32m<ipython-input-49-445a58ad6fb0>\u001b[0m in \u001b[0;36m<module>\u001b[1;34m()\u001b[0m\n\u001b[0;32m      1\u001b[0m \u001b[1;31m# predict on test data\u001b[0m\u001b[1;33m\u001b[0m\u001b[1;33m\u001b[0m\u001b[0m\n\u001b[1;32m----> 2\u001b[1;33m \u001b[0mprediction\u001b[0m \u001b[1;33m=\u001b[0m \u001b[0mm\u001b[0m\u001b[1;33m.\u001b[0m\u001b[0mpredict\u001b[0m\u001b[1;33m(\u001b[0m\u001b[0mtest_sframe\u001b[0m\u001b[1;33m)\u001b[0m\u001b[1;33m\u001b[0m\u001b[0m\n\u001b[0m\u001b[0;32m      3\u001b[0m \u001b[0mprediction\u001b[0m \u001b[1;33m=\u001b[0m \u001b[0mprediction\u001b[0m\u001b[1;33m.\u001b[0m\u001b[0mastype\u001b[0m\u001b[1;33m(\u001b[0m\u001b[0mint\u001b[0m\u001b[1;33m)\u001b[0m\u001b[1;33m\u001b[0m\u001b[0m\n\u001b[0;32m      4\u001b[0m \u001b[1;33m\u001b[0m\u001b[0m\n\u001b[0;32m      5\u001b[0m \u001b[1;31m#submission\u001b[0m\u001b[1;33m\u001b[0m\u001b[1;33m\u001b[0m\u001b[0m\n",
        "\u001b[1;32m/usr/local/lib/python2.7/dist-packages/graphlab/toolkits/tree_ensembles/boosted_trees.pyc\u001b[0m in \u001b[0;36mpredict\u001b[1;34m(self, dataset, output_type)\u001b[0m\n\u001b[0;32m    394\u001b[0m         \u001b[1;32mif\u001b[0m \u001b[0moutput_type\u001b[0m \u001b[1;33m==\u001b[0m \u001b[1;34m'margin'\u001b[0m\u001b[1;33m:\u001b[0m\u001b[1;33m\u001b[0m\u001b[0m\n\u001b[0;32m    395\u001b[0m             \u001b[0mopts\u001b[0m\u001b[1;33m[\u001b[0m\u001b[1;34m'is_raw'\u001b[0m\u001b[1;33m]\u001b[0m \u001b[1;33m=\u001b[0m \u001b[1;36m1\u001b[0m\u001b[1;33m\u001b[0m\u001b[0m\n\u001b[1;32m--> 396\u001b[1;33m         \u001b[0mresponse\u001b[0m \u001b[1;33m=\u001b[0m \u001b[0m_graphlab\u001b[0m\u001b[1;33m.\u001b[0m\u001b[0mtoolkits\u001b[0m\u001b[1;33m.\u001b[0m\u001b[0mmain\u001b[0m\u001b[1;33m.\u001b[0m\u001b[0mrun\u001b[0m\u001b[1;33m(\u001b[0m\u001b[1;34m\"xgboost_predict\"\u001b[0m\u001b[1;33m,\u001b[0m \u001b[0mopts\u001b[0m\u001b[1;33m)\u001b[0m\u001b[1;33m\u001b[0m\u001b[0m\n\u001b[0m\u001b[0;32m    397\u001b[0m         \u001b[1;31m# Convert predictions to an SArray\u001b[0m\u001b[1;33m\u001b[0m\u001b[1;33m\u001b[0m\u001b[0m\n\u001b[0;32m    398\u001b[0m         \u001b[1;32mreturn\u001b[0m \u001b[0m_SArray\u001b[0m\u001b[1;33m(\u001b[0m\u001b[0mNone\u001b[0m\u001b[1;33m,\u001b[0m \u001b[0m_proxy\u001b[0m\u001b[1;33m=\u001b[0m\u001b[0mresponse\u001b[0m\u001b[1;33m[\u001b[0m\u001b[1;34m'predictions'\u001b[0m\u001b[1;33m]\u001b[0m\u001b[1;33m)\u001b[0m\u001b[1;33m\u001b[0m\u001b[0m\n",
        "\u001b[1;32m/usr/local/lib/python2.7/dist-packages/graphlab/toolkits/main.pyc\u001b[0m in \u001b[0;36mrun\u001b[1;34m(toolkit_name, options, verbose, show_progress)\u001b[0m\n\u001b[0;32m    100\u001b[0m         \u001b[1;32mreturn\u001b[0m \u001b[0mparams\u001b[0m\u001b[1;33m\u001b[0m\u001b[0m\n\u001b[0;32m    101\u001b[0m     \u001b[1;32melse\u001b[0m\u001b[1;33m:\u001b[0m\u001b[1;33m\u001b[0m\u001b[0m\n\u001b[1;32m--> 102\u001b[1;33m         \u001b[1;32mraise\u001b[0m \u001b[0mToolkitError\u001b[0m\u001b[1;33m(\u001b[0m\u001b[0mstr\u001b[0m\u001b[1;33m(\u001b[0m\u001b[0mmessage\u001b[0m\u001b[1;33m)\u001b[0m\u001b[1;33m)\u001b[0m\u001b[1;33m\u001b[0m\u001b[0m\n\u001b[0m",
        "\u001b[1;31mToolkitError\u001b[0m: Missing value (None) encountered in column 'I12'. Use the SFrame's dropna function to drop rows with 'None' values in them."
       ]
      }
     ],
     "prompt_number": 49
    },
    {
     "cell_type": "code",
     "collapsed": false,
     "input": [
      "#Define the search space\n",
      "ntrees = 500\n",
      "search_space = {\n",
      "    'params': {\n",
      "        'max_depth': [10, 15, 20],\n",
      "        'min_child_weight': [5, 10, 20],\n",
      "        'step_size': 0.05,\n",
      "    },\n",
      "    'num_iterations': [ntrees]\n",
      "}\n",
      "\n",
      "def parameter_search(training_url, validation_url, default_params):\n",
      "    \"\"\"\n",
      "    Return the optimal parameters in the given search space.\n",
      "    The parameter returned has the lowest validation rmse.\n",
      "    \"\"\"\n",
      "    job = gl.toolkits.model_parameter_search(env, gl.boosted_trees.create,\n",
      "                                             train_set_path=training_url,\n",
      "                                             save_path='/tmp/job_output',\n",
      "                                             standard_model_params=default_params,\n",
      "                                             hyper_params=search_space,\n",
      "                                             test_set_path=validation_url)\n",
      "\n",
      "\n",
      "    # When the job is done, the result is stored in an SFrame\n",
      "    # The result contains attributes of the models in the search space\n",
      "    # and the validation error in RMSE. \n",
      "    result = gl.SFrame('/tmp/job_output').sort('rmse', ascending=True)\n",
      "\n",
      "    # Return the parameters with the lowest validation error. \n",
      "    optimal_params = result[['max_depth', 'min_child_weight']][0]\n",
      "    optimal_rmse = result['rmse'][0]\n",
      "    print 'Optimal parameters: %s' % str(optimal_params)\n",
      "    print 'RMSE: %s' % str(optimal_rmse)\n",
      "    return optimal_params\n"
     ],
     "language": "python",
     "metadata": {},
     "outputs": []
    },
    {
     "cell_type": "code",
     "collapsed": false,
     "input": [
      "gl.version\n",
      "#Perform hyperparameter search for both models\n",
      "fixed_params = {'features': new_features,\n",
      "                'verbose': False}\n",
      "\n",
      "fixed_params['target'] = 'log-casual'\n",
      "params_log_casual = parameter_search('/tmp/training',\n",
      "                                     '/tmp/validation',\n",
      "                                     fixed_params)\n"
     ],
     "language": "python",
     "metadata": {},
     "outputs": []
    },
    {
     "cell_type": "code",
     "collapsed": false,
     "input": [
      "params_log_casual"
     ],
     "language": "python",
     "metadata": {},
     "outputs": []
    },
    {
     "cell_type": "code",
     "collapsed": false,
     "input": [
      "\n",
      "fixed_params['target'] = 'log-registered'\n",
      "params_log_registered = parameter_search('/tmp/training',\n",
      "                                         '/tmp/validation',\n",
      "                                         fixed_params)"
     ],
     "language": "python",
     "metadata": {},
     "outputs": []
    },
    {
     "cell_type": "code",
     "collapsed": false,
     "input": [
      "#env= gl.deploy.environment.Local('hyperparam_search1')\n",
      "fixed_params = {'features': new_features,\n",
      "                'verbose': False}\n",
      "\n",
      "fixed_params['target'] = 'log-casual'\n",
      "fixed_params\n",
      "ntrees = 500\n",
      "\n",
      "\n",
      "\n"
     ],
     "language": "python",
     "metadata": {},
     "outputs": []
    },
    {
     "cell_type": "code",
     "collapsed": false,
     "input": [
      "standard_model_params = {'features': new_features,\n",
      "                        'target':'log-casual'}\n",
      "\n",
      "search_space = {\n",
      "    'params': {        'max_depth': [10, 15, 20],        'min_child_weight': [5, 10, 20]    },\n",
      "    'num_iterations': [ntrees]\n",
      "}\n",
      "    \n",
      "job = gl.toolkits.model_parameter_search(env,\n",
      "                                         gl.boosted_trees.create,\n",
      "                                         train_set_path='/tmp/training',\n",
      "                                         save_path='/tmp/job_output1',\n",
      "                                         test_set_path='/tmp/validation',\n",
      "                                         standard_model_params=standard_model_params,\n",
      "                                         hyper_params=search_space\n",
      "                                        )"
     ],
     "language": "python",
     "metadata": {},
     "outputs": []
    },
    {
     "cell_type": "code",
     "collapsed": false,
     "input": [
      "result = gl.SFrame('/tmp/job_output1').sort('rmse', ascending=True)\n",
      "result"
     ],
     "language": "python",
     "metadata": {},
     "outputs": []
    },
    {
     "cell_type": "code",
     "collapsed": false,
     "input": [
      "#Train models with the tuned hyperparameters\n",
      "#Doing hyperparameter search requires us to hold out a validation set from the original training data. In the final submission, we want to train models that take full advantages of the provided training data.\n",
      "\n",
      "m_log_registered = gl.boosted_trees.create(training_sframe,\n",
      "                                           features=new_features,\n",
      "                                           target='log-registered',\n",
      "                                           num_iterations=ntrees,\n",
      "                                           params=params_log_registered,\n",
      "                                           verbose=False)\n",
      "\n",
      "m_log_casual = gl.boosted_trees.create(training_sframe,\n",
      "                                       features=new_features,\n",
      "                                       target='log-casual',\n",
      "                                       num_iterations=ntrees,\n",
      "                                       params=params_log_casual,\n",
      "                                       verbose=False)\n",
      "\n",
      "final_prediction = fused_predict(m_log_registered, m_log_casual, test_sframe)\n",
      "\n",
      "make_submission(final_prediction, 'submission2.txt')"
     ],
     "language": "python",
     "metadata": {},
     "outputs": []
    },
    {
     "cell_type": "code",
     "collapsed": false,
     "input": [],
     "language": "python",
     "metadata": {},
     "outputs": []
    }
   ],
   "metadata": {}
  }
 ]
}