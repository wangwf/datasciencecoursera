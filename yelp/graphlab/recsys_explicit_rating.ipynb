{
 "metadata": {
  "name": "",
  "signature": "sha256:d92e2c17d5c3c8d508ac75f698bf81c672596250478aadeaf24088582b514df4"
 },
 "nbformat": 3,
 "nbformat_minor": 0,
 "worksheets": [
  {
   "cells": [
    {
     "cell_type": "markdown",
     "metadata": {},
     "source": [
      "**Note: This notebook uses GraphLab Create 0.9.**\n",
      "\n",
      "Using GraphLab Create we can take a Pandas Dataframe containing user ratings for movies, and quickly create a recommender. We'll see how to tune parameters for this recommender and how to get a sense of what its performance will be in practice. Finally (mostly for fun) we'll create two stereotypical users, and see what they get recommended.\n",
      "\n",
      "To start, let's import a few modules."
     ]
    },
    {
     "cell_type": "code",
     "collapsed": false,
     "input": [
      "import graphlab as gl\n",
      "import matplotlib.pyplot as plt\n",
      "%matplotlib inline"
     ],
     "language": "python",
     "metadata": {},
     "outputs": [
      {
       "output_type": "stream",
       "stream": "stderr",
       "text": [
        "[INFO] Using MetricMock instead of real metrics, mode is: UNIT\n"
       ]
      },
      {
       "output_type": "stream",
       "stream": "stderr",
       "text": [
        "A newer version of GraphLab Create (v0.9) is available! Your current version is v{{VERSION_STRING}}.\n",
        "You can use pip to upgrade the graphlab-create package. For more information see http://graphlab.com/products/create/upgrade."
       ]
      }
     ],
     "prompt_number": 1
    },
    {
     "cell_type": "markdown",
     "metadata": {},
     "source": [
      "# Prepare the Data\n",
      "The complete dataset is large. For prototyping on a single machine, let's just use a small sample of all the data. We'll use a sample that contains all ratings for about 12,000 users."
     ]
    },
    {
     "cell_type": "code",
     "collapsed": false,
     "input": [
      "data_url = 'https://s3.amazonaws.com/GraphLab-Datasets/movie_ratings/sample.small'\n",
      "df = gl.SFrame.read_csv(data_url,delimiter='\\t',column_type_hints={'rating':int})"
     ],
     "language": "python",
     "metadata": {},
     "outputs": [
      {
       "output_type": "stream",
       "stream": "stderr",
       "text": [
        "[INFO] Start server at: ipc:///tmp/graphlab_server-28496 - Server binary: /home/brian/Envs/create-09/lib/python2.7/site-packages/graphlab/unity_server - Server log: /tmp/graphlab_server_1406663908.log\n"
       ]
      },
      {
       "output_type": "stream",
       "stream": "stderr",
       "text": [
        "[INFO] GraphLab Server Version: 0.9.0\n"
       ]
      },
      {
       "html": [
        "PROGRESS: Read 1549015 lines. Lines per second: 2.24423e+06<br/>"
       ],
       "metadata": {},
       "output_type": "display_data",
       "text": [
        "PROGRESS: Read 1549015 lines. Lines per second: 2.24423e+06"
       ]
      },
      {
       "html": [
        "PROGRESS: Finished parsing file https://s3.amazonaws.com/GraphLab-Datasets/movie_ratings/sample.small<br/>"
       ],
       "metadata": {},
       "output_type": "display_data",
       "text": [
        "PROGRESS: Finished parsing file https://s3.amazonaws.com/GraphLab-Datasets/movie_ratings/sample.small"
       ]
      },
      {
       "html": [
        "PROGRESS: Parsing completed. Parsed 4000000 lines in 1.19281 secs.<br/>"
       ],
       "metadata": {},
       "output_type": "display_data",
       "text": [
        "PROGRESS: Parsing completed. Parsed 4000000 lines in 1.19281 secs."
       ]
      }
     ],
     "prompt_number": 2
    },
    {
     "cell_type": "markdown",
     "metadata": {},
     "source": [
      "Using the same data to train and evaluate a model is problematic. Specifically this leads to a problem called [overfitting](http://en.wikipedia.org/wiki/Overfitting). We'll follow the common approach of holding out a randomly selected 20% of our data to use later for evaluation."
     ]
    },
    {
     "cell_type": "markdown",
     "metadata": {},
     "source": [
      "Now we just use this helper function to get our train and test set."
     ]
    },
    {
     "cell_type": "code",
     "collapsed": false,
     "input": [
      "(train_set, test_set) = df.random_split(0.8)"
     ],
     "language": "python",
     "metadata": {},
     "outputs": [],
     "prompt_number": 3
    },
    {
     "cell_type": "markdown",
     "metadata": {},
     "source": [
      "Now that we have a train and test set, let's come up with a very simple way of predicting ratings. That way when we try more complicated things, we'll have some baseline for comparison.\n",
      "\n",
      "GraphLab's ItemMeansModel provides this functionality. It just stores the mean rating per item. When asked to predict a user's rating for a particular item pair, it just predicts the mean of all ratings for that item; it pays no attention to user information. \n",
      "\n",
      "In order to use the ItemMeansModel, all we need to do is pass its create function the data and tell it the pertinent column names."
     ]
    },
    {
     "cell_type": "code",
     "collapsed": false,
     "input": [
      "m = gl.recommender.create(train_set, 'user', 'movie', 'rating',method='item_means', verbose=False)"
     ],
     "language": "python",
     "metadata": {},
     "outputs": [
      {
       "html": [
        "PROGRESS: Recsys training: model = item_counts<br/>"
       ],
       "metadata": {},
       "output_type": "display_data",
       "text": [
        "PROGRESS: Recsys training: model = item_counts"
       ]
      }
     ],
     "prompt_number": 4
    },
    {
     "cell_type": "markdown",
     "metadata": {},
     "source": [
      "Now that we have a (simple) model, we need a way to measure the accuracy of its predictions. That way we can compare the performance of different models. The [Root Mean Squared Error](http://en.wikipedia.org/wiki/RMSE) is one of the most common ways to measure the accuracy."
     ]
    },
    {
     "cell_type": "code",
     "collapsed": false,
     "input": [
      "baseline_rmse = gl.evaluation.rmse(test_set['rating'], m.score(test_set))\n",
      "print baseline_rmse"
     ],
     "language": "python",
     "metadata": {},
     "outputs": [
      {
       "output_type": "stream",
       "stream": "stdout",
       "text": [
        "0.994266243954\n"
       ]
      }
     ],
     "prompt_number": 5
    },
    {
     "cell_type": "markdown",
     "metadata": {},
     "source": [
      "# Improving Predictive Accuracy\n",
      "The type of model that turned out to be the best for the famous Netflix Competition is called Matrix Factorization. This is a form of [Collaborative Filtering](http://en.wikipedia.org/wiki/Collaborative_filtering) where recommendations are generated using ratings from users that are some how similar.  \n",
      "\n",
      "Whenever you use a particular type of model there are almost inevitably some parameters you must specify. Matrix Factorization is no exception. Properly tuning these parameters can have a huge effect on how well your model works. The two most important parameters are the number of dimensions and the regularization coefficient.  "
     ]
    },
    {
     "cell_type": "code",
     "collapsed": false,
     "input": [
      "regularization_vals = [0.01,1,10,100,1000]\n",
      "models = [gl.recommender.create(train_set, 'user', 'movie', 'rating', method='matrix_factorization', \n",
      "                                max_iterations=50, n_factors=5, regularization=r, verbose=False)\n",
      "          for r in regularization_vals]"
     ],
     "language": "python",
     "metadata": {},
     "outputs": [
      {
       "html": [
        "PROGRESS: Recsys training: model = matrix_factorization<br/>"
       ],
       "metadata": {},
       "output_type": "display_data",
       "text": [
        "PROGRESS: Recsys training: model = matrix_factorization"
       ]
      },
      {
       "html": [
        "PROGRESS: Recsys training: model = matrix_factorization<br/>"
       ],
       "metadata": {},
       "output_type": "display_data",
       "text": [
        "PROGRESS: Recsys training: model = matrix_factorization"
       ]
      },
      {
       "html": [
        "PROGRESS: Recsys training: model = matrix_factorization<br/>"
       ],
       "metadata": {},
       "output_type": "display_data",
       "text": [
        "PROGRESS: Recsys training: model = matrix_factorization"
       ]
      },
      {
       "html": [
        "PROGRESS: Recsys training: model = matrix_factorization<br/>"
       ],
       "metadata": {},
       "output_type": "display_data",
       "text": [
        "PROGRESS: Recsys training: model = matrix_factorization"
       ]
      },
      {
       "html": [
        "PROGRESS: Recsys training: model = matrix_factorization<br/>"
       ],
       "metadata": {},
       "output_type": "display_data",
       "text": [
        "PROGRESS: Recsys training: model = matrix_factorization"
       ]
      }
     ],
     "prompt_number": 6
    },
    {
     "cell_type": "code",
     "collapsed": false,
     "input": [
      "# Save the train and test RMSE, for each model\n",
      "(rmse_train, rmse_test) = ([], [])\n",
      "for m in models:\n",
      "    rmse_train.append(m.summary()['training_rmse'])\n",
      "    rmse_test.append(gl.evaluation.rmse(test_set['rating'], m.score(test_set)))"
     ],
     "language": "python",
     "metadata": {},
     "outputs": [],
     "prompt_number": 7
    },
    {
     "cell_type": "markdown",
     "metadata": {},
     "source": [
      "Let's create a plot to show the RMSE for these different regularization values."
     ]
    },
    {
     "cell_type": "code",
     "collapsed": false,
     "input": [
      "(fig, ax) = plt.subplots(figsize=(10, 8))\n",
      "[p1, p2, p3] = ax.semilogx(regularization_vals, rmse_train, \n",
      "                           regularization_vals, rmse_test, \n",
      "                           regularization_vals, len(regularization_vals) * [baseline_rmse]\n",
      "                           )\n",
      "ax.set_ylim([0.7, 1.1])\n",
      "ax.set_xlabel('Regularization', fontsize=20)\n",
      "ax.set_ylabel('RMSE', fontsize=20)\n",
      "ax.legend([p1, p2, p3], [\"Train\", \"Test\", \"Baseline\"])\n",
      "fig.show()"
     ],
     "language": "python",
     "metadata": {},
     "outputs": [
      {
       "output_type": "stream",
       "stream": "stderr",
       "text": [
        "/home/brian/Envs/gl-dev/local/lib/python2.7/site-packages/matplotlib/figure.py:371: UserWarning: matplotlib is currently using a non-GUI backend, so cannot show the figure\n",
        "  \"matplotlib is currently using a non-GUI backend, \"\n"
       ]
      },
      {
       "metadata": {},
       "output_type": "display_data",
       "png": "[encoded data removed]",
       "text": [
        "<matplotlib.figure.Figure at 0x4a54690>"
       ]
      }
     ],
     "prompt_number": 8
    },
    {
     "cell_type": "markdown",
     "metadata": {},
     "source": [
      "Looks like we get the best Root Mean Squared Error (on the test set) when n_factors = 5 and regularization = 10. Let's use those parameters!"
     ]
    },
    {
     "cell_type": "markdown",
     "metadata": {},
     "source": [
      "# Load a Larger Dataset\n",
      "Once we've determined the parameters we want to use, it makes sense to train a new model (using the parameters we've picked) with a larger sample. This time we'll use a dataset that contains all ratings for about 30,000 users."
     ]
    },
    {
     "cell_type": "code",
     "collapsed": false,
     "input": [
      "data_url = 'https://s3.amazonaws.com/GraphLab-Datasets/movie_ratings/sample.large'\n",
      "data = gl.SFrame.read_csv(data_url,delimiter='\\t',column_type_hints={'rating':int})"
     ],
     "language": "python",
     "metadata": {},
     "outputs": [
      {
       "html": [
        "PROGRESS: Read 1549015 lines. Lines per second: 2.25072e+06<br/>"
       ],
       "metadata": {},
       "output_type": "display_data",
       "text": [
        "PROGRESS: Read 1549015 lines. Lines per second: 2.25072e+06"
       ]
      },
      {
       "html": [
        "PROGRESS: Finished parsing file https://s3.amazonaws.com/GraphLab-Datasets/movie_ratings/sample.large<br/>"
       ],
       "metadata": {},
       "output_type": "display_data",
       "text": [
        "PROGRESS: Finished parsing file https://s3.amazonaws.com/GraphLab-Datasets/movie_ratings/sample.large"
       ]
      },
      {
       "html": [
        "PROGRESS: Parsing completed. Parsed 10000000 lines in 2.60016 secs.<br/>"
       ],
       "metadata": {},
       "output_type": "display_data",
       "text": [
        "PROGRESS: Parsing completed. Parsed 10000000 lines in 2.60016 secs."
       ]
      }
     ],
     "prompt_number": 9
    },
    {
     "cell_type": "markdown",
     "metadata": {},
     "source": [
      "# The Action Lover and the Romance Lover\n",
      "Let's see how this model behaves for two simulated/stereotypical users who have only rated a small number movies. We'll create two test users. One who loves action movies and hates romance movies. The other loves romance movies and hates actions movies. "
     ]
    },
    {
     "cell_type": "code",
     "collapsed": false,
     "input": [
      "action_movies = ['GoldenEye', 'Casino Royale', 'Independence Day', 'Con Air', 'The Rock', \n",
      "               'The Bourne Identity', 'Ocean\\'s Eleven', 'Lethal Weapon 4', 'Gladiator', \n",
      "               'Indiana Jones and the Last Crusade', 'The Matrix', 'Kill Bill: Vol. 1',\n",
      "               'Air Force One', 'Braveheart', 'The Man with the Golden Gun',\n",
      "               'The Bourne Supremacy', 'Saving Private Ryan']\n",
      "\n",
      "romance_movies = ['Sleepless in Seattle', 'An Affair to Remember', 'Ghost', 'Love Actually',\n",
      "                  'You\\'ve Got Mail', 'Notting Hill', 'Titanic', 'Miss Congeniality',\n",
      "                  'Some Like It Hot', 'Pretty Woman', 'How to Lose a Guy in 10 Days']\n",
      "\n",
      "# Boring helper function to create ratings\n",
      "def ratings(movie_list, user, rating):\n",
      "    num = len(movie_list)\n",
      "    records = {'user': [user] * num, 'movie': movie_list, 'rating': [rating] * num}\n",
      "    return gl.SFrame(records)\n",
      "\n",
      "# Loves action movies, hates romance movies\n",
      "action_user = 'Archie the Action Lover'\n",
      "action_user_ratings = ratings(action_movies, action_user, 5)\n",
      "action_user_ratings = action_user_ratings.append(ratings(romance_movies, action_user, 1))\n",
      "\n",
      "# Loves romance movies, hates action movies\n",
      "romantic_user = 'Rebecca the Romance Lover'\n",
      "romantic_user_ratings = ratings(action_movies, romantic_user, 1)\n",
      "romantic_user_ratings = romantic_user_ratings.append(ratings(romance_movies, romantic_user, 5))\n",
      "\n",
      "data = data.append(action_user_ratings)\n",
      "data = data.append(romantic_user_ratings)"
     ],
     "language": "python",
     "metadata": {},
     "outputs": [],
     "prompt_number": 10
    },
    {
     "cell_type": "markdown",
     "metadata": {},
     "source": [
      "Now, let's create a matrix factorization model with the tuned parameters, using the larger data sample."
     ]
    },
    {
     "cell_type": "code",
     "collapsed": false,
     "input": [
      "# Create a new model, using the larger dataset, with the tuned parameters\n",
      "m = gl.recommender.create(data, 'user', 'movie', 'rating', method='matrix_factorization', \n",
      "                          max_iterations=50, n_factors=5, regularization=10,\n",
      "                          verbose=False)"
     ],
     "language": "python",
     "metadata": {},
     "outputs": [
      {
       "html": [
        "PROGRESS: Recsys training: model = matrix_factorization<br/>"
       ],
       "metadata": {},
       "output_type": "display_data",
       "text": [
        "PROGRESS: Recsys training: model = matrix_factorization"
       ]
      }
     ],
     "prompt_number": 11
    },
    {
     "cell_type": "markdown",
     "metadata": {},
     "source": [
      "Let see what recommendations we get for our action lover."
     ]
    },
    {
     "cell_type": "code",
     "collapsed": false,
     "input": [
      "# Show recommendations for the action lover.\n",
      "recommendations = m.recommend(gl.SArray([action_user]), k=40)\n",
      "print recommendations['movie']"
     ],
     "language": "python",
     "metadata": {},
     "outputs": [
      {
       "output_type": "stream",
       "stream": "stdout",
       "text": [
        "['Conan the Barbarian', \"Predator: Collector's Edition\", 'The Three Stooges: G.I. Stooge', 'The Three Stooges: Merry Mavericks', 'The Man Show: Season 1: Vol. 1', 'The Three Stooges: Nutty but Nice', 'Sin City', 'The Terminator', 'Used Cars', 'The Chronicles of Riddick', 'The Three Stooges: Dizzy Doctors', 'Dragon Ball: Tien Shinhan Saga', 'Terminator 2: Extreme Edition', 'Dragon Ball Z: Trunks Saga', 'The Three Stooges: Healthy', 'The Road Warrior', \"Stephen Hawking's Universe\", 'The Good', 'The Three Stooges: Goofs on the Loose', 'From Dusk Till Dawn', 'Blade', 'Rambo: First Blood: Ultimate Edition', 'Full Metal Jacket', 'Star Wars: Episode IV: A New Hope', 'The Three Stooges: Cops and Robbers', 'Star Wars: Episode V: The Empire Strikes Back', 'The Three Stooges Double Feature', 'The Three Stooges: Spook Louder', 'Hellraiser', \"Aliens: Collector's Edition\", 'Mad Max', 'Scarface', 'Three Stooges: Stooges at Work', 'Caddyshack', 'Evil Dead 2: Dead by Dawn', 'Starship Troopers', 'Unforgiven', 'The Three Stooges: Stooged and Confoosed', 'Lain #3: Deus', 'Dragon Ball Z: World Tournament']\n"
       ]
      }
     ],
     "prompt_number": 12
    },
    {
     "cell_type": "markdown",
     "metadata": {},
     "source": [
      "Let see what recommendations we get for our romance lover."
     ]
    },
    {
     "cell_type": "code",
     "collapsed": false,
     "input": [
      "# Show recommendations for the romance lover.\n",
      "recommendations = m.recommend(gl.SArray([romantic_user]), k=40)\n",
      "print recommendations['movie']"
     ],
     "language": "python",
     "metadata": {},
     "outputs": [
      {
       "output_type": "stream",
       "stream": "stdout",
       "text": [
        "['Queer as Folk: Season 2', 'Felicity: Season 2', 'Sex and the City: Season 2', 'Will & Grace: Season 1', 'Sex and the City: Season 3', 'Sex and the City: Season 4', 'Sex and the City: Season 6: Part 2', 'Will & Grace: Season 3', 'Sex and the City: Season 6: Part 1', 'The Best of Friends: Season 3', 'Steel Magnolias', 'Will & Grace: Season 2', 'Sex and the City: Season 5', 'Beaches', 'Friends: Season 4', 'Sex and the City: Season 1', 'The Best of Friends: Vol. 4', 'Friends: Season 3', 'As Time Goes By: Series 1 and 2', 'Queer as Folk: Season 1', 'The Best of Friends: Season 4', \"Dawson's Creek: Season 3\", 'Queer as Folk: Season 3', 'The Best of Friends: Season 2', 'Gilmore Girls: Season 1', 'Friends: Season 7', 'The Best of Friends: Season 1', 'Friends: Season 6', \"Dawson's Creek: Series Finale\", \"Dawson's Creek: Season 4\", 'Gilmore Girls: Season 3', 'Friends: Season 8', 'The Best of Friends: Vol. 3', 'Gilmore Girls: Season 2', 'Friends: Season 5', 'Friends: The Series Finale', 'The Best of Friends: Vol. 2', 'Felicity: Season 1', 'The Best of Friends: Vol. 1', 'Queer as Folk: Season 4']\n"
       ]
      }
     ],
     "prompt_number": 13
    },
    {
     "cell_type": "markdown",
     "metadata": {},
     "source": [
      "Looks good to me, especially considering these users haven't rated many movies!\n",
      "\n",
      "(Looking for more details about the modules and functions? Check out the <a href=\"/products/create/docs/\">API docs</a>.)"
     ]
    }
   ],
   "metadata": {}
  }
 ]
}