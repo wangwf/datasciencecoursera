{
 "metadata": {
  "name": "",
  "signature": "sha256:7b855c911188657f6d4048059d1bfd50341f0e6b8b8504264d2e18f1265eb480"
 },
 "nbformat": 3,
 "nbformat_minor": 0,
 "worksheets": [
  {
   "cells": [
    {
     "cell_type": "heading",
     "level": 2,
     "metadata": {},
     "source": [
      "GraphLab Graph Analytics Toolkit - Exploring the graph of American Films"
     ]
    },
    {
     "cell_type": "markdown",
     "metadata": {},
     "source": [
      "**Note: This notebook uses GraphLab Create 0.9.**\n",
      "\n",
      "Welcome to the GraphLab Graph Analytics toolkit. In this notebook we'll use the toolkit to explore American films released between 2004 and 2013 and answer the question of whether Kevin Bacon is really the best actor to put at the center of the [Kevin Bacon game](http://en.wikipedia.org/wiki/Six_Degrees_of_Kevin_Bacon)."
     ]
    },
    {
     "cell_type": "heading",
     "level": 3,
     "metadata": {},
     "source": [
      "Set up and exploratory data analysis"
     ]
    },
    {
     "cell_type": "markdown",
     "metadata": {},
     "source": [
      "Before we start playing with the data, we need to import the required libraries: numpy, pandas, urllib, matplotlib, and of course, graphlab. We also tell IPython notebook and GraphLab Canvas to produce plots directly in the notebook."
     ]
    },
    {
     "cell_type": "code",
     "collapsed": false,
     "input": [
      "import numpy as np\n",
      "import pandas as pd\n",
      "import urllib\n",
      "import matplotlib.pyplot as plt\n",
      "from matplotlib import rcParams\n",
      "\n",
      "import graphlab\n",
      "\n",
      "from IPython.display import display\n",
      "from IPython.display import Image\n",
      "graphlab.canvas.set_target('ipynb')\n",
      "%matplotlib inline"
     ],
     "language": "python",
     "metadata": {},
     "outputs": []
    },
    {
     "cell_type": "markdown",
     "metadata": {},
     "source": [
      "We'll load data on performances in American movies for the last ten years, pulled from the [Freebase](http://www.freebase.com/) API's [film/film](http://www.freebase.com/film/film?schema) and [film/performance](http://www.freebase.com/film/performance?schema=) topics. The Freebase data is crowd-sourced, so it's a bit messy, but it is freely available under the [Creative Commons license](http://creativecommons.org/licenses/by/2.5/). Our curated data live in an Amazon S3 bucket, but for this demo we'll first download the CSV file and save it locally. Please note that running this notebook on your machine *will* download the 8MB csv file to your working directory."
     ]
    },
    {
     "cell_type": "code",
     "collapsed": false,
     "input": [
      "url = 'https://s3.amazonaws.com/GraphLab-Datasets/americanMovies/freebase_performances.csv'\n",
      "urllib.urlretrieve(url, filename='freebase_performances.csv')  # downloads an 8MB file to the working directory"
     ],
     "language": "python",
     "metadata": {},
     "outputs": []
    },
    {
     "cell_type": "markdown",
     "metadata": {},
     "source": [
      "There are a few data preprocessing steps to do, for which we'll use an **SFrame** (for more on SFrames, see the [Introduction to SFrames](http://graphlab.com/learn/notebooks/introduction_to_sframes.html) notebook). First, we drop a superfluous column which is created because of a missing column header. Next, we drop actor names that are equal to an empty list, which is obviously an error. Finally, we add a column with 0.5 in each row, which will come in handy later for computing graph distances between actors.\n",
      "\n",
      "After the data is clean, let's take a peek."
     ]
    },
    {
     "cell_type": "code",
     "collapsed": false,
     "input": [
      "data = graphlab.SFrame.read_csv('remote://freebase_performances.csv',\n",
      "                                column_type_hints={'year': int})\n",
      "data = data[data['actor_name'] != '[]']\n",
      "data['weight'] = .5\n",
      "data.show()"
     ],
     "language": "python",
     "metadata": {},
     "outputs": []
    },
    {
     "cell_type": "markdown",
     "metadata": {},
     "source": [
      "Now we construct the graph. For the first half of our analysis we will use a bipartite graph, where actors and movies are vertices and film performances are the edges that connect actors to movies. \n",
      "  \n",
      "  - First we get **SArrays of the unique actor and film names**. This will help us identify which vertices in our graph belong to each of these two classes.\n",
      "  - The **SGraph is directed**, so to create an undirected graph we add edges in each direction.\n",
      "  - The SGraph constructor automatically creates vertices based on the source and destination fields in the edge constructor."
     ]
    },
    {
     "cell_type": "code",
     "collapsed": false,
     "input": [
      "actors = data['actor_name'].unique()\n",
      "films = data['film_name'].unique()\n",
      "\n",
      "g = graphlab.SGraph()\n",
      "g = g.add_edges(data, src_field='actor_name', dst_field='film_name')\n",
      "g = g.add_edges(data, src_field='film_name', dst_field='actor_name')\n",
      "\n",
      "print \"Movie graph summary:\\n\", g.summary(), \"\\n\""
     ],
     "language": "python",
     "metadata": {},
     "outputs": []
    },
    {
     "cell_type": "markdown",
     "metadata": {},
     "source": [
      "By using the **get_vertices()** and **get_edges()** methods we can verify the data was entered correctly. Note the SGraph uses directed edges, so we enter them in both directions to get an undirected graph and the correct output from the toolkits."
     ]
    },
    {
     "cell_type": "code",
     "collapsed": false,
     "input": [
      "print \"Actor vertex sample:\"\n",
      "g.get_vertices(ids=actors).tail(5)"
     ],
     "language": "python",
     "metadata": {},
     "outputs": []
    },
    {
     "cell_type": "code",
     "collapsed": false,
     "input": [
      "print \"Film vertex sample:\"\n",
      "g.get_vertices(ids=films).head(5)"
     ],
     "language": "python",
     "metadata": {},
     "outputs": []
    },
    {
     "cell_type": "code",
     "collapsed": false,
     "input": [
      "print \"Sample edges (performances):\"\n",
      "g.get_edges().head(5)"
     ],
     "language": "python",
     "metadata": {},
     "outputs": []
    },
    {
     "cell_type": "markdown",
     "metadata": {},
     "source": [
      "This graph can (and should) be saved so we can come back to it later without the data cleaning."
     ]
    },
    {
     "cell_type": "code",
     "collapsed": false,
     "input": [
      "# g.save('sample_graph')\n",
      "# new_g = graphlab.load_graph(filename='sample_graph')"
     ],
     "language": "python",
     "metadata": {},
     "outputs": []
    },
    {
     "cell_type": "markdown",
     "metadata": {},
     "source": [
      "This graph is too large to visualize, so we'll pull a small subgraph to see what the data look like."
     ]
    },
    {
     "cell_type": "code",
     "collapsed": false,
     "input": [
      "selection = ['The Great Gatsby', 'The Wolf of Wall Street']\n",
      "\n",
      "subgraph = graphlab.SGraph()\n",
      "subgraph = subgraph.add_edges(g.get_edges(dst_ids=selection),\n",
      "                              src_field='__src_id', dst_field='__dst_id')\n",
      "subgraph.show(highlight=selection)"
     ],
     "language": "python",
     "metadata": {},
     "outputs": []
    },
    {
     "cell_type": "markdown",
     "metadata": {},
     "source": [
      "Can you guess which node is in the middle?"
     ]
    },
    {
     "cell_type": "code",
     "collapsed": false,
     "input": [
      "subgraph.show(vlabel='id', highlight=selection)"
     ],
     "language": "python",
     "metadata": {},
     "outputs": []
    },
    {
     "cell_type": "heading",
     "level": 3,
     "metadata": {},
     "source": [
      "Connected Components"
     ]
    },
    {
     "cell_type": "markdown",
     "metadata": {},
     "source": [
      "First, let's find the number of connected components. We'll do this first on our bipartite graph with both films and actors, but in the second half of this notebook we'll do it again with only actors."
     ]
    },
    {
     "cell_type": "code",
     "collapsed": false,
     "input": [
      "cc = graphlab.connected_components.create(g, verbose=False)\n",
      "cc_out = cc['componentid']\n",
      "print \"Connected components summary:\\n\", cc.summary()"
     ],
     "language": "python",
     "metadata": {},
     "outputs": []
    },
    {
     "cell_type": "markdown",
     "metadata": {},
     "source": [
      "There are over 2,000 components. With the 'component_size' field we can see that there is really only one very large component."
     ]
    },
    {
     "cell_type": "code",
     "collapsed": false,
     "input": [
      "cc_size = cc['component_size'].sort('Count', ascending=False)\n",
      "cc_size"
     ],
     "language": "python",
     "metadata": {},
     "outputs": []
    },
    {
     "cell_type": "markdown",
     "metadata": {},
     "source": [
      "Let's pull one of the smaller connected components to see if there's anything interesting. The *cc_out* object is an SFrame, which acts a lot like a Pandas DataFrame, but is on disk."
     ]
    },
    {
     "cell_type": "code",
     "collapsed": false,
     "input": [
      "tgt = cc_size['componentid'][1]\n",
      "tgt_names = cc_out[cc_out['componentid'] == tgt]['__id']\n",
      "\n",
      "subgraph = graphlab.SGraph()\n",
      "subgraph = subgraph.add_edges(g.get_edges(src_ids=tgt_names),\n",
      "                              src_field='__src_id', dst_field='__dst_id')\n",
      "\n",
      "film_selector = subgraph.get_vertices(ids=films)['__id']\n",
      "subgraph.show(vlabel='id', highlight=film_selector)"
     ],
     "language": "python",
     "metadata": {},
     "outputs": []
    },
    {
     "cell_type": "markdown",
     "metadata": {},
     "source": [
      "This component corresponds to a handful of Japanese anime series. To help ourselves out later, we'll also pull out the names of the actors in the giant connected component. Here we use the **SFrame.filter_by method** because we're looking for matches against a set of names."
     ]
    },
    {
     "cell_type": "code",
     "collapsed": false,
     "input": [
      "big_label = cc_size['componentid'][0]\n",
      "big_names = cc_out[cc_out['componentid'] == big_label]\n",
      "mainstream_actors = big_names.filter_by(actors, column_name='__id')['__id']"
     ],
     "language": "python",
     "metadata": {},
     "outputs": []
    },
    {
     "cell_type": "heading",
     "level": 3,
     "metadata": {},
     "source": [
      "The Kevin Bacon game"
     ]
    },
    {
     "cell_type": "markdown",
     "metadata": {},
     "source": [
      "OK, let's play the Kevin Bacon game. First, let's see what movies he's been in over the last decade..."
     ]
    },
    {
     "cell_type": "code",
     "collapsed": false,
     "input": [
      "bacon_films = g.get_edges(src_ids=['Kevin Bacon'])\n",
      "\n",
      "subgraph = graphlab.SGraph()\n",
      "subgraph = subgraph.add_edges(bacon_films, src_field='__src_id',\n",
      "                              dst_field='__dst_id')\n",
      "subgraph.show(vlabel='id', elabel='character', highlight=['Kevin Bacon'])"
     ],
     "language": "python",
     "metadata": {},
     "outputs": []
    },
    {
     "cell_type": "markdown",
     "metadata": {},
     "source": [
      "... and with whom Kevin Bacon has co-starred. Hover over nodes with the mouse to see the labels."
     ]
    },
    {
     "cell_type": "code",
     "collapsed": false,
     "input": [
      "subgraph = graphlab.SGraph()\n",
      "\n",
      "for f in bacon_films['__dst_id']:\n",
      "    subgraph = subgraph.add_edges(g.get_edges(src_ids=[f], dst_ids=None),\n",
      "                                  src_field='__src_id', dst_field='__dst_id')\n",
      "    \n",
      "subgraph.show(highlight=list(bacon_films['__dst_id']), vlabel='__id', vlabel_hover=True)"
     ],
     "language": "python",
     "metadata": {},
     "outputs": []
    },
    {
     "cell_type": "markdown",
     "metadata": {},
     "source": [
      "We can find the shortest path distance between every other vertex and Mr. Bacon. Keep in mind that this is a bipartite graph, so movies will have half distances from our target and actors will have whole number distances from the target."
     ]
    },
    {
     "cell_type": "code",
     "collapsed": false,
     "input": [
      "sp = graphlab.shortest_path.create(g, source_vid='Kevin Bacon', weight_field='weight', verbose=False)\n",
      "sp_graph = sp['graph']"
     ],
     "language": "python",
     "metadata": {},
     "outputs": []
    },
    {
     "cell_type": "markdown",
     "metadata": {},
     "source": [
      "The computation is very quick. And we can now get the distance from Kevin Bacon to any other actor or movie. Kevin has a distance of 0, of course, and the films he's been in lately are all at distance 0.5. His co-stars in those movies are at distance 1, so they have Kevin Bacon number of 1.\n",
      "\n",
      "Querying this for another actor is very fast because the result is already computed. Robert De Niro, for example, has a Kevin Bacon number (for the last decade) of 2. There are many paths of length two between these two actors, and 'get_path' will plot one of them.\n",
      "\n",
      "If we go back to the connected component of Japanese films and pick one of the actors, Yuzuru Fujimoto, we see he has an infinite Kevin Bacon number over the last decade, which fits the earlier result that Yuzuru is in a different component. If we try to find the path between these two actors, we get an astronomically high number, indicating there is no path."
     ]
    },
    {
     "cell_type": "code",
     "collapsed": false,
     "input": [
      "path = [x[0] for x in sp.get_path('Robert De Niro', show=True, highlight=list(films))]\n",
      "\n",
      "query = sp_graph.get_vertices(ids='Yuzuru Fujimoto')\n",
      "query.head()"
     ],
     "language": "python",
     "metadata": {},
     "outputs": []
    },
    {
     "cell_type": "markdown",
     "metadata": {},
     "source": [
      "Who else do we want to check?? Because we're not using name disambiguation, we should check first to make sure a suggestion is in the list of actors."
     ]
    },
    {
     "cell_type": "code",
     "collapsed": false,
     "input": [
      "target = 'Lydia Fox'\n",
      "target in actors\n",
      "\n",
      "path = [x[0] for x in sp.get_path(target, show=True, highlight=list(films))]"
     ],
     "language": "python",
     "metadata": {},
     "outputs": []
    },
    {
     "cell_type": "markdown",
     "metadata": {},
     "source": [
      "To visualize the distribution of Kevin Bacon distances, we narrow the result down to only mainstream actors (i.e. those in the same connected component as Mr. Bacon). The most common Kevin Bacon number is 3. Note there are still some half distances in this result; this is because we're working with messy data. The messiness comes from three sources:\n",
      "\n",
      "  1. Some names are both actors and films (e.g. Secretariat)\n",
      "  2. Freebase is crowd-sourced data with plenty of mistakes\n",
      "  3. For the demo we're using proper names as vertex IDs, so when there is an overlapping name, we have problems. In production we would use a vertex ID known to be unique.\n",
      "  \n",
      "Before we plot the distribution of Kevin Bacon distances, we define the *clean_plot* function to make our matplotlib output look nice."
     ]
    },
    {
     "cell_type": "code",
     "collapsed": false,
     "input": [
      "bacon_sf = sp_graph.get_vertices(ids=mainstream_actors)\n",
      "\n",
      "def clean_plot(ax):\n",
      "    ax.spines['top'].set_visible(False)\n",
      "    ax.spines['right'].set_visible(False)\n",
      "    ax.spines['left'].set_visible(False)\n",
      "    ax.spines['bottom'].set_visible(False)\n",
      "    ax.grid(True, 'major', color='w', linestyle='-', linewidth=1.4)\n",
      "    ax.patch.set_facecolor('0.92')\n",
      "    ax.set_axisbelow(True)\n",
      "    ax.xaxis.set_ticks_position('bottom')\n",
      "    ax.yaxis.set_ticks_position('left')\n",
      "    \n",
      "rcParams['figure.figsize'] = (10, 8)\n",
      "rcParams['axes.labelsize'] = 20\n",
      "rcParams['xtick.labelsize'] = 16\n",
      "rcParams['ytick.labelsize'] = 16\n",
      "rcParams['xtick.direction'] = 'out'\n",
      "rcParams['ytick.direction'] = 'out'\n",
      "    \n",
      "fig, ax = plt.subplots(figsize=(10, 8))\n",
      "ax.hist(list(bacon_sf['distance']), bins=30, color='cornFlowerBlue')\n",
      "ax.set_xlabel('Kevin Bacon distance')\n",
      "ax.set_ylabel('Frequency')\n",
      "clean_plot(ax)\n",
      "fig.show()"
     ],
     "language": "python",
     "metadata": {},
     "outputs": []
    },
    {
     "cell_type": "heading",
     "level": 3,
     "metadata": {},
     "source": [
      "Why Kevin Bacon?"
     ]
    },
    {
     "cell_type": "markdown",
     "metadata": {},
     "source": [
      "Why is Kevin Bacon the target of the Kevin Bacon game? Why not Robert De Niro or Dennis Hopper, both of whom have been in a lot of movies. In fact, let's figure out just how central Kevin Bacon is, and who might be a better center for the Kevin Bacon game. First, let's find out who's been in the most movies. We'll start with some good guesses about prolific actors."
     ]
    },
    {
     "cell_type": "markdown",
     "metadata": {},
     "source": [
      "First, let's find out the number of movies for each actor. To do this we use the **SGraph.triple_apply** method, which loops over edges in the graph. For each edge, the method applies a user-specified function that changes some\n",
      "attributes of the vertices incident to the edge. In this case, there are three steps, encapsulated in the **get_degree** function. \n",
      "\n",
      "1. make a copy of the graph.\n",
      "2. make a new vertex attribute *in_degree* to hold the result (i.e. the number of movies for each actor and the number of actors for each film).\n",
      "3. run the triple_apply function, which applies the **count_in_degree** function to each edge of the graph. In this case we add 1 to the in-degree of each edge's destination node. Because we added edges in both directions, this is sufficient to compute the degree."
     ]
    },
    {
     "cell_type": "code",
     "collapsed": false,
     "input": [
      "def count_in_degree(src, edge, dst):\n",
      "    dst['in_degree'] += 1\n",
      "    return (src, edge, dst)\n",
      "\n",
      "def get_degree(g):\n",
      "    new_g = graphlab.SGraph(g.vertices, g.edges)\n",
      "    new_g.vertices['in_degree'] = 0\n",
      "    return new_g.triple_apply(count_in_degree, ['in_degree']).get_vertices()\n",
      "\n",
      "degree = get_degree(g)"
     ],
     "language": "python",
     "metadata": {},
     "outputs": []
    },
    {
     "cell_type": "code",
     "collapsed": false,
     "input": [
      "comparisons = ['Kevin Bacon', 'Robert De Niro', 'Dennis Hopper', 'Samuel L. Jackson']\n",
      "degree.filter_by(comparisons, '__id').sort('in_degree', ascending=False)"
     ],
     "language": "python",
     "metadata": {},
     "outputs": []
    },
    {
     "cell_type": "markdown",
     "metadata": {},
     "source": [
      "At least for the last decade, Samuel L. Jackson seems to be a better candidate than\n",
      "Kevin Bacon. But we're left with several questions: were our candidate guesses good? who are the top actors overall?\n",
      "how does Kevin Bacon stack up? To answer these we still need to separate the actors from\n",
      "the films, which we can do by filtering with the actors list."
     ]
    },
    {
     "cell_type": "code",
     "collapsed": false,
     "input": [
      "actor_degree = degree.filter_by(actors, '__id')"
     ],
     "language": "python",
     "metadata": {},
     "outputs": []
    },
    {
     "cell_type": "code",
     "collapsed": false,
     "input": [
      "fig, ax = plt.subplots(figsize=(10, 8))\n",
      "ax.hist(list(actor_degree['in_degree']), bins=50, color='cornFlowerBlue')\n",
      "ax.axvline(degree['in_degree'][degree['__id'] == 'Kevin Bacon'], color='red', lw=2, label='Kevin Bacon')\n",
      "ax.set_ylabel('Frequency')\n",
      "ax.set_xlabel('Number of movies')\n",
      "ax.legend()\n",
      "clean_plot(ax)\n",
      "fig.show()"
     ],
     "language": "python",
     "metadata": {},
     "outputs": []
    },
    {
     "cell_type": "markdown",
     "metadata": {},
     "source": [
      "This confirms that Kevin Bacon---with 21 movies in the last decade---is indeed prolific, but he's far from the top. So who is at the top??"
     ]
    },
    {
     "cell_type": "code",
     "collapsed": false,
     "input": [
      "actor_degree.sort('in_degree', ascending=False)"
     ],
     "language": "python",
     "metadata": {},
     "outputs": []
    },
    {
     "cell_type": "code",
     "collapsed": false,
     "input": [
      "print \"** Danny Trejo**\"\n",
      "display(Image(url='https://s3.amazonaws.com/GraphLab-Datasets/americanMovies/Danny-Trejo.jpg'))\n",
      "print \"Source: Glenn Francis http://www.PacificProDigital.com\""
     ],
     "language": "python",
     "metadata": {},
     "outputs": []
    },
    {
     "cell_type": "markdown",
     "metadata": {},
     "source": [
      "*Danny Trejo* is the winner!! But number of movies is a crude measure of centrality. John Cena, for example, is a professional wrestler, whose 70 movies are almost entirely WWE performances. Let's also find the mean shortest path distance for our selected comparisons, which is the average shortest path distance from each source actor to all other actors."
     ]
    },
    {
     "cell_type": "code",
     "collapsed": false,
     "input": [
      "# Add top-degree actors to the comparison list\n",
      "comparisons += ['Danny Trejo', 'Frank Welker', 'John Cena']"
     ],
     "language": "python",
     "metadata": {},
     "outputs": []
    },
    {
     "cell_type": "code",
     "collapsed": false,
     "input": [
      "# # Make a container for the centrality statistics\n",
      "mean_dists = {}\n",
      "\n",
      "# # Get statistics for Kevin Bacon - use the already computed KB shortest paths\n",
      "mean_dists['Kevin Bacon'] = bacon_sf['distance'].mean()\n",
      "\n",
      "\n",
      "## Get statistics for the other comparison actors\n",
      "for person in comparisons[1:]:\n",
      "\n",
      "    # get single-source shortest paths\n",
      "    sp2 = graphlab.shortest_path.create(g, source_vid=person,\n",
      "                                        weight_field='weight',\n",
      "                                        verbose=False)\n",
      "    sp2_graph = sp2.get('graph')\n",
      "    sp2_out = sp2_graph.get_vertices(ids=mainstream_actors)\n",
      "\n",
      "    # Compute some statistics about the distribution of distances\n",
      "    mean_dists[person] = sp2_out['distance'].mean()\n",
      "\n",
      "    # Show the whole distribution\n",
      "    fig, ax = plt.subplots(figsize=(8, 6))\n",
      "    ax.hist(list(sp2_out['distance']), bins=30, color='cornFlowerBlue')\n",
      "    ax.axvline(mean_dists[person], color='black', lw=3,\n",
      "               label=\"mean={}\".format(round(mean_dists[person], 2)))\n",
      "    ax.axvline(mean_dists['Kevin Bacon'], color='black', lw=2, ls='--',\n",
      "               label=\"Bacon mean={}\".format(round(mean_dists['Kevin Bacon'], 2)))\n",
      "    ax.legend()\n",
      "    ax.set_xlabel('{} distance'.format(person))\n",
      "    ax.set_ylabel('Frequency')\n",
      "    clean_plot(ax)\n",
      "\n",
      "    fig.show()"
     ],
     "language": "python",
     "metadata": {},
     "outputs": []
    },
    {
     "cell_type": "markdown",
     "metadata": {},
     "source": [
      "In addition to having the largest degree in the whole graph, Danny Trejo has a smaller mean shortest path distance to the rest of the mainstream_actor graph than Kevin Bacon, and there are far fewer people who are 4 degrees of separation away from him. He seems to be a much better candidate for the center of the Kevin Bacon game.\n",
      "\n",
      "However, there are many other measures of centrality or importance in a graph. Some of these require converting our bipartite graph into an actor network where edges join two actors who have been in a movie together."
     ]
    },
    {
     "cell_type": "heading",
     "level": 3,
     "metadata": {},
     "source": [
      "Computing the actor network"
     ]
    },
    {
     "cell_type": "markdown",
     "metadata": {},
     "source": [
      "To compute other interesting statistics about the network of actors, it is useful to eliminate the film vertices, so that actor vertices share an edge of the two actors co-starred in a movie. If A is the adjacency matrix for the bipartite graph where actors are rows and movies are columns, the social network (with weighted edges) is computed by AA^T. For now this is done with numpy and Pandas. Because this operation is memory intensive, we first pull out the subset of movies from 2013."
     ]
    },
    {
     "cell_type": "code",
     "collapsed": false,
     "input": [
      "## Pull out the data for 2013 films\n",
      "year_data = data[data['year'] == 2013]\n",
      "\n",
      "year_actors = graphlab.SFrame({'actor': year_data['actor_name'].unique()})\n",
      "year_actors.add_row_number()\n",
      "\n",
      "year_films = year_data['film_name'].unique()"
     ],
     "language": "python",
     "metadata": {},
     "outputs": []
    },
    {
     "cell_type": "markdown",
     "metadata": {},
     "source": [
      "Next we construct the A matrix and multiply it by itself. This is a computational bottleneck that takes some time and is the reason we subset the data down to just 2013 release year movies."
     ]
    },
    {
     "cell_type": "code",
     "collapsed": false,
     "input": [
      "A = pd.DataFrame(np.zeros((len(year_actors), len(year_films)), dtype=np.int),\n",
      "                 columns=year_films, index=year_actors['actor'])\n",
      "\n",
      "for row in year_data:\n",
      "    A[row['film_name']][row['actor_name']] = 1"
     ],
     "language": "python",
     "metadata": {},
     "outputs": []
    },
    {
     "cell_type": "code",
     "collapsed": false,
     "input": [
      "A = A.values\n",
      "adjacency = np.triu(np.dot(A, A.T))"
     ],
     "language": "python",
     "metadata": {},
     "outputs": []
    },
    {
     "cell_type": "markdown",
     "metadata": {},
     "source": [
      "Finally, we construct a new graph which is the actor network, where two actors are connected if they've been in a movie together. The edge attribute 'count' is the number of movies shared by two actors in 2013 - with a handful of exceptions, this is 1 for all actor pairs (in the 2013 data)."
     ]
    },
    {
     "cell_type": "code",
     "collapsed": false,
     "input": [
      "edge_idx = np.nonzero(adjacency)\n",
      "sf_edge = graphlab.SFrame({'idx_source': edge_idx[0], 'idx_dest': edge_idx[1],\n",
      "                          'weight': adjacency[edge_idx]})\n",
      "\n",
      "sf_edge = sf_edge.join(year_actors, on={'idx_source': 'id'}, how='left')\n",
      "sf_edge.rename({'actor': 'actor1'})\n",
      "\n",
      "sf_edge = sf_edge.join(year_actors, on={'idx_dest': 'id'}, how='left')\n",
      "sf_edge.rename({'actor': 'actor2'})\n",
      "\n",
      "sf_edge.remove_column('idx_dest')\n",
      "sf_edge.remove_column('idx_source')\n",
      "\n",
      "net = graphlab.SGraph()\n",
      "net = net.add_edges(sf_edge, src_field='actor1', dst_field='actor2')\n",
      "net = net.add_edges(sf_edge, src_field='actor2', dst_field='actor1')"
     ],
     "language": "python",
     "metadata": {},
     "outputs": []
    },
    {
     "cell_type": "code",
     "collapsed": false,
     "input": [
      "print \"Sample actor edges:\"\n",
      "net.edges"
     ],
     "language": "python",
     "metadata": {},
     "outputs": []
    },
    {
     "cell_type": "heading",
     "level": 3,
     "metadata": {},
     "source": [
      "Connected components (again)"
     ]
    },
    {
     "cell_type": "markdown",
     "metadata": {},
     "source": [
      "We can also find the connected components in the actor network."
     ]
    },
    {
     "cell_type": "code",
     "collapsed": false,
     "input": [
      "cc = graphlab.connected_components.create(net)\n",
      "cc_out = cc.get('componentid')\n",
      "\n",
      "print \"Connected component summary:\"\n",
      "cc.summary()"
     ],
     "language": "python",
     "metadata": {},
     "outputs": []
    },
    {
     "cell_type": "markdown",
     "metadata": {},
     "source": [
      "Again, there are is one dominant component with \"mainstream\" actors. As with the bipartite graph, let's isolate and explore some of the smaller components."
     ]
    },
    {
     "cell_type": "code",
     "collapsed": false,
     "input": [
      "cc_size = cc['component_size'].sort('Count', ascending=False)\n",
      "cc_size"
     ],
     "language": "python",
     "metadata": {},
     "outputs": []
    },
    {
     "cell_type": "markdown",
     "metadata": {},
     "source": [
      "To keep things simple going forward, we'll work with only the big connected component."
     ]
    },
    {
     "cell_type": "code",
     "collapsed": false,
     "input": [
      "big_label = cc_size['componentid'][0]\n",
      "big_names = cc_out[cc_out['componentid'] == big_label]\n",
      "mainstream_actors = big_names.filter_by(actors, column_name='__id')['__id']\n",
      "\n",
      "mainstream_edges = net.get_edges(src_ids=mainstream_actors)\n",
      "net = graphlab.SGraph()\n",
      "net = net.add_edges(mainstream_edges, src_field='__src_id', dst_field='__dst_id')\n",
      "\n",
      "net.summary()"
     ],
     "language": "python",
     "metadata": {},
     "outputs": []
    },
    {
     "cell_type": "heading",
     "level": 3,
     "metadata": {},
     "source": [
      "Back to Kevin Bacon"
     ]
    },
    {
     "cell_type": "markdown",
     "metadata": {},
     "source": [
      "Kevin Bacon appears to have been eclipsed by many actors as the center of the Kevin Bacon game over the past decade, but we used very crude graph metrics to determine this. In this smaller network of 2013 actors we can compute more sophisticated things to measure centrality. We'll start with vertex degree once again, but now an actor's degree is the number of actors who share a movie with him (rather than the number of movies done by the actor as in the bipartite graph).\n",
      "\n",
      "We'll use an SFrame---initialized with the actor degree---to store the results."
     ]
    },
    {
     "cell_type": "code",
     "collapsed": false,
     "input": [
      "centrality = get_degree(net)"
     ],
     "language": "python",
     "metadata": {},
     "outputs": []
    },
    {
     "cell_type": "markdown",
     "metadata": {},
     "source": [
      "Triangles in a graph are complete subgraphs with only three vertices. The number of triangles to which an actor belongs is a measure of the connectivity of his or her social network."
     ]
    },
    {
     "cell_type": "code",
     "collapsed": false,
     "input": [
      "tc = graphlab.triangle_counting.create(net)\n",
      "print \"Triangle count summary:\\n\", tc.summary()\n",
      "\n",
      "centrality = centrality.join(tc['triangle_count'], on='__id', how='left')"
     ],
     "language": "python",
     "metadata": {},
     "outputs": []
    },
    {
     "cell_type": "markdown",
     "metadata": {},
     "source": [
      "Pagerank is a popular method for calculating the \"importance\" of nodes in a graph."
     ]
    },
    {
     "cell_type": "code",
     "collapsed": false,
     "input": [
      "pr = graphlab.pagerank.create(net, verbose=False)\n",
      "print \"Pagerank summary:\\n\", pr.summary()\n",
      "\n",
      "centrality = centrality.join(pr['pagerank'], on='__id', how='left')\n",
      "centrality.sort('pagerank', ascending=False)"
     ],
     "language": "python",
     "metadata": {},
     "outputs": []
    },
    {
     "cell_type": "markdown",
     "metadata": {},
     "source": [
      "James Franco crushes the competition with pagerank. If we plot the histogram of pagerank, we can see just how far ahead Mr. Franco really is."
     ]
    },
    {
     "cell_type": "code",
     "collapsed": false,
     "input": [
      "idx_bacon = centrality['__id'] == 'Kevin Bacon'\n",
      "idx_franco = centrality['__id'] == 'James Franco'\n",
      "\n",
      "fig, ax = plt.subplots(figsize=(10, 8))\n",
      "ax.hist(list(centrality['pagerank']), bins=20, color='cornFlowerBlue')\n",
      "ax.set_ylabel('Frequency')\n",
      "ax.set_xlabel('Pagerank')\n",
      "ax.axvline(centrality['pagerank'][idx_franco], color='red', lw=2,\n",
      "           label='James Franco')\n",
      "ax.axvline(centrality['pagerank'][idx_bacon], color='black', lw=2, ls='--',\n",
      "           label='Kevin Bacon')\n",
      "ax.legend()\n",
      "clean_plot(ax)\n",
      "fig.show()"
     ],
     "language": "python",
     "metadata": {},
     "outputs": []
    },
    {
     "cell_type": "markdown",
     "metadata": {},
     "source": [
      "Finally, another very common way to measure the centrality of a vertex is the mean distance from the vertex to all other nodes. This is a relatively expensive thing to compute, so we'll find it just for the top of our leader board."
     ]
    },
    {
     "cell_type": "code",
     "collapsed": false,
     "input": [
      "centrality = centrality.sort('pagerank', ascending=False)\n",
      "\n",
      "mean_dists = [int(1e12)] * centrality.num_rows()\n",
      "\n",
      "for i in range(10):\n",
      "    a = centrality[i]['__id']\n",
      "    sp = graphlab.shortest_path.create(net, source_vid=a, verbose=False)\n",
      "    sp_out = sp['distance']\n",
      "    mean_dists[i] = sp_out['distance'].mean()\n",
      "\n",
      "centrality['mean_dist'] = mean_dists\n",
      "centrality.sort('mean_dist')"
     ],
     "language": "python",
     "metadata": {},
     "outputs": []
    },
    {
     "cell_type": "markdown",
     "metadata": {},
     "source": [
      "We have a three way tie, between *Anthony Mackie*, *James Franco* , and *Paul Rudd*."
     ]
    },
    {
     "cell_type": "code",
     "collapsed": false,
     "input": [
      "display(Image(url='https://s3.amazonaws.com/GraphLab-Datasets/americanMovies/Anthony-Mackie.jpg'))\n",
      "print \"Source: David Shankbone http://flickr.com/photos/27865228@N06/4543207958\"\n",
      "display(Image(url='https://s3.amazonaws.com/GraphLab-Datasets/americanMovies/James-Franco.jpg'))\n",
      "print \"Source: Vanessa Lua http://www.flickr.com/photos/vanessalua/6286991960/\"\n",
      "display(Image(url='https://s3.amazonaws.com/GraphLab-Datasets/americanMovies/Paul-Rudd.jpg'))\n",
      "print \"Source: Eva Rinaldi http://www.flickr.com/photos/evarinaldiphotography/11024133765/\" "
     ],
     "language": "python",
     "metadata": {},
     "outputs": []
    },
    {
     "cell_type": "markdown",
     "metadata": {},
     "source": [
      "TL; DR: Danny Trejo is the real Kevin Bacon of the last decade, while Paul Rudd, Anthony Mackie and James Franco took over the most central spot for 2013.\n",
      "\n",
      "(Looking for more details about the modules and functions? Check out the <a href=\"/products/create/docs/\">API docs</a>.)"
     ]
    }
   ],
   "metadata": {}
  }
 ]
}