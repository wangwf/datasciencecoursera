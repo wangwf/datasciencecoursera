{
 "metadata": {
  "name": "",
  "signature": "sha256:2aab40f6f6b47912f47c18bc62b9a98bee83fae6fe265549e01dfa692d9a6370"
 },
 "nbformat": 3,
 "nbformat_minor": 0,
 "worksheets": [
  {
   "cells": [
    {
     "cell_type": "code",
     "collapsed": false,
     "input": [
      "import graphlab as gl"
     ],
     "language": "python",
     "metadata": {},
     "outputs": [],
     "prompt_number": 1
    },
    {
     "cell_type": "code",
     "collapsed": false,
     "input": [
      "gl.version"
     ],
     "language": "python",
     "metadata": {},
     "outputs": [
      {
       "metadata": {},
       "output_type": "pyout",
       "prompt_number": 2,
       "text": [
        "'0.9.1'"
       ]
      }
     ],
     "prompt_number": 2
    },
    {
     "cell_type": "code",
     "collapsed": false,
     "input": [
      "with open(\"/home/wenfeng/.aws/config\",\"r\") as f:\n",
      "    f.readline()\n",
      "    aws_access_key_id = f.readline().strip().split(\"=\")[1]\n",
      "    aws_secret_access_key_id = f.readline().strip().split(\"=\")[1]\n",
      "\n",
      "gl.aws.set_credentials(aws_access_key_id,aws_secret_access_key_id)\n",
      "\n"
     ],
     "language": "python",
     "metadata": {},
     "outputs": [],
     "prompt_number": 3
    },
    {
     "cell_type": "code",
     "collapsed": false,
     "input": [
      "#You can select any EC2 machine of m1.large size or greater\n",
      "gl.aws.launch_EC2('m1.large')\n",
      "\n"
     ],
     "language": "python",
     "metadata": {},
     "outputs": [
      {
       "output_type": "stream",
       "stream": "stderr",
       "text": [
        "[INFO] Launching an m1.large instance in the us-west-2a availability zone, with id: i-a0d4c1ab. You will be responsible for the cost of this instance.\n"
       ]
      },
      {
       "output_type": "stream",
       "stream": "stderr",
       "text": [
        "[INFO] GraphLab Server Version: 0.9.1\n"
       ]
      }
     ],
     "prompt_number": 4
    },
    {
     "cell_type": "code",
     "collapsed": false,
     "input": [
      "# Load the model I generated this model previously and saved to this bucket.\n",
      "m = gl.load_model('s3://GraphLab-Datasets/models/my_trained_model')\n",
      "\n"
     ],
     "language": "python",
     "metadata": {},
     "outputs": [
      {
       "html": [
        "<pre>PROGRESS: Warning: Loading from an older model which will no longer be supported in the next release. Please update the saved model using the current version of GraphLab Create.</pre>"
       ],
       "metadata": {},
       "output_type": "display_data",
       "text": [
        "PROGRESS: Warning: Loading from an older model which will no longer be supported in the next release. Please update the saved model using the current version of GraphLab Create."
       ]
      }
     ],
     "prompt_number": 12
    },
    {
     "cell_type": "code",
     "collapsed": false,
     "input": [
      "# Load the data to make predictions on.\n",
      "data = gl.SFrame.read_csv('s3://GraphLab-Datasets/movie_ratings/sample.small', delimiter = '\\t')"
     ],
     "language": "python",
     "metadata": {},
     "outputs": [
      {
       "html": [
        "<pre>PROGRESS: Finished parsing file s3://GraphLab-Datasets/movie_ratings/sample.small</pre>"
       ],
       "metadata": {},
       "output_type": "display_data",
       "text": [
        "PROGRESS: Finished parsing file s3://GraphLab-Datasets/movie_ratings/sample.small"
       ]
      },
      {
       "html": [
        "<pre>PROGRESS: Parsing completed. Parsed 100 lines in 1.58182 secs.</pre>"
       ],
       "metadata": {},
       "output_type": "display_data",
       "text": [
        "PROGRESS: Parsing completed. Parsed 100 lines in 1.58182 secs."
       ]
      },
      {
       "html": [
        "<pre>PROGRESS: Read 1549015 lines. Lines per second: 293195</pre>"
       ],
       "metadata": {},
       "output_type": "display_data",
       "text": [
        "PROGRESS: Read 1549015 lines. Lines per second: 293195"
       ]
      },
      {
       "html": [
        "<pre>PROGRESS: Finished parsing file s3://GraphLab-Datasets/movie_ratings/sample.small</pre>"
       ],
       "metadata": {},
       "output_type": "display_data",
       "text": [
        "PROGRESS: Finished parsing file s3://GraphLab-Datasets/movie_ratings/sample.small"
       ]
      },
      {
       "html": [
        "<pre>PROGRESS: Parsing completed. Parsed 4000000 lines in 6.67245 secs.</pre>"
       ],
       "metadata": {},
       "output_type": "display_data",
       "text": [
        "PROGRESS: Parsing completed. Parsed 4000000 lines in 6.67245 secs."
       ]
      },
      {
       "output_type": "stream",
       "stream": "stdout",
       "text": [
        "------------------------------------------------------\n",
        "Inferred types from first line of file as \n",
        "column_type_hints=[str,str,int]\n",
        "If parsing fails due to incorrect types, you can correct\n",
        "the inferred type list above and pass it to read_csv in\n",
        "the column_type_hints argument\n",
        "------------------------------------------------------\n"
       ]
      }
     ],
     "prompt_number": 13
    },
    {
     "cell_type": "code",
     "collapsed": false,
     "input": [
      "# Generate the top 10 recommendations for all users in data\n",
      "recommendations = m.recommend(data['user'], k=10)\n",
      "recommendations.head()\n",
      "\n"
     ],
     "language": "python",
     "metadata": {},
     "outputs": [
      {
       "html": [
        "<pre>PROGRESS: Downloading from GraphLab-Datasets/models/my_trained_model/m_19495cff.0000</pre>"
       ],
       "metadata": {},
       "output_type": "display_data",
       "text": [
        "PROGRESS: Downloading from GraphLab-Datasets/models/my_trained_model/m_19495cff.0000"
       ]
      },
      {
       "html": [
        "<pre>PROGRESS: 1.00 MB downloaded -- 4.09 MB total</pre>"
       ],
       "metadata": {},
       "output_type": "display_data",
       "text": [
        "PROGRESS: 1.00 MB downloaded -- 4.09 MB total"
       ]
      },
      {
       "html": [
        "<pre>PROGRESS: 2.01 MB downloaded -- 4.09 MB total</pre>"
       ],
       "metadata": {},
       "output_type": "display_data",
       "text": [
        "PROGRESS: 2.01 MB downloaded -- 4.09 MB total"
       ]
      },
      {
       "html": [
        "<pre>PROGRESS: 3.01 MB downloaded -- 4.09 MB total</pre>"
       ],
       "metadata": {},
       "output_type": "display_data",
       "text": [
        "PROGRESS: 3.01 MB downloaded -- 4.09 MB total"
       ]
      },
      {
       "html": [
        "<pre>PROGRESS: 4.02 MB downloaded -- 4.09 MB total</pre>"
       ],
       "metadata": {},
       "output_type": "display_data",
       "text": [
        "PROGRESS: 4.02 MB downloaded -- 4.09 MB total"
       ]
      },
      {
       "html": [
        "<pre>PROGRESS: Downloading from GraphLab-Datasets/models/my_trained_model/m_19495cff.0001</pre>"
       ],
       "metadata": {},
       "output_type": "display_data",
       "text": [
        "PROGRESS: Downloading from GraphLab-Datasets/models/my_trained_model/m_19495cff.0001"
       ]
      },
      {
       "html": [
        "<pre>PROGRESS: 1.00 MB downloaded -- 4.11 MB total</pre>"
       ],
       "metadata": {},
       "output_type": "display_data",
       "text": [
        "PROGRESS: 1.00 MB downloaded -- 4.11 MB total"
       ]
      },
      {
       "html": [
        "<pre>PROGRESS: 2.01 MB downloaded -- 4.11 MB total</pre>"
       ],
       "metadata": {},
       "output_type": "display_data",
       "text": [
        "PROGRESS: 2.01 MB downloaded -- 4.11 MB total"
       ]
      },
      {
       "html": [
        "<pre>PROGRESS: 3.01 MB downloaded -- 4.11 MB total</pre>"
       ],
       "metadata": {},
       "output_type": "display_data",
       "text": [
        "PROGRESS: 3.01 MB downloaded -- 4.11 MB total"
       ]
      },
      {
       "html": [
        "<pre>PROGRESS: 4.02 MB downloaded -- 4.11 MB total</pre>"
       ],
       "metadata": {},
       "output_type": "display_data",
       "text": [
        "PROGRESS: 4.02 MB downloaded -- 4.11 MB total"
       ]
      },
      {
       "html": [
        "<pre>PROGRESS: Downloading from GraphLab-Datasets/models/my_trained_model/m_19495cff.0002</pre>"
       ],
       "metadata": {},
       "output_type": "display_data",
       "text": [
        "PROGRESS: Downloading from GraphLab-Datasets/models/my_trained_model/m_19495cff.0002"
       ]
      },
      {
       "html": [
        "<pre>PROGRESS: 1.00 MB downloaded -- 3.96 MB total</pre>"
       ],
       "metadata": {},
       "output_type": "display_data",
       "text": [
        "PROGRESS: 1.00 MB downloaded -- 3.96 MB total"
       ]
      },
      {
       "html": [
        "<pre>PROGRESS: 2.01 MB downloaded -- 3.96 MB total</pre>"
       ],
       "metadata": {},
       "output_type": "display_data",
       "text": [
        "PROGRESS: 2.01 MB downloaded -- 3.96 MB total"
       ]
      },
      {
       "html": [
        "<pre>PROGRESS: 3.01 MB downloaded -- 3.96 MB total</pre>"
       ],
       "metadata": {},
       "output_type": "display_data",
       "text": [
        "PROGRESS: 3.01 MB downloaded -- 3.96 MB total"
       ]
      },
      {
       "html": [
        "<pre>PROGRESS: Downloading from GraphLab-Datasets/models/my_trained_model/m_19495cff.0003</pre>"
       ],
       "metadata": {},
       "output_type": "display_data",
       "text": [
        "PROGRESS: Downloading from GraphLab-Datasets/models/my_trained_model/m_19495cff.0003"
       ]
      },
      {
       "html": [
        "<pre>PROGRESS: 1.00 MB downloaded -- 3.97 MB total</pre>"
       ],
       "metadata": {},
       "output_type": "display_data",
       "text": [
        "PROGRESS: 1.00 MB downloaded -- 3.97 MB total"
       ]
      },
      {
       "html": [
        "<pre>PROGRESS: 2.01 MB downloaded -- 3.97 MB total</pre>"
       ],
       "metadata": {},
       "output_type": "display_data",
       "text": [
        "PROGRESS: 2.01 MB downloaded -- 3.97 MB total"
       ]
      },
      {
       "html": [
        "<pre>PROGRESS: 3.01 MB downloaded -- 3.97 MB total</pre>"
       ],
       "metadata": {},
       "output_type": "display_data",
       "text": [
        "PROGRESS: 3.01 MB downloaded -- 3.97 MB total"
       ]
      },
      {
       "html": [
        "<pre>PROGRESS: recommendations finished on 1000/4000000 users. users per second: 3232.37</pre>"
       ],
       "metadata": {},
       "output_type": "display_data",
       "text": [
        "PROGRESS: recommendations finished on 1000/4000000 users. users per second: 3232.37"
       ]
      },
      {
       "html": [
        "<pre>PROGRESS: recommendations finished on 2000/4000000 users. users per second: 3739.09</pre>"
       ],
       "metadata": {},
       "output_type": "display_data",
       "text": [
        "PROGRESS: recommendations finished on 2000/4000000 users. users per second: 3739.09"
       ]
      },
      {
       "html": [
        "<pre>PROGRESS: recommendations finished on 3000/4000000 users. users per second: 4171.49</pre>"
       ],
       "metadata": {},
       "output_type": "display_data",
       "text": [
        "PROGRESS: recommendations finished on 3000/4000000 users. users per second: 4171.49"
       ]
      },
      {
       "html": [
        "<pre>PROGRESS: recommendations finished on 4000/4000000 users. users per second: 4495.23</pre>"
       ],
       "metadata": {},
       "output_type": "display_data",
       "text": [
        "PROGRESS: recommendations finished on 4000/4000000 users. users per second: 4495.23"
       ]
      },
      {
       "html": [
        "<pre>PROGRESS: recommendations finished on 5000/4000000 users. users per second: 4551.84</pre>"
       ],
       "metadata": {},
       "output_type": "display_data",
       "text": [
        "PROGRESS: recommendations finished on 5000/4000000 users. users per second: 4551.84"
       ]
      },
      {
       "html": [
        "<pre>PROGRESS: recommendations finished on 6000/4000000 users. users per second: 4560.39</pre>"
       ],
       "metadata": {},
       "output_type": "display_data",
       "text": [
        "PROGRESS: recommendations finished on 6000/4000000 users. users per second: 4560.39"
       ]
      },
      {
       "html": [
        "<pre>PROGRESS: recommendations finished on 7000/4000000 users. users per second: 4549.9</pre>"
       ],
       "metadata": {},
       "output_type": "display_data",
       "text": [
        "PROGRESS: recommendations finished on 7000/4000000 users. users per second: 4549.9"
       ]
      },
      {
       "html": [
        "<pre>PROGRESS: recommendations finished on 8000/4000000 users. users per second: 4657.96</pre>"
       ],
       "metadata": {},
       "output_type": "display_data",
       "text": [
        "PROGRESS: recommendations finished on 8000/4000000 users. users per second: 4657.96"
       ]
      },
      {
       "html": [
        "<pre>PROGRESS: recommendations finished on 9000/4000000 users. users per second: 4593.19</pre>"
       ],
       "metadata": {},
       "output_type": "display_data",
       "text": [
        "PROGRESS: recommendations finished on 9000/4000000 users. users per second: 4593.19"
       ]
      },
      {
       "html": [
        "<pre>PROGRESS: recommendations finished on 10000/4000000 users. users per second: 3892.81</pre>"
       ],
       "metadata": {},
       "output_type": "display_data",
       "text": [
        "PROGRESS: recommendations finished on 10000/4000000 users. users per second: 3892.81"
       ]
      },
      {
       "html": [
        "<pre>PROGRESS: recommendations finished on 11000/4000000 users. users per second: 3414.54</pre>"
       ],
       "metadata": {},
       "output_type": "display_data",
       "text": [
        "PROGRESS: recommendations finished on 11000/4000000 users. users per second: 3414.54"
       ]
      },
      {
       "html": [
        "<pre>PROGRESS: recommendations finished on 12000/4000000 users. users per second: 3317.86</pre>"
       ],
       "metadata": {},
       "output_type": "display_data",
       "text": [
        "PROGRESS: recommendations finished on 12000/4000000 users. users per second: 3317.86"
       ]
      },
      {
       "html": [
        "<pre>PROGRESS: recommendations finished on 13000/4000000 users. users per second: 3265.2</pre>"
       ],
       "metadata": {},
       "output_type": "display_data",
       "text": [
        "PROGRESS: recommendations finished on 13000/4000000 users. users per second: 3265.2"
       ]
      },
      {
       "html": [
        "<pre>PROGRESS: recommendations finished on 14000/4000000 users. users per second: 3168.09</pre>"
       ],
       "metadata": {},
       "output_type": "display_data",
       "text": [
        "PROGRESS: recommendations finished on 14000/4000000 users. users per second: 3168.09"
       ]
      },
      {
       "html": [
        "<pre>PROGRESS: recommendations finished on 15000/4000000 users. users per second: 3100.28</pre>"
       ],
       "metadata": {},
       "output_type": "display_data",
       "text": [
        "PROGRESS: recommendations finished on 15000/4000000 users. users per second: 3100.28"
       ]
      },
      {
       "html": [
        "<pre>PROGRESS: recommendations finished on 16000/4000000 users. users per second: 3049.96</pre>"
       ],
       "metadata": {},
       "output_type": "display_data",
       "text": [
        "PROGRESS: recommendations finished on 16000/4000000 users. users per second: 3049.96"
       ]
      },
      {
       "html": [
        "<pre>PROGRESS: recommendations finished on 17000/4000000 users. users per second: 3061.24</pre>"
       ],
       "metadata": {},
       "output_type": "display_data",
       "text": [
        "PROGRESS: recommendations finished on 17000/4000000 users. users per second: 3061.24"
       ]
      },
      {
       "html": [
        "<pre>PROGRESS: recommendations finished on 18000/4000000 users. users per second: 3059.68</pre>"
       ],
       "metadata": {},
       "output_type": "display_data",
       "text": [
        "PROGRESS: recommendations finished on 18000/4000000 users. users per second: 3059.68"
       ]
      },
      {
       "html": [
        "<pre>PROGRESS: recommendations finished on 19000/4000000 users. users per second: 3054.81</pre>"
       ],
       "metadata": {},
       "output_type": "display_data",
       "text": [
        "PROGRESS: recommendations finished on 19000/4000000 users. users per second: 3054.81"
       ]
      },
      {
       "html": [
        "<pre>PROGRESS: recommendations finished on 20000/4000000 users. users per second: 3059.46</pre>"
       ],
       "metadata": {},
       "output_type": "display_data",
       "text": [
        "PROGRESS: recommendations finished on 20000/4000000 users. users per second: 3059.46"
       ]
      },
      {
       "html": [
        "<pre>PROGRESS: recommendations finished on 21000/4000000 users. users per second: 3102.34</pre>"
       ],
       "metadata": {},
       "output_type": "display_data",
       "text": [
        "PROGRESS: recommendations finished on 21000/4000000 users. users per second: 3102.34"
       ]
      },
      {
       "html": [
        "<pre>PROGRESS: recommendations finished on 22000/4000000 users. users per second: 3077.35</pre>"
       ],
       "metadata": {},
       "output_type": "display_data",
       "text": [
        "PROGRESS: recommendations finished on 22000/4000000 users. users per second: 3077.35"
       ]
      },
      {
       "html": [
        "<pre>PROGRESS: recommendations finished on 23000/4000000 users. users per second: 3134.08</pre>"
       ],
       "metadata": {},
       "output_type": "display_data",
       "text": [
        "PROGRESS: recommendations finished on 23000/4000000 users. users per second: 3134.08"
       ]
      },
      {
       "html": [
        "<pre>PROGRESS: recommendations finished on 24000/4000000 users. users per second: 3179.84</pre>"
       ],
       "metadata": {},
       "output_type": "display_data",
       "text": [
        "PROGRESS: recommendations finished on 24000/4000000 users. users per second: 3179.84"
       ]
      },
      {
       "html": [
        "<pre>PROGRESS: recommendations finished on 25000/4000000 users. users per second: 3110.65</pre>"
       ],
       "metadata": {},
       "output_type": "display_data",
       "text": [
        "PROGRESS: recommendations finished on 25000/4000000 users. users per second: 3110.65"
       ]
      },
      {
       "html": [
        "<pre>PROGRESS: recommendations finished on 26000/4000000 users. users per second: 3048.76</pre>"
       ],
       "metadata": {},
       "output_type": "display_data",
       "text": [
        "PROGRESS: recommendations finished on 26000/4000000 users. users per second: 3048.76"
       ]
      },
      {
       "html": [
        "<pre>PROGRESS: recommendations finished on 27000/4000000 users. users per second: 2996.04</pre>"
       ],
       "metadata": {},
       "output_type": "display_data",
       "text": [
        "PROGRESS: recommendations finished on 27000/4000000 users. users per second: 2996.04"
       ]
      },
      {
       "html": [
        "<pre>PROGRESS: recommendations finished on 28000/4000000 users. users per second: 2942.04</pre>"
       ],
       "metadata": {},
       "output_type": "display_data",
       "text": [
        "PROGRESS: recommendations finished on 28000/4000000 users. users per second: 2942.04"
       ]
      },
      {
       "html": [
        "<pre>PROGRESS: recommendations finished on 29000/4000000 users. users per second: 2915.38</pre>"
       ],
       "metadata": {},
       "output_type": "display_data",
       "text": [
        "PROGRESS: recommendations finished on 29000/4000000 users. users per second: 2915.38"
       ]
      },
      {
       "html": [
        "<pre>PROGRESS: recommendations finished on 30000/4000000 users. users per second: 2908.94</pre>"
       ],
       "metadata": {},
       "output_type": "display_data",
       "text": [
        "PROGRESS: recommendations finished on 30000/4000000 users. users per second: 2908.94"
       ]
      },
      {
       "html": [
        "<pre>PROGRESS: recommendations finished on 31000/4000000 users. users per second: 2898.75</pre>"
       ],
       "metadata": {},
       "output_type": "display_data",
       "text": [
        "PROGRESS: recommendations finished on 31000/4000000 users. users per second: 2898.75"
       ]
      },
      {
       "html": [
        "<pre>PROGRESS: recommendations finished on 32000/4000000 users. users per second: 2899.07</pre>"
       ],
       "metadata": {},
       "output_type": "display_data",
       "text": [
        "PROGRESS: recommendations finished on 32000/4000000 users. users per second: 2899.07"
       ]
      },
      {
       "html": [
        "<pre>PROGRESS: recommendations finished on 33000/4000000 users. users per second: 2864.2</pre>"
       ],
       "metadata": {},
       "output_type": "display_data",
       "text": [
        "PROGRESS: recommendations finished on 33000/4000000 users. users per second: 2864.2"
       ]
      },
      {
       "html": [
        "<pre>PROGRESS: recommendations finished on 34000/4000000 users. users per second: 2822.29</pre>"
       ],
       "metadata": {},
       "output_type": "display_data",
       "text": [
        "PROGRESS: recommendations finished on 34000/4000000 users. users per second: 2822.29"
       ]
      },
      {
       "html": [
        "<pre>PROGRESS: recommendations finished on 35000/4000000 users. users per second: 2797.69</pre>"
       ],
       "metadata": {},
       "output_type": "display_data",
       "text": [
        "PROGRESS: recommendations finished on 35000/4000000 users. users per second: 2797.69"
       ]
      },
      {
       "html": [
        "<pre>PROGRESS: recommendations finished on 36000/4000000 users. users per second: 2773.34</pre>"
       ],
       "metadata": {},
       "output_type": "display_data",
       "text": [
        "PROGRESS: recommendations finished on 36000/4000000 users. users per second: 2773.34"
       ]
      },
      {
       "html": [
        "<pre>PROGRESS: recommendations finished on 37000/4000000 users. users per second: 2746.07</pre>"
       ],
       "metadata": {},
       "output_type": "display_data",
       "text": [
        "PROGRESS: recommendations finished on 37000/4000000 users. users per second: 2746.07"
       ]
      },
      {
       "html": [
        "<pre>PROGRESS: recommendations finished on 38000/4000000 users. users per second: 2725.04</pre>"
       ],
       "metadata": {},
       "output_type": "display_data",
       "text": [
        "PROGRESS: recommendations finished on 38000/4000000 users. users per second: 2725.04"
       ]
      },
      {
       "html": [
        "<pre>PROGRESS: recommendations finished on 39000/4000000 users. users per second: 2689.07</pre>"
       ],
       "metadata": {},
       "output_type": "display_data",
       "text": [
        "PROGRESS: recommendations finished on 39000/4000000 users. users per second: 2689.07"
       ]
      },
      {
       "html": [
        "<pre>PROGRESS: recommendations finished on 40000/4000000 users. users per second: 2637.46</pre>"
       ],
       "metadata": {},
       "output_type": "display_data",
       "text": [
        "PROGRESS: recommendations finished on 40000/4000000 users. users per second: 2637.46"
       ]
      },
      {
       "html": [
        "<pre>PROGRESS: recommendations finished on 41000/4000000 users. users per second: 2613.66</pre>"
       ],
       "metadata": {},
       "output_type": "display_data",
       "text": [
        "PROGRESS: recommendations finished on 41000/4000000 users. users per second: 2613.66"
       ]
      },
      {
       "html": [
        "<pre>PROGRESS: recommendations finished on 42000/4000000 users. users per second: 2597.73</pre>"
       ],
       "metadata": {},
       "output_type": "display_data",
       "text": [
        "PROGRESS: recommendations finished on 42000/4000000 users. users per second: 2597.73"
       ]
      },
      {
       "html": [
        "<pre>PROGRESS: recommendations finished on 43000/4000000 users. users per second: 2579.27</pre>"
       ],
       "metadata": {},
       "output_type": "display_data",
       "text": [
        "PROGRESS: recommendations finished on 43000/4000000 users. users per second: 2579.27"
       ]
      },
      {
       "html": [
        "<pre>PROGRESS: recommendations finished on 44000/4000000 users. users per second: 2571.04</pre>"
       ],
       "metadata": {},
       "output_type": "display_data",
       "text": [
        "PROGRESS: recommendations finished on 44000/4000000 users. users per second: 2571.04"
       ]
      },
      {
       "html": [
        "<pre>PROGRESS: recommendations finished on 45000/4000000 users. users per second: 2558.01</pre>"
       ],
       "metadata": {},
       "output_type": "display_data",
       "text": [
        "PROGRESS: recommendations finished on 45000/4000000 users. users per second: 2558.01"
       ]
      },
      {
       "html": [
        "<pre>PROGRESS: recommendations finished on 46000/4000000 users. users per second: 2549.58</pre>"
       ],
       "metadata": {},
       "output_type": "display_data",
       "text": [
        "PROGRESS: recommendations finished on 46000/4000000 users. users per second: 2549.58"
       ]
      },
      {
       "html": [
        "<pre>PROGRESS: recommendations finished on 47000/4000000 users. users per second: 2532.2</pre>"
       ],
       "metadata": {},
       "output_type": "display_data",
       "text": [
        "PROGRESS: recommendations finished on 47000/4000000 users. users per second: 2532.2"
       ]
      },
      {
       "html": [
        "<pre>PROGRESS: recommendations finished on 48000/4000000 users. users per second: 2516.38</pre>"
       ],
       "metadata": {},
       "output_type": "display_data",
       "text": [
        "PROGRESS: recommendations finished on 48000/4000000 users. users per second: 2516.38"
       ]
      },
      {
       "html": [
        "<pre>PROGRESS: recommendations finished on 49000/4000000 users. users per second: 2505.54</pre>"
       ],
       "metadata": {},
       "output_type": "display_data",
       "text": [
        "PROGRESS: recommendations finished on 49000/4000000 users. users per second: 2505.54"
       ]
      },
      {
       "html": [
        "<pre>PROGRESS: recommendations finished on 50000/4000000 users. users per second: 2484.17</pre>"
       ],
       "metadata": {},
       "output_type": "display_data",
       "text": [
        "PROGRESS: recommendations finished on 50000/4000000 users. users per second: 2484.17"
       ]
      },
      {
       "html": [
        "<pre>PROGRESS: recommendations finished on 51000/4000000 users. users per second: 2471.7</pre>"
       ],
       "metadata": {},
       "output_type": "display_data",
       "text": [
        "PROGRESS: recommendations finished on 51000/4000000 users. users per second: 2471.7"
       ]
      },
      {
       "html": [
        "<pre>PROGRESS: recommendations finished on 52000/4000000 users. users per second: 2454.5</pre>"
       ],
       "metadata": {},
       "output_type": "display_data",
       "text": [
        "PROGRESS: recommendations finished on 52000/4000000 users. users per second: 2454.5"
       ]
      },
      {
       "html": [
        "<pre>PROGRESS: recommendations finished on 53000/4000000 users. users per second: 2448.32</pre>"
       ],
       "metadata": {},
       "output_type": "display_data",
       "text": [
        "PROGRESS: recommendations finished on 53000/4000000 users. users per second: 2448.32"
       ]
      },
      {
       "html": [
        "<pre>PROGRESS: recommendations finished on 54000/4000000 users. users per second: 2422.08</pre>"
       ],
       "metadata": {},
       "output_type": "display_data",
       "text": [
        "PROGRESS: recommendations finished on 54000/4000000 users. users per second: 2422.08"
       ]
      },
      {
       "html": [
        "<pre>PROGRESS: recommendations finished on 55000/4000000 users. users per second: 2399.31</pre>"
       ],
       "metadata": {},
       "output_type": "display_data",
       "text": [
        "PROGRESS: recommendations finished on 55000/4000000 users. users per second: 2399.31"
       ]
      },
      {
       "html": [
        "<pre>PROGRESS: recommendations finished on 56000/4000000 users. users per second: 2388.24</pre>"
       ],
       "metadata": {},
       "output_type": "display_data",
       "text": [
        "PROGRESS: recommendations finished on 56000/4000000 users. users per second: 2388.24"
       ]
      },
      {
       "html": [
        "<pre>PROGRESS: recommendations finished on 57000/4000000 users. users per second: 2378.01</pre>"
       ],
       "metadata": {},
       "output_type": "display_data",
       "text": [
        "PROGRESS: recommendations finished on 57000/4000000 users. users per second: 2378.01"
       ]
      },
      {
       "html": [
        "<pre>PROGRESS: recommendations finished on 58000/4000000 users. users per second: 2364.48</pre>"
       ],
       "metadata": {},
       "output_type": "display_data",
       "text": [
        "PROGRESS: recommendations finished on 58000/4000000 users. users per second: 2364.48"
       ]
      },
      {
       "html": [
        "<pre>PROGRESS: recommendations finished on 59000/4000000 users. users per second: 2354.13</pre>"
       ],
       "metadata": {},
       "output_type": "display_data",
       "text": [
        "PROGRESS: recommendations finished on 59000/4000000 users. users per second: 2354.13"
       ]
      },
      {
       "html": [
        "<pre>PROGRESS: recommendations finished on 60000/4000000 users. users per second: 2352.24</pre>"
       ],
       "metadata": {},
       "output_type": "display_data",
       "text": [
        "PROGRESS: recommendations finished on 60000/4000000 users. users per second: 2352.24"
       ]
      },
      {
       "html": [
        "<pre>PROGRESS: recommendations finished on 61000/4000000 users. users per second: 2336.82</pre>"
       ],
       "metadata": {},
       "output_type": "display_data",
       "text": [
        "PROGRESS: recommendations finished on 61000/4000000 users. users per second: 2336.82"
       ]
      },
      {
       "html": [
        "<pre>PROGRESS: recommendations finished on 62000/4000000 users. users per second: 2329.67</pre>"
       ],
       "metadata": {},
       "output_type": "display_data",
       "text": [
        "PROGRESS: recommendations finished on 62000/4000000 users. users per second: 2329.67"
       ]
      },
      {
       "html": [
        "<pre>PROGRESS: recommendations finished on 63000/4000000 users. users per second: 2323.91</pre>"
       ],
       "metadata": {},
       "output_type": "display_data",
       "text": [
        "PROGRESS: recommendations finished on 63000/4000000 users. users per second: 2323.91"
       ]
      },
      {
       "html": [
        "<pre>PROGRESS: recommendations finished on 64000/4000000 users. users per second: 2324.2</pre>"
       ],
       "metadata": {},
       "output_type": "display_data",
       "text": [
        "PROGRESS: recommendations finished on 64000/4000000 users. users per second: 2324.2"
       ]
      },
      {
       "html": [
        "<pre>PROGRESS: recommendations finished on 65000/4000000 users. users per second: 2314.28</pre>"
       ],
       "metadata": {},
       "output_type": "display_data",
       "text": [
        "PROGRESS: recommendations finished on 65000/4000000 users. users per second: 2314.28"
       ]
      },
      {
       "html": [
        "<pre>PROGRESS: recommendations finished on 66000/4000000 users. users per second: 2307.78</pre>"
       ],
       "metadata": {},
       "output_type": "display_data",
       "text": [
        "PROGRESS: recommendations finished on 66000/4000000 users. users per second: 2307.78"
       ]
      },
      {
       "html": [
        "<pre>PROGRESS: recommendations finished on 67000/4000000 users. users per second: 2302.85</pre>"
       ],
       "metadata": {},
       "output_type": "display_data",
       "text": [
        "PROGRESS: recommendations finished on 67000/4000000 users. users per second: 2302.85"
       ]
      },
      {
       "html": [
        "<pre>PROGRESS: recommendations finished on 68000/4000000 users. users per second: 2288.05</pre>"
       ],
       "metadata": {},
       "output_type": "display_data",
       "text": [
        "PROGRESS: recommendations finished on 68000/4000000 users. users per second: 2288.05"
       ]
      },
      {
       "html": [
        "<pre>PROGRESS: recommendations finished on 69000/4000000 users. users per second: 2281.03</pre>"
       ],
       "metadata": {},
       "output_type": "display_data",
       "text": [
        "PROGRESS: recommendations finished on 69000/4000000 users. users per second: 2281.03"
       ]
      },
      {
       "html": [
        "<pre>PROGRESS: recommendations finished on 70000/4000000 users. users per second: 2274.78</pre>"
       ],
       "metadata": {},
       "output_type": "display_data",
       "text": [
        "PROGRESS: recommendations finished on 70000/4000000 users. users per second: 2274.78"
       ]
      },
      {
       "html": [
        "<pre>PROGRESS: recommendations finished on 71000/4000000 users. users per second: 2270.27</pre>"
       ],
       "metadata": {},
       "output_type": "display_data",
       "text": [
        "PROGRESS: recommendations finished on 71000/4000000 users. users per second: 2270.27"
       ]
      },
      {
       "html": [
        "<pre>PROGRESS: recommendations finished on 72000/4000000 users. users per second: 2263.82</pre>"
       ],
       "metadata": {},
       "output_type": "display_data",
       "text": [
        "PROGRESS: recommendations finished on 72000/4000000 users. users per second: 2263.82"
       ]
      },
      {
       "html": [
        "<pre>PROGRESS: recommendations finished on 73000/4000000 users. users per second: 2256.75</pre>"
       ],
       "metadata": {},
       "output_type": "display_data",
       "text": [
        "PROGRESS: recommendations finished on 73000/4000000 users. users per second: 2256.75"
       ]
      },
      {
       "html": [
        "<pre>PROGRESS: recommendations finished on 74000/4000000 users. users per second: 2247.86</pre>"
       ],
       "metadata": {},
       "output_type": "display_data",
       "text": [
        "PROGRESS: recommendations finished on 74000/4000000 users. users per second: 2247.86"
       ]
      },
      {
       "html": [
        "<pre>PROGRESS: recommendations finished on 75000/4000000 users. users per second: 2242.22</pre>"
       ],
       "metadata": {},
       "output_type": "display_data",
       "text": [
        "PROGRESS: recommendations finished on 75000/4000000 users. users per second: 2242.22"
       ]
      },
      {
       "html": [
        "<pre>PROGRESS: recommendations finished on 76000/4000000 users. users per second: 2240.46</pre>"
       ],
       "metadata": {},
       "output_type": "display_data",
       "text": [
        "PROGRESS: recommendations finished on 76000/4000000 users. users per second: 2240.46"
       ]
      },
      {
       "html": [
        "<pre>PROGRESS: recommendations finished on 77000/4000000 users. users per second: 2236.05</pre>"
       ],
       "metadata": {},
       "output_type": "display_data",
       "text": [
        "PROGRESS: recommendations finished on 77000/4000000 users. users per second: 2236.05"
       ]
      },
      {
       "html": [
        "<pre>PROGRESS: recommendations finished on 78000/4000000 users. users per second: 2231.87</pre>"
       ],
       "metadata": {},
       "output_type": "display_data",
       "text": [
        "PROGRESS: recommendations finished on 78000/4000000 users. users per second: 2231.87"
       ]
      },
      {
       "html": [
        "<pre>PROGRESS: recommendations finished on 79000/4000000 users. users per second: 2229.53</pre>"
       ],
       "metadata": {},
       "output_type": "display_data",
       "text": [
        "PROGRESS: recommendations finished on 79000/4000000 users. users per second: 2229.53"
       ]
      },
      {
       "html": [
        "<pre>PROGRESS: recommendations finished on 80000/4000000 users. users per second: 2226.72</pre>"
       ],
       "metadata": {},
       "output_type": "display_data",
       "text": [
        "PROGRESS: recommendations finished on 80000/4000000 users. users per second: 2226.72"
       ]
      },
      {
       "html": [
        "<pre>PROGRESS: recommendations finished on 81000/4000000 users. users per second: 2223.27</pre>"
       ],
       "metadata": {},
       "output_type": "display_data",
       "text": [
        "PROGRESS: recommendations finished on 81000/4000000 users. users per second: 2223.27"
       ]
      },
      {
       "html": [
        "<pre>PROGRESS: recommendations finished on 82000/4000000 users. users per second: 2219.08</pre>"
       ],
       "metadata": {},
       "output_type": "display_data",
       "text": [
        "PROGRESS: recommendations finished on 82000/4000000 users. users per second: 2219.08"
       ]
      },
      {
       "html": [
        "<pre>PROGRESS: recommendations finished on 83000/4000000 users. users per second: 2213.35</pre>"
       ],
       "metadata": {},
       "output_type": "display_data",
       "text": [
        "PROGRESS: recommendations finished on 83000/4000000 users. users per second: 2213.35"
       ]
      },
      {
       "html": [
        "<pre>PROGRESS: recommendations finished on 84000/4000000 users. users per second: 2206.41</pre>"
       ],
       "metadata": {},
       "output_type": "display_data",
       "text": [
        "PROGRESS: recommendations finished on 84000/4000000 users. users per second: 2206.41"
       ]
      },
      {
       "html": [
        "<pre>PROGRESS: recommendations finished on 85000/4000000 users. users per second: 2201.84</pre>"
       ],
       "metadata": {},
       "output_type": "display_data",
       "text": [
        "PROGRESS: recommendations finished on 85000/4000000 users. users per second: 2201.84"
       ]
      },
      {
       "html": [
        "<pre>PROGRESS: recommendations finished on 86000/4000000 users. users per second: 2200.57</pre>"
       ],
       "metadata": {},
       "output_type": "display_data",
       "text": [
        "PROGRESS: recommendations finished on 86000/4000000 users. users per second: 2200.57"
       ]
      },
      {
       "html": [
        "<pre>PROGRESS: recommendations finished on 87000/4000000 users. users per second: 2196.83</pre>"
       ],
       "metadata": {},
       "output_type": "display_data",
       "text": [
        "PROGRESS: recommendations finished on 87000/4000000 users. users per second: 2196.83"
       ]
      },
      {
       "html": [
        "<pre>PROGRESS: recommendations finished on 88000/4000000 users. users per second: 2195.14</pre>"
       ],
       "metadata": {},
       "output_type": "display_data",
       "text": [
        "PROGRESS: recommendations finished on 88000/4000000 users. users per second: 2195.14"
       ]
      },
      {
       "html": [
        "<pre>PROGRESS: recommendations finished on 89000/4000000 users. users per second: 2193.01</pre>"
       ],
       "metadata": {},
       "output_type": "display_data",
       "text": [
        "PROGRESS: recommendations finished on 89000/4000000 users. users per second: 2193.01"
       ]
      },
      {
       "html": [
        "<pre>PROGRESS: recommendations finished on 90000/4000000 users. users per second: 2188.22</pre>"
       ],
       "metadata": {},
       "output_type": "display_data",
       "text": [
        "PROGRESS: recommendations finished on 90000/4000000 users. users per second: 2188.22"
       ]
      },
      {
       "html": [
        "<pre>PROGRESS: recommendations finished on 91000/4000000 users. users per second: 2175.63</pre>"
       ],
       "metadata": {},
       "output_type": "display_data",
       "text": [
        "PROGRESS: recommendations finished on 91000/4000000 users. users per second: 2175.63"
       ]
      },
      {
       "html": [
        "<pre>PROGRESS: recommendations finished on 92000/4000000 users. users per second: 2165.13</pre>"
       ],
       "metadata": {},
       "output_type": "display_data",
       "text": [
        "PROGRESS: recommendations finished on 92000/4000000 users. users per second: 2165.13"
       ]
      },
      {
       "html": [
        "<pre>PROGRESS: recommendations finished on 93000/4000000 users. users per second: 2160.5</pre>"
       ],
       "metadata": {},
       "output_type": "display_data",
       "text": [
        "PROGRESS: recommendations finished on 93000/4000000 users. users per second: 2160.5"
       ]
      },
      {
       "html": [
        "<pre>PROGRESS: recommendations finished on 94000/4000000 users. users per second: 2153.65</pre>"
       ],
       "metadata": {},
       "output_type": "display_data",
       "text": [
        "PROGRESS: recommendations finished on 94000/4000000 users. users per second: 2153.65"
       ]
      },
      {
       "html": [
        "<pre>PROGRESS: recommendations finished on 95000/4000000 users. users per second: 2149.77</pre>"
       ],
       "metadata": {},
       "output_type": "display_data",
       "text": [
        "PROGRESS: recommendations finished on 95000/4000000 users. users per second: 2149.77"
       ]
      },
      {
       "html": [
        "<pre>PROGRESS: recommendations finished on 96000/4000000 users. users per second: 2145.15</pre>"
       ],
       "metadata": {},
       "output_type": "display_data",
       "text": [
        "PROGRESS: recommendations finished on 96000/4000000 users. users per second: 2145.15"
       ]
      },
      {
       "html": [
        "<pre>PROGRESS: recommendations finished on 97000/4000000 users. users per second: 2134.17</pre>"
       ],
       "metadata": {},
       "output_type": "display_data",
       "text": [
        "PROGRESS: recommendations finished on 97000/4000000 users. users per second: 2134.17"
       ]
      },
      {
       "html": [
        "<pre>PROGRESS: recommendations finished on 98000/4000000 users. users per second: 2125.76</pre>"
       ],
       "metadata": {},
       "output_type": "display_data",
       "text": [
        "PROGRESS: recommendations finished on 98000/4000000 users. users per second: 2125.76"
       ]
      },
      {
       "html": [
        "<pre>PROGRESS: recommendations finished on 99000/4000000 users. users per second: 2114.12</pre>"
       ],
       "metadata": {},
       "output_type": "display_data",
       "text": [
        "PROGRESS: recommendations finished on 99000/4000000 users. users per second: 2114.12"
       ]
      },
      {
       "html": [
        "<pre>PROGRESS: recommendations finished on 100000/4000000 users. users per second: 2105.76</pre>"
       ],
       "metadata": {},
       "output_type": "display_data",
       "text": [
        "PROGRESS: recommendations finished on 100000/4000000 users. users per second: 2105.76"
       ]
      },
      {
       "html": [
        "<pre>PROGRESS: recommendations finished on 101000/4000000 users. users per second: 2098.42</pre>"
       ],
       "metadata": {},
       "output_type": "display_data",
       "text": [
        "PROGRESS: recommendations finished on 101000/4000000 users. users per second: 2098.42"
       ]
      },
      {
       "html": [
        "<pre>PROGRESS: recommendations finished on 102000/4000000 users. users per second: 2092.3</pre>"
       ],
       "metadata": {},
       "output_type": "display_data",
       "text": [
        "PROGRESS: recommendations finished on 102000/4000000 users. users per second: 2092.3"
       ]
      },
      {
       "html": [
        "<pre>PROGRESS: recommendations finished on 103000/4000000 users. users per second: 2083.05</pre>"
       ],
       "metadata": {},
       "output_type": "display_data",
       "text": [
        "PROGRESS: recommendations finished on 103000/4000000 users. users per second: 2083.05"
       ]
      },
      {
       "html": [
        "<pre>PROGRESS: recommendations finished on 104000/4000000 users. users per second: 2079.48</pre>"
       ],
       "metadata": {},
       "output_type": "display_data",
       "text": [
        "PROGRESS: recommendations finished on 104000/4000000 users. users per second: 2079.48"
       ]
      },
      {
       "html": [
        "<pre>PROGRESS: recommendations finished on 105000/4000000 users. users per second: 2077.15</pre>"
       ],
       "metadata": {},
       "output_type": "display_data",
       "text": [
        "PROGRESS: recommendations finished on 105000/4000000 users. users per second: 2077.15"
       ]
      },
      {
       "html": [
        "<pre>PROGRESS: recommendations finished on 106000/4000000 users. users per second: 2070.31</pre>"
       ],
       "metadata": {},
       "output_type": "display_data",
       "text": [
        "PROGRESS: recommendations finished on 106000/4000000 users. users per second: 2070.31"
       ]
      },
      {
       "html": [
        "<pre>PROGRESS: recommendations finished on 107000/4000000 users. users per second: 2062.96</pre>"
       ],
       "metadata": {},
       "output_type": "display_data",
       "text": [
        "PROGRESS: recommendations finished on 107000/4000000 users. users per second: 2062.96"
       ]
      },
      {
       "html": [
        "<pre>PROGRESS: recommendations finished on 108000/4000000 users. users per second: 2057.55</pre>"
       ],
       "metadata": {},
       "output_type": "display_data",
       "text": [
        "PROGRESS: recommendations finished on 108000/4000000 users. users per second: 2057.55"
       ]
      },
      {
       "html": [
        "<pre>PROGRESS: recommendations finished on 109000/4000000 users. users per second: 2054.27</pre>"
       ],
       "metadata": {},
       "output_type": "display_data",
       "text": [
        "PROGRESS: recommendations finished on 109000/4000000 users. users per second: 2054.27"
       ]
      },
      {
       "html": [
        "<pre>PROGRESS: recommendations finished on 110000/4000000 users. users per second: 2049.45</pre>"
       ],
       "metadata": {},
       "output_type": "display_data",
       "text": [
        "PROGRESS: recommendations finished on 110000/4000000 users. users per second: 2049.45"
       ]
      },
      {
       "html": [
        "<pre>PROGRESS: recommendations finished on 111000/4000000 users. users per second: 2044.91</pre>"
       ],
       "metadata": {},
       "output_type": "display_data",
       "text": [
        "PROGRESS: recommendations finished on 111000/4000000 users. users per second: 2044.91"
       ]
      },
      {
       "html": [
        "<pre>PROGRESS: recommendations finished on 112000/4000000 users. users per second: 2037.27</pre>"
       ],
       "metadata": {},
       "output_type": "display_data",
       "text": [
        "PROGRESS: recommendations finished on 112000/4000000 users. users per second: 2037.27"
       ]
      },
      {
       "html": [
        "<pre>PROGRESS: recommendations finished on 113000/4000000 users. users per second: 2035.83</pre>"
       ],
       "metadata": {},
       "output_type": "display_data",
       "text": [
        "PROGRESS: recommendations finished on 113000/4000000 users. users per second: 2035.83"
       ]
      },
      {
       "html": [
        "<pre>PROGRESS: recommendations finished on 114000/4000000 users. users per second: 2027.24</pre>"
       ],
       "metadata": {},
       "output_type": "display_data",
       "text": [
        "PROGRESS: recommendations finished on 114000/4000000 users. users per second: 2027.24"
       ]
      },
      {
       "html": [
        "<pre>PROGRESS: recommendations finished on 115000/4000000 users. users per second: 2021.21</pre>"
       ],
       "metadata": {},
       "output_type": "display_data",
       "text": [
        "PROGRESS: recommendations finished on 115000/4000000 users. users per second: 2021.21"
       ]
      },
      {
       "html": [
        "<pre>PROGRESS: recommendations finished on 116000/4000000 users. users per second: 2021.21</pre>"
       ],
       "metadata": {},
       "output_type": "display_data",
       "text": [
        "PROGRESS: recommendations finished on 116000/4000000 users. users per second: 2021.21"
       ]
      },
      {
       "html": [
        "<pre>PROGRESS: recommendations finished on 117000/4000000 users. users per second: 2018.12</pre>"
       ],
       "metadata": {},
       "output_type": "display_data",
       "text": [
        "PROGRESS: recommendations finished on 117000/4000000 users. users per second: 2018.12"
       ]
      },
      {
       "html": [
        "<pre>PROGRESS: recommendations finished on 118000/4000000 users. users per second: 2016.74</pre>"
       ],
       "metadata": {},
       "output_type": "display_data",
       "text": [
        "PROGRESS: recommendations finished on 118000/4000000 users. users per second: 2016.74"
       ]
      },
      {
       "html": [
        "<pre>PROGRESS: recommendations finished on 119000/4000000 users. users per second: 2013.27</pre>"
       ],
       "metadata": {},
       "output_type": "display_data",
       "text": [
        "PROGRESS: recommendations finished on 119000/4000000 users. users per second: 2013.27"
       ]
      },
      {
       "html": [
        "<pre>PROGRESS: recommendations finished on 120000/4000000 users. users per second: 2008.49</pre>"
       ],
       "metadata": {},
       "output_type": "display_data",
       "text": [
        "PROGRESS: recommendations finished on 120000/4000000 users. users per second: 2008.49"
       ]
      },
      {
       "html": [
        "<pre>PROGRESS: recommendations finished on 121000/4000000 users. users per second: 2004.39</pre>"
       ],
       "metadata": {},
       "output_type": "display_data",
       "text": [
        "PROGRESS: recommendations finished on 121000/4000000 users. users per second: 2004.39"
       ]
      },
      {
       "html": [
        "<pre>PROGRESS: recommendations finished on 122000/4000000 users. users per second: 1997.55</pre>"
       ],
       "metadata": {},
       "output_type": "display_data",
       "text": [
        "PROGRESS: recommendations finished on 122000/4000000 users. users per second: 1997.55"
       ]
      },
      {
       "html": [
        "<pre>PROGRESS: recommendations finished on 123000/4000000 users. users per second: 1996.06</pre>"
       ],
       "metadata": {},
       "output_type": "display_data",
       "text": [
        "PROGRESS: recommendations finished on 123000/4000000 users. users per second: 1996.06"
       ]
      },
      {
       "html": [
        "<pre>PROGRESS: recommendations finished on 124000/4000000 users. users per second: 1994.08</pre>"
       ],
       "metadata": {},
       "output_type": "display_data",
       "text": [
        "PROGRESS: recommendations finished on 124000/4000000 users. users per second: 1994.08"
       ]
      },
      {
       "html": [
        "<pre>PROGRESS: recommendations finished on 125000/4000000 users. users per second: 1991.81</pre>"
       ],
       "metadata": {},
       "output_type": "display_data",
       "text": [
        "PROGRESS: recommendations finished on 125000/4000000 users. users per second: 1991.81"
       ]
      },
      {
       "html": [
        "<pre>PROGRESS: recommendations finished on 126000/4000000 users. users per second: 1986.15</pre>"
       ],
       "metadata": {},
       "output_type": "display_data",
       "text": [
        "PROGRESS: recommendations finished on 126000/4000000 users. users per second: 1986.15"
       ]
      },
      {
       "html": [
        "<pre>PROGRESS: recommendations finished on 127000/4000000 users. users per second: 1983.07</pre>"
       ],
       "metadata": {},
       "output_type": "display_data",
       "text": [
        "PROGRESS: recommendations finished on 127000/4000000 users. users per second: 1983.07"
       ]
      },
      {
       "html": [
        "<pre>PROGRESS: recommendations finished on 128000/4000000 users. users per second: 1977.02</pre>"
       ],
       "metadata": {},
       "output_type": "display_data",
       "text": [
        "PROGRESS: recommendations finished on 128000/4000000 users. users per second: 1977.02"
       ]
      },
      {
       "html": [
        "<pre>PROGRESS: recommendations finished on 129000/4000000 users. users per second: 1971.14</pre>"
       ],
       "metadata": {},
       "output_type": "display_data",
       "text": [
        "PROGRESS: recommendations finished on 129000/4000000 users. users per second: 1971.14"
       ]
      },
      {
       "html": [
        "<pre>PROGRESS: recommendations finished on 130000/4000000 users. users per second: 1967.68</pre>"
       ],
       "metadata": {},
       "output_type": "display_data",
       "text": [
        "PROGRESS: recommendations finished on 130000/4000000 users. users per second: 1967.68"
       ]
      },
      {
       "html": [
        "<pre>PROGRESS: recommendations finished on 131000/4000000 users. users per second: 1966.2</pre>"
       ],
       "metadata": {},
       "output_type": "display_data",
       "text": [
        "PROGRESS: recommendations finished on 131000/4000000 users. users per second: 1966.2"
       ]
      },
      {
       "html": [
        "<pre>PROGRESS: recommendations finished on 132000/4000000 users. users per second: 1966.51</pre>"
       ],
       "metadata": {},
       "output_type": "display_data",
       "text": [
        "PROGRESS: recommendations finished on 132000/4000000 users. users per second: 1966.51"
       ]
      },
      {
       "html": [
        "<pre>PROGRESS: recommendations finished on 133000/4000000 users. users per second: 1965.31</pre>"
       ],
       "metadata": {},
       "output_type": "display_data",
       "text": [
        "PROGRESS: recommendations finished on 133000/4000000 users. users per second: 1965.31"
       ]
      },
      {
       "html": [
        "<pre>PROGRESS: recommendations finished on 134000/4000000 users. users per second: 1959.69</pre>"
       ],
       "metadata": {},
       "output_type": "display_data",
       "text": [
        "PROGRESS: recommendations finished on 134000/4000000 users. users per second: 1959.69"
       ]
      },
      {
       "html": [
        "<pre>PROGRESS: recommendations finished on 135000/4000000 users. users per second: 1957.85</pre>"
       ],
       "metadata": {},
       "output_type": "display_data",
       "text": [
        "PROGRESS: recommendations finished on 135000/4000000 users. users per second: 1957.85"
       ]
      },
      {
       "html": [
        "<pre>PROGRESS: recommendations finished on 136000/4000000 users. users per second: 1956.25</pre>"
       ],
       "metadata": {},
       "output_type": "display_data",
       "text": [
        "PROGRESS: recommendations finished on 136000/4000000 users. users per second: 1956.25"
       ]
      },
      {
       "html": [
        "<pre>PROGRESS: recommendations finished on 137000/4000000 users. users per second: 1952.37</pre>"
       ],
       "metadata": {},
       "output_type": "display_data",
       "text": [
        "PROGRESS: recommendations finished on 137000/4000000 users. users per second: 1952.37"
       ]
      },
      {
       "html": [
        "<pre>PROGRESS: recommendations finished on 138000/4000000 users. users per second: 1948.04</pre>"
       ],
       "metadata": {},
       "output_type": "display_data",
       "text": [
        "PROGRESS: recommendations finished on 138000/4000000 users. users per second: 1948.04"
       ]
      },
      {
       "html": [
        "<pre>PROGRESS: recommendations finished on 139000/4000000 users. users per second: 1942.51</pre>"
       ],
       "metadata": {},
       "output_type": "display_data",
       "text": [
        "PROGRESS: recommendations finished on 139000/4000000 users. users per second: 1942.51"
       ]
      },
      {
       "html": [
        "<pre>PROGRESS: recommendations finished on 140000/4000000 users. users per second: 1937.44</pre>"
       ],
       "metadata": {},
       "output_type": "display_data",
       "text": [
        "PROGRESS: recommendations finished on 140000/4000000 users. users per second: 1937.44"
       ]
      },
      {
       "html": [
        "<pre>PROGRESS: recommendations finished on 141000/4000000 users. users per second: 1935.04</pre>"
       ],
       "metadata": {},
       "output_type": "display_data",
       "text": [
        "PROGRESS: recommendations finished on 141000/4000000 users. users per second: 1935.04"
       ]
      },
      {
       "html": [
        "<pre>PROGRESS: recommendations finished on 142000/4000000 users. users per second: 1932.89</pre>"
       ],
       "metadata": {},
       "output_type": "display_data",
       "text": [
        "PROGRESS: recommendations finished on 142000/4000000 users. users per second: 1932.89"
       ]
      },
      {
       "html": [
        "<pre>PROGRESS: recommendations finished on 143000/4000000 users. users per second: 1931.05</pre>"
       ],
       "metadata": {},
       "output_type": "display_data",
       "text": [
        "PROGRESS: recommendations finished on 143000/4000000 users. users per second: 1931.05"
       ]
      },
      {
       "html": [
        "<pre>PROGRESS: recommendations finished on 144000/4000000 users. users per second: 1930.25</pre>"
       ],
       "metadata": {},
       "output_type": "display_data",
       "text": [
        "PROGRESS: recommendations finished on 144000/4000000 users. users per second: 1930.25"
       ]
      },
      {
       "html": [
        "<pre>PROGRESS: recommendations finished on 145000/4000000 users. users per second: 1928.23</pre>"
       ],
       "metadata": {},
       "output_type": "display_data",
       "text": [
        "PROGRESS: recommendations finished on 145000/4000000 users. users per second: 1928.23"
       ]
      },
      {
       "html": [
        "<pre>PROGRESS: recommendations finished on 146000/4000000 users. users per second: 1925.74</pre>"
       ],
       "metadata": {},
       "output_type": "display_data",
       "text": [
        "PROGRESS: recommendations finished on 146000/4000000 users. users per second: 1925.74"
       ]
      },
      {
       "html": [
        "<pre>PROGRESS: recommendations finished on 147000/4000000 users. users per second: 1923</pre>"
       ],
       "metadata": {},
       "output_type": "display_data",
       "text": [
        "PROGRESS: recommendations finished on 147000/4000000 users. users per second: 1923"
       ]
      },
      {
       "html": [
        "<pre>PROGRESS: recommendations finished on 148000/4000000 users. users per second: 1919.1</pre>"
       ],
       "metadata": {},
       "output_type": "display_data",
       "text": [
        "PROGRESS: recommendations finished on 148000/4000000 users. users per second: 1919.1"
       ]
      },
      {
       "html": [
        "<pre>PROGRESS: recommendations finished on 149000/4000000 users. users per second: 1915.35</pre>"
       ],
       "metadata": {},
       "output_type": "display_data",
       "text": [
        "PROGRESS: recommendations finished on 149000/4000000 users. users per second: 1915.35"
       ]
      },
      {
       "html": [
        "<pre>PROGRESS: recommendations finished on 150000/4000000 users. users per second: 1912.6</pre>"
       ],
       "metadata": {},
       "output_type": "display_data",
       "text": [
        "PROGRESS: recommendations finished on 150000/4000000 users. users per second: 1912.6"
       ]
      },
      {
       "html": [
        "<pre>PROGRESS: recommendations finished on 151000/4000000 users. users per second: 1909.95</pre>"
       ],
       "metadata": {},
       "output_type": "display_data",
       "text": [
        "PROGRESS: recommendations finished on 151000/4000000 users. users per second: 1909.95"
       ]
      },
      {
       "html": [
        "<pre>PROGRESS: recommendations finished on 152000/4000000 users. users per second: 1907.75</pre>"
       ],
       "metadata": {},
       "output_type": "display_data",
       "text": [
        "PROGRESS: recommendations finished on 152000/4000000 users. users per second: 1907.75"
       ]
      },
      {
       "html": [
        "<pre>PROGRESS: recommendations finished on 153000/4000000 users. users per second: 1905.06</pre>"
       ],
       "metadata": {},
       "output_type": "display_data",
       "text": [
        "PROGRESS: recommendations finished on 153000/4000000 users. users per second: 1905.06"
       ]
      },
      {
       "html": [
        "<pre>PROGRESS: recommendations finished on 154000/4000000 users. users per second: 1902.08</pre>"
       ],
       "metadata": {},
       "output_type": "display_data",
       "text": [
        "PROGRESS: recommendations finished on 154000/4000000 users. users per second: 1902.08"
       ]
      },
      {
       "html": [
        "<pre>PROGRESS: recommendations finished on 155000/4000000 users. users per second: 1898.66</pre>"
       ],
       "metadata": {},
       "output_type": "display_data",
       "text": [
        "PROGRESS: recommendations finished on 155000/4000000 users. users per second: 1898.66"
       ]
      },
      {
       "html": [
        "<pre>PROGRESS: recommendations finished on 156000/4000000 users. users per second: 1893.48</pre>"
       ],
       "metadata": {},
       "output_type": "display_data",
       "text": [
        "PROGRESS: recommendations finished on 156000/4000000 users. users per second: 1893.48"
       ]
      },
      {
       "html": [
        "<pre>PROGRESS: recommendations finished on 157000/4000000 users. users per second: 1888.57</pre>"
       ],
       "metadata": {},
       "output_type": "display_data",
       "text": [
        "PROGRESS: recommendations finished on 157000/4000000 users. users per second: 1888.57"
       ]
      },
      {
       "html": [
        "<pre>PROGRESS: recommendations finished on 158000/4000000 users. users per second: 1883.59</pre>"
       ],
       "metadata": {},
       "output_type": "display_data",
       "text": [
        "PROGRESS: recommendations finished on 158000/4000000 users. users per second: 1883.59"
       ]
      },
      {
       "html": [
        "<pre>PROGRESS: recommendations finished on 159000/4000000 users. users per second: 1878.12</pre>"
       ],
       "metadata": {},
       "output_type": "display_data",
       "text": [
        "PROGRESS: recommendations finished on 159000/4000000 users. users per second: 1878.12"
       ]
      },
      {
       "html": [
        "<pre>PROGRESS: recommendations finished on 160000/4000000 users. users per second: 1872.48</pre>"
       ],
       "metadata": {},
       "output_type": "display_data",
       "text": [
        "PROGRESS: recommendations finished on 160000/4000000 users. users per second: 1872.48"
       ]
      },
      {
       "html": [
        "<pre>PROGRESS: recommendations finished on 161000/4000000 users. users per second: 1870.15</pre>"
       ],
       "metadata": {},
       "output_type": "display_data",
       "text": [
        "PROGRESS: recommendations finished on 161000/4000000 users. users per second: 1870.15"
       ]
      },
      {
       "html": [
        "<pre>PROGRESS: recommendations finished on 162000/4000000 users. users per second: 1867.98</pre>"
       ],
       "metadata": {},
       "output_type": "display_data",
       "text": [
        "PROGRESS: recommendations finished on 162000/4000000 users. users per second: 1867.98"
       ]
      },
      {
       "html": [
        "<pre>PROGRESS: recommendations finished on 163000/4000000 users. users per second: 1863.15</pre>"
       ],
       "metadata": {},
       "output_type": "display_data",
       "text": [
        "PROGRESS: recommendations finished on 163000/4000000 users. users per second: 1863.15"
       ]
      },
      {
       "html": [
        "<pre>PROGRESS: recommendations finished on 164000/4000000 users. users per second: 1858.3</pre>"
       ],
       "metadata": {},
       "output_type": "display_data",
       "text": [
        "PROGRESS: recommendations finished on 164000/4000000 users. users per second: 1858.3"
       ]
      },
      {
       "html": [
        "<pre>PROGRESS: recommendations finished on 165000/4000000 users. users per second: 1854.69</pre>"
       ],
       "metadata": {},
       "output_type": "display_data",
       "text": [
        "PROGRESS: recommendations finished on 165000/4000000 users. users per second: 1854.69"
       ]
      },
      {
       "html": [
        "<pre>PROGRESS: recommendations finished on 166000/4000000 users. users per second: 1849.66</pre>"
       ],
       "metadata": {},
       "output_type": "display_data",
       "text": [
        "PROGRESS: recommendations finished on 166000/4000000 users. users per second: 1849.66"
       ]
      },
      {
       "html": [
        "<pre>PROGRESS: recommendations finished on 167000/4000000 users. users per second: 1848.82</pre>"
       ],
       "metadata": {},
       "output_type": "display_data",
       "text": [
        "PROGRESS: recommendations finished on 167000/4000000 users. users per second: 1848.82"
       ]
      },
      {
       "html": [
        "<pre>PROGRESS: recommendations finished on 168000/4000000 users. users per second: 1845.69</pre>"
       ],
       "metadata": {},
       "output_type": "display_data",
       "text": [
        "PROGRESS: recommendations finished on 168000/4000000 users. users per second: 1845.69"
       ]
      },
      {
       "html": [
        "<pre>PROGRESS: recommendations finished on 169000/4000000 users. users per second: 1843.71</pre>"
       ],
       "metadata": {},
       "output_type": "display_data",
       "text": [
        "PROGRESS: recommendations finished on 169000/4000000 users. users per second: 1843.71"
       ]
      },
      {
       "html": [
        "<pre>PROGRESS: recommendations finished on 170000/4000000 users. users per second: 1840.79</pre>"
       ],
       "metadata": {},
       "output_type": "display_data",
       "text": [
        "PROGRESS: recommendations finished on 170000/4000000 users. users per second: 1840.79"
       ]
      },
      {
       "html": [
        "<pre>PROGRESS: recommendations finished on 171000/4000000 users. users per second: 1838.98</pre>"
       ],
       "metadata": {},
       "output_type": "display_data",
       "text": [
        "PROGRESS: recommendations finished on 171000/4000000 users. users per second: 1838.98"
       ]
      },
      {
       "html": [
        "<pre>PROGRESS: recommendations finished on 172000/4000000 users. users per second: 1835.7</pre>"
       ],
       "metadata": {},
       "output_type": "display_data",
       "text": [
        "PROGRESS: recommendations finished on 172000/4000000 users. users per second: 1835.7"
       ]
      },
      {
       "html": [
        "<pre>PROGRESS: recommendations finished on 173000/4000000 users. users per second: 1831.81</pre>"
       ],
       "metadata": {},
       "output_type": "display_data",
       "text": [
        "PROGRESS: recommendations finished on 173000/4000000 users. users per second: 1831.81"
       ]
      },
      {
       "html": [
        "<pre>PROGRESS: recommendations finished on 174000/4000000 users. users per second: 1827.81</pre>"
       ],
       "metadata": {},
       "output_type": "display_data",
       "text": [
        "PROGRESS: recommendations finished on 174000/4000000 users. users per second: 1827.81"
       ]
      },
      {
       "html": [
        "<pre>PROGRESS: recommendations finished on 175000/4000000 users. users per second: 1824.63</pre>"
       ],
       "metadata": {},
       "output_type": "display_data",
       "text": [
        "PROGRESS: recommendations finished on 175000/4000000 users. users per second: 1824.63"
       ]
      },
      {
       "html": [
        "<pre>PROGRESS: recommendations finished on 176000/4000000 users. users per second: 1822.67</pre>"
       ],
       "metadata": {},
       "output_type": "display_data",
       "text": [
        "PROGRESS: recommendations finished on 176000/4000000 users. users per second: 1822.67"
       ]
      },
      {
       "html": [
        "<pre>PROGRESS: recommendations finished on 177000/4000000 users. users per second: 1818.57</pre>"
       ],
       "metadata": {},
       "output_type": "display_data",
       "text": [
        "PROGRESS: recommendations finished on 177000/4000000 users. users per second: 1818.57"
       ]
      },
      {
       "html": [
        "<pre>PROGRESS: recommendations finished on 178000/4000000 users. users per second: 1817.9</pre>"
       ],
       "metadata": {},
       "output_type": "display_data",
       "text": [
        "PROGRESS: recommendations finished on 178000/4000000 users. users per second: 1817.9"
       ]
      },
      {
       "html": [
        "<pre>PROGRESS: recommendations finished on 179000/4000000 users. users per second: 1817.49</pre>"
       ],
       "metadata": {},
       "output_type": "display_data",
       "text": [
        "PROGRESS: recommendations finished on 179000/4000000 users. users per second: 1817.49"
       ]
      },
      {
       "html": [
        "<pre>PROGRESS: recommendations finished on 180000/4000000 users. users per second: 1815.21</pre>"
       ],
       "metadata": {},
       "output_type": "display_data",
       "text": [
        "PROGRESS: recommendations finished on 180000/4000000 users. users per second: 1815.21"
       ]
      },
      {
       "html": [
        "<pre>PROGRESS: recommendations finished on 181000/4000000 users. users per second: 1812.7</pre>"
       ],
       "metadata": {},
       "output_type": "display_data",
       "text": [
        "PROGRESS: recommendations finished on 181000/4000000 users. users per second: 1812.7"
       ]
      },
      {
       "html": [
        "<pre>PROGRESS: recommendations finished on 182000/4000000 users. users per second: 1811.04</pre>"
       ],
       "metadata": {},
       "output_type": "display_data",
       "text": [
        "PROGRESS: recommendations finished on 182000/4000000 users. users per second: 1811.04"
       ]
      },
      {
       "html": [
        "<pre>PROGRESS: recommendations finished on 183000/4000000 users. users per second: 1809.19</pre>"
       ],
       "metadata": {},
       "output_type": "display_data",
       "text": [
        "PROGRESS: recommendations finished on 183000/4000000 users. users per second: 1809.19"
       ]
      },
      {
       "html": [
        "<pre>PROGRESS: recommendations finished on 184000/4000000 users. users per second: 1807.92</pre>"
       ],
       "metadata": {},
       "output_type": "display_data",
       "text": [
        "PROGRESS: recommendations finished on 184000/4000000 users. users per second: 1807.92"
       ]
      },
      {
       "html": [
        "<pre>PROGRESS: recommendations finished on 185000/4000000 users. users per second: 1807.02</pre>"
       ],
       "metadata": {},
       "output_type": "display_data",
       "text": [
        "PROGRESS: recommendations finished on 185000/4000000 users. users per second: 1807.02"
       ]
      },
      {
       "html": [
        "<pre>PROGRESS: recommendations finished on 186000/4000000 users. users per second: 1804.93</pre>"
       ],
       "metadata": {},
       "output_type": "display_data",
       "text": [
        "PROGRESS: recommendations finished on 186000/4000000 users. users per second: 1804.93"
       ]
      },
      {
       "html": [
        "<pre>PROGRESS: recommendations finished on 187000/4000000 users. users per second: 1804.46</pre>"
       ],
       "metadata": {},
       "output_type": "display_data",
       "text": [
        "PROGRESS: recommendations finished on 187000/4000000 users. users per second: 1804.46"
       ]
      },
      {
       "html": [
        "<pre>PROGRESS: recommendations finished on 188000/4000000 users. users per second: 1803.56</pre>"
       ],
       "metadata": {},
       "output_type": "display_data",
       "text": [
        "PROGRESS: recommendations finished on 188000/4000000 users. users per second: 1803.56"
       ]
      },
      {
       "html": [
        "<pre>PROGRESS: recommendations finished on 189000/4000000 users. users per second: 1802.78</pre>"
       ],
       "metadata": {},
       "output_type": "display_data",
       "text": [
        "PROGRESS: recommendations finished on 189000/4000000 users. users per second: 1802.78"
       ]
      },
      {
       "html": [
        "<pre>PROGRESS: recommendations finished on 190000/4000000 users. users per second: 1802</pre>"
       ],
       "metadata": {},
       "output_type": "display_data",
       "text": [
        "PROGRESS: recommendations finished on 190000/4000000 users. users per second: 1802"
       ]
      },
      {
       "html": [
        "<pre>PROGRESS: recommendations finished on 191000/4000000 users. users per second: 1800.85</pre>"
       ],
       "metadata": {},
       "output_type": "display_data",
       "text": [
        "PROGRESS: recommendations finished on 191000/4000000 users. users per second: 1800.85"
       ]
      },
      {
       "html": [
        "<pre>PROGRESS: recommendations finished on 192000/4000000 users. users per second: 1800.3</pre>"
       ],
       "metadata": {},
       "output_type": "display_data",
       "text": [
        "PROGRESS: recommendations finished on 192000/4000000 users. users per second: 1800.3"
       ]
      },
      {
       "html": [
        "<pre>PROGRESS: recommendations finished on 193000/4000000 users. users per second: 1799.25</pre>"
       ],
       "metadata": {},
       "output_type": "display_data",
       "text": [
        "PROGRESS: recommendations finished on 193000/4000000 users. users per second: 1799.25"
       ]
      },
      {
       "html": [
        "<pre>PROGRESS: recommendations finished on 194000/4000000 users. users per second: 1798.7</pre>"
       ],
       "metadata": {},
       "output_type": "display_data",
       "text": [
        "PROGRESS: recommendations finished on 194000/4000000 users. users per second: 1798.7"
       ]
      },
      {
       "html": [
        "<pre>PROGRESS: recommendations finished on 195000/4000000 users. users per second: 1798.13</pre>"
       ],
       "metadata": {},
       "output_type": "display_data",
       "text": [
        "PROGRESS: recommendations finished on 195000/4000000 users. users per second: 1798.13"
       ]
      },
      {
       "html": [
        "<pre>PROGRESS: recommendations finished on 196000/4000000 users. users per second: 1797.48</pre>"
       ],
       "metadata": {},
       "output_type": "display_data",
       "text": [
        "PROGRESS: recommendations finished on 196000/4000000 users. users per second: 1797.48"
       ]
      },
      {
       "html": [
        "<pre>PROGRESS: recommendations finished on 197000/4000000 users. users per second: 1796.86</pre>"
       ],
       "metadata": {},
       "output_type": "display_data",
       "text": [
        "PROGRESS: recommendations finished on 197000/4000000 users. users per second: 1796.86"
       ]
      },
      {
       "html": [
        "<pre>PROGRESS: recommendations finished on 198000/4000000 users. users per second: 1796.06</pre>"
       ],
       "metadata": {},
       "output_type": "display_data",
       "text": [
        "PROGRESS: recommendations finished on 198000/4000000 users. users per second: 1796.06"
       ]
      },
      {
       "html": [
        "<pre>PROGRESS: recommendations finished on 199000/4000000 users. users per second: 1793.47</pre>"
       ],
       "metadata": {},
       "output_type": "display_data",
       "text": [
        "PROGRESS: recommendations finished on 199000/4000000 users. users per second: 1793.47"
       ]
      },
      {
       "html": [
        "<pre>PROGRESS: recommendations finished on 200000/4000000 users. users per second: 1790.79</pre>"
       ],
       "metadata": {},
       "output_type": "display_data",
       "text": [
        "PROGRESS: recommendations finished on 200000/4000000 users. users per second: 1790.79"
       ]
      },
      {
       "html": [
        "<pre>PROGRESS: recommendations finished on 201000/4000000 users. users per second: 1789</pre>"
       ],
       "metadata": {},
       "output_type": "display_data",
       "text": [
        "PROGRESS: recommendations finished on 201000/4000000 users. users per second: 1789"
       ]
      },
      {
       "html": [
        "<pre>PROGRESS: recommendations finished on 202000/4000000 users. users per second: 1787.17</pre>"
       ],
       "metadata": {},
       "output_type": "display_data",
       "text": [
        "PROGRESS: recommendations finished on 202000/4000000 users. users per second: 1787.17"
       ]
      },
      {
       "html": [
        "<pre>PROGRESS: recommendations finished on 203000/4000000 users. users per second: 1785.08</pre>"
       ],
       "metadata": {},
       "output_type": "display_data",
       "text": [
        "PROGRESS: recommendations finished on 203000/4000000 users. users per second: 1785.08"
       ]
      },
      {
       "html": [
        "<pre>PROGRESS: recommendations finished on 204000/4000000 users. users per second: 1785.38</pre>"
       ],
       "metadata": {},
       "output_type": "display_data",
       "text": [
        "PROGRESS: recommendations finished on 204000/4000000 users. users per second: 1785.38"
       ]
      },
      {
       "html": [
        "<pre>PROGRESS: recommendations finished on 205000/4000000 users. users per second: 1783.33</pre>"
       ],
       "metadata": {},
       "output_type": "display_data",
       "text": [
        "PROGRESS: recommendations finished on 205000/4000000 users. users per second: 1783.33"
       ]
      },
      {
       "html": [
        "<pre>PROGRESS: recommendations finished on 206000/4000000 users. users per second: 1778.37</pre>"
       ],
       "metadata": {},
       "output_type": "display_data",
       "text": [
        "PROGRESS: recommendations finished on 206000/4000000 users. users per second: 1778.37"
       ]
      },
      {
       "html": [
        "<pre>PROGRESS: recommendations finished on 207000/4000000 users. users per second: 1774.14</pre>"
       ],
       "metadata": {},
       "output_type": "display_data",
       "text": [
        "PROGRESS: recommendations finished on 207000/4000000 users. users per second: 1774.14"
       ]
      },
      {
       "html": [
        "<pre>PROGRESS: recommendations finished on 208000/4000000 users. users per second: 1770.99</pre>"
       ],
       "metadata": {},
       "output_type": "display_data",
       "text": [
        "PROGRESS: recommendations finished on 208000/4000000 users. users per second: 1770.99"
       ]
      },
      {
       "html": [
        "<pre>PROGRESS: recommendations finished on 209000/4000000 users. users per second: 1769.05</pre>"
       ],
       "metadata": {},
       "output_type": "display_data",
       "text": [
        "PROGRESS: recommendations finished on 209000/4000000 users. users per second: 1769.05"
       ]
      },
      {
       "html": [
        "<pre>PROGRESS: recommendations finished on 210000/4000000 users. users per second: 1768.97</pre>"
       ],
       "metadata": {},
       "output_type": "display_data",
       "text": [
        "PROGRESS: recommendations finished on 210000/4000000 users. users per second: 1768.97"
       ]
      },
      {
       "html": [
        "<pre>PROGRESS: recommendations finished on 211000/4000000 users. users per second: 1768.58</pre>"
       ],
       "metadata": {},
       "output_type": "display_data",
       "text": [
        "PROGRESS: recommendations finished on 211000/4000000 users. users per second: 1768.58"
       ]
      },
      {
       "html": [
        "<pre>PROGRESS: recommendations finished on 212000/4000000 users. users per second: 1767.85</pre>"
       ],
       "metadata": {},
       "output_type": "display_data",
       "text": [
        "PROGRESS: recommendations finished on 212000/4000000 users. users per second: 1767.85"
       ]
      },
      {
       "html": [
        "<pre>PROGRESS: recommendations finished on 213000/4000000 users. users per second: 1767.25</pre>"
       ],
       "metadata": {},
       "output_type": "display_data",
       "text": [
        "PROGRESS: recommendations finished on 213000/4000000 users. users per second: 1767.25"
       ]
      },
      {
       "html": [
        "<pre>PROGRESS: recommendations finished on 214000/4000000 users. users per second: 1766.77</pre>"
       ],
       "metadata": {},
       "output_type": "display_data",
       "text": [
        "PROGRESS: recommendations finished on 214000/4000000 users. users per second: 1766.77"
       ]
      },
      {
       "html": [
        "<pre>PROGRESS: recommendations finished on 215000/4000000 users. users per second: 1766.45</pre>"
       ],
       "metadata": {},
       "output_type": "display_data",
       "text": [
        "PROGRESS: recommendations finished on 215000/4000000 users. users per second: 1766.45"
       ]
      },
      {
       "html": [
        "<pre>PROGRESS: recommendations finished on 216000/4000000 users. users per second: 1764.1</pre>"
       ],
       "metadata": {},
       "output_type": "display_data",
       "text": [
        "PROGRESS: recommendations finished on 216000/4000000 users. users per second: 1764.1"
       ]
      },
      {
       "html": [
        "<pre>PROGRESS: recommendations finished on 217000/4000000 users. users per second: 1762.74</pre>"
       ],
       "metadata": {},
       "output_type": "display_data",
       "text": [
        "PROGRESS: recommendations finished on 217000/4000000 users. users per second: 1762.74"
       ]
      },
      {
       "html": [
        "<pre>PROGRESS: recommendations finished on 218000/4000000 users. users per second: 1761.2</pre>"
       ],
       "metadata": {},
       "output_type": "display_data",
       "text": [
        "PROGRESS: recommendations finished on 218000/4000000 users. users per second: 1761.2"
       ]
      },
      {
       "html": [
        "<pre>PROGRESS: recommendations finished on 219000/4000000 users. users per second: 1760.24</pre>"
       ],
       "metadata": {},
       "output_type": "display_data",
       "text": [
        "PROGRESS: recommendations finished on 219000/4000000 users. users per second: 1760.24"
       ]
      },
      {
       "html": [
        "<pre>PROGRESS: recommendations finished on 220000/4000000 users. users per second: 1759.29</pre>"
       ],
       "metadata": {},
       "output_type": "display_data",
       "text": [
        "PROGRESS: recommendations finished on 220000/4000000 users. users per second: 1759.29"
       ]
      },
      {
       "html": [
        "<pre>PROGRESS: recommendations finished on 221000/4000000 users. users per second: 1758.73</pre>"
       ],
       "metadata": {},
       "output_type": "display_data",
       "text": [
        "PROGRESS: recommendations finished on 221000/4000000 users. users per second: 1758.73"
       ]
      },
      {
       "html": [
        "<pre>PROGRESS: recommendations finished on 222000/4000000 users. users per second: 1757.35</pre>"
       ],
       "metadata": {},
       "output_type": "display_data",
       "text": [
        "PROGRESS: recommendations finished on 222000/4000000 users. users per second: 1757.35"
       ]
      },
      {
       "html": [
        "<pre>PROGRESS: recommendations finished on 223000/4000000 users. users per second: 1754.55</pre>"
       ],
       "metadata": {},
       "output_type": "display_data",
       "text": [
        "PROGRESS: recommendations finished on 223000/4000000 users. users per second: 1754.55"
       ]
      },
      {
       "html": [
        "<pre>PROGRESS: recommendations finished on 224000/4000000 users. users per second: 1753.31</pre>"
       ],
       "metadata": {},
       "output_type": "display_data",
       "text": [
        "PROGRESS: recommendations finished on 224000/4000000 users. users per second: 1753.31"
       ]
      },
      {
       "html": [
        "<pre>PROGRESS: recommendations finished on 225000/4000000 users. users per second: 1752.83</pre>"
       ],
       "metadata": {},
       "output_type": "display_data",
       "text": [
        "PROGRESS: recommendations finished on 225000/4000000 users. users per second: 1752.83"
       ]
      },
      {
       "html": [
        "<pre>PROGRESS: recommendations finished on 226000/4000000 users. users per second: 1752.6</pre>"
       ],
       "metadata": {},
       "output_type": "display_data",
       "text": [
        "PROGRESS: recommendations finished on 226000/4000000 users. users per second: 1752.6"
       ]
      },
      {
       "html": [
        "<pre>PROGRESS: recommendations finished on 227000/4000000 users. users per second: 1750.46</pre>"
       ],
       "metadata": {},
       "output_type": "display_data",
       "text": [
        "PROGRESS: recommendations finished on 227000/4000000 users. users per second: 1750.46"
       ]
      },
      {
       "html": [
        "<pre>PROGRESS: recommendations finished on 228000/4000000 users. users per second: 1749.1</pre>"
       ],
       "metadata": {},
       "output_type": "display_data",
       "text": [
        "PROGRESS: recommendations finished on 228000/4000000 users. users per second: 1749.1"
       ]
      },
      {
       "html": [
        "<pre>PROGRESS: recommendations finished on 229000/4000000 users. users per second: 1746.66</pre>"
       ],
       "metadata": {},
       "output_type": "display_data",
       "text": [
        "PROGRESS: recommendations finished on 229000/4000000 users. users per second: 1746.66"
       ]
      },
      {
       "html": [
        "<pre>PROGRESS: recommendations finished on 230000/4000000 users. users per second: 1744.02</pre>"
       ],
       "metadata": {},
       "output_type": "display_data",
       "text": [
        "PROGRESS: recommendations finished on 230000/4000000 users. users per second: 1744.02"
       ]
      },
      {
       "html": [
        "<pre>PROGRESS: recommendations finished on 231000/4000000 users. users per second: 1743.51</pre>"
       ],
       "metadata": {},
       "output_type": "display_data",
       "text": [
        "PROGRESS: recommendations finished on 231000/4000000 users. users per second: 1743.51"
       ]
      },
      {
       "html": [
        "<pre>PROGRESS: recommendations finished on 232000/4000000 users. users per second: 1743.53</pre>"
       ],
       "metadata": {},
       "output_type": "display_data",
       "text": [
        "PROGRESS: recommendations finished on 232000/4000000 users. users per second: 1743.53"
       ]
      },
      {
       "html": [
        "<pre>PROGRESS: recommendations finished on 233000/4000000 users. users per second: 1740.36</pre>"
       ],
       "metadata": {},
       "output_type": "display_data",
       "text": [
        "PROGRESS: recommendations finished on 233000/4000000 users. users per second: 1740.36"
       ]
      },
      {
       "html": [
        "<pre>PROGRESS: recommendations finished on 234000/4000000 users. users per second: 1738.13</pre>"
       ],
       "metadata": {},
       "output_type": "display_data",
       "text": [
        "PROGRESS: recommendations finished on 234000/4000000 users. users per second: 1738.13"
       ]
      },
      {
       "html": [
        "<pre>PROGRESS: recommendations finished on 235000/4000000 users. users per second: 1736.55</pre>"
       ],
       "metadata": {},
       "output_type": "display_data",
       "text": [
        "PROGRESS: recommendations finished on 235000/4000000 users. users per second: 1736.55"
       ]
      },
      {
       "html": [
        "<pre>PROGRESS: recommendations finished on 236000/4000000 users. users per second: 1735.02</pre>"
       ],
       "metadata": {},
       "output_type": "display_data",
       "text": [
        "PROGRESS: recommendations finished on 236000/4000000 users. users per second: 1735.02"
       ]
      },
      {
       "html": [
        "<pre>PROGRESS: recommendations finished on 237000/4000000 users. users per second: 1732.85</pre>"
       ],
       "metadata": {},
       "output_type": "display_data",
       "text": [
        "PROGRESS: recommendations finished on 237000/4000000 users. users per second: 1732.85"
       ]
      },
      {
       "html": [
        "<pre>PROGRESS: recommendations finished on 238000/4000000 users. users per second: 1729.66</pre>"
       ],
       "metadata": {},
       "output_type": "display_data",
       "text": [
        "PROGRESS: recommendations finished on 238000/4000000 users. users per second: 1729.66"
       ]
      },
      {
       "html": [
        "<pre>PROGRESS: recommendations finished on 239000/4000000 users. users per second: 1727.29</pre>"
       ],
       "metadata": {},
       "output_type": "display_data",
       "text": [
        "PROGRESS: recommendations finished on 239000/4000000 users. users per second: 1727.29"
       ]
      },
      {
       "html": [
        "<pre>PROGRESS: recommendations finished on 240000/4000000 users. users per second: 1726.3</pre>"
       ],
       "metadata": {},
       "output_type": "display_data",
       "text": [
        "PROGRESS: recommendations finished on 240000/4000000 users. users per second: 1726.3"
       ]
      },
      {
       "html": [
        "<pre>PROGRESS: recommendations finished on 241000/4000000 users. users per second: 1725.41</pre>"
       ],
       "metadata": {},
       "output_type": "display_data",
       "text": [
        "PROGRESS: recommendations finished on 241000/4000000 users. users per second: 1725.41"
       ]
      },
      {
       "html": [
        "<pre>PROGRESS: recommendations finished on 242000/4000000 users. users per second: 1724.35</pre>"
       ],
       "metadata": {},
       "output_type": "display_data",
       "text": [
        "PROGRESS: recommendations finished on 242000/4000000 users. users per second: 1724.35"
       ]
      },
      {
       "html": [
        "<pre>PROGRESS: recommendations finished on 243000/4000000 users. users per second: 1722.61</pre>"
       ],
       "metadata": {},
       "output_type": "display_data",
       "text": [
        "PROGRESS: recommendations finished on 243000/4000000 users. users per second: 1722.61"
       ]
      },
      {
       "html": [
        "<pre>PROGRESS: recommendations finished on 244000/4000000 users. users per second: 1721</pre>"
       ],
       "metadata": {},
       "output_type": "display_data",
       "text": [
        "PROGRESS: recommendations finished on 244000/4000000 users. users per second: 1721"
       ]
      },
      {
       "html": [
        "<pre>PROGRESS: recommendations finished on 245000/4000000 users. users per second: 1719.33</pre>"
       ],
       "metadata": {},
       "output_type": "display_data",
       "text": [
        "PROGRESS: recommendations finished on 245000/4000000 users. users per second: 1719.33"
       ]
      },
      {
       "html": [
        "<pre>PROGRESS: recommendations finished on 246000/4000000 users. users per second: 1718.5</pre>"
       ],
       "metadata": {},
       "output_type": "display_data",
       "text": [
        "PROGRESS: recommendations finished on 246000/4000000 users. users per second: 1718.5"
       ]
      },
      {
       "html": [
        "<pre>PROGRESS: recommendations finished on 247000/4000000 users. users per second: 1716.45</pre>"
       ],
       "metadata": {},
       "output_type": "display_data",
       "text": [
        "PROGRESS: recommendations finished on 247000/4000000 users. users per second: 1716.45"
       ]
      },
      {
       "html": [
        "<pre>PROGRESS: recommendations finished on 248000/4000000 users. users per second: 1715.49</pre>"
       ],
       "metadata": {},
       "output_type": "display_data",
       "text": [
        "PROGRESS: recommendations finished on 248000/4000000 users. users per second: 1715.49"
       ]
      },
      {
       "html": [
        "<pre>PROGRESS: recommendations finished on 249000/4000000 users. users per second: 1714.38</pre>"
       ],
       "metadata": {},
       "output_type": "display_data",
       "text": [
        "PROGRESS: recommendations finished on 249000/4000000 users. users per second: 1714.38"
       ]
      },
      {
       "html": [
        "<pre>PROGRESS: recommendations finished on 250000/4000000 users. users per second: 1714.11</pre>"
       ],
       "metadata": {},
       "output_type": "display_data",
       "text": [
        "PROGRESS: recommendations finished on 250000/4000000 users. users per second: 1714.11"
       ]
      },
      {
       "html": [
        "<pre>PROGRESS: recommendations finished on 251000/4000000 users. users per second: 1713.44</pre>"
       ],
       "metadata": {},
       "output_type": "display_data",
       "text": [
        "PROGRESS: recommendations finished on 251000/4000000 users. users per second: 1713.44"
       ]
      },
      {
       "html": [
        "<pre>PROGRESS: recommendations finished on 252000/4000000 users. users per second: 1712.85</pre>"
       ],
       "metadata": {},
       "output_type": "display_data",
       "text": [
        "PROGRESS: recommendations finished on 252000/4000000 users. users per second: 1712.85"
       ]
      },
      {
       "html": [
        "<pre>PROGRESS: recommendations finished on 253000/4000000 users. users per second: 1711.29</pre>"
       ],
       "metadata": {},
       "output_type": "display_data",
       "text": [
        "PROGRESS: recommendations finished on 253000/4000000 users. users per second: 1711.29"
       ]
      },
      {
       "html": [
        "<pre>PROGRESS: recommendations finished on 254000/4000000 users. users per second: 1709.43</pre>"
       ],
       "metadata": {},
       "output_type": "display_data",
       "text": [
        "PROGRESS: recommendations finished on 254000/4000000 users. users per second: 1709.43"
       ]
      },
      {
       "html": [
        "<pre>PROGRESS: recommendations finished on 255000/4000000 users. users per second: 1707.04</pre>"
       ],
       "metadata": {},
       "output_type": "display_data",
       "text": [
        "PROGRESS: recommendations finished on 255000/4000000 users. users per second: 1707.04"
       ]
      },
      {
       "html": [
        "<pre>PROGRESS: recommendations finished on 256000/4000000 users. users per second: 1705.95</pre>"
       ],
       "metadata": {},
       "output_type": "display_data",
       "text": [
        "PROGRESS: recommendations finished on 256000/4000000 users. users per second: 1705.95"
       ]
      },
      {
       "html": [
        "<pre>PROGRESS: recommendations finished on 257000/4000000 users. users per second: 1703.92</pre>"
       ],
       "metadata": {},
       "output_type": "display_data",
       "text": [
        "PROGRESS: recommendations finished on 257000/4000000 users. users per second: 1703.92"
       ]
      },
      {
       "html": [
        "<pre>PROGRESS: recommendations finished on 258000/4000000 users. users per second: 1701.97</pre>"
       ],
       "metadata": {},
       "output_type": "display_data",
       "text": [
        "PROGRESS: recommendations finished on 258000/4000000 users. users per second: 1701.97"
       ]
      },
      {
       "html": [
        "<pre>PROGRESS: recommendations finished on 259000/4000000 users. users per second: 1701.58</pre>"
       ],
       "metadata": {},
       "output_type": "display_data",
       "text": [
        "PROGRESS: recommendations finished on 259000/4000000 users. users per second: 1701.58"
       ]
      },
      {
       "html": [
        "<pre>PROGRESS: recommendations finished on 260000/4000000 users. users per second: 1700.34</pre>"
       ],
       "metadata": {},
       "output_type": "display_data",
       "text": [
        "PROGRESS: recommendations finished on 260000/4000000 users. users per second: 1700.34"
       ]
      },
      {
       "html": [
        "<pre>PROGRESS: recommendations finished on 261000/4000000 users. users per second: 1698.78</pre>"
       ],
       "metadata": {},
       "output_type": "display_data",
       "text": [
        "PROGRESS: recommendations finished on 261000/4000000 users. users per second: 1698.78"
       ]
      },
      {
       "html": [
        "<pre>PROGRESS: recommendations finished on 262000/4000000 users. users per second: 1698.44</pre>"
       ],
       "metadata": {},
       "output_type": "display_data",
       "text": [
        "PROGRESS: recommendations finished on 262000/4000000 users. users per second: 1698.44"
       ]
      },
      {
       "html": [
        "<pre>PROGRESS: recommendations finished on 263000/4000000 users. users per second: 1697.83</pre>"
       ],
       "metadata": {},
       "output_type": "display_data",
       "text": [
        "PROGRESS: recommendations finished on 263000/4000000 users. users per second: 1697.83"
       ]
      },
      {
       "html": [
        "<pre>PROGRESS: recommendations finished on 264000/4000000 users. users per second: 1696.83</pre>"
       ],
       "metadata": {},
       "output_type": "display_data",
       "text": [
        "PROGRESS: recommendations finished on 264000/4000000 users. users per second: 1696.83"
       ]
      },
      {
       "html": [
        "<pre>PROGRESS: recommendations finished on 265000/4000000 users. users per second: 1696.15</pre>"
       ],
       "metadata": {},
       "output_type": "display_data",
       "text": [
        "PROGRESS: recommendations finished on 265000/4000000 users. users per second: 1696.15"
       ]
      },
      {
       "html": [
        "<pre>PROGRESS: recommendations finished on 266000/4000000 users. users per second: 1695.24</pre>"
       ],
       "metadata": {},
       "output_type": "display_data",
       "text": [
        "PROGRESS: recommendations finished on 266000/4000000 users. users per second: 1695.24"
       ]
      },
      {
       "html": [
        "<pre>PROGRESS: recommendations finished on 267000/4000000 users. users per second: 1693.74</pre>"
       ],
       "metadata": {},
       "output_type": "display_data",
       "text": [
        "PROGRESS: recommendations finished on 267000/4000000 users. users per second: 1693.74"
       ]
      },
      {
       "html": [
        "<pre>PROGRESS: recommendations finished on 268000/4000000 users. users per second: 1691.89</pre>"
       ],
       "metadata": {},
       "output_type": "display_data",
       "text": [
        "PROGRESS: recommendations finished on 268000/4000000 users. users per second: 1691.89"
       ]
      },
      {
       "html": [
        "<pre>PROGRESS: recommendations finished on 269000/4000000 users. users per second: 1690.27</pre>"
       ],
       "metadata": {},
       "output_type": "display_data",
       "text": [
        "PROGRESS: recommendations finished on 269000/4000000 users. users per second: 1690.27"
       ]
      },
      {
       "html": [
        "<pre>PROGRESS: recommendations finished on 270000/4000000 users. users per second: 1688.68</pre>"
       ],
       "metadata": {},
       "output_type": "display_data",
       "text": [
        "PROGRESS: recommendations finished on 270000/4000000 users. users per second: 1688.68"
       ]
      },
      {
       "html": [
        "<pre>PROGRESS: recommendations finished on 271000/4000000 users. users per second: 1687.96</pre>"
       ],
       "metadata": {},
       "output_type": "display_data",
       "text": [
        "PROGRESS: recommendations finished on 271000/4000000 users. users per second: 1687.96"
       ]
      },
      {
       "html": [
        "<pre>PROGRESS: recommendations finished on 272000/4000000 users. users per second: 1686.66</pre>"
       ],
       "metadata": {},
       "output_type": "display_data",
       "text": [
        "PROGRESS: recommendations finished on 272000/4000000 users. users per second: 1686.66"
       ]
      },
      {
       "html": [
        "<pre>PROGRESS: recommendations finished on 273000/4000000 users. users per second: 1684.98</pre>"
       ],
       "metadata": {},
       "output_type": "display_data",
       "text": [
        "PROGRESS: recommendations finished on 273000/4000000 users. users per second: 1684.98"
       ]
      },
      {
       "html": [
        "<pre>PROGRESS: recommendations finished on 274000/4000000 users. users per second: 1683.45</pre>"
       ],
       "metadata": {},
       "output_type": "display_data",
       "text": [
        "PROGRESS: recommendations finished on 274000/4000000 users. users per second: 1683.45"
       ]
      },
      {
       "html": [
        "<pre>PROGRESS: recommendations finished on 275000/4000000 users. users per second: 1682.51</pre>"
       ],
       "metadata": {},
       "output_type": "display_data",
       "text": [
        "PROGRESS: recommendations finished on 275000/4000000 users. users per second: 1682.51"
       ]
      },
      {
       "html": [
        "<pre>PROGRESS: recommendations finished on 276000/4000000 users. users per second: 1682.65</pre>"
       ],
       "metadata": {},
       "output_type": "display_data",
       "text": [
        "PROGRESS: recommendations finished on 276000/4000000 users. users per second: 1682.65"
       ]
      },
      {
       "html": [
        "<pre>PROGRESS: recommendations finished on 277000/4000000 users. users per second: 1682.03</pre>"
       ],
       "metadata": {},
       "output_type": "display_data",
       "text": [
        "PROGRESS: recommendations finished on 277000/4000000 users. users per second: 1682.03"
       ]
      },
      {
       "html": [
        "<pre>PROGRESS: recommendations finished on 278000/4000000 users. users per second: 1682.2</pre>"
       ],
       "metadata": {},
       "output_type": "display_data",
       "text": [
        "PROGRESS: recommendations finished on 278000/4000000 users. users per second: 1682.2"
       ]
      },
      {
       "html": [
        "<pre>PROGRESS: recommendations finished on 279000/4000000 users. users per second: 1680.66</pre>"
       ],
       "metadata": {},
       "output_type": "display_data",
       "text": [
        "PROGRESS: recommendations finished on 279000/4000000 users. users per second: 1680.66"
       ]
      },
      {
       "html": [
        "<pre>PROGRESS: recommendations finished on 280000/4000000 users. users per second: 1679.12</pre>"
       ],
       "metadata": {},
       "output_type": "display_data",
       "text": [
        "PROGRESS: recommendations finished on 280000/4000000 users. users per second: 1679.12"
       ]
      },
      {
       "html": [
        "<pre>PROGRESS: recommendations finished on 281000/4000000 users. users per second: 1678.22</pre>"
       ],
       "metadata": {},
       "output_type": "display_data",
       "text": [
        "PROGRESS: recommendations finished on 281000/4000000 users. users per second: 1678.22"
       ]
      },
      {
       "html": [
        "<pre>PROGRESS: recommendations finished on 282000/4000000 users. users per second: 1677.88</pre>"
       ],
       "metadata": {},
       "output_type": "display_data",
       "text": [
        "PROGRESS: recommendations finished on 282000/4000000 users. users per second: 1677.88"
       ]
      },
      {
       "html": [
        "<pre>PROGRESS: recommendations finished on 283000/4000000 users. users per second: 1677.58</pre>"
       ],
       "metadata": {},
       "output_type": "display_data",
       "text": [
        "PROGRESS: recommendations finished on 283000/4000000 users. users per second: 1677.58"
       ]
      },
      {
       "html": [
        "<pre>PROGRESS: recommendations finished on 284000/4000000 users. users per second: 1676.93</pre>"
       ],
       "metadata": {},
       "output_type": "display_data",
       "text": [
        "PROGRESS: recommendations finished on 284000/4000000 users. users per second: 1676.93"
       ]
      },
      {
       "html": [
        "<pre>PROGRESS: recommendations finished on 285000/4000000 users. users per second: 1676.24</pre>"
       ],
       "metadata": {},
       "output_type": "display_data",
       "text": [
        "PROGRESS: recommendations finished on 285000/4000000 users. users per second: 1676.24"
       ]
      },
      {
       "html": [
        "<pre>PROGRESS: recommendations finished on 286000/4000000 users. users per second: 1675.18</pre>"
       ],
       "metadata": {},
       "output_type": "display_data",
       "text": [
        "PROGRESS: recommendations finished on 286000/4000000 users. users per second: 1675.18"
       ]
      },
      {
       "html": [
        "<pre>PROGRESS: recommendations finished on 287000/4000000 users. users per second: 1673.65</pre>"
       ],
       "metadata": {},
       "output_type": "display_data",
       "text": [
        "PROGRESS: recommendations finished on 287000/4000000 users. users per second: 1673.65"
       ]
      },
      {
       "html": [
        "<pre>PROGRESS: recommendations finished on 288000/4000000 users. users per second: 1673.43</pre>"
       ],
       "metadata": {},
       "output_type": "display_data",
       "text": [
        "PROGRESS: recommendations finished on 288000/4000000 users. users per second: 1673.43"
       ]
      },
      {
       "html": [
        "<pre>PROGRESS: recommendations finished on 289000/4000000 users. users per second: 1671.7</pre>"
       ],
       "metadata": {},
       "output_type": "display_data",
       "text": [
        "PROGRESS: recommendations finished on 289000/4000000 users. users per second: 1671.7"
       ]
      },
      {
       "html": [
        "<pre>PROGRESS: recommendations finished on 290000/4000000 users. users per second: 1668.83</pre>"
       ],
       "metadata": {},
       "output_type": "display_data",
       "text": [
        "PROGRESS: recommendations finished on 290000/4000000 users. users per second: 1668.83"
       ]
      },
      {
       "html": [
        "<pre>PROGRESS: recommendations finished on 291000/4000000 users. users per second: 1665.96</pre>"
       ],
       "metadata": {},
       "output_type": "display_data",
       "text": [
        "PROGRESS: recommendations finished on 291000/4000000 users. users per second: 1665.96"
       ]
      },
      {
       "html": [
        "<pre>PROGRESS: recommendations finished on 292000/4000000 users. users per second: 1664.09</pre>"
       ],
       "metadata": {},
       "output_type": "display_data",
       "text": [
        "PROGRESS: recommendations finished on 292000/4000000 users. users per second: 1664.09"
       ]
      },
      {
       "html": [
        "<pre>PROGRESS: recommendations finished on 293000/4000000 users. users per second: 1662.5</pre>"
       ],
       "metadata": {},
       "output_type": "display_data",
       "text": [
        "PROGRESS: recommendations finished on 293000/4000000 users. users per second: 1662.5"
       ]
      },
      {
       "html": [
        "<pre>PROGRESS: recommendations finished on 294000/4000000 users. users per second: 1660.14</pre>"
       ],
       "metadata": {},
       "output_type": "display_data",
       "text": [
        "PROGRESS: recommendations finished on 294000/4000000 users. users per second: 1660.14"
       ]
      },
      {
       "html": [
        "<pre>PROGRESS: recommendations finished on 295000/4000000 users. users per second: 1658.12</pre>"
       ],
       "metadata": {},
       "output_type": "display_data",
       "text": [
        "PROGRESS: recommendations finished on 295000/4000000 users. users per second: 1658.12"
       ]
      },
      {
       "html": [
        "<pre>PROGRESS: recommendations finished on 296000/4000000 users. users per second: 1657.01</pre>"
       ],
       "metadata": {},
       "output_type": "display_data",
       "text": [
        "PROGRESS: recommendations finished on 296000/4000000 users. users per second: 1657.01"
       ]
      },
      {
       "html": [
        "<pre>PROGRESS: recommendations finished on 297000/4000000 users. users per second: 1655.22</pre>"
       ],
       "metadata": {},
       "output_type": "display_data",
       "text": [
        "PROGRESS: recommendations finished on 297000/4000000 users. users per second: 1655.22"
       ]
      },
      {
       "html": [
        "<pre>PROGRESS: recommendations finished on 298000/4000000 users. users per second: 1653.7</pre>"
       ],
       "metadata": {},
       "output_type": "display_data",
       "text": [
        "PROGRESS: recommendations finished on 298000/4000000 users. users per second: 1653.7"
       ]
      },
      {
       "html": [
        "<pre>PROGRESS: recommendations finished on 299000/4000000 users. users per second: 1652.75</pre>"
       ],
       "metadata": {},
       "output_type": "display_data",
       "text": [
        "PROGRESS: recommendations finished on 299000/4000000 users. users per second: 1652.75"
       ]
      },
      {
       "html": [
        "<pre>PROGRESS: recommendations finished on 300000/4000000 users. users per second: 1652.09</pre>"
       ],
       "metadata": {},
       "output_type": "display_data",
       "text": [
        "PROGRESS: recommendations finished on 300000/4000000 users. users per second: 1652.09"
       ]
      },
      {
       "html": [
        "<pre>PROGRESS: recommendations finished on 301000/4000000 users. users per second: 1651.33</pre>"
       ],
       "metadata": {},
       "output_type": "display_data",
       "text": [
        "PROGRESS: recommendations finished on 301000/4000000 users. users per second: 1651.33"
       ]
      },
      {
       "html": [
        "<pre>PROGRESS: recommendations finished on 302000/4000000 users. users per second: 1650.98</pre>"
       ],
       "metadata": {},
       "output_type": "display_data",
       "text": [
        "PROGRESS: recommendations finished on 302000/4000000 users. users per second: 1650.98"
       ]
      },
      {
       "html": [
        "<pre>PROGRESS: recommendations finished on 303000/4000000 users. users per second: 1647.98</pre>"
       ],
       "metadata": {},
       "output_type": "display_data",
       "text": [
        "PROGRESS: recommendations finished on 303000/4000000 users. users per second: 1647.98"
       ]
      },
      {
       "html": [
        "<pre>PROGRESS: recommendations finished on 304000/4000000 users. users per second: 1645.35</pre>"
       ],
       "metadata": {},
       "output_type": "display_data",
       "text": [
        "PROGRESS: recommendations finished on 304000/4000000 users. users per second: 1645.35"
       ]
      },
      {
       "html": [
        "<pre>PROGRESS: recommendations finished on 305000/4000000 users. users per second: 1643.64</pre>"
       ],
       "metadata": {},
       "output_type": "display_data",
       "text": [
        "PROGRESS: recommendations finished on 305000/4000000 users. users per second: 1643.64"
       ]
      },
      {
       "html": [
        "<pre>PROGRESS: recommendations finished on 306000/4000000 users. users per second: 1642.91</pre>"
       ],
       "metadata": {},
       "output_type": "display_data",
       "text": [
        "PROGRESS: recommendations finished on 306000/4000000 users. users per second: 1642.91"
       ]
      },
      {
       "html": [
        "<pre>PROGRESS: recommendations finished on 307000/4000000 users. users per second: 1640.92</pre>"
       ],
       "metadata": {},
       "output_type": "display_data",
       "text": [
        "PROGRESS: recommendations finished on 307000/4000000 users. users per second: 1640.92"
       ]
      },
      {
       "html": [
        "<pre>PROGRESS: recommendations finished on 308000/4000000 users. users per second: 1639.72</pre>"
       ],
       "metadata": {},
       "output_type": "display_data",
       "text": [
        "PROGRESS: recommendations finished on 308000/4000000 users. users per second: 1639.72"
       ]
      },
      {
       "html": [
        "<pre>PROGRESS: recommendations finished on 309000/4000000 users. users per second: 1638.98</pre>"
       ],
       "metadata": {},
       "output_type": "display_data",
       "text": [
        "PROGRESS: recommendations finished on 309000/4000000 users. users per second: 1638.98"
       ]
      },
      {
       "html": [
        "<pre>PROGRESS: recommendations finished on 310000/4000000 users. users per second: 1636.76</pre>"
       ],
       "metadata": {},
       "output_type": "display_data",
       "text": [
        "PROGRESS: recommendations finished on 310000/4000000 users. users per second: 1636.76"
       ]
      },
      {
       "html": [
        "<pre>PROGRESS: recommendations finished on 311000/4000000 users. users per second: 1634.53</pre>"
       ],
       "metadata": {},
       "output_type": "display_data",
       "text": [
        "PROGRESS: recommendations finished on 311000/4000000 users. users per second: 1634.53"
       ]
      },
      {
       "html": [
        "<pre>PROGRESS: recommendations finished on 312000/4000000 users. users per second: 1633.37</pre>"
       ],
       "metadata": {},
       "output_type": "display_data",
       "text": [
        "PROGRESS: recommendations finished on 312000/4000000 users. users per second: 1633.37"
       ]
      },
      {
       "html": [
        "<pre>PROGRESS: recommendations finished on 313000/4000000 users. users per second: 1631.93</pre>"
       ],
       "metadata": {},
       "output_type": "display_data",
       "text": [
        "PROGRESS: recommendations finished on 313000/4000000 users. users per second: 1631.93"
       ]
      },
      {
       "html": [
        "<pre>PROGRESS: recommendations finished on 314000/4000000 users. users per second: 1631.71</pre>"
       ],
       "metadata": {},
       "output_type": "display_data",
       "text": [
        "PROGRESS: recommendations finished on 314000/4000000 users. users per second: 1631.71"
       ]
      },
      {
       "html": [
        "<pre>PROGRESS: recommendations finished on 315000/4000000 users. users per second: 1629.36</pre>"
       ],
       "metadata": {},
       "output_type": "display_data",
       "text": [
        "PROGRESS: recommendations finished on 315000/4000000 users. users per second: 1629.36"
       ]
      },
      {
       "html": [
        "<pre>PROGRESS: recommendations finished on 316000/4000000 users. users per second: 1627.36</pre>"
       ],
       "metadata": {},
       "output_type": "display_data",
       "text": [
        "PROGRESS: recommendations finished on 316000/4000000 users. users per second: 1627.36"
       ]
      },
      {
       "html": [
        "<pre>PROGRESS: recommendations finished on 317000/4000000 users. users per second: 1624.93</pre>"
       ],
       "metadata": {},
       "output_type": "display_data",
       "text": [
        "PROGRESS: recommendations finished on 317000/4000000 users. users per second: 1624.93"
       ]
      },
      {
       "html": [
        "<pre>PROGRESS: recommendations finished on 318000/4000000 users. users per second: 1622.5</pre>"
       ],
       "metadata": {},
       "output_type": "display_data",
       "text": [
        "PROGRESS: recommendations finished on 318000/4000000 users. users per second: 1622.5"
       ]
      },
      {
       "html": [
        "<pre>PROGRESS: recommendations finished on 319000/4000000 users. users per second: 1620.44</pre>"
       ],
       "metadata": {},
       "output_type": "display_data",
       "text": [
        "PROGRESS: recommendations finished on 319000/4000000 users. users per second: 1620.44"
       ]
      },
      {
       "html": [
        "<pre>PROGRESS: recommendations finished on 320000/4000000 users. users per second: 1618.47</pre>"
       ],
       "metadata": {},
       "output_type": "display_data",
       "text": [
        "PROGRESS: recommendations finished on 320000/4000000 users. users per second: 1618.47"
       ]
      },
      {
       "html": [
        "<pre>PROGRESS: recommendations finished on 321000/4000000 users. users per second: 1616.45</pre>"
       ],
       "metadata": {},
       "output_type": "display_data",
       "text": [
        "PROGRESS: recommendations finished on 321000/4000000 users. users per second: 1616.45"
       ]
      }
     ]
    },
    {
     "cell_type": "code",
     "collapsed": false,
     "input": [
      "# In order to save to S3, you will need to use your own bucket and your own credentials.\n",
      "# You can set your AWS credentials using the below function:\n",
      "# graphlab.aws.set_credentials(<access_key_id>, <secret_access_key>)\n",
      "\n",
      "recommendations.save('s3://wf001/test', format='csv')\n",
      "\n",
      "\n"
     ],
     "language": "python",
     "metadata": {},
     "outputs": []
    },
    {
     "cell_type": "code",
     "collapsed": false,
     "input": [
      "gl.aws.terminate_EC2()\n"
     ],
     "language": "python",
     "metadata": {},
     "outputs": []
    }
   ],
   "metadata": {}
  }
 ]
}